{
 "cells": [
  {
   "cell_type": "markdown",
   "metadata": {},
   "source": [
    "# What can we learn about API design for data science?\n",
    "\n",
    "There are a lot of different ways of spelling out functionality in APIs and some of them are painful, while others are highly usable. We may be able to learn things about API design by looking at what APIs people are using and how. Help to design good APIs by advising the granularity questions (lots of small objects/functions, or a few with lots or arguments)? \n",
    "\n",
    "- Lines of code\n",
    "    - On average, code cells have 6.69 lines of code (median = 2).\n",
    "- Variables\n",
    "    - On average, there are 13.76 object definitions in a notebook (median = 10).\n",
    "- Parameters\n",
    "    - Across all function calls, there are an average of 1.057 arguments per function. \n",
    "    - On average, a call to a user defined function has 1.65 parameters.\n",
    "    - On average, a call to a non user-defined function has 1.017 parameters.\n",
    "    - This is a statistically significant difference. We are 95% confident that the true average number of parameters in user-defined function calls is between 0.62 and 0.64 higher than the average number of parameters in non user-defined function calls.\n",
    "\n",
    "- Functions\n",
    "    - On average, there are 2.43 function calls per code cell and 32.04 function calls per notebook.\n",
    "    - On average, a user defines 1.84 functions per notebooks. Each user-defined function is called, on average, 1.595 times in a notebook.\n",
    "    - On average, a user uses 8.083 unique non user-defined functions per notebooks. A non user-defined function is used, on average, 1.461 times in a notebook.\n",
    "    - There is a statistically significant difference in the average number of times a function is called between user-defined and non user-defined functions. We are 95% confident that the true average number of calls to a user-defined function is between 0.12 and 0.15 higher than the average number of calls to a non user-defined function.\n",
    "-----\n"
   ]
  },
  {
   "cell_type": "code",
   "execution_count": null,
   "metadata": {},
   "outputs": [],
   "source": [
    "import pandas as pd\n",
    "import numpy as np\n",
    "import matplotlib.pyplot as plt\n",
    "import altair as alt\n",
    "import datetime\n",
    "import math\n",
    "from collections import deque\n",
    "import scipy.stats as st\n",
    "import ast\n",
    "import astpretty\n",
    "\n",
    "\n",
    "import load_data\n",
    "notebooks, cells, owners, readmes, repos = load_data.load(lang = 'python')"
   ]
  },
  {
   "cell_type": "code",
   "execution_count": 3,
   "metadata": {},
   "outputs": [],
   "source": [
    "cells['all_code'] = ['\\n'.join([c for c in code if not c.startswith('%')]) for code in cells['code']]\n",
    "cells['all_markdown'] = [[' '.join(m) for m in mark if type(m) == list] for mark in cells['markdown']]\n",
    "cells['num_display_keys'] = [len(c) for c in cells['display_data_keys']]\n",
    "cells['num_headings'] = [len(c) for c in cells['headings']]\n"
   ]
  },
  {
   "cell_type": "code",
   "execution_count": 4,
   "metadata": {},
   "outputs": [],
   "source": [
    "cells = cells.copy()[cells.cell_type == 'code']\n",
    "flatten = lambda l: [item for sublist in l for item in sublist]\n"
   ]
  },
  {
   "cell_type": "markdown",
   "metadata": {},
   "source": [
    "# How long are code cells?"
   ]
  },
  {
   "cell_type": "code",
   "execution_count": 5,
   "metadata": {},
   "outputs": [
    {
     "data": {
      "text/plain": [
       "mean         6.692396\n",
       "median       2.000000\n",
       "min          0.000000\n",
       "max       1077.000000\n",
       "Name: lines_of_code, dtype: float64"
      ]
     },
     "execution_count": 5,
     "metadata": {},
     "output_type": "execute_result"
    }
   ],
   "source": [
    "cells[cells.cell_type=='code'].lines_of_code.aggregate(['mean','median','min','max'])\n"
   ]
  },
  {
   "cell_type": "code",
   "execution_count": 6,
   "metadata": {},
   "outputs": [
    {
     "data": {
      "image/png": "[encoded data removed]",
      "text/plain": [
       "<Figure size 432x288 with 1 Axes>"
      ]
     },
     "metadata": {
      "needs_background": "light"
     },
     "output_type": "display_data"
    }
   ],
   "source": [
    "plt.hist(cells[cells.cell_type=='code'].lines_of_code, bins = range(50), color = 'teal')\n",
    "plt.xlim(0,50)\n",
    "plt.xlabel('Lines of Code')\n",
    "plt.ylabel('Number of Cells')\n",
    "plt.title('Code Cell Length')\n",
    "plt.show()\n"
   ]
  },
  {
   "cell_type": "markdown",
   "metadata": {},
   "source": [
    "On average, code cells have 6.69 lines of code. The typical code cell has 2 lines of code (median)."
   ]
  },
  {
   "cell_type": "markdown",
   "metadata": {},
   "source": [
    "# What is a typical number of objects in a notebook?"
   ]
  },
  {
   "cell_type": "markdown",
   "metadata": {},
   "source": [
    "Test that my assumptions for what different assign target types are are correct."
   ]
  },
  {
   "cell_type": "code",
   "execution_count": 7,
   "metadata": {},
   "outputs": [],
   "source": [
    "test_code = \"\"\"\n",
    "\n",
    "a = 10\n",
    "x, y = 23, 123\n",
    "x = [1,2,3]\n",
    "x[1] = 3\n",
    "\n",
    "class Snake:\n",
    "    def __init__(self, name='python'):\n",
    "        self.name = name\n",
    "       \n",
    "my_snake = Snake()\n",
    "my_snake.name = 'python3'\n",
    "\n",
    "[x[2], my_snake.name, d] = [1, 2, 3]\n",
    "\n",
    "\"\"\"\n",
    "expected_types = [\n",
    "    ast.Name,       # a = 10\n",
    "    ast.Tuple,      # x, y = 23, 123\n",
    "    ast.Name,       # x = [1,2,3]\n",
    "    ast.Subscript,  # x[1] = 3\n",
    "    ast.Name,       # my_snake = Snake()\n",
    "    ast.Attribute,  # my_snake.name = 'python3'\n",
    "    ast.List        # [b, c, d] = [1, 2, 3]\n",
    "]\n"
   ]
  },
  {
   "cell_type": "code",
   "execution_count": 8,
   "metadata": {},
   "outputs": [],
   "source": [
    "types = []\n",
    "for t in ast.parse(test_code).body:\n",
    "    if type(t) == ast.Assign:\n",
    "        for target in t.targets:\n",
    "            types.append(type(target))\n",
    "assert types == expected_types\n"
   ]
  },
  {
   "cell_type": "markdown",
   "metadata": {},
   "source": [
    "Find all assignments. Make sure to treat tuples and lists as multiple assignments!"
   ]
  },
  {
   "cell_type": "code",
   "execution_count": 9,
   "metadata": {},
   "outputs": [],
   "source": [
    "all_objects = []\n",
    "unprocessed = 0\n",
    "target_types = [ast.Name,ast.Tuple,\n",
    "       ast.Attribute, ast.Subscript,\n",
    "       ast.List\n",
    "]\n",
    "for _, row in cells.iterrows():\n",
    "    objects = []\n",
    "    try:\n",
    "        tree = ast.parse(row['all_code'])\n",
    "    except:\n",
    "        all_objects.append(objects)\n",
    "        unprocessed += 1\n",
    "        continue\n",
    " \n",
    "    for t in tree.body:\n",
    "        if type(t) == ast.Assign:\n",
    "            value_type = type(t.value)\n",
    "            for target in t.targets:\n",
    "                if type(target) in [ast.Tuple, ast.List]:\n",
    "                    for node in ast.walk(target):\n",
    "                        if type(node) == ast.Name:\n",
    "                            objects.append((node.id, type(node), value_type))\n",
    "                else:\n",
    "                    if type(target) == ast.Name:\n",
    "                        for node in ast.walk(target):\n",
    "                            if type(node) == ast.Name:\n",
    "                                objects.append((node.id, type(target), value_type))\n",
    "\n",
    "    all_objects.append(objects)\n",
    "    "
   ]
  },
  {
   "cell_type": "markdown",
   "metadata": {},
   "source": [
    "Make sure we have only have ast.Name type assignments."
   ]
  },
  {
   "cell_type": "code",
   "execution_count": 10,
   "metadata": {},
   "outputs": [
    {
     "data": {
      "text/plain": [
       "array([<class '_ast.Name'>], dtype=object)"
      ]
     },
     "execution_count": 10,
     "metadata": {},
     "output_type": "execute_result"
    }
   ],
   "source": [
    "pd.concat([pd.Series([a[1] for a in objs]) for objs in all_objects]).unique()\n"
   ]
  },
  {
   "cell_type": "markdown",
   "metadata": {},
   "source": [
    "Calculate summary statistics for the number of objects in each notebook. Only consider 'name' assigments as objects. Setting the value in a list or data frame (subscript) and altering the attributes of an object (attribute) should not count as object assignments"
   ]
  },
  {
   "cell_type": "code",
   "execution_count": 11,
   "metadata": {},
   "outputs": [],
   "source": [
    "# Number of objects is the number of unique names that recieved assignments\n",
    "num_objects_cell = pd.DataFrame({'num_objects':[len(set([o[0] for o in obj])) for obj in all_objects], 'file': cells['file']})\n",
    "num_objects_nb = num_objects_cell.groupby('file').sum().reset_index()\n"
   ]
  },
  {
   "cell_type": "code",
   "execution_count": 12,
   "metadata": {},
   "outputs": [
    {
     "name": "stdout",
     "output_type": "stream",
     "text": [
      "On average, there are 13.76 object definitions in a notebook. Median = 10.0.\n"
     ]
    }
   ],
   "source": [
    "mean_objs = num_objects_nb.num_objects.mean()\n",
    "median_objs = num_objects_nb.num_objects.median()\n",
    "print('On average, there are {0} object definitions in a notebook. Median = {1}.'.format(round(mean_objs, 2), median_objs))"
   ]
  },
  {
   "cell_type": "code",
   "execution_count": 13,
   "metadata": {},
   "outputs": [
    {
     "data": {
      "image/png": "[encoded data removed]",
      "text/plain": [
       "<Figure size 432x288 with 1 Axes>"
      ]
     },
     "metadata": {
      "needs_background": "light"
     },
     "output_type": "display_data"
    }
   ],
   "source": [
    "plt.hist(num_objects_nb.num_objects, bins = 50, color='teal')\n",
    "plt.title('What is a typical number of objects in a notebook?')\n",
    "plt.xlabel('Number of Objects')\n",
    "plt.ylabel('Number of Notebooks')\n",
    "plt.show()"
   ]
  },
  {
   "cell_type": "markdown",
   "metadata": {},
   "source": [
    "# How many arguments are typical to pass into functions?"
   ]
  },
  {
   "cell_type": "code",
   "execution_count": 14,
   "metadata": {},
   "outputs": [],
   "source": [
    "'''\n",
    "Get all function calls from a python file\n",
    "\n",
    "The MIT License (MIT)\n",
    "Copyright (c) 2016 Suhas S G <jargnar@gmail.com>\n",
    "'''\n",
    "class FuncCallVisitor(ast.NodeVisitor):\n",
    "    def __init__(self):\n",
    "        self._name = deque()\n",
    "\n",
    "    @property\n",
    "    def name(self):\n",
    "        return '.'.join(self._name)\n",
    "\n",
    "    @name.deleter\n",
    "    def name(self):\n",
    "        self._name.clear()\n",
    "\n",
    "    def visit_Name(self, node):\n",
    "        self._name.appendleft(node.id)\n",
    "\n",
    "    def visit_Attribute(self, node):\n",
    "        try:\n",
    "            self._name.appendleft(node.attr)\n",
    "            self._name.appendleft(node.value.id)\n",
    "        except AttributeError:\n",
    "            self.generic_visit(node)\n",
    "\n",
    "\n",
    "def get_func_calls(tree):\n",
    "    func_calls = []\n",
    "    for node in ast.walk(tree):\n",
    "        if isinstance(node, ast.Call):\n",
    "            callvisitor = FuncCallVisitor()\n",
    "            callvisitor.visit(node.func)\n",
    "            func_calls.append((callvisitor.name, [type(a) for a in node.args]))\n",
    "\n",
    "    return func_calls\n"
   ]
  },
  {
   "cell_type": "code",
   "execution_count": 15,
   "metadata": {},
   "outputs": [],
   "source": [
    "function_use = {\n",
    "    'function': [],\n",
    "    'parameters': [],\n",
    "    'file': []\n",
    "}\n",
    "unprocessed = 0\n",
    "for _, row in cells.iterrows():\n",
    "    cell_funcs = []\n",
    "    try:\n",
    "        tree = ast.parse(row['all_code'])\n",
    "    except:\n",
    "        unprocessed += 1\n",
    "        continue\n",
    "    \n",
    "    for t in tree.body:\n",
    "        for f in get_func_calls(t):\n",
    "            if f[0] not in cell_funcs:\n",
    "                function_use['function'].append(f[0])\n",
    "                function_use['parameters'].append(len(f[1]))\n",
    "                function_use['file'].append(row['file'])\n",
    "                cell_funcs.append(f[0])\n",
    "        \n",
    "function_use_df = pd.DataFrame(function_use)\n"
   ]
  },
  {
   "cell_type": "code",
   "execution_count": 16,
   "metadata": {},
   "outputs": [
    {
     "data": {
      "text/html": [
       "<div>\n",
       "<style scoped>\n",
       "    .dataframe tbody tr th:only-of-type {\n",
       "        vertical-align: middle;\n",
       "    }\n",
       "\n",
       "    .dataframe tbody tr th {\n",
       "        vertical-align: top;\n",
       "    }\n",
       "\n",
       "    .dataframe thead th {\n",
       "        text-align: right;\n",
       "    }\n",
       "</style>\n",
       "<table border=\"1\" class=\"dataframe\">\n",
       "  <thead>\n",
       "    <tr style=\"text-align: right;\">\n",
       "      <th></th>\n",
       "      <th>function</th>\n",
       "      <th>parameters</th>\n",
       "      <th>file</th>\n",
       "    </tr>\n",
       "  </thead>\n",
       "  <tbody>\n",
       "    <tr>\n",
       "      <th>0</th>\n",
       "      <td>sns.set_style</td>\n",
       "      <td>2</td>\n",
       "      <td>danielcorbett..pyoz..scratchwork..notebooks..p...</td>\n",
       "    </tr>\n",
       "    <tr>\n",
       "      <th>1</th>\n",
       "      <td>plt.rcParams.update</td>\n",
       "      <td>1</td>\n",
       "      <td>danielcorbett..pyoz..scratchwork..notebooks..p...</td>\n",
       "    </tr>\n",
       "    <tr>\n",
       "      <th>2</th>\n",
       "      <td>plt.style.use</td>\n",
       "      <td>1</td>\n",
       "      <td>danielcorbett..pyoz..scratchwork..notebooks..p...</td>\n",
       "    </tr>\n",
       "    <tr>\n",
       "      <th>3</th>\n",
       "      <td>np.arange</td>\n",
       "      <td>3</td>\n",
       "      <td>danielcorbett..pyoz..scratchwork..notebooks..p...</td>\n",
       "    </tr>\n",
       "    <tr>\n",
       "      <th>4</th>\n",
       "      <td>plt.subplots</td>\n",
       "      <td>0</td>\n",
       "      <td>danielcorbett..pyoz..scratchwork..notebooks..p...</td>\n",
       "    </tr>\n",
       "  </tbody>\n",
       "</table>\n",
       "</div>"
      ],
      "text/plain": [
       "              function  parameters  \\\n",
       "0        sns.set_style           2   \n",
       "1  plt.rcParams.update           1   \n",
       "2        plt.style.use           1   \n",
       "3            np.arange           3   \n",
       "4         plt.subplots           0   \n",
       "\n",
       "                                                file  \n",
       "0  danielcorbett..pyoz..scratchwork..notebooks..p...  \n",
       "1  danielcorbett..pyoz..scratchwork..notebooks..p...  \n",
       "2  danielcorbett..pyoz..scratchwork..notebooks..p...  \n",
       "3  danielcorbett..pyoz..scratchwork..notebooks..p...  \n",
       "4  danielcorbett..pyoz..scratchwork..notebooks..p...  "
      ]
     },
     "execution_count": 16,
     "metadata": {},
     "output_type": "execute_result"
    }
   ],
   "source": [
    "function_use_df.head()"
   ]
  },
  {
   "cell_type": "code",
   "execution_count": 87,
   "metadata": {},
   "outputs": [
    {
     "name": "stdout",
     "output_type": "stream",
     "text": [
      "Across all function calls, there are an average of 1.057 arguments per function.\n"
     ]
    }
   ],
   "source": [
    "all_mean_params = function_use_df.parameters.mean()\n",
    "print(\"Across all function calls, there are an average of {0} arguments per function.\".format(\n",
    "    round(all_mean_params, 3)\n",
    "))"
   ]
  },
  {
   "cell_type": "code",
   "execution_count": 46,
   "metadata": {},
   "outputs": [
    {
     "data": {
      "application/vnd.vegalite.v3+json": {
       "$schema": "https://vega.github.io/schema/vega-lite/v3.3.0.json",
       "config": {
        "mark": {
         "tooltip": null
        },
        "view": {
         "height": 300,
         "width": 400
        }
       },
       "data": {
        "name": "data-0bd8731dd9b038cbf14b0b85dbb865e4"
       },
       "datasets": {
        "data-0bd8731dd9b038cbf14b0b85dbb865e4": [
         {
          "Arguments": 1,
          "Count": 389295
         },
         {
          "Arguments": 0,
          "Count": 170046
         },
         {
          "Arguments": 2,
          "Count": 120235
         },
         {
          "Arguments": 3,
          "Count": 25007
         },
         {
          "Arguments": 4,
          "Count": 6615
         },
         {
          "Arguments": 5,
          "Count": 2470
         },
         {
          "Arguments": 6,
          "Count": 1114
         },
         {
          "Arguments": 7,
          "Count": 321
         },
         {
          "Arguments": 9,
          "Count": 151
         },
         {
          "Arguments": 8,
          "Count": 139
         },
         {
          "Arguments": 10,
          "Count": 73
         },
         {
          "Arguments": 11,
          "Count": 20
         },
         {
          "Arguments": 12,
          "Count": 17
         },
         {
          "Arguments": 16,
          "Count": 7
         },
         {
          "Arguments": 13,
          "Count": 5
         },
         {
          "Arguments": 15,
          "Count": 5
         },
         {
          "Arguments": 14,
          "Count": 4
         },
         {
          "Arguments": 22,
          "Count": 3
         },
         {
          "Arguments": 17,
          "Count": 2
         },
         {
          "Arguments": 24,
          "Count": 2
         },
         {
          "Arguments": 18,
          "Count": 1
         }
        ]
       },
       "encoding": {
        "x": {
         "field": "Arguments",
         "type": "ordinal"
        },
        "y": {
         "field": "Count",
         "scale": {
          "type": "log"
         },
         "title": "Number of Functions",
         "type": "quantitative"
        }
       },
       "mark": {
        "color": "teal",
        "type": "bar"
       },
       "title": "How many arguments are passed into functions?",
       "width": 300
      },
      "image/png": "[encoded data removed]",
      "text/plain": [
       "<VegaLite 3 object>\n",
       "\n",
       "If you see this message, it means the renderer has not been properly enabled\n",
       "for the frontend that you are using. For more information, see\n",
       "https://altair-viz.github.io/user_guide/troubleshooting.html\n"
      ]
     },
     "execution_count": 46,
     "metadata": {},
     "output_type": "execute_result"
    }
   ],
   "source": [
    "alt.Chart(\n",
    "    function_use_df.parameters.value_counts().reset_index().rename(columns={'index':'Arguments', 'parameters': 'Count'}),\n",
    "    width = 300, title = 'How many arguments are passed into functions?'\n",
    ").mark_bar(color='teal').encode(\n",
    "    alt.X('Arguments:O'), \n",
    "    alt.Y('Count', title = 'Number of Functions', scale = alt.Scale(type='log'))\n",
    ")\n"
   ]
  },
  {
   "cell_type": "markdown",
   "metadata": {},
   "source": [
    "## Parameters of User-defined functions"
   ]
  },
  {
   "cell_type": "code",
   "execution_count": 193,
   "metadata": {},
   "outputs": [],
   "source": [
    "function_defs = {\n",
    "    'function': [],\n",
    "    'parameters':[],\n",
    "    'file': []\n",
    "}\n",
    "\n",
    "for _, row in cells.iterrows():\n",
    "    try:\n",
    "        tree = ast.parse(row['all_code'])\n",
    "    except:\n",
    "        unprocessed += 1\n",
    "        continue\n",
    "    \n",
    "    for t in tree.body:\n",
    "        if type(t) == ast.FunctionDef:\n",
    "            name = t.name\n",
    "            num_args = 0\n",
    "            for a in ast.walk(t.args):\n",
    "                if type(a) == ast.arg:\n",
    "                    num_args += 1\n",
    "            function_defs['function'].append(name)\n",
    "            function_defs['parameters'].append(num_args)\n",
    "            function_defs['file'].append(row.file)\n",
    "            \n",
    "        elif type(t) == ast.ClassDef:\n",
    "            name = t.name\n",
    "            num_args = 0\n",
    "            for b in t.body:\n",
    "                if type(b) == ast.FunctionDef and b.name == '__init__':\n",
    "                    for a in ast.walk(b.args):\n",
    "                        if type(a) == ast.arg and a.arg != 'self':\n",
    "                            num_args += 1\n",
    "                elif type(b) == ast.FunctionDef:\n",
    "                    name_b = name+\".\"+b.name\n",
    "                    num_args_b = 0\n",
    "                    for a in ast.walk(b.args):\n",
    "                        if type(a) == ast.arg and a.arg != 'self':\n",
    "                            num_args_b += 1\n",
    "                    function_defs['function'].append(name_b)\n",
    "                    function_defs['parameters'].append(num_args_b)\n",
    "                    function_defs['file'].append(row.file)\n",
    "                    \n",
    "            function_defs['function'].append(name) \n",
    "            function_defs['parameters'].append(num_args)\n",
    "            function_defs['file'].append(row.file)\n",
    "            \n",
    "function_defs_df = pd.DataFrame(function_defs)\n",
    "            "
   ]
  },
  {
   "cell_type": "code",
   "execution_count": 194,
   "metadata": {},
   "outputs": [
    {
     "data": {
      "text/html": [
       "<div>\n",
       "<style scoped>\n",
       "    .dataframe tbody tr th:only-of-type {\n",
       "        vertical-align: middle;\n",
       "    }\n",
       "\n",
       "    .dataframe tbody tr th {\n",
       "        vertical-align: top;\n",
       "    }\n",
       "\n",
       "    .dataframe thead th {\n",
       "        text-align: right;\n",
       "    }\n",
       "</style>\n",
       "<table border=\"1\" class=\"dataframe\">\n",
       "  <thead>\n",
       "    <tr style=\"text-align: right;\">\n",
       "      <th></th>\n",
       "      <th>function</th>\n",
       "      <th>parameters</th>\n",
       "      <th>file</th>\n",
       "    </tr>\n",
       "  </thead>\n",
       "  <tbody>\n",
       "    <tr>\n",
       "      <th>0</th>\n",
       "      <td>getRouteInformation</td>\n",
       "      <td>1</td>\n",
       "      <td>douglaswinstonr..rideshare_apps_price_mining.....</td>\n",
       "    </tr>\n",
       "    <tr>\n",
       "      <th>1</th>\n",
       "      <td>identifyProduct</td>\n",
       "      <td>1</td>\n",
       "      <td>douglaswinstonr..rideshare_apps_price_mining.....</td>\n",
       "    </tr>\n",
       "    <tr>\n",
       "      <th>2</th>\n",
       "      <td>extractUberPrices</td>\n",
       "      <td>1</td>\n",
       "      <td>douglaswinstonr..rideshare_apps_price_mining.....</td>\n",
       "    </tr>\n",
       "    <tr>\n",
       "      <th>3</th>\n",
       "      <td>extractUberPricesNotJuntos</td>\n",
       "      <td>1</td>\n",
       "      <td>douglaswinstonr..rideshare_apps_price_mining.....</td>\n",
       "    </tr>\n",
       "    <tr>\n",
       "      <th>4</th>\n",
       "      <td>extractUberPricesJuntos</td>\n",
       "      <td>1</td>\n",
       "      <td>douglaswinstonr..rideshare_apps_price_mining.....</td>\n",
       "    </tr>\n",
       "  </tbody>\n",
       "</table>\n",
       "</div>"
      ],
      "text/plain": [
       "                     function  parameters  \\\n",
       "0         getRouteInformation           1   \n",
       "1             identifyProduct           1   \n",
       "2           extractUberPrices           1   \n",
       "3  extractUberPricesNotJuntos           1   \n",
       "4     extractUberPricesJuntos           1   \n",
       "\n",
       "                                                file  \n",
       "0  douglaswinstonr..rideshare_apps_price_mining.....  \n",
       "1  douglaswinstonr..rideshare_apps_price_mining.....  \n",
       "2  douglaswinstonr..rideshare_apps_price_mining.....  \n",
       "3  douglaswinstonr..rideshare_apps_price_mining.....  \n",
       "4  douglaswinstonr..rideshare_apps_price_mining.....  "
      ]
     },
     "execution_count": 194,
     "metadata": {},
     "output_type": "execute_result"
    }
   ],
   "source": [
    "function_defs_df.head()"
   ]
  },
  {
   "cell_type": "code",
   "execution_count": 195,
   "metadata": {},
   "outputs": [],
   "source": [
    "all_df = function_defs_df.groupby('file')['function'].aggregate(lambda x: list(x)).reset_index().rename(\n",
    "    columns={'function':'user_funcs'}).merge(function_use_df, on = 'file')"
   ]
  },
  {
   "cell_type": "code",
   "execution_count": 196,
   "metadata": {},
   "outputs": [],
   "source": [
    "user_idxs = [row.function in row.user_funcs for _, row in all_df.iterrows()]\n",
    "user_df = all_df[user_idxs]"
   ]
  },
  {
   "cell_type": "code",
   "execution_count": 197,
   "metadata": {},
   "outputs": [
    {
     "name": "stdout",
     "output_type": "stream",
     "text": [
      "On average, a call to a user defined function has 1.65 parameters.\n"
     ]
    }
   ],
   "source": [
    "user_mean_params = user_df.parameters.mean()\n",
    "print(\"On average, a call to a user defined function has {0} parameters.\".format(\n",
    "    round(user_mean_params, 2)\n",
    "))"
   ]
  },
  {
   "cell_type": "code",
   "execution_count": 198,
   "metadata": {},
   "outputs": [
    {
     "data": {
      "application/vnd.vegalite.v3+json": {
       "$schema": "https://vega.github.io/schema/vega-lite/v3.3.0.json",
       "config": {
        "mark": {
         "tooltip": null
        },
        "view": {
         "height": 300,
         "width": 400
        }
       },
       "data": {
        "name": "data-875345a2d1eb441b0c3f1cf8ac426215"
       },
       "datasets": {
        "data-875345a2d1eb441b0c3f1cf8ac426215": [
         {
          "Arguments": 1,
          "Count": 19165
         },
         {
          "Arguments": 2,
          "Count": 15974
         },
         {
          "Arguments": 0,
          "Count": 6999
         },
         {
          "Arguments": 3,
          "Count": 4597
         },
         {
          "Arguments": 4,
          "Count": 2811
         },
         {
          "Arguments": 5,
          "Count": 698
         },
         {
          "Arguments": 6,
          "Count": 281
         },
         {
          "Arguments": 7,
          "Count": 157
         },
         {
          "Arguments": 9,
          "Count": 63
         },
         {
          "Arguments": 8,
          "Count": 37
         },
         {
          "Arguments": 10,
          "Count": 21
         },
         {
          "Arguments": 12,
          "Count": 9
         },
         {
          "Arguments": 11,
          "Count": 8
         },
         {
          "Arguments": 15,
          "Count": 2
         },
         {
          "Arguments": 17,
          "Count": 1
         },
         {
          "Arguments": 13,
          "Count": 1
         },
         {
          "Arguments": 14,
          "Count": 1
         },
         {
          "Arguments": 24,
          "Count": 1
         }
        ]
       },
       "encoding": {
        "x": {
         "field": "Arguments",
         "type": "ordinal"
        },
        "y": {
         "field": "Count",
         "scale": {
          "type": "log"
         },
         "title": "Number of Function Calls",
         "type": "quantitative"
        }
       },
       "mark": {
        "color": "teal",
        "type": "bar"
       },
       "title": "How many arguments are passed into user defined functions?",
       "width": 300
      },
      "image/png": "[encoded data removed]",
      "text/plain": [
       "<VegaLite 3 object>\n",
       "\n",
       "If you see this message, it means the renderer has not been properly enabled\n",
       "for the frontend that you are using. For more information, see\n",
       "https://altair-viz.github.io/user_guide/troubleshooting.html\n"
      ]
     },
     "execution_count": 198,
     "metadata": {},
     "output_type": "execute_result"
    }
   ],
   "source": [
    "alt.Chart(\n",
    "    user_df.parameters.value_counts().reset_index().rename(columns={'index':'Arguments', 'parameters': 'Count'}),\n",
    "    width = 300, title = 'How many arguments are passed into user defined functions?'\n",
    ").mark_bar(color='teal').encode(\n",
    "    alt.X('Arguments:O'), \n",
    "    alt.Y('Count', title = 'Number of Function Calls', scale = alt.Scale(type='log'))\n",
    ")"
   ]
  },
  {
   "cell_type": "markdown",
   "metadata": {},
   "source": [
    "## Parameters of Non user-defined functions"
   ]
  },
  {
   "cell_type": "code",
   "execution_count": 199,
   "metadata": {},
   "outputs": [],
   "source": [
    "non_user_idxs = [row.function not in row.user_funcs for _, row in all_df.iterrows()]\n",
    "non_user_df = all_df[non_user_idxs]"
   ]
  },
  {
   "cell_type": "code",
   "execution_count": 200,
   "metadata": {},
   "outputs": [
    {
     "data": {
      "text/html": [
       "<div>\n",
       "<style scoped>\n",
       "    .dataframe tbody tr th:only-of-type {\n",
       "        vertical-align: middle;\n",
       "    }\n",
       "\n",
       "    .dataframe tbody tr th {\n",
       "        vertical-align: top;\n",
       "    }\n",
       "\n",
       "    .dataframe thead th {\n",
       "        text-align: right;\n",
       "    }\n",
       "</style>\n",
       "<table border=\"1\" class=\"dataframe\">\n",
       "  <thead>\n",
       "    <tr style=\"text-align: right;\">\n",
       "      <th></th>\n",
       "      <th>file</th>\n",
       "      <th>user_funcs</th>\n",
       "      <th>function</th>\n",
       "      <th>parameters</th>\n",
       "    </tr>\n",
       "  </thead>\n",
       "  <tbody>\n",
       "    <tr>\n",
       "      <th>0</th>\n",
       "      <td>0225kazuki..lstm..seq2seq_test.ipynb</td>\n",
       "      <td>[CharTable.encode, CharTable.decode, CharTable...</td>\n",
       "      <td>sorted</td>\n",
       "      <td>1</td>\n",
       "    </tr>\n",
       "    <tr>\n",
       "      <th>1</th>\n",
       "      <td>0225kazuki..lstm..seq2seq_test.ipynb</td>\n",
       "      <td>[CharTable.encode, CharTable.decode, CharTable...</td>\n",
       "      <td>dict</td>\n",
       "      <td>1</td>\n",
       "    </tr>\n",
       "    <tr>\n",
       "      <th>2</th>\n",
       "      <td>0225kazuki..lstm..seq2seq_test.ipynb</td>\n",
       "      <td>[CharTable.encode, CharTable.decode, CharTable...</td>\n",
       "      <td>np.zeros</td>\n",
       "      <td>1</td>\n",
       "    </tr>\n",
       "    <tr>\n",
       "      <th>3</th>\n",
       "      <td>0225kazuki..lstm..seq2seq_test.ipynb</td>\n",
       "      <td>[CharTable.encode, CharTable.decode, CharTable...</td>\n",
       "      <td>enumerate</td>\n",
       "      <td>1</td>\n",
       "    </tr>\n",
       "    <tr>\n",
       "      <th>4</th>\n",
       "      <td>0225kazuki..lstm..seq2seq_test.ipynb</td>\n",
       "      <td>[CharTable.encode, CharTable.decode, CharTable...</td>\n",
       "      <td>join</td>\n",
       "      <td>1</td>\n",
       "    </tr>\n",
       "  </tbody>\n",
       "</table>\n",
       "</div>"
      ],
      "text/plain": [
       "                                   file  \\\n",
       "0  0225kazuki..lstm..seq2seq_test.ipynb   \n",
       "1  0225kazuki..lstm..seq2seq_test.ipynb   \n",
       "2  0225kazuki..lstm..seq2seq_test.ipynb   \n",
       "3  0225kazuki..lstm..seq2seq_test.ipynb   \n",
       "4  0225kazuki..lstm..seq2seq_test.ipynb   \n",
       "\n",
       "                                          user_funcs   function  parameters  \n",
       "0  [CharTable.encode, CharTable.decode, CharTable...     sorted           1  \n",
       "1  [CharTable.encode, CharTable.decode, CharTable...       dict           1  \n",
       "2  [CharTable.encode, CharTable.decode, CharTable...   np.zeros           1  \n",
       "3  [CharTable.encode, CharTable.decode, CharTable...  enumerate           1  \n",
       "4  [CharTable.encode, CharTable.decode, CharTable...       join           1  "
      ]
     },
     "execution_count": 200,
     "metadata": {},
     "output_type": "execute_result"
    }
   ],
   "source": [
    "non_user_df.head()"
   ]
  },
  {
   "cell_type": "code",
   "execution_count": 201,
   "metadata": {},
   "outputs": [
    {
     "name": "stdout",
     "output_type": "stream",
     "text": [
      "On average, a call to a non user-defined function has 1.017 parameters.\n"
     ]
    }
   ],
   "source": [
    "non_user_mean_params = non_user_df.parameters.mean()\n",
    "print(\"On average, a call to a non user-defined function has {0} parameters.\".format(\n",
    "    round(non_user_mean_params, 3)\n",
    "))"
   ]
  },
  {
   "cell_type": "code",
   "execution_count": 202,
   "metadata": {},
   "outputs": [
    {
     "data": {
      "application/vnd.vegalite.v3+json": {
       "$schema": "https://vega.github.io/schema/vega-lite/v3.3.0.json",
       "config": {
        "mark": {
         "tooltip": null
        },
        "view": {
         "height": 300,
         "width": 400
        }
       },
       "data": {
        "name": "data-d4905e66aee49072c43126a00649691e"
       },
       "datasets": {
        "data-d4905e66aee49072c43126a00649691e": [
         {
          "Arguments": 1,
          "Count": 232205
         },
         {
          "Arguments": 0,
          "Count": 98338
         },
         {
          "Arguments": 2,
          "Count": 64981
         },
         {
          "Arguments": 3,
          "Count": 11210
         },
         {
          "Arguments": 4,
          "Count": 2383
         },
         {
          "Arguments": 5,
          "Count": 1453
         },
         {
          "Arguments": 6,
          "Count": 598
         },
         {
          "Arguments": 7,
          "Count": 105
         },
         {
          "Arguments": 9,
          "Count": 60
         },
         {
          "Arguments": 8,
          "Count": 43
         },
         {
          "Arguments": 10,
          "Count": 25
         },
         {
          "Arguments": 11,
          "Count": 10
         },
         {
          "Arguments": 16,
          "Count": 7
         },
         {
          "Arguments": 12,
          "Count": 4
         },
         {
          "Arguments": 13,
          "Count": 4
         },
         {
          "Arguments": 15,
          "Count": 2
         },
         {
          "Arguments": 17,
          "Count": 1
         },
         {
          "Arguments": 14,
          "Count": 1
         },
         {
          "Arguments": 18,
          "Count": 1
         }
        ]
       },
       "encoding": {
        "x": {
         "field": "Arguments",
         "type": "ordinal"
        },
        "y": {
         "field": "Count",
         "scale": {
          "type": "log"
         },
         "title": "Number of Function Calls",
         "type": "quantitative"
        }
       },
       "mark": {
        "color": "teal",
        "type": "bar"
       },
       "title": "How many arguments are passed into non user-defined functions?",
       "width": 300
      },
      "image/png": "[encoded data removed]",
      "text/plain": [
       "<VegaLite 3 object>\n",
       "\n",
       "If you see this message, it means the renderer has not been properly enabled\n",
       "for the frontend that you are using. For more information, see\n",
       "https://altair-viz.github.io/user_guide/troubleshooting.html\n"
      ]
     },
     "execution_count": 202,
     "metadata": {},
     "output_type": "execute_result"
    }
   ],
   "source": [
    "alt.Chart(\n",
    "    non_user_df.parameters.value_counts().reset_index().rename(columns = {'index':'Arguments','parameters':'Count'}),\n",
    "    width = 300, title = 'How many arguments are passed into non user-defined functions?'\n",
    ").mark_bar(color='teal').encode(\n",
    "    alt.X('Arguments:O'), \n",
    "    alt.Y('Count', title = 'Number of Function Calls', scale = alt.Scale(type='log'))\n",
    ")"
   ]
  },
  {
   "cell_type": "markdown",
   "metadata": {},
   "source": [
    "## On average, are there the same number of parameters in user-defined and non user-defined functions?"
   ]
  },
  {
   "cell_type": "code",
   "execution_count": 233,
   "metadata": {},
   "outputs": [
    {
     "name": "stdout",
     "output_type": "stream",
     "text": [
      "110.488 462255 0.0\n"
     ]
    }
   ],
   "source": [
    "xbar_non = non_user_df.parameters.mean()\n",
    "n_non = len(non_user_df)\n",
    "s2_non = non_user_df.parameters.var()\n",
    "\n",
    "xbar_user = user_df.parameters.mean()\n",
    "n_user = len(user_df)\n",
    "s2_user = user_df.parameters.var()\n",
    "\n",
    "t = (xbar_user - xbar_non) / math.sqrt(s2_non/n_non + s2_user/n_user)\n",
    "df = n_non + n_user - 2\n",
    "\n",
    "if t > 0:\n",
    "    p_value = 1-st.t.cdf(t, df)\n",
    "else:\n",
    "    p_value = st.t.cdf(t, df)\n",
    "    \n",
    "print(round(t, 3), df, p_value)\n"
   ]
  },
  {
   "cell_type": "markdown",
   "metadata": {},
   "source": [
    "With a t statistic of 100.103 and a p-value of 0, there is very strong evidence to reject the null hypothesis and conclude that on average, the number of parameters in a user-defined function is different from that of a non user-defined function."
   ]
  },
  {
   "cell_type": "code",
   "execution_count": 234,
   "metadata": {},
   "outputs": [
    {
     "name": "stdout",
     "output_type": "stream",
     "text": [
      "We are 95% confident that the true average number of parameters in user-defined function calls is between 0.62 and 0.64 \n",
      "higher than the average number of parameters in non user-defined function calls.\n"
     ]
    }
   ],
   "source": [
    "lower = (xbar_user - xbar_non) - st.t.ppf(0.975, df)*math.sqrt(s2_non/n_non + s2_user/n_user)\n",
    "upper = (xbar_user - xbar_non) + st.t.ppf(0.975, df)*math.sqrt(s2_non/n_non + s2_user/n_user)\n",
    "print(\"\"\"We are 95% confident that the true average number of parameters in user-defined function calls is between {} and {} \n",
    "higher than the average number of parameters in non user-defined function calls.\"\"\".format(round(lower, 2), round(upper, 2)))\n"
   ]
  },
  {
   "cell_type": "markdown",
   "metadata": {},
   "source": [
    "# How many functions are called?"
   ]
  },
  {
   "cell_type": "code",
   "execution_count": 205,
   "metadata": {},
   "outputs": [],
   "source": [
    "func_counts = function_use_df.groupby('file')['function'].count().reset_index().merge(\n",
    "    cells.groupby('file')['cell_id'].count().reset_index().rename(columns={'cell_id':'num_cells'}),\n",
    "    on = 'file'\n",
    ")"
   ]
  },
  {
   "cell_type": "code",
   "execution_count": 206,
   "metadata": {},
   "outputs": [
    {
     "name": "stdout",
     "output_type": "stream",
     "text": [
      "On average, there are 2.43 function calls per code cell.\n",
      "Median = 1.73.\n"
     ]
    }
   ],
   "source": [
    "mean_by_cell = (func_counts.function/func_counts.num_cells).mean()\n",
    "med_by_cell = (func_counts.function/func_counts.num_cells).median()\n",
    "print(\"On average, there are {0} function calls per code cell.\".format(round(mean_by_cell, 2)))\n",
    "print(\"Median = {0}.\".format(round(med_by_cell, 2)))\n"
   ]
  },
  {
   "cell_type": "code",
   "execution_count": 207,
   "metadata": {},
   "outputs": [
    {
     "name": "stdout",
     "output_type": "stream",
     "text": [
      "On average, there are 32.04 function calls per notebook.\n",
      "Median = 26.0.\n"
     ]
    }
   ],
   "source": [
    "mean_by_nb = func_counts.function.mean()\n",
    "med_by_nb = func_counts.function.median()\n",
    "print(\"On average, there are {0} function calls per notebook.\".format(round(mean_by_nb, 2)))\n",
    "print(\"Median = {0}.\".format(round(med_by_nb, 2)))\n"
   ]
  },
  {
   "cell_type": "markdown",
   "metadata": {},
   "source": [
    "## How many user-defined functions are in a notebook?"
   ]
  },
  {
   "cell_type": "code",
   "execution_count": 208,
   "metadata": {},
   "outputs": [],
   "source": [
    "counts_by_nb = function_defs_df.groupby('file')['function'].count().reset_index()\n",
    "\n",
    "to_append = {'file':[], 'function':[]}\n",
    "for file in cells['file'].unique():\n",
    "    if file not in counts_by_nb['file']:\n",
    "        to_append['file'].append(file)\n",
    "        to_append['function'].append(0)\n",
    "        \n",
    "counts_by_nb = pd.concat([\n",
    "    counts_by_nb, \n",
    "    pd.DataFrame(to_append)\n",
    "])"
   ]
  },
  {
   "cell_type": "code",
   "execution_count": 209,
   "metadata": {},
   "outputs": [
    {
     "name": "stdout",
     "output_type": "stream",
     "text": [
      "On average, a user defines 1.84 functions per notebook.\n",
      "Median = 0.0.\n",
      "\n",
      "On average, within a notebook that has user defined functions, a user defines 5.85 functions per notebook.\n",
      "Median = 3.0.\n"
     ]
    }
   ],
   "source": [
    "mean_by_nb = counts_by_nb.function.mean()\n",
    "med_by_nb = counts_by_nb.function.median()\n",
    "print(\"On average, a user defines {0} functions per notebook.\".format(round(mean_by_nb,2)))\n",
    "print(\"Median = {0}.\".format(round(med_by_nb, 2)))\n",
    "\n",
    "mean_by_fun_nb = counts_by_nb[counts_by_nb.function != 0].function.mean()\n",
    "med_by_fun_nb = counts_by_nb[counts_by_nb.function != 0].function.median()\n",
    "print((\"\\nOn average, within a notebook that has \"+\n",
    "      \"user defined functions, a user defines {0} functions per notebook.\").format(round(mean_by_fun_nb,2)))\n",
    "print(\"Median = {0}.\".format(round(med_by_fun_nb, 2)))"
   ]
  },
  {
   "cell_type": "code",
   "execution_count": 210,
   "metadata": {},
   "outputs": [
    {
     "data": {
      "image/png": "[encoded data removed]",
      "text/plain": [
       "<Figure size 432x288 with 1 Axes>"
      ]
     },
     "metadata": {
      "needs_background": "light"
     },
     "output_type": "display_data"
    }
   ],
   "source": [
    "plt.hist(counts_by_nb.function, bins = 20, color = 'teal')\n",
    "plt.title('User-Defined Functions per Notebook')\n",
    "plt.xlabel('Number of Functions')\n",
    "plt.ylabel('Number of Notebooks')\n",
    "plt.show()\n"
   ]
  },
  {
   "cell_type": "markdown",
   "metadata": {},
   "source": [
    "## How many times is each user-defined function called in a notebook?"
   ]
  },
  {
   "cell_type": "code",
   "execution_count": 211,
   "metadata": {},
   "outputs": [
    {
     "name": "stdout",
     "output_type": "stream",
     "text": [
      "On average, a user defined function is called 1.595 times in the notebook its defined.\n",
      "Median = 1.0\n"
     ]
    }
   ],
   "source": [
    "user_uses = user_df.groupby(['file','function'])['parameters'].count().reset_index().rename(columns={'parameters':'count'})\n",
    "user_uses_mean = user_uses['count'].mean()\n",
    "user_uses_med = user_uses['count'].median()\n",
    "\n",
    "print('On average, a user defined function is called {0} times in the notebook its defined.'.format(\n",
    "    round(user_uses_mean, 3)\n",
    "))\n",
    "print('Median = {0}'.format(user_uses_med))"
   ]
  },
  {
   "cell_type": "code",
   "execution_count": 212,
   "metadata": {},
   "outputs": [
    {
     "data": {
      "image/png": "[encoded data removed]",
      "text/plain": [
       "<Figure size 432x288 with 1 Axes>"
      ]
     },
     "metadata": {
      "needs_background": "light"
     },
     "output_type": "display_data"
    }
   ],
   "source": [
    "plt.hist(user_uses['count'], bins = range(10), color = 'teal')\n",
    "plt.title('User-Defined Function Calls per Notebook')\n",
    "plt.xlabel('Number of Calls')\n",
    "plt.xlim(1,10)\n",
    "plt.ylabel('Number of Functions')\n",
    "plt.show()"
   ]
  },
  {
   "cell_type": "markdown",
   "metadata": {},
   "source": [
    "## How many non user-defined functions are used?"
   ]
  },
  {
   "cell_type": "code",
   "execution_count": 213,
   "metadata": {},
   "outputs": [],
   "source": [
    "non_user_uses = non_user_df.groupby(['file','function'])['parameters'].count().reset_index().rename(\n",
    "    columns={'parameters':'count'}\n",
    ")"
   ]
  },
  {
   "cell_type": "code",
   "execution_count": 214,
   "metadata": {},
   "outputs": [],
   "source": [
    "non_user_counts = non_user_uses.groupby(['file'])['function'].count().reset_index()\n",
    "\n",
    "to_append = {\n",
    "    'file': [],\n",
    "    'function': []\n",
    "}\n",
    "\n",
    "for file in notebooks.file.unique():\n",
    "    if file not in non_user_counts.file:\n",
    "        to_append['file'].append(file)\n",
    "        to_append['function'].append(0)\n",
    "\n",
    "non_user_counts = pd.concat([non_user_counts, pd.DataFrame(to_append)])"
   ]
  },
  {
   "cell_type": "code",
   "execution_count": 215,
   "metadata": {},
   "outputs": [
    {
     "name": "stdout",
     "output_type": "stream",
     "text": [
      "On average, a notebook uses 8.083 distinct non user-defined functions.\n",
      "Median = 0.0.\n",
      "\n",
      "On average, a notebook that uses non user-defined functions 25.944 distinct non user-defined functions.\n",
      "Median = 22.0.\n",
      "\n",
      "31% of notebooks use at least one non user-defined function.\n"
     ]
    }
   ],
   "source": [
    "mean_by_nb = non_user_counts.function.mean()\n",
    "med_by_nb = non_user_counts.function.median()\n",
    "\n",
    "print(\"On average, a notebook uses {0} distinct non user-defined functions.\".format(\n",
    "    round(mean_by_nb, 3)\n",
    "))\n",
    "print(\"Median = {0}.\".format(med_by_nb))\n",
    "\n",
    "mean_by_fun_nb = non_user_counts[non_user_counts.function != 0].function.mean()\n",
    "med_by_fun_nb = non_user_counts[non_user_counts.function != 0].function.median()\n",
    "\n",
    "print(\"\\nOn average, a notebook that uses non user-defined functions {0} distinct non user-defined functions.\".format(\n",
    "    round(mean_by_fun_nb, 3)\n",
    "))\n",
    "print(\"Median = {0}.\".format(med_by_fun_nb))\n",
    "\n",
    "prop_use = sum(non_user_counts.function != 0) / len(non_user_counts)\n",
    "print('\\n{0}% of notebooks use at least one non user-defined function.'.format(round(100*prop_use), 2))"
   ]
  },
  {
   "cell_type": "code",
   "execution_count": 216,
   "metadata": {},
   "outputs": [
    {
     "data": {
      "image/png": "[encoded data removed]",
      "text/plain": [
       "<Figure size 432x288 with 1 Axes>"
      ]
     },
     "metadata": {
      "needs_background": "light"
     },
     "output_type": "display_data"
    }
   ],
   "source": [
    "plt.hist(non_user_counts.function, color = 'teal')\n",
    "plt.title('User-Defined Functions per Notebook')\n",
    "plt.xlabel('Number of Functions')\n",
    "plt.ylabel('Number of Notebooks')\n",
    "plt.show()\n"
   ]
  },
  {
   "cell_type": "markdown",
   "metadata": {},
   "source": [
    "## How many times is each non user-defined function called in a notebook?"
   ]
  },
  {
   "cell_type": "code",
   "execution_count": 217,
   "metadata": {},
   "outputs": [
    {
     "name": "stdout",
     "output_type": "stream",
     "text": [
      "On average, a non user-defined function is used 1.461 times in a notebook.\n",
      "Median = 1.0.\n"
     ]
    }
   ],
   "source": [
    "mean_by_nb = non_user_uses['count'].mean()\n",
    "med_by_nb = non_user_uses['count'].median()\n",
    "\n",
    "print(\"On average, a non user-defined function is used {0} times in a notebook.\".format(\n",
    "    round(mean_by_nb, 3)\n",
    "))\n",
    "print(\"Median = {0}.\".format(med_by_nb))"
   ]
  },
  {
   "cell_type": "code",
   "execution_count": 218,
   "metadata": {},
   "outputs": [
    {
     "data": {
      "image/png": "[encoded data removed]",
      "text/plain": [
       "<Figure size 432x288 with 1 Axes>"
      ]
     },
     "metadata": {
      "needs_background": "light"
     },
     "output_type": "display_data"
    }
   ],
   "source": [
    "plt.hist(non_user_uses['count'], bins = range(10), color = 'teal')\n",
    "plt.title('Non User-Defined Function Calls per Notebook')\n",
    "plt.xlabel('Number of Calls')\n",
    "plt.xlim(1,10)\n",
    "plt.ylabel('Number of Functions')\n",
    "plt.show()\n"
   ]
  },
  {
   "cell_type": "markdown",
   "metadata": {},
   "source": [
    "## On average, are there the same number of uses of user-defined and non user-defined functions?"
   ]
  },
  {
   "cell_type": "code",
   "execution_count": 231,
   "metadata": {},
   "outputs": [
    {
     "name": "stdout",
     "output_type": "stream",
     "text": [
      "18.182 313489 0.0\n"
     ]
    }
   ],
   "source": [
    "xbar_non = non_user_uses['count'].mean()\n",
    "n_non = len(non_user_uses)\n",
    "s2_non = non_user_uses['count'].var()\n",
    "\n",
    "xbar_user = user_uses['count'].mean()\n",
    "n_user = len(user_uses)\n",
    "s2_user = user_uses['count'].var()\n",
    "\n",
    "t = (xbar_user - xbar_non) / math.sqrt(s2_non/n_non + s2_user/n_user)\n",
    "df = n_non + n_user - 2\n",
    "\n",
    "if t > 0:\n",
    "    p_value = 1-st.t.cdf(t, df)\n",
    "else:\n",
    "    p_value = st.t.cdf(t, df)\n",
    "    \n",
    "print(round(t, 3), df, p_value)\n"
   ]
  },
  {
   "cell_type": "markdown",
   "metadata": {},
   "source": [
    "With a t statistic of 18.18 and a p-value of 0, there is very strong evidence to reject the null hypothesis and conclude that on average, the number of uses of a user-defined function is different from that of a non user-defined function."
   ]
  },
  {
   "cell_type": "code",
   "execution_count": 232,
   "metadata": {},
   "outputs": [
    {
     "name": "stdout",
     "output_type": "stream",
     "text": [
      "We are 95% confident that the true average number of calls to a user-defined function is between 0.12 and 0.15 \n",
      "higher than the average number of calls to a non user-defined function.\n"
     ]
    }
   ],
   "source": [
    "lower = (xbar_user - xbar_non) - st.t.ppf(0.975, df)*math.sqrt(s2_non/n_non + s2_user/n_user)\n",
    "upper = (xbar_user - xbar_non) + st.t.ppf(0.975, df)*math.sqrt(s2_non/n_non + s2_user/n_user)\n",
    "print(\"\"\"We are 95% confident that the true average number of calls to a user-defined function is between {} and {} \n",
    "higher than the average number of calls to a non user-defined function.\"\"\".format(round(lower, 2), round(upper, 2)))\n"
   ]
  },
  {
   "cell_type": "markdown",
   "metadata": {},
   "source": [
    "<center> <a href = 8_Struggles.ipynb>Struggles &lt;</a> | </center>"
   ]
  }
 ],
 "metadata": {
  "kernelspec": {
   "display_name": "Python 3",
   "language": "python",
   "name": "python3"
  },
  "language_info": {
   "codemirror_mode": {
    "name": "ipython",
    "version": 3
   },
   "file_extension": ".py",
   "mimetype": "text/x-python",
   "name": "python",
   "nbconvert_exporter": "python",
   "pygments_lexer": "ipython3",
   "version": "3.7.3"
  },
  "toc-autonumbering": false
 },
 "nbformat": 4,
 "nbformat_minor": 4
}
