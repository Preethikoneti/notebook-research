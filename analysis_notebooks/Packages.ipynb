{
 "cells": [
  {
   "cell_type": "markdown",
   "metadata": {},
   "source": [
    "[Collaboration &lt;](Collaboration.ipynb) | [&gt; ML Frameworks](Frameworks.ipynb)"
   ]
  },
  {
   "cell_type": "markdown",
   "metadata": {},
   "source": [
    "# Other Python Packages \n",
    "What other Python packages are people using and how is that usage related to the ML framework choice. For this analysis we only look at notebooks written in Python. \n",
    "\n",
    "## Results Summary:\n",
    "- Numpy, pandas, and matplotlib are the three most common imports.\n",
    "- Frequently co-occuring (correlation > 0.3): \n",
    "    - numpy and matplotlib, r = 0.56\n",
    "    - numpy and pandas, r = 0.31\n",
    "    - numpy and sklearn, r = 0.32\n",
    "    - matplotlib and seaborn, r = 0.34\n",
    "    - pandas and sklearn, r = 0.36\n",
    "    - pandas and seaborn, r = 0.37\n",
    "    - sklearn and os, r = 0.35\n",
    "    - sklearn and re, r = 0.51\n",
    "    - os and re, r = 0.34\n",
    "    - time and datetime, r = 0.61\n",
    "\n",
    "\n",
    "- a -> b means that if a is imported into a notebook, b has at least a 90% chance of also being imported into that notebook. Further, the probability that both a and b are imported into a notebook is at least 10%. A lot of imports (and sets of imports) have strong implications that numpy will also be imported. This indicates that a lot of packages depend on numpy. Further, it seems that seaborn depends on seaborn, but the reverse is not true. A list of association rules is at the bottom of this notebook\n",
    "\n",
    "- The use of numpy does not seem to have been affected by their plan to get rid of Python 2 support.\n",
    "\n",
    "----------"
   ]
  },
  {
   "cell_type": "markdown",
   "metadata": {},
   "source": [
    "# Import Packages & Load Data"
   ]
  },
  {
   "cell_type": "code",
   "execution_count": 1,
   "metadata": {},
   "outputs": [],
   "source": [
    "import pandas as pd\n",
    "import numpy as np\n",
    "import matplotlib.pyplot as plt\n",
    "import math\n",
    "import scipy.stats\n",
    "import pickle\n",
    "import datetime\n",
    "from apyori import apriori\n",
    "import re\n",
    "\n",
    "\n",
    "import load_data"
   ]
  },
  {
   "cell_type": "markdown",
   "metadata": {},
   "source": [
    "Load dataframe"
   ]
  },
  {
   "cell_type": "code",
   "execution_count": 2,
   "metadata": {},
   "outputs": [
    {
     "name": "stdout",
     "output_type": "stream",
     "text": [
      "Notebooks loaded in 0:00:35.461090\n",
      "Repos loaded in 0:00:05.758682\n"
     ]
    }
   ],
   "source": [
    "notebooks_temp = load_data.load_notebooks()\n",
    "repos_temp = load_data.load_repos()"
   ]
  },
  {
   "cell_type": "markdown",
   "metadata": {},
   "source": [
    "Load aggregated dataframe. Code used to create it is in [aggregate.py](aggregate.py)."
   ]
  },
  {
   "cell_type": "code",
   "execution_count": 3,
   "metadata": {},
   "outputs": [
    {
     "name": "stdout",
     "output_type": "stream",
     "text": [
      "Notebook imports loaded in 0:00:45.175603\n"
     ]
    }
   ],
   "source": [
    "nb_imports_df_temp = load_data.load_nb_imports()"
   ]
  },
  {
   "cell_type": "markdown",
   "metadata": {},
   "source": [
    "---------\n",
    "# Tidy Data"
   ]
  },
  {
   "cell_type": "markdown",
   "metadata": {},
   "source": [
    "### Only looking at Python notebooks"
   ]
  },
  {
   "cell_type": "code",
   "execution_count": 4,
   "metadata": {},
   "outputs": [],
   "source": [
    "notebooks = notebooks_temp.copy()[notebooks_temp.lang_name == 'python'].reset_index(drop=True)\n",
    "\n",
    "# another one with julia and R too, to compare to Adam's research\n",
    "notebooks_py_ju_r = notebooks_temp.copy()[notebooks_temp.lang_name.isin(['python','r','julia'])].reset_index(drop=True)"
   ]
  },
  {
   "cell_type": "code",
   "execution_count": 5,
   "metadata": {},
   "outputs": [
    {
     "name": "stdout",
     "output_type": "stream",
     "text": [
      "4115126 (95.91%) of notebooks were written in Python. The remaining 4.09% have been removed.\n"
     ]
    }
   ],
   "source": [
    "print(\"{0} ({1}%) of notebooks were written in Python. The remaining {2}% have been removed.\".format(\n",
    "    len(notebooks),\n",
    "    round(100*len(notebooks)/len(notebooks_temp), 2),\n",
    "    round(100 - 100*len(notebooks)/len(notebooks_temp), 2)\n",
    "))"
   ]
  },
  {
   "cell_type": "markdown",
   "metadata": {},
   "source": [
    "### Update aggregated dataframe to reflect notebooks in question"
   ]
  },
  {
   "cell_type": "code",
   "execution_count": 6,
   "metadata": {},
   "outputs": [],
   "source": [
    "nb_imports_df = nb_imports_df_temp.copy()[nb_imports_df_temp.file.isin(notebooks.file)].reset_index(drop=True)\n",
    "repos = repos_temp.copy()[repos_temp.repo_id.isin(notebooks.repo_id)].reset_index(drop=True)\n",
    "\n",
    "# another one with julia and R too, to compare to Adam's research\n",
    "nb_imports_py_ju_r = nb_imports_df_temp.copy()[nb_imports_df_temp.file.isin(notebooks_py_ju_r.file)].reset_index(drop=True)"
   ]
  },
  {
   "cell_type": "markdown",
   "metadata": {},
   "source": [
    "### Delete temp dataframes to save space"
   ]
  },
  {
   "cell_type": "code",
   "execution_count": 7,
   "metadata": {},
   "outputs": [],
   "source": [
    "del notebooks_temp\n",
    "del repos_temp\n",
    "del nb_imports_df_temp"
   ]
  },
  {
   "cell_type": "markdown",
   "metadata": {},
   "source": [
    "---\n",
    "# Manipulate Data"
   ]
  },
  {
   "cell_type": "markdown",
   "metadata": {},
   "source": [
    "### List of all imports"
   ]
  },
  {
   "cell_type": "code",
   "execution_count": 8,
   "metadata": {
    "jupyter": {
     "outputs_hidden": false
    }
   },
   "outputs": [
    {
     "name": "stdout",
     "output_type": "stream",
     "text": [
      "0:00:18.607818\n"
     ]
    }
   ],
   "source": [
    "# 20 seconds\n",
    "start = datetime.datetime.now()\n",
    "all_imports = []\n",
    "for im in nb_imports_df.imports:\n",
    "    all_imports += set([i[0].split('.')[0] for i in im])\n",
    "end = datetime.datetime.now()\n",
    "print(end - start)"
   ]
  },
  {
   "cell_type": "markdown",
   "metadata": {},
   "source": [
    "---\n",
    "# Visualizations & Statistics"
   ]
  },
  {
   "cell_type": "code",
   "execution_count": 9,
   "metadata": {},
   "outputs": [
    {
     "name": "stdout",
     "output_type": "stream",
     "text": [
      "86.94% of notebooks written in jula, python, or R have imports.\n",
      "88.42% of notebooks written in python have imports.\n"
     ]
    }
   ],
   "source": [
    "print(\"{0}% of notebooks written in jula, python, or R have imports.\".format(\n",
    "    round(100*sum([i != [] for i in nb_imports_py_ju_r.imports])/len(nb_imports_py_ju_r),2)\n",
    "))\n",
    "\n",
    "print(\"{0}% of notebooks written in python have imports.\".format(\n",
    "    round(100*sum([i != [] for i in nb_imports_df.imports])/len(nb_imports_df),2)\n",
    "))"
   ]
  },
  {
   "cell_type": "markdown",
   "metadata": {},
   "source": [
    "## Python Package Imports"
   ]
  },
  {
   "cell_type": "code",
   "execution_count": 10,
   "metadata": {
    "jupyter": {
     "outputs_hidden": false
    }
   },
   "outputs": [
    {
     "data": {
      "image/png": "[encoded data removed]",
      "text/plain": [
       "<Figure size 720x360 with 1 Axes>"
      ]
     },
     "metadata": {
      "needs_background": "light"
     },
     "output_type": "display_data"
    },
    {
     "name": "stdout",
     "output_type": "stream",
     "text": [
      "0:00:08.511427\n"
     ]
    }
   ],
   "source": [
    "# 12 seconds\n",
    "start = datetime.datetime.now()\n",
    "\n",
    "top_n_with = pd.Series(all_imports).value_counts()[0:30]/sum(\n",
    "    [n!=[] for n in nb_imports_df.imports]\n",
    ")\n",
    "top_n_all = pd.Series(all_imports).value_counts()[0:30]/len(nb_imports_df)\n",
    "top_packages = top_n_with.index\n",
    "pos = np.arange(len(top_packages))\n",
    "height = top_n_with.values\n",
    "fig = plt.figure(figsize=(10,5))\n",
    "plt.bar(pos, height, color = 'teal')\n",
    "plt.xticks(pos, top_packages, rotation = 90)\n",
    "plt.title('Python Imports')\n",
    "plt.xlabel('Top 20 Imports')\n",
    "plt.ylabel('Proportion of Notebooks with Imports')\n",
    "plt.show()\n",
    "\n",
    "end = datetime.datetime.now()\n",
    "print(end - start)"
   ]
  },
  {
   "cell_type": "markdown",
   "metadata": {},
   "source": [
    "Numpy, pandas, and matplotlib are the three most common imports. Among notebooks with at least one import, Numpy is used in 70.8%, Matplotlib in 55.6%, and Pandas in 47.1%."
   ]
  },
  {
   "cell_type": "code",
   "execution_count": 11,
   "metadata": {
    "jupyter": {
     "outputs_hidden": false
    }
   },
   "outputs": [
    {
     "name": "stdout",
     "output_type": "stream",
     "text": [
      "Notebooks with at least one import:\n",
      "numpy         0.708448\n",
      "matplotlib    0.556438\n",
      "pandas        0.470889\n",
      "dtype: float64\n",
      "\n",
      "All notebooks:\n",
      "numpy         0.626435\n",
      "matplotlib    0.492022\n",
      "pandas        0.416377\n",
      "dtype: float64\n"
     ]
    }
   ],
   "source": [
    "print(\"Notebooks with at least one import:\")\n",
    "print(top_n_with[:3])\n",
    "print(\"\\nAll notebooks:\")\n",
    "print(top_n_all[:3])"
   ]
  },
  {
   "cell_type": "markdown",
   "metadata": {},
   "source": [
    "## What packages are frequently used together in a notebooks?"
   ]
  },
  {
   "cell_type": "markdown",
   "metadata": {},
   "source": [
    "### Test for independence of all packages\n",
    "Ho: $\\Sigma = \\Sigma_0 =$ diagonal matrix of variances. All packages are imported independently.\n",
    "\n",
    "Ha: $\\Sigma \\ne \\Sigma_0$ Not all packages are imported independently.\n",
    "\n",
    "U = det(sample covariance matrix) / product(sample variances)\n",
    "\n",
    "Under the null hypothesis, we expect U = 1"
   ]
  },
  {
   "cell_type": "code",
   "execution_count": 12,
   "metadata": {},
   "outputs": [
    {
     "name": "stdout",
     "output_type": "stream",
     "text": [
      "numpy 0:00:06.439607\n",
      "matplotlib 0:00:13.003406\n",
      "pandas 0:00:19.528927\n",
      "sklearn 0:00:26.114389\n",
      "os 0:00:32.768888\n",
      "scipy 0:00:39.345341\n",
      "seaborn 0:00:46.036742\n",
      "time 0:00:52.745045\n",
      "tensorflow 0:00:59.358515\n",
      "sys 0:01:05.928028\n",
      "IPython 0:01:12.418003\n",
      "math 0:01:18.893558\n",
      "random 0:01:25.603042\n",
      "keras 0:01:32.184978\n",
      "datetime 0:01:38.886658\n",
      "re 0:01:45.284120\n",
      "collections 0:01:51.966712\n",
      "json 0:01:58.654581\n",
      "__future__ 0:02:05.044091\n",
      "warnings 0:02:11.800722\n",
      "pickle 0:02:18.462206\n",
      "requests 0:02:25.057956\n",
      "cv2 0:02:31.592250\n",
      "glob 0:02:38.046751\n",
      "itertools 0:02:44.731427\n",
      "nltk 0:02:51.296931\n",
      "torch 0:02:57.846025\n",
      "PIL 0:03:04.225053\n",
      "csv 0:03:10.810354\n",
      "statsmodels 0:03:17.492344\n",
      "0:03:17.492896\n"
     ]
    }
   ],
   "source": [
    "# 3 minutes\n",
    "start = datetime.datetime.now()\n",
    "for package in top_packages:\n",
    "    if package not in nb_imports_df.columns:\n",
    "        nb_imports_df[package] = [\n",
    "            package in ' '.join([i[0] for i in im])\n",
    "            for im in nb_imports_df.imports\n",
    "        ]\n",
    "        print(package, datetime.datetime.now() - start)\n",
    "end = datetime.datetime.now()\n",
    "print(end - start)"
   ]
  },
  {
   "cell_type": "code",
   "execution_count": 13,
   "metadata": {
    "jupyter": {
     "outputs_hidden": false
    }
   },
   "outputs": [
    {
     "data": {
      "text/plain": [
       "0.03159127292287232"
      ]
     },
     "execution_count": 13,
     "metadata": {},
     "output_type": "execute_result"
    }
   ],
   "source": [
    "cov = nb_imports_df[top_packages].cov()\n",
    "U = np.linalg.det(cov) / np.diag(cov).prod()\n",
    "U"
   ]
  },
  {
   "cell_type": "markdown",
   "metadata": {},
   "source": [
    "U = 0.03 is very far from 1, providing very strong evidence that not all packages are imported independent."
   ]
  },
  {
   "cell_type": "markdown",
   "metadata": {},
   "source": [
    "### Not all packages are imported independently, so which are associated?"
   ]
  },
  {
   "cell_type": "markdown",
   "metadata": {},
   "source": [
    "#### Looking at correlations"
   ]
  },
  {
   "cell_type": "code",
   "execution_count": 14,
   "metadata": {
    "jupyter": {
     "outputs_hidden": false
    }
   },
   "outputs": [
    {
     "data": {
      "image/png": "[encoded data removed]",
      "text/plain": [
       "<Figure size 504x504 with 1 Axes>"
      ]
     },
     "metadata": {
      "needs_background": "light"
     },
     "output_type": "display_data"
    }
   ],
   "source": [
    "df = nb_imports_df[top_packages].corr().transpose()\n",
    "fig = plt.figure(figsize = (7,7))\n",
    "plt.pcolor(df, cmap = 'Blues')\n",
    "plt.yticks(np.arange(0.5, len(df.index), 1), df.index)\n",
    "plt.xticks(np.arange(0.5, len(df.columns), 1), df.columns, rotation = 90)\n",
    "plt.title(\"Package Import Correlations\")\n",
    "plt.show()"
   ]
  },
  {
   "cell_type": "markdown",
   "metadata": {},
   "source": [
    "#### Colors can be tricky to distinguish, objectively focus on correlations over 0.3."
   ]
  },
  {
   "cell_type": "code",
   "execution_count": 15,
   "metadata": {
    "jupyter": {
     "outputs_hidden": false
    }
   },
   "outputs": [
    {
     "data": {
      "image/png": "[encoded data removed]",
      "text/plain": [
       "<Figure size 504x504 with 1 Axes>"
      ]
     },
     "metadata": {
      "needs_background": "light"
     },
     "output_type": "display_data"
    }
   ],
   "source": [
    "df_over_03 = df[np.logical_and(df > 0.3, df < 1)]\n",
    "fig = plt.figure(figsize = (7,7))\n",
    "plt.pcolor(df_over_03, cmap = 'Blues')\n",
    "plt.yticks(np.arange(0.5, len(df.index), 1), df.index)\n",
    "plt.xticks(np.arange(0.5, len(df.columns), 1), df.columns, rotation = 90)\n",
    "plt.title(\"Package Import Correlations > 0.3\")\n",
    "plt.show()"
   ]
  },
  {
   "cell_type": "code",
   "execution_count": 16,
   "metadata": {},
   "outputs": [
    {
     "name": "stdout",
     "output_type": "stream",
     "text": [
      "Frequently co-occuring (correlation > 0.3):\n",
      "\n",
      "numpy and matplotlib, r = 0.56\n",
      "numpy and pandas, r = 0.31\n",
      "numpy and sklearn, r = 0.32\n",
      "matplotlib and seaborn, r = 0.34\n",
      "pandas and sklearn, r = 0.36\n",
      "pandas and seaborn, r = 0.37\n",
      "sklearn and os, r = 0.35\n",
      "sklearn and re, r = 0.51\n",
      "os and re, r = 0.34\n",
      "time and datetime, r = 0.61\n"
     ]
    }
   ],
   "source": [
    "print('Frequently co-occuring (correlation > 0.3):\\n')\n",
    "c_num = 0\n",
    "for c in df_over_03.columns:\n",
    "    for i in df_over_03.index[c_num:]:\n",
    "        corr = df_over_03.loc[i, c]\n",
    "        if corr > 0.3:\n",
    "            print('{0} and {1}, r = {2}'.format(c, i, round(corr, 2)))\n",
    "    c_num += 1"
   ]
  },
  {
   "cell_type": "markdown",
   "metadata": {},
   "source": [
    "#### Looking at frequent item sets"
   ]
  },
  {
   "cell_type": "markdown",
   "metadata": {},
   "source": [
    "Support = frequency of items. Minimum support = 10%, items have to occur together in at least 10% of notebooks.\n",
    "\n",
    "Confidence = conditional probability. Minimum confidence = 90%, a -> b if pr(b|a) is at least 0.9."
   ]
  },
  {
   "cell_type": "raw",
   "metadata": {
    "jupyter": {
     "outputs_hidden": false
    }
   },
   "source": [
    "# convert data into correct format for input into apriori\n",
    "# each record is a list of words, records = [['numpy', 'pandas', 'sklearn'], ['sklearn','os','re'], ...]\n",
    "\n",
    "# 45 minutes\n",
    "start = datetime.datetime.now()\n",
    "\n",
    "records = []\n",
    "for i, c in nb_imports_df.fillna(0).iterrows():\n",
    "    records.append(list(top_packages[c[top_packages].values == 1]))\n",
    "    if i%100000 == 0:\n",
    "        print(i, datetime.datetime.now() - start)\n",
    "\n",
    "end = datetime.datetime.now()\n",
    "print(end - start)"
   ]
  },
  {
   "cell_type": "raw",
   "metadata": {},
   "source": [
    "f = open('analysis_data/packages_records.list', 'wb')\n",
    "pickle.dump(records, f)\n",
    "f.close()"
   ]
  },
  {
   "cell_type": "code",
   "execution_count": 17,
   "metadata": {},
   "outputs": [],
   "source": [
    "f = open('analysis_data/packages_records.list', 'rb')\n",
    "records = pickle.load(f)\n",
    "f.close()"
   ]
  },
  {
   "cell_type": "code",
   "execution_count": 18,
   "metadata": {
    "jupyter": {
     "outputs_hidden": true
    }
   },
   "outputs": [
    {
     "name": "stdout",
     "output_type": "stream",
     "text": [
      "0:00:31.334428\n"
     ]
    }
   ],
   "source": [
    "start = datetime.datetime.now()\n",
    "\n",
    "association_rules = apriori(records, min_support=0.10, min_confidence=0.90, min_lift=0, min_length=2)  \n",
    "association_results = list(association_rules) \n",
    "\n",
    "end = datetime.datetime.now()\n",
    "print(end - start)\n"
   ]
  },
  {
   "cell_type": "markdown",
   "metadata": {},
   "source": [
    "#### Association Rules\n",
    "\n",
    "a -> b means that if a is imported into a notebook, b has at least a 90% chance of also being imported into that notebook. Further, the probability that both a and b are imported into a notebook is at least 10%.\n"
   ]
  },
  {
   "cell_type": "code",
   "execution_count": 19,
   "metadata": {
    "jupyter": {
     "outputs_hidden": false
    }
   },
   "outputs": [
    {
     "name": "stdout",
     "output_type": "stream",
     "text": [
      "matplotlib -> numpy\n",
      "seaborn -> matplotlib\n",
      "scipy -> numpy\n",
      "seaborn -> numpy\n",
      "seaborn -> pandas\n",
      "os, matplotlib -> numpy\n",
      "pandas, matplotlib -> numpy\n",
      "re, matplotlib -> numpy\n",
      "scipy, matplotlib -> numpy\n",
      "seaborn, matplotlib -> numpy\n",
      "sklearn, matplotlib -> numpy\n",
      "seaborn, matplotlib -> pandas\n",
      "sklearn, os -> numpy\n",
      "numpy, seaborn -> pandas\n",
      "pandas, sklearn -> numpy\n",
      "sklearn, re -> numpy\n",
      "pandas, os, matplotlib -> numpy\n",
      "re, os, matplotlib -> numpy\n",
      "pandas, re, matplotlib -> numpy\n",
      "pandas, sklearn, matplotlib -> numpy\n",
      "re, sklearn, matplotlib -> numpy\n",
      "pandas, os, re -> numpy\n",
      "sklearn, os, re -> numpy\n",
      "pandas, sklearn, re -> numpy\n",
      "pandas, re, sklearn, matplotlib -> numpy\n"
     ]
    }
   ],
   "source": [
    "for item in association_results:\n",
    "    # first index of the inner list\n",
    "    # Contains base item and add i+tem\n",
    "    first = item.ordered_statistics[0].items_base\n",
    "    second = item.ordered_statistics[0].items_add\n",
    "    print(', '.join([x for x in first]), '->', ', '.join([x for x in second]))\n",
    "\n",
    "#     print(\"Support: \" + str(item[1]))\n",
    "\n",
    "#     #third index of the list located at 0th\n",
    "#     #of the third index of the inner list\n",
    "\n",
    "#     print(\"Confidence: \" + str(item[2][0][2]))\n",
    "#     #print(\"Lift: \" + str(item[2][0][3]))\n",
    "#     print(\"=====================================\")"
   ]
  },
  {
   "cell_type": "code",
   "execution_count": 20,
   "metadata": {},
   "outputs": [
    {
     "name": "stdout",
     "output_type": "stream",
     "text": [
      "Pr(Matplotlib) = 0.49\n",
      "Pr(Seaborn) = 0.12\n",
      "Pr(Matplotlib | Seaborn) = 0.94\n",
      "Pr(Seaborn | Matplotlib) = 0.24\n"
     ]
    }
   ],
   "source": [
    "pr_sea = sum(['seaborn' in im for im in records]) / len(records)\n",
    "pr_mat = sum(['matplotlib' in im for im in records]) / len(records)\n",
    "pr_sea_mat = sum(['seaborn' in im and 'matplotlib' in im for im in records]) / len(records)\n",
    "print('Pr(Matplotlib) =', round(pr_mat, 2))\n",
    "print('Pr(Seaborn) =', round(pr_sea, 2))\n",
    "print('Pr(Matplotlib | Seaborn) =', round(pr_sea_mat/pr_sea,2))\n",
    "print('Pr(Seaborn | Matplotlib) =', round(pr_sea_mat/pr_mat, 2))\n"
   ]
  },
  {
   "cell_type": "markdown",
   "metadata": {},
   "source": [
    "## Use of Numpy"
   ]
  },
  {
   "cell_type": "code",
   "execution_count": 21,
   "metadata": {},
   "outputs": [
    {
     "name": "stdout",
     "output_type": "stream",
     "text": [
      "Code loaded in 0:03:16.493127\n"
     ]
    }
   ],
   "source": [
    "code_df_temp = load_data.load_code()\n",
    "code_df_numpy = code_df_temp[code_df_temp.file.isin(nb_imports_df[nb_imports_df['numpy']].file)]\n",
    "code_df_numpy = code_df_numpy.merge(nb_imports_df[['imports','file']], on = 'file')\n",
    "\n",
    "del code_df_temp\n"
   ]
  },
  {
   "cell_type": "code",
   "execution_count": 22,
   "metadata": {},
   "outputs": [
    {
     "name": "stdout",
     "output_type": "stream",
     "text": [
      "0 0:00:01.238231\n",
      "500000 0:02:12.254387\n",
      "1000000 0:04:23.038928\n",
      "1500000 0:06:32.421511\n",
      "2000000 0:08:41.094508\n",
      "2500000 0:10:50.159123\n",
      "0:11:10.637160\n"
     ]
    }
   ],
   "source": [
    "# 12 minutes\n",
    "code_updated = []\n",
    "numpy_uses = []\n",
    "start = datetime.datetime.now()\n",
    "for i, row in code_df_numpy.iterrows():\n",
    "    f = row.file\n",
    "    imports = row.imports\n",
    "    try:\n",
    "        numpy_im = [i for i in imports if i[0].startswith('numpy')][0]\n",
    "    except:\n",
    "        pass\n",
    "    row_updated = [c.replace(numpy_im[1], numpy_im[0]) for c in row.code if type(c) == str]\n",
    "    code_updated.append(row_updated)\n",
    "    numpy_uses.append(load_data.flatten([re.findall('numpy\\.[a-zA-Z_\\.]+', c) for c in row_updated]))\n",
    "    if i%500000 == 0:\n",
    "        print(i, datetime.datetime.now() - start)\n",
    "end = datetime.datetime.now()\n",
    "print(end - start)\n"
   ]
  },
  {
   "cell_type": "markdown",
   "metadata": {},
   "source": [
    "### How many notebooks import numpy without using it"
   ]
  },
  {
   "cell_type": "code",
   "execution_count": 23,
   "metadata": {},
   "outputs": [
    {
     "name": "stdout",
     "output_type": "stream",
     "text": [
      "18.23% of notebooks that import numpy never use it.\n",
      "45.25% of notebooks that import numpy use it at least 5 times.\n"
     ]
    }
   ],
   "source": [
    "print(\"{0}% of notebooks that import numpy never use it.\".format(\n",
    "    round(100*sum([len(n)==0 for n in numpy_uses])/len(numpy_uses), 2)\n",
    "))\n",
    "print(\"{0}% of notebooks that import numpy use it at least 5 times.\".format(\n",
    "    round(100*sum([len(n)>5 for n in numpy_uses])/len(numpy_uses), 2)\n",
    "))"
   ]
  },
  {
   "cell_type": "markdown",
   "metadata": {},
   "source": [
    "### What are the top uses of numpy"
   ]
  },
  {
   "cell_type": "code",
   "execution_count": 24,
   "metadata": {},
   "outputs": [
    {
     "data": {
      "image/png": "[encoded data removed]",
      "text/plain": [
       "<Figure size 1440x288 with 1 Axes>"
      ]
     },
     "metadata": {
      "needs_background": "light"
     },
     "output_type": "display_data"
    }
   ],
   "source": [
    "numpy_uses_counts = pd.Series(load_data.flatten(numpy_uses)).value_counts().reset_index().rename(\n",
    "    columns = {'index':'use',0:'count'}\n",
    ")\n",
    "\n",
    "fig = plt.figure(figsize = (20, 4))\n",
    "x = numpy_uses_counts['use'][:50]\n",
    "x_pos = np.arange(len(x))\n",
    "y = numpy_uses_counts['count'][:50]\n",
    "plt.bar(x_pos, y, color = 'teal')\n",
    "plt.xticks(x_pos, ['.'.join(l.split('.')[1:]) for l in x], rotation = 70)\n",
    "plt.ylabel('Number of uses')\n",
    "plt.yticks(\n",
    "    list(range(0, 4000000, 500000)), \n",
    "    ['{:,}'.format(i) for i in range(0, 4000000, 500000)]\n",
    ")\n",
    "plt.title('Numpy Use in Jupyter Notebooks')\n",
    "plt.show()"
   ]
  },
  {
   "cell_type": "markdown",
   "metadata": {},
   "source": [
    "#### Numpy is planning to get rid of support for Python2. Did this announcement (2018) change it's use patterns?"
   ]
  },
  {
   "cell_type": "code",
   "execution_count": 25,
   "metadata": {},
   "outputs": [],
   "source": [
    "repos['pushed_at'] = pd.to_datetime(repos['pushed_at'])\n",
    "repos['month'] = [p.month for p in repos['pushed_at']]\n",
    "repos['year'] = [p.year for p in repos['pushed_at']]\n",
    "nb_imports_time_df = nb_imports_df.merge(notebooks[['file','repo_id']], on = 'file').merge(repos, on = ['repo_id'])"
   ]
  },
  {
   "cell_type": "code",
   "execution_count": 26,
   "metadata": {},
   "outputs": [],
   "source": [
    "def get_numpy_over_time(df, title):\n",
    "    numpy_time_df = df.groupby(['year','month'])['numpy'].sum().reset_index().sort_values(by = ['year','month']).reset_index(drop=True).merge(\n",
    "        df.groupby(['year','month'])['file'].count().reset_index(),\n",
    "        on = ['year','month']\n",
    "    )\n",
    "    numpy_time_df['prop'] = numpy_time_df['numpy'] / numpy_time_df['file']\n",
    "    numpy_time_df['order'] = list(range(len(numpy_time_df)))\n",
    "    numpy_time_df['label'] = ['January '+str(int(r.year)) if r.month == 1 else '' for _, r in numpy_time_df.iterrows()]\n",
    "    \n",
    "    plt.plot(numpy_time_df.order, numpy_time_df.prop, color = 'teal')\n",
    "    plt.xticks(numpy_time_df.order, numpy_time_df.label, rotation = 70)\n",
    "    plt.title('Use of Numpy over time in {0} Notebooks'.format(title))\n",
    "    plt.ylabel('Proportion of Notebooks')\n",
    "    plt.show()"
   ]
  },
  {
   "cell_type": "code",
   "execution_count": 27,
   "metadata": {},
   "outputs": [
    {
     "ename": "MemoryError",
     "evalue": "",
     "output_type": "error",
     "traceback": [
      "\u001b[0;31m--------------------------------------------------------------\u001b[0m",
      "\u001b[0;31mMemoryError\u001b[0m                  Traceback (most recent call last)",
      "\u001b[0;32m<ipython-input-27-0113e2617053>\u001b[0m in \u001b[0;36m<module>\u001b[0;34m\u001b[0m\n\u001b[0;32m----> 1\u001b[0;31m \u001b[0mget_numpy_over_time\u001b[0m\u001b[0;34m(\u001b[0m\u001b[0mnb_imports_time_df\u001b[0m\u001b[0;34m,\u001b[0m \u001b[0;34m'Python'\u001b[0m\u001b[0;34m)\u001b[0m\u001b[0;34m\u001b[0m\u001b[0m\n\u001b[0m\u001b[1;32m      2\u001b[0m \u001b[0;34m\u001b[0m\u001b[0m\n\u001b[1;32m      3\u001b[0m \u001b[0;34m\u001b[0m\u001b[0m\n\u001b[1;32m      4\u001b[0m nb_imports_py2_time_df = nb_imports_df.merge(\n\u001b[1;32m      5\u001b[0m     \u001b[0mnotebooks\u001b[0m\u001b[0;34m[\u001b[0m\u001b[0;34m[\u001b[0m\u001b[0mstr\u001b[0m\u001b[0;34m(\u001b[0m\u001b[0ml\u001b[0m\u001b[0;34m)\u001b[0m\u001b[0;34m.\u001b[0m\u001b[0mstartswith\u001b[0m\u001b[0;34m(\u001b[0m\u001b[0;34m'2'\u001b[0m\u001b[0;34m)\u001b[0m \u001b[0;32mfor\u001b[0m \u001b[0ml\u001b[0m \u001b[0;32min\u001b[0m \u001b[0mnotebooks\u001b[0m\u001b[0;34m.\u001b[0m\u001b[0mlang_version\u001b[0m\u001b[0;34m]\u001b[0m\u001b[0;34m&\u001b[0m\u001b[0;34m(\u001b[0m\u001b[0mnotebooks\u001b[0m\u001b[0;34m.\u001b[0m\u001b[0mlang_name\u001b[0m \u001b[0;34m==\u001b[0m \u001b[0;34m'python'\u001b[0m\u001b[0;34m)\u001b[0m\u001b[0;34m]\u001b[0m\u001b[0;34m[\u001b[0m\u001b[0;34m[\u001b[0m\u001b[0;34m'file'\u001b[0m\u001b[0;34m,\u001b[0m\u001b[0;34m'repo_id'\u001b[0m\u001b[0;34m]\u001b[0m\u001b[0;34m]\u001b[0m\u001b[0;34m,\u001b[0m \u001b[0mon\u001b[0m \u001b[0;34m=\u001b[0m \u001b[0;34m'file'\u001b[0m\u001b[0;34m\u001b[0m\u001b[0m\n",
      "\u001b[0;32m<ipython-input-26-1279b9bc7bec>\u001b[0m in \u001b[0;36mget_numpy_over_time\u001b[0;34m(df, title)\u001b[0m\n\u001b[1;32m      1\u001b[0m \u001b[0;32mdef\u001b[0m \u001b[0mget_numpy_over_time\u001b[0m\u001b[0;34m(\u001b[0m\u001b[0mdf\u001b[0m\u001b[0;34m,\u001b[0m \u001b[0mtitle\u001b[0m\u001b[0;34m)\u001b[0m\u001b[0;34m:\u001b[0m\u001b[0;34m\u001b[0m\u001b[0m\n\u001b[0;32m----> 2\u001b[0;31m     numpy_time_df = df.groupby(['year','month'])['numpy'].sum().reset_index().sort_values(by = ['year','month']).reset_index(drop=True).merge(\n\u001b[0m\u001b[1;32m      3\u001b[0m         \u001b[0mdf\u001b[0m\u001b[0;34m.\u001b[0m\u001b[0mgroupby\u001b[0m\u001b[0;34m(\u001b[0m\u001b[0;34m[\u001b[0m\u001b[0;34m'year'\u001b[0m\u001b[0;34m,\u001b[0m\u001b[0;34m'month'\u001b[0m\u001b[0;34m]\u001b[0m\u001b[0;34m)\u001b[0m\u001b[0;34m[\u001b[0m\u001b[0;34m'file'\u001b[0m\u001b[0;34m]\u001b[0m\u001b[0;34m.\u001b[0m\u001b[0mcount\u001b[0m\u001b[0;34m(\u001b[0m\u001b[0;34m)\u001b[0m\u001b[0;34m.\u001b[0m\u001b[0mreset_index\u001b[0m\u001b[0;34m(\u001b[0m\u001b[0;34m)\u001b[0m\u001b[0;34m,\u001b[0m\u001b[0;34m\u001b[0m\u001b[0m\n\u001b[1;32m      4\u001b[0m         \u001b[0mon\u001b[0m \u001b[0;34m=\u001b[0m \u001b[0;34m[\u001b[0m\u001b[0;34m'year'\u001b[0m\u001b[0;34m,\u001b[0m\u001b[0;34m'month'\u001b[0m\u001b[0;34m]\u001b[0m\u001b[0;34m\u001b[0m\u001b[0m\n\u001b[1;32m      5\u001b[0m     )\n",
      "\u001b[0;32m~/anaconda3/lib/python3.5/site-packages/pandas/core/generic.py\u001b[0m in \u001b[0;36mgroupby\u001b[0;34m(self, by, axis, level, as_index, sort, group_keys, squeeze, observed, **kwargs)\u001b[0m\n\u001b[1;32m   7894\u001b[0m             \u001b[0msqueeze\u001b[0m\u001b[0;34m=\u001b[0m\u001b[0msqueeze\u001b[0m\u001b[0;34m,\u001b[0m\u001b[0;34m\u001b[0m\u001b[0m\n\u001b[1;32m   7895\u001b[0m             \u001b[0mobserved\u001b[0m\u001b[0;34m=\u001b[0m\u001b[0mobserved\u001b[0m\u001b[0;34m,\u001b[0m\u001b[0;34m\u001b[0m\u001b[0m\n\u001b[0;32m-> 7896\u001b[0;31m             \u001b[0;34m**\u001b[0m\u001b[0mkwargs\u001b[0m\u001b[0;34m\u001b[0m\u001b[0m\n\u001b[0m\u001b[1;32m   7897\u001b[0m         )\n\u001b[1;32m   7898\u001b[0m \u001b[0;34m\u001b[0m\u001b[0m\n",
      "\u001b[0;32m~/anaconda3/lib/python3.5/site-packages/pandas/core/groupby/groupby.py\u001b[0m in \u001b[0;36mgroupby\u001b[0;34m(obj, by, **kwds)\u001b[0m\n\u001b[1;32m   2476\u001b[0m         \u001b[0;32mraise\u001b[0m \u001b[0mTypeError\u001b[0m\u001b[0;34m(\u001b[0m\u001b[0;34m\"invalid type: {}\"\u001b[0m\u001b[0;34m.\u001b[0m\u001b[0mformat\u001b[0m\u001b[0;34m(\u001b[0m\u001b[0mobj\u001b[0m\u001b[0;34m)\u001b[0m\u001b[0;34m)\u001b[0m\u001b[0;34m\u001b[0m\u001b[0m\n\u001b[1;32m   2477\u001b[0m \u001b[0;34m\u001b[0m\u001b[0m\n\u001b[0;32m-> 2478\u001b[0;31m     \u001b[0;32mreturn\u001b[0m \u001b[0mklass\u001b[0m\u001b[0;34m(\u001b[0m\u001b[0mobj\u001b[0m\u001b[0;34m,\u001b[0m \u001b[0mby\u001b[0m\u001b[0;34m,\u001b[0m \u001b[0;34m**\u001b[0m\u001b[0mkwds\u001b[0m\u001b[0;34m)\u001b[0m\u001b[0;34m\u001b[0m\u001b[0m\n\u001b[0m",
      "\u001b[0;32m~/anaconda3/lib/python3.5/site-packages/pandas/core/groupby/groupby.py\u001b[0m in \u001b[0;36m__init__\u001b[0;34m(self, obj, keys, axis, level, grouper, exclusions, selection, as_index, sort, group_keys, squeeze, observed, **kwargs)\u001b[0m\n\u001b[1;32m    361\u001b[0m \u001b[0;34m\u001b[0m\u001b[0m\n\u001b[1;32m    362\u001b[0m         \u001b[0;32mif\u001b[0m \u001b[0misinstance\u001b[0m\u001b[0;34m(\u001b[0m\u001b[0mobj\u001b[0m\u001b[0;34m,\u001b[0m \u001b[0mNDFrame\u001b[0m\u001b[0;34m)\u001b[0m\u001b[0;34m:\u001b[0m\u001b[0;34m\u001b[0m\u001b[0m\n\u001b[0;32m--> 363\u001b[0;31m             \u001b[0mobj\u001b[0m\u001b[0;34m.\u001b[0m\u001b[0m_consolidate_inplace\u001b[0m\u001b[0;34m(\u001b[0m\u001b[0;34m)\u001b[0m\u001b[0;34m\u001b[0m\u001b[0m\n\u001b[0m\u001b[1;32m    364\u001b[0m \u001b[0;34m\u001b[0m\u001b[0m\n\u001b[1;32m    365\u001b[0m         \u001b[0mself\u001b[0m\u001b[0;34m.\u001b[0m\u001b[0mlevel\u001b[0m \u001b[0;34m=\u001b[0m \u001b[0mlevel\u001b[0m\u001b[0;34m\u001b[0m\u001b[0m\n",
      "\u001b[0;32m~/anaconda3/lib/python3.5/site-packages/pandas/core/generic.py\u001b[0m in \u001b[0;36m_consolidate_inplace\u001b[0;34m(self)\u001b[0m\n\u001b[1;32m   5251\u001b[0m             \u001b[0mself\u001b[0m\u001b[0;34m.\u001b[0m\u001b[0m_data\u001b[0m \u001b[0;34m=\u001b[0m \u001b[0mself\u001b[0m\u001b[0;34m.\u001b[0m\u001b[0m_data\u001b[0m\u001b[0;34m.\u001b[0m\u001b[0mconsolidate\u001b[0m\u001b[0;34m(\u001b[0m\u001b[0;34m)\u001b[0m\u001b[0;34m\u001b[0m\u001b[0m\n\u001b[1;32m   5252\u001b[0m \u001b[0;34m\u001b[0m\u001b[0m\n\u001b[0;32m-> 5253\u001b[0;31m         \u001b[0mself\u001b[0m\u001b[0;34m.\u001b[0m\u001b[0m_protect_consolidate\u001b[0m\u001b[0;34m(\u001b[0m\u001b[0mf\u001b[0m\u001b[0;34m)\u001b[0m\u001b[0;34m\u001b[0m\u001b[0m\n\u001b[0m\u001b[1;32m   5254\u001b[0m \u001b[0;34m\u001b[0m\u001b[0m\n\u001b[1;32m   5255\u001b[0m     \u001b[0;32mdef\u001b[0m \u001b[0m_consolidate\u001b[0m\u001b[0;34m(\u001b[0m\u001b[0mself\u001b[0m\u001b[0;34m,\u001b[0m \u001b[0minplace\u001b[0m\u001b[0;34m=\u001b[0m\u001b[0;32mFalse\u001b[0m\u001b[0;34m)\u001b[0m\u001b[0;34m:\u001b[0m\u001b[0;34m\u001b[0m\u001b[0m\n",
      "\u001b[0;32m~/anaconda3/lib/python3.5/site-packages/pandas/core/generic.py\u001b[0m in \u001b[0;36m_protect_consolidate\u001b[0;34m(self, f)\u001b[0m\n\u001b[1;32m   5240\u001b[0m         \"\"\"\n\u001b[1;32m   5241\u001b[0m         \u001b[0mblocks_before\u001b[0m \u001b[0;34m=\u001b[0m \u001b[0mlen\u001b[0m\u001b[0;34m(\u001b[0m\u001b[0mself\u001b[0m\u001b[0;34m.\u001b[0m\u001b[0m_data\u001b[0m\u001b[0;34m.\u001b[0m\u001b[0mblocks\u001b[0m\u001b[0;34m)\u001b[0m\u001b[0;34m\u001b[0m\u001b[0m\n\u001b[0;32m-> 5242\u001b[0;31m         \u001b[0mresult\u001b[0m \u001b[0;34m=\u001b[0m \u001b[0mf\u001b[0m\u001b[0;34m(\u001b[0m\u001b[0;34m)\u001b[0m\u001b[0;34m\u001b[0m\u001b[0m\n\u001b[0m\u001b[1;32m   5243\u001b[0m         \u001b[0;32mif\u001b[0m \u001b[0mlen\u001b[0m\u001b[0;34m(\u001b[0m\u001b[0mself\u001b[0m\u001b[0;34m.\u001b[0m\u001b[0m_data\u001b[0m\u001b[0;34m.\u001b[0m\u001b[0mblocks\u001b[0m\u001b[0;34m)\u001b[0m \u001b[0;34m!=\u001b[0m \u001b[0mblocks_before\u001b[0m\u001b[0;34m:\u001b[0m\u001b[0;34m\u001b[0m\u001b[0m\n\u001b[1;32m   5244\u001b[0m             \u001b[0mself\u001b[0m\u001b[0;34m.\u001b[0m\u001b[0m_clear_item_cache\u001b[0m\u001b[0;34m(\u001b[0m\u001b[0;34m)\u001b[0m\u001b[0;34m\u001b[0m\u001b[0m\n",
      "\u001b[0;32m~/anaconda3/lib/python3.5/site-packages/pandas/core/generic.py\u001b[0m in \u001b[0;36mf\u001b[0;34m()\u001b[0m\n\u001b[1;32m   5249\u001b[0m \u001b[0;34m\u001b[0m\u001b[0m\n\u001b[1;32m   5250\u001b[0m         \u001b[0;32mdef\u001b[0m \u001b[0mf\u001b[0m\u001b[0;34m(\u001b[0m\u001b[0;34m)\u001b[0m\u001b[0;34m:\u001b[0m\u001b[0;34m\u001b[0m\u001b[0m\n\u001b[0;32m-> 5251\u001b[0;31m             \u001b[0mself\u001b[0m\u001b[0;34m.\u001b[0m\u001b[0m_data\u001b[0m \u001b[0;34m=\u001b[0m \u001b[0mself\u001b[0m\u001b[0;34m.\u001b[0m\u001b[0m_data\u001b[0m\u001b[0;34m.\u001b[0m\u001b[0mconsolidate\u001b[0m\u001b[0;34m(\u001b[0m\u001b[0;34m)\u001b[0m\u001b[0;34m\u001b[0m\u001b[0m\n\u001b[0m\u001b[1;32m   5252\u001b[0m \u001b[0;34m\u001b[0m\u001b[0m\n\u001b[1;32m   5253\u001b[0m         \u001b[0mself\u001b[0m\u001b[0;34m.\u001b[0m\u001b[0m_protect_consolidate\u001b[0m\u001b[0;34m(\u001b[0m\u001b[0mf\u001b[0m\u001b[0;34m)\u001b[0m\u001b[0;34m\u001b[0m\u001b[0m\n",
      "\u001b[0;32m~/anaconda3/lib/python3.5/site-packages/pandas/core/internals/managers.py\u001b[0m in \u001b[0;36mconsolidate\u001b[0;34m(self)\u001b[0m\n\u001b[1;32m    929\u001b[0m         \u001b[0mbm\u001b[0m \u001b[0;34m=\u001b[0m \u001b[0mself\u001b[0m\u001b[0;34m.\u001b[0m\u001b[0m__class__\u001b[0m\u001b[0;34m(\u001b[0m\u001b[0mself\u001b[0m\u001b[0;34m.\u001b[0m\u001b[0mblocks\u001b[0m\u001b[0;34m,\u001b[0m \u001b[0mself\u001b[0m\u001b[0;34m.\u001b[0m\u001b[0maxes\u001b[0m\u001b[0;34m)\u001b[0m\u001b[0;34m\u001b[0m\u001b[0m\n\u001b[1;32m    930\u001b[0m         \u001b[0mbm\u001b[0m\u001b[0;34m.\u001b[0m\u001b[0m_is_consolidated\u001b[0m \u001b[0;34m=\u001b[0m \u001b[0;32mFalse\u001b[0m\u001b[0;34m\u001b[0m\u001b[0m\n\u001b[0;32m--> 931\u001b[0;31m         \u001b[0mbm\u001b[0m\u001b[0;34m.\u001b[0m\u001b[0m_consolidate_inplace\u001b[0m\u001b[0;34m(\u001b[0m\u001b[0;34m)\u001b[0m\u001b[0;34m\u001b[0m\u001b[0m\n\u001b[0m\u001b[1;32m    932\u001b[0m         \u001b[0;32mreturn\u001b[0m \u001b[0mbm\u001b[0m\u001b[0;34m\u001b[0m\u001b[0m\n\u001b[1;32m    933\u001b[0m \u001b[0;34m\u001b[0m\u001b[0m\n",
      "\u001b[0;32m~/anaconda3/lib/python3.5/site-packages/pandas/core/internals/managers.py\u001b[0m in \u001b[0;36m_consolidate_inplace\u001b[0;34m(self)\u001b[0m\n\u001b[1;32m    934\u001b[0m     \u001b[0;32mdef\u001b[0m \u001b[0m_consolidate_inplace\u001b[0m\u001b[0;34m(\u001b[0m\u001b[0mself\u001b[0m\u001b[0;34m)\u001b[0m\u001b[0;34m:\u001b[0m\u001b[0;34m\u001b[0m\u001b[0m\n\u001b[1;32m    935\u001b[0m         \u001b[0;32mif\u001b[0m \u001b[0;32mnot\u001b[0m \u001b[0mself\u001b[0m\u001b[0;34m.\u001b[0m\u001b[0mis_consolidated\u001b[0m\u001b[0;34m(\u001b[0m\u001b[0;34m)\u001b[0m\u001b[0;34m:\u001b[0m\u001b[0;34m\u001b[0m\u001b[0m\n\u001b[0;32m--> 936\u001b[0;31m             \u001b[0mself\u001b[0m\u001b[0;34m.\u001b[0m\u001b[0mblocks\u001b[0m \u001b[0;34m=\u001b[0m \u001b[0mtuple\u001b[0m\u001b[0;34m(\u001b[0m\u001b[0m_consolidate\u001b[0m\u001b[0;34m(\u001b[0m\u001b[0mself\u001b[0m\u001b[0;34m.\u001b[0m\u001b[0mblocks\u001b[0m\u001b[0;34m)\u001b[0m\u001b[0;34m)\u001b[0m\u001b[0;34m\u001b[0m\u001b[0m\n\u001b[0m\u001b[1;32m    937\u001b[0m             \u001b[0mself\u001b[0m\u001b[0;34m.\u001b[0m\u001b[0m_is_consolidated\u001b[0m \u001b[0;34m=\u001b[0m \u001b[0;32mTrue\u001b[0m\u001b[0;34m\u001b[0m\u001b[0m\n\u001b[1;32m    938\u001b[0m             \u001b[0mself\u001b[0m\u001b[0;34m.\u001b[0m\u001b[0m_known_consolidated\u001b[0m \u001b[0;34m=\u001b[0m \u001b[0;32mTrue\u001b[0m\u001b[0;34m\u001b[0m\u001b[0m\n",
      "\u001b[0;32m~/anaconda3/lib/python3.5/site-packages/pandas/core/internals/managers.py\u001b[0m in \u001b[0;36m_consolidate\u001b[0;34m(blocks)\u001b[0m\n\u001b[1;32m   1910\u001b[0m     \u001b[0;32mfor\u001b[0m \u001b[0;34m(\u001b[0m\u001b[0m_can_consolidate\u001b[0m\u001b[0;34m,\u001b[0m \u001b[0mdtype\u001b[0m\u001b[0;34m)\u001b[0m\u001b[0;34m,\u001b[0m \u001b[0mgroup_blocks\u001b[0m \u001b[0;32min\u001b[0m \u001b[0mgrouper\u001b[0m\u001b[0;34m:\u001b[0m\u001b[0;34m\u001b[0m\u001b[0m\n\u001b[1;32m   1911\u001b[0m         merged_blocks = _merge_blocks(\n\u001b[0;32m-> 1912\u001b[0;31m             \u001b[0mlist\u001b[0m\u001b[0;34m(\u001b[0m\u001b[0mgroup_blocks\u001b[0m\u001b[0;34m)\u001b[0m\u001b[0;34m,\u001b[0m \u001b[0mdtype\u001b[0m\u001b[0;34m=\u001b[0m\u001b[0mdtype\u001b[0m\u001b[0;34m,\u001b[0m \u001b[0m_can_consolidate\u001b[0m\u001b[0;34m=\u001b[0m\u001b[0m_can_consolidate\u001b[0m\u001b[0;34m\u001b[0m\u001b[0m\n\u001b[0m\u001b[1;32m   1913\u001b[0m         )\n\u001b[1;32m   1914\u001b[0m         \u001b[0mnew_blocks\u001b[0m \u001b[0;34m=\u001b[0m \u001b[0m_extend_blocks\u001b[0m\u001b[0;34m(\u001b[0m\u001b[0mmerged_blocks\u001b[0m\u001b[0;34m,\u001b[0m \u001b[0mnew_blocks\u001b[0m\u001b[0;34m)\u001b[0m\u001b[0;34m\u001b[0m\u001b[0m\n",
      "\u001b[0;32m~/anaconda3/lib/python3.5/site-packages/pandas/core/internals/blocks.py\u001b[0m in \u001b[0;36m_merge_blocks\u001b[0;34m(blocks, dtype, _can_consolidate)\u001b[0m\n\u001b[1;32m   3319\u001b[0m \u001b[0;34m\u001b[0m\u001b[0m\n\u001b[1;32m   3320\u001b[0m         \u001b[0margsort\u001b[0m \u001b[0;34m=\u001b[0m \u001b[0mnp\u001b[0m\u001b[0;34m.\u001b[0m\u001b[0margsort\u001b[0m\u001b[0;34m(\u001b[0m\u001b[0mnew_mgr_locs\u001b[0m\u001b[0;34m)\u001b[0m\u001b[0;34m\u001b[0m\u001b[0m\n\u001b[0;32m-> 3321\u001b[0;31m         \u001b[0mnew_values\u001b[0m \u001b[0;34m=\u001b[0m \u001b[0mnew_values\u001b[0m\u001b[0;34m[\u001b[0m\u001b[0margsort\u001b[0m\u001b[0;34m]\u001b[0m\u001b[0;34m\u001b[0m\u001b[0m\n\u001b[0m\u001b[1;32m   3322\u001b[0m         \u001b[0mnew_mgr_locs\u001b[0m \u001b[0;34m=\u001b[0m \u001b[0mnew_mgr_locs\u001b[0m\u001b[0;34m[\u001b[0m\u001b[0margsort\u001b[0m\u001b[0;34m]\u001b[0m\u001b[0;34m\u001b[0m\u001b[0m\n\u001b[1;32m   3323\u001b[0m \u001b[0;34m\u001b[0m\u001b[0m\n",
      "\u001b[0;31mMemoryError\u001b[0m: "
     ]
    }
   ],
   "source": [
    "get_numpy_over_time(nb_imports_time_df, 'Python')\n",
    "\n",
    "\n",
    "nb_imports_py2_time_df = nb_imports_df.merge(\n",
    "    notebooks[[str(l).startswith('2') for l in notebooks.lang_version]&(notebooks.lang_name == 'python')][['file','repo_id']], on = 'file'\n",
    ").merge(repos, on = ['repo_id'])\n",
    "\n",
    "get_numpy_over_time(nb_imports_py2_time_df, 'Python 2')\n",
    "\n",
    "nb_imports_py3_time_df = nb_imports_df.merge(\n",
    "    notebooks[[str(l).startswith('3') for l in notebooks.lang_version]&(notebooks.lang_name == 'python')][['file','repo_id']], on = 'file'\n",
    ").merge(repos, on = ['repo_id'])\n",
    "\n",
    "get_numpy_over_time(nb_imports_py3_time_df, 'Python 3')"
   ]
  },
  {
   "cell_type": "markdown",
   "metadata": {},
   "source": [
    "[Collaboration &lt;](Collaboration.ipynb) | [&gt; ML Frameworks](Frameworks.ipynb)"
   ]
  }
 ],
 "metadata": {
  "anaconda-cloud": {},
  "kernelspec": {
   "display_name": "Python 3",
   "language": "python",
   "name": "python3"
  },
  "language_info": {
   "codemirror_mode": {
    "name": "ipython",
    "version": 3
   },
   "file_extension": ".py",
   "mimetype": "text/x-python",
   "name": "python",
   "nbconvert_exporter": "python",
   "pygments_lexer": "ipython3",
   "version": "3.5.5"
  },
  "toc-autonumbering": false,
  "toc-showcode": false,
  "toc-showmarkdowntxt": false
 },
 "nbformat": 4,
 "nbformat_minor": 4
}
