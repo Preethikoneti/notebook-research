{
 "cells": [
  {
   "cell_type": "markdown",
   "metadata": {},
   "source": [
    "[API Design &lt;](11_APIs.ipynb) | [&gt; Jupyter Standards](13_Standards.ipynb)"
   ]
  },
  {
   "cell_type": "markdown",
   "metadata": {},
   "source": [
    "# How are special features used in Jupyter\n",
    "Including Magic, Bash, and Documentation Queries.\n",
    "Looking only at Python notebooks\n",
    "\n",
    "## Results Summary:\n",
    "- 44% of all Python notebooks use at least one of these special features.\n",
    "- 41% of Python notebooks use at least one magic command.\n",
    "    - The most common magic use, by far, is %matplotlib with nearly 1.6 million uses.  Following that, %time is the next most popular at 300,000 uses.\n",
    "    - Among notebooks with at least one magic function, the median number of magic commands is 1 (mean = 1.84)\n",
    "- 6.1% of Python notebooks use at least one bash command. \n",
    "    - Among notebooks with at least one bash command, the median number of bash commands is 2 (mean = 3.26).\n",
    "    - The most frequently used bash commands are pip to install new packages, ls to list the contents of the current directory, wget to download a file from online, and cat to display the contents of a file.\n",
    "- Documentation queries are only found in 0.97% of notebooks. \n",
    "    - Among these notebooks, the median number of queries is 1 (mean = 1.64).\n",
    "    - Queries tend to focus on Pandas (read_csv, Series, fillna, drop), Numpy (array, arange), Matplotlib (plot, subplot), and base Python (print, range, len, and zip).\n",
    "-----\n",
    "\n"
   ]
  },
  {
   "cell_type": "markdown",
   "metadata": {},
   "source": [
    "# Import Packages and Load Data"
   ]
  },
  {
   "cell_type": "code",
   "execution_count": 1,
   "metadata": {},
   "outputs": [],
   "source": [
    "import pandas as pd\n",
    "import load_data\n",
    "import datetime\n",
    "import pickle\n",
    "import re\n",
    "import matplotlib.pyplot as plt"
   ]
  },
  {
   "cell_type": "markdown",
   "metadata": {},
   "source": [
    "Load dataframes"
   ]
  },
  {
   "cell_type": "code",
   "execution_count": 2,
   "metadata": {},
   "outputs": [
    {
     "name": "stdout",
     "output_type": "stream",
     "text": [
      "Notebooks loaded in 0:00:23.814861\n",
      "Special functions loaded in 0:00:10.300541\n",
      "Notebook imports loaded in 0:00:41.849759\n"
     ]
    }
   ],
   "source": [
    "notebooks_temp = load_data.load_notebooks()\n",
    "special_df_temp = load_data.load_special()\n",
    "nb_imports_temp = load_data.load_nb_imports()"
   ]
  },
  {
   "cell_type": "markdown",
   "metadata": {},
   "source": [
    "### Only looking at Python Notebooks"
   ]
  },
  {
   "cell_type": "code",
   "execution_count": 3,
   "metadata": {},
   "outputs": [],
   "source": [
    "notebooks = notebooks_temp.copy()[notebooks_temp.lang_name == 'python']\n",
    "special_df = special_df_temp.copy()[special_df_temp.file.isin(notebooks.file)]\n",
    "nb_imports = nb_imports_temp.copy()[nb_imports_temp.file.isin(notebooks.file)]"
   ]
  },
  {
   "cell_type": "code",
   "execution_count": 4,
   "metadata": {},
   "outputs": [],
   "source": [
    "del special_df_temp\n",
    "del notebooks_temp\n",
    "del nb_imports_temp"
   ]
  },
  {
   "cell_type": "markdown",
   "metadata": {},
   "source": [
    "---\n",
    "# Manipulate Data"
   ]
  },
  {
   "cell_type": "markdown",
   "metadata": {},
   "source": [
    "Add magic, bash, and documentation queries to special dataframe"
   ]
  },
  {
   "cell_type": "code",
   "execution_count": 5,
   "metadata": {},
   "outputs": [],
   "source": [
    "def in_quotes(c):\n",
    "    in_single = False\n",
    "    in_double = False\n",
    "    for char in c:\n",
    "        if char == \"'\":\n",
    "            in_single = not in_single\n",
    "        elif char == '\"':\n",
    "            in_double = not in_double\n",
    "        elif char == '!':\n",
    "            return (in_single or in_double)"
   ]
  },
  {
   "cell_type": "code",
   "execution_count": 6,
   "metadata": {},
   "outputs": [],
   "source": [
    "def after_ok(c):\n",
    "    if c.startswith('!'):\n",
    "        return True\n",
    "    else:\n",
    "        return c.split('!')[0][-1] in [' ','=']"
   ]
  },
  {
   "cell_type": "code",
   "execution_count": 7,
   "metadata": {},
   "outputs": [],
   "source": [
    "def is_string(possible_string):\n",
    "    possible_string = re.sub('(?<=[a-zA-Z_])[0-9/.]','',possible_string)\n",
    "    return len(re.sub('[A-Za-z_/.]','',possible_string)) == 0"
   ]
  },
  {
   "cell_type": "code",
   "execution_count": 8,
   "metadata": {},
   "outputs": [],
   "source": [
    "special_df['magic'] = [\n",
    "    [c for c in code if c.startswith('%') \n",
    "        and not c.startswith('% ') \n",
    "        and not c.startswith('%% ') \n",
    "        and len(c.replace('%','').split()) > 0\n",
    "        and is_string(c.replace('%','').split()[0])\n",
    "        and c not in ['%','%%']\n",
    "    ] \n",
    "    for code in special_df.code\n",
    "]\n",
    "\n",
    "i = 0\n",
    "bash = []\n",
    "for code in special_df.code:\n",
    "    this_bash = []\n",
    "    for c in code:\n",
    "        if ('!' in c.split('#')[0]\n",
    "        and len(c.split('#')[0].split('!')) > 1\n",
    "        and c.split('#')[0].split('!')[1].strip() != ''\n",
    "        and not c.split('#')[0].endswith('!')\n",
    "        and not in_quotes(c)\n",
    "        and after_ok(c)\n",
    "        and not c.split('#')[0].split('!')[1].startswith('=')\n",
    "        and not c.split('#')[0].split('!')[1].startswith('<')\n",
    "        and not c.split('#')[0].split('!')[1].startswith('>')):\n",
    "            this_bash.append(c.split('#')[0].split('!')[1].split()[0])\n",
    "                \n",
    "    bash.append(this_bash)\n",
    "    i += 1\n",
    "special_df['bash'] = bash\n",
    "\n",
    "special_df['doc'] = [\n",
    "    [c.split('#')[0].strip() for c in code if \n",
    "        c.startswith('?') or (\n",
    "            c.split('#')[0].endswith('?') \n",
    "            and not c.split('#')[0].endswith(' ?')\n",
    "        )\n",
    "        and len(c.replace('?','').split('#')[0].strip().split()) == 1\n",
    "        and is_string(c.replace('?','').split()[0])\n",
    "        and c != '?'\n",
    "        and c.split('#')[0].count('?')<3\n",
    "    ] \n",
    "    for code in special_df.code\n",
    "]\n",
    "added = False\n",
    "replaced_im = False"
   ]
  },
  {
   "cell_type": "code",
   "execution_count": 9,
   "metadata": {},
   "outputs": [],
   "source": [
    "if 'imports' not in special_df.columns:\n",
    "    special_df = special_df.merge(nb_imports[['file','imports']], on = 'file')"
   ]
  },
  {
   "cell_type": "code",
   "execution_count": 10,
   "metadata": {},
   "outputs": [],
   "source": [
    "special_df['num_doc'] = [len(d) for d in special_df.doc]\n",
    "i = 0"
   ]
  },
  {
   "cell_type": "code",
   "execution_count": 11,
   "metadata": {},
   "outputs": [],
   "source": [
    "if not replaced_im:\n",
    "    def replace_alias(row):\n",
    "        doc = special_df.loc[row].doc\n",
    "        new_doc = []\n",
    "        imports = special_df.loc[row].imports\n",
    "        for d in doc:\n",
    "            for im in imports:\n",
    "                if im[1] in d:\n",
    "                    d = re.sub('(?<![a-zA-Z_])'+im[1]+'(?![a-zA-Z_])',im[0],d)\n",
    "            new_doc.append(d)\n",
    "        special_df.at[row, 'doc'] = new_doc\n",
    "\n",
    "    for i in special_df[special_df.num_doc>0].index[\n",
    "        special_df[special_df.num_doc>0].index > i\n",
    "    ]:\n",
    "        replace_alias(i)\n",
    "    replaced_im = True"
   ]
  },
  {
   "cell_type": "code",
   "execution_count": 12,
   "metadata": {},
   "outputs": [],
   "source": [
    "bash_commands = pd.Series([\n",
    "    b.replace('!','').split()[0] \n",
    "    for b in load_data.flatten(special_df['bash'])\n",
    "]).value_counts().index"
   ]
  },
  {
   "cell_type": "code",
   "execution_count": 13,
   "metadata": {},
   "outputs": [],
   "source": [
    "special_df['num_magic'] = [len(m) for m in special_df.magic]\n",
    "special_df['num_bash'] = [len(b) for b in special_df.bash]\n",
    "special_df['num_doc'] = [len(d) for d in special_df.doc]\n",
    "special_df['num_special'] = special_df['num_magic'] + special_df['num_bash'] + special_df['num_doc']\n"
   ]
  },
  {
   "cell_type": "code",
   "execution_count": 14,
   "metadata": {},
   "outputs": [],
   "source": [
    "special_df['doc'] = [[d for d in doc if is_string(d.replace('?',''))] for doc in special_df['doc']]\n",
    "special_df['num_doc'] = [len(doc) for doc in special_df['doc']]"
   ]
  },
  {
   "cell_type": "markdown",
   "metadata": {},
   "source": [
    "---\n",
    "# Visualizations and Statistics"
   ]
  },
  {
   "cell_type": "code",
   "execution_count": 15,
   "metadata": {},
   "outputs": [
    {
     "name": "stdout",
     "output_type": "stream",
     "text": [
      "44.39% of notebooks use at least one special feature.\n",
      "Among notebooks that use at least one special feature, there is an average of 2.19 uses per notebook (median = 1.0).\n"
     ]
    }
   ],
   "source": [
    "print(\"{0}% of notebooks use at least one special feature.\".format(\n",
    "    round(100*sum(special_df.num_special > 0) / len(special_df), 2)\n",
    "))\n",
    "\n",
    "print(\"Among notebooks that use at least one special feature, there is an average of {0} uses per notebook (median = {1}).\".format(\n",
    "    round(special_df[special_df.num_special > 0].num_special.mean(), 2),\n",
    "    special_df[special_df.num_special > 0].num_special.median()\n",
    "))"
   ]
  },
  {
   "cell_type": "markdown",
   "metadata": {},
   "source": [
    "# Magic"
   ]
  },
  {
   "cell_type": "markdown",
   "metadata": {},
   "source": [
    "## What are the most popular magic commands"
   ]
  },
  {
   "cell_type": "code",
   "execution_count": 16,
   "metadata": {},
   "outputs": [],
   "source": [
    "magic_cell_uses = pd.Series([\n",
    "    c.split()[0][2:] for c in load_data.flatten(special_df.magic) \n",
    "    if c.startswith('%%')\n",
    "])\n",
    "magic_line_uses = pd.Series([\n",
    "    c.split()[0][1:] for c in load_data.flatten(special_df.magic) \n",
    "    if c.startswith('%') and not c.startswith('%%')\n",
    "])\n",
    "magic_counts = pd.concat([magic_cell_uses, magic_line_uses]).value_counts().reset_index().rename(columns = {'index':'magic', 0:'num_uses'})"
   ]
  },
  {
   "cell_type": "code",
   "execution_count": 17,
   "metadata": {},
   "outputs": [
    {
     "data": {
      "image/png": "[encoded data removed]",
      "text/plain": [
       "<Figure size 1080x360 with 2 Axes>"
      ]
     },
     "metadata": {
      "needs_background": "light"
     },
     "output_type": "display_data"
    }
   ],
   "source": [
    "fig = plt.figure(figsize = (15, 5))\n",
    "\n",
    "plt.subplot(1,2,1)\n",
    "x = magic_counts[:20].magic\n",
    "x_pos = range(len(x))\n",
    "y = magic_counts[:20].num_uses\n",
    "plt.bar(x_pos, y, color = 'teal')\n",
    "plt.xticks(x_pos, x, rotation = 70)\n",
    "plt.ylabel('Number of Uses')\n",
    "plt.xlabel('Magic Command')\n",
    "plt.title('%Magic Use in Jupyter Notebooks')\n",
    "\n",
    "plt.subplot(1,2,2)\n",
    "x = magic_counts[1:20].magic\n",
    "x_pos = range(len(x))\n",
    "y = magic_counts[1:20].num_uses\n",
    "plt.bar(x_pos, y, color = 'teal')\n",
    "plt.xticks(x_pos, x, rotation = 70)\n",
    "plt.ylabel('Number of Uses')\n",
    "plt.xlabel('Magic Command')\n",
    "plt.title('Zooming in')\n",
    "\n",
    "plt.tight_layout()\n",
    "plt.show()"
   ]
  },
  {
   "cell_type": "markdown",
   "metadata": {},
   "source": [
    "## How are magic functions used"
   ]
  },
  {
   "cell_type": "code",
   "execution_count": 18,
   "metadata": {},
   "outputs": [
    {
     "name": "stdout",
     "output_type": "stream",
     "text": [
      "81.24% of magic uses are for a line, and the other 18.76% for a whole cell.\n"
     ]
    }
   ],
   "source": [
    "print(\"{0}% of magic uses are for a line, and the other {1}% for a whole cell.\".format(\n",
    "    round(100*len(magic_line_uses)/(len(magic_line_uses) + len(magic_cell_uses)), 2),\n",
    "    round(100*len(magic_cell_uses)/(len(magic_line_uses) + len(magic_cell_uses)), 2)\n",
    "))"
   ]
  },
  {
   "cell_type": "markdown",
   "metadata": {},
   "source": [
    "## How many magic functions are used"
   ]
  },
  {
   "cell_type": "code",
   "execution_count": 19,
   "metadata": {},
   "outputs": [
    {
     "name": "stdout",
     "output_type": "stream",
     "text": [
      "41.31% of notebooks use at least one magic function. Among notebooks that have at least one magic use, the average is 1.83 uses per notebook (median = 1.0).\n"
     ]
    }
   ],
   "source": [
    "print(\"{0}% of notebooks use at least one magic function. Among notebooks that have at least one magic use, the average is {1} uses per notebook (median = {2}).\".format(\n",
    "    round(100*sum(special_df.num_magic > 0) / len(special_df), 2),\n",
    "    round(special_df[special_df.num_magic > 0].num_magic.mean(), 2),\n",
    "    special_df[special_df.num_magic > 0].num_magic.median()\n",
    "))"
   ]
  },
  {
   "cell_type": "markdown",
   "metadata": {},
   "source": [
    "What percent use non matplotlib"
   ]
  },
  {
   "cell_type": "code",
   "execution_count": 20,
   "metadata": {},
   "outputs": [
    {
     "name": "stdout",
     "output_type": "stream",
     "text": [
      "The notebook with the most magic uses has 366 uses. This can be found at: https://github.com/vlawlor/Kid-PRT/blob/fc2c4a9383650be30a91518ee632a5db98b07e28/KIDPRT.ipynb.\n"
     ]
    }
   ],
   "source": [
    "print(\"The notebook with the most magic uses has {0} uses. This can be found at: {1}.\".format(\n",
    "    special_df.num_magic.max(),\n",
    "    notebooks[notebooks.file == special_df[special_df.num_magic == special_df.num_magic.max()].file.values[0]].html_url.values[0]\n",
    "))"
   ]
  },
  {
   "cell_type": "markdown",
   "metadata": {},
   "source": [
    "# Bash"
   ]
  },
  {
   "cell_type": "markdown",
   "metadata": {},
   "source": [
    "## What bash commands do people execute in notebooks"
   ]
  },
  {
   "cell_type": "code",
   "execution_count": 21,
   "metadata": {},
   "outputs": [],
   "source": [
    "bash_counts = pd.Series([\n",
    "    c.replace('!','').split()[0] \n",
    "    for c in load_data.flatten(special_df.code) \n",
    "    if c.startswith('!') and len( c.replace('!','').split()) > 0\n",
    "]).value_counts().reset_index().rename(columns = {'index':'bash', 0:'num_uses'})"
   ]
  },
  {
   "cell_type": "code",
   "execution_count": 22,
   "metadata": {},
   "outputs": [
    {
     "data": {
      "image/png": "[encoded data removed]",
      "text/plain": [
       "<Figure size 432x288 with 1 Axes>"
      ]
     },
     "metadata": {
      "needs_background": "light"
     },
     "output_type": "display_data"
    }
   ],
   "source": [
    "x = bash_counts[:20].bash\n",
    "x_pos = range(len(x))\n",
    "y = bash_counts[:20].num_uses\n",
    "plt.bar(x_pos, y, color = 'teal')\n",
    "plt.xticks(x_pos, x, rotation = 70)\n",
    "plt.ylabel('Number of Uses')\n",
    "plt.xlabel('Bash Command')\n",
    "plt.title('!Bash Use in Jupyter Notebooks')\n",
    "plt.show()"
   ]
  },
  {
   "cell_type": "markdown",
   "metadata": {},
   "source": [
    "## How many bash commands are used"
   ]
  },
  {
   "cell_type": "code",
   "execution_count": 23,
   "metadata": {},
   "outputs": [
    {
     "name": "stdout",
     "output_type": "stream",
     "text": [
      "6.05% of notebooks use at least one bash command. Among notebooks that have at least one bash command, the average is 3.27 uses per notebook (median = 2.0).\n"
     ]
    }
   ],
   "source": [
    "print(\"{0}% of notebooks use at least one bash command. Among notebooks that have at least one bash command, the average is {1} uses per notebook (median = {2}).\".format(\n",
    "    round(100*sum(special_df.num_bash > 0) / len(special_df), 2),\n",
    "    round(special_df[special_df.num_bash > 0].num_bash.mean(), 2),\n",
    "    special_df[special_df.num_bash > 0].num_bash.median()\n",
    "))"
   ]
  },
  {
   "cell_type": "code",
   "execution_count": 24,
   "metadata": {},
   "outputs": [
    {
     "name": "stdout",
     "output_type": "stream",
     "text": [
      "The notebook with the most bash commands has 409 uses. This can be found at: https://github.com/tylerdann/2014-Bird-Creek-linkage-map/blob/2b8ae9832a23bbf9f0c8edd91c6119b2ce909d1f/2014%20Bird%20Creek%20linkage%20map.ipynb.\n"
     ]
    }
   ],
   "source": [
    "print(\"The notebook with the most bash commands has {0} uses. This can be found at: {1}.\".format(\n",
    "    special_df.num_bash.max(),\n",
    "    notebooks[notebooks.file == special_df[special_df.num_bash == special_df.num_bash.max()].file.values[0]].html_url.values[0]\n",
    "))"
   ]
  },
  {
   "cell_type": "markdown",
   "metadata": {},
   "source": [
    "# Documentation"
   ]
  },
  {
   "cell_type": "markdown",
   "metadata": {},
   "source": [
    "## What documentation do people search for"
   ]
  },
  {
   "cell_type": "code",
   "execution_count": 25,
   "metadata": {},
   "outputs": [],
   "source": [
    "doc_counts = pd.Series(\n",
    "    [d.replace('?','') for d in load_data.flatten(special_df.doc) if d.replace('?','')!='']\n",
    ").value_counts().reset_index().rename(columns = {'index':'doc', 0:'num_uses'})"
   ]
  },
  {
   "cell_type": "code",
   "execution_count": 26,
   "metadata": {},
   "outputs": [
    {
     "data": {
      "image/png": "[encoded data removed]",
      "text/plain": [
       "<Figure size 432x216 with 1 Axes>"
      ]
     },
     "metadata": {
      "needs_background": "light"
     },
     "output_type": "display_data"
    }
   ],
   "source": [
    "fig = plt.figure(figsize = (6, 3))\n",
    "x = doc_counts[doc_counts.num_uses > 300].doc\n",
    "x_pos = range(len(x))\n",
    "y = doc_counts[doc_counts.num_uses > 300].num_uses\n",
    "plt.bar(x_pos, y, color = 'teal')\n",
    "plt.xticks(x_pos, x, rotation = 70)\n",
    "plt.ylabel('Number of Uses')\n",
    "plt.xlabel('Documentation Query')\n",
    "plt.title('?Documentation Query Use in Jupyter Notebooks')\n",
    "plt.show()"
   ]
  },
  {
   "cell_type": "markdown",
   "metadata": {},
   "source": [
    "## How many documentation queries are used"
   ]
  },
  {
   "cell_type": "code",
   "execution_count": 27,
   "metadata": {},
   "outputs": [
    {
     "name": "stdout",
     "output_type": "stream",
     "text": [
      "0.97% of notebooks use at least one documentation query. Among notebooks that have at least one documentation query, the average is 1.64 uses per notebook (median = 1.0).\n"
     ]
    }
   ],
   "source": [
    "print(\"{0}% of notebooks use at least one documentation query. Among notebooks that have at least one documentation query, the average is {1} uses per notebook (median = {2}).\".format(\n",
    "    round(100*sum(special_df.num_doc > 0) / len(special_df), 2),\n",
    "    round(special_df[special_df.num_doc > 0].num_doc.mean(), 2),\n",
    "    special_df[special_df.num_doc > 0].num_doc.median()\n",
    "))"
   ]
  },
  {
   "cell_type": "code",
   "execution_count": 28,
   "metadata": {},
   "outputs": [
    {
     "name": "stdout",
     "output_type": "stream",
     "text": [
      "The notebook with the most documentation queries has 68 uses. This can be found at: https://github.com/rohitsharma123123/finalnow/blob/89c826bf51ea86a7baf78060d5a590e3edc2e0cf/Notebook_wlstm_ga.ipynb.\n"
     ]
    }
   ],
   "source": [
    "print(\"The notebook with the most documentation queries has {0} uses. This can be found at: {1}.\".format(\n",
    "    special_df.num_doc.max(),\n",
    "    notebooks[notebooks.file == special_df[special_df.num_doc == special_df.num_doc.max()].file.values[0]].html_url.values[0]\n",
    "))"
   ]
  },
  {
   "cell_type": "markdown",
   "metadata": {},
   "source": [
    "[API Design &lt;](11_APIs.ipynb) | [&gt; Jupyter Standards](13_Standards.ipynb)"
   ]
  }
 ],
 "metadata": {
  "anaconda-cloud": {},
  "kernelspec": {
   "display_name": "Python 3",
   "language": "python",
   "name": "python3"
  },
  "language_info": {
   "codemirror_mode": {
    "name": "ipython",
    "version": 3
   },
   "file_extension": ".py",
   "mimetype": "text/x-python",
   "name": "python",
   "nbconvert_exporter": "python",
   "pygments_lexer": "ipython3",
   "version": "3.7.3"
  }
 },
 "nbformat": 4,
 "nbformat_minor": 4
}
