{
 "cells": [
  {
   "cell_type": "markdown",
   "metadata": {},
   "source": [
    "[Data Science Workflow &lt;](14_Time.ipynb) | [&gt; Hall of Fame](16_HallOfFame.ipynb)"
   ]
  },
  {
   "cell_type": "markdown",
   "metadata": {},
   "source": [
    "# Exploring Subsets Interactively\n",
    "\n",
    "In this notebook you can select criteria for a subset to inspect and compare to the entire dataset.\n",
    "\n",
    "#### Instructions:\n",
    "1. Run Cell 1, wait for \"DONE IN &lt;time&gt;\" message before continuing.\n",
    "2. Run Cell 2, fill out criteria before continuing.\n",
    "3. Run Cell 3, view report.\n",
    "4. Repeat steps 2 and 3 with new criteria, if desired.\n",
    "\n",
    "#### Prerequisites:\n",
    "- four final CSV file local in `./data_final`\n",
    "- all aggregations created by `aggregate.py` local in `./analysis_data`\n",
    "- ipywidgets\n",
    "    - `pip install ipywidgets`\n",
    "- nodejs\n",
    "    - `conda install nodejs`\n",
    "- npm \n",
    "    - `pip install npm`\n",
    "- labextension\n",
    "    - for jupyter lab: `jupyter labextension install @jupyter-widgets/jupyterlab-manager)`\n",
    "    - for jupyter notebook: `notebook extension (jupyter nbextension enable --py widgetsnbextension`"
   ]
  },
  {
   "cell_type": "markdown",
   "metadata": {},
   "source": [
    "---"
   ]
  },
  {
   "cell_type": "markdown",
   "metadata": {},
   "source": [
    "## Run Cell 1\n",
    "**This takes about 10 minutes. Wait for \"DONE IN &lt;time&gt;\" message before continuing!**"
   ]
  },
  {
   "cell_type": "code",
   "execution_count": 1,
   "metadata": {},
   "outputs": [
    {
     "name": "stdout",
     "output_type": "stream",
     "text": [
      "Notebooks loaded in 0:00:23.827295\n",
      "Repos loaded in 0:00:04.111184\n",
      "Owners loaded in 0:00:00.706124\n",
      "Notebook imports loaded in 0:00:39.837855\n",
      "Errors loaded in 0:00:03.055897\n",
      "Cell stats loaded in 0:00:01.759787\n",
      "Cell order loaded in 0:00:28.168626\n",
      "Outputs loaded in 0:00:05.751844\n",
      "Statuses loaded in 0:00:01.012728\n",
      "Cell stats loaded in 0:00:01.887387\n",
      "Collaboration statuses loaded in 0:00:00.029867\n",
      "Special functions loaded in 0:00:13.628249\n",
      "Framework uses loaded in 0:00:11.300618\n",
      "Educational status loaded in 0:00:00.158456\n",
      "\n",
      "--------------------------------------------------------------------------------\n",
      "DONE IN 0:09:06.976304\n"
     ]
    }
   ],
   "source": [
    "import interactive\n",
    "import load_data\n",
    "import datetime\n",
    "from IPython.core.display import HTML\n",
    "\n",
    "# 10 minutes to load data\n",
    "start = datetime.datetime.now()\n",
    "data_frames = interactive.data()\n",
    "end = datetime.datetime.now()\n",
    "print('\\n'+'-'*80+'\\n'+'DONE IN {0}'.format(end - start))"
   ]
  },
  {
   "cell_type": "code",
   "execution_count": 2,
   "metadata": {},
   "outputs": [
    {
     "data": {
      "text/markdown": [
       "### Notebook Basics"
      ],
      "text/plain": [
       "<IPython.core.display.Markdown object>"
      ]
     },
     "metadata": {},
     "output_type": "display_data"
    },
    {
     "data": {
      "application/vnd.jupyter.widget-view+json": {
       "model_id": "628cee6d4b474cb59c10b2ec52b4b583",
       "version_major": 2,
       "version_minor": 0
      },
      "text/plain": [
       "interactive(children=(RadioButtons(description='Date choice:', index=1, options=(('Created', 'created_at'), ('…"
      ]
     },
     "metadata": {},
     "output_type": "display_data"
    },
    {
     "data": {
      "application/vnd.jupyter.widget-view+json": {
       "model_id": "b8486d9dde6a4f529750f32163625c6f",
       "version_major": 2,
       "version_minor": 0
      },
      "text/plain": [
       "interactive(children=(DatePicker(value=Timestamp('2011-10-24 03:59:11+0000', tz='UTC'), description='Start dat…"
      ]
     },
     "metadata": {},
     "output_type": "display_data"
    },
    {
     "data": {
      "application/vnd.jupyter.widget-view+json": {
       "model_id": "40c94f22d3ff4febbe731f81c6516b3c",
       "version_major": 2,
       "version_minor": 0
      },
      "text/plain": [
       "interactive(children=(DatePicker(value=Timestamp('2019-07-14 23:59:31+0000', tz='UTC'), description='End date:…"
      ]
     },
     "metadata": {},
     "output_type": "display_data"
    },
    {
     "name": "stdout",
     "output_type": "stream",
     "text": [
      "\n"
     ]
    },
    {
     "data": {
      "text/markdown": [
       "### Collaboration"
      ],
      "text/plain": [
       "<IPython.core.display.Markdown object>"
      ]
     },
     "metadata": {},
     "output_type": "display_data"
    },
    {
     "data": {
      "application/vnd.jupyter.widget-view+json": {
       "model_id": "23b73128b7304186b0ea6962809a8676",
       "version_major": 2,
       "version_minor": 0
      },
      "text/plain": [
       "interactive(children=(BoundedIntText(value=0, description='Minimum stargazers:', max=22831, style=DescriptionS…"
      ]
     },
     "metadata": {},
     "output_type": "display_data"
    },
    {
     "data": {
      "application/vnd.jupyter.widget-view+json": {
       "model_id": "7b727431845e4a5db29feebeb240ffcd",
       "version_major": 2,
       "version_minor": 0
      },
      "text/plain": [
       "interactive(children=(BoundedIntText(value=0, description='Minimum watchers:', max=22831, style=DescriptionSty…"
      ]
     },
     "metadata": {},
     "output_type": "display_data"
    },
    {
     "data": {
      "application/vnd.jupyter.widget-view+json": {
       "model_id": "447f34ed5eb04ff9b219350550e0824f",
       "version_major": 2,
       "version_minor": 0
      },
      "text/plain": [
       "interactive(children=(BoundedIntText(value=0, description='Minimum forks:', max=17634, style=DescriptionStyle(…"
      ]
     },
     "metadata": {},
     "output_type": "display_data"
    },
    {
     "data": {
      "application/vnd.jupyter.widget-view+json": {
       "model_id": "b60c3193bf1c459c9182aa22982028c3",
       "version_major": 2,
       "version_minor": 0
      },
      "text/plain": [
       "interactive(children=(BoundedIntText(value=0, description='Minimum issues:', max=2003, style=DescriptionStyle(…"
      ]
     },
     "metadata": {},
     "output_type": "display_data"
    },
    {
     "name": "stdout",
     "output_type": "stream",
     "text": [
      "\n"
     ]
    },
    {
     "data": {
      "text/markdown": [
       "### Owners"
      ],
      "text/plain": [
       "<IPython.core.display.Markdown object>"
      ]
     },
     "metadata": {},
     "output_type": "display_data"
    },
    {
     "data": {
      "application/vnd.jupyter.widget-view+json": {
       "model_id": "40f0a455981942b0b8a278cdcd83af16",
       "version_major": 2,
       "version_minor": 0
      },
      "text/plain": [
       "interactive(children=(Checkbox(value=True, description='Individual Users', style=DescriptionStyle(description_…"
      ]
     },
     "metadata": {},
     "output_type": "display_data"
    },
    {
     "data": {
      "application/vnd.jupyter.widget-view+json": {
       "model_id": "35ce8703b67f44d2b7e6a74b571f598e",
       "version_major": 2,
       "version_minor": 0
      },
      "text/plain": [
       "interactive(children=(Checkbox(value=True, description='Organizations', style=DescriptionStyle(description_wid…"
      ]
     },
     "metadata": {},
     "output_type": "display_data"
    },
    {
     "data": {
      "application/vnd.jupyter.widget-view+json": {
       "model_id": "3f5662a6547b4c6c9f4e61e996a7e9d2",
       "version_major": 2,
       "version_minor": 0
      },
      "text/plain": [
       "interactive(children=(Checkbox(value=True, description='Educational Owners', style=DescriptionStyle(descriptio…"
      ]
     },
     "metadata": {},
     "output_type": "display_data"
    },
    {
     "data": {
      "application/vnd.jupyter.widget-view+json": {
       "model_id": "76ed400e83a54ff4898ff56050e9a278",
       "version_major": 2,
       "version_minor": 0
      },
      "text/plain": [
       "interactive(children=(Checkbox(value=True, description='Not Educational Owners', style=DescriptionStyle(descri…"
      ]
     },
     "metadata": {},
     "output_type": "display_data"
    },
    {
     "name": "stdout",
     "output_type": "stream",
     "text": [
      "\n"
     ]
    },
    {
     "data": {
      "text/markdown": [
       "### Uses"
      ],
      "text/plain": [
       "<IPython.core.display.Markdown object>"
      ]
     },
     "metadata": {},
     "output_type": "display_data"
    },
    {
     "data": {
      "application/vnd.jupyter.widget-view+json": {
       "model_id": "35fb5188654c42a88c483f9631802835",
       "version_major": 2,
       "version_minor": 0
      },
      "text/plain": [
       "interactive(children=(Checkbox(value=False, description='Uses a Machine Learning Framework?', style=Descriptio…"
      ]
     },
     "metadata": {},
     "output_type": "display_data"
    },
    {
     "data": {
      "application/vnd.jupyter.widget-view+json": {
       "model_id": "6c53c7bc21d744b3a6c2c268bd5336c8",
       "version_major": 2,
       "version_minor": 0
      },
      "text/plain": [
       "interactive(children=(Checkbox(value=False, description='Uses a Visualization Package?', style=DescriptionStyl…"
      ]
     },
     "metadata": {},
     "output_type": "display_data"
    },
    {
     "name": "stdout",
     "output_type": "stream",
     "text": [
      "\n"
     ]
    },
    {
     "data": {
      "text/markdown": [
       "### Platforms"
      ],
      "text/plain": [
       "<IPython.core.display.Markdown object>"
      ]
     },
     "metadata": {},
     "output_type": "display_data"
    },
    {
     "data": {
      "application/vnd.jupyter.widget-view+json": {
       "model_id": "e4c10a2fb9ea41bdb8aa187c37ef12a9",
       "version_major": 2,
       "version_minor": 0
      },
      "text/plain": [
       "interactive(children=(Checkbox(value=False, description='Google Colaboratory', style=DescriptionStyle(descript…"
      ]
     },
     "metadata": {},
     "output_type": "display_data"
    },
    {
     "name": "stdout",
     "output_type": "stream",
     "text": [
      "\n"
     ]
    }
   ],
   "source": [
    "query = interactive.interactive(data_frames)"
   ]
  },
  {
   "cell_type": "markdown",
   "metadata": {},
   "source": [
    "## Run Cell 3\n",
    "**This takes about 1 minute. View report! Repeat Cells 2 and 3 with different criteria.**"
   ]
  },
  {
   "cell_type": "code",
   "execution_count": 3,
   "metadata": {},
   "outputs": [
    {
     "name": "stdout",
     "output_type": "stream",
     "text": [
      "Subsetting to Python notebooks pushed between 2011-10-24 and 2019-07-14.\n",
      "Notebooks considered use at least one visualization package.\n",
      "1,969,609 (50.71%) notebooks fit your criteria.\n",
      "\n",
      "-------------------------------------------------------------------------\n",
      "\n",
      "\n"
     ]
    },
    {
     "data": {
      "text/markdown": [
       "### Summary Statistics"
      ],
      "text/plain": [
       "<IPython.core.display.Markdown object>"
      ]
     },
     "metadata": {},
     "output_type": "display_data"
    },
    {
     "data": {
      "text/html": [
       "<div>\n",
       "<style scoped>\n",
       "    .dataframe tbody tr th:only-of-type {\n",
       "        vertical-align: middle;\n",
       "    }\n",
       "\n",
       "    .dataframe tbody tr th {\n",
       "        vertical-align: top;\n",
       "    }\n",
       "\n",
       "    .dataframe thead th {\n",
       "        text-align: right;\n",
       "    }\n",
       "</style>\n",
       "<table border=\"1\" class=\"dataframe\">\n",
       "  <thead>\n",
       "    <tr style=\"text-align: right;\">\n",
       "      <th></th>\n",
       "      <th>num_cells</th>\n",
       "      <th>forks_count</th>\n",
       "      <th>open_issues_count</th>\n",
       "      <th>stargazers_count</th>\n",
       "      <th>subscribers_count</th>\n",
       "      <th>watchers_count</th>\n",
       "      <th>lines_of_code</th>\n",
       "      <th>num_words</th>\n",
       "    </tr>\n",
       "  </thead>\n",
       "  <tbody>\n",
       "    <tr>\n",
       "      <th>mean</th>\n",
       "      <td>34.05</td>\n",
       "      <td>4.73</td>\n",
       "      <td>0.42</td>\n",
       "      <td>8.24</td>\n",
       "      <td>1.82</td>\n",
       "      <td>8.24</td>\n",
       "      <td>190.43</td>\n",
       "      <td>477.06</td>\n",
       "    </tr>\n",
       "    <tr>\n",
       "      <th>median</th>\n",
       "      <td>24.00</td>\n",
       "      <td>0.00</td>\n",
       "      <td>0.00</td>\n",
       "      <td>0.00</td>\n",
       "      <td>1.00</td>\n",
       "      <td>0.00</td>\n",
       "      <td>127.00</td>\n",
       "      <td>91.00</td>\n",
       "    </tr>\n",
       "    <tr>\n",
       "      <th>min</th>\n",
       "      <td>0.00</td>\n",
       "      <td>0.00</td>\n",
       "      <td>0.00</td>\n",
       "      <td>0.00</td>\n",
       "      <td>0.00</td>\n",
       "      <td>0.00</td>\n",
       "      <td>1.00</td>\n",
       "      <td>0.00</td>\n",
       "    </tr>\n",
       "    <tr>\n",
       "      <th>max</th>\n",
       "      <td>1641.00</td>\n",
       "      <td>17634.00</td>\n",
       "      <td>2003.00</td>\n",
       "      <td>22831.00</td>\n",
       "      <td>2446.00</td>\n",
       "      <td>22831.00</td>\n",
       "      <td>73131.00</td>\n",
       "      <td>87991.00</td>\n",
       "    </tr>\n",
       "  </tbody>\n",
       "</table>\n",
       "</div>"
      ],
      "text/plain": [
       "        num_cells  forks_count  open_issues_count  stargazers_count  \\\n",
       "mean        34.05         4.73               0.42              8.24   \n",
       "median      24.00         0.00               0.00              0.00   \n",
       "min          0.00         0.00               0.00              0.00   \n",
       "max       1641.00     17634.00            2003.00          22831.00   \n",
       "\n",
       "        subscribers_count  watchers_count  lines_of_code  num_words  \n",
       "mean                 1.82            8.24         190.43     477.06  \n",
       "median               1.00            0.00         127.00      91.00  \n",
       "min                  0.00            0.00           1.00       0.00  \n",
       "max               2446.00        22831.00       73131.00   87991.00  "
      ]
     },
     "metadata": {},
     "output_type": "display_data"
    },
    {
     "data": {
      "text/markdown": [
       "##### Compare to all:"
      ],
      "text/plain": [
       "<IPython.core.display.Markdown object>"
      ]
     },
     "metadata": {},
     "output_type": "display_data"
    },
    {
     "data": {
      "text/html": [
       "<div>\n",
       "<style scoped>\n",
       "    .dataframe tbody tr th:only-of-type {\n",
       "        vertical-align: middle;\n",
       "    }\n",
       "\n",
       "    .dataframe tbody tr th {\n",
       "        vertical-align: top;\n",
       "    }\n",
       "\n",
       "    .dataframe thead th {\n",
       "        text-align: right;\n",
       "    }\n",
       "</style>\n",
       "<table border=\"1\" class=\"dataframe\">\n",
       "  <thead>\n",
       "    <tr style=\"text-align: right;\">\n",
       "      <th></th>\n",
       "      <th>num_cells</th>\n",
       "      <th>forks_count</th>\n",
       "      <th>open_issues_count</th>\n",
       "      <th>stargazers_count</th>\n",
       "      <th>subscribers_count</th>\n",
       "      <th>watchers_count</th>\n",
       "      <th>lines_of_code</th>\n",
       "      <th>num_words</th>\n",
       "    </tr>\n",
       "  </thead>\n",
       "  <tbody>\n",
       "    <tr>\n",
       "      <th>mean</th>\n",
       "      <td>28.76</td>\n",
       "      <td>5.56</td>\n",
       "      <td>0.49</td>\n",
       "      <td>9.88</td>\n",
       "      <td>2.13</td>\n",
       "      <td>9.88</td>\n",
       "      <td>147.26</td>\n",
       "      <td>405.18</td>\n",
       "    </tr>\n",
       "    <tr>\n",
       "      <th>median</th>\n",
       "      <td>19.00</td>\n",
       "      <td>0.00</td>\n",
       "      <td>0.00</td>\n",
       "      <td>0.00</td>\n",
       "      <td>1.00</td>\n",
       "      <td>0.00</td>\n",
       "      <td>88.00</td>\n",
       "      <td>60.00</td>\n",
       "    </tr>\n",
       "    <tr>\n",
       "      <th>min</th>\n",
       "      <td>0.00</td>\n",
       "      <td>0.00</td>\n",
       "      <td>0.00</td>\n",
       "      <td>0.00</td>\n",
       "      <td>0.00</td>\n",
       "      <td>0.00</td>\n",
       "      <td>1.00</td>\n",
       "      <td>0.00</td>\n",
       "    </tr>\n",
       "    <tr>\n",
       "      <th>max</th>\n",
       "      <td>1641.00</td>\n",
       "      <td>17634.00</td>\n",
       "      <td>2003.00</td>\n",
       "      <td>22831.00</td>\n",
       "      <td>2446.00</td>\n",
       "      <td>22831.00</td>\n",
       "      <td>462118.00</td>\n",
       "      <td>200404.00</td>\n",
       "    </tr>\n",
       "  </tbody>\n",
       "</table>\n",
       "</div>"
      ],
      "text/plain": [
       "        num_cells  forks_count  open_issues_count  stargazers_count  \\\n",
       "mean        28.76         5.56               0.49              9.88   \n",
       "median      19.00         0.00               0.00              0.00   \n",
       "min          0.00         0.00               0.00              0.00   \n",
       "max       1641.00     17634.00            2003.00          22831.00   \n",
       "\n",
       "        subscribers_count  watchers_count  lines_of_code  num_words  \n",
       "mean                 2.13            9.88         147.26     405.18  \n",
       "median               1.00            0.00          88.00      60.00  \n",
       "min                  0.00            0.00           1.00       0.00  \n",
       "max               2446.00        22831.00      462118.00  200404.00  "
      ]
     },
     "metadata": {},
     "output_type": "display_data"
    },
    {
     "data": {
      "text/markdown": [
       "### Package Use"
      ],
      "text/plain": [
       "<IPython.core.display.Markdown object>"
      ]
     },
     "metadata": {},
     "output_type": "display_data"
    },
    {
     "data": {
      "image/png": "[encoded data removed]",
      "text/plain": [
       "<Figure size 1008x288 with 2 Axes>"
      ]
     },
     "metadata": {
      "needs_background": "light"
     },
     "output_type": "display_data"
    },
    {
     "name": "stdout",
     "output_type": "stream",
     "text": [
      "\n"
     ]
    },
    {
     "data": {
      "text/markdown": [
       "### Framework Use"
      ],
      "text/plain": [
       "<IPython.core.display.Markdown object>"
      ]
     },
     "metadata": {},
     "output_type": "display_data"
    },
    {
     "name": "stdout",
     "output_type": "stream",
     "text": [
      "48.89% of these notebooks use at least one framework.\n"
     ]
    },
    {
     "data": {
      "text/markdown": [
       "##### Compare to all:"
      ],
      "text/plain": [
       "<IPython.core.display.Markdown object>"
      ]
     },
     "metadata": {},
     "output_type": "display_data"
    },
    {
     "name": "stdout",
     "output_type": "stream",
     "text": [
      "35.48% of all notebooks use at least one framework.\n"
     ]
    },
    {
     "data": {
      "image/png": "[encoded data removed]",
      "text/plain": [
       "<Figure size 1008x288 with 2 Axes>"
      ]
     },
     "metadata": {
      "needs_background": "light"
     },
     "output_type": "display_data"
    },
    {
     "name": "stdout",
     "output_type": "stream",
     "text": [
      "\n"
     ]
    },
    {
     "data": {
      "text/markdown": [
       "### Visualization Package Use"
      ],
      "text/plain": [
       "<IPython.core.display.Markdown object>"
      ]
     },
     "metadata": {},
     "output_type": "display_data"
    },
    {
     "name": "stdout",
     "output_type": "stream",
     "text": [
      "100.0% of these notebooks use at least one visualization package.\n"
     ]
    },
    {
     "data": {
      "text/markdown": [
       "##### Compare to all:"
      ],
      "text/plain": [
       "<IPython.core.display.Markdown object>"
      ]
     },
     "metadata": {},
     "output_type": "display_data"
    },
    {
     "name": "stdout",
     "output_type": "stream",
     "text": [
      "50.71% of all notebooks use at least one visualization package.\n"
     ]
    },
    {
     "data": {
      "image/png": "[encoded data removed]",
      "text/plain": [
       "<Figure size 1008x288 with 2 Axes>"
      ]
     },
     "metadata": {
      "needs_background": "light"
     },
     "output_type": "display_data"
    },
    {
     "name": "stdout",
     "output_type": "stream",
     "text": [
      "\n"
     ]
    },
    {
     "data": {
      "text/markdown": [
       "### Number of Errors per Notebook"
      ],
      "text/plain": [
       "<IPython.core.display.Markdown object>"
      ]
     },
     "metadata": {},
     "output_type": "display_data"
    },
    {
     "data": {
      "text/plain": [
       "mean         0.21\n",
       "median       0.00\n",
       "min          0.00\n",
       "max       9104.00\n",
       "Name: num_errors, dtype: float64"
      ]
     },
     "metadata": {},
     "output_type": "display_data"
    },
    {
     "data": {
      "text/markdown": [
       "##### Compare to all:"
      ],
      "text/plain": [
       "<IPython.core.display.Markdown object>"
      ]
     },
     "metadata": {},
     "output_type": "display_data"
    },
    {
     "data": {
      "text/plain": [
       "mean         0.22\n",
       "median       0.00\n",
       "min          0.00\n",
       "max       9104.00\n",
       "Name: num_errors, dtype: float64"
      ]
     },
     "metadata": {},
     "output_type": "display_data"
    },
    {
     "name": "stdout",
     "output_type": "stream",
     "text": [
      "\n"
     ]
    },
    {
     "data": {
      "text/markdown": [
       "### Ratio of Markdown to Code"
      ],
      "text/plain": [
       "<IPython.core.display.Markdown object>"
      ]
     },
     "metadata": {},
     "output_type": "display_data"
    },
    {
     "data": {
      "text/plain": [
       "mean         3.79\n",
       "median       0.73\n",
       "min          0.00\n",
       "max       2306.55\n",
       "Name: ratio_wl, dtype: float64"
      ]
     },
     "metadata": {},
     "output_type": "display_data"
    },
    {
     "data": {
      "text/markdown": [
       "##### Compare to all:"
      ],
      "text/plain": [
       "<IPython.core.display.Markdown object>"
      ]
     },
     "metadata": {},
     "output_type": "display_data"
    },
    {
     "data": {
      "text/plain": [
       "mean          6.45\n",
       "median        0.69\n",
       "min           0.00\n",
       "max       18029.00\n",
       "Name: ratio_wl, dtype: float64"
      ]
     },
     "metadata": {},
     "output_type": "display_data"
    },
    {
     "name": "stdout",
     "output_type": "stream",
     "text": [
      "\n"
     ]
    },
    {
     "data": {
      "text/markdown": [
       "### Execution Order"
      ],
      "text/plain": [
       "<IPython.core.display.Markdown object>"
      ]
     },
     "metadata": {},
     "output_type": "display_data"
    },
    {
     "name": "stdout",
     "output_type": "stream",
     "text": [
      "70.29% of these notebooks have cells run in order.\n",
      "90.23% of these notebooks have at least one output, 67.23% of which are run in order.\n",
      "\n",
      "87.43% of these notebooks were able to be parsed with Python AST.\n",
      "Of these, 13.12% had a function used before it was defined, 2.5% had a package used before it was imported, and 6.63% used a variable before it was defined.\n"
     ]
    },
    {
     "data": {
      "text/markdown": [
       "##### Compare to all:"
      ],
      "text/plain": [
       "<IPython.core.display.Markdown object>"
      ]
     },
     "metadata": {},
     "output_type": "display_data"
    },
    {
     "name": "stdout",
     "output_type": "stream",
     "text": [
      "74.92% of all notebooks have cells run in order.\n",
      "84.4% of all notebooks have at least one output, 70.58% of which are run in order.\n",
      "\n",
      "86.41% of all notebooks were able to be parsed with Python AST.\n",
      "Of these, 13.0% had a function used before it was defined, 1.8% had a package used before it was imported, and 4.76% used a variable before it was defined.\n"
     ]
    },
    {
     "data": {
      "image/png": "[encoded data removed]",
      "text/plain": [
       "<Figure size 1008x288 with 2 Axes>"
      ]
     },
     "metadata": {
      "needs_background": "light"
     },
     "output_type": "display_data"
    },
    {
     "name": "stdout",
     "output_type": "stream",
     "text": [
      "\n"
     ]
    },
    {
     "data": {
      "text/markdown": [
       "### Collaboration"
      ],
      "text/plain": [
       "<IPython.core.display.Markdown object>"
      ]
     },
     "metadata": {},
     "output_type": "display_data"
    },
    {
     "name": "stdout",
     "output_type": "stream",
     "text": [
      "16.57% of these repositories are collaborative, containing 22.34% of these notebooks.\n"
     ]
    },
    {
     "data": {
      "text/markdown": [
       "##### Compare to all:"
      ],
      "text/plain": [
       "<IPython.core.display.Markdown object>"
      ]
     },
     "metadata": {},
     "output_type": "display_data"
    },
    {
     "name": "stdout",
     "output_type": "stream",
     "text": [
      "16.85% of all repositories are collaborative, containing 22.76% of all notebooks.\n"
     ]
    },
    {
     "data": {
      "image/png": "[encoded data removed]",
      "text/plain": [
       "<Figure size 1008x288 with 2 Axes>"
      ]
     },
     "metadata": {
      "needs_background": "light"
     },
     "output_type": "display_data"
    },
    {
     "name": "stdout",
     "output_type": "stream",
     "text": [
      "\n"
     ]
    },
    {
     "data": {
      "text/markdown": [
       "### Educational Status"
      ],
      "text/plain": [
       "<IPython.core.display.Markdown object>"
      ]
     },
     "metadata": {},
     "output_type": "display_data"
    },
    {
     "name": "stdout",
     "output_type": "stream",
     "text": [
      "24.54% of these repos are educational, holding 29.29% of these notebooks\n"
     ]
    },
    {
     "data": {
      "text/markdown": [
       "##### Compare to all:"
      ],
      "text/plain": [
       "<IPython.core.display.Markdown object>"
      ]
     },
     "metadata": {},
     "output_type": "display_data"
    },
    {
     "name": "stdout",
     "output_type": "stream",
     "text": [
      "23.67% of all repos are educational, holding 29.21% of all notebooks\n"
     ]
    }
   ],
   "source": [
    "data_frames_sub = interactive.subset(data_frames, query)\n",
    "print('\\n'+'-'*73+'\\n')\n",
    "interactive.report_comparisons(data_frames_sub, data_frames)"
   ]
  },
  {
   "cell_type": "markdown",
   "metadata": {},
   "source": [
    "[Data Science Workflow &lt;](14_Time.ipynb) | [&gt; Hall of Fame](16_HallOfFame.ipynb)"
   ]
  },
  {
   "cell_type": "markdown",
   "metadata": {},
   "source": [
    " "
   ]
  }
 ],
 "metadata": {
  "kernelspec": {
   "display_name": "Python 3",
   "language": "python",
   "name": "python3"
  },
  "language_info": {
   "codemirror_mode": {
    "name": "ipython",
    "version": 3
   },
   "file_extension": ".py",
   "mimetype": "text/x-python",
   "name": "python",
   "nbconvert_exporter": "python",
   "pygments_lexer": "ipython3",
   "version": "3.5.5"
  }
 },
 "nbformat": 4,
 "nbformat_minor": 4
}
