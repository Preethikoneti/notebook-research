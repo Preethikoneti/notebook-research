{
 "cells": [
  {
   "cell_type": "markdown",
   "metadata": {},
   "source": [
    "[User Struggles &lt;](Struggles.ipynb) | [&gt; Use of AWS](AWS.ipynb)"
   ]
  },
  {
   "cell_type": "markdown",
   "metadata": {},
   "source": [
    "# What can we learn about API design for data science?\n",
    "\n",
    "There are a lot of different ways of spelling out functionality in APIs and some of them are painful, while others are highly usable. We may be able to learn things about API design by looking at what APIs people are using and how. We can help to design good APIs by advising the granularity questions (lots of small objects/functions, or a few with lots or arguments)? \n",
    "\n",
    "## Results Summary:\n",
    "- Code cells\n",
    "    - On average, a code cell is 10.37 lines long (median = 6). The longest cell is 40,759 lines long.\n",
    "- Variables\n",
    "    - On average, there are 5.15 object definitions in a notebook. Median = 0.0. (Among notebooks with at least one object, Median = 10.0)\n",
    "- Parameters\n",
    "    - Across all function calls, there are an average of 1.057 arguments per function. \n",
    "    - On average, a call to a user defined function has 1.65 parameters.\n",
    "    - On average, a call to a non user-defined function has 1.017 parameters.\n",
    "    - This is a statistically significant difference. We are 95% confident that the true average number of parameters in user-defined function calls is between 0.62 and 0.64 higher than the average number of parameters in non user-defined function calls.\n",
    "\n",
    "- Functions\n",
    "    - Across all function calls, there are an average of 1.13 arguments per function.\n",
    "-----\n"
   ]
  },
  {
   "cell_type": "markdown",
   "metadata": {},
   "source": [
    "# Import Packages and Load Data"
   ]
  },
  {
   "cell_type": "code",
   "execution_count": 1,
   "metadata": {},
   "outputs": [],
   "source": [
    "import pandas as pd\n",
    "import numpy as np\n",
    "import matplotlib.pyplot as plt\n",
    "import datetime\n",
    "import math\n",
    "from collections import deque\n",
    "import scipy.stats as st\n",
    "import ast\n",
    "import astpretty\n",
    "import pickle\n",
    "import re\n",
    "import os\n",
    "\n",
    "import load_data"
   ]
  },
  {
   "cell_type": "markdown",
   "metadata": {},
   "source": [
    "Load dataframes"
   ]
  },
  {
   "cell_type": "code",
   "execution_count": 2,
   "metadata": {},
   "outputs": [
    {
     "name": "stdout",
     "output_type": "stream",
     "text": [
      "Notebooks loaded in 0:00:24.637463\n",
      "Repos loaded in 0:00:05.524399\n"
     ]
    }
   ],
   "source": [
    "notebooks_temp = load_data.load_notebooks()\n",
    "repos_temp = load_data.load_repos()"
   ]
  },
  {
   "cell_type": "markdown",
   "metadata": {},
   "source": [
    "Load aggregated dataframes. Code used to create them is in [aggregate.py](aggregate.py)."
   ]
  },
  {
   "cell_type": "code",
   "execution_count": 3,
   "metadata": {},
   "outputs": [
    {
     "name": "stdout",
     "output_type": "stream",
     "text": [
      "Objects loaded in 0:01:18.018478\n"
     ]
    }
   ],
   "source": [
    "all_objects_df_temp = load_data.load_objects()"
   ]
  },
  {
   "cell_type": "code",
   "execution_count": 4,
   "metadata": {},
   "outputs": [
    {
     "name": "stdout",
     "output_type": "stream",
     "text": [
      "Cell stats loaded in 0:00:05.644303\n",
      "Cell types loaded in 0:00:05.168389\n",
      "Function definitions loaded in 0:00:03.768162\n",
      "Function uses loaded in 0:00:56.736603\n",
      "Objects loaded in 0:01:07.104579\n",
      "Errors loaded in 0:00:24.445181\n",
      "Notebook imports loaded in 0:00:44.575160\n"
     ]
    }
   ],
   "source": [
    "cell_stats_df_temp = load_data.load_cell_stats()\n",
    "cell_types_df_temp = load_data.load_cell_types()\n",
    "function_defs_df_temp = load_data.load_function_defs()\n",
    "function_use_df_temp = load_data.load_function_use()\n",
    "all_objects_df_temp = load_data.load_objects()\n",
    "errors_df_temp = load_data.load_errors()\n",
    "nb_imports_temp = load_data.load_nb_imports()"
   ]
  },
  {
   "cell_type": "markdown",
   "metadata": {},
   "source": [
    "Load list of lines of code per code cell."
   ]
  },
  {
   "cell_type": "code",
   "execution_count": 5,
   "metadata": {},
   "outputs": [
    {
     "name": "stdout",
     "output_type": "stream",
     "text": [
      "Lines per code cell loaded in 0:00:00.372101\n"
     ]
    }
   ],
   "source": [
    "lines_per_code_cell = load_data.load_lines()"
   ]
  },
  {
   "cell_type": "markdown",
   "metadata": {},
   "source": [
    "Load statuses. For some analysis we will remove files that couldn't be parsed with the python abstract syntax tree."
   ]
  },
  {
   "cell_type": "code",
   "execution_count": 6,
   "metadata": {},
   "outputs": [
    {
     "name": "stdout",
     "output_type": "stream",
     "text": [
      "Statuses loaded in 0:00:03.177732\n"
     ]
    }
   ],
   "source": [
    "statuses_df_temp = load_data.load_statuses()"
   ]
  },
  {
   "cell_type": "markdown",
   "metadata": {},
   "source": [
    "---\n",
    "# Tidy Data"
   ]
  },
  {
   "cell_type": "markdown",
   "metadata": {},
   "source": [
    "### Only looking at Python notebooks"
   ]
  },
  {
   "cell_type": "code",
   "execution_count": 11,
   "metadata": {},
   "outputs": [],
   "source": [
    "notebooks = notebooks_temp.copy()[notebooks_temp.lang_name == 'python'].reset_index(drop=True)"
   ]
  },
  {
   "cell_type": "code",
   "execution_count": 12,
   "metadata": {},
   "outputs": [
    {
     "name": "stdout",
     "output_type": "stream",
     "text": [
      "4,115,126 (95.91%) of notebooks were written in Python. The remaining 4.09% have been removed.\n"
     ]
    }
   ],
   "source": [
    "print(\"{0:,} ({1}%) of notebooks were written in Python. The remaining {2}% have been removed.\".format(\n",
    "    len(notebooks),\n",
    "    round(100*len(notebooks)/len(notebooks_temp), 2),\n",
    "    round(100 - 100*len(notebooks)/len(notebooks_temp), 2)\n",
    "))"
   ]
  },
  {
   "cell_type": "markdown",
   "metadata": {},
   "source": [
    "### Needed for some analysis: limit to notebooks that could be parsed with Python ast"
   ]
  },
  {
   "cell_type": "code",
   "execution_count": 14,
   "metadata": {},
   "outputs": [],
   "source": [
    "statuses_df = statuses_df_temp.copy()[statuses_df_temp.syntax == True].reset_index(drop=True)\n",
    "notebooks_ast = notebooks.copy()[notebooks.file.isin(statuses_df.file)].reset_index(drop=True)"
   ]
  },
  {
   "cell_type": "code",
   "execution_count": 15,
   "metadata": {},
   "outputs": [
    {
     "name": "stdout",
     "output_type": "stream",
     "text": [
      "56.69% of python notebooks were able to be parsed by Python AST.\n"
     ]
    }
   ],
   "source": [
    "print(\"{0}% of python notebooks were able to be parsed by Python AST.\".format(\n",
    "    round(100*len(notebooks_ast)/len(notebooks), 2),\n",
    "    round(100 - 100*len(notebooks_ast)/len(notebooks), 2)\n",
    "))"
   ]
  },
  {
   "cell_type": "code",
   "execution_count": 16,
   "metadata": {},
   "outputs": [
    {
     "name": "stdout",
     "output_type": "stream",
     "text": [
      "73.61% of python 3 notebooks were able to be parsed by Python AST.\n"
     ]
    }
   ],
   "source": [
    "print(\"{0}% of python 3 notebooks were able to be parsed by Python AST.\".format(\n",
    "    round(100*len(notebooks_ast)/len(notebooks[[str(l).startswith('3') for l in notebooks.lang_version]&(notebooks.lang_name == 'python')]), 2),\n",
    "    round(100 - 100*len(notebooks_ast)/len(notebooks[[str(l).startswith('3') for l in notebooks.lang_version]&(notebooks.lang_name == 'python')]), 2)\n",
    "))"
   ]
  },
  {
   "cell_type": "markdown",
   "metadata": {},
   "source": [
    "### Update repos and aggregated dataframe to reflect notebooks in question"
   ]
  },
  {
   "cell_type": "markdown",
   "metadata": {},
   "source": [
    "All python notebooks not in ipynb checkpoints"
   ]
  },
  {
   "cell_type": "code",
   "execution_count": 17,
   "metadata": {},
   "outputs": [],
   "source": [
    "cell_stats_df = cell_stats_df_temp.copy()[cell_stats_df_temp.file.isin(notebooks.file)]\n",
    "cell_types_df = cell_types_df_temp.copy()[cell_types_df_temp.file.isin(notebooks.file)]\n",
    "repos = repos_temp.copy()[repos_temp.repo_id.isin(notebooks.repo_id)]\n",
    "errors_df = errors_df_temp.copy()[errors_df_temp.file.isin(notebooks.file)]\n",
    "nb_imports = nb_imports_temp.copy()[nb_imports_temp.file.isin(nb_imports_temp.file)]"
   ]
  },
  {
   "cell_type": "markdown",
   "metadata": {},
   "source": [
    "Python notebooks in ipynb checkpoints that were able to be parsed"
   ]
  },
  {
   "cell_type": "code",
   "execution_count": 18,
   "metadata": {},
   "outputs": [],
   "source": [
    "function_defs_df = function_defs_df_temp.copy()[function_defs_df_temp.file.isin(notebooks_ast.file)]\n",
    "function_use_df = function_use_df_temp.copy()[function_use_df_temp.file.isin(notebooks_ast.file)]\n",
    "all_objects_df = all_objects_df_temp.copy()[all_objects_df_temp.file.isin(notebooks_ast.file)]"
   ]
  },
  {
   "cell_type": "markdown",
   "metadata": {},
   "source": [
    "### Delete temp dataframes to save space"
   ]
  },
  {
   "cell_type": "code",
   "execution_count": 19,
   "metadata": {},
   "outputs": [],
   "source": [
    "del notebooks_temp\n",
    "del repos_temp\n",
    "del cell_stats_df_temp\n",
    "del cell_types_df_temp\n",
    "del function_defs_df_temp\n",
    "del function_use_df_temp\n",
    "del all_objects_df_temp\n",
    "del errors_df_temp"
   ]
  },
  {
   "cell_type": "markdown",
   "metadata": {},
   "source": [
    "---\n",
    "# Manipulate Data"
   ]
  },
  {
   "cell_type": "markdown",
   "metadata": {},
   "source": [
    "Add num_errors to errors dataframe"
   ]
  },
  {
   "cell_type": "code",
   "execution_count": 17,
   "metadata": {},
   "outputs": [],
   "source": [
    "errors_df['num_errors'] = [len(e) for e in errors_df['error_names']]"
   ]
  },
  {
   "cell_type": "markdown",
   "metadata": {},
   "source": [
    "Add num_objects column to objects dataframe"
   ]
  },
  {
   "cell_type": "code",
   "execution_count": 18,
   "metadata": {},
   "outputs": [],
   "source": [
    "all_objects_df['num_objects'] = [len(obj) for obj in all_objects_df['objects']]"
   ]
  },
  {
   "cell_type": "markdown",
   "metadata": {},
   "source": [
    "Group function definitions by notebook"
   ]
  },
  {
   "cell_type": "code",
   "execution_count": 19,
   "metadata": {},
   "outputs": [],
   "source": [
    "function_defs_stats_df = function_defs_df.groupby('file')['function'].count().reset_index().merge(\n",
    "    function_defs_df.groupby('file')['parameters'].sum().reset_index(),\n",
    "    on = 'file'\n",
    ")\n"
   ]
  },
  {
   "cell_type": "markdown",
   "metadata": {},
   "source": [
    "---\n",
    "# Visualizations and Statistics"
   ]
  },
  {
   "cell_type": "markdown",
   "metadata": {},
   "source": [
    "## How long are code cells?"
   ]
  },
  {
   "cell_type": "code",
   "execution_count": 20,
   "metadata": {},
   "outputs": [
    {
     "data": {
      "text/plain": [
       "mean         10.296976\n",
       "median        6.111111\n",
       "min           0.000000\n",
       "max       40759.000000\n",
       "dtype: float64"
      ]
     },
     "execution_count": 20,
     "metadata": {},
     "output_type": "execute_result"
    }
   ],
   "source": [
    "pd.Series(lines_per_code_cell).aggregate(['mean','median','min','max'])\n"
   ]
  },
  {
   "cell_type": "code",
   "execution_count": 21,
   "metadata": {},
   "outputs": [
    {
     "data": {
      "image/png": "[encoded data removed]",
      "text/plain": [
       "<Figure size 432x288 with 1 Axes>"
      ]
     },
     "metadata": {
      "needs_background": "light"
     },
     "output_type": "display_data"
    }
   ],
   "source": [
    "plt.hist(lines_per_code_cell, bins = range(50), color = 'teal')\n",
    "plt.xlim(0,50)\n",
    "plt.xlabel('Lines of Code')\n",
    "plt.ylabel('Number of Cells')\n",
    "plt.title('Code Cell Length')\n",
    "plt.show()\n"
   ]
  },
  {
   "cell_type": "markdown",
   "metadata": {},
   "source": [
    "On average, code cells have 10.30 lines of code. The typical code cell has 6 lines of code (median)."
   ]
  },
  {
   "cell_type": "markdown",
   "metadata": {},
   "source": [
    "## What is a typical number of objects in a notebook?"
   ]
  },
  {
   "cell_type": "markdown",
   "metadata": {},
   "source": [
    "Calculate summary statistics for the number of objects in each notebook. Only consider 'name' assigments as objects. Setting the value in a list or data frame (subscript) and altering the attributes of an object (attribute) should not count as object assignments"
   ]
  },
  {
   "cell_type": "code",
   "execution_count": 22,
   "metadata": {},
   "outputs": [
    {
     "name": "stdout",
     "output_type": "stream",
     "text": [
      "On average, among notebooks that were able to be parsed with Python abstract syntax tree, there are 20.72 object definitions in a notebook. Median = 13.0. (Among notebooks with at least one object, Median = 14.0)\n"
     ]
    }
   ],
   "source": [
    "mean_objs = all_objects_df.num_objects.mean()\n",
    "median_objs = all_objects_df.num_objects.median()\n",
    "median_objs_with = all_objects_df[all_objects_df!=0].num_objects.median()\n",
    "print('On average, among notebooks that were able to be parsed with Python abstract syntax tree, there are {0} object definitions in a notebook. Median = {1}. (Among notebooks with at least one object, Median = {2})'.format(\n",
    "    round(mean_objs, 2), median_objs, median_objs_with\n",
    "))\n"
   ]
  },
  {
   "cell_type": "code",
   "execution_count": 23,
   "metadata": {},
   "outputs": [
    {
     "data": {
      "image/png": "[encoded data removed]",
      "text/plain": [
       "<Figure size 432x288 with 1 Axes>"
      ]
     },
     "metadata": {
      "needs_background": "light"
     },
     "output_type": "display_data"
    }
   ],
   "source": [
    "plt.hist(all_objects_df.num_objects, bins = 20, color='teal')\n",
    "plt.title('What is a typical number of objects in a notebook?')\n",
    "plt.xlabel('Number of Objects')\n",
    "plt.ylabel('Number of Notebooks')\n",
    "plt.yscale('log')\n",
    "plt.show()"
   ]
  },
  {
   "cell_type": "markdown",
   "metadata": {},
   "source": [
    "## How many functions are called?"
   ]
  },
  {
   "cell_type": "code",
   "execution_count": 24,
   "metadata": {},
   "outputs": [],
   "source": [
    "function_use_df['unique_user_def'] = [len(set(user_def)) for user_def in function_use_df.user_def]\n",
    "function_use_df['unique_not_user_def'] = [len(set(not_user_def)) for not_user_def in function_use_df.not_user_def]\n",
    "function_use_df['unique'] = function_use_df['unique_user_def'] + function_use_df['unique_not_user_def']"
   ]
  },
  {
   "cell_type": "code",
   "execution_count": 25,
   "metadata": {},
   "outputs": [
    {
     "name": "stdout",
     "output_type": "stream",
     "text": [
      "There are an average of 28.17 unique functions called in each notebook (median = 21.0).\n",
      "There are an average of 1.73 unique user-defined functions called in each notebook (median = 0.0).\n",
      "There are an average of 26.44 unique not user-defined functions called in each notebook (median = 19.0).\n"
     ]
    }
   ],
   "source": [
    "print('There are an average of {0} unique functions called in each notebook (median = {1}).'.format(\n",
    "    round(function_use_df.unique.mean(), 2),\n",
    "    function_use_df.unique.median()\n",
    "))\n",
    "\n",
    "print('There are an average of {0} unique user-defined functions called in each notebook (median = {1}).'.format(\n",
    "    round(function_use_df.unique_user_def.mean(), 2),\n",
    "    function_use_df.unique_user_def.median()\n",
    "))\n",
    "\n",
    "print('There are an average of {0} unique not user-defined functions called in each notebook (median = {1}).'.format(\n",
    "    round(function_use_df.unique_not_user_def.mean(), 2),\n",
    "    function_use_df.unique_not_user_def.median()\n",
    "))"
   ]
  },
  {
   "cell_type": "code",
   "execution_count": 26,
   "metadata": {},
   "outputs": [
    {
     "data": {
      "image/png": "[encoded data removed]",
      "text/plain": [
       "<Figure size 432x216 with 2 Axes>"
      ]
     },
     "metadata": {
      "needs_background": "light"
     },
     "output_type": "display_data"
    },
    {
     "name": "stdout",
     "output_type": "stream",
     "text": [
      "1267459 (54%) notebooks have no user defined functions.\n"
     ]
    }
   ],
   "source": [
    "fig = plt.figure(figsize = (6, 3))\n",
    "plt.subplot(1,2,1)\n",
    "plt.hist(function_use_df[function_use_df.unique_not_user_def < 100].unique_not_user_def, color = 'teal', bins = 20)\n",
    "plt.ylim(0, 600000)\n",
    "plt.title('Not user define functions')\n",
    "plt.ylabel('Number of notebooks')\n",
    "plt.xlabel('Number of functions')\n",
    "\n",
    "plt.subplot(1,2,2)\n",
    "plt.hist(function_use_df[function_use_df.unique_user_def < 100].unique_user_def, color = 'navy', bins = 20)\n",
    "plt.ylim(0, 600000)\n",
    "plt.yticks([],[])\n",
    "plt.title('User defined functions')\n",
    "plt.xlabel('Number of functions')\n",
    "\n",
    "plt.tight_layout()\n",
    "plt.show()\n",
    "\n",
    "print(\"{0} ({1}%) notebooks have no user defined functions.\".format(\n",
    "    sum(function_use_df.unique_user_def == 0),\n",
    "    round(100*sum(function_use_df.unique_user_def == 0)/len(function_use_df))\n",
    "))"
   ]
  },
  {
   "cell_type": "markdown",
   "metadata": {},
   "source": [
    "### Is number of functions used associated with number of errors in a notebook?"
   ]
  },
  {
   "cell_type": "code",
   "execution_count": 27,
   "metadata": {},
   "outputs": [
    {
     "data": {
      "text/html": [
       "<div>\n",
       "<style scoped>\n",
       "    .dataframe tbody tr th:only-of-type {\n",
       "        vertical-align: middle;\n",
       "    }\n",
       "\n",
       "    .dataframe tbody tr th {\n",
       "        vertical-align: top;\n",
       "    }\n",
       "\n",
       "    .dataframe thead th {\n",
       "        text-align: right;\n",
       "    }\n",
       "</style>\n",
       "<table border=\"1\" class=\"dataframe\">\n",
       "  <thead>\n",
       "    <tr style=\"text-align: right;\">\n",
       "      <th></th>\n",
       "      <th>num_errors</th>\n",
       "      <th>unique</th>\n",
       "    </tr>\n",
       "  </thead>\n",
       "  <tbody>\n",
       "    <tr>\n",
       "      <th>num_errors</th>\n",
       "      <td>1.000000</td>\n",
       "      <td>0.018886</td>\n",
       "    </tr>\n",
       "    <tr>\n",
       "      <th>unique</th>\n",
       "      <td>0.018886</td>\n",
       "      <td>1.000000</td>\n",
       "    </tr>\n",
       "  </tbody>\n",
       "</table>\n",
       "</div>"
      ],
      "text/plain": [
       "            num_errors    unique\n",
       "num_errors    1.000000  0.018886\n",
       "unique        0.018886  1.000000"
      ]
     },
     "execution_count": 27,
     "metadata": {},
     "output_type": "execute_result"
    }
   ],
   "source": [
    "errors_funcs_df = errors_df[['file','num_errors']].merge(function_use_df[['file','unique','unique_user_def','parameters']], on = 'file')\n",
    "errors_funcs_df[['num_errors','unique']].corr()"
   ]
  },
  {
   "cell_type": "markdown",
   "metadata": {},
   "source": [
    "The very weak correlation of 0.019 provides no evidence that the number of function calls in a notebook is associated with the number of errors in a notebook."
   ]
  },
  {
   "cell_type": "markdown",
   "metadata": {},
   "source": [
    "### Is number of functions defined associated with number of errors in a notebook?"
   ]
  },
  {
   "cell_type": "code",
   "execution_count": 28,
   "metadata": {},
   "outputs": [
    {
     "data": {
      "text/html": [
       "<div>\n",
       "<style scoped>\n",
       "    .dataframe tbody tr th:only-of-type {\n",
       "        vertical-align: middle;\n",
       "    }\n",
       "\n",
       "    .dataframe tbody tr th {\n",
       "        vertical-align: top;\n",
       "    }\n",
       "\n",
       "    .dataframe thead th {\n",
       "        text-align: right;\n",
       "    }\n",
       "</style>\n",
       "<table border=\"1\" class=\"dataframe\">\n",
       "  <thead>\n",
       "    <tr style=\"text-align: right;\">\n",
       "      <th></th>\n",
       "      <th>num_errors</th>\n",
       "      <th>unique_user_def</th>\n",
       "    </tr>\n",
       "  </thead>\n",
       "  <tbody>\n",
       "    <tr>\n",
       "      <th>num_errors</th>\n",
       "      <td>1.000000</td>\n",
       "      <td>0.012541</td>\n",
       "    </tr>\n",
       "    <tr>\n",
       "      <th>unique_user_def</th>\n",
       "      <td>0.012541</td>\n",
       "      <td>1.000000</td>\n",
       "    </tr>\n",
       "  </tbody>\n",
       "</table>\n",
       "</div>"
      ],
      "text/plain": [
       "                 num_errors  unique_user_def\n",
       "num_errors         1.000000         0.012541\n",
       "unique_user_def    0.012541         1.000000"
      ]
     },
     "execution_count": 28,
     "metadata": {},
     "output_type": "execute_result"
    }
   ],
   "source": [
    "errors_funcs_df[['num_errors','unique_user_def']].corr()"
   ]
  },
  {
   "cell_type": "markdown",
   "metadata": {},
   "source": [
    "The very weak correlation of 0.01 provides no evidence that the number of user defined functions in a notebook is associated with the number of errors in a notebook."
   ]
  },
  {
   "cell_type": "markdown",
   "metadata": {},
   "source": [
    "### Is the average number of parameters associated wth the number of errors in a notebook?"
   ]
  },
  {
   "cell_type": "code",
   "execution_count": 29,
   "metadata": {},
   "outputs": [
    {
     "data": {
      "text/html": [
       "<div>\n",
       "<style scoped>\n",
       "    .dataframe tbody tr th:only-of-type {\n",
       "        vertical-align: middle;\n",
       "    }\n",
       "\n",
       "    .dataframe tbody tr th {\n",
       "        vertical-align: top;\n",
       "    }\n",
       "\n",
       "    .dataframe thead th {\n",
       "        text-align: right;\n",
       "    }\n",
       "</style>\n",
       "<table border=\"1\" class=\"dataframe\">\n",
       "  <thead>\n",
       "    <tr style=\"text-align: right;\">\n",
       "      <th></th>\n",
       "      <th>num_errors</th>\n",
       "      <th>avg_params</th>\n",
       "    </tr>\n",
       "  </thead>\n",
       "  <tbody>\n",
       "    <tr>\n",
       "      <th>num_errors</th>\n",
       "      <td>1.000000</td>\n",
       "      <td>-0.003806</td>\n",
       "    </tr>\n",
       "    <tr>\n",
       "      <th>avg_params</th>\n",
       "      <td>-0.003806</td>\n",
       "      <td>1.000000</td>\n",
       "    </tr>\n",
       "  </tbody>\n",
       "</table>\n",
       "</div>"
      ],
      "text/plain": [
       "            num_errors  avg_params\n",
       "num_errors    1.000000   -0.003806\n",
       "avg_params   -0.003806    1.000000"
      ]
     },
     "execution_count": 29,
     "metadata": {},
     "output_type": "execute_result"
    }
   ],
   "source": [
    "errors_funcs_df['avg_params'] = [sum(p)/len(p) if len(p) > 0 else None for p in errors_funcs_df.parameters]\n",
    "errors_funcs_df[['num_errors','avg_params']].corr()"
   ]
  },
  {
   "cell_type": "markdown",
   "metadata": {},
   "source": [
    "The very weak correlation of -0.004 provides no evidence that the average number of parameters of function calls in a notebook is associated with the number of errors in a notebook."
   ]
  },
  {
   "cell_type": "markdown",
   "metadata": {},
   "source": [
    "## How many arguments are typical to pass into functions?"
   ]
  },
  {
   "cell_type": "code",
   "execution_count": 40,
   "metadata": {
    "scrolled": true
   },
   "outputs": [
    {
     "name": "stdout",
     "output_type": "stream",
     "text": [
      "Across all function calls, there are an average of 0.99 arguments per function.\n"
     ]
    },
    {
     "data": {
      "image/png": "[encoded data removed]",
      "text/plain": [
       "<Figure size 432x288 with 1 Axes>"
      ]
     },
     "metadata": {
      "needs_background": "light"
     },
     "output_type": "display_data"
    }
   ],
   "source": [
    "# 35 seconds\n",
    "all_params = load_data.flatten(function_use_df.parameters)\n",
    "\n",
    "print(\"Across all function calls, there are an average of {0} arguments per function.\".format(\n",
    "    round(pd.Series(all_params).mean(), 2)\n",
    "))\n",
    "\n",
    "param_counts = pd.Series(all_params).value_counts().reset_index().rename(\n",
    "    columns={'index':'Arguments',0:'Count'}\n",
    ")\n",
    "\n",
    "plt.hist(pd.Series(all_params), bins = range(25), color = 'teal')\n",
    "plt.xlabel('Arguments')\n",
    "plt.xlim(-1, 20)\n",
    "plt.ylim(0, 35000000)\n",
    "plt.yticks(range(0, 35000000, 5000000), range(0, 35, 5))\n",
    "plt.xticks(range(25))\n",
    "plt.title('How many arguments are passed into functions?')\n",
    "plt.ylabel('Number of Function Calls\\n(millions)')\n",
    "plt.show()"
   ]
  },
  {
   "cell_type": "markdown",
   "metadata": {},
   "source": [
    "### Parameters of user-defined functions"
   ]
  },
  {
   "cell_type": "markdown",
   "metadata": {},
   "source": [
    "#### Based on Definitions"
   ]
  },
  {
   "cell_type": "code",
   "execution_count": 45,
   "metadata": {},
   "outputs": [
    {
     "data": {
      "image/png": "[encoded data removed]",
      "text/plain": [
       "<Figure size 432x288 with 1 Axes>"
      ]
     },
     "metadata": {
      "needs_background": "light"
     },
     "output_type": "display_data"
    }
   ],
   "source": [
    "# # 2 min\n",
    "# start = datetime.datetime.now()\n",
    "# function_defs_stats_df['avg_params'] = [\n",
    "#     row.parameters / row.function \n",
    "#     if row.function != 0 else 0 \n",
    "#     for _, row in function_defs_stats_df.iterrows()\n",
    "# ]\n",
    "# end = datetime.datetime.now()\n",
    "# print(end - start)\n",
    "\n",
    "# user_mean_params = function_defs_stats_df.avg_params.mean()\n",
    "\n",
    "# print(\"On average, a user defined function has {0} parameters.\".format(\n",
    "#     round(user_mean_params, 2)\n",
    "# ))\n",
    "\n",
    "plt.hist(\n",
    "    function_defs_df.parameters,\n",
    "    color = 'teal',\n",
    "    bins = range(25)\n",
    ")\n",
    "plt.xticks(range(25))\n",
    "plt.xlim(-1, 20)\n",
    "plt.ylim(0, 2500000)\n",
    "plt.yticks(range(0, 2500000, 500000), pd.Series(range(0, 25, 5))/10)\n",
    "plt.title('How many arguments are in user defined functions?')\n",
    "plt.xlabel('Arguments')\n",
    "plt.ylabel('Number of Functions\\n(millions)')\n",
    "plt.show()"
   ]
  },
  {
   "cell_type": "markdown",
   "metadata": {},
   "source": [
    "[User Struggles &lt;](Struggles.ipynb) | [&gt; Use of AWS](AWS.ipynb)"
   ]
  }
 ],
 "metadata": {
  "anaconda-cloud": {},
  "kernelspec": {
   "display_name": "Python 3",
   "language": "python",
   "name": "python3"
  },
  "language_info": {
   "codemirror_mode": {
    "name": "ipython",
    "version": 3
   },
   "file_extension": ".py",
   "mimetype": "text/x-python",
   "name": "python",
   "nbconvert_exporter": "python",
   "pygments_lexer": "ipython3",
   "version": "3.5.5"
  },
  "toc-autonumbering": false
 },
 "nbformat": 4,
 "nbformat_minor": 4
}
