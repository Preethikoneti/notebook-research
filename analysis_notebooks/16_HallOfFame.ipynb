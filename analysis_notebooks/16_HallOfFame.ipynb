{
 "cells": [
  {
   "cell_type": "markdown",
   "metadata": {},
   "source": [
    "[&lt; Exploring Interactive Subsets](15_Interactive.ipynb) |"
   ]
  },
  {
   "cell_type": "markdown",
   "metadata": {},
   "source": [
    "# Hall of Fame\n",
    "*These notebooks were discovered as the most extreme use cases of Jupyter. There is no analysis in this notebook, simply an appreciation of these wild creations.*"
   ]
  },
  {
   "cell_type": "markdown",
   "metadata": {},
   "source": [
    "## Weirdest Languages\n",
    "\n",
    "There are a number of languages that were only used once out of the entire corpus of notebooks. Here I highlight three unique notebooks. The notebooks for the other languages are linked as well: [cadabra](https://github.com/kpeeters/cadabra2/blob/d8c49c4f88f772d0bed71fc36e1a99b3aecad1b4/examples/schwarzschild.ipynb), [tlaplus](https://github.com/kelvich/tlaplus_kernel/blob/b7b6e2da04b99f5396fbdd104f81a89caac7c55a/tests/testnb.ipynb), [cdflib](https://github.com/TonyRippy/cdflib/blob/b7d6691ab67deb543a85e8a7f72471da23dc7855/notebooks/Adding%20Random%20Variables.ipynb), [mrbayes_kernel](https://github.com/sdwfrost/mrbayes_kernel/blob/6df8031d6b264a404288ea2acd2767ba0c4c3d84/mrbayes_kernel.ipynb), [hive](https://github.com/feng-li/Distributed-Statistical-Computing/blob/d8d1516847fa5ffaded15d8ab757aab07a285a83/00-teaching-slides/Jupyter-Notebook-Demos/L3-Hive.ipynb), [tutoriald](https://github.com/agentm/project-m36/blob/a81e186667096ba45c54b3bd063c37c8d8c93c36/jupyter/TutorialD%20Notebook%20Walkthrough.ipynb), [twocode](https://github.com/MrCoft/twocode/blob/741620a2abab003edbabb60533c54a2d9bc55b7e/notebooks/codeedit.ipynb), [kostya](https://github.com/KKostya/simple_jucaml/blob/aec49e563797f64dc9d80bcdc75fd630cf62e94a/example_notebooks/SimpleOCaml.ipynb), [mmt](https://github.com/UniFormal/mmt_jupyter_kernel/blob/7f82023b393322638ef74cf62c98a81b5b708b64/example/emc.ipynb), [wps](https://github.com/fyumoto/PythonForSASUsers/blob/874c40928b27559e4e30b5e504214f56dedf7542/WPS_PROC_Python.ipynb), [wrapl](https://github.com/rajamukherji/wrapl-apps/blob/de241aec302b40e9b9dbe22330408d6ef5d7ca46/Wrapup/Test.ipynb), [antidote](https://github.com/AntidoteDB/antidote-jupyter-notebook/blob/32cb253f410105031f7cd9ad60c421962a16c591/jupyter-antidote-kernel/src/docker/antidotenb/Welcome%20to%20Antidote.ipynb), [agda](https://github.com/lclem/agda-kernel/blob/6a97b3da67e0f04e1a18857265d452f051bbc098/example/LabImp.ipynb), [nao](https://github.com/tensorlang/tensorlang/blob/380d6a56d82370a0944621e8fca6199a98bc5692/root/src/demo/digits_nb.ipynb), [tdi expressions](https://github.com/MDSplus/jupyter/blob/40c5e6acc8c1e054175339c2f5382c70984bc633/samples/tdi-examples.ipynb), [json](https://github.com/aparrish/tracery_kernel/blob/2c09bfe1cfbae32c395b18cd1bad106a5680f2a1/example-notebook.ipynb), [psysh](https://github.com/Jaesin/psysh_kernel/blob/839d8e61ce8d95498b670faf16dbe0277976dfb8/psysh_kernel.ipynb), [grads](https://github.com/ykatsu111/jupyter-grads-kernel/blob/330750f7ea064228707c4f9a972616876a059d7a/sample.ipynb), [http](https://github.com/cben/ansible_jupyter_kernel/blob/99a400aa663aae3b45f5bbf4908a8f75f620466f/PyConIL2017-lecture/http.ipynb), [postgrsql script](https://github.com/papagian/jupyter-kernels/blob/73db7a2445271cdfbe4e141fb45653d9bce280f9/Psql%20notebook%20example.ipynb), [radare2](https://github.com/guedou/jupyter-radare2/blob/584e3cd4a66f10459a6e801b02c8ceea213b866b/examples/radare2_kernel_test.ipynb), [rai](https://github.com/rai-project/inle/blob/7e1d8ac6055708a8d207568fd6cebe73da0195f4/examples/Hello.ipynb), [rax](https://github.com/chosia/IRax/blob/51eaa1e6739d17a86030a6d2995db505d06df5e9/TestNotebook.ipynb), [rpn](https://github.com/takluyver/calcurust/blob/a1f264bdac56c1bf45cd3cec9f49610f0cf0b9d6/Demo.ipynb), [sbt](https://github.com/ktr-skmt/Isbt/blob/0785ab02b4247aff4cd9f7164f384eae660738aa/examples/isbt_examples.ipynb), [form](https://github.com/vitaleon/form_kernel/blob/f5cc39d5eb8d2fc7748b1b0bb7092de64c5a9c8b/form_kernel.ipynb), [io](https://github.com/matsubara0507/iio/blob/0a54149380d605aa03a803daac71191c8035c834/io_example.ipynb), [epl](https://github.com/riccardotommasini/epl-kernel/blob/11647c018ce6b66a3c9a5e4493f92a454b1d1c40/epl-kernel/Example.ipynb), [mdstcl commands](https://github.com/MDSplus/jupyter/blob/40c5e6acc8c1e054175339c2f5382c70984bc633/samples/tcl-examples.ipynb), [sml/nj](https://github.com/matsubara0507/purely-functional-data-structures/blob/3b00dd2de218573cdaec2ec74eaacbcbe3f91a5f/chap2/chap2.ipynb), [echo](https://github.com/microsoft/jupyter-core/blob/e3ffa0ea3904cd26ae1d9b44606aa4f963dd5e87/examples/echo-kernel/Echo%20Kernel.ipynb), [node.js](https://github.com/rgbkrk/ikernel/blob/2cb4b08f8a64f5ea11222da7458b7f4c95ba998a/sandbox.js.ipynb), [stimsym](https://github.com/c-cube/stimsym/blob/acccabd6b60d31d5a3b0f1b1716736effd5a616c/data/notebook1.ipynb), [taql](https://github.com/tammojan/taql-jupyter/blob/eeeabc1b94e7982d796dd16332ad03bfe403e72e/LearnTaQL.ipynb), [prometheus](https://github.com/xperimental/ipromnb/blob/b150dddff88bfe467a52fc8c24715e59b59a9e71/_examples/Test.ipynb), [cpp](https://github.com/twosigma/beaker-notebook-archive/blob/5f2ac727e4cec5ce60a3664adbfeab20346a9c5b/demoFiles/Cpp_tutorial.ipynb), [coq](https://github.com/EugeneLoy/coq_jupyter_demo/blob/7be2598feb933a2914111d820b1c4065ac23c46c/demo.ipynb), and [zsh](https://github.com/danylo-dubinin/zsh-jupyter-kernel/blob/6d0a4d54ca34b85672a41de72ea28525929215ac/misc/example.ipynb).\n",
    "\n",
    "### JSON\n",
    "There is one notebook written in *json*. GitHub user Allison Parrish created \"a very bare-bones custom Jupyter kernel for evaluating Tracery grammars\". \n",
    "\n",
    "This notebook can be found [here](https://github.com/aparrish/tracery_kernel/blob/2c09bfe1cfbae32c395b18cd1bad106a5680f2a1/example-notebook.ipynb).\n",
    "\n",
    "\n",
    "<img src='./images/tracery_kernel..example-notebook.png'>\n",
    "\n",
    "\n",
    "### Hive\n",
    "There is one notebook written in *hive*, written by GitHub User Feng Li.\n",
    "\n",
    "This notebook can be found [here](https://github.com/feng-li/Distributed-Statistical-Computing/blob/d8d1516847fa5ffaded15d8ab757aab07a285a83/00-teaching-slides/Jupyter-Notebook-Demos/L3-Hive.ipynb)\n",
    "\n",
    "<img src='./images/distributed-statistical-computing..L3-Hive.png'>\n",
    "\n",
    "### HTTP\n",
    "The last weird language is *http*, used in a notebook owned by Beni Cherniavsky-Paskin.\n",
    "\n",
    "This notebook can be found [here](https://github.com/cben/ansible_jupyter_kernel/blob/99a400aa663aae3b45f5bbf4908a8f75f620466f/PyConIL2017-lecture/http.ipynb)\n",
    "\n",
    "<img src='./images/ansible_jupyter_kernel..http.png'>"
   ]
  },
  {
   "cell_type": "markdown",
   "metadata": {},
   "source": [
    "## Most Notebooks per Owner\n",
    "\n",
    "The organization [learn-co-students](https://github.com/learn-co-students) has the most notebooks of any GitHub owner at 26,813. \n",
    "\n",
    "Among individual users, [Gopala KR](https://github.com/gopala-kr) has the most notebooks at 2,651.\n"
   ]
  },
  {
   "cell_type": "markdown",
   "metadata": {},
   "source": [
    "## Most Collaborative Repositories\n",
    "\n",
    "### Forks\n",
    "\n",
    "The repository with the most forks is [tensorflow's main repository](https://github.com/tensorflow/tensorflow), which has 76,088 forks. The second most forks is in the [models repository of tensorflow](https://github.com/tensorflow/models), with 34,912 forks. The third most is on a repostory by an individual user, [Python-100-Days owned by Jack Freud](https://github.com/jackfrued/Python-100-Days), with 19,467 forks.\n",
    "\n",
    "### Open Issues\n",
    "\n",
    "The repository with the most open issues is the [VERIS Community Database](https://github.com/vz-risk/VCDB) with 7260 open issues at the time of the download (has increased since, see below).\n",
    "\n",
    "<img src='./images/issues.png' width=700/>\n",
    "\n",
    "### Watchers\n",
    "\n",
    "The most stargazers on one repository is 130,922 for [tensorflow's main repository](https://github.com/tensorflow/tensorflow). Tensorflow also wins the most watchers, at 8566. These numbers have gone up since our download, as seen below.\n",
    "\n",
    "<img src='./images/watches.png' width=700/>\n"
   ]
  },
  {
   "cell_type": "markdown",
   "metadata": {},
   "source": [
    "## Notebook Content\n",
    "\n",
    "### Number of Cells\n",
    "\n",
    "The most cells in a notebook is 2185, in the notebook titled [Nuclear Many-body Physics; a Computational Approach](https://github.com/ManyBodyPhysics/CQMech/blob/8395f082392844a0e2831649aab4108324c86312/doc/src/book/book.ipynb) by theoretical physicist Morten Hjorth-Jensen.\n",
    "\n",
    "### Words of Markdown\n",
    "\n",
    "The most words of markdown in a notebooks is 200,404. However, this notebook was no longer on GitHub when I wrote this report. The most words in a notebook that is still on GitHub is 93,349, in a notebook on [Mastering Ethereum by Parsh Jain](https://github.com/Parsh/Blockchain/blob/4fbf1b1fab43cac9836ba5b11d58100e3cd2ce30/Mastering%20Ethereum/Mastering%20Ethereum.ipynb). If you look at this notebook, it is in the style of a textbook and definitely has a *lot* of words.\n",
    "\n",
    "### Lines of Code\n",
    "\n",
    "The most lines of code in a notebook is 462,118, in a notebook called [TimeStepParse by a Geologist named Paul](https://github.com/inkenbrandt/IPython/blob/4c712f0679a36c4ad3dcb8356cfe61f61e55be2c/TimeStepParse.ipynb).\n",
    "\n",
    "### Imports\n",
    "\n",
    "The notebook on [Leaf Classification by Aadi Bhumihar](https://github.com/AadiBhumihar/Leaf-Classification/blob/3dc307a0620baba67af6b839e40a5efd03e6bf6f/leaf_classification.ipynb) imports 820 packages. However, upon closer examination, the notebook imports the same packages multiple times. In the cell shown below, numpy is imported twice. Almost every code cell in this notebook imports pandas. \n",
    "\n",
    "<img src='./images/imports.png' width=700/>\n",
    "\n",
    "### Errors\n",
    "\n",
    "The [notebook by user tkclough](https://github.com/tkclough/CSCI4971-Final-Project/blob/a1465c7095577bd3fa0c49bb3c41edad629a3115/RadaGradPy.ipynb) has 9104 errors. 9103 of these are ZeroDivisionErrors and there is also one ValueError.\n",
    "\n",
    "### Function Definitions\n",
    "\n",
    "The [Leetcode notebook by GitHub user elegantcoin](https://github.com/elegantcoin/Leetcode--category/blob/d6cf64d8ab2a00a388970f749cc6faaa0daa0aa9/Leetcode_240_190711.ipynb) defines 611 functions, mostly as methods for class definitions.\n",
    "\n",
    "### Function Uses\n",
    "\n",
    "The [NFL draft projections notebook by GitHub user matt012295](https://github.com/matt012295/NFL-Draftkings-Projections/blob/9938369cc9620a27af91b8ed0f2f5160fa1bcedd/data18/2018Season1.ipynb) contains 1410 function calls. Most of these functions are for data manipulation. Plus, a lot of manipulation are repeated instead of put in a loop or separate function.\n",
    "\n",
    "<img src='./images/function_use.png' width=700/>\n",
    "\n",
    "\n",
    "### Objects\n",
    "\n",
    "The notebook titled [Fitness landscape of top 20 most commonly observed variants in CH by GitHub User blundell-lab](https://github.com/blundelllab/ClonalHaematopoiesis/blob/7eae4626c2a77193f08e19350154b54e8736eed9/The%20Evolutionary%20Dynamics%20and%20Fitness%20Landscape%20of%20Clonal%20Haematopoiesis%20(2019)/Maximum%20likelihood%20estimations/Fitness%20landscape%20of%20top%2020%20most%20commonly%20observed%20variants%20in%20CH.ipynb) defines 2640 variables.\n",
    "\n",
    "<img src='./images/objects.png' width=700/>\n"
   ]
  },
  {
   "cell_type": "markdown",
   "metadata": {},
   "source": [
    "## IPython Special Features\n",
    "\n",
    "### Magic\n",
    "The notebook with the most magic uses has 366 uses and is written by [GitHub user vlawlor](https://github.com/vlawlor/Kid-PRT/blob/fc2c4a9383650be30a91518ee632a5db98b07e28/KIDPRT.ipynb). Most of these uses were to switch between coding in R and in Python.\n",
    "\n",
    "<img src='./images/magic.png' width=700/>\n",
    "\n",
    "### Bash\n",
    "The notebook with the most bash commands has 409 uses and is written by [GitHub user tylerdann and is about a bird creek linkage map](https://github.com/tylerdann/2014-Bird-Creek-linkage-map/blob/2b8ae9832a23bbf9f0c8edd91c6119b2ce909d1f/2014%20Bird%20Creek%20linkage%20map.ipynb).\n",
    "\n",
    "<img src='./images/bash.png' width=700/>\n",
    "\n",
    "### Documentation\n",
    "The notebook with the most documentation queries has 68 uses and is written by [GitHubUser rohitsharma123123](https://github.com/rohitsharma123123/finalnow/blob/89c826bf51ea86a7baf78060d5a590e3edc2e0cf/Notebook_wlstm_ga.ipynb).\n",
    "\n",
    "<img src='./images/query.png' width=700/>"
   ]
  },
  {
   "cell_type": "markdown",
   "metadata": {},
   "source": [
    "[&lt; Exploring Interactive Subsets](15_Interactive.ipynb) |"
   ]
  }
 ],
 "metadata": {
  "kernelspec": {
   "display_name": "Python 3",
   "language": "python",
   "name": "python3"
  },
  "language_info": {
   "codemirror_mode": {
    "name": "ipython",
    "version": 3
   },
   "file_extension": ".py",
   "mimetype": "text/x-python",
   "name": "python",
   "nbconvert_exporter": "python",
   "pygments_lexer": "ipython3",
   "version": "3.7.3"
  }
 },
 "nbformat": 4,
 "nbformat_minor": 4
}
