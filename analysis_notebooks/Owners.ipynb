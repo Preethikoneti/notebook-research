{
 "cells": [
  {
   "cell_type": "markdown",
   "metadata": {},
   "source": [
    "<center> <a href = Languages.ipynb>Language Use &lt;</a> | <a href = Organization.ipynb>&gt; Notebook Organization</a> </center>"
   ]
  },
  {
   "cell_type": "markdown",
   "metadata": {},
   "source": [
    "# Owners\n",
    "This notebook looks at what types of owners (user, organization, educational, personal, and enterprise) have public notebooks on GitHub.\n",
    "\n",
    "## Results Summary:\n",
    "- 4.72% of all owners are organizations; they own 7.86% of notebooks.\n",
    "- 25.82% of notebook owners only have one notebook on GitHub. 23.89% of notebook owners have over 10 notebooks on GitHub\n",
    "- 54.13% of repositories have a description.\n",
    "- Users have an average of 10.88 notebooks on GitHub (Median = 4). Organizations have an average of 19.03 notebooks on GitHub (Median = 4).\n",
    "- 23.34% of repos with descriptions are educational. These repositories hold 28.564% of notebooks.\n",
    "- 16.27% of individual users have primarily educational repositories while 18.12% of organizational users have primarily educational repositories.\n",
    "- Educational owners tend to host more notebooks (mean 9.67, median 4) compared to non-educational owners (mean 8.61, median 3)"
   ]
  },
  {
   "cell_type": "markdown",
   "metadata": {},
   "source": [
    "----"
   ]
  },
  {
   "cell_type": "markdown",
   "metadata": {},
   "source": [
    "# Import Packages & Load Data"
   ]
  },
  {
   "cell_type": "code",
   "execution_count": 1,
   "metadata": {},
   "outputs": [],
   "source": [
    "import matplotlib.pyplot as plt\n",
    "import pandas as pd\n",
    "import re\n",
    "import numpy as np\n",
    "\n",
    "import load_data\n",
    "import datetime\n",
    "import pickle"
   ]
  },
  {
   "cell_type": "code",
   "execution_count": 2,
   "metadata": {},
   "outputs": [
    {
     "name": "stdout",
     "output_type": "stream",
     "text": [
      "Notebooks loaded in 0:00:27.213445\n",
      "Repos loaded in 0:00:04.234616\n",
      "Owners loaded in 0:00:01.273735\n"
     ]
    }
   ],
   "source": [
    "notebooks = load_data.load_notebooks()\n",
    "repos = load_data.load_repos()\n",
    "owners = load_data.load_owners()\n"
   ]
  },
  {
   "cell_type": "markdown",
   "metadata": {},
   "source": [
    "--------"
   ]
  },
  {
   "cell_type": "markdown",
   "metadata": {},
   "source": [
    "# Manipulate Data"
   ]
  },
  {
   "cell_type": "markdown",
   "metadata": {},
   "source": [
    "## Separate types of owners: organizations vs users"
   ]
  },
  {
   "cell_type": "code",
   "execution_count": 3,
   "metadata": {},
   "outputs": [],
   "source": [
    "users = owners[owners.type == 'User']\n",
    "orgs = owners[owners.type == 'Organization']"
   ]
  },
  {
   "cell_type": "code",
   "execution_count": 4,
   "metadata": {},
   "outputs": [],
   "source": [
    "user_nbs = notebooks[notebooks.owner_id.isin(users.owner_id)]\n",
    "org_nbs = notebooks[notebooks.owner_id.isin(orgs.owner_id)]"
   ]
  },
  {
   "cell_type": "markdown",
   "metadata": {},
   "source": [
    "## Identify educational owners\n",
    "Define educational owners as owners whos repositories are primarily educational.\n",
    "Define an educational repository as one that uses at least one of the educational words listed below. We are only considering repositories with descriptions as eligible."
   ]
  },
  {
   "cell_type": "markdown",
   "metadata": {},
   "source": [
    "### Isolate educational repositories"
   ]
  },
  {
   "cell_type": "code",
   "execution_count": 5,
   "metadata": {},
   "outputs": [],
   "source": [
    "edu_words = [\n",
    "    'teach', 'bootcamp', 'boot camp', 'capstone',\n",
    "    'final project', 'thesis', 'demonstrat', 'workshop',\n",
    "    'lesson', 'course', 'classroom', 'study', 'class ',         # space to avoid matching 'classification'\n",
    "    'research', 'university', 'curriculum', 'udemy',\n",
    "    'udacity', 'coursea', 'mit ', 'exercise',\n",
    "    'example', 'instruction', 'tutorial', 'education',\n",
    "    'student', 'assignment', 'homework',  'problem set', 'lecture'\n",
    "]"
   ]
  },
  {
   "cell_type": "markdown",
   "metadata": {},
   "source": [
    "Limit to repositories with descriptions."
   ]
  },
  {
   "cell_type": "code",
   "execution_count": 6,
   "metadata": {},
   "outputs": [
    {
     "name": "stdout",
     "output_type": "stream",
     "text": [
      "54.13% of repositories have a description.\n"
     ]
    }
   ],
   "source": [
    "repos_has_desc = repos.copy()[~repos.repo_description.isna()]\n",
    "print(\"{0}% of repositories have a description.\".format(round(\n",
    "    100*len(repos_has_desc)/ len(repos), 2\n",
    ")))"
   ]
  },
  {
   "cell_type": "markdown",
   "metadata": {},
   "source": [
    "Separate repositories with at least one educational word from those without."
   ]
  },
  {
   "cell_type": "code",
   "execution_count": 7,
   "metadata": {},
   "outputs": [],
   "source": [
    "repos_has_desc['edu_word_count'] = [\n",
    "    sum([1 if \n",
    "         re.search('(?<![a-zA-Z]){0}'.format(e), str(r).lower()) \n",
    "         else 0 for e in edu_words]) \n",
    "    for r in repos_has_desc.repo_description\n",
    "]\n",
    "edu_repos = repos_has_desc.copy()[repos_has_desc['edu_word_count']>=1]\n",
    "non_edu_repos = repos_has_desc.copy()[repos_has_desc['edu_word_count']==0]\n",
    "\n",
    "edu_notebooks = notebooks.copy()[notebooks.repo_id.isin(edu_repos.repo_id)]\n",
    "non_edu_notebooks = notebooks.copy()[notebooks.repo_id.isin(non_edu_repos.repo_id)]"
   ]
  },
  {
   "cell_type": "markdown",
   "metadata": {},
   "source": [
    "### Visually inspect a sample of educational repos. Did we get them right?\n",
    "\n",
    "Most of these descriptions seem to represent educational repositories, held by students and instructors alike.\n",
    "\n",
    "These ones don't seem to fit: \"How to handle emoji in Python + a quick Python script to count emoji in Tweets as an example. (python 2.7)\", \"This is a webcrawler which gets lists of articles from Korea University Library site.\""
   ]
  },
  {
   "cell_type": "code",
   "execution_count": 8,
   "metadata": {},
   "outputs": [
    {
     "name": "stdout",
     "output_type": "stream",
     "text": [
      "['All assignments and projects for my Deep Learning class.'\n",
      " 'Data-Wrangling-Udacity'\n",
      " 'pandaspart4and5-onwardmahachi created by GitHub Classroom'\n",
      " 'Multilayer Perceptron Nerual Network example'\n",
      " 'A basic tutorials on how to start-up the prediction of housing prices. '\n",
      " 'CSCI 599 deep learning and its applications final project'\n",
      " 'Repository for my code as I follow the  Stanford course Tensorflow for Deep Learning Research'\n",
      " '2nd assignment of image processing. Enhancing input images using a series of operations.'\n",
      " 'API Homework' 'Session 2 Assignment']\n"
     ]
    }
   ],
   "source": [
    "print(\n",
    "    edu_repos['repo_description'].sample(\n",
    "        10, random_state = 50\n",
    "    ).values\n",
    ")"
   ]
  },
  {
   "cell_type": "markdown",
   "metadata": {},
   "source": [
    "### Visually inspect a sample of non-educational repos\n",
    "\n",
    "Some repos are described in other languages, so this simple word-based check did not caputre them.\n",
    "- \"和Python相关的学习笔记：机器学习、算法、进阶书籍、文档，博客地址\"\n",
    "    - translation: \"Python-related study notes: machine learning, algorithms, advanced books, documentation\"\n",
    "    \n",
    "Other repos may be educational, but not for sure.\n",
    "- \"Intro to Biomedical Computational Programming\"\n",
    "- \"AM221 PSet\"\n",
    "- \"Experimental physics modules III, IV & V - Thimo Preis\""
   ]
  },
  {
   "cell_type": "code",
   "execution_count": 9,
   "metadata": {},
   "outputs": [
    {
     "name": "stdout",
     "output_type": "stream",
     "text": [
      "['Successfully navigate a vehicle safely and smoothly through a track in simulator using MPC'\n",
      " 'CLASSIFYING IMAGES OF NUMERICAL PHYSICAL SIGN LANGUAGE NUMBERS WITH MACHINE LEANING AND DIMENSIONALITY REDUCTION'\n",
      " 'medical prediction stroke'\n",
      " 'This is the famous titanic challenge to determine the survivors of titanic passengers'\n",
      " 'parking lot for random colab projects'\n",
      " 'ILP and SAT based attractor analysis in biological networks'\n",
      " 'ART: A Reconstruction Tool. For reconstructing probability distributions using Gaussian processes.'\n",
      " 'ML, Django and backend python modules of SmartAgro'\n",
      " 'Detecting car makes and models using deep learning models.'\n",
      " 'Mandel Lab Training']\n"
     ]
    }
   ],
   "source": [
    "print(\n",
    "    non_edu_repos['repo_description'].sample(\n",
    "        10, random_state = 50\n",
    "    ).values\n",
    ")"
   ]
  },
  {
   "cell_type": "code",
   "execution_count": 10,
   "metadata": {},
   "outputs": [],
   "source": [
    "repo_edu_status = pd.DataFrame({\n",
    "    'repo_id': list(edu_repos.repo_id) + list(non_edu_repos.repo_id),\n",
    "    'edu': [True]*len(edu_repos) + [False]*len(non_edu_repos)\n",
    "})"
   ]
  },
  {
   "cell_type": "code",
   "execution_count": 11,
   "metadata": {},
   "outputs": [],
   "source": [
    "f = open('analysis_data/repo_edu_status.df','wb')\n",
    "pickle.dump(repo_edu_status, f)\n",
    "f.close()"
   ]
  },
  {
   "cell_type": "markdown",
   "metadata": {},
   "source": [
    "### Most common words within each group of repositories"
   ]
  },
  {
   "cell_type": "code",
   "execution_count": 12,
   "metadata": {},
   "outputs": [],
   "source": [
    "from nltk.corpus import stopwords \n",
    "stop = set(stopwords.words('english'))"
   ]
  },
  {
   "cell_type": "code",
   "execution_count": 13,
   "metadata": {},
   "outputs": [
    {
     "name": "stdout",
     "output_type": "stream",
     "text": [
      "Most common words in descriptions of educational repositories\n",
      "and the proportion of descriptions they appear in\n",
      "(excluding educational words we selected for)\n"
     ]
    },
    {
     "data": {
      "text/plain": [
       "learning      0.172002\n",
       "data          0.171861\n",
       "machine       0.099476\n",
       "python        0.082572\n",
       "created       0.081021\n",
       "github        0.077514\n",
       "science       0.069308\n",
       "repository    0.069167\n",
       "deep          0.065043\n",
       "nanodegree    0.061094\n",
       "dtype: float64"
      ]
     },
     "execution_count": 13,
     "metadata": {},
     "output_type": "execute_result"
    }
   ],
   "source": [
    "print(\"Most common words in descriptions of educational repositories\")\n",
    "print(\"and the proportion of descriptions they appear in\")\n",
    "print(\"(excluding educational words we selected for)\")\n",
    "(pd.Series([\n",
    "    w.lower() for w in ' '.join(edu_repos['repo_description']).split()\n",
    "    if w.lower() not in stop and sum([w.lower() in e or e in w.lower() for e in edu_words]) == 0 and len(w) > 2\n",
    "]).value_counts()/len(edu_repos))[:10]"
   ]
  },
  {
   "cell_type": "code",
   "execution_count": 14,
   "metadata": {},
   "outputs": [
    {
     "name": "stdout",
     "output_type": "stream",
     "text": [
      "Most common words in descriptions of non-educational repositories\n"
     ]
    },
    {
     "data": {
      "text/plain": [
       "data          0.142275\n",
       "using         0.106842\n",
       "learning      0.103911\n",
       "python        0.087586\n",
       "project       0.071583\n",
       "analysis      0.061888\n",
       "machine       0.061418\n",
       "code          0.043540\n",
       "repository    0.034596\n",
       "model         0.032602\n",
       "dtype: float64"
      ]
     },
     "execution_count": 14,
     "metadata": {},
     "output_type": "execute_result"
    }
   ],
   "source": [
    "print(\"Most common words in descriptions of non-educational repositories\")\n",
    "(pd.Series([\n",
    "    w.lower() for w in ' '.join(non_edu_repos['repo_description']).split()\n",
    "    if w.lower() not in stop and len(w) > 2\n",
    "]).value_counts()/len(non_edu_repos))[:10]"
   ]
  },
  {
   "cell_type": "markdown",
   "metadata": {},
   "source": [
    "### Add repository type to repos dataframe"
   ]
  },
  {
   "cell_type": "code",
   "execution_count": 15,
   "metadata": {},
   "outputs": [],
   "source": [
    "edu_repos['type'] = 'Educational'\n",
    "non_edu_repos['type'] = 'Non-Educational'\n",
    "repos = pd.concat([edu_repos, non_edu_repos])"
   ]
  },
  {
   "cell_type": "markdown",
   "metadata": {},
   "source": [
    "### Determine if *owners* are educational or not"
   ]
  },
  {
   "cell_type": "code",
   "execution_count": 16,
   "metadata": {},
   "outputs": [],
   "source": [
    "type_counts = repos.groupby(\n",
    "    ['owner_id','type']\n",
    ")['repo_id'].count().reset_index().pivot(\n",
    "    index = 'owner_id', \n",
    "    columns = 'type', \n",
    "    values = 'repo_id'\n",
    ").reset_index().fillna(0)"
   ]
  },
  {
   "cell_type": "code",
   "execution_count": 17,
   "metadata": {},
   "outputs": [],
   "source": [
    "type_counts['owner_type'] = [\n",
    "    'Educational' if r['Educational'] > r['Non-Educational']\n",
    "    else ('Non-Educational' if r['Educational'] < r['Non-Educational']\n",
    "         else '')\n",
    "    for _, r in type_counts.iterrows()\n",
    "]"
   ]
  },
  {
   "cell_type": "code",
   "execution_count": 18,
   "metadata": {},
   "outputs": [
    {
     "data": {
      "text/html": [
       "<div>\n",
       "<style scoped>\n",
       "    .dataframe tbody tr th:only-of-type {\n",
       "        vertical-align: middle;\n",
       "    }\n",
       "\n",
       "    .dataframe tbody tr th {\n",
       "        vertical-align: top;\n",
       "    }\n",
       "\n",
       "    .dataframe thead th {\n",
       "        text-align: right;\n",
       "    }\n",
       "</style>\n",
       "<table border=\"1\" class=\"dataframe\">\n",
       "  <thead>\n",
       "    <tr style=\"text-align: right;\">\n",
       "      <th></th>\n",
       "      <th>owner_id</th>\n",
       "      <th>Educational</th>\n",
       "      <th>Non-Educational</th>\n",
       "      <th>owner_type</th>\n",
       "      <th>type</th>\n",
       "    </tr>\n",
       "  </thead>\n",
       "  <tbody>\n",
       "    <tr>\n",
       "      <th>0</th>\n",
       "      <td>29</td>\n",
       "      <td>1.0</td>\n",
       "      <td>0.0</td>\n",
       "      <td>Educational</td>\n",
       "      <td>User</td>\n",
       "    </tr>\n",
       "    <tr>\n",
       "      <th>1</th>\n",
       "      <td>200</td>\n",
       "      <td>1.0</td>\n",
       "      <td>0.0</td>\n",
       "      <td>Educational</td>\n",
       "      <td>User</td>\n",
       "    </tr>\n",
       "    <tr>\n",
       "      <th>2</th>\n",
       "      <td>224</td>\n",
       "      <td>1.0</td>\n",
       "      <td>7.0</td>\n",
       "      <td>Non-Educational</td>\n",
       "      <td>User</td>\n",
       "    </tr>\n",
       "    <tr>\n",
       "      <th>3</th>\n",
       "      <td>224</td>\n",
       "      <td>1.0</td>\n",
       "      <td>7.0</td>\n",
       "      <td>Non-Educational</td>\n",
       "      <td>User</td>\n",
       "    </tr>\n",
       "    <tr>\n",
       "      <th>4</th>\n",
       "      <td>224</td>\n",
       "      <td>1.0</td>\n",
       "      <td>7.0</td>\n",
       "      <td>Non-Educational</td>\n",
       "      <td>User</td>\n",
       "    </tr>\n",
       "  </tbody>\n",
       "</table>\n",
       "</div>"
      ],
      "text/plain": [
       "   owner_id  Educational  Non-Educational       owner_type  type\n",
       "0        29          1.0              0.0      Educational  User\n",
       "1       200          1.0              0.0      Educational  User\n",
       "2       224          1.0              7.0  Non-Educational  User\n",
       "3       224          1.0              7.0  Non-Educational  User\n",
       "4       224          1.0              7.0  Non-Educational  User"
      ]
     },
     "execution_count": 18,
     "metadata": {},
     "output_type": "execute_result"
    }
   ],
   "source": [
    "type_counts = type_counts.merge(owners[['owner_id','type']], on = 'owner_id')\n",
    "type_counts.head()"
   ]
  },
  {
   "cell_type": "markdown",
   "metadata": {},
   "source": [
    "---------"
   ]
  },
  {
   "cell_type": "markdown",
   "metadata": {},
   "source": [
    "# Visualizations & Statistics"
   ]
  },
  {
   "cell_type": "markdown",
   "metadata": {},
   "source": [
    "## Owner types"
   ]
  },
  {
   "cell_type": "code",
   "execution_count": 19,
   "metadata": {},
   "outputs": [
    {
     "name": "stdout",
     "output_type": "stream",
     "text": [
      "34,664 (4.72%) of owners are organizations.\n",
      "7.86% of notebooks are owned by organizations, while 92.14% are owned by users.\n"
     ]
    }
   ],
   "source": [
    "prop_user = len(user_nbs) / (len(user_nbs) + len(org_nbs))\n",
    "prop_org = len(org_nbs) / (len(user_nbs) + len(org_nbs))\n",
    "print(\"{0:,} ({1}%) of owners are organizations.\".format(\n",
    "    len(orgs), round(100*len(orgs)/(len(orgs) + len(users)),2),\n",
    "))\n",
    "print(\"{0}% of notebooks are owned by organizations, while {1}% are owned by users.\".format(\n",
    "    round(100*prop_org, 2), round(100*prop_user, 2)\n",
    "))"
   ]
  },
  {
   "cell_type": "markdown",
   "metadata": {},
   "source": [
    "## Notebooks per Owner"
   ]
  },
  {
   "cell_type": "code",
   "execution_count": 20,
   "metadata": {},
   "outputs": [],
   "source": [
    "nbs_per_owner = notebooks.groupby('owner_id')['file'].count().reset_index()"
   ]
  },
  {
   "cell_type": "code",
   "execution_count": 21,
   "metadata": {},
   "outputs": [
    {
     "data": {
      "image/png": "[encoded data removed]",
      "text/plain": [
       "<Figure size 432x288 with 1 Axes>"
      ]
     },
     "metadata": {
      "needs_background": "light"
     },
     "output_type": "display_data"
    }
   ],
   "source": [
    "plt.hist(nbs_per_owner.file, bins = 500, color = 'teal')\n",
    "plt.xlim(0, 1500)\n",
    "plt.yscale('log')\n",
    "plt.xlabel('Notebooks')\n",
    "plt.ylabel('Owners')\n",
    "plt.title('Notebooks per Owner')\n",
    "plt.show()"
   ]
  },
  {
   "cell_type": "code",
   "execution_count": 22,
   "metadata": {},
   "outputs": [
    {
     "name": "stdout",
     "output_type": "stream",
     "text": [
      "25.82% of notebook owners only have one notebook on GitHub.\n",
      "23.89% of notebook owners have over 10 notebooks on GitHub\n",
      "Mean = 11.26, Median = 4.0, Range = 1-27085\n"
     ]
    }
   ],
   "source": [
    "print(\"{0}% of notebook owners only have one notebook on GitHub.\".format(\n",
    "    round(100*sum(nbs_per_owner.file == 1)/len(nbs_per_owner), 2)\n",
    "))\n",
    "\n",
    "print(\"{0}% of notebook owners have over 10 notebooks on GitHub\".format(\n",
    "    round(100*sum(nbs_per_owner.file > 10)/len(nbs_per_owner), 2)\n",
    "))\n",
    "print(\"Mean = {0}, Median = {1}, Range = {2}-{3}\".format(\n",
    "    round(nbs_per_owner.file.mean(), 2),\n",
    "    nbs_per_owner.file.median(),\n",
    "    nbs_per_owner.file.min(),\n",
    "    nbs_per_owner.file.max()\n",
    "))"
   ]
  },
  {
   "cell_type": "markdown",
   "metadata": {},
   "source": [
    "## Notebooks per Owner: users vs organizations"
   ]
  },
  {
   "cell_type": "code",
   "execution_count": 23,
   "metadata": {},
   "outputs": [
    {
     "name": "stdout",
     "output_type": "stream",
     "text": [
      "For Users:\n",
      "25.88% of notebook owners only have one notebook on GitHub.\n",
      "23.7% of notebook owners have over 10 notebooks on GitHub\n",
      "Mean = 10.88, Median = 4.0\n",
      "Top user: https://github.com/gopala-kr with 2712 notebooks.\n",
      "\n",
      "For Organizations:\n",
      "24.75% of notebook owners only have one notebook on GitHub.\n",
      "27.66% of notebook owners have over 10 notebooks on GitHub\n",
      "Mean = 19.03, Median = 4.0\n",
      "Top organization: https://github.com/learn-co-students with 27085 notebooks.\n"
     ]
    }
   ],
   "source": [
    "print(\"For Users:\")\n",
    "user_nbs_per_owner = user_nbs.groupby('owner_id')['file'].count().reset_index()\n",
    "print(\"{0}% of notebook owners only have one notebook on GitHub.\".format(\n",
    "    round(100*sum(user_nbs_per_owner.file == 1)/len(user_nbs_per_owner), 2)\n",
    "))\n",
    "print(\"{0}% of notebook owners have over 10 notebooks on GitHub\".format(\n",
    "    round(100*sum(user_nbs_per_owner.file > 10)/len(user_nbs_per_owner), 2)\n",
    "))\n",
    "print(\"Mean = {0}, Median = {1}\".format(\n",
    "    round(user_nbs_per_owner.file.mean(), 2),\n",
    "    user_nbs_per_owner.file.median()\n",
    "))\n",
    "\n",
    "top_owner = owners[\n",
    "    owners.owner_id == user_nbs_per_owner[\n",
    "        user_nbs_per_owner.file==user_nbs_per_owner.file.max()\n",
    "    ].owner_id.values[0]\n",
    "].owner_html_url.values[0]\n",
    "print('Top user: {0} with {1} notebooks.'.format(top_owner, user_nbs_per_owner.file.max()))\n",
    "\n",
    "print(\"\\nFor Organizations:\")\n",
    "org_nbs_per_owner = org_nbs.groupby('owner_id')['file'].count().reset_index()\n",
    "print(\"{0}% of notebook owners only have one notebook on GitHub.\".format(\n",
    "    round(100*sum(org_nbs_per_owner.file == 1)/len(org_nbs_per_owner), 2)\n",
    "))\n",
    "print(\"{0}% of notebook owners have over 10 notebooks on GitHub\".format(\n",
    "    round(100*sum(org_nbs_per_owner.file > 10)/len(org_nbs_per_owner), 2)\n",
    "))\n",
    "print(\"Mean = {0}, Median = {1}\".format(\n",
    "    round(org_nbs_per_owner.file.mean(), 2),\n",
    "    org_nbs_per_owner.file.median()\n",
    "))\n",
    "\n",
    "top_org = owners[\n",
    "    owners.owner_id == org_nbs_per_owner[\n",
    "        org_nbs_per_owner.file==org_nbs_per_owner.file.max()\n",
    "    ].owner_id.values[0]\n",
    "].owner_html_url.values[0]\n",
    "print('Top organization: {0} with {1} notebooks.'.format(top_org, org_nbs_per_owner.file.max()))"
   ]
  },
  {
   "cell_type": "code",
   "execution_count": 24,
   "metadata": {},
   "outputs": [
    {
     "data": {
      "image/png": "[encoded data removed]",
      "text/plain": [
       "<Figure size 720x360 with 2 Axes>"
      ]
     },
     "metadata": {
      "needs_background": "light"
     },
     "output_type": "display_data"
    }
   ],
   "source": [
    "fig = plt.figure(figsize = (10, 5))\n",
    "\n",
    "plt.subplot(2,1,1)\n",
    "plt.hist(\n",
    "    user_nbs_per_owner.file, \n",
    "    bins = 50,\n",
    "    color='teal'\n",
    ")\n",
    "plt.title(\"Notebooks per User\")\n",
    "plt.ylabel(\"Number of Users\")\n",
    "plt.xlim(0, 4000)\n",
    "plt.yscale('log')\n",
    "plt.ylim(1, 100000)\n",
    "\n",
    "plt.subplot(2,1,2)\n",
    "plt.hist(\n",
    "    org_nbs_per_owner.file, \n",
    "    bins = 400,\n",
    "    color = 'teal'\n",
    ")\n",
    "plt.title(\"Notebooks per Organization\")\n",
    "plt.xlabel(\"Number of Notebooks\")\n",
    "plt.ylabel(\"Number of Orgs\")\n",
    "plt.xlim(0, 4000)\n",
    "plt.yscale('log')\n",
    "plt.ylim(1, 100000)\n",
    "\n",
    "plt.tight_layout()\n",
    "plt.show()"
   ]
  },
  {
   "cell_type": "markdown",
   "metadata": {},
   "source": [
    "Both distributions are centered with a median at 4, but the range of number of notebooks is much wider for organizations and the average is much higher at 19.03 as opposed to 10.88."
   ]
  },
  {
   "cell_type": "markdown",
   "metadata": {},
   "source": [
    "## Educational owners versus non-educational owners"
   ]
  },
  {
   "cell_type": "code",
   "execution_count": 25,
   "metadata": {},
   "outputs": [
    {
     "name": "stdout",
     "output_type": "stream",
     "text": [
      "We've determined that 23.34% of repos with descriptions (containing 28.564% of notebooks in repos with descriptions) are educational.\n"
     ]
    }
   ],
   "source": [
    "print(\"We've determined that {0}% of repos with descriptions (containing {1}% of notebooks in repos with descriptions) are educational.\".format(\n",
    "    round(100*len(edu_repos)/len(repos_has_desc), 2),\n",
    "    round(100*len(edu_notebooks)/len(notebooks[notebooks.repo_id.isin(repos_has_desc.repo_id)]),3)\n",
    "))"
   ]
  },
  {
   "cell_type": "code",
   "execution_count": 26,
   "metadata": {},
   "outputs": [
    {
     "name": "stdout",
     "output_type": "stream",
     "text": [
      "93.53% of owners with at least one repo description are definitively educational or non-educational.\n",
      "The other 6.47% have equal numbers of educational and non-educational repositories\n",
      "\n",
      "Of owners that are not split, 17.5% are educational and 82.5% are not.\n",
      "16.27% of individual users are educational while 18.12% of organizational users are educational.\n"
     ]
    }
   ],
   "source": [
    "num_edu_users = type_counts.owner_type.value_counts()['Educational']\n",
    "num_non_edu_users = type_counts.owner_type.value_counts()['Non-Educational']\n",
    "total_users = type_counts.owner_type.value_counts().sum()\n",
    "\n",
    "print(\"{0}% of owners with at least one repo description are definitively educational or non-educational.\".format(\n",
    "    round(100*(num_edu_users + num_non_edu_users)/total_users, 2)\n",
    "))\n",
    "print(\"The other {0}% have equal numbers of educational and non-educational repositories\".format(\n",
    "    round(100-100*(num_edu_users + num_non_edu_users)/total_users, 2)\n",
    "))\n",
    "print(\"\\nOf owners that are not split, {0}% are educational and {1}% are not.\".format(\n",
    "    round(100*(num_edu_users)/(num_edu_users + num_non_edu_users), 2),\n",
    "    round(100*(num_non_edu_users)/(num_edu_users + num_non_edu_users), 2)\n",
    "\n",
    "))\n",
    "\n",
    "num_org_users = sum(type_counts.type == 'Organization')\n",
    "num_indiv_users = sum(type_counts.type == 'User')\n",
    "print(\"{0}% of individual users are educational while {1}% of organizational users are educational.\".format(\n",
    "    round(100*sum(np.logical_and(type_counts.type == 'User', type_counts.owner_type=='Educational'))/num_indiv_users, 2),\n",
    "    round(100*sum(np.logical_and(type_counts.type == 'Organization', type_counts.owner_type=='Educational'))/num_org_users, 2),\n",
    "\n",
    "))"
   ]
  },
  {
   "cell_type": "markdown",
   "metadata": {},
   "source": [
    "## Notebooks per Owner: educational vs not"
   ]
  },
  {
   "cell_type": "code",
   "execution_count": 27,
   "metadata": {},
   "outputs": [
    {
     "name": "stdout",
     "output_type": "stream",
     "text": [
      "For Educational Owners:\n",
      "26.61% of educational owners only have one notebook on GitHub.\n",
      "21.36% of notebook owners have over 10 notebooks on GitHub\n",
      "Mean = 9.67, Median = 4.0\n",
      "Top educational owner: https://github.com/MahopacHS with 2847 notebooks.\n",
      "\n",
      "For Non-Educational Owners:\n",
      "30.27% of non-educational owners only have one notebook on GitHub.\n",
      "18.42% of non-educational owners have over 10 notebooks on GitHub\n",
      "Mean = 8.61, Median = 3.0\n",
      "Top non-educational owner: https://github.com/FOSSEE with 10343 notebooks.\n"
     ]
    }
   ],
   "source": [
    "edu_nbs = notebooks[notebooks.repo_id.isin(edu_repos.repo_id)]\n",
    "non_edu_nbs = notebooks[notebooks.repo_id.isin(non_edu_repos.repo_id)]\n",
    "\n",
    "print(\"For Educational Owners:\")\n",
    "edu_nbs_per_owner = edu_nbs.groupby('owner_id')['file'].count().reset_index()\n",
    "print(\"{0}% of educational owners only have one notebook on GitHub.\".format(\n",
    "    round(100*sum(edu_nbs_per_owner.file == 1)/len(edu_nbs_per_owner), 2)\n",
    "))\n",
    "print(\"{0}% of notebook owners have over 10 notebooks on GitHub\".format(\n",
    "    round(100*sum(edu_nbs_per_owner.file > 10)/len(edu_nbs_per_owner), 2)\n",
    "))\n",
    "print(\"Mean = {0}, Median = {1}\".format(\n",
    "    round(edu_nbs_per_owner.file.mean(), 2),\n",
    "    edu_nbs_per_owner.file.median()\n",
    "))\n",
    "\n",
    "top_edu = owners[\n",
    "    owners.owner_id == edu_nbs_per_owner[\n",
    "        edu_nbs_per_owner.file==edu_nbs_per_owner.file.max()\n",
    "    ].owner_id.values[0]\n",
    "].owner_html_url.values[0]\n",
    "print('Top educational owner: {0} with {1} notebooks.'.format(top_edu, edu_nbs_per_owner.file.max()))\n",
    "\n",
    "print(\"\\nFor Non-Educational Owners:\")\n",
    "non_edu_nbs_per_owner = non_edu_nbs.groupby('owner_id')['file'].count().reset_index()\n",
    "print(\"{0}% of non-educational owners only have one notebook on GitHub.\".format(\n",
    "    round(100*sum(non_edu_nbs_per_owner.file == 1)/len(non_edu_nbs_per_owner), 2)\n",
    "))\n",
    "print(\"{0}% of non-educational owners have over 10 notebooks on GitHub\".format(\n",
    "    round(100*sum(non_edu_nbs_per_owner.file > 10)/len(non_edu_nbs_per_owner), 2)\n",
    "))\n",
    "print(\"Mean = {0}, Median = {1}\".format(\n",
    "    round(non_edu_nbs_per_owner.file.mean(), 2),\n",
    "    non_edu_nbs_per_owner.file.median()\n",
    "))\n",
    "\n",
    "top_non_edu = owners[\n",
    "    owners.owner_id == non_edu_nbs_per_owner[\n",
    "        non_edu_nbs_per_owner.file==non_edu_nbs_per_owner.file.max()\n",
    "    ].owner_id.values[0]\n",
    "].owner_html_url.values[0]\n",
    "print('Top non-educational owner: {0} with {1} notebooks.'.format(top_non_edu, non_edu_nbs_per_owner.file.max()))"
   ]
  },
  {
   "cell_type": "markdown",
   "metadata": {},
   "source": [
    "## Number of notebooks per repository"
   ]
  },
  {
   "cell_type": "code",
   "execution_count": 28,
   "metadata": {},
   "outputs": [
    {
     "data": {
      "image/png": "[encoded data removed]",
      "text/plain": [
       "<Figure size 432x288 with 1 Axes>"
      ]
     },
     "metadata": {
      "needs_background": "light"
     },
     "output_type": "display_data"
    }
   ],
   "source": [
    "nbs_per_repo = notebooks.groupby('repo_id')['file'].count().reset_index().rename(columns = {'file':'num_nbs'})\n",
    "plt.hist(nbs_per_repo.num_nbs[nbs_per_repo.num_nbs <= 100], bins = 30, color = 'teal')\n",
    "plt.yscale('log')\n",
    "plt.title('Notebooks per Repository')\n",
    "plt.xlabel('Number of Notebooks')\n",
    "plt.ylabel('Number of Repositories')\n",
    "plt.show()"
   ]
  },
  {
   "cell_type": "code",
   "execution_count": 29,
   "metadata": {},
   "outputs": [
    {
     "name": "stdout",
     "output_type": "stream",
     "text": [
      "46.94% of repositories have only one notebook.\n",
      "11.25% of repositories have ten or more notebooks.\n"
     ]
    }
   ],
   "source": [
    "print(\"{0}% of repositories have only one notebook.\".format(\n",
    "    round(100*list(nbs_per_repo.num_nbs).count(1)/len(nbs_per_repo), 2)\n",
    "))\n",
    "\n",
    "print(\"{0}% of repositories have ten or more notebooks.\".format(\n",
    "    round(100*sum(nbs_per_repo.num_nbs >= 10)/len(nbs_per_repo), 2)\n",
    "))"
   ]
  },
  {
   "cell_type": "markdown",
   "metadata": {},
   "source": [
    "<center> <a href = Languages.ipynb>Language Use &lt;</a> | <a href = Organization.ipynb>&gt; Notebook Organization</a> </center>"
   ]
  }
 ],
 "metadata": {
  "anaconda-cloud": {},
  "kernelspec": {
   "display_name": "Python 3",
   "language": "python",
   "name": "python3"
  },
  "language_info": {
   "codemirror_mode": {
    "name": "ipython",
    "version": 3
   },
   "file_extension": ".py",
   "mimetype": "text/x-python",
   "name": "python",
   "nbconvert_exporter": "python",
   "pygments_lexer": "ipython3",
   "version": "3.5.5"
  }
 },
 "nbformat": 4,
 "nbformat_minor": 4
}
