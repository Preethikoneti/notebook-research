{
 "cells": [
  {
   "cell_type": "code",
   "execution_count": 5,
   "metadata": {},
   "outputs": [],
   "source": [
    "import datetime\n",
    "import load_data\n",
    "import pandas as pd\n",
    "import numpy as np"
   ]
  },
  {
   "cell_type": "code",
   "execution_count": 103,
   "metadata": {},
   "outputs": [],
   "source": [
    "#### Only used in PrepareData.ipynb ####\n",
    "from load_data import *\n",
    "\n",
    "def get_single_df(df_name, i):\n",
    "    csvs = ['csv/'+ f for f in list_s3_dir('csv/{0}__{1}'.format(df_name, i))]\n",
    "    dfs = []\n",
    "    for f in csvs:\n",
    "        df = s3_to_df(f)\n",
    "        print(len(dfs), end = ' ')\n",
    "        dfs.append(df)\n",
    "    return pd.concat(dfs)\n",
    "\n",
    "def combine_notebooks(workers = list(range(10))):\n",
    "    start = datetime.datetime.now()\n",
    "    for i in workers:\n",
    "        start_i = datetime.datetime.now()\n",
    "        nb_i = get_single_df('notebooks2',i)\n",
    "        nb1_i = s3_to_df('csv/notebooks1_{0}.csv'.format(i))\n",
    "        nb_i = nb_i.merge(nb1_i, on = 'file')\n",
    "        mid_i = datetime.datetime.now()\n",
    "        print('\\nnotebooks_{0} loaded in'.format(i),mid_i - start_i)\n",
    "        nb_i.to_csv('data_final/notebooks_{0}.csv'.format(i), index = False)\n",
    "        end_i = datetime.datetime.now() \n",
    "        print('notebooks_{0} in csv in'.format(i), end_i-mid_i)\n",
    "    \n",
    "    end = datetime.datetime.now()\n",
    "    print('DONE! Now all in csv.', end - start)\n",
    "    \n",
    "def combine_cells(workers = list(range(10))):\n",
    "    start = datetime.datetime.now()\n",
    "    for i in workers:\n",
    "        start_i = datetime.datetime.now()\n",
    "        cells_i = get_single_df('cells1',i)\n",
    "        mid_i = datetime.datetime.now()\n",
    "        print('\\ncells_{0} loaded in'.format(i),mid_i - start_i)\n",
    "        \n",
    "        cells_i.to_csv('data_final/cells_{0}.csv'.format(i), index = False)\n",
    "        end_i = datetime.datetime.now()\n",
    "        print('cells_{0} in csv in'.format(i), end_i - mid_i)\n",
    "     \n",
    "    end = datetime.datetime.now()\n",
    "    print('DONE! Now all in csv.', end - start)\n",
    "    \n",
    "def combine_repos(workers = list(range(10))):\n",
    "    start = datetime.datetime.now()\n",
    "    for i in workers:\n",
    "        start_i = datetime.datetime.now()\n",
    "        repos_i = s3_to_df('csv/repos2_{0}.csv'.format(i))\n",
    "        mid_i = datetime.datetime.now()\n",
    "        print('repos_{0} loaded in'.format(i),mid_i - start_i)\n",
    "        repos_i.to_csv('data_final/repos_{0}.csv'.format(i), index = False)\n",
    "        end_i = datetime.datetime.now()\n",
    "        print('repos_{0} in csv in'.format(i), end_i - mid_i)\n",
    "        \n",
    "    end = datetime.datetime.now()\n",
    "    print('DONE! Now all in csv.', end - start)\n",
    "    \n",
    "def combine_owners(workers = list(range(10))):\n",
    "    start = datetime.datetime.now()\n",
    "    for i in workers:\n",
    "        start_i = datetime.datetime.now()\n",
    "        repos_i = s3_to_df('csv/owners2_{0}.csv'.format(i))\n",
    "        mid_i = datetime.datetime.now()\n",
    "        print('owners_{0} loaded in'.format(i),mid_i - start_i)\n",
    "        repos_i.to_csv('data_final/owners_{0}.csv'.format(i), index = False)\n",
    "        end_i = datetime.datetime.now()\n",
    "        print('owners_{0} in csv in'.format(i), end_i - mid_i)\n",
    "        \n",
    "    end = datetime.datetime.now()\n",
    "    print('DONE! Now all in csv.', end - start)"
   ]
  },
  {
   "cell_type": "markdown",
   "metadata": {},
   "source": [
    "# Data was extracted in 10 different sets of data. First step is to combine them all"
   ]
  },
  {
   "cell_type": "markdown",
   "metadata": {},
   "source": [
    "## Owners"
   ]
  },
  {
   "cell_type": "markdown",
   "metadata": {},
   "source": [
    "Download all owners csv files from s3"
   ]
  },
  {
   "cell_type": "code",
   "execution_count": null,
   "metadata": {},
   "outputs": [],
   "source": [
    "combine_owners()\n"
   ]
  },
  {
   "cell_type": "markdown",
   "metadata": {},
   "source": [
    "Concatenate these files"
   ]
  },
  {
   "cell_type": "code",
   "execution_count": 54,
   "metadata": {},
   "outputs": [],
   "source": [
    "!head -1 data_final/owners_0.csv > data_final/owners.csv"
   ]
  },
  {
   "cell_type": "code",
   "execution_count": 55,
   "metadata": {},
   "outputs": [],
   "source": [
    "!for filename in '0' '1' '2' '3' '4' '5' '6' '7' '8' '9'; do sed 1d data_final/owners_$filename.csv >> data_final/owners.csv; done;"
   ]
  },
  {
   "cell_type": "code",
   "execution_count": 2,
   "metadata": {},
   "outputs": [],
   "source": [
    "owners = pd.read_csv('data_final/owners.csv')\n",
    "owners = owners.drop_duplicates()\n",
    "owners.to_csv('data_final/owners.csv', index = False)"
   ]
  },
  {
   "cell_type": "code",
   "execution_count": null,
   "metadata": {},
   "outputs": [],
   "source": [
    "!aws s3 cp data_final/owners.csv s3://notebook-research/csv/owners.csv"
   ]
  },
  {
   "cell_type": "markdown",
   "metadata": {},
   "source": [
    "## Repos"
   ]
  },
  {
   "cell_type": "markdown",
   "metadata": {},
   "source": [
    "Download all repository csv files from s3"
   ]
  },
  {
   "cell_type": "code",
   "execution_count": null,
   "metadata": {},
   "outputs": [],
   "source": [
    "combine_repos()\n"
   ]
  },
  {
   "cell_type": "code",
   "execution_count": 45,
   "metadata": {},
   "outputs": [],
   "source": [
    "!head -1 data_final/repos_0.csv > data_final/repos.csv"
   ]
  },
  {
   "cell_type": "code",
   "execution_count": 46,
   "metadata": {},
   "outputs": [],
   "source": [
    "!for filename in '0' '1' '2' '3' '4' '5' '6' '7' '8' '9'; do sed 1d data_final/repos_$filename.csv >> data_final/repos.csv; done;"
   ]
  },
  {
   "cell_type": "code",
   "execution_count": 13,
   "metadata": {},
   "outputs": [
    {
     "name": "stdout",
     "output_type": "stream",
     "text": [
      "41\n",
      "0\n"
     ]
    }
   ],
   "source": [
    "repos = pd.read_csv('data_final/repos.csv')\n",
    "print(len(repos) - len(repos.repo_id.unique()))\n",
    "repos = repos.drop_duplicates()\n",
    "print(len(repos) - len(repos.repo_id.unique()))\n",
    "repos.to_csv('data_final/repos.csv', index = False)"
   ]
  },
  {
   "cell_type": "code",
   "execution_count": null,
   "metadata": {},
   "outputs": [],
   "source": [
    "!aws s3 cp data_final/repos.csv s3://notebook-research/csv/repos.csv"
   ]
  },
  {
   "cell_type": "markdown",
   "metadata": {},
   "source": [
    "## Notebooks"
   ]
  },
  {
   "cell_type": "markdown",
   "metadata": {},
   "source": [
    "Download all notebooks csvs from s3"
   ]
  },
  {
   "cell_type": "code",
   "execution_count": 135,
   "metadata": {},
   "outputs": [
    {
     "name": "stdout",
     "output_type": "stream",
     "text": [
      "0 1 2 3 4 5 No columns to parse from file\n",
      "6 7 8 9 10 11 12 13 14 15 16 17 18 19 20 21 22 23 24 25 26 27 28 29 30 31 32 33 34 35 36 37 38 39 40 41 42 43 44 45 46 47 48 49 50 51 52 53 54 55 56 57 58 59 60 \n",
      "notebooks_3 loaded in 0:00:12.437477\n",
      "notebooks_3 in csv in 0:00:08.408250\n",
      "DONE! Now all in csv. 0:00:20.846297\n"
     ]
    }
   ],
   "source": [
    "combine_notebooks(workers = [3])\n"
   ]
  },
  {
   "cell_type": "code",
   "execution_count": 143,
   "metadata": {},
   "outputs": [
    {
     "name": "stdout",
     "output_type": "stream",
     "text": [
      "0\n",
      "1\n",
      "2\n",
      "3\n",
      "4\n",
      "5\n",
      "6\n",
      "7\n",
      "8\n",
      "9\n"
     ]
    }
   ],
   "source": [
    "!head -1 data_final/notebooks_0.csv > data_final/notebooks.csv\n",
    "!for filename in '0' '1' '2' '3' '4' '5' '6' '7' '8' '9'; do sed 1d data_final/notebooks_$filename.csv >> data_final/notebooks.csv; echo $filename; done;"
   ]
  },
  {
   "cell_type": "code",
   "execution_count": 20,
   "metadata": {},
   "outputs": [
    {
     "name": "stdout",
     "output_type": "stream",
     "text": [
      "0\n",
      "0\n"
     ]
    }
   ],
   "source": [
    "notebooks = pd.read_csv('data_final/notebooks.csv')\n",
    "print(len(notebooks)-len(notebooks.file.unique()))\n",
    "notebooks = notebooks.drop_duplicates()\n",
    "print(len(notebooks)-len(notebooks.file.unique()))\n",
    "notebooks.to_csv('data_final/notebooks.csv', index = False)"
   ]
  },
  {
   "cell_type": "code",
   "execution_count": null,
   "metadata": {},
   "outputs": [],
   "source": [
    "!aws s3 cp data_final/notebooks.csv s3://notebook-research/csv/notebooks.csv"
   ]
  },
  {
   "cell_type": "code",
   "execution_count": null,
   "metadata": {},
   "outputs": [],
   "source": [
    "!aws s3 cp data_final/notebooks_0.csv s3://notebook-research/csv/notebooks2_0.csv\n",
    "!aws s3 cp data_final/notebooks_1.csv s3://notebook-research/csv/notebooks2_1.csv\n",
    "!aws s3 cp data_final/notebooks_2.csv s3://notebook-research/csv/notebooks2_2.csv\n",
    "!aws s3 cp data_final/notebooks_3.csv s3://notebook-research/csv/notebooks2_3.csv\n",
    "!aws s3 cp data_final/notebooks_4.csv s3://notebook-research/csv/notebooks2_4.csv\n",
    "!aws s3 cp data_final/notebooks_5.csv s3://notebook-research/csv/notebooks2_5.csv\n",
    "!aws s3 cp data_final/notebooks_6.csv s3://notebook-research/csv/notebooks2_6.csv\n",
    "!aws s3 cp data_final/notebooks_7.csv s3://notebook-research/csv/notebooks2_7.csv\n",
    "!aws s3 cp data_final/notebooks_8.csv s3://notebook-research/csv/notebooks2_8.csv\n",
    "!aws s3 cp data_final/notebooks_9.csv s3://notebook-research/csv/notebooks2_9.csv\n"
   ]
  },
  {
   "cell_type": "markdown",
   "metadata": {},
   "source": [
    "## Cells"
   ]
  },
  {
   "cell_type": "markdown",
   "metadata": {},
   "source": [
    "Combine all sub-csvs and save to 10 local csvs from s3"
   ]
  },
  {
   "cell_type": "code",
   "execution_count": 146,
   "metadata": {
    "jupyter": {
     "outputs_hidden": true
    },
    "scrolled": false
   },
   "outputs": [
    {
     "name": "stdout",
     "output_type": "stream",
     "text": [
      "0 No columns to parse from file\n",
      "1 2 3 4 5 6 7 8 9 10 11 12 13 14 15 16 17 18 19 20 21 22 23 24 25 26 27 28 29 30 31 32 33 34 35 36 37 38 39 40 41 42 43 44 45 46 47 48 49 50 51 52 53 54 55 56 57 58 59 60 61 62 \n",
      "cells_3 loaded in 0:03:56.867969\n",
      "cells_3 in csv in 0:05:51.766928\n",
      "DONE! Now all in csv. 0:09:48.635274\n"
     ]
    }
   ],
   "source": [
    "combine_cells(workers = [3])\n"
   ]
  },
  {
   "cell_type": "markdown",
   "metadata": {},
   "source": [
    "Concatenate these files"
   ]
  },
  {
   "cell_type": "code",
   "execution_count": 147,
   "metadata": {},
   "outputs": [],
   "source": [
    "!head -1 data_final/cells_0.csv > data_final/cells.csv"
   ]
  },
  {
   "cell_type": "code",
   "execution_count": 148,
   "metadata": {},
   "outputs": [
    {
     "name": "stdout",
     "output_type": "stream",
     "text": [
      "0\n",
      "1\n",
      "2\n",
      "3\n",
      "4\n",
      "5\n",
      "6\n",
      "7\n",
      "8\n",
      "9\n"
     ]
    }
   ],
   "source": [
    "!for filename in '0' '1' '2' '3' '4' '5' '6' '7' '8' '9'; do sed 1d data_final/cells_$filename.csv >> data_final/cells.csv; echo $filename; done;"
   ]
  },
  {
   "cell_type": "code",
   "execution_count": null,
   "metadata": {},
   "outputs": [],
   "source": [
    "!aws s3 cp data_final/cells.csv s3://notebook-research/csv/cells.csv\n"
   ]
  },
  {
   "cell_type": "code",
   "execution_count": null,
   "metadata": {},
   "outputs": [],
   "source": [
    "# !aws s3 cp data_final/cells_0.csv s3://notebook-research/csv/cells1_0.csv\n",
    "# !aws s3 cp data_final/cells_1.csv s3://notebook-research/csv/cells1_1.csv\n",
    "# !aws s3 cp data_final/cells_2.csv s3://notebook-research/csv/cells1_2.csv\n",
    "!aws s3 cp data_final/cells_3.csv s3://notebook-research/csv/cells1_3.csv\n",
    "# !aws s3 cp data_final/cells_4.csv s3://notebook-research/csv/cells1_4.csv\n",
    "# !aws s3 cp data_final/cells_5.csv s3://notebook-research/csv/cells1_5.csv\n",
    "# !aws s3 cp data_final/cells_6.csv s3://notebook-research/csv/cells1_6.csv\n",
    "# !aws s3 cp data_final/cells_7.csv s3://notebook-research/csv/cells1_7.csv\n",
    "# !aws s3 cp data_final/cells_8.csv s3://notebook-research/csv/cells1_8.csv\n",
    "# !aws s3 cp data_final/cells_9.csv s3://notebook-research/csv/cells1_9.csv\n"
   ]
  },
  {
   "cell_type": "markdown",
   "metadata": {},
   "source": [
    "# Remove files with missing data\n",
    "Only keep notebooks that\n",
    "- are downloaded\n",
    "- have at least one line of code or one markdown word\n",
    "- have repository metadata\n",
    "- are *not* in ipynb_checkpoints"
   ]
  },
  {
   "cell_type": "code",
   "execution_count": 119,
   "metadata": {},
   "outputs": [],
   "source": [
    "def clean_csvs(i):\n",
    "    \n",
    "    print('\\nStarting',i)\n",
    "    tracking = {\n",
    "        'nbs': 0,\n",
    "        'nbs_w_file': 0,\n",
    "        'nbs_w_cells': 0,\n",
    "        'nbs_w_repo': 0,\n",
    "        'nbs_not_checkpoints': 0,\n",
    "    }\n",
    "    \n",
    "    # Open CSVS\n",
    "    t0 = datetime.datetime.now()\n",
    "\n",
    "    cells = pd.read_csv('data_final/cells_{0}.csv'.format(i))\n",
    "    t1 = datetime.datetime.now()\n",
    "    print('cells', t1 - t0)\n",
    "\n",
    "    repos = pd.read_csv('data_final/repos_{0}.csv'.format(i))\n",
    "    t2 = datetime.datetime.now()\n",
    "    print('repos', t2 - t1)\n",
    "\n",
    "    notebooks = pd.read_csv('data_final/notebooks_{0}.csv'.format(i))\n",
    "    t3 = datetime.datetime.now()\n",
    "    print('notebooks', t3 - t2)\n",
    "\n",
    "    owners = pd.read_csv('data_final/owners_{0}.csv'.format(i))\n",
    "    t4 = datetime.datetime.now()\n",
    "    print('owners', t4 - t3)\n",
    "    \n",
    "    # Missing Cell Content?\n",
    "    nbs_w_file = set(notebooks.file)\n",
    "    tracking['nbs'] = len(notebooks)\n",
    "    tracking['nbs_w_file'] = len(nbs_w_file)\n",
    "\n",
    "    df_nb_content_count = cells[[\"file\", \"lines_of_code\", \"num_words\"]].groupby(\"file\").sum().reset_index()\n",
    "    nbs_w_cells = set(df_nb_content_count[np.logical_or(\n",
    "            df_nb_content_count.lines_of_code != 0,\n",
    "            df_nb_content_count.num_words != 0\n",
    "        )].file.unique())\n",
    "    tracking['nbs_w_cells'] = len(nbs_w_cells)\n",
    "    \n",
    "    # Missing Repo Data?\n",
    "    repos_w_metadata = set(repos.repo_id.unique())\n",
    "    nbs_w_repo = set(notebooks[notebooks.repo_id.isin(repos_w_metadata)][\"file\"])\n",
    "    tracking['nbs_w_repo'] = len(nbs_w_repo)\n",
    "    \n",
    "    # In .ipynb checkpoints?\n",
    "    nbs_not_checkpoints = set(notebooks[['ipynb_checkpoints' not in f for f in notebooks.file]]['file'])\n",
    "    tracking['nbs_not_checkpoints'] = len(nbs_not_checkpoints)\n",
    "    \n",
    "    nbs_w_all = nbs_w_cells.intersection(nbs_w_file).intersection(nbs_w_repo).intersection(nbs_not_checkpoints)\n",
    "    tracking['nbs_w_all'] = len(nbs_w_all)\n",
    "    \n",
    "    updated_notebooks = notebooks[notebooks.file.isin(nbs_w_all)]\n",
    "\n",
    "    updated_repos = repos[repos.repo_id.isin(updated_notebooks.repo_id)]\n",
    "    updated_cells = cells[cells.file.isin(nbs_w_all)]\n",
    "    updated_owners = owners[owners.owner_id.isin(updated_repos.owner_id)]\n",
    "\n",
    "    t0 = datetime.datetime.now()\n",
    "    updated_notebooks.to_csv('data_final/notebooks_{0}_final.csv'.format(i), index = False)\n",
    "    t1 = datetime.datetime.now()\n",
    "    print('\\nnotebooks saved', t1 - t0)\n",
    "    updated_cells.to_csv('data_final/cells_{0}_final.csv'.format(i), index = False)\n",
    "    t2 = datetime.datetime.now()\n",
    "    print('cells saved', t2 - t1)\n",
    "    updated_repos.to_csv('data_final/repos_{0}_final.csv'.format(i), index = False)\n",
    "    t3 = datetime.datetime.now()\n",
    "    print('repos saved', t3 - t2)\n",
    "    updated_owners.to_csv('data_final/owners_{0}_final.csv'.format(i), index = False)\n",
    "    t4 = datetime.datetime.now()\n",
    "    print('owners saved', t4 - t3)\n",
    "    \n",
    "    print(i,'Done\\n')\n",
    "    \n",
    "    return tracking"
   ]
  },
  {
   "cell_type": "code",
   "execution_count": 156,
   "metadata": {},
   "outputs": [
    {
     "name": "stdout",
     "output_type": "stream",
     "text": [
      "\n",
      "Starting 4\n",
      "cells 0:01:35.716037\n",
      "repos 0:00:00.571895\n",
      "notebooks 0:00:04.274490\n",
      "owners 0:00:00.116801\n",
      "\n",
      "notebooks saved 0:00:06.814475\n",
      "cells saved 0:04:24.955093\n",
      "repos saved 0:00:01.573472\n",
      "owners saved 0:00:00.253961\n",
      "4 Done\n",
      "\n",
      "\n",
      "Starting"
     ]
    },
    {
     "name": "stderr",
     "output_type": "stream",
     "text": [
      "/home/ec2-user/anaconda3/lib/python3.5/site-packages/IPython/core/interactiveshell.py:3249: DtypeWarning: Columns (9,23,26) have mixed types. Specify dtype option on import or set low_memory=False.\n",
      "  if (await self.run_code(code, result,  async_=asy)):\n"
     ]
    },
    {
     "name": "stdout",
     "output_type": "stream",
     "text": [
      " 7\n",
      "cells 0:02:19.097913\n",
      "repos 0:00:00.577781\n",
      "notebooks 0:00:04.483248\n",
      "owners 0:00:00.118635\n",
      "\n",
      "notebooks saved 0:00:07.144030\n",
      "cells saved 0:03:50.268656\n",
      "repos saved 0:00:01.580638\n",
      "owners saved 0:00:00.249359\n",
      "7 Done\n",
      "\n"
     ]
    }
   ],
   "source": [
    "for i in [4,7]:\n",
    "    all_tracking_dict[i] = clean_csvs(i)"
   ]
  },
  {
   "cell_type": "code",
   "execution_count": 160,
   "metadata": {},
   "outputs": [
    {
     "name": "stdout",
     "output_type": "stream",
     "text": [
      "93.69% were downloaded. 93.44% had repo data downloaded. 92.01% had at least one not-empty cell. 76.77% weren't in ipynb_checkpoints.\n",
      "4,290,766 (75.18%) of notebooks have all data.\n"
     ]
    }
   ],
   "source": [
    "print(\"{0}% were downloaded. {1}% had repo data downloaded. {2}% had at least one not-empty cell. {3}% weren't in ipynb_checkpoints.\".format(\n",
    "    round(100*sum([all_tracking_dict[i]['nbs_w_file'] for i in range(10)]) / sum([all_tracking_dict[i]['nbs'] for i in range(10)]),2),\n",
    "    round(100*sum([all_tracking_dict[i]['nbs_w_repo'] for i in range(10)]) / sum([all_tracking_dict[i]['nbs'] for i in range(10)]),2),\n",
    "    round(100*sum([all_tracking_dict[i]['nbs_w_cells'] for i in range(10)]) / sum([all_tracking_dict[i]['nbs'] for i in range(10)]),2),\n",
    "    round(100*sum([all_tracking_dict[i]['nbs_not_checkpoints'] for i in range(10)]) / sum([all_tracking_dict[i]['nbs'] for i in range(10)]),2)\n",
    "))\n",
    "print(\"{0:,} ({1}%) of notebooks have all data.\".format(\n",
    "    sum([all_tracking_dict[i]['nbs_w_all'] for i in range(10)]),\n",
    "    round(100*sum([all_tracking_dict[i]['nbs_w_all'] for i in range(10)]) / sum([all_tracking_dict[i]['nbs'] for i in range(10)]),2)\n",
    "))"
   ]
  },
  {
   "cell_type": "markdown",
   "metadata": {},
   "source": [
    "93.69% were downloaded. 93.44% had repo data downloaded. 92.01% had at least one not-empty cell. 76.77% weren't in ipynb_checkpoints.\n",
    "4,290,766 (75.18%) of notebooks have all data."
   ]
  },
  {
   "cell_type": "markdown",
   "metadata": {},
   "source": [
    "# Combine final versions and save to s3\n",
    "'Final' meaning notebooks with all data"
   ]
  },
  {
   "cell_type": "markdown",
   "metadata": {},
   "source": [
    "## Owners"
   ]
  },
  {
   "cell_type": "code",
   "execution_count": 161,
   "metadata": {},
   "outputs": [],
   "source": [
    "!head -1 data_final/owners_0_final.csv > data_final/owners_final.csv\n",
    "!for filename in $(ls data_final/owners_*_final.csv); do sed 1d $filename >> data_final/owners_final.csv; done;"
   ]
  },
  {
   "cell_type": "code",
   "execution_count": 26,
   "metadata": {},
   "outputs": [
    {
     "name": "stdout",
     "output_type": "stream",
     "text": [
      "327129\n",
      "0\n"
     ]
    }
   ],
   "source": [
    "owners_final = pd.read_csv('data_final/owners_final.csv')\n",
    "print(len(owners_final) - len(owners_final.owner_id.unique()))\n",
    "owners_final = owners_final.drop(columns = 'Unnamed: 0')\n",
    "owners_final = owners_final.drop_duplicates()\n",
    "print(len(owners_final) - len(owners_final.owner_id.unique()))\n",
    "owners_final.to_csv('data_final/owners_final.csv', index = False)"
   ]
  },
  {
   "cell_type": "code",
   "execution_count": 27,
   "metadata": {},
   "outputs": [
    {
     "name": "stdout",
     "output_type": "stream",
     "text": []
    },
    {
     "name": "stdout",
     "output_type": "stream",
     "text": []
    },
    {
     "name": "stdout",
     "output_type": "stream",
     "text": []
    },
    {
     "name": "stdout",
     "output_type": "stream",
     "text": []
    },
    {
     "name": "stdout",
     "output_type": "stream",
     "text": [
      "upload: data_final/owners_final.csv to s3://notebook-research/csv/owners_final.csv\n"
     ]
    }
   ],
   "source": [
    "!aws s3 cp data_final/owners_final.csv s3://notebook-research/csv/owners_final.csv"
   ]
  },
  {
   "cell_type": "code",
   "execution_count": 163,
   "metadata": {},
   "outputs": [
    {
     "name": "stdout",
     "output_type": "stream",
     "text": []
    },
    {
     "name": "stdout",
     "output_type": "stream",
     "text": []
    },
    {
     "name": "stdout",
     "output_type": "stream",
     "text": [
      "upload: data_final/owners_0_final.csv to s3://notebook-research/csv/owners2_0_final.csv\n",
      "upload: data_final/owners_1_final.csv to s3://notebook-research/csv/owners2_1_final.csv\n",
      "upload: data_final/owners_2_final.csv to s3://notebook-research/csv/owners2_2_final.csv\n",
      "upload: data_final/owners_3_final.csv to s3://notebook-research/csv/owners2_3_final.csv\n",
      "upload: data_final/owners_4_final.csv to s3://notebook-research/csv/owners2_4_final.csv\n",
      "upload: data_final/owners_5_final.csv to s3://notebook-research/csv/owners2_5_final.csv\n",
      "upload: data_final/owners_6_final.csv to s3://notebook-research/csv/owners2_6_final.csv\n",
      "upload: data_final/owners_7_final.csv to s3://notebook-research/csv/owners2_7_final.csv\n",
      "upload: data_final/owners_8_final.csv to s3://notebook-research/csv/owners2_8_final.csv\n",
      "upload: data_final/owners_9_final.csv to s3://notebook-research/csv/owners2_9_final.csv\n"
     ]
    }
   ],
   "source": [
    "!aws s3 cp data_final/owners_0_final.csv s3://notebook-research/csv/owners2_0_final.csv\n",
    "!aws s3 cp data_final/owners_1_final.csv s3://notebook-research/csv/owners2_1_final.csv\n",
    "!aws s3 cp data_final/owners_2_final.csv s3://notebook-research/csv/owners2_2_final.csv\n",
    "!aws s3 cp data_final/owners_3_final.csv s3://notebook-research/csv/owners2_3_final.csv\n",
    "!aws s3 cp data_final/owners_4_final.csv s3://notebook-research/csv/owners2_4_final.csv\n",
    "!aws s3 cp data_final/owners_5_final.csv s3://notebook-research/csv/owners2_5_final.csv\n",
    "!aws s3 cp data_final/owners_6_final.csv s3://notebook-research/csv/owners2_6_final.csv\n",
    "!aws s3 cp data_final/owners_7_final.csv s3://notebook-research/csv/owners2_7_final.csv\n",
    "!aws s3 cp data_final/owners_8_final.csv s3://notebook-research/csv/owners2_8_final.csv\n",
    "!aws s3 cp data_final/owners_9_final.csv s3://notebook-research/csv/owners2_9_final.csv\n"
   ]
  },
  {
   "cell_type": "markdown",
   "metadata": {},
   "source": [
    "## Repos"
   ]
  },
  {
   "cell_type": "code",
   "execution_count": 164,
   "metadata": {},
   "outputs": [],
   "source": [
    "!head -1 data_final/repos_0_final.csv > data_final/repos_final.csv\n",
    "!for filename in $(ls data_final/repos_*_final.csv); do sed 1d $filename >> data_final/repos_final.csv; done;"
   ]
  },
  {
   "cell_type": "code",
   "execution_count": 35,
   "metadata": {},
   "outputs": [
    {
     "name": "stdout",
     "output_type": "stream",
     "text": [
      "19\n",
      "0\n"
     ]
    }
   ],
   "source": [
    "repos_final = pd.read_csv('data_final/repos_final.csv')\n",
    "print(len(repos_final) - len(repos_final.repo_id.unique()))\n",
    "repos_final = repos_final.drop_duplicates()\n",
    "print(len(repos_final) - len(repos_final.repo_id.unique()))\n",
    "repos_final.to_csv('data_final/repos_final', index = False)"
   ]
  },
  {
   "cell_type": "code",
   "execution_count": null,
   "metadata": {},
   "outputs": [],
   "source": [
    "!aws s3 cp data_final/repos_final.csv s3://notebook-research/csv/repos_final.csv"
   ]
  },
  {
   "cell_type": "code",
   "execution_count": null,
   "metadata": {},
   "outputs": [],
   "source": [
    "!aws s3 cp data_final/repos_0_final.csv s3://notebook-research/csv/repos2_0_final.csv\n",
    "!aws s3 cp data_final/repos_1_final.csv s3://notebook-research/csv/repos2_1_final.csv\n",
    "!aws s3 cp data_final/repos_2_final.csv s3://notebook-research/csv/repos2_2_final.csv\n",
    "!aws s3 cp data_final/repos_3_final.csv s3://notebook-research/csv/repos2_3_final.csv\n",
    "!aws s3 cp data_final/repos_4_final.csv s3://notebook-research/csv/repos2_4_final.csv\n",
    "!aws s3 cp data_final/repos_5_final.csv s3://notebook-research/csv/repos2_5_final.csv\n",
    "!aws s3 cp data_final/repos_6_final.csv s3://notebook-research/csv/repos2_6_final.csv\n",
    "!aws s3 cp data_final/repos_7_final.csv s3://notebook-research/csv/repos2_7_final.csv\n",
    "!aws s3 cp data_final/repos_8_final.csv s3://notebook-research/csv/repos2_8_final.csv\n",
    "!aws s3 cp data_final/repos_9_final.csv s3://notebook-research/csv/repos2_9_final.csv\n"
   ]
  },
  {
   "cell_type": "markdown",
   "metadata": {},
   "source": [
    "## Notebooks"
   ]
  },
  {
   "cell_type": "code",
   "execution_count": 167,
   "metadata": {},
   "outputs": [],
   "source": [
    "!head -1 data_final/notebooks_0_final.csv > data_final/notebooks_final.csv\n",
    "!for filename in $(ls data_final/notebooks_*_final.csv); do sed 1d $filename >> data_final/notebooks_final.csv; done;"
   ]
  },
  {
   "cell_type": "code",
   "execution_count": 40,
   "metadata": {},
   "outputs": [
    {
     "name": "stdout",
     "output_type": "stream",
     "text": [
      "298892\n",
      "0\n"
     ]
    }
   ],
   "source": [
    "notebooks_final = pd.read_csv('data_final/notebooks_final.csv')\n",
    "print(len(notebooks_final) - len(notebooks_final.file.unique()))\n",
    "notebooks_final = notebooks_final.drop_duplicates()\n",
    "print(len(notebooks_final) - len(notebooks_final.file.unique()))\n",
    "notebooks_final.to_csv('data_final/notebooks_final.csv', index = False)"
   ]
  },
  {
   "cell_type": "code",
   "execution_count": null,
   "metadata": {},
   "outputs": [],
   "source": [
    "!aws s3 cp data_final/notebooks_final.csv s3://notebook-research/csv/notebooks_final.csv"
   ]
  },
  {
   "cell_type": "code",
   "execution_count": null,
   "metadata": {},
   "outputs": [],
   "source": [
    "!aws s3 cp data_final/notebooks_0_final.csv s3://notebook-research/csv/notebooks2_0_final.csv\n",
    "!aws s3 cp data_final/notebooks_1_final.csv s3://notebook-research/csv/notebooks2_1_final.csv\n",
    "!aws s3 cp data_final/notebooks_2_final.csv s3://notebook-research/csv/notebooks2_2_final.csv\n",
    "!aws s3 cp data_final/notebooks_3_final.csv s3://notebook-research/csv/notebooks2_3_final.csv\n",
    "!aws s3 cp data_final/notebooks_4_final.csv s3://notebook-research/csv/notebooks2_4_final.csv\n",
    "!aws s3 cp data_final/notebooks_5_final.csv s3://notebook-research/csv/notebooks2_5_final.csv\n",
    "!aws s3 cp data_final/notebooks_6_final.csv s3://notebook-research/csv/notebooks2_6_final.csv\n",
    "!aws s3 cp data_final/notebooks_7_final.csv s3://notebook-research/csv/notebooks2_7_final.csv\n",
    "!aws s3 cp data_final/notebooks_8_final.csv s3://notebook-research/csv/notebooks2_8_final.csv\n",
    "!aws s3 cp data_final/notebooks_9_final.csv s3://notebook-research/csv/notebooks2_9_final.csv\n"
   ]
  },
  {
   "cell_type": "markdown",
   "metadata": {},
   "source": [
    "## Cells"
   ]
  },
  {
   "cell_type": "code",
   "execution_count": 4,
   "metadata": {},
   "outputs": [],
   "source": [
    "!head -1 data_final/cells_0_final.csv > data_final/cells_final.csv\n",
    "!for filename in $(ls data_final/cells_*_final.csv); do sed 1d $filename >> data_final/cells_final.csv; done;"
   ]
  },
  {
   "cell_type": "code",
   "execution_count": null,
   "metadata": {},
   "outputs": [],
   "source": [
    "!aws s3 cp data_final/cells_final.csv s3://notebook-research/csv/cells_final.csv"
   ]
  },
  {
   "cell_type": "code",
   "execution_count": null,
   "metadata": {},
   "outputs": [],
   "source": [
    "!aws s3 cp data_final/cells_0_final.csv s3://notebook-research/csv/cells1_0_final.csv\n",
    "!aws s3 cp data_final/cells_1_final.csv s3://notebook-research/csv/cells1_1_final.csv\n",
    "!aws s3 cp data_final/cells_2_final.csv s3://notebook-research/csv/cells1_2_final.csv\n",
    "!aws s3 cp data_final/cells_3_final.csv s3://notebook-research/csv/cells1_3_final.csv\n",
    "!aws s3 cp data_final/cells_4_final.csv s3://notebook-research/csv/cells1_4_final.csv\n",
    "!aws s3 cp data_final/cells_5_final.csv s3://notebook-research/csv/cells1_5_final.csv\n",
    "!aws s3 cp data_final/cells_6_final.csv s3://notebook-research/csv/cells1_6_final.csv\n",
    "!aws s3 cp data_final/cells_7_final.csv s3://notebook-research/csv/cells1_7_final.csv\n",
    "!aws s3 cp data_final/cells_8_final.csv s3://notebook-research/csv/cells1_8_final.csv\n",
    "!aws s3 cp data_final/cells_9_final.csv s3://notebook-research/csv/cells1_9_final.csv\n"
   ]
  },
  {
   "cell_type": "markdown",
   "metadata": {},
   "source": [
    "# Add to DataFrames"
   ]
  },
  {
   "cell_type": "markdown",
   "metadata": {},
   "source": [
    "## Repos"
   ]
  },
  {
   "cell_type": "markdown",
   "metadata": {},
   "source": [
    "### Add pushed to year and month"
   ]
  },
  {
   "cell_type": "code",
   "execution_count": 10,
   "metadata": {},
   "outputs": [],
   "source": [
    "repos = pd.read_csv('data_final/repos_final.csv')"
   ]
  },
  {
   "cell_type": "code",
   "execution_count": 11,
   "metadata": {},
   "outputs": [],
   "source": [
    "repos['pushed_at'] = pd.to_datetime(repos['pushed_at'])\n",
    "repos['pushed_month'] = [p.month for p in repos['pushed_at']]\n",
    "repos['pushed_year'] = [p.year for p in repos['pushed_at']]"
   ]
  },
  {
   "cell_type": "code",
   "execution_count": 13,
   "metadata": {},
   "outputs": [],
   "source": [
    "repos = repos.drop(columns = ['Unnamed: 0'])"
   ]
  },
  {
   "cell_type": "code",
   "execution_count": 20,
   "metadata": {},
   "outputs": [],
   "source": [
    "repos.to_csv('data_final/repos_final.csv', index = False)"
   ]
  },
  {
   "cell_type": "code",
   "execution_count": null,
   "metadata": {},
   "outputs": [],
   "source": [
    "!aws s3 cp data_final/repos_final.csv s3://notebook-research/csv/repos_final.csv"
   ]
  },
  {
   "cell_type": "markdown",
   "metadata": {},
   "source": [
    "## Notebooks"
   ]
  },
  {
   "cell_type": "markdown",
   "metadata": {},
   "source": [
    "### Add Truncated Version"
   ]
  },
  {
   "cell_type": "code",
   "execution_count": 4,
   "metadata": {},
   "outputs": [],
   "source": [
    "notebooks = pd.read_csv('data_final/notebooks_final.csv')"
   ]
  },
  {
   "cell_type": "code",
   "execution_count": 6,
   "metadata": {},
   "outputs": [],
   "source": [
    "import datetime"
   ]
  },
  {
   "cell_type": "code",
   "execution_count": 7,
   "metadata": {},
   "outputs": [
    {
     "name": "stdout",
     "output_type": "stream",
     "text": [
      "0:00:02.956888\n"
     ]
    }
   ],
   "source": [
    "start = datetime.datetime.now()\n",
    "\n",
    "notebooks['lang_name'] = [str(n).lower() for n in notebooks['lang_name']]\n",
    "python_versions_strings = notebooks[notebooks.lang_name == 'python'].lang_version\n",
    "str_to_version = {}\n",
    "for p in python_versions_strings.unique():\n",
    "    if p == 'nan':\n",
    "        str_to_version[p] = ''\n",
    "    else:\n",
    "        try:\n",
    "            str_to_version[p] = float('.'.join(str(p).replace('+','').split('.')[0:2]))\n",
    "        except:\n",
    "            str_to_version[p] = ''\n",
    "\n",
    "end = datetime.datetime.now()\n",
    "print(end - start)"
   ]
  },
  {
   "cell_type": "code",
   "execution_count": 9,
   "metadata": {},
   "outputs": [
    {
     "name": "stdout",
     "output_type": "stream",
     "text": [
      "0:10:54.937147\n"
     ]
    }
   ],
   "source": [
    "# 11 minutes\n",
    "start = datetime.datetime.now()\n",
    "\n",
    "notebooks['python_version'] = [\n",
    "    '' if p.lang_name != 'python' \n",
    "    else str_to_version[p.lang_version] \n",
    "    for i, p in notebooks.iterrows()\n",
    "]\n",
    "\n",
    "end = datetime.datetime.now()\n",
    "print(end - start)\n"
   ]
  },
  {
   "cell_type": "markdown",
   "metadata": {},
   "source": [
    "### Add Pushed Date, Year, and Month"
   ]
  },
  {
   "cell_type": "code",
   "execution_count": 18,
   "metadata": {},
   "outputs": [],
   "source": [
    "notebooks = notebooks.merge(repos[['repo_id','pushed_month','pushed_year']])"
   ]
  },
  {
   "cell_type": "code",
   "execution_count": 22,
   "metadata": {},
   "outputs": [],
   "source": [
    "notebooks = notebooks.drop(columns = 'Unnamed: 0')"
   ]
  },
  {
   "cell_type": "code",
   "execution_count": 23,
   "metadata": {},
   "outputs": [
    {
     "data": {
      "text/html": [
       "<div>\n",
       "<style scoped>\n",
       "    .dataframe tbody tr th:only-of-type {\n",
       "        vertical-align: middle;\n",
       "    }\n",
       "\n",
       "    .dataframe tbody tr th {\n",
       "        vertical-align: top;\n",
       "    }\n",
       "\n",
       "    .dataframe thead th {\n",
       "        text-align: right;\n",
       "    }\n",
       "</style>\n",
       "<table border=\"1\" class=\"dataframe\">\n",
       "  <thead>\n",
       "    <tr style=\"text-align: right;\">\n",
       "      <th></th>\n",
       "      <th>file</th>\n",
       "      <th>google_collab</th>\n",
       "      <th>kernel_lang</th>\n",
       "      <th>kernel_name</th>\n",
       "      <th>lang_name</th>\n",
       "      <th>lang_version</th>\n",
       "      <th>nbformat</th>\n",
       "      <th>nbformat_minor</th>\n",
       "      <th>num_cells</th>\n",
       "      <th>days_since</th>\n",
       "      <th>filesize</th>\n",
       "      <th>html_url</th>\n",
       "      <th>name</th>\n",
       "      <th>owner_id</th>\n",
       "      <th>path</th>\n",
       "      <th>query_page</th>\n",
       "      <th>repo_id</th>\n",
       "      <th>python_version</th>\n",
       "      <th>pushed_month</th>\n",
       "      <th>pushed_year</th>\n",
       "    </tr>\n",
       "  </thead>\n",
       "  <tbody>\n",
       "    <tr>\n",
       "      <th>0</th>\n",
       "      <td>artfin..NumerovProject..HO..diagpade_vs_centra...</td>\n",
       "      <td>False</td>\n",
       "      <td>python</td>\n",
       "      <td>Python 3</td>\n",
       "      <td>python</td>\n",
       "      <td>3.6.7</td>\n",
       "      <td>4.0</td>\n",
       "      <td>2.0</td>\n",
       "      <td>6.0</td>\n",
       "      <td>204.640719</td>\n",
       "      <td>107859..107926</td>\n",
       "      <td>https://github.com/artfin/NumerovProject/blob/...</td>\n",
       "      <td>plotter_k.ipynb</td>\n",
       "      <td>15310535</td>\n",
       "      <td>HO/diagpade_vs_central_diff/plotter_k.ipynb</td>\n",
       "      <td>1</td>\n",
       "      <td>126247677</td>\n",
       "      <td>3.6</td>\n",
       "      <td>3</td>\n",
       "      <td>2019</td>\n",
       "    </tr>\n",
       "    <tr>\n",
       "      <th>1</th>\n",
       "      <td>artfin..NumerovProject..HO..diagpade_vs_centra...</td>\n",
       "      <td>False</td>\n",
       "      <td>python</td>\n",
       "      <td>Python 3</td>\n",
       "      <td>python</td>\n",
       "      <td>3.6.7</td>\n",
       "      <td>4.0</td>\n",
       "      <td>2.0</td>\n",
       "      <td>7.0</td>\n",
       "      <td>204.679499</td>\n",
       "      <td>106810..106897</td>\n",
       "      <td>https://github.com/artfin/NumerovProject/blob/...</td>\n",
       "      <td>plotter.ipynb</td>\n",
       "      <td>15310535</td>\n",
       "      <td>HO/diagpade_vs_central_diff/plotter.ipynb</td>\n",
       "      <td>2</td>\n",
       "      <td>126247677</td>\n",
       "      <td>3.6</td>\n",
       "      <td>3</td>\n",
       "      <td>2019</td>\n",
       "    </tr>\n",
       "    <tr>\n",
       "      <th>2</th>\n",
       "      <td>artfin..NumerovProject..potential_profiles..po...</td>\n",
       "      <td>False</td>\n",
       "      <td>python</td>\n",
       "      <td>Python 3</td>\n",
       "      <td>python</td>\n",
       "      <td>3.6.7</td>\n",
       "      <td>4.0</td>\n",
       "      <td>2.0</td>\n",
       "      <td>5.0</td>\n",
       "      <td>204.820106</td>\n",
       "      <td>114679..114799</td>\n",
       "      <td>https://github.com/artfin/NumerovProject/blob/...</td>\n",
       "      <td>potential_profile.ipynb</td>\n",
       "      <td>15310535</td>\n",
       "      <td>potential_profiles/potential_profile.ipynb</td>\n",
       "      <td>3</td>\n",
       "      <td>126247677</td>\n",
       "      <td>3.6</td>\n",
       "      <td>3</td>\n",
       "      <td>2019</td>\n",
       "    </tr>\n",
       "    <tr>\n",
       "      <th>3</th>\n",
       "      <td>artfin..NumerovProject..dunker_pf_results..Rat...</td>\n",
       "      <td>False</td>\n",
       "      <td>python</td>\n",
       "      <td>Python 3</td>\n",
       "      <td>python</td>\n",
       "      <td>3.6.7</td>\n",
       "      <td>4.0</td>\n",
       "      <td>2.0</td>\n",
       "      <td>6.0</td>\n",
       "      <td>204.838960</td>\n",
       "      <td>115264..115375</td>\n",
       "      <td>https://github.com/artfin/NumerovProject/blob/...</td>\n",
       "      <td>Ratio of partition functions.ipynb</td>\n",
       "      <td>15310535</td>\n",
       "      <td>dunker_pf_results/Ratio of partition functions...</td>\n",
       "      <td>2</td>\n",
       "      <td>126247677</td>\n",
       "      <td>3.6</td>\n",
       "      <td>3</td>\n",
       "      <td>2019</td>\n",
       "    </tr>\n",
       "    <tr>\n",
       "      <th>4</th>\n",
       "      <td>artfin..NumerovProject..HO..numerov_vs_central...</td>\n",
       "      <td>False</td>\n",
       "      <td>python</td>\n",
       "      <td>Python 3</td>\n",
       "      <td>python</td>\n",
       "      <td>3.6.7</td>\n",
       "      <td>4.0</td>\n",
       "      <td>2.0</td>\n",
       "      <td>6.0</td>\n",
       "      <td>203.764665</td>\n",
       "      <td>98130..98247</td>\n",
       "      <td>https://github.com/artfin/NumerovProject/blob/...</td>\n",
       "      <td>plotter.ipynb</td>\n",
       "      <td>15310535</td>\n",
       "      <td>HO/numerov_vs_central_diff/plotter.ipynb</td>\n",
       "      <td>2</td>\n",
       "      <td>126247677</td>\n",
       "      <td>3.6</td>\n",
       "      <td>3</td>\n",
       "      <td>2019</td>\n",
       "    </tr>\n",
       "  </tbody>\n",
       "</table>\n",
       "</div>"
      ],
      "text/plain": [
       "                                                file  google_collab  \\\n",
       "0  artfin..NumerovProject..HO..diagpade_vs_centra...          False   \n",
       "1  artfin..NumerovProject..HO..diagpade_vs_centra...          False   \n",
       "2  artfin..NumerovProject..potential_profiles..po...          False   \n",
       "3  artfin..NumerovProject..dunker_pf_results..Rat...          False   \n",
       "4  artfin..NumerovProject..HO..numerov_vs_central...          False   \n",
       "\n",
       "  kernel_lang kernel_name lang_name lang_version  nbformat  nbformat_minor  \\\n",
       "0      python    Python 3    python        3.6.7       4.0             2.0   \n",
       "1      python    Python 3    python        3.6.7       4.0             2.0   \n",
       "2      python    Python 3    python        3.6.7       4.0             2.0   \n",
       "3      python    Python 3    python        3.6.7       4.0             2.0   \n",
       "4      python    Python 3    python        3.6.7       4.0             2.0   \n",
       "\n",
       "   num_cells  days_since        filesize  \\\n",
       "0        6.0  204.640719  107859..107926   \n",
       "1        7.0  204.679499  106810..106897   \n",
       "2        5.0  204.820106  114679..114799   \n",
       "3        6.0  204.838960  115264..115375   \n",
       "4        6.0  203.764665    98130..98247   \n",
       "\n",
       "                                            html_url  \\\n",
       "0  https://github.com/artfin/NumerovProject/blob/...   \n",
       "1  https://github.com/artfin/NumerovProject/blob/...   \n",
       "2  https://github.com/artfin/NumerovProject/blob/...   \n",
       "3  https://github.com/artfin/NumerovProject/blob/...   \n",
       "4  https://github.com/artfin/NumerovProject/blob/...   \n",
       "\n",
       "                                 name  owner_id  \\\n",
       "0                     plotter_k.ipynb  15310535   \n",
       "1                       plotter.ipynb  15310535   \n",
       "2             potential_profile.ipynb  15310535   \n",
       "3  Ratio of partition functions.ipynb  15310535   \n",
       "4                       plotter.ipynb  15310535   \n",
       "\n",
       "                                                path  query_page    repo_id  \\\n",
       "0        HO/diagpade_vs_central_diff/plotter_k.ipynb           1  126247677   \n",
       "1          HO/diagpade_vs_central_diff/plotter.ipynb           2  126247677   \n",
       "2         potential_profiles/potential_profile.ipynb           3  126247677   \n",
       "3  dunker_pf_results/Ratio of partition functions...           2  126247677   \n",
       "4           HO/numerov_vs_central_diff/plotter.ipynb           2  126247677   \n",
       "\n",
       "  python_version  pushed_month  pushed_year  \n",
       "0            3.6             3         2019  \n",
       "1            3.6             3         2019  \n",
       "2            3.6             3         2019  \n",
       "3            3.6             3         2019  \n",
       "4            3.6             3         2019  "
      ]
     },
     "execution_count": 23,
     "metadata": {},
     "output_type": "execute_result"
    }
   ],
   "source": [
    "notebooks.head()"
   ]
  },
  {
   "cell_type": "code",
   "execution_count": 24,
   "metadata": {},
   "outputs": [],
   "source": [
    "notebooks.to_csv('data_final/notebooks_final.csv', index = False)"
   ]
  },
  {
   "cell_type": "code",
   "execution_count": null,
   "metadata": {},
   "outputs": [],
   "source": [
    "!aws s3 cp data_final/notebooks_final.csv s3://notebook-research/csv/notebooks_final.csv"
   ]
  },
  {
   "cell_type": "code",
   "execution_count": null,
   "metadata": {},
   "outputs": [],
   "source": []
  },
  {
   "cell_type": "code",
   "execution_count": null,
   "metadata": {},
   "outputs": [],
   "source": []
  },
  {
   "cell_type": "code",
   "execution_count": null,
   "metadata": {},
   "outputs": [],
   "source": []
  },
  {
   "cell_type": "code",
   "execution_count": null,
   "metadata": {},
   "outputs": [],
   "source": []
  },
  {
   "cell_type": "code",
   "execution_count": null,
   "metadata": {},
   "outputs": [],
   "source": []
  },
  {
   "cell_type": "code",
   "execution_count": null,
   "metadata": {},
   "outputs": [],
   "source": []
  },
  {
   "cell_type": "code",
   "execution_count": null,
   "metadata": {},
   "outputs": [],
   "source": []
  },
  {
   "cell_type": "code",
   "execution_count": null,
   "metadata": {},
   "outputs": [],
   "source": []
  },
  {
   "cell_type": "code",
   "execution_count": null,
   "metadata": {},
   "outputs": [],
   "source": []
  },
  {
   "cell_type": "code",
   "execution_count": null,
   "metadata": {},
   "outputs": [],
   "source": []
  },
  {
   "cell_type": "code",
   "execution_count": null,
   "metadata": {},
   "outputs": [],
   "source": []
  },
  {
   "cell_type": "code",
   "execution_count": null,
   "metadata": {},
   "outputs": [],
   "source": []
  },
  {
   "cell_type": "code",
   "execution_count": null,
   "metadata": {},
   "outputs": [],
   "source": []
  }
 ],
 "metadata": {
  "anaconda-cloud": {},
  "kernelspec": {
   "display_name": "Python 3",
   "language": "python",
   "name": "python3"
  },
  "language_info": {
   "codemirror_mode": {
    "name": "ipython",
    "version": 3
   },
   "file_extension": ".py",
   "mimetype": "text/x-python",
   "name": "python",
   "nbconvert_exporter": "python",
   "pygments_lexer": "ipython3",
   "version": "3.5.5"
  }
 },
 "nbformat": 4,
 "nbformat_minor": 4
}
