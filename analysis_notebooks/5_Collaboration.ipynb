{
 "cells": [
  {
   "cell_type": "markdown",
   "metadata": {},
   "source": [
    "[Notebook Organization &lt;](4_Organization.ipynb) | [&gt; Package Use](6_Packages.ipynb)"
   ]
  },
  {
   "cell_type": "markdown",
   "metadata": {},
   "source": [
    "# Collaboration\n",
    "\n",
    "I define a collaborative repository as one that has at least one fork or issue. A watched repository is not collaborative, but has at least one watcher or stargazer. An isolated repository is neither collaborative nor watched.\n",
    "\n",
    "## Results Summary:\n",
    "- Collaboration status\n",
    "    - 17.51% of repositories are collaborative (23.43% of notebooks).\n",
    "    - 41.28% are watched (40.62% of notebooks).\n",
    "    - 41.21% are isolated (35.96% of notebooks).\n",
    "\n",
    "- On average, a collaborative repository has 11.76 forks  (median = 1.0) and 1.98 issues (median = 0.0).\n",
    "- Markdown to Code ratio versus collaboration status\n",
    "    - Among collaborative notebooks, the average markdown to code ratio is 0.77.\n",
    "    - Among watched notebooks, the average markdown to code ratio is 0.684.\n",
    "    - Among isolated notebooks, the average markdown to code ratio is 0.631.\n",
    "- Isolated repositories are less likely to have repository descriptions. We are 95% confident that the true proportion of isolated repositories with a description is between 0.097 and 0.101 lower than that for not isolated repositories.\n",
    "- Collaborative repositories tend to be the largest, followed by watched and isolated.\n",
    "- Educational repositories are slightly more likely to be watched than they are to be collaborative or isolated.\n",
    "\n",
    "\n",
    "------------"
   ]
  },
  {
   "cell_type": "markdown",
   "metadata": {},
   "source": [
    "# Import Packages & Load Data"
   ]
  },
  {
   "cell_type": "code",
   "execution_count": 1,
   "metadata": {},
   "outputs": [],
   "source": [
    "import pandas as pd\n",
    "import numpy as np\n",
    "import matplotlib.pyplot as plt\n",
    "import pickle\n",
    "import math\n",
    "import load_data\n",
    "import scipy.stats as st\n"
   ]
  },
  {
   "cell_type": "markdown",
   "metadata": {},
   "source": [
    "Load dataframes."
   ]
  },
  {
   "cell_type": "code",
   "execution_count": 2,
   "metadata": {},
   "outputs": [
    {
     "name": "stdout",
     "output_type": "stream",
     "text": [
      "Notebooks loaded in 0:00:25.002068\n",
      "Repos loaded in 0:00:04.342632\n"
     ]
    }
   ],
   "source": [
    "notebooks = load_data.load_notebooks()\n",
    "repos = load_data.load_repos()"
   ]
  },
  {
   "cell_type": "markdown",
   "metadata": {},
   "source": [
    "Load aggregations. Code for cell types can be found in [Organization.ipynb](Organization.ipynb) and code for educational statuses can be found in [Owners.ipynb](Owners.ipynb)."
   ]
  },
  {
   "cell_type": "code",
   "execution_count": 3,
   "metadata": {},
   "outputs": [
    {
     "name": "stdout",
     "output_type": "stream",
     "text": [
      "Cell types loaded in 0:00:01.869774\n",
      "Cell stats loaded in 0:00:01.872590\n",
      "Educational status loaded in 0:00:00.002882\n"
     ]
    }
   ],
   "source": [
    "cell_types_df = load_data.load_cell_types()\n",
    "cell_stats_df = load_data.load_cell_stats()\n",
    "edu_statuses_df = load_data.load_edu_status()"
   ]
  },
  {
   "cell_type": "code",
   "execution_count": 4,
   "metadata": {},
   "outputs": [],
   "source": [
    "cell_stats_df['words_lines_ratio'] = [row['num_words']/row['lines_of_code'] if row['lines_of_code'] != 0 else np.nan for _, row in cell_stats_df.iterrows()]"
   ]
  },
  {
   "cell_type": "markdown",
   "metadata": {},
   "source": [
    "---\n",
    "# Manipulate Data"
   ]
  },
  {
   "cell_type": "markdown",
   "metadata": {},
   "source": [
    "### What is the collaboration status of a notebook?\n",
    "- Collaborative: if there are forks or open issues\n",
    "- Watched: if there are stargazers or subscribers *and* is not collaborative\n",
    "- Isolated: if neither collaborative nor watched"
   ]
  },
  {
   "cell_type": "code",
   "execution_count": 5,
   "metadata": {},
   "outputs": [],
   "source": [
    "collaborative = repos[np.logical_or(\n",
    "    repos['forks_count'] > 0,\n",
    "    repos['open_issues_count'] > 0\n",
    ")]\n",
    "\n",
    "watched = repos[np.logical_and(\n",
    "    np.logical_or(\n",
    "        repos['stargazers_count'] > 0,\n",
    "        repos['subscribers_count'] > 0\n",
    "    ),\n",
    "    ~repos.repo_id.isin(collaborative.repo_id)\n",
    ")]\n",
    "\n",
    "collab_or_watched = pd.concat([collaborative, watched])\n",
    "\n",
    "isolated = repos[~np.logical_or(\n",
    "    repos.repo_id.isin(collaborative.repo_id),\n",
    "    repos.repo_id.isin(watched.repo_id)\n",
    ")]"
   ]
  },
  {
   "cell_type": "code",
   "execution_count": 6,
   "metadata": {},
   "outputs": [],
   "source": [
    "collab_status_df = pd.DataFrame({\n",
    "    'repo_id': list(collaborative.repo_id) + list(watched.repo_id) + list(isolated.repo_id),\n",
    "    'collab': ['collaborative']*len(collaborative) + ['watched']*len(watched) + ['isolated']*len(isolated)\n",
    "})"
   ]
  },
  {
   "cell_type": "code",
   "execution_count": 7,
   "metadata": {},
   "outputs": [],
   "source": [
    "f = open('analysis_data/collab_status.df','wb')\n",
    "pickle.dump(collab_status_df, f)\n",
    "f.close()"
   ]
  },
  {
   "cell_type": "markdown",
   "metadata": {},
   "source": [
    "---\n",
    "# Visualizations & Statistics"
   ]
  },
  {
   "cell_type": "markdown",
   "metadata": {},
   "source": [
    "## Collaboration Status"
   ]
  },
  {
   "cell_type": "code",
   "execution_count": 8,
   "metadata": {},
   "outputs": [
    {
     "name": "stdout",
     "output_type": "stream",
     "text": [
      "17.51% of repositories are collaborative.\n",
      "41.28% are watched.\n",
      "41.21% are isolated.\n"
     ]
    }
   ],
   "source": [
    "print(\"{0}% of repositories are collaborative.\".format(\n",
    "    round(100*len(collaborative)/len(repos), 2)\n",
    "))\n",
    "print(\"{0}% are watched.\".format(\n",
    "    round(100*len(watched)/len(repos), 2)\n",
    "))\n",
    "print(\"{0}% are isolated.\".format(\n",
    "    round(100*len(isolated)/len(repos), 2)\n",
    "))"
   ]
  },
  {
   "cell_type": "code",
   "execution_count": 9,
   "metadata": {},
   "outputs": [
    {
     "name": "stdout",
     "output_type": "stream",
     "text": [
      "On average, a collaborative repository has 11.76 forks \n",
      "(median = 1.0) and 1.98 issues (median = 0.0). \n",
      "The most forks a repository has is 76088, at https://github.com/tensorflow/tensorflow.\n",
      "The most issues a repository has is 7260, at https://github.com/vz-risk/VCDB.\n"
     ]
    }
   ],
   "source": [
    "print(\"\"\"On average, a collaborative repository has {0} forks \n",
    "(median = {1}) and {2} issues (median = {3}). \n",
    "The most forks a repository has is {4}, at {5}.\n",
    "The most issues a repository has is {6}, at {7}.\"\"\".format(\n",
    "    round(collaborative.forks_count.mean(), 2),\n",
    "    collaborative.forks_count.median(),\n",
    "    round(collaborative.open_issues_count.mean(), 2),\n",
    "    collaborative.open_issues_count.median(),\n",
    "    collaborative.forks_count.max(),\n",
    "    collaborative[collaborative.forks_count == collaborative.forks_count.max()].repo_html_url.values[0],\n",
    "    collaborative.open_issues_count.max(),\n",
    "    collaborative[collaborative.open_issues_count == collaborative.open_issues_count.max()].repo_html_url.values[0]\n",
    "))"
   ]
  },
  {
   "cell_type": "code",
   "execution_count": 10,
   "metadata": {},
   "outputs": [
    {
     "data": {
      "image/png": "[encoded data removed]",
      "text/plain": [
       "<Figure size 432x288 with 2 Axes>"
      ]
     },
     "metadata": {
      "needs_background": "light"
     },
     "output_type": "display_data"
    }
   ],
   "source": [
    "plt.subplot(1,2,1)\n",
    "plt.hist(collaborative.forks_count, bins = range(0,85,5), color = 'teal')\n",
    "plt.xlim(0, 80)\n",
    "plt.title('Forks Per Repository')\n",
    "plt.xlabel('Number of Forks')\n",
    "plt.ylabel('Number of Collaborative Repositories')\n",
    "plt.yscale('log')\n",
    "\n",
    "plt.subplot(1,2,2)\n",
    "plt.hist(collaborative.open_issues_count, bins = range(0,85,5), color = 'teal')\n",
    "plt.xlim(0, 80)\n",
    "plt.title('Open Issues Per Repository')\n",
    "plt.xlabel('Number of Open Issues')\n",
    "plt.ylabel('Number of Collaborative Repositories')\n",
    "plt.yscale('log')\n",
    "\n",
    "plt.tight_layout()\n",
    "plt.show()"
   ]
  },
  {
   "cell_type": "markdown",
   "metadata": {},
   "source": [
    "## Does amount of markdown depend on collaboration status"
   ]
  },
  {
   "cell_type": "code",
   "execution_count": 11,
   "metadata": {},
   "outputs": [
    {
     "name": "stdout",
     "output_type": "stream",
     "text": [
      "Among collaborative notebooks, the average words markdown to lines code ratio is 8.215 (median = 1).\n",
      "Among watched notebooks, the average words markdown to lines code ratio is 6.335 (median = 1).\n",
      "Among isolated notebooks, the average words markdown to lines code ratio is 5.709 (median = 1).\n"
     ]
    }
   ],
   "source": [
    "collaborative_wl = collaborative.merge(notebooks[['file','repo_id']], on = 'repo_id').merge(\n",
    "    cell_stats_df[['file','words_lines_ratio']], on = 'file')\n",
    "collaborative_wl['type'] = 'collaborative'\n",
    "collaborative_wl = collaborative_wl[~collaborative_wl.words_lines_ratio.isna()]\n",
    "\n",
    "watched_wl = watched.merge(notebooks[['file','repo_id']], on = 'repo_id').merge(\n",
    "    cell_stats_df[['file','words_lines_ratio']], on = 'file')\n",
    "watched_wl['type'] = 'in_sight'\n",
    "watched_wl = watched_wl[~watched_wl.words_lines_ratio.isna()]\n",
    "\n",
    "isolated_wl = isolated.merge(notebooks[['file','repo_id']], on = 'repo_id').merge(\n",
    "    cell_stats_df[['file','words_lines_ratio']], on = 'file')\n",
    "isolated_wl['type'] = 'isolated'\n",
    "isolated_wl = isolated_wl[~isolated_wl.words_lines_ratio.isna()]\n",
    "\n",
    "print(\"Among collaborative notebooks, the average words markdown to lines code ratio is {0} (median = {1}).\".format(\n",
    "    round(collaborative_wl.words_lines_ratio.mean(), 3),\n",
    "    round(collaborative_wl.words_lines_ratio.median())\n",
    "))\n",
    "print(\"Among watched notebooks, the average words markdown to lines code ratio is {0} (median = {1}).\".format(\n",
    "    round(watched_wl.words_lines_ratio.mean(), 3),\n",
    "    round(watched_wl.words_lines_ratio.median())\n",
    "))\n",
    "print(\"Among isolated notebooks, the average words markdown to lines code ratio is {0} (median = {1}).\".format(\n",
    "    round(isolated_wl.words_lines_ratio.mean(), 3),\n",
    "    round(isolated_wl.words_lines_ratio.median())\n",
    "))"
   ]
  },
  {
   "cell_type": "markdown",
   "metadata": {},
   "source": [
    "#### One way anova for difference in mean markdown to code ratio between collaborative, watched, and isolated notebooks\n",
    "\n",
    "$H_0: \\mu_{collaborative} =  \\mu_{watched} = \\mu_{isolated}$\n",
    "\n",
    "$H_a$: at least one is not equal"
   ]
  },
  {
   "cell_type": "code",
   "execution_count": 12,
   "metadata": {},
   "outputs": [
    {
     "name": "stdout",
     "output_type": "stream",
     "text": [
      "F-statistic = 688.02, p-value = 0.0\n"
     ]
    }
   ],
   "source": [
    "F, p = st.f_oneway(\n",
    "    collaborative_wl.words_lines_ratio, \n",
    "    watched_wl.words_lines_ratio, \n",
    "    isolated_wl.words_lines_ratio\n",
    ")\n",
    "print(\"F-statistic = {0}, p-value = {1}\".format(\n",
    "    round(F, 2), round(p, 2)\n",
    "))"
   ]
  },
  {
   "cell_type": "markdown",
   "metadata": {},
   "source": [
    "#### Non-parametric one way anova on ranks (Kruskal-Wallis) for difference in means\n",
    "The data is extremely skewed right, so a parametric test that relies on normality may not be the best option. Check if the non-parametric Kruskal-Wallis test gives the same results."
   ]
  },
  {
   "cell_type": "code",
   "execution_count": 13,
   "metadata": {},
   "outputs": [
    {
     "name": "stdout",
     "output_type": "stream",
     "text": [
      "Kruskal Wallis H-statistic = 9799.82, p-value = 0.0\n"
     ]
    }
   ],
   "source": [
    "H, p = st.kruskal(\n",
    "    collaborative_wl.words_lines_ratio, \n",
    "    watched_wl.words_lines_ratio, \n",
    "    isolated_wl.words_lines_ratio\n",
    ")\n",
    "print(\"Kruskal Wallis H-statistic = {0}, p-value = {1}\".format(\n",
    "    round(H, 2), round(p, 2)\n",
    "))"
   ]
  },
  {
   "cell_type": "markdown",
   "metadata": {},
   "source": [
    "#### Pairwise two sample t-tests for difference in means"
   ]
  },
  {
   "cell_type": "code",
   "execution_count": 14,
   "metadata": {},
   "outputs": [
    {
     "name": "stdout",
     "output_type": "stream",
     "text": [
      "Pairwise p-values are all zero, so all significant: 0.0, 0.0, 0.0.\n"
     ]
    }
   ],
   "source": [
    "t1, p1 = st.mstats.ttest_ind(\n",
    "    collaborative_wl.words_lines_ratio, \n",
    "    watched_wl.words_lines_ratio\n",
    ")\n",
    "t2, p2 = st.mstats.ttest_ind(\n",
    "    watched_wl.words_lines_ratio, \n",
    "    isolated_wl.words_lines_ratio\n",
    ")\n",
    "t3, p3 = st.mstats.ttest_ind(\n",
    "    collaborative_wl.words_lines_ratio, \n",
    "    isolated_wl.words_lines_ratio\n",
    ")\n",
    "print('Pairwise p-values are all zero, so all significant: {0}, {1}, {2}.'.format(\n",
    "    round(p1,2), round(p2,2), round(p3,2)\n",
    "))"
   ]
  },
  {
   "cell_type": "code",
   "execution_count": 15,
   "metadata": {},
   "outputs": [
    {
     "data": {
      "image/png": "[encoded data removed]",
      "text/plain": [
       "<Figure size 432x288 with 1 Axes>"
      ]
     },
     "metadata": {
      "needs_background": "light"
     },
     "output_type": "display_data"
    }
   ],
   "source": [
    "data = [\n",
    "    collaborative_wl.words_lines_ratio, \n",
    "    watched_wl.words_lines_ratio, \n",
    "    isolated_wl.words_lines_ratio\n",
    "]\n",
    "fig, ax = plt.subplots()\n",
    "ax.boxplot(data)\n",
    "plt.yscale('log')\n",
    "plt.ylabel('Ratio Markdown : Code')\n",
    "plt.xticks([1,2,3],['Collaborative','Watched','Isolated'])\n",
    "plt.title('Markdown to Code Ratio across Collaboration Status')\n",
    "\n",
    "plt.show()"
   ]
  },
  {
   "cell_type": "markdown",
   "metadata": {},
   "source": [
    "We've concluded that collaborative notebooks have the largest markdown to code ratio, followed by watched and then isolated notebooks. All differences are significant."
   ]
  },
  {
   "cell_type": "markdown",
   "metadata": {},
   "source": [
    "## Are isolated repositories more or less likely to have descriptions?\n",
    "It makes sense that respoitories no one looks at may not have a repository description. Here we focus only on isolated repositories versus not-isolated repositories."
   ]
  },
  {
   "cell_type": "code",
   "execution_count": 16,
   "metadata": {},
   "outputs": [
    {
     "name": "stdout",
     "output_type": "stream",
     "text": [
      "58.21% of repositories that are collaborative or watched have a repository description.\n",
      "48.31% of repositories that are isolated have a repository description.\n"
     ]
    }
   ],
   "source": [
    "print(\n",
    "    \"{0}% of repositories that are collaborative or watched have a repository description.\".format(\n",
    "        round(100 - 100*sum(collab_or_watched.repo_description.isna())/len(collab_or_watched), 2)\n",
    "))\n",
    "\n",
    "print(\n",
    "    \"{0}% of repositories that are isolated have a repository description.\".format(\n",
    "        round(100 - 100*sum(isolated.repo_description.isna())/len(isolated), 2)\n",
    "))"
   ]
  },
  {
   "cell_type": "markdown",
   "metadata": {},
   "source": [
    "#### Two sample z test for difference in proportion of repositories with descriptions between isolated repositories and non-isolated respositories\n",
    "\n",
    "$H_0: p_{isolated} = p_{not\\_isolated}$, the true proportion of all isolated repositories with a description is equal to that of not isolated repositories\n",
    "\n",
    "$H_a: p_{isolated} ≠ p_{not\\_isolated}$, the true proportions are not equal"
   ]
  },
  {
   "cell_type": "code",
   "execution_count": 17,
   "metadata": {},
   "outputs": [
    {
     "name": "stdout",
     "output_type": "stream",
     "text": [
      "z-statistic: 92.67\n",
      "p-value: 0.0\n"
     ]
    }
   ],
   "source": [
    "p1 = 1-sum(collab_or_watched.repo_description.isna())/len(collab_or_watched)\n",
    "n1 = len(collab_or_watched)\n",
    "\n",
    "p2 = 1-sum(isolated.repo_description.isna())/len(isolated)\n",
    "n2 = len(isolated)\n",
    "\n",
    "ppool = (p1*n1 + p2*n2)/(n1 + n2)\n",
    "se = (ppool*(1-ppool)*(1/n1 + 1/n2))**0.5\n",
    "z = (p1 - p2)/se\n",
    "p_value = 1 - st.norm.cdf(z)\n",
    "\n",
    "print('z-statistic:', round(z, 2))\n",
    "print('p-value:', round(p_value, 2))"
   ]
  },
  {
   "cell_type": "markdown",
   "metadata": {},
   "source": [
    "At any reasonable singificance level, the z statistic of 68.37 provides strong evidence to conclude that the true proportion of isolated repositories with a description is not equal to that of not isolated repositories."
   ]
  },
  {
   "cell_type": "code",
   "execution_count": 18,
   "metadata": {},
   "outputs": [
    {
     "name": "stdout",
     "output_type": "stream",
     "text": [
      "We are 95% confident that the true proportion of isolated \n",
      "repositories with a description is between 0.097 and 0.101 lower \n",
      "than that for not isolated repositories.\n"
     ]
    }
   ],
   "source": [
    "z_star = st.norm.ppf(0.975)\n",
    "lower = (p1 - p2) - z_star*se\n",
    "upper = (p1 - p2) + z_star*se\n",
    "\n",
    "print(\"\"\"We are 95% confident that the true proportion of isolated \n",
    "repositories with a description is between {0} and {1} lower \n",
    "than that for not isolated repositories.\"\"\".format(\n",
    "    round(lower, 3), round(upper, 3)\n",
    "))"
   ]
  },
  {
   "cell_type": "markdown",
   "metadata": {},
   "source": [
    "## Does repository size depend on collaboration status"
   ]
  },
  {
   "cell_type": "code",
   "execution_count": 19,
   "metadata": {},
   "outputs": [
    {
     "name": "stdout",
     "output_type": "stream",
     "text": [
      "On average, collaborative repositories are 40450.31 bytes (median = 2811).\n",
      "On average, watched repositories are 24809.85 bytes (median = 1132).\n",
      "On average, isolated repositories are 15785.87 bytes (median = 583).\n"
     ]
    }
   ],
   "source": [
    "print(\"On average, collaborative repositories are {0} bytes (median = {1}).\".format(\n",
    "    round(collaborative['size'].mean(), 2),\n",
    "    round(collaborative['size'].median())\n",
    "))\n",
    "print(\"On average, watched repositories are {0} bytes (median = {1}).\".format(\n",
    "    round(watched['size'].mean(), 2),\n",
    "    round(watched['size'].median())\n",
    "))\n",
    "print(\"On average, isolated repositories are {0} bytes (median = {1}).\".format(\n",
    "    round(isolated['size'].mean(), 2),\n",
    "    round(isolated['size'].median())\n",
    "))"
   ]
  },
  {
   "cell_type": "code",
   "execution_count": 20,
   "metadata": {},
   "outputs": [
    {
     "data": {
      "image/png": "[encoded data removed]",
      "text/plain": [
       "<Figure size 720x288 with 3 Axes>"
      ]
     },
     "metadata": {
      "needs_background": "light"
     },
     "output_type": "display_data"
    }
   ],
   "source": [
    "fig = plt.figure(figsize=(10, 4))\n",
    "\n",
    "plt.subplot(1,3,1)\n",
    "plt.hist(isolated['size'], bins = 100, color = 'teal')\n",
    "plt.title('Isolated')\n",
    "plt.xlabel('Size (mb)')\n",
    "plt.xlim(0, 300000)\n",
    "x_pos = [0, 500000, 1000000, 1500000, 2000000, 2500000, 3000000]\n",
    "x_labs = [0, .5, 1, 1.5, 2, 2.5, 3]\n",
    "plt.xticks(x_pos, x_labs)\n",
    "plt.ylabel('Number of Repositories')\n",
    "plt.yscale('log')\n",
    "\n",
    "plt.subplot(1,3,2)\n",
    "plt.hist(watched['size'], bins = 500, color = 'teal')\n",
    "plt.title('Watched')\n",
    "plt.xlabel('Size (mb)')\n",
    "plt.xlim(0, 300000)\n",
    "x_pos = [0, 500000, 1000000, 1500000, 2000000, 2500000, 3000000]\n",
    "x_labs = [0, .5, 1, 1.5, 2, 2.5, 3]\n",
    "plt.xticks(x_pos, x_labs)\n",
    "plt.yscale('log')\n",
    "\n",
    "plt.subplot(1,3,3)\n",
    "plt.hist(collaborative['size'], bins =500, color = 'teal')\n",
    "plt.title('Collaborative')\n",
    "plt.xlabel('Size (mb)')\n",
    "plt.xlim(0, 300000)\n",
    "x_pos = [0, 500000, 1000000, 1500000, 2000000, 2500000, 3000000]\n",
    "x_labs = [0, .5, 1, 1.5, 2, 2.5, 3]\n",
    "plt.xticks(x_pos, x_labs)\n",
    "plt.yscale('log')\n",
    "\n",
    "plt.tight_layout()\n",
    "plt.show()"
   ]
  },
  {
   "cell_type": "markdown",
   "metadata": {},
   "source": [
    "## Does collaboration status depend on educational status?"
   ]
  },
  {
   "cell_type": "code",
   "execution_count": 21,
   "metadata": {},
   "outputs": [],
   "source": [
    "edu_collab_df = collab_status_df.merge(edu_statuses_df, on = 'repo_id')"
   ]
  },
  {
   "cell_type": "code",
   "execution_count": 22,
   "metadata": {},
   "outputs": [
    {
     "data": {
      "text/html": [
       "<div>\n",
       "<style scoped>\n",
       "    .dataframe tbody tr th:only-of-type {\n",
       "        vertical-align: middle;\n",
       "    }\n",
       "\n",
       "    .dataframe tbody tr th {\n",
       "        vertical-align: top;\n",
       "    }\n",
       "\n",
       "    .dataframe thead th {\n",
       "        text-align: right;\n",
       "    }\n",
       "</style>\n",
       "<table border=\"1\" class=\"dataframe\">\n",
       "  <thead>\n",
       "    <tr style=\"text-align: right;\">\n",
       "      <th>edu</th>\n",
       "      <th>False</th>\n",
       "      <th>True</th>\n",
       "    </tr>\n",
       "    <tr>\n",
       "      <th>collab</th>\n",
       "      <th></th>\n",
       "      <th></th>\n",
       "    </tr>\n",
       "  </thead>\n",
       "  <tbody>\n",
       "    <tr>\n",
       "      <th>collaborative</th>\n",
       "      <td>78224</td>\n",
       "      <td>21451</td>\n",
       "    </tr>\n",
       "    <tr>\n",
       "      <th>isolated</th>\n",
       "      <td>138028</td>\n",
       "      <td>40779</td>\n",
       "    </tr>\n",
       "    <tr>\n",
       "      <th>watched</th>\n",
       "      <td>156435</td>\n",
       "      <td>51236</td>\n",
       "    </tr>\n",
       "  </tbody>\n",
       "</table>\n",
       "</div>"
      ],
      "text/plain": [
       "edu             False  True \n",
       "collab                      \n",
       "collaborative   78224  21451\n",
       "isolated       138028  40779\n",
       "watched        156435  51236"
      ]
     },
     "execution_count": 22,
     "metadata": {},
     "output_type": "execute_result"
    }
   ],
   "source": [
    "contingency = (edu_collab_df.groupby(\n",
    "    ['collab','edu']\n",
    ")['repo_id'].count()).reset_index().pivot(\n",
    "    index = 'collab', columns = 'edu', values = 'repo_id'\n",
    ")\n",
    "contingency"
   ]
  },
  {
   "cell_type": "markdown",
   "metadata": {},
   "source": [
    "#### Chi squared test for independence of collaboration status and educational status"
   ]
  },
  {
   "cell_type": "code",
   "execution_count": 23,
   "metadata": {},
   "outputs": [
    {
     "name": "stdout",
     "output_type": "stream",
     "text": [
      "Chi Squared = 418.66, p-value = 0.0\n"
     ]
    }
   ],
   "source": [
    "chi2, p, dof, ex = st.chi2_contingency(contingency)\n",
    "print('Chi Squared = {0}, p-value = {1}'.format(\n",
    "    round(chi2, 2), round(p, 2)\n",
    "))"
   ]
  },
  {
   "cell_type": "markdown",
   "metadata": {},
   "source": [
    "Collaboration status and educational are associated."
   ]
  },
  {
   "cell_type": "code",
   "execution_count": 24,
   "metadata": {},
   "outputs": [
    {
     "name": "stdout",
     "output_type": "stream",
     "text": [
      "Probability of a notebook being educational given that it is collaborative = 0.215.\n",
      "Probability of a notebook being educational given that it is watched = 0.247.\n",
      "Probability of a notebook being educational given that it is isolated = 0.228.\n",
      "\n",
      "Difference between observed and expected\n"
     ]
    },
    {
     "data": {
      "text/html": [
       "<div>\n",
       "<style scoped>\n",
       "    .dataframe tbody tr th:only-of-type {\n",
       "        vertical-align: middle;\n",
       "    }\n",
       "\n",
       "    .dataframe tbody tr th {\n",
       "        vertical-align: top;\n",
       "    }\n",
       "\n",
       "    .dataframe thead th {\n",
       "        text-align: right;\n",
       "    }\n",
       "</style>\n",
       "<table border=\"1\" class=\"dataframe\">\n",
       "  <thead>\n",
       "    <tr style=\"text-align: right;\">\n",
       "      <th>edu</th>\n",
       "      <th>False</th>\n",
       "      <th>True</th>\n",
       "    </tr>\n",
       "    <tr>\n",
       "      <th>collab</th>\n",
       "      <th></th>\n",
       "      <th></th>\n",
       "    </tr>\n",
       "  </thead>\n",
       "  <tbody>\n",
       "    <tr>\n",
       "      <th>collaborative</th>\n",
       "      <td>1812.712350</td>\n",
       "      <td>-1812.712350</td>\n",
       "    </tr>\n",
       "    <tr>\n",
       "      <th>isolated</th>\n",
       "      <td>953.777669</td>\n",
       "      <td>-953.777669</td>\n",
       "    </tr>\n",
       "    <tr>\n",
       "      <th>watched</th>\n",
       "      <td>-2766.490019</td>\n",
       "      <td>2766.490019</td>\n",
       "    </tr>\n",
       "  </tbody>\n",
       "</table>\n",
       "</div>"
      ],
      "text/plain": [
       "edu                  False        True \n",
       "collab                                 \n",
       "collaborative  1812.712350 -1812.712350\n",
       "isolated        953.777669  -953.777669\n",
       "watched       -2766.490019  2766.490019"
      ]
     },
     "execution_count": 24,
     "metadata": {},
     "output_type": "execute_result"
    }
   ],
   "source": [
    "conditional_props = (contingency[True]/(contingency[True] + contingency[False]))\n",
    "print(\"Probability of a notebook being educational given that it is collaborative = {0}.\".format(\n",
    "    round(conditional_props['collaborative'], 3)\n",
    "))\n",
    "print(\"Probability of a notebook being educational given that it is watched = {0}.\".format(\n",
    "    round(conditional_props['watched'], 3)\n",
    "))\n",
    "print(\"Probability of a notebook being educational given that it is isolated = {0}.\".format(\n",
    "    round(conditional_props['isolated'], 3)\n",
    "))\n",
    "\n",
    "print(\"\\nDifference between observed and expected\")\n",
    "contingency - ex"
   ]
  },
  {
   "cell_type": "markdown",
   "metadata": {},
   "source": [
    "Collaborative and isolated repositories are more likely to be non-educational than would be expected if the variables were not related. Watched repositories are more likely to be educational."
   ]
  },
  {
   "cell_type": "markdown",
   "metadata": {},
   "source": [
    "## Look at notebook statuses"
   ]
  },
  {
   "cell_type": "code",
   "execution_count": 25,
   "metadata": {},
   "outputs": [],
   "source": [
    "collaborative_nbs = notebooks[notebooks.repo_id.isin(collaborative.repo_id)]\n",
    "watched_nbs = notebooks[notebooks.repo_id.isin(watched.repo_id)]\n",
    "isolated_nbs = notebooks[notebooks.repo_id.isin(isolated.repo_id)]"
   ]
  },
  {
   "cell_type": "code",
   "execution_count": 26,
   "metadata": {},
   "outputs": [
    {
     "name": "stdout",
     "output_type": "stream",
     "text": [
      "23.4% of notebooks are in collaborative repositories. \n",
      "40.53% are in 'watched' repositories.\n",
      "Finally 36.07% of notebooks are in isolated repositories\n"
     ]
    }
   ],
   "source": [
    "total = len(collaborative_nbs) + len(watched_nbs) + len(isolated_nbs)\n",
    "print(\"\"\"{0}% of notebooks are in collaborative repositories. \n",
    "{1}% are in 'watched' repositories.\n",
    "Finally {2}% of notebooks are in isolated repositories\"\"\".format(\n",
    "    round(100*len(collaborative_nbs)/total, 2),\n",
    "    round(100*len(watched_nbs)/total, 2),\n",
    "    round(100*len(isolated_nbs)/total, 2),\n",
    "))"
   ]
  },
  {
   "cell_type": "markdown",
   "metadata": {},
   "source": [
    "[Notebook Organization &lt;](4_Organization.ipynb) | [&gt; Package Use](6_Packages.ipynb)"
   ]
  }
 ],
 "metadata": {
  "anaconda-cloud": {},
  "kernelspec": {
   "display_name": "Python 3",
   "language": "python",
   "name": "python3"
  },
  "language_info": {
   "codemirror_mode": {
    "name": "ipython",
    "version": 3
   },
   "file_extension": ".py",
   "mimetype": "text/x-python",
   "name": "python",
   "nbconvert_exporter": "python",
   "pygments_lexer": "ipython3",
   "version": "3.7.3"
  }
 },
 "nbformat": 4,
 "nbformat_minor": 4
}
