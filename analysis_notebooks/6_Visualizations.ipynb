{
 "cells": [
  {
   "cell_type": "markdown",
   "metadata": {},
   "source": [
    "# What visualization tools are people using and how?\n",
    "\n",
    "- Matplotlib is by far the most popular visualization tool. It is over 100 times frequent than the next mot popular, which is seaborn.\n",
    "- Within Matplotlib, plot (y vs x line plot) is by far the most popular plot type. Following that is imshow (displays an image or a colormap, depending on parameters) and scatter (y vs x scatter plot). About half as popular as imshow and scatter is hist (histogram of one variable). Other plotting methods are very unpopular.\n",
    "- The proportion of notebooks that use matplotlib has converged to ~35%.\n",
    "- On average, there are 0.01 visualizations per notebook.\n",
    "- On average, among notebooks that have visualizations, there are 2.73 visualizations per notebook.\n",
    "- On average, there are 0.02 matplotlib visualizations per cell.\n",
    "- On average, among cells that have matplotlib visualizations, there are 1.23 visualizations per cell.\n",
    "----------"
   ]
  },
  {
   "cell_type": "code",
   "execution_count": 1,
   "metadata": {},
   "outputs": [],
   "source": [
    "import pandas as pd\n",
    "import altair as alt\n",
    "import matplotlib.pyplot as plt\n",
    "import calendar"
   ]
  },
  {
   "cell_type": "code",
   "execution_count": 2,
   "metadata": {},
   "outputs": [],
   "source": [
    "import load_data\n",
    "notebooks, cells, owners, readmes, repos = load_data.load(lang = 'python')"
   ]
  },
  {
   "cell_type": "code",
   "execution_count": 3,
   "metadata": {},
   "outputs": [],
   "source": [
    "vis = ['matplotlib','altair','seaborn',\n",
    "       'ggplot','bokeh','pygal','plotly',\n",
    "       'geoplotlib','gleam','missingno',\n",
    "       'leather']\n",
    "\n",
    "all_vis = []\n",
    "as_aliases = {}\n",
    "current_nb = ''\n",
    "nb_vis_uses = []\n",
    "for _, row in cells.iterrows():\n",
    "    code = row['code']\n",
    "    if current_nb != row['file']:\n",
    "        current_nb = row['file']\n",
    "        all_vis.append(nb_vis_uses)\n",
    "        nb_vis_uses = []\n",
    "        as_aliases = {}\n",
    "    for line in code: \n",
    "        if not line.strip().startswith('#'):\n",
    "            for v in vis:\n",
    "                if v in line:\n",
    "                    if 'import' in line:\n",
    "                        if v+'.' in line:\n",
    "                            v = v+\".\"+line.split(v+'.')[1].split(' ')[0]\n",
    "                            if 'from '+v+'.' in line or 'from  '+v+'.' in line:\n",
    "                                v = v+\".\"+line.split(v+'.')[1].split(' ')[0] \\\n",
    "                                     +\".\"+line.split(' import ')[1].split(' ')[0]\n",
    "                        elif 'from '+v in line or 'from  '+v in line:\n",
    "                            v = v+\".\"+line.split(' import ')[1].split(' ')[0]\n",
    "                        if ' as ' in line:\n",
    "                            as_alias = line.split(' as ')[1].split(' ')[0]\n",
    "                            as_aliases[as_alias] = v\n",
    "                            nb_vis_uses.append((v, 'import as '+as_alias))\n",
    "                        else:\n",
    "                            nb_vis_uses.append((v, 'import'))\n",
    "                    elif v+'.' in line and v+'.org' not in line:\n",
    "                        nb_vis_uses.append((v, line.split(v+'.')[1]\\\n",
    "                                             .split(' ')[0]\\\n",
    "                                             .split('(')[0]\\\n",
    "                                             .split(')')[0]\\\n",
    "                                             .split(']')[0]\\\n",
    "                                             .split('[')[0]\\\n",
    "                                             .split(',')[0]\n",
    "                                ))\n",
    "            for v in as_aliases:\n",
    "                if v in line:\n",
    "                    if v+'.' in line and v+'.org' not in line:\n",
    "                        if not line.split(v+'.')[1].startswith(' '):\n",
    "                            nb_vis_uses.append((as_aliases[v], \n",
    "                                             line.split(v+'.')[1]\\\n",
    "                                                 .split(' ')[0]\\\n",
    "                                                 .split('(')[0]\\\n",
    "                                                 .split(')')[0]\\\n",
    "                                                 .split(']')[0]\\\n",
    "                                                 .split('[')[0]\\\n",
    "                                                 .split(',')[0]\n",
    "                                    ))"
   ]
  },
  {
   "cell_type": "code",
   "execution_count": 4,
   "metadata": {},
   "outputs": [],
   "source": [
    "notebooks['vis'] = all_vis\n",
    "all_vis_uses = ', '.join([', '.join([s[0]+'.'+s[1] \n",
    "                                     for s in vis if s and not s[1].startswith('import')]) \n",
    "                                      for vis in all_vis if vis != []]).split(', ')"
   ]
  },
  {
   "cell_type": "code",
   "execution_count": 5,
   "metadata": {},
   "outputs": [
    {
     "data": {
      "application/vnd.vegalite.v3+json": {
       "$schema": "https://vega.github.io/schema/vega-lite/v3.3.0.json",
       "config": {
        "mark": {
         "tooltip": null
        },
        "view": {
         "height": 300,
         "width": 400
        }
       },
       "data": {
        "name": "data-173f6af07e080c274de840cf9f9ca299"
       },
       "datasets": {
        "data-173f6af07e080c274de840cf9f9ca299": [
         {
          "Count": 130945,
          "Package": "matplotlib"
         },
         {
          "Count": 4004,
          "Package": "seaborn"
         },
         {
          "Count": 2376,
          "Package": "plotly"
         },
         {
          "Count": 160,
          "Package": "altair"
         },
         {
          "Count": 124,
          "Package": "bokeh"
         },
         {
          "Count": 14,
          "Package": "missingno"
         },
         {
          "Count": 6,
          "Package": "geoplotlib"
         },
         {
          "Count": 1,
          "Package": "pygal"
         },
         {
          "Count": 1,
          "Package": "leather"
         }
        ]
       },
       "encoding": {
        "x": {
         "field": "Package",
         "sort": {
          "field": "Count",
          "op": "sum",
          "order": "descending"
         },
         "type": "nominal"
        },
        "y": {
         "field": "Count",
         "scale": {
          "type": "log"
         },
         "title": "Number of Uses",
         "type": "quantitative"
        }
       },
       "mark": {
        "color": "teal",
        "type": "bar"
       },
       "width": 300
      },
      "image/png": "[encoded data removed]",
      "text/plain": [
       "<VegaLite 3 object>\n",
       "\n",
       "If you see this message, it means the renderer has not been properly enabled\n",
       "for the frontend that you are using. For more information, see\n",
       "https://altair-viz.github.io/user_guide/troubleshooting.html\n"
      ]
     },
     "execution_count": 5,
     "metadata": {},
     "output_type": "execute_result"
    }
   ],
   "source": [
    "vis_counts = pd.Series([v.split('.')[0] for v in all_vis_uses if v.split('.')[0] != '']).value_counts().reset_index().rename(columns={'index':'Package',0:'Count'})\n",
    "alt.Chart(vis_counts, width = 300).mark_bar(color='teal').encode(\n",
    "    alt.X('Package',\n",
    "         sort = alt.EncodingSortField(field=\"Count\", op=\"sum\",order=\"descending\"),\n",
    "    ),\n",
    "    alt.Y('Count', title='Number of Uses', scale = alt.Scale(type='log'))\n",
    ")"
   ]
  },
  {
   "cell_type": "markdown",
   "metadata": {},
   "source": [
    "Matplotlib is by far the most popular visualization tool. It is over 100 times frequent than the next mot popular, which is seaborn."
   ]
  },
  {
   "cell_type": "markdown",
   "metadata": {},
   "source": [
    "# Uses By Package"
   ]
  },
  {
   "cell_type": "code",
   "execution_count": 6,
   "metadata": {},
   "outputs": [],
   "source": [
    "def get_counts(package):\n",
    "    return pd.Series(['.'.join(v.split('.')[1:]) for v in all_vis_uses \n",
    "               if v.startswith(package)\n",
    "    ]).value_counts().reset_index().rename(columns={'index':'use', 0:'count'})"
   ]
  },
  {
   "cell_type": "code",
   "execution_count": 7,
   "metadata": {},
   "outputs": [],
   "source": [
    "def chart_package(package):\n",
    "    counts = get_counts(package)\n",
    "    return alt.Chart(counts[:20], title='Use of {0}'.format(package.title()), height = 200, width = len(counts[:20])*30).mark_bar(color='teal').encode(\n",
    "        alt.X('use',\n",
    "              sort = alt.EncodingSortField(field=\"count\", op=\"sum\",order=\"descending\"),\n",
    "              title='Use'\n",
    "        ),\n",
    "        alt.Y('count', title = 'Number of Uses')\n",
    "    )"
   ]
  },
  {
   "cell_type": "code",
   "execution_count": 8,
   "metadata": {},
   "outputs": [
    {
     "data": {
      "application/vnd.vegalite.v3+json": {
       "$schema": "https://vega.github.io/schema/vega-lite/v3.3.0.json",
       "config": {
        "mark": {
         "tooltip": null
        },
        "view": {
         "height": 300,
         "width": 400
        }
       },
       "data": {
        "name": "data-8c6025524ca8cda87aafdee886e1276b"
       },
       "datasets": {
        "data-8c6025524ca8cda87aafdee886e1276b": [
         {
          "count": 493,
          "use": "graph_objs.Scatter"
         },
         {
          "count": 306,
          "use": "plotly.iplot"
         },
         {
          "count": 291,
          "use": "graph_objs.Layout"
         },
         {
          "count": 281,
          "use": "graph_objs.Figure"
         },
         {
          "count": 108,
          "use": "graph_objs.Bar"
         },
         {
          "count": 101,
          "use": "offline.iplot"
         },
         {
          "count": 70,
          "use": "offline.init_notebook_mode"
         },
         {
          "count": 67,
          "use": "graph_objs.Box"
         },
         {
          "count": 59,
          "use": "offline.plot"
         },
         {
          "count": 47,
          "use": "tools.set_credentials_file"
         },
         {
          "count": 46,
          "use": "graph_objs.Scatter3d"
         },
         {
          "count": 30,
          "use": "plotly.plot"
         },
         {
          "count": 26,
          "use": "graph_objs.Histogram"
         },
         {
          "count": 18,
          "use": "graph_objs.Heatmap"
         },
         {
          "count": 16,
          "use": "plotly.sign_in"
         },
         {
          "count": 15,
          "use": "plotly.deepcopy"
         },
         {
          "count": 14,
          "use": "graph_objs.layout.YAxis"
         },
         {
          "count": 14,
          "use": "graph_objs.Pie"
         },
         {
          "count": 14,
          "use": "graph_objs.Line"
         },
         {
          "count": 13,
          "use": "plotly.stats"
         }
        ]
       },
       "encoding": {
        "x": {
         "field": "use",
         "sort": {
          "field": "count",
          "op": "sum",
          "order": "descending"
         },
         "title": "Use",
         "type": "nominal"
        },
        "y": {
         "field": "count",
         "title": "Number of Uses",
         "type": "quantitative"
        }
       },
       "height": 200,
       "mark": {
        "color": "teal",
        "type": "bar"
       },
       "title": "Use of Plotly",
       "width": 600
      },
      "image/png": "[encoded data removed]",
      "text/plain": [
       "<VegaLite 3 object>\n",
       "\n",
       "If you see this message, it means the renderer has not been properly enabled\n",
       "for the frontend that you are using. For more information, see\n",
       "https://altair-viz.github.io/user_guide/troubleshooting.html\n"
      ]
     },
     "metadata": {},
     "output_type": "display_data"
    },
    {
     "data": {
      "application/vnd.vegalite.v3+json": {
       "$schema": "https://vega.github.io/schema/vega-lite/v3.3.0.json",
       "config": {
        "mark": {
         "tooltip": null
        },
        "view": {
         "height": 300,
         "width": 400
        }
       },
       "data": {
        "name": "data-21e22b2f1498b22ee9d1bf4c5accb435"
       },
       "datasets": {
        "data-21e22b2f1498b22ee9d1bf4c5accb435": [
         {
          "count": 436,
          "use": "heatmap"
         },
         {
          "count": 411,
          "use": "set"
         },
         {
          "count": 396,
          "use": "set_style"
         },
         {
          "count": 347,
          "use": "distplot"
         },
         {
          "count": 280,
          "use": "barplot"
         },
         {
          "count": 191,
          "use": "countplot"
         },
         {
          "count": 172,
          "use": "set_context"
         },
         {
          "count": 161,
          "use": "boxplot"
         },
         {
          "count": 154,
          "use": "color_palette"
         },
         {
          "count": 114,
          "use": "despine"
         },
         {
          "count": 113,
          "use": "pairplot"
         },
         {
          "count": 103,
          "use": "lmplot"
         },
         {
          "count": 98,
          "use": "load_dataset"
         },
         {
          "count": 73,
          "use": "kdeplot"
         },
         {
          "count": 71,
          "use": "violinplot"
         },
         {
          "count": 69,
          "use": "regplot"
         },
         {
          "count": 68,
          "use": "catplot"
         },
         {
          "count": 58,
          "use": "factorplot"
         },
         {
          "count": 57,
          "use": "set_palette"
         },
         {
          "count": 57,
          "use": "jointplot"
         }
        ]
       },
       "encoding": {
        "x": {
         "field": "use",
         "sort": {
          "field": "count",
          "op": "sum",
          "order": "descending"
         },
         "title": "Use",
         "type": "nominal"
        },
        "y": {
         "field": "count",
         "title": "Number of Uses",
         "type": "quantitative"
        }
       },
       "height": 200,
       "mark": {
        "color": "teal",
        "type": "bar"
       },
       "title": "Use of Seaborn",
       "width": 600
      },
      "image/png": "[encoded data removed]",
      "text/plain": [
       "<VegaLite 3 object>\n",
       "\n",
       "If you see this message, it means the renderer has not been properly enabled\n",
       "for the frontend that you are using. For more information, see\n",
       "https://altair-viz.github.io/user_guide/troubleshooting.html\n"
      ]
     },
     "metadata": {},
     "output_type": "display_data"
    },
    {
     "data": {
      "application/vnd.vegalite.v3+json": {
       "$schema": "https://vega.github.io/schema/vega-lite/v3.3.0.json",
       "config": {
        "mark": {
         "tooltip": null
        },
        "view": {
         "height": 300,
         "width": 400
        }
       },
       "data": {
        "name": "data-3b583aaef6370dfa29840587b7ca5b78"
       },
       "datasets": {
        "data-3b583aaef6370dfa29840587b7ca5b78": [
         {
          "count": 16290,
          "use": "pyplot.show"
         },
         {
          "count": 15025,
          "use": "pyplot.plot"
         },
         {
          "count": 11059,
          "use": "pyplot.title"
         },
         {
          "count": 9933,
          "use": "pyplot.xlabel"
         },
         {
          "count": 9141,
          "use": "pyplot.ylabel"
         },
         {
          "count": 7968,
          "use": "pyplot.subplot"
         },
         {
          "count": 7963,
          "use": "pyplot.imshow"
         },
         {
          "count": 7132,
          "use": "pyplot.figure"
         },
         {
          "count": 5399,
          "use": "pyplot.scatter"
         },
         {
          "count": 4726,
          "use": "pyplot.rcParams"
         },
         {
          "count": 4130,
          "use": "pyplot.legend"
         },
         {
          "count": 3077,
          "use": "pyplot.subplots"
         },
         {
          "count": 3042,
          "use": "pyplot.axis"
         },
         {
          "count": 2200,
          "use": "pyplot.colorbar"
         },
         {
          "count": 2061,
          "use": "pyplot.hist"
         },
         {
          "count": 1353,
          "use": "pyplot.ylim"
         },
         {
          "count": 1307,
          "use": "pyplot.semilogx"
         },
         {
          "count": 1279,
          "use": "pyplot.xlim"
         },
         {
          "count": 1224,
          "use": "pyplot.savefig"
         },
         {
          "count": 1108,
          "use": "pyplot.xticks"
         }
        ]
       },
       "encoding": {
        "x": {
         "field": "use",
         "sort": {
          "field": "count",
          "op": "sum",
          "order": "descending"
         },
         "title": "Use",
         "type": "nominal"
        },
        "y": {
         "field": "count",
         "title": "Number of Uses",
         "type": "quantitative"
        }
       },
       "height": 200,
       "mark": {
        "color": "teal",
        "type": "bar"
       },
       "title": "Use of Matplotlib",
       "width": 600
      },
      "image/png": "[encoded data removed]",
      "text/plain": [
       "<VegaLite 3 object>\n",
       "\n",
       "If you see this message, it means the renderer has not been properly enabled\n",
       "for the frontend that you are using. For more information, see\n",
       "https://altair-viz.github.io/user_guide/troubleshooting.html\n"
      ]
     },
     "metadata": {},
     "output_type": "display_data"
    }
   ],
   "source": [
    "display(chart_package('plotly'))\n",
    "display(chart_package('seaborn'))\n",
    "display(chart_package('matplotlib'))"
   ]
  },
  {
   "cell_type": "markdown",
   "metadata": {},
   "source": [
    "# MatPlotLib: what types of plots are people using?"
   ]
  },
  {
   "cell_type": "code",
   "execution_count": 9,
   "metadata": {},
   "outputs": [],
   "source": [
    "plots = ['matplotlib.pyplot.plot',\n",
    "         'matplotlib.pyplot.semilogx', #same as plot but with xscale = log\n",
    "         'matplotlib.pyplot.semilogy', #same as plot but with yscale = log\n",
    "         'matplotlib.pyplot.loglog',   #same as plot but with xscale = log, yscale = log\n",
    "         'matplotlib.pyplot.scatter',\n",
    "         'matplotlib.pyplot.hist',\n",
    "         'matplotlib.pyplot.bar',\n",
    "         'matplotlib.pyplot.colorbar',\n",
    "         'matplotlib.pyplot.imshow',\n",
    "         'matplotlib.pyplot.boxplot',\n",
    "         'matplotlib.pyplot.step'\n",
    "]"
   ]
  },
  {
   "cell_type": "code",
   "execution_count": 10,
   "metadata": {},
   "outputs": [
    {
     "data": {
      "application/vnd.vegalite.v3+json": {
       "$schema": "https://vega.github.io/schema/vega-lite/v3.3.0.json",
       "config": {
        "mark": {
         "tooltip": null
        },
        "view": {
         "height": 300,
         "width": 400
        }
       },
       "data": {
        "name": "data-7d2e731815a3f70c98a8df75679ef624"
       },
       "datasets": {
        "data-7d2e731815a3f70c98a8df75679ef624": [
         {
          "Count": 15025,
          "Plot Type": "plot"
         },
         {
          "Count": 7963,
          "Plot Type": "imshow"
         },
         {
          "Count": 5399,
          "Plot Type": "scatter"
         },
         {
          "Count": 2200,
          "Plot Type": "colorbar"
         },
         {
          "Count": 2061,
          "Plot Type": "hist"
         },
         {
          "Count": 1307,
          "Plot Type": "semilogx"
         },
         {
          "Count": 741,
          "Plot Type": "bar"
         },
         {
          "Count": 113,
          "Plot Type": "boxplot"
         },
         {
          "Count": 97,
          "Plot Type": "loglog"
         },
         {
          "Count": 95,
          "Plot Type": "step"
         },
         {
          "Count": 32,
          "Plot Type": "semilogy"
         }
        ]
       },
       "encoding": {
        "x": {
         "field": "Plot Type",
         "sort": {
          "field": "Count",
          "op": "sum",
          "order": "descending"
         },
         "type": "nominal"
        },
        "y": {
         "field": "Count",
         "type": "quantitative"
        }
       },
       "mark": {
        "color": "teal",
        "type": "bar"
       },
       "title": "Plot Types (Matplotlib)",
       "width": 300
      },
      "image/png": "[encoded data removed]",
      "text/plain": [
       "<VegaLite 3 object>\n",
       "\n",
       "If you see this message, it means the renderer has not been properly enabled\n",
       "for the frontend that you are using. For more information, see\n",
       "https://altair-viz.github.io/user_guide/troubleshooting.html\n"
      ]
     },
     "execution_count": 10,
     "metadata": {},
     "output_type": "execute_result"
    }
   ],
   "source": [
    "plot_counts = pd.Series([v.split('.')[-1] for v in all_vis_uses if v.startswith('matplotlib') and v in plots]).value_counts().reset_index().rename(columns={'index':'Plot Type', 0:'Count'})\n",
    "alt.Chart(plot_counts, width = 300, title = 'Plot Types (Matplotlib)').mark_bar(color = 'teal').encode(\n",
    "    alt.X('Plot Type',\n",
    "         sort = alt.EncodingSortField(field=\"Count\", op=\"sum\",order=\"descending\"),\n",
    "    ),\n",
    "    alt.Y('Count')\n",
    ")"
   ]
  },
  {
   "cell_type": "markdown",
   "metadata": {},
   "source": [
    "Plot (y vs x line plot) is by far the most popular plot type. Following that is imshow (displays an image or a colormap, depending on parameters) and scatter (y vs x scatter plot). About half as popular as imshow and scatter is hist (histogram of one variable). Other plotting methods are very unpopular."
   ]
  },
  {
   "cell_type": "markdown",
   "metadata": {},
   "source": [
    "# Popularities Over Time"
   ]
  },
  {
   "cell_type": "code",
   "execution_count": 11,
   "metadata": {},
   "outputs": [],
   "source": [
    "DATE_CHOICE = 'pushed_at'"
   ]
  },
  {
   "cell_type": "code",
   "execution_count": 12,
   "metadata": {},
   "outputs": [],
   "source": [
    "if DATE_CHOICE not in notebooks.columns:\n",
    "    notebooks = notebooks.merge(repos[['repo_id',DATE_CHOICE]], on = 'repo_id')\n",
    "notebooks[DATE_CHOICE] = pd.to_datetime(notebooks[DATE_CHOICE])\n",
    "notebooks['year'] = [c.year for c in notebooks[DATE_CHOICE]]\n",
    "notebooks['month'] = [c.month for c in notebooks[DATE_CHOICE]]"
   ]
  },
  {
   "cell_type": "code",
   "execution_count": 13,
   "metadata": {},
   "outputs": [],
   "source": [
    "def get_vis_counts(v):\n",
    "    return notebooks[[sum([(use[0]+'.'+use[1]).startswith(v) for use in uses]) > 0 \n",
    "                      for uses in notebooks['vis']]].groupby(['year', 'month'])['file'].count().reset_index().rename(\n",
    "                        columns = {'file':'count'}).merge(\n",
    "        notebooks.groupby(['year','month'])['file'].count().reset_index().rename(\n",
    "            columns = {'file': 'total_count'}\n",
    "        ), \n",
    "        on = ['year','month']\n",
    "    )\n",
    "\n",
    "def plot_vis_counts(v, prop = False):\n",
    "    df = get_vis_counts(v)\n",
    "    df['order'] = [(row['year'], row['month']) for _, row in df.iterrows()]\n",
    "    df.sort_values(by = 'order')\n",
    "    df['time'] = range(len(df))\n",
    "    df['prop'] = df['count'] / df['total_count']\n",
    "    \n",
    "    labels = [calendar.month_name[row['month']] +' '+ str(row['year']) for _, row in df.iterrows()]\n",
    "    \n",
    "    if prop:\n",
    "        return alt.Chart(df[['time','prop']], title = '{0} Use over Time'.format(v.title())).mark_line(color='teal').encode(\n",
    "            alt.X('time', title = 'Months since October 2013'),\n",
    "            alt.Y('prop', title = 'Uses of {0}'.format(v.title()))\n",
    "        )\n",
    "    else:\n",
    "        return alt.Chart(df[['time','count']], title = '{0} Use over Time'.format(v.title())).mark_line(color='teal').encode(\n",
    "            alt.X('time', title = 'Months since October 2013'),\n",
    "            alt.Y('count', title = 'Uses of {0}'.format(v.title()))\n",
    "        )"
   ]
  },
  {
   "cell_type": "code",
   "execution_count": 14,
   "metadata": {},
   "outputs": [
    {
     "data": {
      "application/vnd.vegalite.v3+json": {
       "$schema": "https://vega.github.io/schema/vega-lite/v3.3.0.json",
       "config": {
        "mark": {
         "tooltip": null
        },
        "view": {
         "height": 300,
         "width": 400
        }
       },
       "data": {
        "name": "data-bc0273ddc2f304d36e6b963084cbd743"
       },
       "datasets": {
        "data-bc0273ddc2f304d36e6b963084cbd743": [
         {
          "count": 2,
          "time": 0
         },
         {
          "count": 1,
          "time": 1
         },
         {
          "count": 1,
          "time": 2
         },
         {
          "count": 2,
          "time": 3
         },
         {
          "count": 3,
          "time": 4
         },
         {
          "count": 5,
          "time": 5
         },
         {
          "count": 3,
          "time": 6
         },
         {
          "count": 3,
          "time": 7
         },
         {
          "count": 7,
          "time": 8
         },
         {
          "count": 7,
          "time": 9
         },
         {
          "count": 10,
          "time": 10
         },
         {
          "count": 8,
          "time": 11
         },
         {
          "count": 15,
          "time": 12
         },
         {
          "count": 15,
          "time": 13
         },
         {
          "count": 12,
          "time": 14
         },
         {
          "count": 16,
          "time": 15
         },
         {
          "count": 22,
          "time": 16
         },
         {
          "count": 24,
          "time": 17
         },
         {
          "count": 21,
          "time": 18
         },
         {
          "count": 13,
          "time": 19
         },
         {
          "count": 22,
          "time": 20
         },
         {
          "count": 9,
          "time": 21
         },
         {
          "count": 25,
          "time": 22
         },
         {
          "count": 14,
          "time": 23
         },
         {
          "count": 19,
          "time": 24
         },
         {
          "count": 12,
          "time": 25
         },
         {
          "count": 18,
          "time": 26
         },
         {
          "count": 18,
          "time": 27
         },
         {
          "count": 31,
          "time": 28
         },
         {
          "count": 35,
          "time": 29
         },
         {
          "count": 27,
          "time": 30
         },
         {
          "count": 31,
          "time": 31
         },
         {
          "count": 31,
          "time": 32
         },
         {
          "count": 46,
          "time": 33
         },
         {
          "count": 37,
          "time": 34
         },
         {
          "count": 42,
          "time": 35
         },
         {
          "count": 52,
          "time": 36
         },
         {
          "count": 34,
          "time": 37
         },
         {
          "count": 65,
          "time": 38
         },
         {
          "count": 84,
          "time": 39
         },
         {
          "count": 90,
          "time": 40
         },
         {
          "count": 93,
          "time": 41
         },
         {
          "count": 82,
          "time": 42
         },
         {
          "count": 86,
          "time": 43
         },
         {
          "count": 87,
          "time": 44
         },
         {
          "count": 107,
          "time": 45
         },
         {
          "count": 123,
          "time": 46
         },
         {
          "count": 173,
          "time": 47
         },
         {
          "count": 159,
          "time": 48
         },
         {
          "count": 151,
          "time": 49
         },
         {
          "count": 198,
          "time": 50
         },
         {
          "count": 275,
          "time": 51
         },
         {
          "count": 283,
          "time": 52
         },
         {
          "count": 276,
          "time": 53
         },
         {
          "count": 231,
          "time": 54
         },
         {
          "count": 295,
          "time": 55
         },
         {
          "count": 311,
          "time": 56
         },
         {
          "count": 333,
          "time": 57
         },
         {
          "count": 374,
          "time": 58
         },
         {
          "count": 445,
          "time": 59
         },
         {
          "count": 405,
          "time": 60
         },
         {
          "count": 417,
          "time": 61
         },
         {
          "count": 464,
          "time": 62
         },
         {
          "count": 512,
          "time": 63
         },
         {
          "count": 622,
          "time": 64
         },
         {
          "count": 580,
          "time": 65
         },
         {
          "count": 568,
          "time": 66
         },
         {
          "count": 612,
          "time": 67
         },
         {
          "count": 601,
          "time": 68
         },
         {
          "count": 760,
          "time": 69
         },
         {
          "count": 833,
          "time": 70
         },
         {
          "count": 887,
          "time": 71
         },
         {
          "count": 819,
          "time": 72
         },
         {
          "count": 743,
          "time": 73
         },
         {
          "count": 980,
          "time": 74
         },
         {
          "count": 1134,
          "time": 75
         },
         {
          "count": 1382,
          "time": 76
         },
         {
          "count": 1515,
          "time": 77
         },
         {
          "count": 1653,
          "time": 78
         }
        ]
       },
       "encoding": {
        "x": {
         "field": "time",
         "title": "Months since October 2013",
         "type": "quantitative"
        },
        "y": {
         "field": "count",
         "title": "Uses of Matplotlib",
         "type": "quantitative"
        }
       },
       "mark": {
        "color": "teal",
        "type": "line"
       },
       "title": "Matplotlib Use over Time"
      },
      "image/png": "[encoded data removed]",
      "text/plain": [
       "<VegaLite 3 object>\n",
       "\n",
       "If you see this message, it means the renderer has not been properly enabled\n",
       "for the frontend that you are using. For more information, see\n",
       "https://altair-viz.github.io/user_guide/troubleshooting.html\n"
      ]
     },
     "execution_count": 14,
     "metadata": {},
     "output_type": "execute_result"
    }
   ],
   "source": [
    "plot_vis_counts('matplotlib')"
   ]
  },
  {
   "cell_type": "markdown",
   "metadata": {},
   "source": [
    "The growth of use of matplotlib matches the growth of Jupyter Notebooks."
   ]
  },
  {
   "cell_type": "code",
   "execution_count": 15,
   "metadata": {},
   "outputs": [
    {
     "data": {
      "application/vnd.vegalite.v3+json": {
       "$schema": "https://vega.github.io/schema/vega-lite/v3.3.0.json",
       "config": {
        "mark": {
         "tooltip": null
        },
        "view": {
         "height": 300,
         "width": 400
        }
       },
       "data": {
        "name": "data-7806dfa4cc37966257874e71408fe647"
       },
       "datasets": {
        "data-7806dfa4cc37966257874e71408fe647": [
         {
          "prop": 0.4,
          "time": 0
         },
         {
          "prop": 0.5,
          "time": 1
         },
         {
          "prop": 0.5,
          "time": 2
         },
         {
          "prop": 1,
          "time": 3
         },
         {
          "prop": 0.5,
          "time": 4
         },
         {
          "prop": 0.25,
          "time": 5
         },
         {
          "prop": 0.6,
          "time": 6
         },
         {
          "prop": 0.3333333333333333,
          "time": 7
         },
         {
          "prop": 0.4117647058823529,
          "time": 8
         },
         {
          "prop": 0.35,
          "time": 9
         },
         {
          "prop": 0.3333333333333333,
          "time": 10
         },
         {
          "prop": 0.38095238095238093,
          "time": 11
         },
         {
          "prop": 0.375,
          "time": 12
         },
         {
          "prop": 0.375,
          "time": 13
         },
         {
          "prop": 0.46153846153846156,
          "time": 14
         },
         {
          "prop": 0.41025641025641024,
          "time": 15
         },
         {
          "prop": 0.25287356321839083,
          "time": 16
         },
         {
          "prop": 0.32432432432432434,
          "time": 17
         },
         {
          "prop": 0.2692307692307692,
          "time": 18
         },
         {
          "prop": 0.19117647058823528,
          "time": 19
         },
         {
          "prop": 0.2857142857142857,
          "time": 20
         },
         {
          "prop": 0.1836734693877551,
          "time": 21
         },
         {
          "prop": 0.25,
          "time": 22
         },
         {
          "prop": 0.21212121212121213,
          "time": 23
         },
         {
          "prop": 0.2638888888888889,
          "time": 24
         },
         {
          "prop": 0.23529411764705882,
          "time": 25
         },
         {
          "prop": 0.28125,
          "time": 26
         },
         {
          "prop": 0.2903225806451613,
          "time": 27
         },
         {
          "prop": 0.3563218390804598,
          "time": 28
         },
         {
          "prop": 0.3125,
          "time": 29
         },
         {
          "prop": 0.30337078651685395,
          "time": 30
         },
         {
          "prop": 0.37349397590361444,
          "time": 31
         },
         {
          "prop": 0.3974358974358974,
          "time": 32
         },
         {
          "prop": 0.39316239316239315,
          "time": 33
         },
         {
          "prop": 0.3523809523809524,
          "time": 34
         },
         {
          "prop": 0.3111111111111111,
          "time": 35
         },
         {
          "prop": 0.3443708609271523,
          "time": 36
         },
         {
          "prop": 0.34,
          "time": 37
         },
         {
          "prop": 0.3693181818181818,
          "time": 38
         },
         {
          "prop": 0.37668161434977576,
          "time": 39
         },
         {
          "prop": 0.3488372093023256,
          "time": 40
         },
         {
          "prop": 0.38114754098360654,
          "time": 41
         },
         {
          "prop": 0.351931330472103,
          "time": 42
         },
         {
          "prop": 0.33725490196078434,
          "time": 43
         },
         {
          "prop": 0.348,
          "time": 44
         },
         {
          "prop": 0.33126934984520123,
          "time": 45
         },
         {
          "prop": 0.38557993730407525,
          "time": 46
         },
         {
          "prop": 0.3949771689497717,
          "time": 47
         },
         {
          "prop": 0.3672055427251732,
          "time": 48
         },
         {
          "prop": 0.3746898263027295,
          "time": 49
         },
         {
          "prop": 0.38596491228070173,
          "time": 50
         },
         {
          "prop": 0.417298937784522,
          "time": 51
         },
         {
          "prop": 0.39859154929577467,
          "time": 52
         },
         {
          "prop": 0.4113263785394933,
          "time": 53
         },
         {
          "prop": 0.3643533123028391,
          "time": 54
         },
         {
          "prop": 0.3185745140388769,
          "time": 55
         },
         {
          "prop": 0.4065359477124183,
          "time": 56
         },
         {
          "prop": 0.4274711168164313,
          "time": 57
         },
         {
          "prop": 0.4146341463414634,
          "time": 58
         },
         {
          "prop": 0.4274735830931796,
          "time": 59
         },
         {
          "prop": 0.41411042944785276,
          "time": 60
         },
         {
          "prop": 0.3868274582560297,
          "time": 61
         },
         {
          "prop": 0.38095238095238093,
          "time": 62
         },
         {
          "prop": 0.3890577507598784,
          "time": 63
         },
         {
          "prop": 0.4028497409326425,
          "time": 64
         },
         {
          "prop": 0.37516170763260026,
          "time": 65
         },
         {
          "prop": 0.34996919285274186,
          "time": 66
         },
         {
          "prop": 0.3695652173913043,
          "time": 67
         },
         {
          "prop": 0.3820724729815639,
          "time": 68
         },
         {
          "prop": 0.40147913365029053,
          "time": 69
         },
         {
          "prop": 0.4014457831325301,
          "time": 70
         },
         {
          "prop": 0.3940470901821413,
          "time": 71
         },
         {
          "prop": 0.380046403712297,
          "time": 72
         },
         {
          "prop": 0.3715,
          "time": 73
         },
         {
          "prop": 0.3684210526315789,
          "time": 74
         },
         {
          "prop": 0.38233310856372216,
          "time": 75
         },
         {
          "prop": 0.35655314757481943,
          "time": 76
         },
         {
          "prop": 0.32756756756756755,
          "time": 77
         },
         {
          "prop": 0.34924994717937885,
          "time": 78
         }
        ]
       },
       "encoding": {
        "x": {
         "field": "time",
         "title": "Months since October 2013",
         "type": "quantitative"
        },
        "y": {
         "field": "prop",
         "title": "Uses of Matplotlib",
         "type": "quantitative"
        }
       },
       "mark": {
        "color": "teal",
        "type": "line"
       },
       "title": "Matplotlib Use over Time"
      },
      "image/png": "[encoded data removed]",
      "text/plain": [
       "<VegaLite 3 object>\n",
       "\n",
       "If you see this message, it means the renderer has not been properly enabled\n",
       "for the frontend that you are using. For more information, see\n",
       "https://altair-viz.github.io/user_guide/troubleshooting.html\n"
      ]
     },
     "execution_count": 15,
     "metadata": {},
     "output_type": "execute_result"
    }
   ],
   "source": [
    "plot_vis_counts('matplotlib', prop = True)"
   ]
  },
  {
   "cell_type": "markdown",
   "metadata": {},
   "source": [
    "The proportion of notebooks that use matplotlib had high variation in early months, likely due to the small number of notebooks, but looks to have converged to ~35% as the sample size has increased and variability has gone down."
   ]
  },
  {
   "cell_type": "markdown",
   "metadata": {},
   "source": [
    "# How many visualizations are typical in a notebook?\n",
    "\n",
    "Plots are labeled in execute_result_keys as:\n",
    "- 'application/vnd.vegalite.v2+json', 'application/vnd.vegalite.v3+json' - for altair plots\n",
    "- 'image/png' - for matplotlib plots and seaborn plots"
   ]
  },
  {
   "cell_type": "code",
   "execution_count": 16,
   "metadata": {},
   "outputs": [],
   "source": [
    "def count_vis_lists(list_of_lists):\n",
    "    count = 0\n",
    "    for li in list_of_lists:\n",
    "        for l in li:\n",
    "            if l in ['application/vnd.vegalite.v2+json', 'application/vnd.vegalite.v3+json', 'image/png']:\n",
    "                count += 1\n",
    "    return count\n",
    "\n",
    "vis_by_file = cells.groupby('file')['execute_result_keys'].aggregate(count_vis_lists).reset_index().rename(columns = {'execute_result_keys':'num_vis'})"
   ]
  },
  {
   "cell_type": "code",
   "execution_count": 17,
   "metadata": {},
   "outputs": [
    {
     "name": "stdout",
     "output_type": "stream",
     "text": [
      "On average, there are 0.01 visualizations per notebook.\n",
      "On average, among notebooks that have visualizations, there are 2.95 visualizations per notebook.\n",
      "\n",
      "58712 notebooks have no visualizations.\n",
      "210 notebooks have at least one visualization.\n",
      "12 notebooks have at least ten visualizations.\n"
     ]
    }
   ],
   "source": [
    "avg = vis_by_file.num_vis.mean()\n",
    "print(\"On average, there are {0} visualizations per notebook.\".format(round(avg,2)))\n",
    "\n",
    "avg_within = vis_by_file[vis_by_file.num_vis > 0].num_vis.mean()\n",
    "print(\"On average, among notebooks that have visualizations, there are {0} visualizations per notebook.\".format(round(avg_within,2)))\n",
    "\n",
    "num_0 = sum(vis_by_file.num_vis == 0)\n",
    "print(\"\\n{0} notebooks have no visualizations.\".format(num_0))\n",
    "\n",
    "num_1 = sum(vis_by_file.num_vis >= 1)\n",
    "print(\"{0} notebooks have at least one visualization.\".format(num_1))\n",
    "\n",
    "num_10 = sum(vis_by_file.num_vis >= 10)\n",
    "print(\"{0} notebooks have at least ten visualizations.\".format(num_10))"
   ]
  },
  {
   "cell_type": "markdown",
   "metadata": {},
   "source": [
    "# How many visualizations are typical in a cell?\n",
    "For this section, I focus exlusively on matplotlib visualizations."
   ]
  },
  {
   "cell_type": "code",
   "execution_count": 18,
   "metadata": {},
   "outputs": [],
   "source": [
    "def count_vis(li, imports):\n",
    "    code = ' '.join(li)\n",
    "    \n",
    "    for im in imports:\n",
    "        if len(im) == 2 and im[1] != '':\n",
    "            code = code.replace(im[1], im[0])\n",
    "            \n",
    "    count = 0\n",
    "    if 'matplotlib.pyplot.subplots' in code:\n",
    "        count += code.count('matplotlib.pyplot.subplot(')\n",
    "        code = code.replace('matplotlib.pyplot.subplot(', '')\n",
    "    elif 'matplotlib.pyplot.show' in code:\n",
    "        count += code.count('matplotlib.pyplot.show(')\n",
    "        code = code.replace('matplotlib.pyplot.show(','')\n",
    "    else:\n",
    "        for p in plots:\n",
    "            if p in code:\n",
    "                count += code.count(p)\n",
    "                code = code.replace(p,'')\n",
    "\n",
    "    return count"
   ]
  },
  {
   "cell_type": "code",
   "execution_count": 19,
   "metadata": {},
   "outputs": [],
   "source": [
    "def combine_lists(lists):\n",
    "    li = []\n",
    "    for l in lists:\n",
    "        li += l\n",
    "    return li\n",
    "\n",
    "cells = cells.merge(\n",
    "    cells.groupby('file')['imports'].aggregate(combine_lists).reset_index().rename(columns={'imports':'nb_imports'}),\n",
    "    on = 'file'\n",
    ")"
   ]
  },
  {
   "cell_type": "code",
   "execution_count": 20,
   "metadata": {},
   "outputs": [],
   "source": [
    "vis_by_cell = pd.Series([count_vis(c.code, c.nb_imports) for _, c in cells.iterrows()])"
   ]
  },
  {
   "cell_type": "code",
   "execution_count": 21,
   "metadata": {},
   "outputs": [
    {
     "name": "stdout",
     "output_type": "stream",
     "text": [
      "On average, there are 0.02 matplotlib visualizations per cell.\n",
      "On average, among cells that have matplotlib visualizations, there are 1.2 visualizations per cell.\n",
      "\n",
      "1505277 cells have no matplotlib visualizations.\n",
      "24519 cells have at least one matplotlib visualization.\n",
      "189 cells have at least five matplotlib visualizations.\n"
     ]
    }
   ],
   "source": [
    "avg = vis_by_cell.mean()\n",
    "print(\"On average, there are {0} matplotlib visualizations per cell.\".format(round(avg,2)))\n",
    "\n",
    "avg_within = vis_by_cell[vis_by_cell > 0].mean()\n",
    "print(\"On average, among cells that have matplotlib visualizations, there are {0} visualizations per cell.\".format(round(avg_within,2)))\n",
    "\n",
    "num_0 = sum(vis_by_cell == 0)\n",
    "print(\"\\n{0} cells have no matplotlib visualizations.\".format(num_0))\n",
    "\n",
    "num_1 = sum(vis_by_cell >= 1)\n",
    "print(\"{0} cells have at least one matplotlib visualization.\".format(num_1))\n",
    "\n",
    "num_10 = sum(vis_by_cell >= 5)\n",
    "print(\"{0} cells have at least five matplotlib visualizations.\".format(num_10))"
   ]
  },
  {
   "cell_type": "markdown",
   "metadata": {},
   "source": [
    "<center> <a href = 5_Models.ipynb>ML Model Use &lt;</a> | <a href = 7_Time.ipynb>&gt; Time Spent</a> <center>"
   ]
  }
 ],
 "metadata": {
  "kernelspec": {
   "display_name": "Python 3",
   "language": "python",
   "name": "python3"
  },
  "language_info": {
   "codemirror_mode": {
    "name": "ipython",
    "version": 3
   },
   "file_extension": ".py",
   "mimetype": "text/x-python",
   "name": "python",
   "nbconvert_exporter": "python",
   "pygments_lexer": "ipython3",
   "version": "3.7.3"
  }
 },
 "nbformat": 4,
 "nbformat_minor": 4
}
