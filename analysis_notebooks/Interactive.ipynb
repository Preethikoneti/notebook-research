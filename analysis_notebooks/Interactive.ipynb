{
 "cells": [
  {
   "cell_type": "markdown",
   "metadata": {},
   "source": [
    "<center> <a href = Time.ipynb>Data Science Workflow &lt;</a> | <a href = HallOfFame.ipynb>&gt; Hall of Fame</a></center>"
   ]
  },
  {
   "cell_type": "markdown",
   "metadata": {},
   "source": [
    "# Exploring Subsets Interactively\n",
    "\n",
    "In this notebook you can select criteria for a subset to inspect and compare to the entire dataset.\n",
    "\n",
    "#### Instructions:\n",
    "1. Run Cell 1, wait for \"DONE IN &lt;time&gt;\" message before continuing.\n",
    "2. Run Cell 2, fill out criteria before continuing.\n",
    "3. Run Cell 3, view report.\n",
    "4. Repeat steps 2 and 3 with new criteria, if desired.\n",
    "\n",
    "#### Prerequisites:\n",
    "- four final CSV file local in `./data_final`\n",
    "- all aggregations created by `aggregate.py` local in `./analysis_data`\n",
    "- ipywidgets\n",
    "    - `pip install ipywidgets`\n",
    "- nodejs\n",
    "    - `conda install nodejs`\n",
    "- npm \n",
    "    - `pip install npm`\n",
    "- labextension\n",
    "    - for jupyter lab: `jupyter labextension install @jupyter-widgets/jupyterlab-manager)`\n",
    "    - for jupyter notebook: `notebook extension (jupyter nbextension enable --py widgetsnbextension`"
   ]
  },
  {
   "cell_type": "markdown",
   "metadata": {},
   "source": [
    "---"
   ]
  },
  {
   "cell_type": "markdown",
   "metadata": {},
   "source": [
    "## Run Cell 1\n",
    "**This takes about 10 minutes. Wait for \"DONE IN &lt;time&gt;\" message before continuing!**"
   ]
  },
  {
   "cell_type": "code",
   "execution_count": 1,
   "metadata": {},
   "outputs": [
    {
     "name": "stdout",
     "output_type": "stream",
     "text": [
      "Notebooks loaded in 0:00:24.846901\n",
      "Repos loaded in 0:00:04.234393\n",
      "Owners loaded in 0:00:00.613096\n",
      "Notebook imports loaded in 0:00:40.402695\n",
      "Errors loaded in 0:00:02.953865\n",
      "Cell stats loaded in 0:00:01.658813\n",
      "Cell order loaded in 0:00:26.470042\n",
      "Outputs loaded in 0:00:01.949563\n",
      "Statuses loaded in 0:00:01.080600\n",
      "Cell stats loaded in 0:00:01.935130\n",
      "Collaboration statuses loaded in 0:00:00.028222\n",
      "Special functions loaded in 0:00:11.965535\n",
      "Framework uses loaded in 0:00:08.903738\n",
      "Educational status loaded in 0:00:00.194457\n",
      "\n",
      "--------------------------------------------------------------------------------\n",
      "DONE IN 0:09:12.868796\n"
     ]
    }
   ],
   "source": [
    "import interactive\n",
    "import load_data\n",
    "import datetime\n",
    "from IPython.core.display import HTML\n",
    "\n",
    "# 10 minutes to load data\n",
    "start = datetime.datetime.now()\n",
    "data_frames = interactive.data()\n",
    "end = datetime.datetime.now()\n",
    "print('\\n'+'-'*80+'\\n'+'DONE IN {0}'.format(end - start))"
   ]
  },
  {
   "cell_type": "code",
   "execution_count": 8,
   "metadata": {},
   "outputs": [
    {
     "data": {
      "text/markdown": [
       "### Notebook Basics"
      ],
      "text/plain": [
       "<IPython.core.display.Markdown object>"
      ]
     },
     "metadata": {},
     "output_type": "display_data"
    },
    {
     "data": {
      "application/vnd.jupyter.widget-view+json": {
       "model_id": "49290e7d9ddd46a28271798b3871bb1c",
       "version_major": 2,
       "version_minor": 0
      },
      "text/plain": [
       "interactive(children=(RadioButtons(description='Date choice:', index=1, options=(('Created', 'created_at'), ('…"
      ]
     },
     "metadata": {},
     "output_type": "display_data"
    },
    {
     "data": {
      "application/vnd.jupyter.widget-view+json": {
       "model_id": "993817e6cab248a6b4a430296ae0ec6c",
       "version_major": 2,
       "version_minor": 0
      },
      "text/plain": [
       "interactive(children=(DatePicker(value=Timestamp('2011-10-24 03:59:11+0000', tz='UTC'), description='Start dat…"
      ]
     },
     "metadata": {},
     "output_type": "display_data"
    },
    {
     "data": {
      "application/vnd.jupyter.widget-view+json": {
       "model_id": "dea5a9637ca545daaaf36a7289dcee36",
       "version_major": 2,
       "version_minor": 0
      },
      "text/plain": [
       "interactive(children=(DatePicker(value=Timestamp('2019-07-14 23:59:31+0000', tz='UTC'), description='End date:…"
      ]
     },
     "metadata": {},
     "output_type": "display_data"
    },
    {
     "name": "stdout",
     "output_type": "stream",
     "text": [
      "\n"
     ]
    },
    {
     "data": {
      "text/markdown": [
       "### Collaboration"
      ],
      "text/plain": [
       "<IPython.core.display.Markdown object>"
      ]
     },
     "metadata": {},
     "output_type": "display_data"
    },
    {
     "data": {
      "application/vnd.jupyter.widget-view+json": {
       "model_id": "a29e7a9849124279b329031a7554896e",
       "version_major": 2,
       "version_minor": 0
      },
      "text/plain": [
       "interactive(children=(BoundedIntText(value=0, description='Minimum stargazers:', max=22831, style=DescriptionS…"
      ]
     },
     "metadata": {},
     "output_type": "display_data"
    },
    {
     "data": {
      "application/vnd.jupyter.widget-view+json": {
       "model_id": "41f727edb0ff467889ffcc8cb186a9f4",
       "version_major": 2,
       "version_minor": 0
      },
      "text/plain": [
       "interactive(children=(BoundedIntText(value=0, description='Minimum watchers:', max=22831, style=DescriptionSty…"
      ]
     },
     "metadata": {},
     "output_type": "display_data"
    },
    {
     "data": {
      "application/vnd.jupyter.widget-view+json": {
       "model_id": "ef1bd003e71b4cdea956cbf42cb093f2",
       "version_major": 2,
       "version_minor": 0
      },
      "text/plain": [
       "interactive(children=(BoundedIntText(value=0, description='Minimum forks:', max=17634, style=DescriptionStyle(…"
      ]
     },
     "metadata": {},
     "output_type": "display_data"
    },
    {
     "data": {
      "application/vnd.jupyter.widget-view+json": {
       "model_id": "c510936fffbf4c478e7d8ad849431cea",
       "version_major": 2,
       "version_minor": 0
      },
      "text/plain": [
       "interactive(children=(BoundedIntText(value=0, description='Minimum issues:', max=2003, style=DescriptionStyle(…"
      ]
     },
     "metadata": {},
     "output_type": "display_data"
    },
    {
     "name": "stdout",
     "output_type": "stream",
     "text": [
      "\n"
     ]
    },
    {
     "data": {
      "text/markdown": [
       "### Owners"
      ],
      "text/plain": [
       "<IPython.core.display.Markdown object>"
      ]
     },
     "metadata": {},
     "output_type": "display_data"
    },
    {
     "data": {
      "application/vnd.jupyter.widget-view+json": {
       "model_id": "ac7930361a374ccabe650bc1eeb34e29",
       "version_major": 2,
       "version_minor": 0
      },
      "text/plain": [
       "interactive(children=(Checkbox(value=True, description='Individual Users', style=DescriptionStyle(description_…"
      ]
     },
     "metadata": {},
     "output_type": "display_data"
    },
    {
     "data": {
      "application/vnd.jupyter.widget-view+json": {
       "model_id": "9c414c7ce86a482195288540055f588b",
       "version_major": 2,
       "version_minor": 0
      },
      "text/plain": [
       "interactive(children=(Checkbox(value=True, description='Organizations', style=DescriptionStyle(description_wid…"
      ]
     },
     "metadata": {},
     "output_type": "display_data"
    },
    {
     "data": {
      "application/vnd.jupyter.widget-view+json": {
       "model_id": "b21cd98c2f944b23b23f4a23807a0471",
       "version_major": 2,
       "version_minor": 0
      },
      "text/plain": [
       "interactive(children=(Checkbox(value=True, description='Educational Owners', style=DescriptionStyle(descriptio…"
      ]
     },
     "metadata": {},
     "output_type": "display_data"
    },
    {
     "data": {
      "application/vnd.jupyter.widget-view+json": {
       "model_id": "709558a386984309be15c408145e745b",
       "version_major": 2,
       "version_minor": 0
      },
      "text/plain": [
       "interactive(children=(Checkbox(value=True, description='Not Educational Owners', style=DescriptionStyle(descri…"
      ]
     },
     "metadata": {},
     "output_type": "display_data"
    },
    {
     "name": "stdout",
     "output_type": "stream",
     "text": [
      "\n"
     ]
    },
    {
     "data": {
      "text/markdown": [
       "### Uses"
      ],
      "text/plain": [
       "<IPython.core.display.Markdown object>"
      ]
     },
     "metadata": {},
     "output_type": "display_data"
    },
    {
     "data": {
      "application/vnd.jupyter.widget-view+json": {
       "model_id": "17210d1f0ba94f22b287e20056ab5ee5",
       "version_major": 2,
       "version_minor": 0
      },
      "text/plain": [
       "interactive(children=(Checkbox(value=False, description='Uses AWS?', style=DescriptionStyle(description_width=…"
      ]
     },
     "metadata": {},
     "output_type": "display_data"
    },
    {
     "data": {
      "application/vnd.jupyter.widget-view+json": {
       "model_id": "9220d3a5b92242f0a75da5a710609d89",
       "version_major": 2,
       "version_minor": 0
      },
      "text/plain": [
       "interactive(children=(Checkbox(value=False, description='Uses a Machine Learning Framework?', style=Descriptio…"
      ]
     },
     "metadata": {},
     "output_type": "display_data"
    },
    {
     "data": {
      "application/vnd.jupyter.widget-view+json": {
       "model_id": "d5f6a1d2fa1e4a5d9e2c7f85eaf00f45",
       "version_major": 2,
       "version_minor": 0
      },
      "text/plain": [
       "interactive(children=(Checkbox(value=False, description='Uses a Visualization Package?', style=DescriptionStyl…"
      ]
     },
     "metadata": {},
     "output_type": "display_data"
    },
    {
     "name": "stdout",
     "output_type": "stream",
     "text": [
      "\n"
     ]
    },
    {
     "data": {
      "text/markdown": [
       "### Platforms"
      ],
      "text/plain": [
       "<IPython.core.display.Markdown object>"
      ]
     },
     "metadata": {},
     "output_type": "display_data"
    },
    {
     "data": {
      "application/vnd.jupyter.widget-view+json": {
       "model_id": "046a1e305fc041189b32ba2de1d58ddd",
       "version_major": 2,
       "version_minor": 0
      },
      "text/plain": [
       "interactive(children=(Checkbox(value=False, description='Google Colaboratory', style=DescriptionStyle(descript…"
      ]
     },
     "metadata": {},
     "output_type": "display_data"
    },
    {
     "name": "stdout",
     "output_type": "stream",
     "text": [
      "\n"
     ]
    }
   ],
   "source": [
    "query = interactive.interactive(data_frames)"
   ]
  },
  {
   "cell_type": "markdown",
   "metadata": {},
   "source": [
    "## Run Cell 3\n",
    "**This takes about 1 minute. View report! Repeat Cells 2 and 3 with different criteria.**"
   ]
  },
  {
   "cell_type": "code",
   "execution_count": 9,
   "metadata": {},
   "outputs": [
    {
     "name": "stdout",
     "output_type": "stream",
     "text": [
      "Subsetting to Python notebooks pushed between 2011-10-24 and 2019-07-14.\n",
      "Only looking at notebooks made using Google Colaboratory.\n",
      "132,162 (3.4%) notebooks fit your criteria.\n",
      "\n",
      "-------------------------------------------------------------------------\n",
      "\n",
      "\n"
     ]
    },
    {
     "data": {
      "text/markdown": [
       "### Summary Statistics"
      ],
      "text/plain": [
       "<IPython.core.display.Markdown object>"
      ]
     },
     "metadata": {},
     "output_type": "display_data"
    },
    {
     "data": {
      "text/html": [
       "<div>\n",
       "<style scoped>\n",
       "    .dataframe tbody tr th:only-of-type {\n",
       "        vertical-align: middle;\n",
       "    }\n",
       "\n",
       "    .dataframe tbody tr th {\n",
       "        vertical-align: top;\n",
       "    }\n",
       "\n",
       "    .dataframe thead th {\n",
       "        text-align: right;\n",
       "    }\n",
       "</style>\n",
       "<table border=\"1\" class=\"dataframe\">\n",
       "  <thead>\n",
       "    <tr style=\"text-align: right;\">\n",
       "      <th></th>\n",
       "      <th>num_cells</th>\n",
       "      <th>forks_count</th>\n",
       "      <th>open_issues_count</th>\n",
       "      <th>stargazers_count</th>\n",
       "      <th>subscribers_count</th>\n",
       "      <th>watchers_count</th>\n",
       "      <th>lines_of_code</th>\n",
       "      <th>num_words</th>\n",
       "    </tr>\n",
       "  </thead>\n",
       "  <tbody>\n",
       "    <tr>\n",
       "      <th>mean</th>\n",
       "      <td>31.95</td>\n",
       "      <td>6.6</td>\n",
       "      <td>0.24</td>\n",
       "      <td>11.68</td>\n",
       "      <td>1.51</td>\n",
       "      <td>11.68</td>\n",
       "      <td>198.81</td>\n",
       "      <td>379.86</td>\n",
       "    </tr>\n",
       "    <tr>\n",
       "      <th>median</th>\n",
       "      <td>23.00</td>\n",
       "      <td>0.0</td>\n",
       "      <td>0.00</td>\n",
       "      <td>0.00</td>\n",
       "      <td>0.00</td>\n",
       "      <td>0.00</td>\n",
       "      <td>133.00</td>\n",
       "      <td>70.00</td>\n",
       "    </tr>\n",
       "    <tr>\n",
       "      <th>min</th>\n",
       "      <td>0.00</td>\n",
       "      <td>0.0</td>\n",
       "      <td>0.00</td>\n",
       "      <td>0.00</td>\n",
       "      <td>0.00</td>\n",
       "      <td>0.00</td>\n",
       "      <td>1.00</td>\n",
       "      <td>0.00</td>\n",
       "    </tr>\n",
       "    <tr>\n",
       "      <th>max</th>\n",
       "      <td>1641.00</td>\n",
       "      <td>5874.0</td>\n",
       "      <td>427.00</td>\n",
       "      <td>18627.00</td>\n",
       "      <td>1375.00</td>\n",
       "      <td>18627.00</td>\n",
       "      <td>37455.00</td>\n",
       "      <td>25923.00</td>\n",
       "    </tr>\n",
       "  </tbody>\n",
       "</table>\n",
       "</div>"
      ],
      "text/plain": [
       "        num_cells  forks_count  open_issues_count  stargazers_count  \\\n",
       "mean        31.95          6.6               0.24             11.68   \n",
       "median      23.00          0.0               0.00              0.00   \n",
       "min          0.00          0.0               0.00              0.00   \n",
       "max       1641.00       5874.0             427.00          18627.00   \n",
       "\n",
       "        subscribers_count  watchers_count  lines_of_code  num_words  \n",
       "mean                 1.51           11.68         198.81     379.86  \n",
       "median               0.00            0.00         133.00      70.00  \n",
       "min                  0.00            0.00           1.00       0.00  \n",
       "max               1375.00        18627.00       37455.00   25923.00  "
      ]
     },
     "metadata": {},
     "output_type": "display_data"
    },
    {
     "data": {
      "text/markdown": [
       "##### Compare to all:"
      ],
      "text/plain": [
       "<IPython.core.display.Markdown object>"
      ]
     },
     "metadata": {},
     "output_type": "display_data"
    },
    {
     "data": {
      "text/html": [
       "<div>\n",
       "<style scoped>\n",
       "    .dataframe tbody tr th:only-of-type {\n",
       "        vertical-align: middle;\n",
       "    }\n",
       "\n",
       "    .dataframe tbody tr th {\n",
       "        vertical-align: top;\n",
       "    }\n",
       "\n",
       "    .dataframe thead th {\n",
       "        text-align: right;\n",
       "    }\n",
       "</style>\n",
       "<table border=\"1\" class=\"dataframe\">\n",
       "  <thead>\n",
       "    <tr style=\"text-align: right;\">\n",
       "      <th></th>\n",
       "      <th>num_cells</th>\n",
       "      <th>forks_count</th>\n",
       "      <th>open_issues_count</th>\n",
       "      <th>stargazers_count</th>\n",
       "      <th>subscribers_count</th>\n",
       "      <th>watchers_count</th>\n",
       "      <th>lines_of_code</th>\n",
       "      <th>num_words</th>\n",
       "    </tr>\n",
       "  </thead>\n",
       "  <tbody>\n",
       "    <tr>\n",
       "      <th>mean</th>\n",
       "      <td>28.76</td>\n",
       "      <td>5.56</td>\n",
       "      <td>0.49</td>\n",
       "      <td>9.88</td>\n",
       "      <td>2.13</td>\n",
       "      <td>9.88</td>\n",
       "      <td>147.26</td>\n",
       "      <td>405.18</td>\n",
       "    </tr>\n",
       "    <tr>\n",
       "      <th>median</th>\n",
       "      <td>19.00</td>\n",
       "      <td>0.00</td>\n",
       "      <td>0.00</td>\n",
       "      <td>0.00</td>\n",
       "      <td>1.00</td>\n",
       "      <td>0.00</td>\n",
       "      <td>88.00</td>\n",
       "      <td>60.00</td>\n",
       "    </tr>\n",
       "    <tr>\n",
       "      <th>min</th>\n",
       "      <td>0.00</td>\n",
       "      <td>0.00</td>\n",
       "      <td>0.00</td>\n",
       "      <td>0.00</td>\n",
       "      <td>0.00</td>\n",
       "      <td>0.00</td>\n",
       "      <td>1.00</td>\n",
       "      <td>0.00</td>\n",
       "    </tr>\n",
       "    <tr>\n",
       "      <th>max</th>\n",
       "      <td>1641.00</td>\n",
       "      <td>17634.00</td>\n",
       "      <td>2003.00</td>\n",
       "      <td>22831.00</td>\n",
       "      <td>2446.00</td>\n",
       "      <td>22831.00</td>\n",
       "      <td>462118.00</td>\n",
       "      <td>200404.00</td>\n",
       "    </tr>\n",
       "  </tbody>\n",
       "</table>\n",
       "</div>"
      ],
      "text/plain": [
       "        num_cells  forks_count  open_issues_count  stargazers_count  \\\n",
       "mean        28.76         5.56               0.49              9.88   \n",
       "median      19.00         0.00               0.00              0.00   \n",
       "min          0.00         0.00               0.00              0.00   \n",
       "max       1641.00     17634.00            2003.00          22831.00   \n",
       "\n",
       "        subscribers_count  watchers_count  lines_of_code  num_words  \n",
       "mean                 2.13            9.88         147.26     405.18  \n",
       "median               1.00            0.00          88.00      60.00  \n",
       "min                  0.00            0.00           1.00       0.00  \n",
       "max               2446.00        22831.00      462118.00  200404.00  "
      ]
     },
     "metadata": {},
     "output_type": "display_data"
    },
    {
     "data": {
      "text/markdown": [
       "### Package Use"
      ],
      "text/plain": [
       "<IPython.core.display.Markdown object>"
      ]
     },
     "metadata": {},
     "output_type": "display_data"
    },
    {
     "data": {
      "image/png": "[encoded data removed]",
      "text/plain": [
       "<Figure size 1008x288 with 2 Axes>"
      ]
     },
     "metadata": {
      "needs_background": "light"
     },
     "output_type": "display_data"
    },
    {
     "name": "stdout",
     "output_type": "stream",
     "text": [
      "\n"
     ]
    },
    {
     "data": {
      "text/markdown": [
       "### Framework Use"
      ],
      "text/plain": [
       "<IPython.core.display.Markdown object>"
      ]
     },
     "metadata": {},
     "output_type": "display_data"
    },
    {
     "name": "stdout",
     "output_type": "stream",
     "text": [
      "67.95% of these notebooks use at least one framework.\n"
     ]
    },
    {
     "data": {
      "text/markdown": [
       "##### Compare to all:"
      ],
      "text/plain": [
       "<IPython.core.display.Markdown object>"
      ]
     },
     "metadata": {},
     "output_type": "display_data"
    },
    {
     "name": "stdout",
     "output_type": "stream",
     "text": [
      "35.48% of all notebooks use at least one framework.\n"
     ]
    },
    {
     "data": {
      "image/png": "[encoded data removed]",
      "text/plain": [
       "<Figure size 1008x288 with 2 Axes>"
      ]
     },
     "metadata": {
      "needs_background": "light"
     },
     "output_type": "display_data"
    },
    {
     "name": "stdout",
     "output_type": "stream",
     "text": [
      "\n"
     ]
    },
    {
     "data": {
      "text/markdown": [
       "### Visualization Package Use"
      ],
      "text/plain": [
       "<IPython.core.display.Markdown object>"
      ]
     },
     "metadata": {},
     "output_type": "display_data"
    },
    {
     "name": "stdout",
     "output_type": "stream",
     "text": [
      "59.7% of these notebooks use at least one visualization package.\n"
     ]
    },
    {
     "data": {
      "text/markdown": [
       "##### Compare to all:"
      ],
      "text/plain": [
       "<IPython.core.display.Markdown object>"
      ]
     },
     "metadata": {},
     "output_type": "display_data"
    },
    {
     "name": "stdout",
     "output_type": "stream",
     "text": [
      "50.71% of all notebooks use at least one visualization package.\n"
     ]
    },
    {
     "data": {
      "image/png": "[encoded data removed]",
      "text/plain": [
       "<Figure size 1008x288 with 2 Axes>"
      ]
     },
     "metadata": {
      "needs_background": "light"
     },
     "output_type": "display_data"
    },
    {
     "name": "stdout",
     "output_type": "stream",
     "text": [
      "\n"
     ]
    },
    {
     "data": {
      "text/markdown": [
       "### AWS Package Use"
      ],
      "text/plain": [
       "<IPython.core.display.Markdown object>"
      ]
     },
     "metadata": {},
     "output_type": "display_data"
    },
    {
     "name": "stdout",
     "output_type": "stream",
     "text": [
      "\n",
      "0.253% of these notebooks import at least one of sagemaker, boto, or mxnet.\n"
     ]
    },
    {
     "data": {
      "text/markdown": [
       "##### Compare to all:"
      ],
      "text/plain": [
       "<IPython.core.display.Markdown object>"
      ]
     },
     "metadata": {},
     "output_type": "display_data"
    },
    {
     "name": "stdout",
     "output_type": "stream",
     "text": [
      "\n",
      "0.493% of all notebooks import at least one of sagemaker, boto, or mxnet.\n"
     ]
    },
    {
     "data": {
      "image/png": "[encoded data removed]",
      "text/plain": [
       "<Figure size 1008x288 with 2 Axes>"
      ]
     },
     "metadata": {
      "needs_background": "light"
     },
     "output_type": "display_data"
    },
    {
     "name": "stdout",
     "output_type": "stream",
     "text": [
      "\n"
     ]
    },
    {
     "data": {
      "text/markdown": [
       "### Number of Errors per Notebook"
      ],
      "text/plain": [
       "<IPython.core.display.Markdown object>"
      ]
     },
     "metadata": {},
     "output_type": "display_data"
    },
    {
     "data": {
      "text/plain": [
       "mean       0.19\n",
       "median     0.00\n",
       "min        0.00\n",
       "max       52.00\n",
       "Name: num_errors, dtype: float64"
      ]
     },
     "metadata": {},
     "output_type": "display_data"
    },
    {
     "data": {
      "text/markdown": [
       "##### Compare to all:"
      ],
      "text/plain": [
       "<IPython.core.display.Markdown object>"
      ]
     },
     "metadata": {},
     "output_type": "display_data"
    },
    {
     "data": {
      "text/plain": [
       "mean         0.22\n",
       "median       0.00\n",
       "min          0.00\n",
       "max       9104.00\n",
       "Name: num_errors, dtype: float64"
      ]
     },
     "metadata": {},
     "output_type": "display_data"
    },
    {
     "name": "stdout",
     "output_type": "stream",
     "text": [
      "\n"
     ]
    },
    {
     "data": {
      "text/markdown": [
       "### Ratio of Markdown to Code"
      ],
      "text/plain": [
       "<IPython.core.display.Markdown object>"
      ]
     },
     "metadata": {},
     "output_type": "display_data"
    },
    {
     "data": {
      "text/plain": [
       "mean         4.74\n",
       "median       0.66\n",
       "min          0.00\n",
       "max       8400.00\n",
       "Name: ratio_wl, dtype: float64"
      ]
     },
     "metadata": {},
     "output_type": "display_data"
    },
    {
     "data": {
      "text/markdown": [
       "##### Compare to all:"
      ],
      "text/plain": [
       "<IPython.core.display.Markdown object>"
      ]
     },
     "metadata": {},
     "output_type": "display_data"
    },
    {
     "data": {
      "text/plain": [
       "mean          6.45\n",
       "median        0.69\n",
       "min           0.00\n",
       "max       18029.00\n",
       "Name: ratio_wl, dtype: float64"
      ]
     },
     "metadata": {},
     "output_type": "display_data"
    },
    {
     "name": "stdout",
     "output_type": "stream",
     "text": [
      "\n"
     ]
    },
    {
     "data": {
      "text/markdown": [
       "### Execution Order"
      ],
      "text/plain": [
       "<IPython.core.display.Markdown object>"
      ]
     },
     "metadata": {},
     "output_type": "display_data"
    },
    {
     "name": "stdout",
     "output_type": "stream",
     "text": [
      "57.86% of these notebooks have cells run in order.\n",
      "84.85% of these notebooks have at least one output, 50.48% of which are run in order.\n",
      "\n",
      "80.81% of these notebooks were able to be parsed with Python AST.\n",
      "Of these, 15.55% had a function used before it was defined, 2.59% had a package used before it was imported, and 5.1% used a variable before it was defined.\n"
     ]
    },
    {
     "data": {
      "text/markdown": [
       "##### Compare to all:"
      ],
      "text/plain": [
       "<IPython.core.display.Markdown object>"
      ]
     },
     "metadata": {},
     "output_type": "display_data"
    },
    {
     "name": "stdout",
     "output_type": "stream",
     "text": [
      "74.92% of all notebooks have cells run in order.\n",
      "84.4% of all notebooks have at least one output, 70.58% of which are run in order.\n",
      "\n",
      "86.41% of all notebooks were able to be parsed with Python AST.\n",
      "Of these, 13.0% had a function used before it was defined, 1.8% had a package used before it was imported, and 4.76% used a variable before it was defined.\n"
     ]
    },
    {
     "data": {
      "image/png": "[encoded data removed]",
      "text/plain": [
       "<Figure size 1008x288 with 2 Axes>"
      ]
     },
     "metadata": {
      "needs_background": "light"
     },
     "output_type": "display_data"
    },
    {
     "name": "stdout",
     "output_type": "stream",
     "text": [
      "\n"
     ]
    },
    {
     "data": {
      "text/markdown": [
       "### Collaboration"
      ],
      "text/plain": [
       "<IPython.core.display.Markdown object>"
      ]
     },
     "metadata": {},
     "output_type": "display_data"
    },
    {
     "name": "stdout",
     "output_type": "stream",
     "text": [
      "13.08% of these repositories are collaborative, containing 17.56% of these notebooks.\n"
     ]
    },
    {
     "data": {
      "text/markdown": [
       "##### Compare to all:"
      ],
      "text/plain": [
       "<IPython.core.display.Markdown object>"
      ]
     },
     "metadata": {},
     "output_type": "display_data"
    },
    {
     "name": "stdout",
     "output_type": "stream",
     "text": [
      "16.85% of all repositories are collaborative, containing 22.76% of all notebooks.\n"
     ]
    },
    {
     "data": {
      "image/png": "[encoded data removed]",
      "text/plain": [
       "<Figure size 1008x288 with 2 Axes>"
      ]
     },
     "metadata": {
      "needs_background": "light"
     },
     "output_type": "display_data"
    },
    {
     "name": "stdout",
     "output_type": "stream",
     "text": [
      "\n"
     ]
    },
    {
     "data": {
      "text/markdown": [
       "### Educational Status"
      ],
      "text/plain": [
       "<IPython.core.display.Markdown object>"
      ]
     },
     "metadata": {},
     "output_type": "display_data"
    },
    {
     "name": "stdout",
     "output_type": "stream",
     "text": [
      "22.15% of these repos are educational, holding 26.26% of these notebooks\n"
     ]
    },
    {
     "data": {
      "text/markdown": [
       "##### Compare to all:"
      ],
      "text/plain": [
       "<IPython.core.display.Markdown object>"
      ]
     },
     "metadata": {},
     "output_type": "display_data"
    },
    {
     "name": "stdout",
     "output_type": "stream",
     "text": [
      "23.67% of all repos are educational, holding 29.21% of all notebooks\n"
     ]
    }
   ],
   "source": [
    "data_frames_sub = interactive.subset(data_frames, query)\n",
    "print('\\n'+'-'*73+'\\n')\n",
    "interactive.report_comparisons(data_frames_sub, data_frames)"
   ]
  },
  {
   "cell_type": "markdown",
   "metadata": {},
   "source": [
    "<center> <a href = Time.ipynb>Data Science Workflow &lt;</a> | <a href = HallOfFame.ipynb>&gt; Hall of Fame</a></center>"
   ]
  },
  {
   "cell_type": "markdown",
   "metadata": {},
   "source": [
    " "
   ]
  }
 ],
 "metadata": {
  "kernelspec": {
   "display_name": "Python 3",
   "language": "python",
   "name": "python3"
  },
  "language_info": {
   "codemirror_mode": {
    "name": "ipython",
    "version": 3
   },
   "file_extension": ".py",
   "mimetype": "text/x-python",
   "name": "python",
   "nbconvert_exporter": "python",
   "pygments_lexer": "ipython3",
   "version": "3.5.5"
  }
 },
 "nbformat": 4,
 "nbformat_minor": 2
}
