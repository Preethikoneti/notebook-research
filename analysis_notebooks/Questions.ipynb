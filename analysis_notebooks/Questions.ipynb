{
 "cells": [
  {
   "cell_type": "markdown",
   "metadata": {
    "toc-hr-collapsed": false
   },
   "source": [
    "# Public GitHub Notebook Corpus Research Collaboration"
   ]
  },
  {
   "cell_type": "markdown",
   "metadata": {},
   "source": [
    "## Project Description\n",
    "As an extension of work done by [Rule et al.](https://blog.jupyter.org/we-analyzed-1-million-jupyter-notebooks-now-you-can-too-guest-post-8116a964b536) in 2017, the goal of this project is to collect and analyze all public Jupyter Notebooks on GitHub ([~1 million in 2017](https://library.ucsd.edu/dc/collection/bb6931851t), [now nearly 5 million](https://github.com/parente/nbestimate/blob/master/estimate.ipynb)). This analysis will help designers, developers, and researchers in the Jupyter community quantitatively assess how people use notebooks, with an emphasis on applications in data science, machine learning, and information visualization. This GitHub repository holds the scripts used to search, download, and process notebooks from GitHub, the resulting CSV data files, and the set of notebooks used to analyze the corpus. Given the number and size of notebooks on GitHub, we expect these corpus notebooks to be stored in a separate repository optimized for data storage.\n",
    "\n",
    "The results of this research can complement qualitative user studies and inform challenging UX questions to focus development on real user needs. This understanding of notebook applications is crucial to user-centered design. Because many of the notebooks hosted publicly on GitHub are created as part of educational endeavours such as online and in-person courses, these insights may be particularly valuable for the Jupyter education community."
   ]
  },
  {
   "cell_type": "markdown",
   "metadata": {},
   "source": [
    "## Questions Addressed in this Research\n",
    "\n",
    "1. [How has the popularity of Jupyter changed over time?](1_Popularity.ipynb)\n",
    "2. [What programming languages are people using and how has this changed over time?](2_Languages.ipynb)\n",
    "3. [What Machine Learning/Data Science frameworks are people using and how has this changed over time?](3_Frameworks.ipynb)\n",
    "4. [What other Python packages (e.g. numpy, pandas) are people using and how is that usage related to the machine learning framework choice?](4_Packages.ipynb)\n",
    "5. [What types of machine learning models are people using?](5_Models.ipynb)\n",
    "6. [What visualization packages are people using and what kinds of visualizations are they creating with them?](6_Visualizations.ipynb)\n",
    "7. [What steps of analysis are users devoting the most code to (e.g. data manipulation, visualization, modeling)?](7_Time.ipynb)\n",
    "8. [What are they struggling the most with?](8_Struggles.ipynb)\n",
    "9. [What can we learn about API design for data science?](9_APIs.ipynb)"
   ]
  },
  {
   "cell_type": "markdown",
   "metadata": {},
   "source": [
    "## Collaboration\n",
    "\n",
    "The initial collaboration will involve several individuals and institutions:\n",
    "- Adam Rule: The original author of the work, and currently a postdoc at OHSU.\n",
    "- Jenna Landy: An AWS summer data science intern and contributor to Project Jupyter.\n",
    "- Markelle Kelly: A Project Jupyter software engineering and data science intern.\n",
    "- Brian Granger: An AWS Principal TPM and co-founder of Project Jupyter.\n",
    "- Tim George: The UX Designer/Research for Project Jupyter.\n",
    "- The broader Jupyter open source community. There is an emerging community of HCI and researchers in Jupyter's open source community that we will engage with.\n"
   ]
  },
  {
   "cell_type": "markdown",
   "metadata": {},
   "source": [
    "<center>| &gt; <a href = 1_Popularity.ipynb>Notebook Popularity</a><center>"
   ]
  }
 ],
 "metadata": {
  "kernelspec": {
   "display_name": "Python 3",
   "language": "python",
   "name": "python3"
  },
  "language_info": {
   "codemirror_mode": {
    "name": "ipython",
    "version": 3
   },
   "file_extension": ".py",
   "mimetype": "text/x-python",
   "name": "python",
   "nbconvert_exporter": "python",
   "pygments_lexer": "ipython3",
   "version": "3.7.3"
  },
  "toc-autonumbering": false,
  "toc-showcode": false,
  "toc-showmarkdowntxt": false
 },
 "nbformat": 4,
 "nbformat_minor": 4
}
