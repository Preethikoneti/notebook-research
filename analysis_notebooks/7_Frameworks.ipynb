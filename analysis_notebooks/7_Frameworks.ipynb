{
 "cells": [
  {
   "cell_type": "markdown",
   "metadata": {},
   "source": [
    "[Python Package Use &lt;](6_Packages.ipynb) | [&gt; ML Model Use](8_Models.ipynb)"
   ]
  },
  {
   "cell_type": "markdown",
   "metadata": {},
   "source": [
    "# What ML/DL frameworks are people using and what is their growth?"
   ]
  },
  {
   "cell_type": "markdown",
   "metadata": {},
   "source": [
    "## Results Summary:\n",
    "- The most frequent framework imported is sklearn. Much less frequently imported are tensorflow and keras. Theano, mxnet, caffe, cntk, and pytorch are used extremely rarely.\n",
    "- Over time, Sklearn has consistently been in the lead, though it did have a small dip in popularity in 2014 and 2015. Conversely, the popularity of tensorflow grew during these years (though never to the level of Sklearn). Popularities have stayed stable since 2016, with sklearn being used in approximately 24% of notebooks, both tensorflow and keras used in 6-8% of notebooks, and torch around 2%. Theano and mxnet hover around 1%. Caffee, cntk, and pytorch are very close to 0%.\n",
    "- While Sklearn is the most frequent framework in Jupyter Notebooks, Tensorflow is the most frequent across all of GitHub.\n",
    "- Theano and Keras tend to be imported into the same notebooks, though both are very infrequent.\n",
    "- Model selection and Metrics are the most frequently imported modules from scikit learn. Model selection is most frequently used for train test split, cross validation score, and grid search with cross validation. Metrics is frequently used for accuracy score, confusion matrix, classification report, mse, f1, and area under the roc curve.\n",
    "- The most frequent imports from Keras are 'Models' and 'Layers'. Further, 'Sequential' is by far the most frequent import from keras.models and 'Dense' is the most frequent import from keras.layers.\n",
    "--------"
   ]
  },
  {
   "cell_type": "markdown",
   "metadata": {},
   "source": [
    "# Import Packages & Load Data"
   ]
  },
  {
   "cell_type": "code",
   "execution_count": 1,
   "metadata": {
    "collapsed": false,
    "jupyter": {
     "outputs_hidden": false
    }
   },
   "outputs": [],
   "source": [
    "import pandas as pd\n",
    "import numpy as np\n",
    "import matplotlib.pyplot as plt\n",
    "import math\n",
    "import scipy.stats as st\n",
    "\n",
    "import load_data\n",
    "import datetime\n",
    "import pickle\n"
   ]
  },
  {
   "cell_type": "code",
   "execution_count": 2,
   "metadata": {},
   "outputs": [
    {
     "name": "stdout",
     "output_type": "stream",
     "text": [
      "Notebooks loaded in 0:00:27.327023\n",
      "Repos loaded in 0:00:04.749918\n",
      "Notebook imports loaded in 0:00:40.469458\n",
      "Educational status loaded in 0:00:00.005360\n"
     ]
    }
   ],
   "source": [
    "notebooks_temp = load_data.load_notebooks()\n",
    "repos_temp = load_data.load_repos()\n",
    "nb_imports_df_temp = load_data.load_nb_imports()\n",
    "edu_status_df_temp = load_data.load_edu_status()"
   ]
  },
  {
   "cell_type": "markdown",
   "metadata": {},
   "source": [
    "---\n",
    "# Clean Data"
   ]
  },
  {
   "cell_type": "markdown",
   "metadata": {},
   "source": [
    "### Only looking at Python notebooks"
   ]
  },
  {
   "cell_type": "code",
   "execution_count": 3,
   "metadata": {},
   "outputs": [],
   "source": [
    "notebooks = notebooks_temp.copy()[notebooks_temp.lang_name == 'python'].reset_index(drop=True)"
   ]
  },
  {
   "cell_type": "code",
   "execution_count": 4,
   "metadata": {},
   "outputs": [
    {
     "name": "stdout",
     "output_type": "stream",
     "text": [
      "4403851 (95.95%) of notebooks were written in Python. The remaining 4.05% have been removed.\n"
     ]
    }
   ],
   "source": [
    "print(\"{0} ({1}%) of notebooks were written in Python. The remaining {2}% have been removed.\".format(\n",
    "    len(notebooks),\n",
    "    round(100*len(notebooks)/len(notebooks_temp), 2),\n",
    "    round(100 - 100*len(notebooks)/len(notebooks_temp), 2)\n",
    "))"
   ]
  },
  {
   "cell_type": "markdown",
   "metadata": {},
   "source": [
    "### Update repos and aggregated dataframe to reflect notebooks in question"
   ]
  },
  {
   "cell_type": "code",
   "execution_count": 5,
   "metadata": {},
   "outputs": [],
   "source": [
    "repos = repos_temp.copy()[repos_temp.repo_id.isin(notebooks.repo_id)].reset_index(drop=True)\n",
    "nb_imports_df = nb_imports_df_temp.copy()[nb_imports_df_temp.file.isin(notebooks.file)].reset_index(drop=True)\n",
    "edu_status_df = edu_status_df_temp.copy()[edu_status_df_temp.repo_id.isin(notebooks.repo_id)].reset_index(drop=True)"
   ]
  },
  {
   "cell_type": "markdown",
   "metadata": {},
   "source": [
    "### Delete temp dataframes to save space"
   ]
  },
  {
   "cell_type": "code",
   "execution_count": 6,
   "metadata": {},
   "outputs": [],
   "source": [
    "del notebooks_temp\n",
    "del repos_temp\n",
    "del nb_imports_df_temp\n",
    "del edu_status_df_temp"
   ]
  },
  {
   "cell_type": "markdown",
   "metadata": {},
   "source": [
    "---\n",
    "# Manipulate Data"
   ]
  },
  {
   "cell_type": "markdown",
   "metadata": {},
   "source": [
    "### Framework popularities"
   ]
  },
  {
   "cell_type": "code",
   "execution_count": 7,
   "metadata": {},
   "outputs": [],
   "source": [
    "frameworks = ['tensorflow', 'sklearn', \n",
    "              'keras', 'theano', 'mxnet', \n",
    "              'caffe', 'pytorch', 'cntk', 'torch']"
   ]
  },
  {
   "cell_type": "code",
   "execution_count": 8,
   "metadata": {},
   "outputs": [
    {
     "name": "stdout",
     "output_type": "stream",
     "text": [
      "0:00:19.162224\n"
     ]
    }
   ],
   "source": [
    "# 17 seconds\n",
    "start = datetime.datetime.now()\n",
    "\n",
    "all_imports = []\n",
    "for im in nb_imports_df.imports:\n",
    "    all_imports += list(set([i[0].split('.')[0] for i in im]))\n",
    "    \n",
    "end = datetime.datetime.now()\n",
    "print(end - start) "
   ]
  },
  {
   "cell_type": "code",
   "execution_count": 9,
   "metadata": {},
   "outputs": [
    {
     "name": "stdout",
     "output_type": "stream",
     "text": [
      "0:00:03.285432\n"
     ]
    }
   ],
   "source": [
    "# 5 seconds\n",
    "start = datetime.datetime.now()\n",
    "\n",
    "framework_imports = pd.Series(all_imports)[\n",
    "    pd.Series(all_imports).isin(frameworks)\n",
    "]\n",
    "framework_counts = framework_imports.value_counts().reset_index().rename(columns={'index':'Framework',0:'count'})\n",
    "framework_counts['prop'] = framework_counts['count']/len(nb_imports_df)\n",
    "\n",
    "end = datetime.datetime.now()\n",
    "print(end - start)\n"
   ]
  },
  {
   "cell_type": "code",
   "execution_count": 10,
   "metadata": {},
   "outputs": [
    {
     "data": {
      "text/html": [
       "<div>\n",
       "<style scoped>\n",
       "    .dataframe tbody tr th:only-of-type {\n",
       "        vertical-align: middle;\n",
       "    }\n",
       "\n",
       "    .dataframe tbody tr th {\n",
       "        vertical-align: top;\n",
       "    }\n",
       "\n",
       "    .dataframe thead th {\n",
       "        text-align: right;\n",
       "    }\n",
       "</style>\n",
       "<table border=\"1\" class=\"dataframe\">\n",
       "  <thead>\n",
       "    <tr style=\"text-align: right;\">\n",
       "      <th></th>\n",
       "      <th>Framework</th>\n",
       "      <th>count</th>\n",
       "      <th>prop</th>\n",
       "    </tr>\n",
       "  </thead>\n",
       "  <tbody>\n",
       "    <tr>\n",
       "      <th>0</th>\n",
       "      <td>sklearn</td>\n",
       "      <td>991108</td>\n",
       "      <td>0.240845</td>\n",
       "    </tr>\n",
       "    <tr>\n",
       "      <th>1</th>\n",
       "      <td>tensorflow</td>\n",
       "      <td>335695</td>\n",
       "      <td>0.081576</td>\n",
       "    </tr>\n",
       "    <tr>\n",
       "      <th>2</th>\n",
       "      <td>keras</td>\n",
       "      <td>242979</td>\n",
       "      <td>0.059045</td>\n",
       "    </tr>\n",
       "    <tr>\n",
       "      <th>3</th>\n",
       "      <td>torch</td>\n",
       "      <td>116881</td>\n",
       "      <td>0.028403</td>\n",
       "    </tr>\n",
       "    <tr>\n",
       "      <th>4</th>\n",
       "      <td>theano</td>\n",
       "      <td>16224</td>\n",
       "      <td>0.003943</td>\n",
       "    </tr>\n",
       "    <tr>\n",
       "      <th>5</th>\n",
       "      <td>caffe</td>\n",
       "      <td>15671</td>\n",
       "      <td>0.003808</td>\n",
       "    </tr>\n",
       "    <tr>\n",
       "      <th>6</th>\n",
       "      <td>mxnet</td>\n",
       "      <td>11634</td>\n",
       "      <td>0.002827</td>\n",
       "    </tr>\n",
       "    <tr>\n",
       "      <th>7</th>\n",
       "      <td>cntk</td>\n",
       "      <td>1821</td>\n",
       "      <td>0.000443</td>\n",
       "    </tr>\n",
       "    <tr>\n",
       "      <th>8</th>\n",
       "      <td>pytorch</td>\n",
       "      <td>42</td>\n",
       "      <td>0.000010</td>\n",
       "    </tr>\n",
       "  </tbody>\n",
       "</table>\n",
       "</div>"
      ],
      "text/plain": [
       "    Framework   count      prop\n",
       "0     sklearn  991108  0.240845\n",
       "1  tensorflow  335695  0.081576\n",
       "2       keras  242979  0.059045\n",
       "3       torch  116881  0.028403\n",
       "4      theano   16224  0.003943\n",
       "5       caffe   15671  0.003808\n",
       "6       mxnet   11634  0.002827\n",
       "7        cntk    1821  0.000443\n",
       "8     pytorch      42  0.000010"
      ]
     },
     "execution_count": 10,
     "metadata": {},
     "output_type": "execute_result"
    }
   ],
   "source": [
    "framework_counts"
   ]
  },
  {
   "cell_type": "markdown",
   "metadata": {},
   "source": [
    "### File type counts"
   ]
  },
  {
   "cell_type": "code",
   "execution_count": 11,
   "metadata": {},
   "outputs": [],
   "source": [
    "keras_py = 862021\n",
    "keras_sklearn_py = 132202 # intersection\n",
    "sklearn_py = 3646592\n",
    "sklearn_tensorflow_py = 93708\n",
    "tensorflow_py = 4380925\n",
    "keras_tensorflow_py = 434546\n",
    "all_3_py = 40297\n",
    "total_py = (keras_py + sklearn_py + tensorflow_py \n",
    "         - keras_sklearn_py - sklearn_tensorflow_py \n",
    "         - keras_tensorflow_py + all_3_py)\n",
    "\n",
    "keras = 1888994\n",
    "keras_sklearn = 294621 # intersection\n",
    "sklearn = 3646592\n",
    "sklearn_tensorflow = 350666\n",
    "tensorflow = 10719995\n",
    "keras_tensorflow = 1053802\n",
    "all_3 = 157605\n",
    "total = (keras + sklearn + tensorflow \n",
    "         - keras_sklearn - sklearn_tensorflow \n",
    "         - keras_tensorflow + all_3)\n",
    "\n",
    "keras_j = 292944\n",
    "keras_sklearn_j = 124906\n",
    "sklearn_j = 1042019\n",
    "sklearn_tensorflow_j = 155455\n",
    "tensorflow_j = 538060\n",
    "keras_tensorflow_j = 241067\n",
    "all_3_j = 93794\n",
    "total_j = (keras_j + sklearn_j + tensorflow_j\n",
    "           - keras_sklearn_j - sklearn_tensorflow_j\n",
    "           -keras_tensorflow_j + all_3_j)\n",
    "\n",
    "all_files = {\n",
    "    'keras': keras ,\n",
    "    'sklearn': sklearn,\n",
    "    'tensorflow': tensorflow\n",
    "}\n",
    "\n",
    "jupyter = {\n",
    "    'keras': keras_j,\n",
    "    'sklearn': sklearn_j,\n",
    "    'tensorflow': tensorflow_j\n",
    "}\n",
    "\n",
    "python = {\n",
    "    'keras': keras_py,\n",
    "    'sklearn': sklearn_py,\n",
    "    'tensorflow': tensorflow_py\n",
    "}\n",
    "\n",
    "framework_filetype_counts = pd.DataFrame([all_files, jupyter, python])\n",
    "framework_filetype_counts.index = ['all','jupyter','python']"
   ]
  },
  {
   "cell_type": "markdown",
   "metadata": {},
   "source": [
    "---\n",
    "# Visualizations and Statistics"
   ]
  },
  {
   "cell_type": "markdown",
   "metadata": {},
   "source": [
    "## Framework counts"
   ]
  },
  {
   "cell_type": "code",
   "execution_count": 12,
   "metadata": {
    "collapsed": false,
    "jupyter": {
     "outputs_hidden": false
    }
   },
   "outputs": [
    {
     "name": "stdout",
     "output_type": "stream",
     "text": [
      "SkLearn is used in 24.085% of notebooks. Keras in 5.905%, TensorFlow in 8.158%, and Torch in 2.84%.\n"
     ]
    }
   ],
   "source": [
    "print(\"SkLearn is used in {0}% of notebooks. Keras in {1}%, TensorFlow in {2}%, and Torch in {3}%.\".format(\n",
    "    round(100*framework_counts[framework_counts.Framework == 'sklearn'].prop.values[0], 3),\n",
    "    round(100*framework_counts[framework_counts.Framework == 'keras'].prop.values[0], 3),\n",
    "    round(100*framework_counts[framework_counts.Framework == 'tensorflow'].prop.values[0], 3),\n",
    "    round(100*framework_counts[framework_counts.Framework == 'torch'].prop.values[0], 3)\n",
    "\n",
    "))\n"
   ]
  },
  {
   "cell_type": "code",
   "execution_count": 13,
   "metadata": {},
   "outputs": [
    {
     "data": {
      "image/png": "[encoded data removed]",
      "text/plain": [
       "<Figure size 432x288 with 1 Axes>"
      ]
     },
     "metadata": {
      "needs_background": "light"
     },
     "output_type": "display_data"
    }
   ],
   "source": [
    "x = framework_counts['Framework']\n",
    "x_pos = np.arange(len(x))\n",
    "y = framework_counts['count']\n",
    "\n",
    "plt.bar(x_pos, y, color = 'teal')\n",
    "plt.xticks(x_pos, x, rotation = 40)\n",
    "plt.title('Framework Usage')\n",
    "plt.xlabel('Framework')\n",
    "plt.ylabel('Number of Notebooks')\n",
    "plt.ylim(0, 1050000)\n",
    "plt.yticks(range(0, 1050000, 100000), ['{:,}'.format(i) for i in range(0, 1050000, 100000)])\n",
    "plt.show()"
   ]
  },
  {
   "cell_type": "markdown",
   "metadata": {},
   "source": [
    "The most frequent framework import is sklearn. Much less frequently imported are tensorflow and keras. Theano, mxnet, caffe, cntk, and pytorch are used extremely rarely. Lets take a closer look at these packages' growths in popularity over time."
   ]
  },
  {
   "cell_type": "markdown",
   "metadata": {},
   "source": [
    "### Is this everywhere, or just in Jupyter"
   ]
  },
  {
   "cell_type": "markdown",
   "metadata": {},
   "source": [
    "On GitHub, a code search for 'keras' has 1,796,655 results, 'sklearn' has 3,530,545, and 'tensorflow' has 10,430,463.\n",
    "\n",
    "For a code search with the 'Jupyter Notebook' language specification, 'keras' has 304,029  results, 'sklearn' has 982,596, and 'tensorflow' has 524,929.\n",
    "\n",
    "Even though tensorflow is by far the most popular across all code files on github (surpasses sklearn by a factor of ~3), it is much less popular within Jupyter notebooks (sklearn is almost twice as popular).\n",
    "\n",
    "&ast; Numbers collected from github search on Friday July 5th at 12:46pm"
   ]
  },
  {
   "cell_type": "markdown",
   "metadata": {},
   "source": [
    "### Chi Squared Test for Independence\n",
    "- $H_o$: machine learning framework use is independent of file type\n",
    "- $H_a$: machine learning framework depends on file type"
   ]
  },
  {
   "cell_type": "markdown",
   "metadata": {},
   "source": [
    "#### Compare to all files on GitHub"
   ]
  },
  {
   "cell_type": "code",
   "execution_count": 14,
   "metadata": {},
   "outputs": [
    {
     "data": {
      "text/html": [
       "<div>\n",
       "<style scoped>\n",
       "    .dataframe tbody tr th:only-of-type {\n",
       "        vertical-align: middle;\n",
       "    }\n",
       "\n",
       "    .dataframe tbody tr th {\n",
       "        vertical-align: top;\n",
       "    }\n",
       "\n",
       "    .dataframe thead th {\n",
       "        text-align: right;\n",
       "    }\n",
       "</style>\n",
       "<table border=\"1\" class=\"dataframe\">\n",
       "  <thead>\n",
       "    <tr style=\"text-align: right;\">\n",
       "      <th></th>\n",
       "      <th>keras</th>\n",
       "      <th>sklearn</th>\n",
       "      <th>tensorflow</th>\n",
       "    </tr>\n",
       "  </thead>\n",
       "  <tbody>\n",
       "    <tr>\n",
       "      <th>all</th>\n",
       "      <td>1888994</td>\n",
       "      <td>3646592</td>\n",
       "      <td>10719995</td>\n",
       "    </tr>\n",
       "    <tr>\n",
       "      <th>jupyter</th>\n",
       "      <td>292944</td>\n",
       "      <td>1042019</td>\n",
       "      <td>538060</td>\n",
       "    </tr>\n",
       "  </tbody>\n",
       "</table>\n",
       "</div>"
      ],
      "text/plain": [
       "           keras  sklearn  tensorflow\n",
       "all      1888994  3646592    10719995\n",
       "jupyter   292944  1042019      538060"
      ]
     },
     "execution_count": 14,
     "metadata": {},
     "output_type": "execute_result"
    }
   ],
   "source": [
    "framework_filetype_counts.loc[['all','jupyter']]"
   ]
  },
  {
   "cell_type": "code",
   "execution_count": 15,
   "metadata": {
    "collapsed": false,
    "jupyter": {
     "outputs_hidden": false
    }
   },
   "outputs": [
    {
     "name": "stdout",
     "output_type": "stream",
     "text": [
      "At the 5% significance level, with a chi-squared statistic of \n",
      "1112981.23 and a p-value of 0.0, we reject the null hypotheis and conclude that proportions\n",
      "of machine learning frameworks are different for Jupyter notebooks on github than they \n",
      "are for all code on github.\n"
     ]
    }
   ],
   "source": [
    "chi2, p, dof, ex = st.chi2_contingency(framework_filetype_counts.loc[['all','jupyter']])\n",
    "\n",
    "print(\"\"\"At the 5% significance level, with a chi-squared statistic of \n",
    "{0} and a p-value of {1}, we reject the null hypotheis and conclude that proportions\n",
    "of machine learning frameworks are different for Jupyter notebooks on github than they \n",
    "are for all code on github.\"\"\".format(\n",
    "    round(chi2,2), \n",
    "    round(p,2),\n",
    "))"
   ]
  },
  {
   "cell_type": "markdown",
   "metadata": {},
   "source": [
    "#### Compare just to Python"
   ]
  },
  {
   "cell_type": "code",
   "execution_count": 16,
   "metadata": {},
   "outputs": [
    {
     "data": {
      "text/html": [
       "<div>\n",
       "<style scoped>\n",
       "    .dataframe tbody tr th:only-of-type {\n",
       "        vertical-align: middle;\n",
       "    }\n",
       "\n",
       "    .dataframe tbody tr th {\n",
       "        vertical-align: top;\n",
       "    }\n",
       "\n",
       "    .dataframe thead th {\n",
       "        text-align: right;\n",
       "    }\n",
       "</style>\n",
       "<table border=\"1\" class=\"dataframe\">\n",
       "  <thead>\n",
       "    <tr style=\"text-align: right;\">\n",
       "      <th></th>\n",
       "      <th>keras</th>\n",
       "      <th>sklearn</th>\n",
       "      <th>tensorflow</th>\n",
       "    </tr>\n",
       "  </thead>\n",
       "  <tbody>\n",
       "    <tr>\n",
       "      <th>python</th>\n",
       "      <td>862021</td>\n",
       "      <td>3646592</td>\n",
       "      <td>4380925</td>\n",
       "    </tr>\n",
       "    <tr>\n",
       "      <th>jupyter</th>\n",
       "      <td>292944</td>\n",
       "      <td>1042019</td>\n",
       "      <td>538060</td>\n",
       "    </tr>\n",
       "  </tbody>\n",
       "</table>\n",
       "</div>"
      ],
      "text/plain": [
       "          keras  sklearn  tensorflow\n",
       "python   862021  3646592     4380925\n",
       "jupyter  292944  1042019      538060"
      ]
     },
     "execution_count": 16,
     "metadata": {},
     "output_type": "execute_result"
    }
   ],
   "source": [
    "framework_filetype_counts.loc[['python','jupyter']]"
   ]
  },
  {
   "cell_type": "code",
   "execution_count": 17,
   "metadata": {
    "collapsed": false,
    "jupyter": {
     "outputs_hidden": false
    }
   },
   "outputs": [
    {
     "name": "stdout",
     "output_type": "stream",
     "text": [
      "At the 5% significance level, with a chi-squared statistic of \n",
      "269755.28 and a p-value of 0.0, we reject the null hypotheis and conclude that proportions\n",
      "of machine learning frameworks are different for Jupyter notebooks on github than they \n",
      "are for python code on github.\n"
     ]
    }
   ],
   "source": [
    "chi2, p, dof, ex = st.chi2_contingency(framework_filetype_counts.loc[['python','jupyter']])\n",
    "\n",
    "print(\"\"\"At the 5% significance level, with a chi-squared statistic of \n",
    "{0} and a p-value of {1}, we reject the null hypotheis and conclude that proportions\n",
    "of machine learning frameworks are different for Jupyter notebooks on github than they \n",
    "are for python code on github.\"\"\".format(\n",
    "    round(chi2,2), \n",
    "    round(p,2),\n",
    "))"
   ]
  },
  {
   "cell_type": "code",
   "execution_count": 18,
   "metadata": {
    "collapsed": false,
    "jupyter": {
     "outputs_hidden": false
    }
   },
   "outputs": [
    {
     "data": {
      "image/png": "[encoded data removed]",
      "text/plain": [
       "<Figure size 432x288 with 1 Axes>"
      ]
     },
     "metadata": {
      "needs_background": "light"
     },
     "output_type": "display_data"
    }
   ],
   "source": [
    "x = framework_filetype_counts.columns\n",
    "x1_placement = np.arange(len(x))-0.2\n",
    "height1 = framework_filetype_counts.loc['all'] / sum(framework_filetype_counts.loc['all'])\n",
    "plt.bar(x1_placement, height1, width = 0.2, color = 'navy', label = 'All of GitHub')\n",
    "plt.xticks(x1_placement+0.25, x)\n",
    "\n",
    "x2_placement = np.arange(len(x))\n",
    "height2 = framework_filetype_counts.loc['python'] / sum(framework_filetype_counts.loc['python'])\n",
    "plt.bar(x2_placement, height2, width = 0.2, color = 'black', label = 'Python Files')\n",
    "\n",
    "x3_placement = np.arange(len(x))+0.2\n",
    "height3 = framework_filetype_counts.loc['jupyter'] / sum(framework_filetype_counts.loc['jupyter'])\n",
    "plt.bar(x3_placement, height3, width = 0.2, color = 'teal', label = 'Jupyter Notebooks')\n",
    "\n",
    "\n",
    "plt.legend()\n",
    "plt.title('Relative Popularities of Frameworks', fontsize = 12)\n",
    "plt.xlabel('Framework', fontsize = 12)\n",
    "plt.ylabel('Proportion of Files using Framework\\n(among files with at least one)')\n",
    "plt.show()"
   ]
  },
  {
   "cell_type": "markdown",
   "metadata": {},
   "source": [
    "## Educational Notebooks: SkLearn vs Tensorflow"
   ]
  },
  {
   "cell_type": "code",
   "execution_count": 19,
   "metadata": {},
   "outputs": [],
   "source": [
    "nb_imports_df_with_repo = nb_imports_df.merge(\n",
    "    notebooks[['file','repo_id']], on = 'file'\n",
    ")"
   ]
  },
  {
   "cell_type": "code",
   "execution_count": 20,
   "metadata": {},
   "outputs": [],
   "source": [
    "edu_nb_imports = nb_imports_df_with_repo[nb_imports_df_with_repo.repo_id.isin(\n",
    "    edu_status_df[edu_status_df.edu == True].repo_id\n",
    ")]\n",
    "\n",
    "edu_total = sum([\n",
    "    ('sklearn' in [i[0] for i in im] or \n",
    "     'tensorflow' in [i[0] for i in im] or \n",
    "     'keras' in [i[0] for i in im]\n",
    "     ) for im in edu_nb_imports.imports\n",
    "])\n",
    "all_edu_imports = []\n",
    "for im in edu_nb_imports.imports:\n",
    "    all_edu_imports += im\n",
    "    \n",
    "non_edu_nb_imports = nb_imports_df_with_repo[nb_imports_df_with_repo.repo_id.isin(\n",
    "    edu_status_df[edu_status_df.edu == False].repo_id\n",
    ")]\n",
    "\n",
    "non_edu_total = sum([\n",
    "    ('sklearn' in [i[0] for i in im] or \n",
    "     'tensorflow' in [i[0] for i in im] or \n",
    "     'keras' in [i[0] for i in im]) for im in non_edu_nb_imports.imports\n",
    "])\n",
    "all_non_edu_imports = []\n",
    "for im in non_edu_nb_imports.imports:\n",
    "    all_non_edu_imports += im\n",
    "    "
   ]
  },
  {
   "cell_type": "code",
   "execution_count": 21,
   "metadata": {},
   "outputs": [],
   "source": [
    "del nb_imports_df_with_repo"
   ]
  },
  {
   "cell_type": "code",
   "execution_count": 22,
   "metadata": {},
   "outputs": [],
   "source": [
    "edu_framework_imports = pd.Series([im[0] for im in all_edu_imports])[pd.Series([im[0] for im in all_edu_imports]).isin(frameworks)]\n",
    "edu_framework_counts = edu_framework_imports.value_counts().reset_index().rename(columns={'index':'Framework',0:'count'})\n",
    "edu_framework_counts = edu_framework_counts[edu_framework_counts.Framework.isin(['sklearn','tensorflow','keras'])]\n",
    "\n",
    "non_edu_framework_imports = pd.Series([im[0] for im in all_non_edu_imports])[pd.Series([im[0] for im in all_non_edu_imports]).isin(frameworks)]\n",
    "non_edu_framework_counts = non_edu_framework_imports.value_counts().reset_index().rename(columns={'index':'Framework',0:'count'})\n",
    "non_edu_framework_counts = non_edu_framework_counts[non_edu_framework_counts.Framework.isin(['sklearn','tensorflow','keras'])]"
   ]
  },
  {
   "cell_type": "code",
   "execution_count": 23,
   "metadata": {},
   "outputs": [
    {
     "name": "stdout",
     "output_type": "stream",
     "text": [
      "Among educational notebooks using at least one of keras, tensorflow, and sklearn:\n",
      "SkLearn is used in 17.887% of notebooks. Keras in 16.303% and TensorFlow in 85.498%.\n",
      "\n",
      "Among non-educational notebooks using at least one of keras, tensorflow, and sklearn:\n",
      "SkLearn is used in 17.83% of notebooks. Keras in 21.904% and TensorFlow in 85.241%.\n"
     ]
    }
   ],
   "source": [
    "edu_framework_counts['prop'] = edu_framework_counts['count']/edu_total\n",
    "non_edu_framework_counts['prop'] = non_edu_framework_counts['count']/non_edu_total\n",
    "\n",
    "print(\"Among educational notebooks using at least one of keras, tensorflow, and sklearn:\")\n",
    "print(\"SkLearn is used in {0}% of notebooks. Keras in {1}% and TensorFlow in {2}%.\".format(\n",
    "    round(100*edu_framework_counts[edu_framework_counts.Framework == 'sklearn'].prop.values[0], 3),\n",
    "    round(100*edu_framework_counts[edu_framework_counts.Framework == 'keras'].prop.values[0], 3),\n",
    "    round(100*edu_framework_counts[edu_framework_counts.Framework == 'tensorflow'].prop.values[0], 3)\n",
    "))\n",
    "print(\"\\nAmong non-educational notebooks using at least one of keras, tensorflow, and sklearn:\")\n",
    "print(\"SkLearn is used in {0}% of notebooks. Keras in {1}% and TensorFlow in {2}%.\".format(\n",
    "    round(100*non_edu_framework_counts[non_edu_framework_counts.Framework == 'sklearn'].prop.values[0], 3),\n",
    "    round(100*non_edu_framework_counts[non_edu_framework_counts.Framework == 'keras'].prop.values[0], 3),\n",
    "    round(100*non_edu_framework_counts[non_edu_framework_counts.Framework == 'tensorflow'].prop.values[0], 3)\n",
    "))\n"
   ]
  },
  {
   "cell_type": "code",
   "execution_count": 24,
   "metadata": {
    "collapsed": false,
    "jupyter": {
     "outputs_hidden": false
    }
   },
   "outputs": [
    {
     "data": {
      "image/png": "[encoded data removed]",
      "text/plain": [
       "<Figure size 432x288 with 1 Axes>"
      ]
     },
     "metadata": {
      "needs_background": "light"
     },
     "output_type": "display_data"
    }
   ],
   "source": [
    "x = edu_framework_counts.Framework\n",
    "x_pos = np.arange(len(x)) - 0.2\n",
    "height = edu_framework_counts.prop\n",
    "plt.bar(x_pos, height, color = 'teal', width = 0.4, label = 'Educational')\n",
    "\n",
    "x = non_edu_framework_counts.Framework\n",
    "x_pos = np.arange(len(x)) + 0.2\n",
    "height = non_edu_framework_counts.prop\n",
    "plt.bar(x_pos, height, color = 'navy', width = 0.4, label = 'Non-Educational')\n",
    "\n",
    "ticks_pos = np.arange(len(x))\n",
    "plt.xticks(ticks_pos, x)\n",
    "\n",
    "plt.legend()\n",
    "plt.title('Relative Popularities of Frameworks', fontsize = 12)\n",
    "plt.xlabel('Framework', fontsize = 12)\n",
    "plt.show()\n"
   ]
  },
  {
   "cell_type": "markdown",
   "metadata": {},
   "source": [
    "## Use of frameworks over time"
   ]
  },
  {
   "cell_type": "code",
   "execution_count": 25,
   "metadata": {},
   "outputs": [
    {
     "name": "stdout",
     "output_type": "stream",
     "text": [
      "0:01:06.197688\n"
     ]
    }
   ],
   "source": [
    "# 1 minute\n",
    "DATE_CHOICE = 'pushed_at'\n",
    "start = datetime.datetime.now()\n",
    "\n",
    "imports_by_year = nb_imports_df.merge(notebooks, on = 'file').merge(repos, on = 'repo_id')[['imports','file',DATE_CHOICE]]\n",
    "imports_by_year[DATE_CHOICE] = pd.to_datetime(imports_by_year[DATE_CHOICE])\n",
    "imports_by_year['year'] = [c.year for c in imports_by_year[DATE_CHOICE]]\n",
    "imports_by_year['month'] = [c.month for c in imports_by_year[DATE_CHOICE]]\n",
    "\n",
    "end = datetime.datetime.now()\n",
    "print(end - start)\n"
   ]
  },
  {
   "cell_type": "code",
   "execution_count": 26,
   "metadata": {},
   "outputs": [
    {
     "name": "stdout",
     "output_type": "stream",
     "text": [
      "0:01:22.921265\n"
     ]
    }
   ],
   "source": [
    "# 1 minute\n",
    "start = datetime.datetime.now()\n",
    "\n",
    "for column in frameworks:\n",
    "    imports_by_year[column] = [0]*len(imports_by_year)\n",
    "    imports_by_year.loc[[column in ' '.join([i[0] for i in im]) for im in imports_by_year['imports']],column] = 1\n",
    "yearly_counts = imports_by_year.groupby(['year'])[frameworks].sum().reset_index()\n",
    "yearly_counts['total'] = imports_by_year.groupby('year')[DATE_CHOICE].count().values\n",
    "yearly_counts_long = pd.melt(yearly_counts, id_vars =['year'], value_vars =frameworks)\n",
    "\n",
    "\n",
    "yearly_props = pd.DataFrame({'year':yearly_counts['year']})\n",
    "for column in frameworks:\n",
    "    yearly_props[column] = yearly_counts[column] / yearly_counts['total']\n",
    "    \n",
    "yearly_props_long = pd.melt(yearly_props, id_vars =['year'], value_vars = frameworks) \n",
    "\n",
    "\n",
    "end = datetime.datetime.now()\n",
    "print(end - start)\n"
   ]
  },
  {
   "cell_type": "code",
   "execution_count": 27,
   "metadata": {},
   "outputs": [
    {
     "data": {
      "image/png": "[encoded data removed]",
      "text/plain": [
       "<Figure size 432x216 with 1 Axes>"
      ]
     },
     "metadata": {
      "needs_background": "light"
     },
     "output_type": "display_data"
    }
   ],
   "source": [
    "fig = plt.figure(figsize = (6,3))\n",
    "\n",
    "x = yearly_props['year']\n",
    "# for col in yearly_props_long.variable.unique():\n",
    "colors = {\n",
    "    'tensorflow': 'navy',\n",
    "    'sklearn': 'teal',\n",
    "    'keras': 'slateblue'\n",
    "}\n",
    "for col in ['sklearn','tensorflow','keras']:\n",
    "    y = yearly_props[col]\n",
    "    plt.plot(x, y, linewidth = 2, label = col, color = colors[col])\n",
    "    \n",
    "plt.title('Package Use Over Time')\n",
    "plt.xlabel('Year')\n",
    "plt.ylabel('Proportion of Notebooks')\n",
    "plt.legend()\n",
    "plt.show()"
   ]
  },
  {
   "cell_type": "markdown",
   "metadata": {},
   "source": [
    "Scikitlearn has grown steadily in popularity since 2012, now with over 20% of all notebooks on GitHub using it. Tensorflow peaked in popularity in 2017, with around 10% of notebooks using it, but since have decreased slightly in popularity. Theano and Mxnet are not very popular. Caffee, cntk, and pytorch are very close to 0%."
   ]
  },
  {
   "cell_type": "markdown",
   "metadata": {},
   "source": [
    "## What frameworks are frequently used together -- in a notebook?"
   ]
  },
  {
   "cell_type": "code",
   "execution_count": 28,
   "metadata": {},
   "outputs": [
    {
     "name": "stdout",
     "output_type": "stream",
     "text": [
      "tensorflow 0:00:07.012575\n",
      "sklearn 0:00:14.009658\n",
      "keras 0:00:21.076233\n",
      "theano 0:00:28.188071\n",
      "mxnet 0:00:35.313456\n",
      "caffe 0:00:42.322685\n",
      "pytorch 0:00:49.285241\n",
      "cntk 0:00:56.257067\n",
      "torch 0:01:03.279995\n",
      "0:01:03.280342\n"
     ]
    }
   ],
   "source": [
    "# 3 minutes\n",
    "start = datetime.datetime.now()\n",
    "for f in frameworks:\n",
    "    nb_imports_df[f] = [f in ' '.join([i[0] for i in im]) for im in nb_imports_df.imports]\n",
    "    print(f, datetime.datetime.now() - start)\n",
    "end = datetime.datetime.now()\n",
    "print(end - start)\n"
   ]
  },
  {
   "cell_type": "code",
   "execution_count": 29,
   "metadata": {
    "collapsed": false,
    "jupyter": {
     "outputs_hidden": false
    }
   },
   "outputs": [
    {
     "data": {
      "image/png": "[encoded data removed]",
      "text/plain": [
       "<Figure size 504x504 with 1 Axes>"
      ]
     },
     "metadata": {
      "needs_background": "light"
     },
     "output_type": "display_data"
    }
   ],
   "source": [
    "df = nb_imports_df[frameworks].corr().transpose()\n",
    "fig = plt.figure(figsize = (7,7))\n",
    "plt.pcolor(df, cmap = 'Blues')\n",
    "plt.yticks(np.arange(0.5, len(df.index), 1), df.index)\n",
    "plt.xticks(np.arange(0.5, len(df.columns), 1), df.columns, rotation = 90)\n",
    "plt.show()\n"
   ]
  },
  {
   "cell_type": "code",
   "execution_count": 30,
   "metadata": {
    "collapsed": false,
    "jupyter": {
     "outputs_hidden": false
    }
   },
   "outputs": [
    {
     "name": "stdout",
     "output_type": "stream",
     "text": [
      "There are only 16,383 notebooks that use theano and only 267,558 that use keras. 2,964 notebooks use both.\n"
     ]
    }
   ],
   "source": [
    "t = len(nb_imports_df[nb_imports_df['theano'] == True])\n",
    "k = len(nb_imports_df[nb_imports_df['keras'] == True])\n",
    "tk = len(nb_imports_df[np.logical_and(nb_imports_df['theano'] == True, nb_imports_df['keras'] == True)])\n",
    "print(\"There are only {0:,} notebooks that use theano and only {1:,} that use keras. {2:,} notebooks use both.\".format(t,k,tk))"
   ]
  },
  {
   "cell_type": "markdown",
   "metadata": {},
   "source": [
    "It looks like people usually use one framework or the other and rarely import both into the same notebook. The most likely to be imported together are theano and keras. Of the 14,299 notebooks that use theano, 2,472 (17%) also use keras. "
   ]
  },
  {
   "cell_type": "markdown",
   "metadata": {},
   "source": [
    "## What frameworks are frequently used together -- by the same user?\n",
    "The correlations for framework use by user look almost exactly the same as by notebook. It is possible that with more data, this will change. "
   ]
  },
  {
   "cell_type": "code",
   "execution_count": 31,
   "metadata": {},
   "outputs": [
    {
     "name": "stdout",
     "output_type": "stream",
     "text": [
      "0:00:06.714918\n"
     ]
    }
   ],
   "source": [
    "# 9 seconds\n",
    "start = datetime.datetime.now()\n",
    "\n",
    "nb_imports_owners_df = nb_imports_df.merge(notebooks[['file','owner_id']], on = 'file')\n",
    "\n",
    "end = datetime.datetime.now()\n",
    "print(end - start)\n"
   ]
  },
  {
   "cell_type": "code",
   "execution_count": 32,
   "metadata": {},
   "outputs": [
    {
     "name": "stdout",
     "output_type": "stream",
     "text": [
      "0:01:09.807100\n"
     ]
    }
   ],
   "source": [
    "# 1 min\n",
    "def atleast_once(nums):\n",
    "    if sum(nums) > 0:\n",
    "        return 1\n",
    "    else:\n",
    "        return 0\n",
    "\n",
    "start = datetime.datetime.now()\n",
    "\n",
    "frameworks_user_counts = nb_imports_owners_df.groupby('owner_id')[frameworks].aggregate(\n",
    "    atleast_once\n",
    ").reset_index()\n",
    "\n",
    "end = datetime.datetime.now()\n",
    "print(end - start)\n"
   ]
  },
  {
   "cell_type": "code",
   "execution_count": 33,
   "metadata": {
    "collapsed": false,
    "jupyter": {
     "outputs_hidden": false
    }
   },
   "outputs": [
    {
     "data": {
      "image/png": "[encoded data removed]",
      "text/plain": [
       "<Figure size 504x504 with 1 Axes>"
      ]
     },
     "metadata": {
      "needs_background": "light"
     },
     "output_type": "display_data"
    }
   ],
   "source": [
    "df = frameworks_user_counts[frameworks].corr().transpose()\n",
    "fig = plt.figure(figsize = (7,7))\n",
    "plt.pcolor(df, cmap = 'Blues')\n",
    "plt.yticks(np.arange(0.5, len(df.index), 1), df.index)\n",
    "plt.xticks(np.arange(0.5, len(df.columns), 1), df.columns, rotation = 90)\n",
    "plt.show()\n"
   ]
  },
  {
   "cell_type": "code",
   "execution_count": 34,
   "metadata": {
    "collapsed": false,
    "jupyter": {
     "outputs_hidden": false
    }
   },
   "outputs": [
    {
     "name": "stdout",
     "output_type": "stream",
     "text": [
      "There are only 4502 users that use theano and 68579 that use keras. 2274 users use both.\n"
     ]
    }
   ],
   "source": [
    "t = len(frameworks_user_counts[frameworks_user_counts['theano'] == True])\n",
    "k = len(frameworks_user_counts[frameworks_user_counts['keras'] == True])\n",
    "tk = len(frameworks_user_counts[np.logical_and(frameworks_user_counts['theano'] == True, frameworks_user_counts['keras'] == True)])\n",
    "print(\"There are only {0} users that use theano and {1} that use keras. {2} users use both.\".format(t,k,tk))"
   ]
  },
  {
   "cell_type": "markdown",
   "metadata": {},
   "source": [
    "## Closer look at sklearn\n",
    "Scikit Learn is the most popular machine learning framework imported into jupyter notebooks. Here, we look more specifically at what people are using sklearn for, and how those uses have changed over time."
   ]
  },
  {
   "cell_type": "code",
   "execution_count": 35,
   "metadata": {},
   "outputs": [
    {
     "name": "stdout",
     "output_type": "stream",
     "text": [
      "0:02:58.113534\n"
     ]
    }
   ],
   "source": [
    "# 4 minutes\n",
    "start = datetime.datetime.now()\n",
    "sk_modules = pd.concat([pd.Series([import_object[0] \n",
    "                      for import_object in import_list \n",
    "                      if import_object[0].startswith('sklearn')]\n",
    "                ) for import_list in nb_imports_df[nb_imports_df['sklearn']==True]['imports']])\n",
    "end = datetime.datetime.now()\n",
    "print(end - start)"
   ]
  },
  {
   "cell_type": "code",
   "execution_count": 36,
   "metadata": {
    "scrolled": true
   },
   "outputs": [
    {
     "name": "stdout",
     "output_type": "stream",
     "text": [
      "0:00:11.446697\n"
     ]
    }
   ],
   "source": [
    "# 14 seconds\n",
    "start = datetime.datetime.now()\n",
    "\n",
    "sk_mods = pd.Series([m for m in sk_modules if m.startswith('sklearn.')])\n",
    "sk_major_mods = pd.Series([m.split('.')[1] if '.' in m else '' for m in sk_mods]).value_counts()\n",
    "sk_all_mods = pd.Series(['.'.join(m.split('.')[1:]) for m in sk_mods]).value_counts()\n",
    "\n",
    "end = datetime.datetime.now()\n",
    "print(end - start)"
   ]
  },
  {
   "cell_type": "code",
   "execution_count": 37,
   "metadata": {
    "collapsed": false,
    "jupyter": {
     "outputs_hidden": false
    }
   },
   "outputs": [
    {
     "data": {
      "image/png": "[encoded data removed]",
      "text/plain": [
       "<Figure size 720x360 with 1 Axes>"
      ]
     },
     "metadata": {
      "needs_background": "light"
     },
     "output_type": "display_data"
    }
   ],
   "source": [
    "labels = sk_major_mods.index[:20]\n",
    "pos = np.arange(len(labels))\n",
    "height = sk_major_mods.values[:20]\n",
    "fig = plt.figure(figsize=(10,5))\n",
    "plt.bar(pos, height, color = 'teal')\n",
    "plt.xticks(pos, labels, rotation = 90)\n",
    "plt.title('SciKitLearn Module Imports')\n",
    "plt.xlabel('ScikitLearn Modules')\n",
    "plt.ylabel('Number of Imports')\n",
    "plt.show()"
   ]
  },
  {
   "cell_type": "markdown",
   "metadata": {},
   "source": [
    "Model selection and Metrics are the most frequently imported modules from scikit learn."
   ]
  },
  {
   "cell_type": "markdown",
   "metadata": {},
   "source": [
    "### Sklearn.Metrics\n"
   ]
  },
  {
   "cell_type": "code",
   "execution_count": 38,
   "metadata": {
    "collapsed": true,
    "jupyter": {
     "outputs_hidden": true
    }
   },
   "outputs": [
    {
     "name": "stdout",
     "output_type": "stream",
     "text": [
      "0:00:03.084184\n"
     ]
    }
   ],
   "source": [
    "# 4 seconds\n",
    "start = datetime.datetime.now()\n",
    "\n",
    "metrics_modules = sk_mods[[\n",
    "    m.startswith('sklearn.metrics.') for m in sk_mods\n",
    "]]\n",
    "metrics_modules = ['.'.join(m.split('.')[2:]) for m in metrics_modules]\n",
    "metrics_uses = pd.Series(metrics_modules).value_counts()\n",
    "\n",
    "end = datetime.datetime.now()\n",
    "print(end - start)"
   ]
  },
  {
   "cell_type": "code",
   "execution_count": 39,
   "metadata": {
    "collapsed": false,
    "jupyter": {
     "outputs_hidden": false
    }
   },
   "outputs": [
    {
     "data": {
      "image/png": "[encoded data removed]",
      "text/plain": [
       "<Figure size 1080x360 with 1 Axes>"
      ]
     },
     "metadata": {
      "needs_background": "light"
     },
     "output_type": "display_data"
    }
   ],
   "source": [
    "labels = metrics_uses[:15].index\n",
    "pos = np.arange(len(labels))\n",
    "height = metrics_uses[:15].values\n",
    "fig = plt.figure(figsize=(15,5))\n",
    "plt.bar(pos, height, color = 'teal')\n",
    "plt.xticks(pos, labels, rotation = 90)\n",
    "plt.title('SciKitLearn Imports from \"Metrics\"')\n",
    "plt.xlabel('Metrics Modules')\n",
    "plt.ylabel('Number of Imports')\n",
    "plt.show()"
   ]
  },
  {
   "cell_type": "markdown",
   "metadata": {},
   "source": [
    "Accuracy score, confusion matrix, classification report, mse, f1, and area under the roc curve are the most commonly used metrics from skelarn."
   ]
  },
  {
   "cell_type": "markdown",
   "metadata": {},
   "source": [
    "### Sklearn.model_selection"
   ]
  },
  {
   "cell_type": "code",
   "execution_count": 40,
   "metadata": {
    "collapsed": true,
    "jupyter": {
     "outputs_hidden": true
    }
   },
   "outputs": [],
   "source": [
    "model_selection_modules = sk_mods[[m.startswith('sklearn.model_selection.') for m in sk_mods]]\n",
    "model_selection_modules = ['.'.join(m.split('.')[2:]) for m in model_selection_modules]\n",
    "uses = pd.Series(model_selection_modules).value_counts()"
   ]
  },
  {
   "cell_type": "code",
   "execution_count": 41,
   "metadata": {
    "collapsed": false,
    "jupyter": {
     "outputs_hidden": false
    }
   },
   "outputs": [
    {
     "data": {
      "image/png": "[encoded data removed]",
      "text/plain": [
       "<Figure size 720x360 with 1 Axes>"
      ]
     },
     "metadata": {
      "needs_background": "light"
     },
     "output_type": "display_data"
    }
   ],
   "source": [
    "labels = uses.index[:10]\n",
    "pos = np.arange(len(labels))\n",
    "height = uses.values[:10]\n",
    "fig = plt.figure(figsize=(10,5))\n",
    "plt.bar(pos, height, color = 'teal')\n",
    "plt.xticks(pos, labels, rotation = 90)\n",
    "plt.title('SciKitLearn imports from \"Model Selection\"')\n",
    "plt.xlabel('Model Selection Modules')\n",
    "plt.ylabel('Number of Imports')\n",
    "plt.show()"
   ]
  },
  {
   "cell_type": "markdown",
   "metadata": {},
   "source": [
    "People almost alwasy use train test split from the model selection package of sklearn. The next most popular uses of model selection are cross validation score and grid search with cross validation."
   ]
  },
  {
   "cell_type": "markdown",
   "metadata": {},
   "source": [
    "## Closer look at Keras\n",
    "Keras is for deep learning with neural networks. With keras, 'Sequential', from keras.models, is the holder for the models (model = Sequential()). The layers, from keras.layers, are then added with model.add--for example, model.add(Dense(...)). Dense is an example of a fully-connected layer, so multiple 'Dense' additions create a multilyaer perceptron. A convolutional nueral net can be created by adding Conv2D. Add LSTM for an artifical recurrent neural net. It may not be useful to look into what specific 'models' are used, since all models are some version of a neural net. The way that models are built with keras explains why the most frequent imports are 'Models' and 'Layers'. Further, it explains why 'Sequential' is by far the most frequent import from keras.models."
   ]
  },
  {
   "cell_type": "code",
   "execution_count": 42,
   "metadata": {
    "collapsed": true,
    "jupyter": {
     "outputs_hidden": true
    }
   },
   "outputs": [
    {
     "name": "stdout",
     "output_type": "stream",
     "text": [
      "0:00:46.024658\n"
     ]
    }
   ],
   "source": [
    "# 1 minute\n",
    "start = datetime.datetime.now()\n",
    "\n",
    "ks_modules = pd.concat([pd.Series([import_object[0] \n",
    "                      for import_object in import_list \n",
    "                      if import_object[0].startswith('keras')]\n",
    "                ) for import_list in nb_imports_df[nb_imports_df['keras']==True]['imports']])\n",
    "\n",
    "end = datetime.datetime.now()\n",
    "print(end - start)"
   ]
  },
  {
   "cell_type": "code",
   "execution_count": 43,
   "metadata": {
    "collapsed": true,
    "jupyter": {
     "outputs_hidden": true
    }
   },
   "outputs": [],
   "source": [
    "keras_major_mods = [m.split('.')[1] for m in ks_modules if '.' in m ]\n",
    "keras_major_mods_counts = pd.Series(keras_major_mods).value_counts()"
   ]
  },
  {
   "cell_type": "code",
   "execution_count": 44,
   "metadata": {
    "collapsed": false,
    "jupyter": {
     "outputs_hidden": false
    }
   },
   "outputs": [
    {
     "data": {
      "image/png": "[encoded data removed]",
      "text/plain": [
       "<Figure size 720x360 with 1 Axes>"
      ]
     },
     "metadata": {
      "needs_background": "light"
     },
     "output_type": "display_data"
    }
   ],
   "source": [
    "labels = keras_major_mods_counts[keras_major_mods_counts.values > 10000].index\n",
    "pos = np.arange(len(labels))\n",
    "height = keras_major_mods_counts[keras_major_mods_counts.values > 10000].values\n",
    "fig = plt.figure(figsize=(10,5))\n",
    "plt.bar(pos, height, color = 'teal')\n",
    "plt.xticks(pos, labels, rotation = 90)\n",
    "plt.xlabel('Keras Modules')\n",
    "plt.ylabel('Number of Uses')\n",
    "plt.title('Keras Module Use')\n",
    "plt.show()"
   ]
  },
  {
   "cell_type": "markdown",
   "metadata": {},
   "source": [
    "### Keras.Layers"
   ]
  },
  {
   "cell_type": "code",
   "execution_count": 45,
   "metadata": {
    "collapsed": true,
    "jupyter": {
     "outputs_hidden": true
    }
   },
   "outputs": [],
   "source": [
    "keras_layers_minor_mods = [mod.split('.')[1]\n",
    "    for mod in ['' if '.' not in m else '.'.join(m.split('.')[1:]) for m in ks_modules]\n",
    "    if mod.startswith('layers.')\n",
    "]\n",
    "keras_layers_minor_mods_counts = pd.Series(keras_layers_minor_mods).value_counts()\n",
    "keras_layers_minor_mods_counts = keras_layers_minor_mods_counts[keras_layers_minor_mods_counts.values > 10000]"
   ]
  },
  {
   "cell_type": "code",
   "execution_count": 46,
   "metadata": {
    "collapsed": false,
    "jupyter": {
     "outputs_hidden": false
    }
   },
   "outputs": [
    {
     "data": {
      "image/png": "[encoded data removed]",
      "text/plain": [
       "<Figure size 720x360 with 1 Axes>"
      ]
     },
     "metadata": {
      "needs_background": "light"
     },
     "output_type": "display_data"
    }
   ],
   "source": [
    "labels = keras_layers_minor_mods_counts.index\n",
    "pos = np.arange(len(labels))\n",
    "height = keras_layers_minor_mods_counts.values\n",
    "fig = plt.figure(figsize=(10,5))\n",
    "plt.bar(pos, height, color = 'teal')\n",
    "plt.xticks(pos, labels, rotation = 90)\n",
    "plt.xlabel('Keras.Layers Use')\n",
    "plt.ylabel('Number of Uses')\n",
    "plt.title('Keras.Layers')\n",
    "plt.show()"
   ]
  },
  {
   "cell_type": "markdown",
   "metadata": {},
   "source": [
    "### Keras.Models"
   ]
  },
  {
   "cell_type": "code",
   "execution_count": 47,
   "metadata": {
    "collapsed": true,
    "jupyter": {
     "outputs_hidden": true
    }
   },
   "outputs": [],
   "source": [
    "keras_models_minor_mods = [mod.split('.')[1]\n",
    "    for mod in ['' if '.' not in m else '.'.join(m.split('.')[1:]) for m in ks_modules]\n",
    "    if mod.startswith('models.')\n",
    "]\n",
    "keras_models_minor_mods_counts = pd.Series(keras_models_minor_mods).value_counts()\n",
    "keras_models_minor_mods_counts = keras_models_minor_mods_counts[keras_models_minor_mods_counts.values > 5000]"
   ]
  },
  {
   "cell_type": "code",
   "execution_count": 48,
   "metadata": {
    "collapsed": false,
    "jupyter": {
     "outputs_hidden": false
    }
   },
   "outputs": [
    {
     "data": {
      "image/png": "[encoded data removed]",
      "text/plain": [
       "<Figure size 720x360 with 1 Axes>"
      ]
     },
     "metadata": {
      "needs_background": "light"
     },
     "output_type": "display_data"
    }
   ],
   "source": [
    "labels = keras_models_minor_mods_counts.index\n",
    "pos = np.arange(len(labels))\n",
    "height = keras_models_minor_mods_counts.values\n",
    "fig = plt.figure(figsize=(10,5))\n",
    "plt.bar(pos, height, color = 'teal')\n",
    "plt.xticks(pos, labels, rotation = 90)\n",
    "plt.xlabel('Keras.Models Use')\n",
    "plt.ylabel('Number of Uses')\n",
    "plt.title('Keras.Models')\n",
    "plt.show()"
   ]
  },
  {
   "cell_type": "markdown",
   "metadata": {},
   "source": [
    "## Closer look at Tensorflow"
   ]
  },
  {
   "cell_type": "code",
   "execution_count": 49,
   "metadata": {
    "collapsed": true,
    "jupyter": {
     "outputs_hidden": true
    }
   },
   "outputs": [
    {
     "name": "stdout",
     "output_type": "stream",
     "text": [
      "0:01:02.492959\n"
     ]
    }
   ],
   "source": [
    "# 1 minute\n",
    "start = datetime.datetime.now()\n",
    "\n",
    "tf_modules = pd.concat([pd.Series([import_object[0] \n",
    "                      for import_object in import_list \n",
    "                      if import_object[0].startswith('tensorflow')]\n",
    "                ) for import_list in nb_imports_df[nb_imports_df['tensorflow']==True]['imports']])\n",
    "tf_major_mods = [m.split('.')[1] for m in tf_modules if '.' in m]\n",
    "tf_major_mods_counts = pd.Series(tf_major_mods).value_counts()\n",
    "tf_major_mods_counts = tf_major_mods_counts[tf_major_mods_counts.values > 1000]\n",
    "end = datetime.datetime.now()\n",
    "\n",
    "print(end - start)"
   ]
  },
  {
   "cell_type": "code",
   "execution_count": 50,
   "metadata": {
    "collapsed": false,
    "jupyter": {
     "outputs_hidden": false
    }
   },
   "outputs": [
    {
     "data": {
      "image/png": "[encoded data removed]",
      "text/plain": [
       "<Figure size 720x360 with 1 Axes>"
      ]
     },
     "metadata": {
      "needs_background": "light"
     },
     "output_type": "display_data"
    }
   ],
   "source": [
    "labels = tf_major_mods_counts.index[:20]\n",
    "pos = np.arange(len(labels))\n",
    "height = tf_major_mods_counts.values[:20]\n",
    "fig = plt.figure(figsize=(10,5))\n",
    "plt.bar(pos, height, color = 'teal')\n",
    "plt.xticks(pos, labels, rotation = 90)\n",
    "plt.xlabel('ScikitLearn Modules')\n",
    "plt.ylabel('Number of Uses')\n",
    "plt.show()"
   ]
  },
  {
   "cell_type": "markdown",
   "metadata": {},
   "source": [
    "[Python Package Use &lt;](6_Packages.ipynb) | [&gt; ML Model Use](8_Models.ipynb)"
   ]
  }
 ],
 "metadata": {
  "anaconda-cloud": {},
  "kernelspec": {
   "display_name": "Python 3",
   "language": "python",
   "name": "python3"
  },
  "language_info": {
   "codemirror_mode": {
    "name": "ipython",
    "version": 3
   },
   "file_extension": ".py",
   "mimetype": "text/x-python",
   "name": "python",
   "nbconvert_exporter": "python",
   "pygments_lexer": "ipython3",
   "version": "3.7.3"
  }
 },
 "nbformat": 4,
 "nbformat_minor": 4
}
