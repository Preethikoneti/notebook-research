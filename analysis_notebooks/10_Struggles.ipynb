{
 "cells": [
  {
   "cell_type": "markdown",
   "metadata": {},
   "source": [
    "[Visualizations &lt;](9_Visualizations.ipynb) | [&gt; API Design](11_APIs.ipynb)"
   ]
  },
  {
   "cell_type": "markdown",
   "metadata": {},
   "source": [
    "# What are users struggling the most with?\n",
    "\n",
    "Notebook errors are a good indicator of what users struggle with. However, it’s important to keep in mind that many users will take care of errors before posting a notebook publicly to GitHub. It's likely that most struggles faced by users are not visible to us in the end product of their notebook. Here, I investigate the frequency and types of errors as well as the relationship between number of errors and a variety of other factors, including educational status, amount of markdown text, and whether the notebook cells were run in order. \n",
    "\n",
    "## Results Summary:\n",
    "- 11.84% of notebooks have at least one error.\n",
    "- The most frequent errors are NameError, TypeError, ValueError, and Keyboard Interrupt.\n",
    "- We are 95% confident that notebooks ran out of order have between 0.21 and 0.49 more errors than notebooks ran in order. \n",
    "- The number of errors in a notebook is not associated with the amount of markdown, whether the notebook is educational, whether the notebook uses machine learning frameworks, or whether the notebook's repository is collaborative, in sight, or isolated.\n",
    "----------"
   ]
  },
  {
   "cell_type": "markdown",
   "metadata": {},
   "source": [
    "# Import Packages and Load Data"
   ]
  },
  {
   "cell_type": "code",
   "execution_count": 1,
   "metadata": {},
   "outputs": [],
   "source": [
    "import pandas as pd\n",
    "import numpy as np\n",
    "import scipy.stats as st\n",
    "import math\n",
    "import matplotlib.pyplot as plt\n",
    "import pickle"
   ]
  },
  {
   "cell_type": "code",
   "execution_count": 2,
   "metadata": {},
   "outputs": [],
   "source": [
    "import load_data\n",
    "import datetime"
   ]
  },
  {
   "cell_type": "markdown",
   "metadata": {},
   "source": [
    "Load dataframes."
   ]
  },
  {
   "cell_type": "code",
   "execution_count": 3,
   "metadata": {},
   "outputs": [
    {
     "name": "stdout",
     "output_type": "stream",
     "text": [
      "Notebooks loaded in 0:00:35.610074\n",
      "Repos loaded in 0:00:04.238007\n"
     ]
    }
   ],
   "source": [
    "notebooks = load_data.load_notebooks()\n",
    "repos = load_data.load_repos()"
   ]
  },
  {
   "cell_type": "markdown",
   "metadata": {},
   "source": [
    "Load aggregated dataframes. Code used to create them is in [aggregate.py](aggregate.py)."
   ]
  },
  {
   "cell_type": "code",
   "execution_count": 4,
   "metadata": {},
   "outputs": [
    {
     "name": "stdout",
     "output_type": "stream",
     "text": [
      "Errors loaded in 0:00:10.047949\n",
      "Cell order loaded in 0:00:41.377326\n",
      "Collaboration statuses loaded in 0:00:00.080546\n",
      "Educational status loaded in 0:00:00.029418\n",
      "Notebook imports loaded in 0:00:53.264711\n"
     ]
    }
   ],
   "source": [
    "errors_df = load_data.load_errors()\n",
    "cell_order_df = load_data.load_cell_order()\n",
    "collab_status_df = load_data.load_collab_status()\n",
    "edu_status_df = load_data.load_edu_status()\n",
    "nb_imports_df = load_data.load_nb_imports()"
   ]
  },
  {
   "cell_type": "markdown",
   "metadata": {},
   "source": [
    "---\n",
    "# Manipulate Data"
   ]
  },
  {
   "cell_type": "markdown",
   "metadata": {},
   "source": [
    "Add number of errors column."
   ]
  },
  {
   "cell_type": "code",
   "execution_count": 5,
   "metadata": {},
   "outputs": [],
   "source": [
    "errors_df['num_errors'] = [len(e) for e in errors_df.error_names]"
   ]
  },
  {
   "cell_type": "markdown",
   "metadata": {},
   "source": [
    "Add machine learning use to errors dataframe if not already there."
   ]
  },
  {
   "cell_type": "code",
   "execution_count": 6,
   "metadata": {},
   "outputs": [
    {
     "name": "stdout",
     "output_type": "stream",
     "text": [
      "sklearn 0:00:04.420792\n",
      "tensorflow 0:00:08.780150\n",
      "keras 0:00:13.214183\n",
      "0:00:13.214666\n"
     ]
    }
   ],
   "source": [
    "start = datetime.datetime.now()\n",
    "for ml in ['sklearn','tensorflow','keras']:\n",
    "    if ml not in nb_imports_df.columns:\n",
    "        nb_imports_df[ml] = [ml in [i[0] for i in im] for im in nb_imports_df.imports]\n",
    "        print(ml, datetime.datetime.now() - start)\n",
    "end = datetime.datetime.now()\n",
    "print(end - start)"
   ]
  },
  {
   "cell_type": "code",
   "execution_count": 7,
   "metadata": {},
   "outputs": [],
   "source": [
    "errors_df = errors_df.merge(\n",
    "    nb_imports_df[['file','sklearn','tensorflow','keras']], \n",
    "    on = 'file'\n",
    ")"
   ]
  },
  {
   "cell_type": "markdown",
   "metadata": {},
   "source": [
    "---\n",
    "# Visualizations and Statistics"
   ]
  },
  {
   "cell_type": "markdown",
   "metadata": {},
   "source": [
    "## Looking at Number and Types of Errors"
   ]
  },
  {
   "cell_type": "code",
   "execution_count": 8,
   "metadata": {
    "scrolled": true
   },
   "outputs": [
    {
     "name": "stdout",
     "output_type": "stream",
     "text": [
      "Only 0.41% of cells have errors.\n"
     ]
    }
   ],
   "source": [
    "percent_error = 100 * sum(errors_df['num_errors'] > 0) / sum(errors_df['count'])\n",
    "print(\"Only {0}% of cells have errors.\".format(round(percent_error, 2)))"
   ]
  },
  {
   "cell_type": "code",
   "execution_count": 9,
   "metadata": {},
   "outputs": [
    {
     "name": "stdout",
     "output_type": "stream",
     "text": [
      "3782335 notebooks have no errors (88.16%).\n",
      "508049 notebooks have at least one error (11.84%).\n",
      "23394 notebooks have at least five errors (0.55%).\n"
     ]
    }
   ],
   "source": [
    "percent_nb_error = 100 * sum(errors_df.num_errors > 0) / len(errors_df)\n",
    "none = sum(errors_df.num_errors == 0)\n",
    "at_least_1 = sum(errors_df.num_errors > 0)\n",
    "at_least_5 = sum(errors_df.num_errors >= 5)\n",
    "\n",
    "print(\"{0} notebooks have no errors ({1}%).\".format(\n",
    "    round(none, 2),\n",
    "    round(100*none/len(errors_df), 2)\n",
    "))\n",
    "print(\"{0} notebooks have at least one error ({1}%).\".format(\n",
    "    round(at_least_1, 2),\n",
    "    round(100*at_least_1/len(errors_df), 2)\n",
    "))\n",
    "print(\"{0} notebooks have at least five errors ({1}%).\".format(\n",
    "    round(at_least_5, 2),\n",
    "    round(100*at_least_5/len(errors_df), 2)\n",
    "))"
   ]
  },
  {
   "cell_type": "markdown",
   "metadata": {},
   "source": [
    "Narrow down to notebooks with at least one error."
   ]
  },
  {
   "cell_type": "code",
   "execution_count": 10,
   "metadata": {},
   "outputs": [],
   "source": [
    "errors_df = errors_df[errors_df.num_errors > 0]\n",
    "all_errors = ','.join([','.join([e for e in error]) for error in errors_df.error_names]).split(',')\n",
    "error_counts = pd.Series(all_errors).value_counts().reset_index().rename(columns = {'index':'error', 0:'count'})"
   ]
  },
  {
   "cell_type": "code",
   "execution_count": 11,
   "metadata": {},
   "outputs": [
    {
     "data": {
      "image/png": "[encoded data removed]",
      "text/plain": [
       "<Figure size 432x288 with 1 Axes>"
      ]
     },
     "metadata": {
      "needs_background": "light"
     },
     "output_type": "display_data"
    }
   ],
   "source": [
    "x = error_counts['error'][:10]\n",
    "x_pos = np.arange(len(x))\n",
    "y = error_counts['count'][:10]\n",
    "\n",
    "plt.bar(x_pos, y, color = 'teal')\n",
    "plt.xticks(x_pos, x, rotation = 70)\n",
    "plt.title('Errors')\n",
    "plt.ylabel('Number of Occurrences')\n",
    "plt.show()"
   ]
  },
  {
   "cell_type": "markdown",
   "metadata": {},
   "source": [
    "## Are errors more or less common in notebooks run in order?"
   ]
  },
  {
   "cell_type": "code",
   "execution_count": 12,
   "metadata": {},
   "outputs": [],
   "source": [
    "errors_order_df = errors_df.merge(cell_order_df[['file','in_order']], on = 'file')\n",
    "in_order = errors_order_df[errors_order_df.in_order == True]\n",
    "out_order = errors_order_df[errors_order_df.in_order == False]"
   ]
  },
  {
   "cell_type": "code",
   "execution_count": 13,
   "metadata": {},
   "outputs": [
    {
     "name": "stdout",
     "output_type": "stream",
     "text": [
      "Among notebooks run in order, there is an average of 1.67 errors per notebook.\n",
      "Among notebooks run out of order, there is an average of 2.02 errors per notebook.\n"
     ]
    }
   ],
   "source": [
    "print(\"Among notebooks run in order, there is an average of {0} errors per notebook.\".format(\n",
    "    round(in_order.num_errors.mean(), 2)\n",
    "))\n",
    "print(\"Among notebooks run out of order, there is an average of {0} errors per notebook.\".format(\n",
    "    round(out_order.num_errors.mean(), 2)\n",
    "))"
   ]
  },
  {
   "cell_type": "markdown",
   "metadata": {},
   "source": [
    "#### Two sample t test for difference in mean number of errors between notebooks run in order and notebooks run out of order.\n",
    "\n",
    "$H_0$: $µ_{in\\_order}$ = $µ_{out\\_order}$\n",
    "\n",
    "$H_0$: $µ_{in\\_order}$ ≠ $µ_{out\\_order}$\n",
    "\n",
    "Where $µ_{in\\_order}$ is the average number of errors in a notebook run in order, $µ_{out\\_order}$ is the average number of errors in a notebook run out of order."
   ]
  },
  {
   "cell_type": "code",
   "execution_count": 14,
   "metadata": {},
   "outputs": [
    {
     "name": "stdout",
     "output_type": "stream",
     "text": [
      "With a t-statistic of 4.87 and p-vlaue of 0.0, we conclude that the average number of errors is different depending on whether a notebook was run in order.\n",
      "\n",
      "We are 95% confident that notebooks run out of order have between 0.21 and 0.49 more errors than notebooks run in order.\n"
     ]
    }
   ],
   "source": [
    "se = (in_order.num_errors.var()/len(in_order) + out_order.num_errors.var()/len(out_order))**0.5\n",
    "t = (out_order.num_errors.mean() - in_order.num_errors.mean()) / se\n",
    "df = len(in_order) + len(out_order) - 2\n",
    "p_value = 1 - st.t.cdf(t,df) if t > 0 else st.t.cdf(t,df)\n",
    "print(\"With a t-statistic of {0} and p-vlaue of {1}, we conclude that the average number of errors is different depending on whether a notebook was run in order.\".format(\n",
    "    round(t,2), round(p_value,2)\n",
    "))\n",
    "\n",
    "tstar = st.t.ppf(0.975, df)\n",
    "lower = (out_order.num_errors.mean() - in_order.num_errors.mean()) - tstar*se\n",
    "upper = (out_order.num_errors.mean() - in_order.num_errors.mean()) + tstar*se\n",
    "print(\"\\nWe are 95% confident that notebooks run out of order have between {0} and {1} more errors than notebooks run in order.\".format(\n",
    "    round(lower,2), round(upper,2)\n",
    "))"
   ]
  },
  {
   "cell_type": "markdown",
   "metadata": {},
   "source": [
    "#### Are there different types of errors common between notebooks run in order and notebooks run out of order"
   ]
  },
  {
   "cell_type": "code",
   "execution_count": 15,
   "metadata": {},
   "outputs": [
    {
     "data": {
      "image/png": "[encoded data removed]",
      "text/plain": [
       "<Figure size 432x288 with 1 Axes>"
      ]
     },
     "metadata": {
      "needs_background": "light"
     },
     "output_type": "display_data"
    }
   ],
   "source": [
    "error_names = list(error_counts['error'][:7].values)\n",
    "\n",
    "in_order_types = pd.Series(\n",
    "    load_data.flatten(in_order.error_names)\n",
    ").value_counts(normalize=True).reset_index().rename(\n",
    "    columns={'index':'error',0:'proportion'}\n",
    ")\n",
    "in_order_types = in_order_types[in_order_types.error.isin(error_names)].sort_values(by='error')\n",
    "\n",
    "out_order_types = pd.Series(\n",
    "    load_data.flatten(out_order.error_names)\n",
    ").value_counts(normalize=True).reset_index().rename(\n",
    "    columns={'index':'error',0:'proportion'}\n",
    ")\n",
    "out_order_types = out_order_types[out_order_types.error.isin(error_names)].sort_values(by = 'error')\n",
    "\n",
    "labels = in_order_types.error\n",
    "x = np.arange(len(labels))\n",
    "y1 = in_order_types.proportion\n",
    "y2 = out_order_types.proportion\n",
    "\n",
    "plt.bar(x - 0.2, y1, width = 0.4, label = 'in order', color = 'teal')\n",
    "plt.bar(x + 0.2, y2, width = 0.4, label = 'out of order', color = 'navy')\n",
    "plt.xticks(x, labels, rotation = 70)\n",
    "plt.legend()\n",
    "plt.show()"
   ]
  },
  {
   "cell_type": "markdown",
   "metadata": {},
   "source": [
    "In-order notebooks have more index errors and slightly more type and syntax errors. Out of order notebooks have more name errors and value errors, and slightly more keyboard interruptions and attribute errors."
   ]
  },
  {
   "cell_type": "markdown",
   "metadata": {},
   "source": [
    "## Is number of errors associated with amount of markdown?"
   ]
  },
  {
   "cell_type": "markdown",
   "metadata": {},
   "source": [
    "Add to cell order dataframe the ratio of markdown to code in each notebook."
   ]
  },
  {
   "cell_type": "code",
   "execution_count": 16,
   "metadata": {},
   "outputs": [],
   "source": [
    "cell_order_df['ratio_mc'] = [\n",
    "    l.count('markdown')/l.count('code') \n",
    "    if 'code' in l else np.nan \n",
    "    for l in cell_order_df.cell_type\n",
    "]\n",
    "\n",
    "errors_mc_df = errors_df.merge(\n",
    "    # ignore noteboooks without code cells (where ratio is infinity)\n",
    "    cell_order_df[~cell_order_df.ratio_mc.isna()][['file','ratio_mc']], \n",
    "    on = 'file'\n",
    ")"
   ]
  },
  {
   "cell_type": "code",
   "execution_count": 17,
   "metadata": {},
   "outputs": [
    {
     "data": {
      "image/png": "[encoded data removed]",
      "text/plain": [
       "<Figure size 432x288 with 1 Axes>"
      ]
     },
     "metadata": {
      "needs_background": "light"
     },
     "output_type": "display_data"
    },
    {
     "name": "stdout",
     "output_type": "stream",
     "text": [
      "The extremely weak correlation of -0.0027 does not indicate that the number of errors is related to the amount of markdown in a notebook.\n"
     ]
    }
   ],
   "source": [
    "corr = errors_mc_df[['num_errors','ratio_mc']].corr().iloc[0,1]\n",
    "\n",
    "plt.scatter(errors_mc_df.ratio_mc, errors_mc_df.num_errors, color = 'teal')\n",
    "plt.xlabel('Ratio Markdown : Code')\n",
    "plt.ylabel('Number of Errors')\n",
    "plt.title('Errors vs Amount of Markdown')\n",
    "plt.xlim(0, 10)\n",
    "plt.ylim(0, 40)\n",
    "plt.text(7.5, 37, 'r = {0}'.format(round(corr, 4)), fontsize = 13)\n",
    "plt.show()\n",
    "\n",
    "print(\"The extremely weak correlation of {0} does not indicate that the number of errors is related to the amount of markdown in a notebook.\".format(\n",
    "    round(corr,4)\n",
    "))"
   ]
  },
  {
   "cell_type": "markdown",
   "metadata": {},
   "source": [
    "## Are errors more or less common in educational notebooks?"
   ]
  },
  {
   "cell_type": "markdown",
   "metadata": {},
   "source": [
    "Add to errors dataframe whether the notebook comes from an educational repository."
   ]
  },
  {
   "cell_type": "code",
   "execution_count": 18,
   "metadata": {},
   "outputs": [],
   "source": [
    "errors_edu_df = errors_df.merge(notebooks[['file','repo_id']], on = 'file').merge(edu_status_df, on = 'repo_id')\n",
    "edu = errors_edu_df[errors_edu_df.edu == True]\n",
    "not_edu = errors_edu_df[errors_edu_df.edu == False]"
   ]
  },
  {
   "cell_type": "code",
   "execution_count": 29,
   "metadata": {},
   "outputs": [
    {
     "name": "stdout",
     "output_type": "stream",
     "text": [
      "Among educational notebooks, there is an average of 1.791 errors per notebook.\n",
      "Among non educational notebooks, there is an average of 1.898 errors per notebook.\n",
      "T-statistic = -0.85, p-value = 0.39\n"
     ]
    }
   ],
   "source": [
    "print(\"Among educational notebooks, there is an average of {0} errors per notebook.\".format(\n",
    "    round(edu.num_errors.mean(), 3)\n",
    "))\n",
    "print(\"Among non educational notebooks, there is an average of {0} errors per notebook.\".format(\n",
    "    round(not_edu.num_errors.mean(), 3)\n",
    "))\n",
    "\n",
    "t, p = st.mstats.ttest_ind(edu.num_errors, not_edu.num_errors)\n",
    "print(\"T-statistic = {0}, p-value = {1}\".format(round(t, 2), round(p, 2)))"
   ]
  },
  {
   "cell_type": "markdown",
   "metadata": {},
   "source": [
    "The number of errors is extremely close between educational notebooks and non-educational notebooks."
   ]
  },
  {
   "cell_type": "markdown",
   "metadata": {},
   "source": [
    "## Are errors more or less common in collaborative notebooks?"
   ]
  },
  {
   "cell_type": "markdown",
   "metadata": {},
   "source": [
    "Add to errors dataframe the collaborative status of its repository."
   ]
  },
  {
   "cell_type": "code",
   "execution_count": 20,
   "metadata": {},
   "outputs": [],
   "source": [
    "errors_collab_df = errors_df.merge(notebooks[['file','repo_id']], on = 'file').merge(\n",
    "    collab_status_df, on = 'repo_id'\n",
    ")\n",
    "collab = errors_collab_df[errors_collab_df.collab == 'collaborative']\n",
    "watched = errors_collab_df[errors_collab_df.collab == 'watched']\n",
    "isolated = errors_collab_df[errors_collab_df.collab == 'isolated']"
   ]
  },
  {
   "cell_type": "code",
   "execution_count": 21,
   "metadata": {},
   "outputs": [
    {
     "name": "stdout",
     "output_type": "stream",
     "text": [
      "Among collaborative notebooks, there is an average of 1.77 errors per notebook.\n",
      "Among watched notebooks, there is an average of 2.01 errors per notebook.\n",
      "Among isolated notebooks, there is an average of 1.83 errors per notebook.\n"
     ]
    }
   ],
   "source": [
    "print(\"Among collaborative notebooks, there is an average of {0} errors per notebook.\".format(\n",
    "    round(collab.num_errors.mean(), 2)\n",
    "))\n",
    "print(\"Among watched notebooks, there is an average of {0} errors per notebook.\".format(\n",
    "    round(watched.num_errors.mean(), 2)\n",
    "))\n",
    "print(\"Among isolated notebooks, there is an average of {0} errors per notebook.\".format(\n",
    "    round(isolated.num_errors.mean(), 2)\n",
    "))"
   ]
  },
  {
   "cell_type": "markdown",
   "metadata": {},
   "source": [
    "The number of errors is extremely close between the three levels of collaboration."
   ]
  },
  {
   "cell_type": "markdown",
   "metadata": {},
   "source": [
    "#### One way anova for difference in mean number of errors between collaborative, in sight, and isolated notebooks\n",
    "\n",
    "$H_0: \\mu_{collab} =  \\mu_{in\\_sight} = \\mu_{isolate}$\n",
    "\n",
    "$H_a$: at least one is not equal"
   ]
  },
  {
   "cell_type": "code",
   "execution_count": 22,
   "metadata": {},
   "outputs": [
    {
     "name": "stdout",
     "output_type": "stream",
     "text": [
      "F-statistic = 3.29, p-value = 0.04\n"
     ]
    }
   ],
   "source": [
    "F, p = st.f_oneway(collab.num_errors, watched.num_errors, isolated.num_errors)\n",
    "print(\"F-statistic = {0}, p-value = {1}\".format(\n",
    "    round(F, 2), round(p, 2)\n",
    "))"
   ]
  },
  {
   "cell_type": "markdown",
   "metadata": {},
   "source": [
    "The one-way anova resulted in a p-value of 0.04, so there is evidence that the number of errors depends on the collaborative status of a notebook."
   ]
  },
  {
   "cell_type": "code",
   "execution_count": 23,
   "metadata": {},
   "outputs": [
    {
     "name": "stdout",
     "output_type": "stream",
     "text": [
      "None of the pairwise p-values are significant: 0.06, 0.07, 0.09.\n"
     ]
    }
   ],
   "source": [
    "t1, p1 = st.mstats.ttest_ind(collab.num_errors, watched.num_errors)\n",
    "t2, p2 = st.mstats.ttest_ind(watched.num_errors, isolated.num_errors)\n",
    "t3, p3 = st.mstats.ttest_ind(collab.num_errors, isolated.num_errors)\n",
    "print('None of the pairwise p-values are significant: {0}, {1}, {2}.'.format(\n",
    "    round(p1,2), round(p2,2), round(p3,2)\n",
    "))"
   ]
  },
  {
   "cell_type": "markdown",
   "metadata": {},
   "source": [
    "## Are errors more or less likely to occur in notebooks using machine learning frameworks?"
   ]
  },
  {
   "cell_type": "markdown",
   "metadata": {},
   "source": [
    "Add framework use information to DataFrame."
   ]
  },
  {
   "cell_type": "code",
   "execution_count": 24,
   "metadata": {},
   "outputs": [
    {
     "name": "stdout",
     "output_type": "stream",
     "text": [
      "Among notebooks using machine learning, there is an average of 1.66 errors per notebook.\n",
      "Among notebooks not using machine learing, there is an average of 1.87 errors per notebook.\n"
     ]
    }
   ],
   "source": [
    "non_ml_files = errors_df[[\n",
    "    row['sklearn'] + row['tensorflow'] + row['keras'] == 0 \n",
    "    for _, row in errors_df.iterrows()\n",
    "]]\n",
    "ml_files = errors_df[~errors_df.file.isin(non_ml_files.file)]\n",
    "print(\"Among notebooks using machine learning, there is an average of {0} errors per notebook.\".format(\n",
    "    round(ml_files.num_errors.mean(), 2)\n",
    "))\n",
    "print(\"Among notebooks not using machine learing, there is an average of {0} errors per notebook.\".format(\n",
    "    round(non_ml_files.num_errors.mean(), 2)\n",
    "))"
   ]
  },
  {
   "cell_type": "code",
   "execution_count": 25,
   "metadata": {},
   "outputs": [
    {
     "data": {
      "image/png": "[encoded data removed]",
      "text/plain": [
       "<Figure size 720x360 with 2 Axes>"
      ]
     },
     "metadata": {
      "needs_background": "light"
     },
     "output_type": "display_data"
    }
   ],
   "source": [
    "fig = plt.figure(figsize = (10,5))\n",
    "\n",
    "plt.subplot(1,2,1)\n",
    "plt.title('Notebooks Using Machine Learning')\n",
    "plt.yscale('log')\n",
    "plt.ylim(1, 1000000)\n",
    "plt.xlim(0, 200)\n",
    "plt.hist(ml_files.num_errors, bins = range(0,200,5), color = 'teal')\n",
    "\n",
    "plt.subplot(1,2,2)\n",
    "plt.title('Notebooks Not Using Machine Learning')\n",
    "plt.yscale('log')\n",
    "plt.ylim(1, 1000000)\n",
    "plt.xlim(0, 200)\n",
    "plt.hist(non_ml_files.num_errors, bins = range(0,200,5), color = 'teal')\n",
    "\n",
    "plt.show()"
   ]
  },
  {
   "cell_type": "markdown",
   "metadata": {},
   "source": [
    "Both groups of notebooks number of errors concentrated at 0 and both distributions are skewed right. The number of errors for notebooks not using machine learning has a slightly wider range."
   ]
  },
  {
   "cell_type": "markdown",
   "metadata": {},
   "source": [
    "#### Two sample t test for difference in mean number of errors between notebooks using and not using machine learning frameworks.\n",
    "\n",
    "$H_0$: $µ_{ml}$ = $µ_{not ml}$\n",
    "\n",
    "$H_0$: $µ_{ml}$ ≠ $µ_{not ml}$\n",
    "\n",
    "Where $µ_{ml}$ is the average number of errors in a notebook using at least one of the tree machine learning frameworks, $µ_{not ml}$ is the average number of errors in a notebook *not* using any of the three machine learning frameworks."
   ]
  },
  {
   "cell_type": "code",
   "execution_count": 26,
   "metadata": {},
   "outputs": [
    {
     "name": "stdout",
     "output_type": "stream",
     "text": [
      "T-statistic: -1.34\n",
      "P-value: 0.18\n"
     ]
    }
   ],
   "source": [
    "n_ml = len(ml_files)\n",
    "xbar_ml = pd.Series(ml_files.num_errors).mean()\n",
    "s2_ml = pd.Series(ml_files.num_errors).var()\n",
    "\n",
    "n_notml = len(non_ml_files)\n",
    "xbar_notml = pd.Series(non_ml_files.num_errors).mean()\n",
    "s2_notml = pd.Series(non_ml_files.num_errors).var()\n",
    "\n",
    "df = n_ml + n_notml - 2\n",
    "\n",
    "se = math.sqrt(s2_ml/n_ml + s2_notml/n_notml)\n",
    "t = (xbar_ml - xbar_notml) / se\n",
    "p_value = 2*st.t.cdf(t, df)\n",
    "\n",
    "print(\"T-statistic:\", round(t,2))\n",
    "print(\"P-value:\", round(p_value,2))"
   ]
  },
  {
   "cell_type": "markdown",
   "metadata": {},
   "source": [
    "The p-value of 0.18 does not provide enough evidence to reject the null hypothesis, so we cannot conclude that the mean number of errors is different in notebooks using at least one of the three main machine learning frameworks (tensorflow, keras, sklearn) than in notebooks using none."
   ]
  },
  {
   "cell_type": "markdown",
   "metadata": {},
   "source": [
    "[Visualizations &lt;](9_Visualizations.ipynb) | [&gt; API Design](11_APIs.ipynb)"
   ]
  }
 ],
 "metadata": {
  "anaconda-cloud": {},
  "kernelspec": {
   "display_name": "Python 3",
   "language": "python",
   "name": "python3"
  },
  "language_info": {
   "codemirror_mode": {
    "name": "ipython",
    "version": 3
   },
   "file_extension": ".py",
   "mimetype": "text/x-python",
   "name": "python",
   "nbconvert_exporter": "python",
   "pygments_lexer": "ipython3",
   "version": "3.7.3"
  }
 },
 "nbformat": 4,
 "nbformat_minor": 4
}
