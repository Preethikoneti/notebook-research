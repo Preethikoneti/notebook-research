{
 "cells": [
  {
   "cell_type": "markdown",
   "metadata": {},
   "source": [
    "[Jupyter Standards &lt;](13_Standards.ipynb) | [&gt; Exploring Interactive Subsets](15_Interactive.ipynb)"
   ]
  },
  {
   "cell_type": "markdown",
   "metadata": {},
   "source": [
    "# What are users spending the most time on?"
   ]
  },
  {
   "cell_type": "markdown",
   "metadata": {},
   "source": [
    "Here, we are trying to understand the intent of different cells. For instance, is a given cell for data import, data cleaning and transformation, data visualization, stats modelling, etc? What is the granulaity of work in a cell - are users doing mulltiple activities in a cell, or just one?\n",
    "\n",
    "*Before running this notebook, time.py must run to completion.*\n",
    "\n",
    "## Results Summary:\n",
    "Because this is unsupervised, it’s hard to say which of the three options is best. Even in the deterministic model, there are data manipulation cells that don’t use pandas or numpy that aren’t accounted for. While I don’t think the exact proportions should be taken as truth, the overall patterns were consistent between the models and can give us a good idea of how the data science workflow progresses through a Jupyter Notebook. First, we have imports and data manipulation. After the first 15% or so of cells have passed by, the use of machine learning and visualization grows. At the very end, machine learning takes a dip and visualizations take one last leap. Logic and loops are used throughout the notebook, but least frequent at the very beginning. \n",
    "\n",
    "---------"
   ]
  },
  {
   "cell_type": "markdown",
   "metadata": {},
   "source": [
    "# Import Packages and Load Data"
   ]
  },
  {
   "cell_type": "code",
   "execution_count": 1,
   "metadata": {},
   "outputs": [],
   "source": [
    "import pandas as pd\n",
    "import numpy as np\n",
    "import matplotlib.pyplot as plt\n",
    "import sklearn\n",
    "from sklearn.cluster import KMeans\n",
    "from sklearn.feature_extraction.text import TfidfVectorizer\n",
    "from apyori import apriori\n",
    "\n",
    "\n",
    "import math\n",
    "import random\n",
    "import load_data\n",
    "import datetime\n",
    "import gensim\n",
    "import os\n",
    "import pickle"
   ]
  },
  {
   "cell_type": "code",
   "execution_count": 2,
   "metadata": {},
   "outputs": [
    {
     "data": {
      "text/html": [
       "<style>\n",
       "table {float:left}\n",
       "</style>\n"
      ],
      "text/plain": [
       "<IPython.core.display.HTML object>"
      ]
     },
     "metadata": {},
     "output_type": "display_data"
    }
   ],
   "source": [
    "%%html\n",
    "<style>\n",
    "table {float:left}\n",
    "</style>"
   ]
  },
  {
   "cell_type": "code",
   "execution_count": 3,
   "metadata": {},
   "outputs": [
    {
     "name": "stdout",
     "output_type": "stream",
     "text": [
      "Processed code loaded in 0:00:17.752465\n",
      "Processed code for 1421154 notebooks has been opened.\n"
     ]
    }
   ],
   "source": [
    "all_processed_code = load_data.load_all_processed_code()\n",
    "print(\"Processed code for {0} notebooks has been opened.\".format(len(all_processed_code)))"
   ]
  },
  {
   "cell_type": "code",
   "execution_count": 4,
   "metadata": {},
   "outputs": [],
   "source": [
    "class_to_color = {\n",
    "    'Imports': 'navy',\n",
    "    'Data': 'purple',\n",
    "    'Logic & Loops': 'black',\n",
    "    'Machine Learning': 'green',\n",
    "    'Function': 'crimson',\n",
    "    'Visualization': 'teal'\n",
    "}"
   ]
  },
  {
   "cell_type": "markdown",
   "metadata": {},
   "source": [
    "-----\n",
    "# Part 1: Limit to Python data science notebooks "
   ]
  },
  {
   "cell_type": "markdown",
   "metadata": {},
   "source": [
    "If a notebook imports at least two packages relevant to data science and machine learning (pandas, numpy, matplotlib, seaborn, sklearn, keras, and tensorflow), it is a data science/machine learning notebook.\n",
    "\n",
    "This was done before the code was preprocessed in time.py. First, the set was limited to the 73.86% of notebooks were written in Python 3. Of those, 44.85% are data science / machine learning notebooks."
   ]
  },
  {
   "cell_type": "markdown",
   "metadata": {},
   "source": [
    "----"
   ]
  },
  {
   "cell_type": "markdown",
   "metadata": {
    "toc-hr-collapsed": false
   },
   "source": [
    "# Part 2: Tokenize code"
   ]
  },
  {
   "cell_type": "markdown",
   "metadata": {},
   "source": [
    "Looking at my own notebooks and samples of data science notebooks on GitHub, it's clear that most users have different parts of the data science process in different cells. Futher, there are clues in the code to see what part of the process it belogs to.\n",
    "\n",
    "*Imports*:\n",
    "- import statements\n",
    "\n",
    "*Opening Data*:\n",
    "- pandas read_csv\n",
    "- with open\n",
    "\n",
    "*Function and Class Definitions*:\n",
    "- def and class statements\n",
    "- return statements\n",
    "- lambdas with assignment\n",
    "\n",
    "*Data Manipulation*:\n",
    "- dataframe access\n",
    "- pandas functions (merge, groupby, etc.)\n",
    "\n",
    "*Modeling*:\n",
    "- reference a machine learning framework\n",
    "- framework functions (fit, predict, etc.)\n",
    "\n",
    "*Visualization*:\n",
    "- reference a visualization package\n",
    "- package functions (plot, scatter, chart, etc.)\n",
    "- has displayed data output key\n",
    "\n",
    "There are also many cells that will not fall into one of these categories. Further, there are many notebooks that won't necessarily be doing data science. Some notebooks may be in a directory where each file is one step of the process."
   ]
  },
  {
   "cell_type": "markdown",
   "metadata": {},
   "source": [
    "## Pre-processing"
   ]
  },
  {
   "cell_type": "markdown",
   "metadata": {},
   "source": [
    "Add nb_imports column (all imports from the notebook)"
   ]
  },
  {
   "cell_type": "markdown",
   "metadata": {},
   "source": [
    "- Mark python abstract syntax tree types.\n",
    "- Replace aliases with what was imported\n",
    "- Replace:\n",
    "\n",
    "| In             | Out                             |\n",
    "|----------------|--------------------------------|\n",
    "| 1 < 9 | &lt;logic&gt; |\n",
    "| for i in range(20) | &lt;loop&gt; &lt;loop&gt; |\n",
    "| pd.read_csv() | pandas read_csv |\n",
    "| plt.plot(x, y) | &lt;visualization&gt; plot |\n",
    "| sklearn.linear_model| &lt;framework&gt; linear_model |\n",
    "\n"
   ]
  },
  {
   "cell_type": "markdown",
   "metadata": {},
   "source": [
    "- Remove extra symbols ( :,()=[]\"'\\${}; )\n",
    "- Split on spaces and periods"
   ]
  },
  {
   "cell_type": "markdown",
   "metadata": {
    "toc-hr-collapsed": false
   },
   "source": [
    "----\n",
    "# Part 3: Classify the tasks of each cell\n",
    "Identify if cells are for 'imports', 'data cleaning / manipulation', 'modeling', 'visualization', etc. Each cell is allowed to have multiple classifications as long as it fits the criteria for each."
   ]
  },
  {
   "cell_type": "markdown",
   "metadata": {},
   "source": [
    "## Deterministic Model\n",
    "- Imports if there is an import statement\n",
    "- Visualization if it uses a visualization package\n",
    "- Machine Learning if it uses a ML package or uses a ML model API call (fit, predict, ...)\n",
    "- Data if none of the above and uses pandas or numpy\n",
    "- Other if none of the above"
   ]
  },
  {
   "cell_type": "code",
   "execution_count": 5,
   "metadata": {},
   "outputs": [],
   "source": [
    "ml_api_calls = [\n",
    "    'train_test_split',\n",
    "    'fit',\n",
    "    'fit_generator',\n",
    "    'transform',\n",
    "    'fit_transform',\n",
    "    'predict',\n",
    "    'predict_class',\n",
    "    'predict_generator',\n",
    "    'predict_on_batch',\n",
    "    'evaluate',\n",
    "    'evaluate_generator'\n",
    "]\n",
    "\n",
    "def get_distrib_multiclass(nb_records):\n",
    "    distrib = {\n",
    "        'place': [],\n",
    "        'type': []\n",
    "    }\n",
    "    total = []\n",
    "    save_multiclasses = []\n",
    "    for nb in nb_records:\n",
    "        i = 0\n",
    "        multiclasses = []\n",
    "        for record in nb:\n",
    "            classes = []\n",
    "            if record.strip() != '':\n",
    "                place = round(i/len(nb), 1)\n",
    "                total.append(place)\n",
    "                if '<import>' in record:\n",
    "                    distrib['place'].append(place) \n",
    "                    distrib['type'].append('Imports')\n",
    "                    classes.append('Imports')\n",
    "                if '<visualization>' in record:\n",
    "                    distrib['place'].append(place) \n",
    "                    distrib['type'].append('Visualization')\n",
    "                    classes.append('Visualization')\n",
    "                if '<framework>' in record or sum([m in record for m in ml_api_calls]) > 0:\n",
    "                    distrib['place'].append(place) \n",
    "                    distrib['type'].append('Machine Learning')\n",
    "                    classes.append('Machine Learning')\n",
    "                if 'pandas' in record or 'numpy' in record:\n",
    "                    distrib['place'].append(place) \n",
    "                    distrib['type'].append('Data')\n",
    "                    classes.append('Data')\n",
    "                if '<function_def>' in record:\n",
    "                    distrib['place'].append(place) \n",
    "                    distrib['type'].append('Function')\n",
    "                    classes.append('Function')\n",
    "                if '<logic>' in record or '<loop>' in record:\n",
    "                    distrib['place'].append(place) \n",
    "                    distrib['type'].append('Logic & Loops')\n",
    "                    classes.append('Logic & Loops')\n",
    "            i += 1\n",
    "            multiclasses.append(classes)\n",
    "        save_multiclasses.append(multiclasses)\n",
    "    distrib_df = pd.DataFrame(distrib).reset_index().rename(\n",
    "        columns={'index':'num'}\n",
    "    ).groupby(['place','type'])['num'].count().reset_index()\n",
    "\n",
    "    distrib_df = distrib_df.merge(\n",
    "        pd.Series(total).value_counts().reset_index().rename(columns = {\n",
    "            'index': 'place', 0:'total'\n",
    "        }),\n",
    "        on = 'place'\n",
    "    )\n",
    "\n",
    "    distrib_df['prop'] = distrib_df['num'] / distrib_df['total']\n",
    "    return distrib_df, save_multiclasses"
   ]
  },
  {
   "cell_type": "code",
   "execution_count": 6,
   "metadata": {},
   "outputs": [
    {
     "name": "stdout",
     "output_type": "stream",
     "text": [
      "0:02:59.640685\n"
     ]
    }
   ],
   "source": [
    "# 3 minutes\n",
    "start = datetime.datetime.now()\n",
    "\n",
    "distrib2, save_multiclasses = get_distrib_multiclass(all_processed_code)\n",
    "\n",
    "end = datetime.datetime.now()\n",
    "print(end - start)"
   ]
  },
  {
   "cell_type": "code",
   "execution_count": 7,
   "metadata": {},
   "outputs": [
    {
     "data": {
      "image/png": "[encoded data removed]",
      "text/plain": [
       "<Figure size 576x360 with 1 Axes>"
      ]
     },
     "metadata": {
      "needs_background": "light"
     },
     "output_type": "display_data"
    }
   ],
   "source": [
    "fig = plt.figure(figsize = (8, 5))\n",
    "for classification in ['Imports','Data','Function','Logic & Loops',\n",
    "                       'Visualization','Machine Learning']:\n",
    "    df = distrib2[distrib2.type == classification]\n",
    "    plt.plot(\n",
    "        df['place'], df['prop'], \n",
    "        color = class_to_color[classification], \n",
    "        label = classification\n",
    "    )\n",
    "plt.title('Distribution of Tasks', fontsize = 12)\n",
    "plt.legend(title = 'Tasks', fontsize = 11) # bbox_to_anchor=(1.3, 1)\n",
    "plt.xlabel('Location in Notebook', fontsize = 11)\n",
    "plt.ylabel('Proportion of Cells at this Location', fontsize = 11)\n",
    "plt.show()"
   ]
  },
  {
   "cell_type": "code",
   "execution_count": 8,
   "metadata": {},
   "outputs": [
    {
     "name": "stdout",
     "output_type": "stream",
     "text": [
      "54.54% of cells fall into at least one category.\n"
     ]
    }
   ],
   "source": [
    "print(\"{0}% of cells fall into at least one category.\".format(\n",
    "    round(100*sum(\n",
    "            [len([m for m in multi if m != []]) for multi in save_multiclasses]\n",
    "        )/sum([len(m) for m in save_multiclasses]), 2\n",
    "    )\n",
    "))"
   ]
  },
  {
   "cell_type": "code",
   "execution_count": 9,
   "metadata": {},
   "outputs": [
    {
     "data": {
      "text/html": [
       "<div>\n",
       "<style scoped>\n",
       "    .dataframe tbody tr th:only-of-type {\n",
       "        vertical-align: middle;\n",
       "    }\n",
       "\n",
       "    .dataframe tbody tr th {\n",
       "        vertical-align: top;\n",
       "    }\n",
       "\n",
       "    .dataframe thead th {\n",
       "        text-align: right;\n",
       "    }\n",
       "</style>\n",
       "<table border=\"1\" class=\"dataframe\">\n",
       "  <thead>\n",
       "    <tr style=\"text-align: right;\">\n",
       "      <th></th>\n",
       "      <th>type</th>\n",
       "      <th>num</th>\n",
       "      <th>prop_all</th>\n",
       "    </tr>\n",
       "  </thead>\n",
       "  <tbody>\n",
       "    <tr>\n",
       "      <th>0</th>\n",
       "      <td>Data</td>\n",
       "      <td>7403477</td>\n",
       "      <td>0.228674</td>\n",
       "    </tr>\n",
       "    <tr>\n",
       "      <th>1</th>\n",
       "      <td>Function</td>\n",
       "      <td>2576136</td>\n",
       "      <td>0.079570</td>\n",
       "    </tr>\n",
       "    <tr>\n",
       "      <th>2</th>\n",
       "      <td>Imports</td>\n",
       "      <td>3866207</td>\n",
       "      <td>0.119417</td>\n",
       "    </tr>\n",
       "    <tr>\n",
       "      <th>3</th>\n",
       "      <td>Logic &amp; Loops</td>\n",
       "      <td>8054110</td>\n",
       "      <td>0.248770</td>\n",
       "    </tr>\n",
       "    <tr>\n",
       "      <th>4</th>\n",
       "      <td>Machine Learning</td>\n",
       "      <td>6396879</td>\n",
       "      <td>0.197582</td>\n",
       "    </tr>\n",
       "    <tr>\n",
       "      <th>5</th>\n",
       "      <td>Visualization</td>\n",
       "      <td>4078937</td>\n",
       "      <td>0.125987</td>\n",
       "    </tr>\n",
       "  </tbody>\n",
       "</table>\n",
       "</div>"
      ],
      "text/plain": [
       "               type      num  prop_all\n",
       "0              Data  7403477  0.228674\n",
       "1          Function  2576136  0.079570\n",
       "2           Imports  3866207  0.119417\n",
       "3     Logic & Loops  8054110  0.248770\n",
       "4  Machine Learning  6396879  0.197582\n",
       "5     Visualization  4078937  0.125987"
      ]
     },
     "execution_count": 9,
     "metadata": {},
     "output_type": "execute_result"
    }
   ],
   "source": [
    "all_cells = distrib2.groupby('type')['num'].sum().reset_index()\n",
    "num_cells = all_cells.num.sum()\n",
    "all_cells['prop_all'] = all_cells['num']/num_cells\n",
    "all_cells"
   ]
  },
  {
   "cell_type": "code",
   "execution_count": 10,
   "metadata": {},
   "outputs": [
    {
     "data": {
      "text/html": [
       "<div>\n",
       "<style scoped>\n",
       "    .dataframe tbody tr th:only-of-type {\n",
       "        vertical-align: middle;\n",
       "    }\n",
       "\n",
       "    .dataframe tbody tr th {\n",
       "        vertical-align: top;\n",
       "    }\n",
       "\n",
       "    .dataframe thead th {\n",
       "        text-align: right;\n",
       "    }\n",
       "</style>\n",
       "<table border=\"1\" class=\"dataframe\">\n",
       "  <thead>\n",
       "    <tr style=\"text-align: right;\">\n",
       "      <th></th>\n",
       "      <th>place</th>\n",
       "      <th>type</th>\n",
       "      <th>num</th>\n",
       "      <th>total</th>\n",
       "      <th>prop</th>\n",
       "    </tr>\n",
       "  </thead>\n",
       "  <tbody>\n",
       "    <tr>\n",
       "      <th>0</th>\n",
       "      <td>0.0</td>\n",
       "      <td>Data</td>\n",
       "      <td>533813</td>\n",
       "      <td>1680652</td>\n",
       "      <td>0.317623</td>\n",
       "    </tr>\n",
       "    <tr>\n",
       "      <th>1</th>\n",
       "      <td>0.0</td>\n",
       "      <td>Function</td>\n",
       "      <td>102545</td>\n",
       "      <td>1680652</td>\n",
       "      <td>0.061015</td>\n",
       "    </tr>\n",
       "    <tr>\n",
       "      <th>2</th>\n",
       "      <td>0.0</td>\n",
       "      <td>Imports</td>\n",
       "      <td>950170</td>\n",
       "      <td>1680652</td>\n",
       "      <td>0.565358</td>\n",
       "    </tr>\n",
       "    <tr>\n",
       "      <th>3</th>\n",
       "      <td>0.0</td>\n",
       "      <td>Logic &amp; Loops</td>\n",
       "      <td>247868</td>\n",
       "      <td>1680652</td>\n",
       "      <td>0.147483</td>\n",
       "    </tr>\n",
       "    <tr>\n",
       "      <th>4</th>\n",
       "      <td>0.0</td>\n",
       "      <td>Machine Learning</td>\n",
       "      <td>136074</td>\n",
       "      <td>1680652</td>\n",
       "      <td>0.080965</td>\n",
       "    </tr>\n",
       "    <tr>\n",
       "      <th>5</th>\n",
       "      <td>0.0</td>\n",
       "      <td>Visualization</td>\n",
       "      <td>74009</td>\n",
       "      <td>1680652</td>\n",
       "      <td>0.044036</td>\n",
       "    </tr>\n",
       "  </tbody>\n",
       "</table>\n",
       "</div>"
      ],
      "text/plain": [
       "   place              type     num    total      prop\n",
       "0    0.0              Data  533813  1680652  0.317623\n",
       "1    0.0          Function  102545  1680652  0.061015\n",
       "2    0.0           Imports  950170  1680652  0.565358\n",
       "3    0.0     Logic & Loops  247868  1680652  0.147483\n",
       "4    0.0  Machine Learning  136074  1680652  0.080965\n",
       "5    0.0     Visualization   74009  1680652  0.044036"
      ]
     },
     "execution_count": 10,
     "metadata": {},
     "output_type": "execute_result"
    }
   ],
   "source": [
    "distrib2[distrib2.place == 0]"
   ]
  },
  {
   "cell_type": "code",
   "execution_count": 11,
   "metadata": {},
   "outputs": [
    {
     "data": {
      "text/html": [
       "<div>\n",
       "<style scoped>\n",
       "    .dataframe tbody tr th:only-of-type {\n",
       "        vertical-align: middle;\n",
       "    }\n",
       "\n",
       "    .dataframe tbody tr th {\n",
       "        vertical-align: top;\n",
       "    }\n",
       "\n",
       "    .dataframe thead th {\n",
       "        text-align: right;\n",
       "    }\n",
       "</style>\n",
       "<table border=\"1\" class=\"dataframe\">\n",
       "  <thead>\n",
       "    <tr style=\"text-align: right;\">\n",
       "      <th></th>\n",
       "      <th>place</th>\n",
       "      <th>type</th>\n",
       "      <th>num</th>\n",
       "      <th>total</th>\n",
       "      <th>prop</th>\n",
       "    </tr>\n",
       "  </thead>\n",
       "  <tbody>\n",
       "    <tr>\n",
       "      <th>6</th>\n",
       "      <td>0.1</td>\n",
       "      <td>Data</td>\n",
       "      <td>915388</td>\n",
       "      <td>3044201</td>\n",
       "      <td>0.300699</td>\n",
       "    </tr>\n",
       "    <tr>\n",
       "      <th>7</th>\n",
       "      <td>0.1</td>\n",
       "      <td>Function</td>\n",
       "      <td>304386</td>\n",
       "      <td>3044201</td>\n",
       "      <td>0.099989</td>\n",
       "    </tr>\n",
       "    <tr>\n",
       "      <th>8</th>\n",
       "      <td>0.1</td>\n",
       "      <td>Imports</td>\n",
       "      <td>354912</td>\n",
       "      <td>3044201</td>\n",
       "      <td>0.116586</td>\n",
       "    </tr>\n",
       "    <tr>\n",
       "      <th>9</th>\n",
       "      <td>0.1</td>\n",
       "      <td>Logic &amp; Loops</td>\n",
       "      <td>767025</td>\n",
       "      <td>3044201</td>\n",
       "      <td>0.251963</td>\n",
       "    </tr>\n",
       "    <tr>\n",
       "      <th>10</th>\n",
       "      <td>0.1</td>\n",
       "      <td>Machine Learning</td>\n",
       "      <td>330680</td>\n",
       "      <td>3044201</td>\n",
       "      <td>0.108626</td>\n",
       "    </tr>\n",
       "    <tr>\n",
       "      <th>11</th>\n",
       "      <td>0.1</td>\n",
       "      <td>Visualization</td>\n",
       "      <td>289951</td>\n",
       "      <td>3044201</td>\n",
       "      <td>0.095247</td>\n",
       "    </tr>\n",
       "  </tbody>\n",
       "</table>\n",
       "</div>"
      ],
      "text/plain": [
       "    place              type     num    total      prop\n",
       "6     0.1              Data  915388  3044201  0.300699\n",
       "7     0.1          Function  304386  3044201  0.099989\n",
       "8     0.1           Imports  354912  3044201  0.116586\n",
       "9     0.1     Logic & Loops  767025  3044201  0.251963\n",
       "10    0.1  Machine Learning  330680  3044201  0.108626\n",
       "11    0.1     Visualization  289951  3044201  0.095247"
      ]
     },
     "execution_count": 11,
     "metadata": {},
     "output_type": "execute_result"
    }
   ],
   "source": [
    "distrib2[distrib2.place == 0.1]"
   ]
  },
  {
   "cell_type": "markdown",
   "metadata": {},
   "source": [
    "Interpretations:\n",
    "- If a cell is in the first 5% of a notebook, there's a 57% chance it is importing packages, a 32% chance that it is data loading or manipulation, and a 15% chance that it uses logic and loops. Less likely are machine learning (8%), function definitions (6%), and visualizations (4%). The proportions here do not add up to one because one cell is now allowed to be a part of multiple classes.\n",
    "- If a cell is between the 5% and 15% point, there's a 30% chance it is loading or manipulating data, followed by a 25% chance that it uses logic and loops. Less likely are a 12% chance that it is importing packages, a 11% chace of using machine learning, and a 10% chance of both creating visualizations and defining functions.\n",
    "- Imports are a large proportion of early cells and drops quickly after the first five percent of cells. Data loading and manipulation is also pretty consistent, used in around 28% of cells, but most likely in the first 20%. The use of machine learning increases steadily in the first 80% of cells, then drops slightly in the last 20% of cells. The use of visualizations increases at the beginning and the end, but remains somewhat constant around 15% in the middle 60% of cells. Function definitions are most likely between the 20% and 40% marks and become less likely towards the end. Finally, logic and loops are unlikely at the beginning but are used pretty consistently for the rest of the notebook."
   ]
  },
  {
   "cell_type": "markdown",
   "metadata": {},
   "source": [
    "### What tasks frequently co-occur\n",
    "In this model a cell can perform multiple tasks. What tasks are frequently performed together in a cell?"
   ]
  },
  {
   "cell_type": "code",
   "execution_count": 12,
   "metadata": {},
   "outputs": [
    {
     "name": "stdout",
     "output_type": "stream",
     "text": [
      "0:00:48.126994\n"
     ]
    }
   ],
   "source": [
    "# 45 seconds\n",
    "start = datetime.datetime.now()\n",
    "\n",
    "save_multiclasses_df = pd.DataFrame({\n",
    "    'classes': load_data.flatten(save_multiclasses)\n",
    "})\n",
    "for classification in class_to_color.keys():\n",
    "    save_multiclasses_df[classification] = [classification in s for s in save_multiclasses_df.classes]\n",
    "    \n",
    "end = datetime.datetime.now()\n",
    "print(end - start)"
   ]
  },
  {
   "cell_type": "code",
   "execution_count": 13,
   "metadata": {},
   "outputs": [
    {
     "data": {
      "text/html": [
       "<div>\n",
       "<style scoped>\n",
       "    .dataframe tbody tr th:only-of-type {\n",
       "        vertical-align: middle;\n",
       "    }\n",
       "\n",
       "    .dataframe tbody tr th {\n",
       "        vertical-align: top;\n",
       "    }\n",
       "\n",
       "    .dataframe thead th {\n",
       "        text-align: right;\n",
       "    }\n",
       "</style>\n",
       "<table border=\"1\" class=\"dataframe\">\n",
       "  <thead>\n",
       "    <tr style=\"text-align: right;\">\n",
       "      <th></th>\n",
       "      <th>Machine Learning</th>\n",
       "      <th>Logic &amp; Loops</th>\n",
       "      <th>Function</th>\n",
       "      <th>Visualization</th>\n",
       "      <th>Data</th>\n",
       "      <th>Imports</th>\n",
       "    </tr>\n",
       "  </thead>\n",
       "  <tbody>\n",
       "    <tr>\n",
       "      <th>Machine Learning</th>\n",
       "      <td>1.000000</td>\n",
       "      <td>0.096126</td>\n",
       "      <td>0.115817</td>\n",
       "      <td>-0.028662</td>\n",
       "      <td>0.021683</td>\n",
       "      <td>0.157159</td>\n",
       "    </tr>\n",
       "    <tr>\n",
       "      <th>Logic &amp; Loops</th>\n",
       "      <td>0.096126</td>\n",
       "      <td>1.000000</td>\n",
       "      <td>0.320688</td>\n",
       "      <td>0.135645</td>\n",
       "      <td>0.229876</td>\n",
       "      <td>0.014317</td>\n",
       "    </tr>\n",
       "    <tr>\n",
       "      <th>Function</th>\n",
       "      <td>0.115817</td>\n",
       "      <td>0.320688</td>\n",
       "      <td>1.000000</td>\n",
       "      <td>0.037774</td>\n",
       "      <td>0.170866</td>\n",
       "      <td>0.025327</td>\n",
       "    </tr>\n",
       "    <tr>\n",
       "      <th>Visualization</th>\n",
       "      <td>-0.028662</td>\n",
       "      <td>0.135645</td>\n",
       "      <td>0.037774</td>\n",
       "      <td>1.000000</td>\n",
       "      <td>0.081585</td>\n",
       "      <td>0.006800</td>\n",
       "    </tr>\n",
       "    <tr>\n",
       "      <th>Data</th>\n",
       "      <td>0.021683</td>\n",
       "      <td>0.229876</td>\n",
       "      <td>0.170866</td>\n",
       "      <td>0.081585</td>\n",
       "      <td>1.000000</td>\n",
       "      <td>0.020522</td>\n",
       "    </tr>\n",
       "    <tr>\n",
       "      <th>Imports</th>\n",
       "      <td>0.157159</td>\n",
       "      <td>0.014317</td>\n",
       "      <td>0.025327</td>\n",
       "      <td>0.006800</td>\n",
       "      <td>0.020522</td>\n",
       "      <td>1.000000</td>\n",
       "    </tr>\n",
       "  </tbody>\n",
       "</table>\n",
       "</div>"
      ],
      "text/plain": [
       "                  Machine Learning  Logic & Loops  Function  Visualization  \\\n",
       "Machine Learning          1.000000       0.096126  0.115817      -0.028662   \n",
       "Logic & Loops             0.096126       1.000000  0.320688       0.135645   \n",
       "Function                  0.115817       0.320688  1.000000       0.037774   \n",
       "Visualization            -0.028662       0.135645  0.037774       1.000000   \n",
       "Data                      0.021683       0.229876  0.170866       0.081585   \n",
       "Imports                   0.157159       0.014317  0.025327       0.006800   \n",
       "\n",
       "                      Data   Imports  \n",
       "Machine Learning  0.021683  0.157159  \n",
       "Logic & Loops     0.229876  0.014317  \n",
       "Function          0.170866  0.025327  \n",
       "Visualization     0.081585  0.006800  \n",
       "Data              1.000000  0.020522  \n",
       "Imports           0.020522  1.000000  "
      ]
     },
     "execution_count": 13,
     "metadata": {},
     "output_type": "execute_result"
    }
   ],
   "source": [
    "save_multiclasses_df[class_to_color.keys()].corr()"
   ]
  },
  {
   "cell_type": "code",
   "execution_count": 14,
   "metadata": {},
   "outputs": [
    {
     "data": {
      "text/html": [
       "<div>\n",
       "<style scoped>\n",
       "    .dataframe tbody tr th:only-of-type {\n",
       "        vertical-align: middle;\n",
       "    }\n",
       "\n",
       "    .dataframe tbody tr th {\n",
       "        vertical-align: top;\n",
       "    }\n",
       "\n",
       "    .dataframe thead th {\n",
       "        text-align: right;\n",
       "    }\n",
       "</style>\n",
       "<table border=\"1\" class=\"dataframe\">\n",
       "  <thead>\n",
       "    <tr style=\"text-align: right;\">\n",
       "      <th></th>\n",
       "      <th>Machine Learning</th>\n",
       "      <th>Logic &amp; Loops</th>\n",
       "      <th>Function</th>\n",
       "      <th>Visualization</th>\n",
       "      <th>Data</th>\n",
       "      <th>Imports</th>\n",
       "    </tr>\n",
       "  </thead>\n",
       "  <tbody>\n",
       "    <tr>\n",
       "      <th>Machine Learning</th>\n",
       "      <td>1.0</td>\n",
       "      <td>NaN</td>\n",
       "      <td>NaN</td>\n",
       "      <td>NaN</td>\n",
       "      <td>NaN</td>\n",
       "      <td>NaN</td>\n",
       "    </tr>\n",
       "    <tr>\n",
       "      <th>Logic &amp; Loops</th>\n",
       "      <td>NaN</td>\n",
       "      <td>1.000000</td>\n",
       "      <td>0.320688</td>\n",
       "      <td>NaN</td>\n",
       "      <td>0.229876</td>\n",
       "      <td>NaN</td>\n",
       "    </tr>\n",
       "    <tr>\n",
       "      <th>Function</th>\n",
       "      <td>NaN</td>\n",
       "      <td>0.320688</td>\n",
       "      <td>1.000000</td>\n",
       "      <td>NaN</td>\n",
       "      <td>NaN</td>\n",
       "      <td>NaN</td>\n",
       "    </tr>\n",
       "    <tr>\n",
       "      <th>Visualization</th>\n",
       "      <td>NaN</td>\n",
       "      <td>NaN</td>\n",
       "      <td>NaN</td>\n",
       "      <td>1.0</td>\n",
       "      <td>NaN</td>\n",
       "      <td>NaN</td>\n",
       "    </tr>\n",
       "    <tr>\n",
       "      <th>Data</th>\n",
       "      <td>NaN</td>\n",
       "      <td>0.229876</td>\n",
       "      <td>NaN</td>\n",
       "      <td>NaN</td>\n",
       "      <td>1.000000</td>\n",
       "      <td>NaN</td>\n",
       "    </tr>\n",
       "    <tr>\n",
       "      <th>Imports</th>\n",
       "      <td>NaN</td>\n",
       "      <td>NaN</td>\n",
       "      <td>NaN</td>\n",
       "      <td>NaN</td>\n",
       "      <td>NaN</td>\n",
       "      <td>1.0</td>\n",
       "    </tr>\n",
       "  </tbody>\n",
       "</table>\n",
       "</div>"
      ],
      "text/plain": [
       "                  Machine Learning  Logic & Loops  Function  Visualization  \\\n",
       "Machine Learning               1.0            NaN       NaN            NaN   \n",
       "Logic & Loops                  NaN       1.000000  0.320688            NaN   \n",
       "Function                       NaN       0.320688  1.000000            NaN   \n",
       "Visualization                  NaN            NaN       NaN            1.0   \n",
       "Data                           NaN       0.229876       NaN            NaN   \n",
       "Imports                        NaN            NaN       NaN            NaN   \n",
       "\n",
       "                      Data  Imports  \n",
       "Machine Learning       NaN      NaN  \n",
       "Logic & Loops     0.229876      NaN  \n",
       "Function               NaN      NaN  \n",
       "Visualization          NaN      NaN  \n",
       "Data              1.000000      NaN  \n",
       "Imports                NaN      1.0  "
      ]
     },
     "execution_count": 14,
     "metadata": {},
     "output_type": "execute_result"
    }
   ],
   "source": [
    "save_multiclasses_df[class_to_color.keys()].corr()[\n",
    "    (save_multiclasses_df[class_to_color.keys()].corr()>0.2)|\n",
    "    (save_multiclasses_df[class_to_color.keys()].corr()<-0.2)\n",
    "]"
   ]
  },
  {
   "cell_type": "markdown",
   "metadata": {},
   "source": [
    "The only moderate correlations are between Logic & Loops and Function definitions (r = 0.32) and between Logic & Loops and Data Loading & Manipulation (r = 0.23)."
   ]
  },
  {
   "cell_type": "code",
   "execution_count": 15,
   "metadata": {},
   "outputs": [
    {
     "name": "stdout",
     "output_type": "stream",
     "text": [
      "0:00:27.957709\n"
     ]
    }
   ],
   "source": [
    "# 25 seconds\n",
    "start = datetime.datetime.now()\n",
    "\n",
    "association_rules = apriori(\n",
    "    [s for s in load_data.flatten(save_multiclasses) if s != []], \n",
    "    min_support=0.05, min_confidence=0.2, \n",
    "    min_lift=0, min_length=2\n",
    ")  \n",
    "association_results = list(association_rules) \n",
    "\n",
    "end = datetime.datetime.now()\n",
    "print(end - start)"
   ]
  },
  {
   "cell_type": "code",
   "execution_count": 16,
   "metadata": {},
   "outputs": [
    {
     "name": "stdout",
     "output_type": "stream",
     "text": [
      "Function -> Data\n",
      "Support: 0.05788441515707225\n",
      "Confidence: 0.4508857451625225\n",
      "=====================================\n",
      "Data -> Logic & Loops\n",
      "Support: 0.15064116763618018\n",
      "Confidence: 0.4083020721209777\n",
      "=====================================\n",
      "Machine Learning -> Data\n",
      "Support: 0.07019019122977178\n",
      "Confidence: 0.22018206065801774\n",
      "=====================================\n",
      "Visualization -> Data\n",
      "Support: 0.05973330898772901\n",
      "Confidence: 0.2938618566553001\n",
      "=====================================\n",
      "Function -> Logic & Loops\n",
      "Support: 0.0901467428975113\n",
      "Confidence: 0.7021904123074248\n",
      "=====================================\n",
      "Imports -> Machine Learning\n",
      "Support: 0.06698909974403727\n",
      "Confidence: 0.3476903849173104\n",
      "=====================================\n",
      "Logic & Loops -> Machine Learning\n",
      "Support: 0.0974077662311684\n",
      "Confidence: 0.24268876387335164\n",
      "=====================================\n",
      "Visualization -> Logic & Loops\n",
      "Support: 0.07678767392152719\n",
      "Confidence: 0.37776190218186745\n",
      "=====================================\n"
     ]
    }
   ],
   "source": [
    "for item in association_results:\n",
    "    # first index of the inner list\n",
    "    # Contains base item and add i+tem\n",
    "    first = item.ordered_statistics[0].items_base\n",
    "    if ', '.join([x for x in first]) != '':\n",
    "        second = item.ordered_statistics[0].items_add\n",
    "        print(', '.join([x for x in first]), '->', ', '.join([x for x in second]))\n",
    "\n",
    "        print(\"Support: \" + str(item[1]))\n",
    "\n",
    "        #third index of the list located at 0th\n",
    "        #of the third index of the inner list\n",
    "\n",
    "        print(\"Confidence: \" + str(item[2][0][2]))\n",
    "        #print(\"Lift: \" + str(item[2][0][3]))\n",
    "        print(\"=====================================\")"
   ]
  },
  {
   "cell_type": "markdown",
   "metadata": {},
   "source": [
    "The above association rules have minimum support of 0.05 (meaning the tasks occur together in at least 5% of labeled cells) and minimum confidence of 0.2 (so a -> b means that the probability of task b occuring in a cell, given task a occurs in that cell, is at least 0.2). It seems that data loading & manipulation and logic & loops are rarely perfomed alone. This explains the lack of representation noticed in the first model where cells could only have one task."
   ]
  },
  {
   "cell_type": "markdown",
   "metadata": {},
   "source": [
    "---"
   ]
  },
  {
   "cell_type": "markdown",
   "metadata": {},
   "source": [
    "## K Means Clustering"
   ]
  },
  {
   "cell_type": "code",
   "execution_count": 17,
   "metadata": {},
   "outputs": [],
   "source": [
    "stop = list('abcdefghijklmnopqrstuvwxyz') + ['def','True','False']\n",
    "X = load_data.flatten(all_processed_code)\n",
    "k = 7\n"
   ]
  },
  {
   "cell_type": "code",
   "execution_count": 18,
   "metadata": {},
   "outputs": [
    {
     "name": "stdout",
     "output_type": "stream",
     "text": [
      "Opening\n",
      "Opened\n"
     ]
    }
   ],
   "source": [
    "if 'km.model' in os.listdir('analysis_data/time'):\n",
    "    print('Opening')\n",
    "    with open('analysis_data/time/km.model','rb') as f:\n",
    "        kmeans = pickle.load(f)\n",
    "    with open('analysis_data/time/y_km.list','rb') as f:\n",
    "        y_km = pickle.load(f)\n",
    "    with open('analysis_data/time/km.vectorizer','rb') as f:\n",
    "        vectorizer = pickle.load(f)\n",
    "    with open(\"analysis_data/time/tfidf_X_transform.list\",\"rb\") as f:\n",
    "        X_transform = pickle.load(f)\n",
    "    print('Opened')\n",
    "else:        \n",
    "    # 6.5 minutes\n",
    "    if 'tfidf_X_transform.list' in os.listdir('analysis_data/time'):\n",
    "        with open(\"analysis_data/time/tfidf_X_transform.list\",\"rb\") as f:\n",
    "            X_transform = pickle.load(f)\n",
    "        with open('analysis_data/time/km.vectorizer','rb') as f:\n",
    "            vectorizer = pickle.load(f)\n",
    "        print('X_transform and vectorizer opened.')\n",
    "    else:\n",
    "        print('Creating vectorizer and X_transform.')\n",
    "        start = datetime.datetime.now()\n",
    "\n",
    "        # TF-IDF\n",
    "        vectorizer = sklearn.feature_extraction.text.TfidfVectorizer(\n",
    "            stop_words = stop,\n",
    "            max_df = 0.5,        # don't keep tokens in over half of the cells\n",
    "            min_df = 0.01,       # don't keep tokens in under 1% of the cells\n",
    "            max_features = 100   # keep 100 tokens max\n",
    "        )\n",
    "        X_transform = vectorizer.fit_transform(X)\n",
    "\n",
    "        end = datetime.datetime.now()\n",
    "        print('TF-IDF done', end - start)\n",
    "\n",
    "        with open(\"analysis_data/time/tfidf_X_transform.list\",\"wb\") as f:\n",
    "            pickle.dump(X_transform, f)\n",
    "        with open('analysis_data/time/km.vectorizer','wb') as f:\n",
    "            pickle.dump(vectorizer, f)\n",
    "\n",
    "    \n",
    "    # 40 minutes\n",
    "    start = datetime.datetime.now()\n",
    "\n",
    "    r = 123\n",
    "    np.random.seed(seed=r)\n",
    "    random.seed(r)\n",
    "\n",
    "    # create kmeans object\n",
    "    kmeans = KMeans(n_clusters=k, random_state=r, n_init = 3)\n",
    "    print('Model created', datetime.datetime.now() - start)\n",
    "\n",
    "    # fit kmeans object to data\n",
    "    y_km = kmeans.fit_predict(X_transform)\n",
    "\n",
    "    end = datetime.datetime.now()\n",
    "    print('Model fitted', end - start)\n",
    "    \n",
    "    start = datetime.datetime.now()\n",
    "    with open('analysis_data/time/y_km.list','wb') as f:\n",
    "        pickle.dump(y_km, f)\n",
    "    with open('analysis_data/time/km.model','wb') as f:\n",
    "        pickle.dump(kmeans, f)\n",
    "    end = datetime.datetime.now()\n",
    "    print(\"Saved\", end - start)"
   ]
  },
  {
   "cell_type": "code",
   "execution_count": 19,
   "metadata": {},
   "outputs": [
    {
     "name": "stdout",
     "output_type": "stream",
     "text": [
      "Cluster 0 7% of cells: pandas, read_csv, DataFrame, columns, head\n",
      "Cluster 1 10% of cells: <logic>, <loop>, numpy, return, def\n",
      "Cluster 2 56% of cells: <loop>, numpy, head, def, return\n",
      "Cluster 3 9% of cells: <visualization>, pyplot, plot, numpy, <loop>\n",
      "Cluster 4 6% of cells: <import>, <framework>, pandas, IPython, <logic>\n",
      "Cluster 5 10% of cells: <framework>, layers, <logic>, <loop>, <import>\n",
      "Cluster 6 3% of cells: shape, numpy, <logic>, <loop>, <framework>\n",
      "0:03:31.129204\n"
     ]
    }
   ],
   "source": [
    "# 3.5 minutes\n",
    "\n",
    "start = datetime.datetime.now()\n",
    "\n",
    "# save cluster words for chart\n",
    "top_words = []\n",
    "for i in range(k):\n",
    "    counts = pd.Series(\n",
    "        (' '.join([w.strip() for w in list(pd.Series(X)[y_km == i]) if len(w) > 1])).split(' ')\n",
    "    ).value_counts().reset_index().sort_values(by = 0, ascending = False)\n",
    "    \n",
    "    top_words.append(counts)\n",
    "    print(\n",
    "        'Cluster {0}'.format(i), \n",
    "        '{0}% of cells:'.format(round(100*len(pd.Series(X)[y_km == i])/len(X))), \n",
    "        ', '.join(counts[:5]['index'])\n",
    "    )\n",
    "    \n",
    "end = datetime.datetime.now()\n",
    "print(end - start)"
   ]
  },
  {
   "cell_type": "code",
   "execution_count": 20,
   "metadata": {},
   "outputs": [
    {
     "data": {
      "image/png": "[encoded data removed]",
      "text/plain": [
       "<Figure size 1440x720 with 7 Axes>"
      ]
     },
     "metadata": {
      "needs_background": "light"
     },
     "output_type": "display_data"
    }
   ],
   "source": [
    "fig = plt.figure(figsize = (20,10))\n",
    "\n",
    "for i in range(k):\n",
    "    plt.subplot(2,4,i+1)\n",
    "    top_words[i]['prop'] = top_words[i][0]/top_words[i][0].sum()\n",
    "    counts = top_words[i][:10]\n",
    "    x_labs = counts['index']\n",
    "    x_pos = np.arange(len(x_labs))\n",
    "    y = counts['prop']\n",
    "    plt.bar(x_pos, y, color = 'teal')\n",
    "    plt.xticks(x_pos, x_labs, rotation = 70) \n",
    "    if i in [0,4]:\n",
    "        plt.ylabel('Proportion of all tokens')\n",
    "\n",
    "plt.tight_layout()\n",
    "plt.show()"
   ]
  },
  {
   "cell_type": "markdown",
   "metadata": {},
   "source": [
    "- Cluster 0: data\n",
    "- Cluster 1: logic and loops\n",
    "- Cluster 2: other\n",
    "- Cluster 3: visualization\n",
    "- Cluster 4: imports\n",
    "- Cluster 5: ml\n",
    "- Cluster 6: other\n",
    "\n",
    "*6 combines ml and loops. Going down to 5 clusters doesn't push the two data clusters together, but instead combines visualizations and machine learning.*"
   ]
  },
  {
   "cell_type": "code",
   "execution_count": 21,
   "metadata": {},
   "outputs": [
    {
     "name": "stdout",
     "output_type": "stream",
     "text": [
      "Opening K Means Orders\n",
      "Found and opened\n"
     ]
    }
   ],
   "source": [
    "num_to_group = {\n",
    "    -1: '',\n",
    "    0: 'Data',\n",
    "    1: 'Logic & Loops',\n",
    "    2: 'Other',\n",
    "    3: 'Visualization',\n",
    "    4: 'Imports',\n",
    "    5: 'Machine Learning',\n",
    "    6: ''\n",
    "}\n",
    "\n",
    "\n",
    "if \"kmeans_orders.list\" in os.listdir(\"analysis_data/time\"):\n",
    "    print('Opening K Means Orders')\n",
    "    with open(\"analysis_data/time/kmeans_orders.list\",\"rb\") as f:\n",
    "        kmeans_orders = pickle.load(f)\n",
    "    print(\"Found and opened\")\n",
    "else:\n",
    "    # ~5.5 hours\n",
    "    if \"kmeans_orders_inprogress.list\" in os.listdir(\"analysis_data/time\"):\n",
    "        with open(\"analysis_data/time/kmeans_orders_inprogress.list\",\"rb\") as f:\n",
    "            kmeans_orders = pickle.load(f)\n",
    "        print(\"Found and opened for {0} notebooks.\".format(len(kmeans_orders)))\n",
    "    else:\n",
    "        kmeans_orders = []\n",
    "    \n",
    "    i = len(kmeans_orders)\n",
    "    start = datetime.datetime.now()\n",
    "    for c in all_processed_code[i:]:\n",
    "        kmeans_orders.append([\n",
    "            num_to_group[i] for i in [kmeans.predict(\n",
    "            vectorizer.transform([p])\n",
    "            )[0] if p != '' and type(p) == str else -1 for p in c]\n",
    "        ])\n",
    "        if i%10000 == 0:\n",
    "            print('{0}/{1}'.format(i, len(all_processed_code)), datetime.datetime.now() - start)\n",
    "            with open(\"analysis_data/time/kmeans_orders_inprogress.list\",\"wb\") as f:\n",
    "                pickle.dump(kmeans_orders, f)\n",
    "        i += 1\n",
    "    print()\n",
    "    end = datetime.datetime.now()\n",
    "    print(end - start)\n",
    "    \n",
    "    start = datetime.datetime.now()\n",
    "    with open(\"analysis_data/time/kmeans_orders.list\",\"wb\") as f:\n",
    "        pickle.dump(kmeans_orders, f)\n",
    "    end = datetime.datetime.now()\n",
    "    print(\"\\nSaved\", end - start)"
   ]
  },
  {
   "cell_type": "code",
   "execution_count": 22,
   "metadata": {},
   "outputs": [
    {
     "name": "stdout",
     "output_type": "stream",
     "text": [
      "41.11% of cells were assigned to a topic.\n"
     ]
    }
   ],
   "source": [
    "num_assigned = sum([sum([k != '' and k != 'Other' for k in order]) for order in kmeans_orders])\n",
    "num_cells = sum([len(order) for order in kmeans_orders])\n",
    "print(\"{0}% of cells were assigned to a topic.\".format(\n",
    "    round(100*num_assigned/num_cells, 2)\n",
    "))"
   ]
  },
  {
   "cell_type": "code",
   "execution_count": 23,
   "metadata": {},
   "outputs": [],
   "source": [
    "def get_distribution(orders, round_dec = 1):\n",
    "    \n",
    "    distribution = {\n",
    "        'group': [],\n",
    "        'place': [],\n",
    "        'count': []\n",
    "    }\n",
    "\n",
    "    for order in orders:\n",
    "        count = 0\n",
    "        if len(order) > 1:\n",
    "            for o in order:\n",
    "                placement = round(count / (len(order)-1), round_dec)\n",
    "                distribution['group'].append(o)\n",
    "                distribution['place'].append(placement)\n",
    "                distribution['count'].append(count)\n",
    "                count += 1\n",
    "           \n",
    "    return pd.DataFrame(distribution)"
   ]
  },
  {
   "cell_type": "code",
   "execution_count": 24,
   "metadata": {},
   "outputs": [
    {
     "name": "stdout",
     "output_type": "stream",
     "text": [
      "0:01:03.626483\n"
     ]
    }
   ],
   "source": [
    "# 1 minute\n",
    "start = datetime.datetime.now()\n",
    "\n",
    "distribution = get_distribution(kmeans_orders)\n",
    "\n",
    "distribution_counts = distribution.groupby(\n",
    "    ['place','group']\n",
    ")['count'].sum().reset_index()\n",
    "distribution_total = distribution_counts.groupby(\n",
    "        'place'\n",
    "    )['count'].sum().reset_index().rename(\n",
    "        columns={'count':'total'}\n",
    ")\n",
    "distribution_df = distribution_counts.merge(distribution_total, on = 'place')\n",
    "distribution_df['prop'] = distribution_df['count'] / distribution_df['total']\n",
    "\n",
    "end = datetime.datetime.now()\n",
    "print(end - start)"
   ]
  },
  {
   "cell_type": "code",
   "execution_count": 25,
   "metadata": {},
   "outputs": [
    {
     "data": {
      "image/png": "[encoded data removed]",
      "text/plain": [
       "<Figure size 576x360 with 1 Axes>"
      ]
     },
     "metadata": {
      "needs_background": "light"
     },
     "output_type": "display_data"
    }
   ],
   "source": [
    "fig = plt.figure(figsize = (8, 5))\n",
    "\n",
    "for task in ['Imports','Data','Function','Logic & Loops',\n",
    "                       'Visualization','Machine Learning']:\n",
    "    if task != '':\n",
    "        x = distribution_df[distribution_df.group == task].place\n",
    "        y = distribution_df[distribution_df.group == task].prop\n",
    "        plt.plot(x, y, color = class_to_color[task], label = task)\n",
    "\n",
    "plt.xlabel('Location in Notebook', fontsize = 11)\n",
    "plt.ylabel('Proportion of Cells at this Location', fontsize = 11)\n",
    "plt.title('Distribution of Tasks', fontsize = 12)\n",
    "\n",
    "plt.legend(bbox_to_anchor=(1.3, 1))\n",
    "plt.show()"
   ]
  },
  {
   "cell_type": "markdown",
   "metadata": {},
   "source": [
    "---"
   ]
  },
  {
   "cell_type": "markdown",
   "metadata": {},
   "source": [
    "## Topic Modeling: Latent Dirichlet Allocation\n",
    "code reference: https://towardsdatascience.com/topic-modeling-and-latent-dirichlet-allocation-in-python-9bf156893c24"
   ]
  },
  {
   "cell_type": "code",
   "execution_count": 26,
   "metadata": {},
   "outputs": [
    {
     "name": "stdout",
     "output_type": "stream",
     "text": [
      "Opening LDA Model\n",
      "Found and opened\n"
     ]
    }
   ],
   "source": [
    "if 'lda8.model' in os.listdir('analysis_data/time'):\n",
    "    print('Opening LDA Model')\n",
    "    with open('analysis_data/time/lda8.model','rb') as f:\n",
    "        lda_model = pickle.load(f)\n",
    "    with open(\"analysis_data/time/lda_tfidf_corpus\",\"rb\") as f:\n",
    "        corpus_tfidf = pickle.load(f)\n",
    "    with open(\"analysis_data/time/lda_dict\",\"rb\") as f:\n",
    "            dictionary = pickle.load(f)\n",
    "    print(\"Found and opened\")\n",
    "\n",
    "else:  \n",
    "    if \"lda_tfidf_corpus\" in os.listdir(\"analysis_data/time\"):\n",
    "        with open(\"analysis_data/time/lda_tfidf_corpus\",\"rb\") as f:\n",
    "            corpus_tfidf = pickle.load(f)\n",
    "        with open(\"analysis_data/time/lda_dict\",\"rb\") as f:\n",
    "            dictionary = pickle.load(f)\n",
    "    else:\n",
    "        # 20 min\n",
    "        start = datetime.datetime.now()\n",
    "\n",
    "        # Create dictionary and corpus. Same constraints as used in K means.\n",
    "        dictionary = gensim.corpora.Dictionary([i.strip().split(' ') for i in X if len(i) > 1])\n",
    "        dictionary.filter_tokens(\n",
    "            bad_ids = [dictionary.token2id[s] for s in stop if s in dictionary.token2id]\n",
    "        )\n",
    "        dictionary.filter_extremes(\n",
    "            no_below = 0.01,    # don't keep tokens in under 1% of the cells\n",
    "            no_above = 0.5,     # don't keep tokens in over half of the cells\n",
    "            keep_n = 100        # keep 100 tokens max\n",
    "        )\n",
    "        bow_corpus = [dictionary.doc2bow(doc) for doc in [i.strip().split(' ') for i in X]]\n",
    "\n",
    "        # Apply tf-idf to corpus\n",
    "        tfidf = gensim.models.TfidfModel(bow_corpus)\n",
    "        corpus_tfidf = tfidf[bow_corpus]\n",
    "\n",
    "        with open(\"analysis_data/time/lda_tfidf_corpus\",\"wb\") as f:\n",
    "            pickle.dump(corpus_tfidf, f)\n",
    "            \n",
    "        with open(\"analysis_data/time/lda_dict\",\"wb\") as f:\n",
    "            pickle.dump(dictionary, f)\n",
    "\n",
    "        end = datetime.datetime.now()\n",
    "        print('TF-IDF done and saved, dictionary created', end - start)\n",
    "    \n",
    "    \n",
    "    # 15 min\n",
    "    start = datetime.datetime.now()\n",
    "\n",
    "    lda_model = gensim.models.LdaMulticore(\n",
    "        corpus_tfidf, \n",
    "        num_topics=8, \n",
    "        id2word=dictionary, \n",
    "        random_state = r\n",
    "    )\n",
    "\n",
    "    end = datetime.datetime.now()\n",
    "    print('Model fitted', end - start)\n",
    "    \n",
    "    start = datetime.datetime.now()\n",
    "    with open('analysis_data/time/lda8.model','wb') as f:\n",
    "        pickle.dump(lda_model, f)\n",
    "    end = datetime.datetime.now()\n",
    "    print('Saved', end - start)"
   ]
  },
  {
   "cell_type": "code",
   "execution_count": 27,
   "metadata": {},
   "outputs": [
    {
     "data": {
      "image/png": "[encoded data removed]",
      "text/plain": [
       "<Figure size 1440x720 with 8 Axes>"
      ]
     },
     "metadata": {
      "needs_background": "light"
     },
     "output_type": "display_data"
    }
   ],
   "source": [
    "fig = plt.figure(figsize = (20, 10))\n",
    "for i, topic in lda_model.print_topics(-1):\n",
    "    x_labs = []\n",
    "    y = []\n",
    "    plt.subplot(2, 4, i+1)\n",
    "    for t in topic.split(' + '):\n",
    "        x_labs.append(t.split('*')[1].replace('\"',''))\n",
    "        x_pos = np.arange(len(x_labs))\n",
    "        y.append(float(t.split('*')[0]))\n",
    "    plt.bar(x_pos, y, color = 'teal')\n",
    "    plt.xticks(x_pos, x_labs, rotation = 70)\n",
    "    if i in [0, 4]:\n",
    "        plt.ylabel('Pr(token | topic)')\n",
    "    \n",
    "plt.tight_layout()\n",
    "plt.show()"
   ]
  },
  {
   "cell_type": "markdown",
   "metadata": {},
   "source": [
    "- Topic 0: data\n",
    "- Topic 1: visualization\n",
    "- Topic 2: other\n",
    "- Topic 3: other\n",
    "- Topic 4: imports\n",
    "- Topic 5: data\n",
    "- Topic 6: ml\n",
    "- Topic 7: loops and logic\n",
    "\n",
    "* 5 topics combines machine learning, imports, and visualizations. 6, 7 topics logic and loops and data, 8, 9, 10 topics combines machine learning and imports*"
   ]
  },
  {
   "cell_type": "code",
   "execution_count": 28,
   "metadata": {},
   "outputs": [
    {
     "name": "stdout",
     "output_type": "stream",
     "text": [
      "Opening\n",
      "Found and opened\n"
     ]
    }
   ],
   "source": [
    "num_to_group = {\n",
    "    0: 'Data',\n",
    "    1: 'Visualization',\n",
    "    2: '',\n",
    "    3: '',\n",
    "    4: 'Imports',\n",
    "    5: 'Data',\n",
    "    6: 'Machine Learning',\n",
    "    7: 'Logic & Loops'\n",
    "}\n",
    "\n",
    "if \"lda_distrib.csv\" in os.listdir('analysis_data/time'):\n",
    "    print('Opening')\n",
    "    lda_distrib = pd.read_csv('analysis_data/time/lda_distrib.csv')\n",
    "    print(\"Found and opened\")\n",
    "else:\n",
    "    lda_distrib = {\n",
    "        'place': [],\n",
    "        'task': [],\n",
    "        'weight': []\n",
    "    }\n",
    "    lda_total = []\n",
    "    num_inprogress = 0\n",
    "        \n",
    "    i = num_inprogress\n",
    "    start = datetime.datetime.now()\n",
    "    for processed_code in all_processed_code[i:]:\n",
    "        j = 0\n",
    "        for cell in processed_code:\n",
    "            place = round(j/len(processed_code), 1)\n",
    "            scores = sorted(lda_model[dictionary.doc2bow(cell.strip().split(' '))], key = lambda x: -1*x[1])\n",
    "            for score in scores:\n",
    "                lda_distrib['place'].append(place)\n",
    "                lda_distrib['task'].append(num_to_group[score[0]])\n",
    "                lda_distrib['weight'].append(score[1])\n",
    "            lda_total.append(place)\n",
    "            j += 1\n",
    "        if i%10000 == 0:\n",
    "            print('{0}/{1}'.format(i, len(all_processed_code)),  datetime.datetime.now() - start)\n",
    "            with open('analysis_data/time/lda_distrib_inprogress.dict','wb') as f:\n",
    "                pickle.dump(lda_distrib, f)\n",
    "            with open('analysis_data/time/lda_total_inprogress.list','wb') as f:\n",
    "                pickle.dump(lda_total, f)\n",
    "            with open('analysis_data/time/lda_num_inprogress','wb') as f:\n",
    "                pickle.dump(i, f)\n",
    "        i += 1\n",
    "    end = datetime.datetime.now()\n",
    "    print(end - start)\n",
    "\n",
    "    start = datetime.datetime.now()\n",
    "    with open('analysis_data/time/lda_distrib.dict','wb') as f:\n",
    "        pickle.dump(lda_distrib, f)\n",
    "    with open('analysis_data/time/lda_total.list','wb') as f:\n",
    "        pickle.dump(lda_total, f)\n",
    "    end = datetime.datetime.now()\n",
    "    print(\"Saved\", end - start)"
   ]
  },
  {
   "cell_type": "code",
   "execution_count": 29,
   "metadata": {},
   "outputs": [
    {
     "name": "stdout",
     "output_type": "stream",
     "text": [
      "77.28% of cells were assigned at least one task.\n"
     ]
    }
   ],
   "source": [
    "lda_distrib.task = lda_distrib.task.fillna('')\n",
    "print(\"{0}% of cells were assigned at least one task.\".format(\n",
    "    round(100*lda_distrib[lda_distrib.task != '']['count'].sum() / lda_distrib['count'].sum(), 2)\n",
    "))"
   ]
  },
  {
   "cell_type": "code",
   "execution_count": 30,
   "metadata": {},
   "outputs": [
    {
     "data": {
      "image/png": "[encoded data removed]",
      "text/plain": [
       "<Figure size 576x360 with 1 Axes>"
      ]
     },
     "metadata": {
      "needs_background": "light"
     },
     "output_type": "display_data"
    }
   ],
   "source": [
    "fig = plt.figure(figsize = (8, 5))\n",
    "\n",
    "for task in ['Imports','Data','Function','Logic & Loops',\n",
    "                       'Visualization','Machine Learning']:\n",
    "    if task != '':\n",
    "        x = lda_distrib[lda_distrib.task == task].place\n",
    "        y = lda_distrib[lda_distrib.task == task].prop\n",
    "        plt.plot(x, y, color = class_to_color[task], label = task)\n",
    "\n",
    "plt.xlabel('Location in Notebook', fontsize = 11)\n",
    "plt.ylabel('Proportion of Cells at this Location', fontsize = 11)\n",
    "plt.title('Distribution of Tasks', fontsize = 12)\n",
    "plt.ylim(0, 0.5)\n",
    "\n",
    "plt.legend()\n",
    "plt.show()"
   ]
  },
  {
   "cell_type": "markdown",
   "metadata": {},
   "source": [
    "---"
   ]
  },
  {
   "cell_type": "markdown",
   "metadata": {},
   "source": [
    "[Jupyter Standards &lt;](13_Standards.ipynb) | [&gt; Exploring Interactive Subsets](15_Interactive.ipynb)"
   ]
  }
 ],
 "metadata": {
  "anaconda-cloud": {},
  "kernelspec": {
   "display_name": "Python 3",
   "language": "python",
   "name": "python3"
  },
  "language_info": {
   "codemirror_mode": {
    "name": "ipython",
    "version": 3
   },
   "file_extension": ".py",
   "mimetype": "text/x-python",
   "name": "python",
   "nbconvert_exporter": "python",
   "pygments_lexer": "ipython3",
   "version": "3.7.3"
  }
 },
 "nbformat": 4,
 "nbformat_minor": 4
}
