{
 "cells": [
  {
   "cell_type": "markdown",
   "metadata": {},
   "source": [
    "[API Design &lt;](APIs.ipynb) | [&gt; Use of Special Features](Magic.ipynb)"
   ]
  },
  {
   "cell_type": "markdown",
   "metadata": {},
   "source": [
    "# Use of AWS in Jupyter Notebooks\n",
    "\n",
    "## Results Summary:\n",
    "\n",
    "- Only half a percent of notebooks import at least one of sagemaker, boto, or mxnet. This breaks down to 0.11% importing Sagemaker, 0.2% Boto, 0.29% MXNet, and some notebooks importing more than one.\n",
    "- There is a moderate positive correlation between the use of Sagemaker and Boto (r = 0.49), but the use MXNet is independent of both (MXNet and Sagemaker r = 0.03, MXNet and Boto3 r = 0.02).\n",
    "- Within Boto, the most frequent uses are regioninfo and mrturk. More specifically, the most frequent uses of Boto3 are clients, sessions, and resources. S3 is the most commonly used Boto resource and client. The next most popular client is Sagemaker.\n",
    "- Sagemaker is most frequently used for get_execution_role, amazon, predictor, and Session.\n",
    "- The MXNet package is most frequently used for gluon, symbol, and nd. \n",
    "\n",
    "---\n"
   ]
  },
  {
   "cell_type": "markdown",
   "metadata": {},
   "source": [
    "# Import Packages and Load Data"
   ]
  },
  {
   "cell_type": "code",
   "execution_count": 1,
   "metadata": {},
   "outputs": [],
   "source": [
    "import pandas as pd\n",
    "import numpy as np\n",
    "import matplotlib.pyplot as plt\n",
    "import datetime\n",
    "import re\n",
    "\n",
    "import load_data"
   ]
  },
  {
   "cell_type": "markdown",
   "metadata": {},
   "source": [
    "Load dataframes"
   ]
  },
  {
   "cell_type": "code",
   "execution_count": 2,
   "metadata": {},
   "outputs": [
    {
     "name": "stdout",
     "output_type": "stream",
     "text": [
      "Notebooks loaded in 0:00:24.942097\n",
      "Repos loaded in 0:00:04.118985\n"
     ]
    }
   ],
   "source": [
    "notebooks_temp = load_data.load_notebooks()\n",
    "repos_temp = load_data.load_repos()"
   ]
  },
  {
   "cell_type": "markdown",
   "metadata": {},
   "source": [
    "Load aggregated dataframes. Code used to create them is in [aggregate.py](aggregate.py)."
   ]
  },
  {
   "cell_type": "code",
   "execution_count": 3,
   "metadata": {},
   "outputs": [
    {
     "name": "stdout",
     "output_type": "stream",
     "text": [
      "Code loaded in 0:01:21.626657\n",
      "Notebook imports loaded in 0:01:18.590318\n"
     ]
    }
   ],
   "source": [
    "nb_code_df_temp = load_data.load_code()\n",
    "nb_imports_df_temp = load_data.load_nb_imports()"
   ]
  },
  {
   "cell_type": "markdown",
   "metadata": {},
   "source": [
    "### Python notebooks"
   ]
  },
  {
   "cell_type": "code",
   "execution_count": 4,
   "metadata": {},
   "outputs": [],
   "source": [
    "notebooks = notebooks_temp.copy()[notebooks_temp.lang_name == 'python']\n",
    "repos = repos_temp.copy()[repos_temp.repo_id.isin(notebooks.repo_id)]"
   ]
  },
  {
   "cell_type": "code",
   "execution_count": 5,
   "metadata": {},
   "outputs": [],
   "source": [
    "nb_code_df = nb_code_df_temp[nb_code_df_temp.file.isin(notebooks.file)]\n",
    "nb_imports_df = nb_imports_df_temp[nb_imports_df_temp.file.isin(notebooks.file)]"
   ]
  },
  {
   "cell_type": "code",
   "execution_count": 6,
   "metadata": {},
   "outputs": [],
   "source": [
    "del nb_code_df_temp\n",
    "del nb_imports_df_temp\n",
    "del notebooks_temp\n",
    "del repos_temp"
   ]
  },
  {
   "cell_type": "markdown",
   "metadata": {},
   "source": [
    "---\n",
    "# Manipulate Data"
   ]
  },
  {
   "cell_type": "markdown",
   "metadata": {},
   "source": [
    "Add code to imports dataframe."
   ]
  },
  {
   "cell_type": "code",
   "execution_count": 7,
   "metadata": {},
   "outputs": [],
   "source": [
    "nb_imports_code_df = nb_code_df.merge(nb_imports_df, on = 'file')"
   ]
  },
  {
   "cell_type": "markdown",
   "metadata": {},
   "source": [
    "Add import of sagemaker, boto, and mxnet to imports dataframe."
   ]
  },
  {
   "cell_type": "code",
   "execution_count": 8,
   "metadata": {},
   "outputs": [
    {
     "name": "stdout",
     "output_type": "stream",
     "text": [
      "sagemaker 0:00:16.414791\n",
      "mxnet 0:00:32.996071\n",
      "boto 0:01:15.720805\n",
      "0:01:15.721369\n"
     ]
    }
   ],
   "source": [
    "start = datetime.datetime.now()\n",
    "for package in ['sagemaker', 'mxnet']:\n",
    "    if package not in nb_imports_code_df.columns:\n",
    "        nb_imports_code_df[package] = [package in [i[0].split('.')[0] for i in im] for im in nb_imports_code_df.imports]\n",
    "        print(package, datetime.datetime.now() - start)\n",
    "if 'boto' not in nb_imports_code_df.columns:\n",
    "    nb_imports_code_df['boto'] = [\n",
    "        'boto' in [i[0].split('.')[0] for i in im] or \n",
    "        'boto3' in [i[0].split('.')[0] for i in im] or\n",
    "        'botocore' in [i[0].split('.')[0] for i in im]\n",
    "        for im in nb_imports_code_df.imports\n",
    "    ]\n",
    "    print('boto', datetime.datetime.now() - start)\n",
    "end = datetime.datetime.now()\n",
    "print(end - start)"
   ]
  },
  {
   "cell_type": "markdown",
   "metadata": {},
   "source": [
    "---\n",
    "# Visualizations and Statistics"
   ]
  },
  {
   "cell_type": "code",
   "execution_count": 9,
   "metadata": {},
   "outputs": [
    {
     "name": "stdout",
     "output_type": "stream",
     "text": [
      "0.11% of notebooks import sagemaker.\n",
      "0.2% of notebooks import boto.\n",
      "0.29% of notebooks import mxnet.\n",
      "\n",
      "0.52% of notebooks import at least one of sagemaker, boto3, or mxnet.\n"
     ]
    }
   ],
   "source": [
    "print(\"{0}% of notebooks import sagemaker.\".format(\n",
    "    round(100*sum(nb_imports_code_df.sagemaker)/len(nb_imports_code_df),2)\n",
    "))\n",
    "print(\"{0}% of notebooks import boto.\".format(\n",
    "    round(100*sum(nb_imports_code_df.boto)/len(nb_imports_code_df),2)\n",
    "))\n",
    "print(\"{0}% of notebooks import mxnet.\".format(\n",
    "    round(100*sum(nb_imports_code_df.mxnet)/len(nb_imports_code_df),2)\n",
    "))\n",
    "print(\"\\n{0}% of notebooks import at least one of sagemaker, boto3, or mxnet.\".format(\n",
    "    round(100*sum(nb_imports_code_df.sagemaker|nb_imports_code_df.boto|nb_imports_code_df.mxnet)/len(nb_imports_code_df),2)\n",
    "))\n"
   ]
  },
  {
   "cell_type": "markdown",
   "metadata": {},
   "source": [
    "Boto is imported almost twice as frequently as sagemaker. Mxnet is almost three times as frequently as sagemaker."
   ]
  },
  {
   "cell_type": "code",
   "execution_count": 10,
   "metadata": {},
   "outputs": [],
   "source": [
    "aws_imports = nb_imports_code_df.copy()[\n",
    "    nb_imports_code_df.sagemaker|nb_imports_code_df.boto|nb_imports_code_df.mxnet\n",
    "].reset_index(drop=True)"
   ]
  },
  {
   "cell_type": "markdown",
   "metadata": {},
   "source": [
    "### Imports\n",
    "Replace aliases in code with actual package names."
   ]
  },
  {
   "cell_type": "code",
   "execution_count": 11,
   "metadata": {},
   "outputs": [],
   "source": [
    "def replace_aliases(code, imports):\n",
    "    updated_code = []\n",
    "    for cell in code:\n",
    "        if str(cell) != 'nan':\n",
    "            for im in [i for i in imports if i[0].startswith('boto') or\n",
    "             i[0].startswith('sagemaker') or i[0].startswith('mxnet')\n",
    "            ]:\n",
    "                cell = re.sub('(?<![a-zA-Z\\._]){0}'.format(im[1]), im[0], cell)\n",
    "            updated_code.append(cell)\n",
    "    return updated_code"
   ]
  },
  {
   "cell_type": "code",
   "execution_count": 12,
   "metadata": {},
   "outputs": [
    {
     "name": "stdout",
     "output_type": "stream",
     "text": [
      "0 1000 2000 3000 4000 5000 6000 7000 8000 9000 10000 11000 12000 13000 14000 15000 16000 17000 18000 19000 20000 0:02:09.232422\n"
     ]
    }
   ],
   "source": [
    "# 15 seconds\n",
    "start = datetime.datetime.now()\n",
    "new = []\n",
    "for i in range(len(aws_imports)):\n",
    "    new.append(replace_aliases(aws_imports.code[i], aws_imports.imports[i]))\n",
    "    if i%1000 == 0:\n",
    "        print(i, end = ' ')\n",
    "aws_imports['code'] = new\n",
    "end = datetime.datetime.now()\n",
    "print(end - start)"
   ]
  },
  {
   "cell_type": "code",
   "execution_count": 13,
   "metadata": {},
   "outputs": [
    {
     "name": "stdout",
     "output_type": "stream",
     "text": [
      "boto 0:00:30.547394\n",
      "create_training_job 0:01:57.655204\n",
      "fit 0:04:50.606393\n",
      "sagemaker 0:05:19.896821\n",
      "mxnet 0:05:49.174968\n"
     ]
    }
   ],
   "source": [
    "# 6 minutes\n",
    "start = datetime.datetime.now()\n",
    "aws_imports['boto_uses'] = [\n",
    "    [l[0] for l in \n",
    "     list(re.findall(\n",
    "         '(?<![a-zA-Z_\\.0-9])(boto(core|3)?\\.[a-zA-Z_0-9\\.]+)', \n",
    "         ' '.join([c for c in code if str(c) != 'nan'])\n",
    "    ))] \n",
    "    for code in aws_imports.code\n",
    "]\n",
    "print('boto', datetime.datetime.now() - start)\n",
    "\n",
    "aws_imports['create_training_job'] = [\n",
    "    list(re.findall(\n",
    "        '[a-zA-Z0-9_\\.]+\\.create_training_job\\(', \n",
    "        ' '.join([c for c in code if str(c) != 'nan'])\n",
    "    )) \n",
    "    for code in aws_imports.code\n",
    "]\n",
    "print('create_training_job', datetime.datetime.now() - start)\n",
    "\n",
    "aws_imports['fit'] = [\n",
    "    list(re.findall(\n",
    "        '[a-zA-Z0-9_\\.]+\\.fit\\(', \n",
    "        ' '.join([c for c in code if str(c) != 'nan'])\n",
    "    )) + list(re.findall(\n",
    "        '[a-zA-Z0-9_\\.]+\\.fit_generator\\(', \n",
    "        ' '.join([c for c in code if str(c) != 'nan'])\n",
    "    )) \n",
    "    for code in aws_imports.code\n",
    "]\n",
    "print('fit', datetime.datetime.now() - start)\n",
    "\n",
    "aws_imports['sagemaker_uses'] = [\n",
    "    list(re.findall(\n",
    "        '(?<![a-zA-Z_\\.0-9])sagemaker\\.[a-zA-Z_0-9\\.]+', \n",
    "        ' '.join([c for c in code if str(c) != 'nan'])\n",
    "    )) \n",
    "    for code in aws_imports.code\n",
    "]\n",
    "print('sagemaker', datetime.datetime.now() - start)\n",
    "\n",
    "aws_imports['mxnet_uses'] = [\n",
    "    list(re.findall(\n",
    "        '(?<![a-zA-Z_\\.0-9])mxnet\\.[a-zA-Z_0-9\\.]+',\n",
    "        ' '.join([c for c in code if str(c) != 'nan'])\n",
    "    )) \n",
    "    for code in aws_imports.code\n",
    "]\n",
    "print('mxnet', datetime.datetime.now() - start)\n"
   ]
  },
  {
   "cell_type": "markdown",
   "metadata": {},
   "source": [
    "## Boto"
   ]
  },
  {
   "cell_type": "markdown",
   "metadata": {},
   "source": [
    "### Uses"
   ]
  },
  {
   "cell_type": "code",
   "execution_count": 17,
   "metadata": {},
   "outputs": [
    {
     "data": {
      "image/png": "[encoded data removed]",
      "text/plain": [
       "<Figure size 720x360 with 2 Axes>"
      ]
     },
     "metadata": {
      "needs_background": "light"
     },
     "output_type": "display_data"
    }
   ],
   "source": [
    "boto_counts = pd.Series([b.split('.')[1] for b in load_data.flatten(aws_imports.boto_uses) if not b.startswith('boto3') and not b.startswith('botocore')]).value_counts().reset_index().rename(columns={'index':'use', 0:'num'})\n",
    "boto3_counts = pd.Series([b.split('.')[1] for b in load_data.flatten(aws_imports.boto_uses) if b.startswith('boto3')]).value_counts().reset_index().rename(columns={'index':'use', 0:'num'})\n",
    "\n",
    "\n",
    "fig = plt.figure(figsize = (10, 5))\n",
    "\n",
    "plt.subplot(1,2,1)\n",
    "x = boto_counts[boto_counts.num > 30].use[:10]\n",
    "x_pos = np.arange(len(x))\n",
    "y = boto_counts[boto_counts.num > 30].num[:10]\n",
    "plt.bar(x_pos, y, color = 'teal')\n",
    "plt.xticks(x_pos, x, rotation = 70)\n",
    "plt.title('Uses of Boto')\n",
    "plt.ylabel('Number of Notebooks')\n",
    "\n",
    "plt.subplot(1,2,2)\n",
    "x = boto3_counts[boto3_counts.num > 30].use[:10]\n",
    "x_pos = np.arange(len(x))\n",
    "y = boto3_counts[boto3_counts.num > 30].num[:10]\n",
    "plt.bar(x_pos, y, color = 'teal')\n",
    "plt.xticks(x_pos, x, rotation = 70)\n",
    "plt.title('Uses of Boto3')\n",
    "plt.ylabel('Number of Notebooks')\n",
    "\n",
    "plt.tight_layout()\n",
    "plt.show()"
   ]
  },
  {
   "cell_type": "markdown",
   "metadata": {},
   "source": [
    "What Clients and Resources are used the most?"
   ]
  },
  {
   "cell_type": "code",
   "execution_count": 18,
   "metadata": {},
   "outputs": [
    {
     "name": "stdout",
     "output_type": "stream",
     "text": [
      "resource 0:00:29.986658\n",
      "client 0:00:59.954437\n"
     ]
    }
   ],
   "source": [
    "# 1 minute\n",
    "start = datetime.datetime.now()\n",
    "\n",
    "aws_imports['boto_resource_use'] = [[x[0].split('(')[1].strip().replace('\"','').replace(\"'\",\"\")\n",
    "    for x in list(re.findall('(?<![a-zA-Z_\\.0-9])(boto(core|3)?\\.resource[a-zA-Z_0-9\\.\\(\\s\\'\"]+)', ' '.join(\n",
    "        [c for c in code if str(c) != 'nan']\n",
    "    ))) if '(' in x[0]] for code in aws_imports.code\n",
    "]\n",
    "print('resource', datetime.datetime.now() - start)\n",
    "\n",
    "aws_imports['boto_client_use'] = [[x[0].split('(')[1].strip().replace('\"','').replace(\"'\",\"\")\n",
    "    for x in list(re.findall('(?<![a-zA-Z_\\.0-9])(boto(core|3)?\\.client[a-zA-Z_0-9\\.\\(\\s\\'\"]+)', ' '.join(\n",
    "        [c for c in code if str(c) != 'nan']\n",
    "    ))) if '(' in x[0]] for code in aws_imports.code\n",
    "]\n",
    "\n",
    "print('client', datetime.datetime.now() - start)"
   ]
  },
  {
   "cell_type": "code",
   "execution_count": 19,
   "metadata": {},
   "outputs": [
    {
     "data": {
      "image/png": "[encoded data removed]",
      "text/plain": [
       "<Figure size 1008x288 with 2 Axes>"
      ]
     },
     "metadata": {
      "needs_background": "light"
     },
     "output_type": "display_data"
    }
   ],
   "source": [
    "fig = plt.figure(figsize = (14, 4))\n",
    "plt.subplot(1,2,1)\n",
    "resource_counts = pd.Series(load_data.flatten(aws_imports['boto_resource_use'])).value_counts().reset_index().rename(columns = {'index':'use',0:'num'})\n",
    "x = resource_counts[resource_counts.num > 100].use\n",
    "x_pos = np.arange(len(x))\n",
    "y = resource_counts[resource_counts.num > 100].num\n",
    "plt.bar(x_pos, y, color = 'teal')\n",
    "plt.xticks(x_pos, x, rotation = 70, fontsize = 11)\n",
    "plt.title('Uses of Boto Resources', fontsize = 12)\n",
    "plt.ylabel('Number of Uses', fontsize = 11)\n",
    "\n",
    "plt.subplot(1,2,2)\n",
    "client_counts = pd.Series(load_data.flatten(aws_imports['boto_client_use'])).value_counts().reset_index().rename(columns = {'index':'use',0:'num'})\n",
    "x = client_counts[client_counts.num > 100].use\n",
    "x_pos = np.arange(len(x))\n",
    "y = client_counts[client_counts.num > 100].num\n",
    "plt.bar(x_pos, y, color = 'teal')\n",
    "plt.xticks(x_pos, x, rotation = 70, fontsize = 11)\n",
    "plt.title('Uses of Boto Clients', fontsize = 12)\n",
    "plt.ylabel('Number of Uses', fontsize = 11)\n",
    "plt.show()"
   ]
  },
  {
   "cell_type": "markdown",
   "metadata": {},
   "source": [
    "#### Use of 'create_training_job' versus training regularly in the notebook."
   ]
  },
  {
   "cell_type": "code",
   "execution_count": 20,
   "metadata": {},
   "outputs": [
    {
     "name": "stdout",
     "output_type": "stream",
     "text": [
      "5.32% of notebooks that use boto call a function called create_training_job.\n",
      "35.658% of notebooks that use boto call a function called fit.\n",
      "0.253% of notebooks that use boto call both.\n"
     ]
    }
   ],
   "source": [
    "print(\"{0}% of notebooks that use boto call a function called create_training_job.\".format(\n",
    "    round(100*sum([len(t) > 0 for t in aws_imports['create_training_job']]&aws_imports['boto']) / sum(aws_imports['boto']), 3)\n",
    "))\n",
    "print(\"{0}% of notebooks that use boto call a function called fit.\".format(\n",
    "    round(100*sum([len(t) > 0 for t in aws_imports['fit']]&aws_imports['boto']) / sum(aws_imports['boto']), 3)\n",
    "))\n",
    "print(\"{0}% of notebooks that use boto call both.\".format(\n",
    "    round(100*sum([len(t) > 0 for t in aws_imports['create_training_job']]&(\n",
    "        [len(t) > 0 for t in aws_imports['fit']]&aws_imports['boto'])\n",
    "    ) / sum(aws_imports['boto']), 3)\n",
    "))"
   ]
  },
  {
   "cell_type": "code",
   "execution_count": 21,
   "metadata": {},
   "outputs": [
    {
     "name": "stdout",
     "output_type": "stream",
     "text": [
      "47.432% of notebooks that use the sagemaker client in boto call a function called create_training_job.\n",
      "41.952% of notebooks that use the sagemaker client in  boto call a function called fit.\n",
      "2.911% of notebooks that use the sagemaker client in boto call both.\n"
     ]
    }
   ],
   "source": [
    "print(\"{0}% of notebooks that use the sagemaker client in boto call a function called create_training_job.\".format(\n",
    "    round(100*sum((\n",
    "            [len(t) > 0 for t in aws_imports['create_training_job']]\n",
    "            &aws_imports['boto']\n",
    "            &['sagemaker' in a for a in aws_imports['boto_client_use']]\n",
    "        )) / sum((aws_imports['boto']\n",
    "                  &['sagemaker' in a for a in aws_imports['boto_client_use']]\n",
    "        )), 3)\n",
    "))\n",
    "print(\"{0}% of notebooks that use the sagemaker client in  boto call a function called fit.\".format(\n",
    "    round(100*sum((\n",
    "        [len(t) > 0 for t in aws_imports['fit']]\n",
    "        &aws_imports['boto']\n",
    "        &['sagemaker' in a for a in aws_imports['boto_client_use']]\n",
    "        )) / sum((aws_imports['boto']\n",
    "              &['sagemaker' in a for a in aws_imports['boto_client_use']]\n",
    "        )), 3)\n",
    "))\n",
    "print(\"{0}% of notebooks that use the sagemaker client in boto call both.\".format(\n",
    "    round(100*sum((pd.Series([len(t) > 0 for t in aws_imports['create_training_job']])\n",
    "                   &[len(t) > 0 for t in aws_imports['fit']]&aws_imports['boto']&['sagemaker' in a for a in aws_imports['boto_client_use']])\n",
    "    ) / sum(aws_imports['boto']&['sagemaker' in a for a in aws_imports['boto_client_use']]), 3)\n",
    "))"
   ]
  },
  {
   "cell_type": "markdown",
   "metadata": {},
   "source": [
    "##  Uses of Sagemaker"
   ]
  },
  {
   "cell_type": "code",
   "execution_count": 22,
   "metadata": {},
   "outputs": [
    {
     "data": {
      "image/png": "[encoded data removed]",
      "text/plain": [
       "<Figure size 432x288 with 1 Axes>"
      ]
     },
     "metadata": {
      "needs_background": "light"
     },
     "output_type": "display_data"
    }
   ],
   "source": [
    "sagemaker_counts = pd.Series([\n",
    "    s.split('.')[1] for s in load_data.flatten(aws_imports.sagemaker_uses) if '.' in s\n",
    "]).value_counts().reset_index().rename(columns={'index':'use', 0:'num'})\n",
    "x = sagemaker_counts[sagemaker_counts.num > 500].use\n",
    "x_pos = np.arange(len(x))\n",
    "y = sagemaker_counts[sagemaker_counts.num > 500].num\n",
    "plt.bar(x_pos, y, color = 'teal')\n",
    "plt.xticks(x_pos, x, rotation = 70)\n",
    "plt.title('Top Uses of Sagemaker')\n",
    "plt.ylabel('Number of Notebooks')\n",
    "plt.show()"
   ]
  },
  {
   "cell_type": "markdown",
   "metadata": {},
   "source": [
    "### Over Time"
   ]
  },
  {
   "cell_type": "code",
   "execution_count": 23,
   "metadata": {},
   "outputs": [],
   "source": [
    "aws_imports_dates = aws_imports.merge(notebooks[['file','repo_id']], on = 'file').merge(repos[['repo_id','pushed_at']], on = 'repo_id')\n",
    "aws_imports_dates['pushed_at'] = pd.to_datetime(aws_imports_dates['pushed_at'])\n",
    "aws_imports_dates['month'] = [p.month for p in aws_imports_dates['pushed_at']]\n",
    "aws_imports_dates['year'] = [p.year for p in aws_imports_dates['pushed_at']]"
   ]
  },
  {
   "cell_type": "code",
   "execution_count": 24,
   "metadata": {},
   "outputs": [
    {
     "data": {
      "image/png": "[encoded data removed]",
      "text/plain": [
       "<Figure size 504x288 with 1 Axes>"
      ]
     },
     "metadata": {
      "needs_background": "light"
     },
     "output_type": "display_data"
    }
   ],
   "source": [
    "aws_imports_over_time = aws_imports_dates.groupby(['year', 'month'])[['boto','sagemaker','mxnet']].aggregate(lambda x: sum(x)).reset_index()\n",
    "\n",
    "july_19_idx = aws_imports_over_time[(aws_imports_over_time.year==2019)&(aws_imports_over_time.month==7)].index.values[0]\n",
    "aws_imports_over_time = aws_imports_over_time[:july_19_idx]\n",
    "\n",
    "aws_imports_over_time['order'] = range(len(aws_imports_over_time))\n",
    "aws_imports_over_time['label'] = [str(r.year) if r.month == 1 else '' for _, r in aws_imports_over_time.iterrows()]\n",
    "\n",
    "fig = plt.figure(figsize = (7, 4))\n",
    "x = aws_imports_over_time.order\n",
    "y1 = aws_imports_over_time.boto.cumsum()\n",
    "y2 = aws_imports_over_time.sagemaker.cumsum()\n",
    "y3 = aws_imports_over_time.mxnet.cumsum()\n",
    "\n",
    "plt.plot(x, y1, color = 'teal', label = 'boto')\n",
    "plt.plot(x, y2, color = 'navy', label = 'sagemaker')\n",
    "plt.plot(x, y3, color = 'black', label = 'mxnet')\n",
    "\n",
    "plt.xticks(x, aws_imports_over_time.label)\n",
    "plt.xlabel('Date Pushed')\n",
    "plt.ylabel('Cumulative Number of Notebooks', fontsize = 12)\n",
    "plt.title('Use of AWS Packages in Notebooks Over Time', fontsize = 12)\n",
    "plt.legend()\n",
    "plt.show()"
   ]
  },
  {
   "cell_type": "markdown",
   "metadata": {},
   "source": [
    "## Use of MXNet"
   ]
  },
  {
   "cell_type": "code",
   "execution_count": 25,
   "metadata": {},
   "outputs": [
    {
     "data": {
      "image/png": "[encoded data removed]",
      "text/plain": [
       "<Figure size 432x288 with 1 Axes>"
      ]
     },
     "metadata": {
      "needs_background": "light"
     },
     "output_type": "display_data"
    }
   ],
   "source": [
    "mxnet_counts = pd.Series([s.split('.')[1] for s in load_data.flatten(aws_imports.mxnet_uses)]).value_counts().reset_index().rename(columns={'index':'use', 0:'num'})\n",
    "x = mxnet_counts[mxnet_counts.num > 2000].use\n",
    "x_pos = np.arange(len(x))\n",
    "y = mxnet_counts[mxnet_counts.num > 2000].num\n",
    "plt.bar(x_pos, y, color = 'teal')\n",
    "plt.xticks(x_pos, x, rotation = 70)\n",
    "plt.title('Top Uses of MXNet')\n",
    "plt.ylabel('Number of Notebooks')\n",
    "plt.show()"
   ]
  },
  {
   "cell_type": "code",
   "execution_count": 26,
   "metadata": {},
   "outputs": [
    {
     "name": "stdout",
     "output_type": "stream",
     "text": [
      "Pr(mxnet) = 0.003\n",
      "Pr(mxnet|boto3) = 0.029\n",
      "Pr(mxnet|sagemaker) = 0.055\n"
     ]
    }
   ],
   "source": [
    "print(\"Pr(mxnet) = {0}\".format(\n",
    "    round(\n",
    "        sum(nb_imports_code_df.mxnet) / len(nb_imports_code_df),\n",
    "        3\n",
    "    )\n",
    "))\n",
    "print(\"Pr(mxnet|boto3) = {0}\".format(\n",
    "    round(\n",
    "        sum(nb_imports_code_df.mxnet&nb_imports_code_df.boto) / sum(nb_imports_code_df.boto),\n",
    "        3\n",
    "    )\n",
    "))\n",
    "print(\"Pr(mxnet|sagemaker) = {0}\".format(\n",
    "    round(\n",
    "        sum(nb_imports_code_df.mxnet&nb_imports_code_df.sagemaker) / sum(nb_imports_code_df.sagemaker),\n",
    "        3\n",
    "    )\n",
    "))"
   ]
  },
  {
   "cell_type": "code",
   "execution_count": 27,
   "metadata": {},
   "outputs": [
    {
     "data": {
      "text/html": [
       "<div>\n",
       "<style scoped>\n",
       "    .dataframe tbody tr th:only-of-type {\n",
       "        vertical-align: middle;\n",
       "    }\n",
       "\n",
       "    .dataframe tbody tr th {\n",
       "        vertical-align: top;\n",
       "    }\n",
       "\n",
       "    .dataframe thead th {\n",
       "        text-align: right;\n",
       "    }\n",
       "</style>\n",
       "<table border=\"1\" class=\"dataframe\">\n",
       "  <thead>\n",
       "    <tr style=\"text-align: right;\">\n",
       "      <th></th>\n",
       "      <th>sagemaker</th>\n",
       "      <th>boto</th>\n",
       "      <th>mxnet</th>\n",
       "    </tr>\n",
       "  </thead>\n",
       "  <tbody>\n",
       "    <tr>\n",
       "      <th>sagemaker</th>\n",
       "      <td>1.000000</td>\n",
       "      <td>0.466465</td>\n",
       "      <td>0.032067</td>\n",
       "    </tr>\n",
       "    <tr>\n",
       "      <th>boto</th>\n",
       "      <td>0.466465</td>\n",
       "      <td>1.000000</td>\n",
       "      <td>0.021538</td>\n",
       "    </tr>\n",
       "    <tr>\n",
       "      <th>mxnet</th>\n",
       "      <td>0.032067</td>\n",
       "      <td>0.021538</td>\n",
       "      <td>1.000000</td>\n",
       "    </tr>\n",
       "  </tbody>\n",
       "</table>\n",
       "</div>"
      ],
      "text/plain": [
       "           sagemaker      boto     mxnet\n",
       "sagemaker   1.000000  0.466465  0.032067\n",
       "boto        0.466465  1.000000  0.021538\n",
       "mxnet       0.032067  0.021538  1.000000"
      ]
     },
     "execution_count": 27,
     "metadata": {},
     "output_type": "execute_result"
    }
   ],
   "source": [
    "nb_imports_code_df[['sagemaker','boto','mxnet']].corr()"
   ]
  },
  {
   "cell_type": "markdown",
   "metadata": {},
   "source": [
    "Under hypothesis that sagemaker and boto3 are associated but mxnet is independent from both, the ratio of determinants of the entire correlation matrix should be equal to that of the correlation matrix where $r_{mxnet, sagemaker}$ = $r_{mxnet, boto3}$ = 0. Thus the ratio of determinants should be close to 1."
   ]
  },
  {
   "cell_type": "code",
   "execution_count": 28,
   "metadata": {},
   "outputs": [
    {
     "data": {
      "text/plain": [
       "0.9989163471120691"
      ]
     },
     "execution_count": 28,
     "metadata": {},
     "output_type": "execute_result"
    }
   ],
   "source": [
    "(np.linalg.det(nb_imports_code_df[['sagemaker','boto','mxnet']].corr()) /\n",
    "np.linalg.det(nb_imports_code_df[['sagemaker','boto']].corr()))"
   ]
  },
  {
   "cell_type": "markdown",
   "metadata": {},
   "source": [
    "Very close to 1. It's likely that the use of mxnet is independent from that of boto3 and sagemaker while the boto3 and sagemaker are associated."
   ]
  },
  {
   "cell_type": "markdown",
   "metadata": {},
   "source": [
    "[API Design &lt;](APIs.ipynb) | [&gt; Use of Special Features](Magic.ipynb)"
   ]
  }
 ],
 "metadata": {
  "kernelspec": {
   "display_name": "Python 3",
   "language": "python",
   "name": "python3"
  },
  "language_info": {
   "codemirror_mode": {
    "name": "ipython",
    "version": 3
   },
   "file_extension": ".py",
   "mimetype": "text/x-python",
   "name": "python",
   "nbconvert_exporter": "python",
   "pygments_lexer": "ipython3",
   "version": "3.5.5"
  }
 },
 "nbformat": 4,
 "nbformat_minor": 2
}
