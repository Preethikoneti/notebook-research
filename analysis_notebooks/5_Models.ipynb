{
 "cells": [
  {
   "cell_type": "markdown",
   "metadata": {},
   "source": [
    "# What types of ML models are people using?\n",
    "\n",
    "All results within the context of machine learning with sklearn.\n",
    "- Supervised learning is much more common than unsupervised learning.\n",
    "- Within supervised models, linear models are the most common, followed by ensemble methods.\n",
    "- Within unsupervised models, decomposition is the most popular, followed by clustering.\n",
    "-----------------"
   ]
  },
  {
   "cell_type": "code",
   "execution_count": 1,
   "metadata": {},
   "outputs": [],
   "source": [
    "import pandas as pd\n",
    "import numpy as np\n",
    "import matplotlib.pyplot as plt\n",
    "import altair as alt\n",
    "import re"
   ]
  },
  {
   "cell_type": "code",
   "execution_count": 2,
   "metadata": {},
   "outputs": [],
   "source": [
    "import load_data\n",
    "notebooks, cells, owners, readmes, repos = load_data.load(lang='python')"
   ]
  },
  {
   "cell_type": "code",
   "execution_count": 3,
   "metadata": {},
   "outputs": [],
   "source": [
    "def agg_lists(list_of_lists):\n",
    "    overall = []\n",
    "    for li in list_of_lists:\n",
    "        for l in li:\n",
    "            overall.append(l)\n",
    "    return overall\n",
    "\n",
    "nb_imports = cells.groupby('file')['imports'].aggregate(agg_lists).reset_index()\n",
    "nb_code = cells.groupby('file')['code'].aggregate(agg_lists).reset_index()\n",
    "nbs = nb_imports.merge(nb_code, on = 'file')"
   ]
  },
  {
   "cell_type": "code",
   "execution_count": 4,
   "metadata": {},
   "outputs": [],
   "source": [
    "def get_uses(row):\n",
    "    frameworks = ['tensorflow', 'sklearn', \n",
    "              'keras', 'theano', 'mxnet', \n",
    "              'caffe', 'pytorch', 'cntk']\n",
    "    uses = {}\n",
    "    for im in row.imports:\n",
    "        if sum([im[0].startswith(f) for f in frameworks]) > 0:\n",
    "            uses[im[0]] = set([])\n",
    "            as_alias = im[1]\n",
    "            for line in row.code:\n",
    "                line = line.split('#')[0]\n",
    "                if as_alias in line and 'import' not in line:\n",
    "                    use = as_alias+as_alias.join(line.split(as_alias)[1:])\n",
    "                    use = re.split('[()\\[\\]=\\s]', use)[0]\n",
    "                    if use == as_alias or use.startswith(as_alias+'.'):\n",
    "                        use = use.replace(as_alias, im[0])\n",
    "                        uses[im[0]].add(use)\n",
    "    return uses"
   ]
  },
  {
   "cell_type": "code",
   "execution_count": 5,
   "metadata": {},
   "outputs": [],
   "source": [
    "framework_uses = [get_uses(row) for _, row in nbs.iterrows()]\n",
    "nbs['framework_uses'] = framework_uses"
   ]
  },
  {
   "cell_type": "code",
   "execution_count": 6,
   "metadata": {},
   "outputs": [
    {
     "name": "stdout",
     "output_type": "stream",
     "text": [
      "There are: \n",
      "52320 (57.29%) notebooks using SciKitLearn \n",
      "29933 (32.78%) notebooks using Keras \n",
      "9071 (9.93%) notebooks using Tensorflow\n"
     ]
    }
   ],
   "source": [
    "sk_uses = sum([sum([f.startswith('sklearn') \n",
    "                    for f in framework]) \n",
    "               for framework in nbs.framework_uses])\n",
    "tf_uses = sum([sum([f.startswith('tensorflow') \n",
    "                    for f in framework]) \n",
    "               for framework in nbs.framework_uses])\n",
    "keras_uses = sum([sum([f.startswith('keras') \n",
    "                    for f in framework]) \n",
    "               for framework in nbs.framework_uses])\n",
    "\n",
    "all_uses = sk_uses + tf_uses + keras_uses\n",
    "\n",
    "print(\"There are: \\n{0} ({1}%) notebooks using SciKitLearn \\n{4} ({5}%) notebooks using Keras \\n{2} ({3}%) notebooks using Tensorflow\".format(\n",
    "    sk_uses, round(100*sk_uses/all_uses, 2), tf_uses, round(100*tf_uses/all_uses, 2), keras_uses, round(100*keras_uses/all_uses, 2)\n",
    "))"
   ]
  },
  {
   "cell_type": "markdown",
   "metadata": {},
   "source": [
    "SciKitLearn is the most popular machine learning framework for Jupyter notebooks, as we saw in exploring [frameworks](2_Frameworks.ipynb)."
   ]
  },
  {
   "cell_type": "markdown",
   "metadata": {},
   "source": [
    "# Comparing supervised and unsupervised"
   ]
  },
  {
   "cell_type": "markdown",
   "metadata": {},
   "source": [
    "## Focusing on SciKitLearn"
   ]
  },
  {
   "cell_type": "markdown",
   "metadata": {},
   "source": [
    "SciKitLearn has good documentation of all available models, making it easy to distinguish what model a user is deploying. On the other hand, Keras and Tensorflow have *parts* of models, called layers, that users can use to build different types of models. Keras is primarily for neural networks, and neural networks are primarily supervised learning. However, there are instances of using keras for unsupervised learning, and its very difficult to parse that information from the code itself. Tensorflow is even more difficult because it can use lots of different APIs (for instance, tensorflow can actually use keras). For these reasons, and because the majority of machine learning uses are SciKitLearn, I have decided to focus on SciKitLearn models for this section."
   ]
  },
  {
   "cell_type": "markdown",
   "metadata": {},
   "source": [
    "References\n",
    "- [sklearn supervised](https://scikit-learn.org/stable/supervised_learning.html)\n",
    "- [sklearn unsupervised](https://scikit-learn.org/stable/unsupervised_learning.html)\n"
   ]
  },
  {
   "cell_type": "code",
   "execution_count": 7,
   "metadata": {},
   "outputs": [],
   "source": [
    "model_to_type = {\n",
    "    'sklearn.linear_model': 'S',\n",
    "    'sklearn.discriminant_analysis': 'S',\n",
    "    'sklearn.kernel_ridge': 'S',\n",
    "    'sklearn.svm': 'S',\n",
    "    'sklearn.SGDClassifier': 'S',\n",
    "    'sklearn.neighbors': 'S',\n",
    "    'sklearn.gaussian_process': 'S',\n",
    "    'sklearn.cross_decomposition': 'S',\n",
    "    'sklearn.naive_bayes': 'S',\n",
    "    'sklearn.tree': 'S',\n",
    "    'sklearn.ensemble': 'S',\n",
    "    'sklearn.multiclass': 'S',\n",
    "    'sklearn.feature_selection': 'S',\n",
    "    'sklearn.semi_supervised': 'S',\n",
    "    'sklearn.isotonic': 'S',\n",
    "    'sklearn.calibration': 'S',\n",
    "    'sklearn.neural_network': 'S',\n",
    "    \n",
    "    'sklearn.mixture': 'U',\n",
    "    'sklearn.manifold': 'U',\n",
    "    'sklearn.cluster': 'U',\n",
    "    'sklearn.decomposition': 'U',\n",
    "    'sklearn.covariance': 'U',\n",
    "    #'sklearn.neural_network.BernoulliRBM': 'U'\n",
    "}"
   ]
  },
  {
   "cell_type": "code",
   "execution_count": 8,
   "metadata": {},
   "outputs": [],
   "source": [
    "all_supervised = []\n",
    "all_unsupervised = []\n",
    "for framework_uses in nbs.framework_uses:\n",
    "    for use in framework_uses:\n",
    "        if use.startswith('sklearn') or use.startswith('keras'):\n",
    "            major = '.'.join(use.split('.')[:2])\n",
    "            if major in model_to_type:\n",
    "                t = model_to_type[major]\n",
    "                if t == 'S':\n",
    "                    if use.startswith('sklearn.neural_network.BernoulliRBM'):\n",
    "                        all_unsupervised.append(major)\n",
    "                    else:\n",
    "                        all_supervised.append(major)\n",
    "                else:\n",
    "                    all_unsupervised.append(major)"
   ]
  },
  {
   "cell_type": "code",
   "execution_count": 9,
   "metadata": {},
   "outputs": [
    {
     "data": {
      "application/vnd.vegalite.v3+json": {
       "$schema": "https://vega.github.io/schema/vega-lite/v3.3.0.json",
       "config": {
        "mark": {
         "tooltip": null
        },
        "view": {
         "height": 300,
         "width": 400
        }
       },
       "data": {
        "name": "data-1430ac15b09fe2955cc35830c839e1b2"
       },
       "datasets": {
        "data-1430ac15b09fe2955cc35830c839e1b2": [
         {
          "count": 1027,
          "model": "sklearn.decomposition",
          "type": "Unsupervised"
         },
         {
          "count": 712,
          "model": "sklearn.cluster",
          "type": "Unsupervised"
         },
         {
          "count": 159,
          "model": "sklearn.manifold",
          "type": "Unsupervised"
         },
         {
          "count": 47,
          "model": "sklearn.mixture",
          "type": "Unsupervised"
         },
         {
          "count": 12,
          "model": "sklearn.covariance",
          "type": "Unsupervised"
         },
         {
          "count": 11,
          "model": "sklearn.neural_network",
          "type": "Unsupervised"
         },
         {
          "count": 5407,
          "model": "sklearn.linear_model",
          "type": "Supervised"
         },
         {
          "count": 3887,
          "model": "sklearn.ensemble",
          "type": "Supervised"
         },
         {
          "count": 1805,
          "model": "sklearn.svm",
          "type": "Supervised"
         },
         {
          "count": 1544,
          "model": "sklearn.tree",
          "type": "Supervised"
         },
         {
          "count": 1105,
          "model": "sklearn.naive_bayes",
          "type": "Supervised"
         },
         {
          "count": 1066,
          "model": "sklearn.neighbors",
          "type": "Supervised"
         },
         {
          "count": 654,
          "model": "sklearn.feature_selection",
          "type": "Supervised"
         },
         {
          "count": 292,
          "model": "sklearn.neural_network",
          "type": "Supervised"
         },
         {
          "count": 134,
          "model": "sklearn.multiclass",
          "type": "Supervised"
         },
         {
          "count": 127,
          "model": "sklearn.discriminant_analysis",
          "type": "Supervised"
         },
         {
          "count": 84,
          "model": "sklearn.gaussian_process",
          "type": "Supervised"
         },
         {
          "count": 31,
          "model": "sklearn.kernel_ridge",
          "type": "Supervised"
         },
         {
          "count": 21,
          "model": "sklearn.calibration",
          "type": "Supervised"
         },
         {
          "count": 4,
          "model": "sklearn.semi_supervised",
          "type": "Supervised"
         },
         {
          "count": 4,
          "model": "sklearn.cross_decomposition",
          "type": "Supervised"
         },
         {
          "count": 1,
          "model": "sklearn.isotonic",
          "type": "Supervised"
         }
        ]
       },
       "encoding": {
        "column": {
         "field": "type",
         "title": "Model Type",
         "type": "nominal"
        },
        "x": {
         "field": "model",
         "sort": {
          "field": "count",
          "op": "sum",
          "order": "descending"
         },
         "title": "",
         "type": "nominal"
        },
        "y": {
         "field": "count",
         "title": "Number of Uses",
         "type": "quantitative"
        }
       },
       "mark": {
        "color": "teal",
        "type": "bar"
       },
       "resolve": {
        "scale": {
         "x": "independent"
        }
       }
      },
      "image/png": "[encoded data removed]",
      "text/plain": [
       "<VegaLite 3 object>\n",
       "\n",
       "If you see this message, it means the renderer has not been properly enabled\n",
       "for the frontend that you are using. For more information, see\n",
       "https://altair-viz.github.io/user_guide/troubleshooting.html\n"
      ]
     },
     "execution_count": 9,
     "metadata": {},
     "output_type": "execute_result"
    }
   ],
   "source": [
    "all_u_counts = pd.Series(all_unsupervised).value_counts().reset_index().rename(\n",
    "    columns = {'index':'model', 0:'count'})\n",
    "all_u_counts['type'] = 'Unsupervised'\n",
    "\n",
    "all_s_counts = pd.Series(all_supervised).value_counts().reset_index().rename(\n",
    "    columns = {'index':'model', 0:'count'})\n",
    "all_s_counts['type'] = 'Supervised'\n",
    "\n",
    "all_counts = all_u_counts.append(all_s_counts)\n",
    "\n",
    "alt.Chart(all_counts).mark_bar(color = 'teal').encode(\n",
    "    alt.X('model',\n",
    "         sort = alt.EncodingSortField(field=\"count\", op=\"sum\",order=\"descending\"),\n",
    "         title = ''\n",
    "    ),\n",
    "    alt.Y('count', title = 'Number of Uses'),\n",
    "    alt.Column('type', title = 'Model Type')\n",
    ").resolve_scale(x = 'independent')"
   ]
  },
  {
   "cell_type": "markdown",
   "metadata": {},
   "source": [
    "Supervised learning is much more common than unsupervised learning. I'll go over the contents of the most common model groups. For a full list, view the sklearn [documentation](https://scikit-learn.org/stable/supervised_learning.html). \n",
    "\n",
    "Within supervised learning, linear models are the most common. This includes regular least squares regression, ridge and lasso regression, elastic net, logistic regression, stochastic gradient descent.\n",
    "\n",
    "Closely following linear models are ensemble methods, which includes bagging, random forests, adaboost, gradient tree boosting, voting classifiers, and voting regressors.\n",
    "\n",
    "Within unsupervised learning, decomposition is the most popular. This includes PCA, singular value decomposition, dictionary learning, factor analysis, independent component analysis, non-negative matrix factorization, and latent dirichlet allocation.\n",
    "\n",
    "Following decomposition is clustering, which incorperates k means, mean shift, hierarchical, dbscan, and more."
   ]
  },
  {
   "cell_type": "markdown",
   "metadata": {},
   "source": [
    "## Model type over time"
   ]
  },
  {
   "cell_type": "markdown",
   "metadata": {},
   "source": [
    "## Do users import different packages depending on model type"
   ]
  },
  {
   "cell_type": "markdown",
   "metadata": {},
   "source": [
    "<center> <a href = 4_Packages.ipynb>Python Package Use &lt;</a> | <a href = 6_Visualizations.ipynb>&gt; Visualizations</a> <center>"
   ]
  }
 ],
 "metadata": {
  "kernelspec": {
   "display_name": "Python 3",
   "language": "python",
   "name": "python3"
  },
  "language_info": {
   "codemirror_mode": {
    "name": "ipython",
    "version": 3
   },
   "file_extension": ".py",
   "mimetype": "text/x-python",
   "name": "python",
   "nbconvert_exporter": "python",
   "pygments_lexer": "ipython3",
   "version": "3.7.3"
  }
 },
 "nbformat": 4,
 "nbformat_minor": 4
}
