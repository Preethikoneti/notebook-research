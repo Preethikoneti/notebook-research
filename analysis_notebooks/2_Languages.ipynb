{
 "cells": [
  {
   "cell_type": "markdown",
   "metadata": {},
   "source": [
    "# What programming languages are people using currently and what is their growth?\n",
    "\n",
    "\n",
    "## Results Summary:\n",
    "- Python is consistently the most popular programming language for Jupyter notebooks. There are over 100 times more notebooks written in Python than there are in the next most popular language, Julia. Julia and R are very close in popularity. Many other languages are used (e.g. scala, bash, c++, ruby), but with minimal frequency. \n",
    "- The relative popularities of these languages do not change over time (that is, popularity scaled for overall increase in number of notebooks does not change).\n",
    "- The overall growth in notebook usage (which closely matches the growth within each language) followed an exponential pattern until the last two months, when the number of notebooks has spiked.\n",
    "-------------"
   ]
  },
  {
   "cell_type": "code",
   "execution_count": 1,
   "metadata": {},
   "outputs": [],
   "source": [
    "import pandas as pd\n",
    "import altair as alt\n",
    "import calendar"
   ]
  },
  {
   "cell_type": "code",
   "execution_count": 2,
   "metadata": {},
   "outputs": [],
   "source": [
    "import load_data\n",
    "notebooks, cells, owners, readmes, repos = load_data.load()\n",
    "\n",
    "DATE_CHOICE = 'pushed_at' # other option: created_at"
   ]
  },
  {
   "cell_type": "markdown",
   "metadata": {},
   "source": [
    "Adding a truncated 'version' field to the notebooks dataframe. (Python 3.3.2 is truncated to 3.3)."
   ]
  },
  {
   "cell_type": "code",
   "execution_count": 3,
   "metadata": {},
   "outputs": [],
   "source": [
    "python_versions_strings = notebooks[notebooks.lang_name == 'python'].lang_version\n",
    "str_to_version = {}\n",
    "for p in python_versions_strings.unique():\n",
    "    if p == 'nan':\n",
    "        str_to_version[p] = ''\n",
    "    else:\n",
    "        str_to_version[p] = float('.'.join(str(p).split('.')[0:2]))"
   ]
  },
  {
   "cell_type": "markdown",
   "metadata": {},
   "source": [
    "Adding month and date pushed to notebooks dataframe."
   ]
  },
  {
   "cell_type": "code",
   "execution_count": 4,
   "metadata": {},
   "outputs": [
    {
     "data": {
      "text/html": [
       "<div>\n",
       "<style scoped>\n",
       "    .dataframe tbody tr th:only-of-type {\n",
       "        vertical-align: middle;\n",
       "    }\n",
       "\n",
       "    .dataframe tbody tr th {\n",
       "        vertical-align: top;\n",
       "    }\n",
       "\n",
       "    .dataframe thead th {\n",
       "        text-align: right;\n",
       "    }\n",
       "</style>\n",
       "<table border=\"1\" class=\"dataframe\">\n",
       "  <thead>\n",
       "    <tr style=\"text-align: right;\">\n",
       "      <th></th>\n",
       "      <th>file</th>\n",
       "      <th>lang_name</th>\n",
       "      <th>python_version</th>\n",
       "      <th>pushed_at</th>\n",
       "      <th>month</th>\n",
       "      <th>year</th>\n",
       "    </tr>\n",
       "  </thead>\n",
       "  <tbody>\n",
       "    <tr>\n",
       "      <th>0</th>\n",
       "      <td>danielcorbett..pyoz..scratchwork..notebooks..p...</td>\n",
       "      <td>python</td>\n",
       "      <td>3.5</td>\n",
       "      <td>2019-07-10 00:08:32+00:00</td>\n",
       "      <td>7</td>\n",
       "      <td>2019</td>\n",
       "    </tr>\n",
       "    <tr>\n",
       "      <th>1</th>\n",
       "      <td>douglaswinstonr..rideshare_apps_price_mining.....</td>\n",
       "      <td>python</td>\n",
       "      <td>3.7</td>\n",
       "      <td>2019-07-11 12:08:21+00:00</td>\n",
       "      <td>7</td>\n",
       "      <td>2019</td>\n",
       "    </tr>\n",
       "    <tr>\n",
       "      <th>2</th>\n",
       "      <td>Flare-k..rokkyw..khukyw_Python...ipynb_checkpo...</td>\n",
       "      <td>NaN</td>\n",
       "      <td></td>\n",
       "      <td>2019-07-03 14:23:42+00:00</td>\n",
       "      <td>7</td>\n",
       "      <td>2019</td>\n",
       "    </tr>\n",
       "    <tr>\n",
       "      <th>3</th>\n",
       "      <td>Flare-k..rokkyw..khukyw_Python..Step_02_Variab...</td>\n",
       "      <td>python</td>\n",
       "      <td>3.7</td>\n",
       "      <td>2019-07-03 14:23:42+00:00</td>\n",
       "      <td>7</td>\n",
       "      <td>2019</td>\n",
       "    </tr>\n",
       "    <tr>\n",
       "      <th>4</th>\n",
       "      <td>vishalrajak..Machine-Learning-and-AI..NLP..nlp...</td>\n",
       "      <td>python</td>\n",
       "      <td>3.7</td>\n",
       "      <td>2019-07-11 02:54:42+00:00</td>\n",
       "      <td>7</td>\n",
       "      <td>2019</td>\n",
       "    </tr>\n",
       "  </tbody>\n",
       "</table>\n",
       "</div>"
      ],
      "text/plain": [
       "                                                file lang_name python_version  \\\n",
       "0  danielcorbett..pyoz..scratchwork..notebooks..p...    python            3.5   \n",
       "1  douglaswinstonr..rideshare_apps_price_mining.....    python            3.7   \n",
       "2  Flare-k..rokkyw..khukyw_Python...ipynb_checkpo...       NaN                  \n",
       "3  Flare-k..rokkyw..khukyw_Python..Step_02_Variab...    python            3.7   \n",
       "4  vishalrajak..Machine-Learning-and-AI..NLP..nlp...    python            3.7   \n",
       "\n",
       "                  pushed_at  month  year  \n",
       "0 2019-07-10 00:08:32+00:00      7  2019  \n",
       "1 2019-07-11 12:08:21+00:00      7  2019  \n",
       "2 2019-07-03 14:23:42+00:00      7  2019  \n",
       "3 2019-07-03 14:23:42+00:00      7  2019  \n",
       "4 2019-07-11 02:54:42+00:00      7  2019  "
      ]
     },
     "execution_count": 4,
     "metadata": {},
     "output_type": "execute_result"
    }
   ],
   "source": [
    "notebooks['python_version'] = [\n",
    "    '' if p.lang_name != 'python' \n",
    "    else str_to_version[p.lang_version] \n",
    "    for i, p in notebooks.iterrows()\n",
    "]\n",
    "over_time = notebooks.merge(repos, on = 'repo_id')[['file','lang_name','python_version',DATE_CHOICE]]\n",
    "over_time[DATE_CHOICE] = pd.to_datetime(over_time[DATE_CHOICE])\n",
    "over_time['month'] = [c.month for c in over_time[DATE_CHOICE]]\n",
    "over_time['year'] = [c.year for c in over_time[DATE_CHOICE]]\n",
    "over_time.head()"
   ]
  },
  {
   "cell_type": "markdown",
   "metadata": {},
   "source": [
    "# Language Use\n",
    "What programming langugages are the most popular to use with Jupyter notebooks?"
   ]
  },
  {
   "cell_type": "code",
   "execution_count": 5,
   "metadata": {},
   "outputs": [
    {
     "name": "stdout",
     "output_type": "stream",
     "text": [
      "80.64% of notebooks have a specified language.\n",
      "Of these, 97.9% are written in python, 0.66% Julia, and 0.56% R.\n"
     ]
    }
   ],
   "source": [
    "counts = notebooks.groupby('lang_name')['file'].count().sort_values(ascending=False).reset_index().rename(\n",
    "    columns = {'file':'count'}\n",
    ")\n",
    "\n",
    "notebooks_has_lang = notebooks[~notebooks.lang_name.isna()]\n",
    "print(\"{0}% of notebooks have a specified language.\".format(\n",
    "    round(100*len(notebooks_has_lang)/len(notebooks), 2)\n",
    "))\n",
    "\n",
    "print(\"Of these, {0}% are written in python, {1}% Julia, and {2}% R.\".format(\n",
    "    round(100*sum(notebooks_has_lang.lang_name == 'python') / len(notebooks_has_lang), 2),\n",
    "    round(100*sum(notebooks_has_lang.lang_name == 'julia') / len(notebooks_has_lang), 2),\n",
    "    round(100*sum(notebooks_has_lang.lang_name == 'r') / len(notebooks_has_lang), 2)\n",
    "))"
   ]
  },
  {
   "cell_type": "code",
   "execution_count": 6,
   "metadata": {},
   "outputs": [
    {
     "data": {
      "application/vnd.vegalite.v3+json": {
       "$schema": "https://vega.github.io/schema/vega-lite/v3.3.0.json",
       "config": {
        "mark": {
         "tooltip": null
        },
        "view": {
         "height": 300,
         "width": 400
        }
       },
       "data": {
        "name": "data-c44fe3d399cfd214da95e39d1343d592"
       },
       "datasets": {
        "data-c44fe3d399cfd214da95e39d1343d592": [
         {
          "count": 23987,
          "lang_name": "python"
         },
         {
          "count": 161,
          "lang_name": "julia"
         },
         {
          "count": 137,
          "lang_name": "r"
         },
         {
          "count": 35,
          "lang_name": "groovy"
         },
         {
          "count": 28,
          "lang_name": "scala"
         },
         {
          "count": 21,
          "lang_name": "bash"
         },
         {
          "count": 14,
          "lang_name": "scala211"
         },
         {
          "count": 14,
          "lang_name": "c++"
         },
         {
          "count": 13,
          "lang_name": "ruby"
         },
         {
          "count": 12,
          "lang_name": "matlab"
         },
         {
          "count": 10,
          "lang_name": "pyspark"
         },
         {
          "count": 9,
          "lang_name": "haskell"
         },
         {
          "count": 8,
          "lang_name": "javascript"
         },
         {
          "count": 7,
          "lang_name": "spad"
         },
         {
          "count": 6,
          "lang_name": "java"
         },
         {
          "count": 6,
          "lang_name": "octave"
         },
         {
          "count": 6,
          "lang_name": "lua"
         },
         {
          "count": 4,
          "lang_name": "fsharp"
         },
         {
          "count": 4,
          "lang_name": "sos"
         },
         {
          "count": 3,
          "lang_name": "ocaml"
         },
         {
          "count": 2,
          "lang_name": "php"
         },
         {
          "count": 2,
          "lang_name": "pyspark3"
         },
         {
          "count": 2,
          "lang_name": "scala212"
         },
         {
          "count": 1,
          "lang_name": "maxima"
         },
         {
          "count": 1,
          "lang_name": "micropython"
         },
         {
          "count": 1,
          "lang_name": "sql"
         },
         {
          "count": 1,
          "lang_name": "polymake"
         },
         {
          "count": 1,
          "lang_name": "q"
         },
         {
          "count": 1,
          "lang_name": "qsharp"
         },
         {
          "count": 1,
          "lang_name": "go"
         },
         {
          "count": 1,
          "lang_name": "scala210"
         },
         {
          "count": 1,
          "lang_name": "chatbot"
         },
         {
          "count": 1,
          "lang_name": "ssh"
         }
        ]
       },
       "encoding": {
        "x": {
         "field": "lang_name",
         "sort": {
          "field": "count",
          "op": "sum",
          "order": "descending"
         },
         "title": "Language",
         "type": "nominal"
        },
        "y": {
         "field": "count",
         "scale": {
          "type": "log"
         },
         "title": "Number of Notebooks",
         "type": "quantitative"
        }
       },
       "mark": {
        "color": "teal",
        "type": "bar"
       },
       "title": "Language Distribution"
      },
      "image/png": "[encoded data removed]",
      "text/plain": [
       "<VegaLite 3 object>\n",
       "\n",
       "If you see this message, it means the renderer has not been properly enabled\n",
       "for the frontend that you are using. For more information, see\n",
       "https://altair-viz.github.io/user_guide/troubleshooting.html\n"
      ]
     },
     "execution_count": 6,
     "metadata": {},
     "output_type": "execute_result"
    }
   ],
   "source": [
    "alt.Chart(counts, title = 'Language Distribution').mark_bar(color = 'teal').encode(\n",
    "    alt.X('lang_name', \n",
    "          sort = alt.EncodingSortField(field=\"count\", op=\"sum\",order=\"descending\"),\n",
    "          title='Language'\n",
    "    ),\n",
    "    alt.Y('count', \n",
    "          scale = alt.Scale(type='log'),\n",
    "          title='Number of Notebooks'\n",
    "    )\n",
    ")"
   ]
  },
  {
   "cell_type": "markdown",
   "metadata": {},
   "source": [
    "Clearly, Python is the language of choice. Python has nearly 100 times more notebooks than Julia or R, the next most popular languages."
   ]
  },
  {
   "cell_type": "markdown",
   "metadata": {},
   "source": [
    "# Language Use Over Time\n",
    "How have relative popularities of langages canged over time?"
   ]
  },
  {
   "cell_type": "code",
   "execution_count": 7,
   "metadata": {},
   "outputs": [],
   "source": [
    "def lang_over_time(language):\n",
    "    start = over_time.year.min()\n",
    "    end = over_time.year.max()\n",
    "    \n",
    "    language_over_time = over_time[over_time.lang_name == language]\n",
    "    language_yearly_counts = language_over_time.groupby('year')['file'].count().reset_index().rename(columns={'file':'count'})\n",
    "    to_append = {'year':[], 'count':[]}\n",
    "    for y in range(start, end):\n",
    "        if y not in language_yearly_counts['year'].values:\n",
    "            to_append['year'].append(y)\n",
    "            to_append['count'].append(0)\n",
    "    to_append_df = pd.DataFrame(to_append)\n",
    "    language_yearly_counts = pd.concat([language_yearly_counts, to_append_df], sort = False).sort_values(by='year')\n",
    "    totals = over_time.groupby('year')['file'].count().reset_index().rename(columns={'file':'total'})\n",
    "    language_yearly_counts = language_yearly_counts.merge(totals, on = 'year')\n",
    "    language_yearly_counts['language'] = language\n",
    "    return language_yearly_counts"
   ]
  },
  {
   "cell_type": "code",
   "execution_count": 8,
   "metadata": {},
   "outputs": [
    {
     "data": {
      "application/vnd.vegalite.v3+json": {
       "$schema": "https://vega.github.io/schema/vega-lite/v3.3.0.json",
       "config": {
        "mark": {
         "tooltip": null
        },
        "view": {
         "height": 300,
         "width": 400
        }
       },
       "data": {
        "name": "data-8cecff06d1111ab2e7d8721b51e57209"
       },
       "datasets": {
        "data-8cecff06d1111ab2e7d8721b51e57209": [
         {
          "count": 5,
          "language": "python",
          "prop": 1,
          "total": 5,
          "year": 2012
         },
         {
          "count": 71,
          "language": "python",
          "prop": 0.9726027397260274,
          "total": 73,
          "year": 2013
         },
         {
          "count": 447,
          "language": "python",
          "prop": 0.9273858921161826,
          "total": 482,
          "year": 2014
         },
         {
          "count": 486,
          "language": "python",
          "prop": 0.7581903276131046,
          "total": 641,
          "year": 2015
         },
         {
          "count": 1303,
          "language": "python",
          "prop": 0.7588817705299942,
          "total": 1717,
          "year": 2016
         },
         {
          "count": 3490,
          "language": "python",
          "prop": 0.7750388629802354,
          "total": 4503,
          "year": 2017
         },
         {
          "count": 7951,
          "language": "python",
          "prop": 0.7834269386146419,
          "total": 10149,
          "year": 2018
         },
         {
          "count": 10213,
          "language": "python",
          "prop": 0.7987018065222492,
          "total": 12787,
          "year": 2019
         },
         {
          "count": 0,
          "language": "julia",
          "prop": 0,
          "total": 5,
          "year": 2012
         },
         {
          "count": 0,
          "language": "julia",
          "prop": 0,
          "total": 73,
          "year": 2013
         },
         {
          "count": 0,
          "language": "julia",
          "prop": 0,
          "total": 482,
          "year": 2014
         },
         {
          "count": 7,
          "language": "julia",
          "prop": 0.0109204368174727,
          "total": 641,
          "year": 2015
         },
         {
          "count": 9,
          "language": "julia",
          "prop": 0.0052417006406523005,
          "total": 1717,
          "year": 2016
         },
         {
          "count": 35,
          "language": "julia",
          "prop": 0.007772596047079724,
          "total": 4503,
          "year": 2017
         },
         {
          "count": 57,
          "language": "julia",
          "prop": 0.005616316878510198,
          "total": 10149,
          "year": 2018
         },
         {
          "count": 53,
          "language": "julia",
          "prop": 0.004144834597638226,
          "total": 12787,
          "year": 2019
         },
         {
          "count": 0,
          "language": "r",
          "prop": 0,
          "total": 5,
          "year": 2012
         },
         {
          "count": 0,
          "language": "r",
          "prop": 0,
          "total": 73,
          "year": 2013
         },
         {
          "count": 0,
          "language": "r",
          "prop": 0,
          "total": 482,
          "year": 2014
         },
         {
          "count": 2,
          "language": "r",
          "prop": 0.0031201248049922,
          "total": 641,
          "year": 2015
         },
         {
          "count": 5,
          "language": "r",
          "prop": 0.0029120559114735,
          "total": 1717,
          "year": 2016
         },
         {
          "count": 19,
          "language": "r",
          "prop": 0.004219409282700422,
          "total": 4503,
          "year": 2017
         },
         {
          "count": 53,
          "language": "r",
          "prop": 0.0052221893782638685,
          "total": 10149,
          "year": 2018
         },
         {
          "count": 58,
          "language": "r",
          "prop": 0.004535856729490889,
          "total": 12787,
          "year": 2019
         }
        ]
       },
       "encoding": {
        "color": {
         "field": "language",
         "scale": {
          "domain": [
           "julia",
           "python",
           "r"
          ],
          "range": [
           "#8A5D9F",
           "#F9D25B",
           "#2A65B3"
          ]
         },
         "title": "Language",
         "type": "nominal"
        },
        "x": {
         "field": "year",
         "title": "Year",
         "type": "ordinal"
        },
        "y": {
         "field": "count",
         "title": "Number of Notebooks",
         "type": "quantitative"
        }
       },
       "mark": "line",
       "title": "Language Use Over Time",
       "width": 400
      },
      "image/png": "[encoded data removed]",
      "text/plain": [
       "<VegaLite 3 object>\n",
       "\n",
       "If you see this message, it means the renderer has not been properly enabled\n",
       "for the frontend that you are using. For more information, see\n",
       "https://altair-viz.github.io/user_guide/troubleshooting.html\n"
      ]
     },
     "execution_count": 8,
     "metadata": {},
     "output_type": "execute_result"
    }
   ],
   "source": [
    "py_counts = lang_over_time('python')\n",
    "ju_counts = lang_over_time('julia')\n",
    "r_counts = lang_over_time('r')\n",
    "\n",
    "lang_counts = pd.concat([py_counts, ju_counts, r_counts])\n",
    "lang_counts['prop'] = lang_counts['count']/lang_counts['total']\n",
    "\n",
    "alt.Chart(lang_counts, width = 400, title = 'Language Use Over Time').mark_line().encode(\n",
    "    alt.X('year:O', title = 'Year'),\n",
    "    alt.Y('count', title = 'Number of Notebooks'),\n",
    "    alt.Color('language', \n",
    "              scale = alt.Scale(domain = ['julia','python','r'], range = ['#8A5D9F','#F9D25B','#2A65B3']),\n",
    "              title = 'Language'\n",
    "    )\n",
    ")"
   ]
  },
  {
   "cell_type": "markdown",
   "metadata": {},
   "source": [
    "Python has always been the most popular language. The number of notebooks written in each language grows as the total number of notebooks written does, so let's instead look at the proportion within each year."
   ]
  },
  {
   "cell_type": "code",
   "execution_count": 9,
   "metadata": {},
   "outputs": [
    {
     "data": {
      "application/vnd.vegalite.v3+json": {
       "$schema": "https://vega.github.io/schema/vega-lite/v3.3.0.json",
       "config": {
        "mark": {
         "tooltip": null
        },
        "view": {
         "height": 300,
         "width": 400
        }
       },
       "data": {
        "name": "data-8cecff06d1111ab2e7d8721b51e57209"
       },
       "datasets": {
        "data-8cecff06d1111ab2e7d8721b51e57209": [
         {
          "count": 5,
          "language": "python",
          "prop": 1,
          "total": 5,
          "year": 2012
         },
         {
          "count": 71,
          "language": "python",
          "prop": 0.9726027397260274,
          "total": 73,
          "year": 2013
         },
         {
          "count": 447,
          "language": "python",
          "prop": 0.9273858921161826,
          "total": 482,
          "year": 2014
         },
         {
          "count": 486,
          "language": "python",
          "prop": 0.7581903276131046,
          "total": 641,
          "year": 2015
         },
         {
          "count": 1303,
          "language": "python",
          "prop": 0.7588817705299942,
          "total": 1717,
          "year": 2016
         },
         {
          "count": 3490,
          "language": "python",
          "prop": 0.7750388629802354,
          "total": 4503,
          "year": 2017
         },
         {
          "count": 7951,
          "language": "python",
          "prop": 0.7834269386146419,
          "total": 10149,
          "year": 2018
         },
         {
          "count": 10213,
          "language": "python",
          "prop": 0.7987018065222492,
          "total": 12787,
          "year": 2019
         },
         {
          "count": 0,
          "language": "julia",
          "prop": 0,
          "total": 5,
          "year": 2012
         },
         {
          "count": 0,
          "language": "julia",
          "prop": 0,
          "total": 73,
          "year": 2013
         },
         {
          "count": 0,
          "language": "julia",
          "prop": 0,
          "total": 482,
          "year": 2014
         },
         {
          "count": 7,
          "language": "julia",
          "prop": 0.0109204368174727,
          "total": 641,
          "year": 2015
         },
         {
          "count": 9,
          "language": "julia",
          "prop": 0.0052417006406523005,
          "total": 1717,
          "year": 2016
         },
         {
          "count": 35,
          "language": "julia",
          "prop": 0.007772596047079724,
          "total": 4503,
          "year": 2017
         },
         {
          "count": 57,
          "language": "julia",
          "prop": 0.005616316878510198,
          "total": 10149,
          "year": 2018
         },
         {
          "count": 53,
          "language": "julia",
          "prop": 0.004144834597638226,
          "total": 12787,
          "year": 2019
         },
         {
          "count": 0,
          "language": "r",
          "prop": 0,
          "total": 5,
          "year": 2012
         },
         {
          "count": 0,
          "language": "r",
          "prop": 0,
          "total": 73,
          "year": 2013
         },
         {
          "count": 0,
          "language": "r",
          "prop": 0,
          "total": 482,
          "year": 2014
         },
         {
          "count": 2,
          "language": "r",
          "prop": 0.0031201248049922,
          "total": 641,
          "year": 2015
         },
         {
          "count": 5,
          "language": "r",
          "prop": 0.0029120559114735,
          "total": 1717,
          "year": 2016
         },
         {
          "count": 19,
          "language": "r",
          "prop": 0.004219409282700422,
          "total": 4503,
          "year": 2017
         },
         {
          "count": 53,
          "language": "r",
          "prop": 0.0052221893782638685,
          "total": 10149,
          "year": 2018
         },
         {
          "count": 58,
          "language": "r",
          "prop": 0.004535856729490889,
          "total": 12787,
          "year": 2019
         }
        ]
       },
       "encoding": {
        "color": {
         "field": "language",
         "scale": {
          "domain": [
           "julia",
           "python",
           "r"
          ],
          "range": [
           "#8A5D9F",
           "#F9D25B",
           "#2A65B3"
          ]
         },
         "title": "Language",
         "type": "nominal"
        },
        "x": {
         "field": "year",
         "title": "Year",
         "type": "ordinal"
        },
        "y": {
         "field": "prop",
         "title": "Proportion of Notebooks",
         "type": "quantitative"
        }
       },
       "mark": "line",
       "title": "Language Use Over Time",
       "width": 400
      },
      "image/png": "[encoded data removed]",
      "text/plain": [
       "<VegaLite 3 object>\n",
       "\n",
       "If you see this message, it means the renderer has not been properly enabled\n",
       "for the frontend that you are using. For more information, see\n",
       "https://altair-viz.github.io/user_guide/troubleshooting.html\n"
      ]
     },
     "execution_count": 9,
     "metadata": {},
     "output_type": "execute_result"
    }
   ],
   "source": [
    "alt.Chart(lang_counts, width = 400, title = 'Language Use Over Time').mark_line().encode(\n",
    "    alt.X('year:O', title = 'Year'),\n",
    "    alt.Y('prop', title = 'Proportion of Notebooks'),\n",
    "    alt.Color('language', \n",
    "              scale = alt.Scale(domain = ['julia','python','r'], range = ['#8A5D9F','#F9D25B','#2A65B3']),\n",
    "              title = 'Language'\n",
    "    )\n",
    ")"
   ]
  },
  {
   "cell_type": "markdown",
   "metadata": {},
   "source": [
    "Here we see the same thing, that nearly all notebooks are written in Python, and this popularity has not fluxuated that much over time. It's difficult to see the difference between the lines for Julia and R, so lets zoom in on those."
   ]
  },
  {
   "cell_type": "code",
   "execution_count": 10,
   "metadata": {},
   "outputs": [
    {
     "data": {
      "application/vnd.vegalite.v3+json": {
       "$schema": "https://vega.github.io/schema/vega-lite/v3.3.0.json",
       "config": {
        "mark": {
         "tooltip": null
        },
        "view": {
         "height": 300,
         "width": 400
        }
       },
       "data": {
        "name": "data-bfb8f641373b45863c779c24a3c90ded"
       },
       "datasets": {
        "data-bfb8f641373b45863c779c24a3c90ded": [
         {
          "count": 0,
          "language": "julia",
          "prop": 0,
          "total": 5,
          "year": 2012
         },
         {
          "count": 0,
          "language": "julia",
          "prop": 0,
          "total": 73,
          "year": 2013
         },
         {
          "count": 0,
          "language": "julia",
          "prop": 0,
          "total": 482,
          "year": 2014
         },
         {
          "count": 7,
          "language": "julia",
          "prop": 0.0109204368174727,
          "total": 641,
          "year": 2015
         },
         {
          "count": 9,
          "language": "julia",
          "prop": 0.0052417006406523005,
          "total": 1717,
          "year": 2016
         },
         {
          "count": 35,
          "language": "julia",
          "prop": 0.007772596047079724,
          "total": 4503,
          "year": 2017
         },
         {
          "count": 57,
          "language": "julia",
          "prop": 0.005616316878510198,
          "total": 10149,
          "year": 2018
         },
         {
          "count": 53,
          "language": "julia",
          "prop": 0.004144834597638226,
          "total": 12787,
          "year": 2019
         },
         {
          "count": 0,
          "language": "r",
          "prop": 0,
          "total": 5,
          "year": 2012
         },
         {
          "count": 0,
          "language": "r",
          "prop": 0,
          "total": 73,
          "year": 2013
         },
         {
          "count": 0,
          "language": "r",
          "prop": 0,
          "total": 482,
          "year": 2014
         },
         {
          "count": 2,
          "language": "r",
          "prop": 0.0031201248049922,
          "total": 641,
          "year": 2015
         },
         {
          "count": 5,
          "language": "r",
          "prop": 0.0029120559114735,
          "total": 1717,
          "year": 2016
         },
         {
          "count": 19,
          "language": "r",
          "prop": 0.004219409282700422,
          "total": 4503,
          "year": 2017
         },
         {
          "count": 53,
          "language": "r",
          "prop": 0.0052221893782638685,
          "total": 10149,
          "year": 2018
         },
         {
          "count": 58,
          "language": "r",
          "prop": 0.004535856729490889,
          "total": 12787,
          "year": 2019
         }
        ]
       },
       "encoding": {
        "color": {
         "field": "language",
         "scale": {
          "domain": [
           "julia",
           "r"
          ],
          "range": [
           "#8A5D9F",
           "#2A65B3"
          ]
         },
         "title": "Language",
         "type": "nominal"
        },
        "x": {
         "field": "year",
         "title": "Year",
         "type": "ordinal"
        },
        "y": {
         "field": "prop",
         "title": "Proportion of Notebooks",
         "type": "quantitative"
        }
       },
       "mark": "line",
       "title": "Language Use Over Time: Julia and R",
       "width": 400
      },
      "image/png": "[encoded data removed]",
      "text/plain": [
       "<VegaLite 3 object>\n",
       "\n",
       "If you see this message, it means the renderer has not been properly enabled\n",
       "for the frontend that you are using. For more information, see\n",
       "https://altair-viz.github.io/user_guide/troubleshooting.html\n"
      ]
     },
     "execution_count": 10,
     "metadata": {},
     "output_type": "execute_result"
    }
   ],
   "source": [
    "alt.Chart(\n",
    "    lang_counts[lang_counts['language'] != 'python'], \n",
    "    width = 400, \n",
    "    title = 'Language Use Over Time: Julia and R'\n",
    ").mark_line().encode(\n",
    "    alt.X('year:O', title = 'Year'),\n",
    "    alt.Y('prop', title = 'Proportion of Notebooks'),\n",
    "    alt.Color('language', \n",
    "              scale = alt.Scale(domain = ['julia','r'], range = ['#8A5D9F','#2A65B3']),\n",
    "              title = 'Language'\n",
    "    )\n",
    ")"
   ]
  },
  {
   "cell_type": "markdown",
   "metadata": {},
   "source": [
    "# Python Version Use\n"
   ]
  },
  {
   "cell_type": "code",
   "execution_count": 11,
   "metadata": {},
   "outputs": [
    {
     "data": {
      "application/vnd.vegalite.v3+json": {
       "$schema": "https://vega.github.io/schema/vega-lite/v3.3.0.json",
       "config": {
        "mark": {
         "tooltip": null
        },
        "view": {
         "height": 300,
         "width": 400
        }
       },
       "data": {
        "name": "data-3500bafd7c59497fe163a8fad8651305"
       },
       "datasets": {
        "data-3500bafd7c59497fe163a8fad8651305": [
         {
          "counts": 4327,
          "version": 2.7
         },
         {
          "counts": 10,
          "version": 3.3
         },
         {
          "counts": 449,
          "version": 3.4
         },
         {
          "counts": 3329,
          "version": 3.5
         },
         {
          "counts": 11791,
          "version": 3.6
         },
         {
          "counts": 2728,
          "version": 3.7
         }
        ]
       },
       "encoding": {
        "x": {
         "field": "version",
         "title": "Python Version",
         "type": "ordinal"
        },
        "y": {
         "field": "counts",
         "title": "Number of Notebooks",
         "type": "quantitative"
        }
       },
       "mark": {
        "color": "teal",
        "type": "bar"
       },
       "title": "Python Version Use",
       "width": 400
      },
      "image/png": "[encoded data removed]",
      "text/plain": [
       "<VegaLite 3 object>\n",
       "\n",
       "If you see this message, it means the renderer has not been properly enabled\n",
       "for the frontend that you are using. For more information, see\n",
       "https://altair-viz.github.io/user_guide/troubleshooting.html\n"
      ]
     },
     "execution_count": 11,
     "metadata": {},
     "output_type": "execute_result"
    }
   ],
   "source": [
    "counts = pd.Series(notebooks.python_version[notebooks.python_version != '']).value_counts()\n",
    "counts = pd.DataFrame(counts).reset_index().rename(columns={'index':'version','python_version':'counts'})\n",
    "counts.version = counts.version.astype('float')\n",
    "counts = counts.sort_values(by='version')\n",
    "\n",
    "alt.Chart(counts, width = 400, title = 'Python Version Use').mark_bar(color='teal').encode(\n",
    "    alt.X('version:O', title = \"Python Version\"),\n",
    "    alt.Y('counts', title = 'Number of Notebooks')\n",
    ")"
   ]
  },
  {
   "cell_type": "markdown",
   "metadata": {},
   "source": [
    "Python 3.6 is the most common within Jupyter notebooks. Almost no notebooks were written in Python 3.3 (released September 2012) or 3.4 (March 2014)."
   ]
  },
  {
   "cell_type": "code",
   "execution_count": 12,
   "metadata": {},
   "outputs": [
    {
     "data": {
      "text/html": [
       "<div>\n",
       "<style scoped>\n",
       "    .dataframe tbody tr th:only-of-type {\n",
       "        vertical-align: middle;\n",
       "    }\n",
       "\n",
       "    .dataframe tbody tr th {\n",
       "        vertical-align: top;\n",
       "    }\n",
       "\n",
       "    .dataframe thead th {\n",
       "        text-align: right;\n",
       "    }\n",
       "</style>\n",
       "<table border=\"1\" class=\"dataframe\">\n",
       "  <thead>\n",
       "    <tr style=\"text-align: right;\">\n",
       "      <th></th>\n",
       "      <th>year</th>\n",
       "      <th>python_version</th>\n",
       "      <th>count</th>\n",
       "      <th>total</th>\n",
       "      <th>prop</th>\n",
       "    </tr>\n",
       "  </thead>\n",
       "  <tbody>\n",
       "    <tr>\n",
       "      <th>0</th>\n",
       "      <td>2015</td>\n",
       "      <td>2.7</td>\n",
       "      <td>179</td>\n",
       "      <td>230</td>\n",
       "      <td>0.778261</td>\n",
       "    </tr>\n",
       "    <tr>\n",
       "      <th>1</th>\n",
       "      <td>2015</td>\n",
       "      <td>3.3</td>\n",
       "      <td>3</td>\n",
       "      <td>230</td>\n",
       "      <td>0.013043</td>\n",
       "    </tr>\n",
       "    <tr>\n",
       "      <th>2</th>\n",
       "      <td>2015</td>\n",
       "      <td>3.4</td>\n",
       "      <td>42</td>\n",
       "      <td>230</td>\n",
       "      <td>0.182609</td>\n",
       "    </tr>\n",
       "    <tr>\n",
       "      <th>3</th>\n",
       "      <td>2015</td>\n",
       "      <td>3.5</td>\n",
       "      <td>6</td>\n",
       "      <td>230</td>\n",
       "      <td>0.026087</td>\n",
       "    </tr>\n",
       "    <tr>\n",
       "      <th>4</th>\n",
       "      <td>2016</td>\n",
       "      <td>2.7</td>\n",
       "      <td>756</td>\n",
       "      <td>1179</td>\n",
       "      <td>0.641221</td>\n",
       "    </tr>\n",
       "  </tbody>\n",
       "</table>\n",
       "</div>"
      ],
      "text/plain": [
       "   year  python_version  count  total      prop\n",
       "0  2015             2.7    179    230  0.778261\n",
       "1  2015             3.3      3    230  0.013043\n",
       "2  2015             3.4     42    230  0.182609\n",
       "3  2015             3.5      6    230  0.026087\n",
       "4  2016             2.7    756   1179  0.641221"
      ]
     },
     "execution_count": 12,
     "metadata": {},
     "output_type": "execute_result"
    }
   ],
   "source": [
    "yearly_version_counts = over_time[over_time['lang_name']=='python'].groupby(['year', 'python_version'])['file']\\\n",
    "    .count().reset_index().rename(columns={'file':'count'})\n",
    "yearly_totals = yearly_version_counts.groupby('year')[['count']].sum().reset_index().rename(columns={'count':'total'})\n",
    "yearly_version_counts = yearly_version_counts.merge(yearly_totals, on = 'year')\n",
    "yearly_version_counts['prop'] = yearly_version_counts['count']/yearly_version_counts['total']\n",
    "yearly_version_counts.head()"
   ]
  },
  {
   "cell_type": "code",
   "execution_count": 14,
   "metadata": {},
   "outputs": [],
   "source": [
    "all_counts = pd.DataFrame({'year':[], 'count':[], 'prop':[], 'version':[]})\n",
    "start = yearly_version_counts.year.min()\n",
    "end = yearly_version_counts.year.max()\n",
    "    \n",
    "for version in [2.7, 3.4, 3.5, 3.6, 3.7]:\n",
    "    version_counts = yearly_version_counts.copy()[yearly_version_counts['python_version']==version]\n",
    "    to_append = {'year':[], 'count': [], 'prop':[], 'version':[]}\n",
    "    for year in range(start,end):\n",
    "        if year not in version_counts['year'].values:\n",
    "            to_append['year'].append(year)\n",
    "            to_append['count'].append(0)\n",
    "            to_append['prop'].append(0)\n",
    "            to_append['version'].append(version)\n",
    "    to_append_df = pd.DataFrame(to_append)            \n",
    "    if len(to_append_df) > 0:\n",
    "        version_counts = pd.concat([version_counts, to_append_df], sort = False).sort_values(by='year')\n",
    "    version_counts['version'] = [version]*len(version_counts)\n",
    "    all_counts = pd.concat([all_counts, version_counts], sort = False)"
   ]
  },
  {
   "cell_type": "code",
   "execution_count": 15,
   "metadata": {},
   "outputs": [
    {
     "data": {
      "application/vnd.vegalite.v3+json": {
       "$schema": "https://vega.github.io/schema/vega-lite/v3.3.0.json",
       "config": {
        "mark": {
         "tooltip": null
        },
        "view": {
         "height": 300,
         "width": 400
        }
       },
       "data": {
        "name": "data-99e32e97e653bb52c39aa089f3e7b624"
       },
       "datasets": {
        "data-99e32e97e653bb52c39aa089f3e7b624": [
         {
          "count": 179,
          "prop": 0.7782608695652173,
          "python_version": 2.7,
          "total": 230,
          "version": 2.7,
          "year": 2015
         },
         {
          "count": 756,
          "prop": 0.6412213740458015,
          "python_version": 2.7,
          "total": 1179,
          "version": 2.7,
          "year": 2016
         },
         {
          "count": 1322,
          "prop": 0.39927514346119,
          "python_version": 2.7,
          "total": 3311,
          "version": 2.7,
          "year": 2017
         },
         {
          "count": 1288,
          "prop": 0.16441153944345163,
          "python_version": 2.7,
          "total": 7834,
          "version": 2.7,
          "year": 2018
         },
         {
          "count": 777,
          "prop": 0.07724425887265135,
          "python_version": 2.7,
          "total": 10059,
          "version": 2.7,
          "year": 2019
         },
         {
          "count": 42,
          "prop": 0.1826086956521739,
          "python_version": 3.4,
          "total": 230,
          "version": 3.4,
          "year": 2015
         },
         {
          "count": 96,
          "prop": 0.08142493638676845,
          "python_version": 3.4,
          "total": 1179,
          "version": 3.4,
          "year": 2016
         },
         {
          "count": 115,
          "prop": 0.0347327091513138,
          "python_version": 3.4,
          "total": 3311,
          "version": 3.4,
          "year": 2017
         },
         {
          "count": 125,
          "prop": 0.01595608884350268,
          "python_version": 3.4,
          "total": 7834,
          "version": 3.4,
          "year": 2018
         },
         {
          "count": 71,
          "prop": 0.007058355701361965,
          "python_version": 3.4,
          "total": 10059,
          "version": 3.4,
          "year": 2019
         },
         {
          "count": 6,
          "prop": 0.02608695652173913,
          "python_version": 3.5,
          "total": 230,
          "version": 3.5,
          "year": 2015
         },
         {
          "count": 322,
          "prop": 0.2731128074639525,
          "python_version": 3.5,
          "total": 1179,
          "version": 3.5,
          "year": 2016
         },
         {
          "count": 918,
          "prop": 0.2772576260948354,
          "python_version": 3.5,
          "total": 3311,
          "version": 3.5,
          "year": 2017
         },
         {
          "count": 1176,
          "prop": 0.15011488383967322,
          "python_version": 3.5,
          "total": 7834,
          "version": 3.5,
          "year": 2018
         },
         {
          "count": 904,
          "prop": 0.08986976836663685,
          "python_version": 3.5,
          "total": 10059,
          "version": 3.5,
          "year": 2019
         },
         {
          "count": 0,
          "prop": 0,
          "python_version": null,
          "total": null,
          "version": 3.6,
          "year": 2015
         },
         {
          "count": 1,
          "prop": 0.0008481764206955047,
          "python_version": 3.6,
          "total": 1179,
          "version": 3.6,
          "year": 2016
         },
         {
          "count": 954,
          "prop": 0.2881304741769858,
          "python_version": 3.6,
          "total": 3311,
          "version": 3.6,
          "year": 2017
         },
         {
          "count": 5041,
          "prop": 0.6434771508807761,
          "python_version": 3.6,
          "total": 7834,
          "version": 3.6,
          "year": 2018
         },
         {
          "count": 5786,
          "prop": 0.5752062829307089,
          "python_version": 3.6,
          "total": 10059,
          "version": 3.6,
          "year": 2019
         },
         {
          "count": 0,
          "prop": 0,
          "python_version": null,
          "total": null,
          "version": 3.7,
          "year": 2015
         },
         {
          "count": 0,
          "prop": 0,
          "python_version": null,
          "total": null,
          "version": 3.7,
          "year": 2016
         },
         {
          "count": 0,
          "prop": 0,
          "python_version": null,
          "total": null,
          "version": 3.7,
          "year": 2017
         },
         {
          "count": 204,
          "prop": 0.026040336992596374,
          "python_version": 3.7,
          "total": 7834,
          "version": 3.7,
          "year": 2018
         },
         {
          "count": 2520,
          "prop": 0.25052192066805845,
          "python_version": 3.7,
          "total": 10059,
          "version": 3.7,
          "year": 2019
         }
        ]
       },
       "encoding": {
        "color": {
         "field": "version",
         "scale": {
          "scheme": "yellowgreenblue"
         },
         "title": "Version",
         "type": "ordinal"
        },
        "x": {
         "field": "year",
         "title": "Year",
         "type": "ordinal"
        },
        "y": {
         "field": "prop",
         "title": "Proportion of Notebooks in Given Year",
         "type": "quantitative"
        }
       },
       "mark": {
        "strokeWidth": 3,
        "type": "line"
       },
       "title": "Python Versions over Time",
       "width": 500
      },
      "image/png": "[encoded data removed]",
      "text/plain": [
       "<VegaLite 3 object>\n",
       "\n",
       "If you see this message, it means the renderer has not been properly enabled\n",
       "for the frontend that you are using. For more information, see\n",
       "https://altair-viz.github.io/user_guide/troubleshooting.html\n"
      ]
     },
     "execution_count": 15,
     "metadata": {},
     "output_type": "execute_result"
    }
   ],
   "source": [
    "alt.Chart(all_counts, width = 500, title = \"Python Versions over Time\").mark_line(strokeWidth=3).encode(\n",
    "    alt.X('year:O', title='Year'),\n",
    "    alt.Y('prop', title='Proportion of Notebooks in Given Year'),\n",
    "    alt.Color('version:O', scale=alt.Scale(scheme='yellowgreenblue'), title = 'Version')\n",
    ")"
   ]
  },
  {
   "cell_type": "code",
   "execution_count": 16,
   "metadata": {},
   "outputs": [],
   "source": [
    "monthly_version_counts = over_time[over_time['lang_name']=='python'].groupby(['year', 'month', 'python_version'])['file']\\\n",
    "    .count().reset_index().rename(columns={'file':'count'})\n",
    "monthly_totals = monthly_version_counts.groupby(['year','month'])[['count']].sum().reset_index().rename(columns={'count':'total'})\n",
    "monthly_version_counts = monthly_version_counts.merge(monthly_totals, on = ['year','month'])\n",
    "monthly_version_counts['prop'] = monthly_version_counts['count']/monthly_version_counts['total']\n",
    "monthly_version_counts['time'] = [(int(r['year']), int(r['month'])) for _, r in monthly_version_counts.iterrows()]"
   ]
  },
  {
   "cell_type": "code",
   "execution_count": 17,
   "metadata": {},
   "outputs": [],
   "source": [
    "monthly_counts = pd.DataFrame({'year':[], 'month': [], 'time': [], 'count':[], 'prop':[], 'version':[]})\n",
    "start_year = yearly_version_counts.year.min()\n",
    "end_year = yearly_version_counts.year.max()\n",
    "    \n",
    "for version in [2.7, 3.4, 3.5, 3.6, 3.7]:\n",
    "    version_counts = monthly_version_counts[monthly_version_counts['python_version']==version]\n",
    "    to_append = {'year':[], 'month': [], 'count': [], 'time': [], 'prop':[], 'version':[]}\n",
    "    for year in range(start_year,end_year):\n",
    "        for month in range(1,13):\n",
    "            if (year, month) not in list(version_counts['time'].values):\n",
    "                to_append['year'].append(year)\n",
    "                to_append['month'].append(month)\n",
    "                to_append['time'].append((year, month))\n",
    "                to_append['count'].append(0)\n",
    "                to_append['prop'].append(0)\n",
    "                to_append['version'].append(version)\n",
    "    to_append_df = pd.DataFrame(to_append) \n",
    "    if len(to_append_df) > 0:\n",
    "        version_counts = pd.concat([version_counts, to_append_df], sort = False).sort_values(by='time')\n",
    "    version_counts['version'] = [version]*len(version_counts)\n",
    "    monthly_counts = pd.concat([monthly_counts, version_counts], sort = False).sort_values(by='time')"
   ]
  },
  {
   "cell_type": "code",
   "execution_count": 18,
   "metadata": {},
   "outputs": [],
   "source": [
    "monthly_counts['order'] = list(range(len(monthly_counts)))\n",
    "first = calendar.month_name[int(monthly_counts.iloc[0]['month'])] +' of '+ str(int(monthly_counts.iloc[0]['year']))"
   ]
  },
  {
   "cell_type": "code",
   "execution_count": 19,
   "metadata": {},
   "outputs": [
    {
     "data": {
      "application/vnd.vegalite.v3+json": {
       "$schema": "https://vega.github.io/schema/vega-lite/v3.3.0.json",
       "config": {
        "mark": {
         "tooltip": null
        },
        "view": {
         "height": 300,
         "width": 400
        }
       },
       "data": {
        "name": "data-ec3901d0d66b47f06f790529f0b94914"
       },
       "datasets": {
        "data-ec3901d0d66b47f06f790529f0b94914": [
         {
          "count": 0,
          "month": 1,
          "order": 0,
          "prop": 0,
          "python_version": null,
          "time": [
           2015,
           1
          ],
          "total": null,
          "version": 2.7,
          "year": 2015
         },
         {
          "count": 0,
          "month": 1,
          "order": 1,
          "prop": 0,
          "python_version": null,
          "time": [
           2015,
           1
          ],
          "total": null,
          "version": 3.4,
          "year": 2015
         },
         {
          "count": 0,
          "month": 1,
          "order": 2,
          "prop": 0,
          "python_version": null,
          "time": [
           2015,
           1
          ],
          "total": null,
          "version": 3.7,
          "year": 2015
         },
         {
          "count": 0,
          "month": 1,
          "order": 3,
          "prop": 0,
          "python_version": null,
          "time": [
           2015,
           1
          ],
          "total": null,
          "version": 3.5,
          "year": 2015
         },
         {
          "count": 0,
          "month": 1,
          "order": 4,
          "prop": 0,
          "python_version": null,
          "time": [
           2015,
           1
          ],
          "total": null,
          "version": 3.6,
          "year": 2015
         },
         {
          "count": 0,
          "month": 2,
          "order": 5,
          "prop": 0,
          "python_version": null,
          "time": [
           2015,
           2
          ],
          "total": null,
          "version": 3.5,
          "year": 2015
         },
         {
          "count": 0,
          "month": 2,
          "order": 6,
          "prop": 0,
          "python_version": null,
          "time": [
           2015,
           2
          ],
          "total": null,
          "version": 3.6,
          "year": 2015
         },
         {
          "count": 0,
          "month": 2,
          "order": 7,
          "prop": 0,
          "python_version": null,
          "time": [
           2015,
           2
          ],
          "total": null,
          "version": 2.7,
          "year": 2015
         },
         {
          "count": 0,
          "month": 2,
          "order": 8,
          "prop": 0,
          "python_version": null,
          "time": [
           2015,
           2
          ],
          "total": null,
          "version": 3.4,
          "year": 2015
         },
         {
          "count": 0,
          "month": 2,
          "order": 9,
          "prop": 0,
          "python_version": null,
          "time": [
           2015,
           2
          ],
          "total": null,
          "version": 3.7,
          "year": 2015
         },
         {
          "count": 0,
          "month": 3,
          "order": 10,
          "prop": 0,
          "python_version": null,
          "time": [
           2015,
           3
          ],
          "total": null,
          "version": 3.5,
          "year": 2015
         },
         {
          "count": 0,
          "month": 3,
          "order": 11,
          "prop": 0,
          "python_version": null,
          "time": [
           2015,
           3
          ],
          "total": null,
          "version": 3.7,
          "year": 2015
         },
         {
          "count": 0,
          "month": 3,
          "order": 12,
          "prop": 0,
          "python_version": null,
          "time": [
           2015,
           3
          ],
          "total": null,
          "version": 3.6,
          "year": 2015
         },
         {
          "count": 1,
          "month": 3,
          "order": 13,
          "prop": 0.5,
          "python_version": 2.7,
          "time": [
           2015,
           3
          ],
          "total": 2,
          "version": 2.7,
          "year": 2015
         },
         {
          "count": 1,
          "month": 3,
          "order": 14,
          "prop": 0.5,
          "python_version": 3.4,
          "time": [
           2015,
           3
          ],
          "total": 2,
          "version": 3.4,
          "year": 2015
         },
         {
          "count": 0,
          "month": 4,
          "order": 15,
          "prop": 0,
          "python_version": null,
          "time": [
           2015,
           4
          ],
          "total": null,
          "version": 3.7,
          "year": 2015
         },
         {
          "count": 0,
          "month": 4,
          "order": 16,
          "prop": 0,
          "python_version": null,
          "time": [
           2015,
           4
          ],
          "total": null,
          "version": 3.4,
          "year": 2015
         },
         {
          "count": 3,
          "month": 4,
          "order": 17,
          "prop": 1,
          "python_version": 2.7,
          "time": [
           2015,
           4
          ],
          "total": 3,
          "version": 2.7,
          "year": 2015
         },
         {
          "count": 0,
          "month": 4,
          "order": 18,
          "prop": 0,
          "python_version": null,
          "time": [
           2015,
           4
          ],
          "total": null,
          "version": 3.6,
          "year": 2015
         },
         {
          "count": 0,
          "month": 4,
          "order": 19,
          "prop": 0,
          "python_version": null,
          "time": [
           2015,
           4
          ],
          "total": null,
          "version": 3.5,
          "year": 2015
         },
         {
          "count": 0,
          "month": 5,
          "order": 20,
          "prop": 0,
          "python_version": null,
          "time": [
           2015,
           5
          ],
          "total": null,
          "version": 3.5,
          "year": 2015
         },
         {
          "count": 1,
          "month": 5,
          "order": 21,
          "prop": 0.08333333333333333,
          "python_version": 3.4,
          "time": [
           2015,
           5
          ],
          "total": 12,
          "version": 3.4,
          "year": 2015
         },
         {
          "count": 0,
          "month": 5,
          "order": 22,
          "prop": 0,
          "python_version": null,
          "time": [
           2015,
           5
          ],
          "total": null,
          "version": 3.6,
          "year": 2015
         },
         {
          "count": 0,
          "month": 5,
          "order": 23,
          "prop": 0,
          "python_version": null,
          "time": [
           2015,
           5
          ],
          "total": null,
          "version": 3.7,
          "year": 2015
         },
         {
          "count": 11,
          "month": 5,
          "order": 24,
          "prop": 0.9166666666666666,
          "python_version": 2.7,
          "time": [
           2015,
           5
          ],
          "total": 12,
          "version": 2.7,
          "year": 2015
         },
         {
          "count": 13,
          "month": 6,
          "order": 25,
          "prop": 0.7222222222222222,
          "python_version": 2.7,
          "time": [
           2015,
           6
          ],
          "total": 18,
          "version": 2.7,
          "year": 2015
         },
         {
          "count": 1,
          "month": 6,
          "order": 26,
          "prop": 0.05555555555555555,
          "python_version": 3.5,
          "time": [
           2015,
           6
          ],
          "total": 18,
          "version": 3.5,
          "year": 2015
         },
         {
          "count": 0,
          "month": 6,
          "order": 27,
          "prop": 0,
          "python_version": null,
          "time": [
           2015,
           6
          ],
          "total": null,
          "version": 3.6,
          "year": 2015
         },
         {
          "count": 0,
          "month": 6,
          "order": 28,
          "prop": 0,
          "python_version": null,
          "time": [
           2015,
           6
          ],
          "total": null,
          "version": 3.7,
          "year": 2015
         },
         {
          "count": 3,
          "month": 6,
          "order": 29,
          "prop": 0.16666666666666666,
          "python_version": 3.4,
          "time": [
           2015,
           6
          ],
          "total": 18,
          "version": 3.4,
          "year": 2015
         },
         {
          "count": 0,
          "month": 7,
          "order": 30,
          "prop": 0,
          "python_version": null,
          "time": [
           2015,
           7
          ],
          "total": null,
          "version": 3.7,
          "year": 2015
         },
         {
          "count": 18,
          "month": 7,
          "order": 31,
          "prop": 0.6923076923076923,
          "python_version": 2.7,
          "time": [
           2015,
           7
          ],
          "total": 26,
          "version": 2.7,
          "year": 2015
         },
         {
          "count": 0,
          "month": 7,
          "order": 32,
          "prop": 0,
          "python_version": null,
          "time": [
           2015,
           7
          ],
          "total": null,
          "version": 3.5,
          "year": 2015
         },
         {
          "count": 7,
          "month": 7,
          "order": 33,
          "prop": 0.2692307692307692,
          "python_version": 3.4,
          "time": [
           2015,
           7
          ],
          "total": 26,
          "version": 3.4,
          "year": 2015
         },
         {
          "count": 0,
          "month": 7,
          "order": 34,
          "prop": 0,
          "python_version": null,
          "time": [
           2015,
           7
          ],
          "total": null,
          "version": 3.6,
          "year": 2015
         },
         {
          "count": 0,
          "month": 8,
          "order": 35,
          "prop": 0,
          "python_version": null,
          "time": [
           2015,
           8
          ],
          "total": null,
          "version": 3.6,
          "year": 2015
         },
         {
          "count": 2,
          "month": 8,
          "order": 36,
          "prop": 0.08333333333333333,
          "python_version": 3.4,
          "time": [
           2015,
           8
          ],
          "total": 24,
          "version": 3.4,
          "year": 2015
         },
         {
          "count": 0,
          "month": 8,
          "order": 37,
          "prop": 0,
          "python_version": null,
          "time": [
           2015,
           8
          ],
          "total": null,
          "version": 3.5,
          "year": 2015
         },
         {
          "count": 0,
          "month": 8,
          "order": 38,
          "prop": 0,
          "python_version": null,
          "time": [
           2015,
           8
          ],
          "total": null,
          "version": 3.7,
          "year": 2015
         },
         {
          "count": 22,
          "month": 8,
          "order": 39,
          "prop": 0.9166666666666666,
          "python_version": 2.7,
          "time": [
           2015,
           8
          ],
          "total": 24,
          "version": 2.7,
          "year": 2015
         },
         {
          "count": 0,
          "month": 9,
          "order": 40,
          "prop": 0,
          "python_version": null,
          "time": [
           2015,
           9
          ],
          "total": null,
          "version": 3.7,
          "year": 2015
         },
         {
          "count": 18,
          "month": 9,
          "order": 41,
          "prop": 0.8181818181818182,
          "python_version": 2.7,
          "time": [
           2015,
           9
          ],
          "total": 22,
          "version": 2.7,
          "year": 2015
         },
         {
          "count": 0,
          "month": 9,
          "order": 42,
          "prop": 0,
          "python_version": null,
          "time": [
           2015,
           9
          ],
          "total": null,
          "version": 3.6,
          "year": 2015
         },
         {
          "count": 0,
          "month": 9,
          "order": 43,
          "prop": 0,
          "python_version": null,
          "time": [
           2015,
           9
          ],
          "total": null,
          "version": 3.5,
          "year": 2015
         },
         {
          "count": 4,
          "month": 9,
          "order": 44,
          "prop": 0.18181818181818182,
          "python_version": 3.4,
          "time": [
           2015,
           9
          ],
          "total": 22,
          "version": 3.4,
          "year": 2015
         },
         {
          "count": 0,
          "month": 10,
          "order": 45,
          "prop": 0,
          "python_version": null,
          "time": [
           2015,
           10
          ],
          "total": null,
          "version": 3.5,
          "year": 2015
         },
         {
          "count": 8,
          "month": 10,
          "order": 46,
          "prop": 0.27586206896551724,
          "python_version": 3.4,
          "time": [
           2015,
           10
          ],
          "total": 29,
          "version": 3.4,
          "year": 2015
         },
         {
          "count": 21,
          "month": 10,
          "order": 47,
          "prop": 0.7241379310344828,
          "python_version": 2.7,
          "time": [
           2015,
           10
          ],
          "total": 29,
          "version": 2.7,
          "year": 2015
         },
         {
          "count": 0,
          "month": 10,
          "order": 48,
          "prop": 0,
          "python_version": null,
          "time": [
           2015,
           10
          ],
          "total": null,
          "version": 3.6,
          "year": 2015
         },
         {
          "count": 0,
          "month": 10,
          "order": 49,
          "prop": 0,
          "python_version": null,
          "time": [
           2015,
           10
          ],
          "total": null,
          "version": 3.7,
          "year": 2015
         },
         {
          "count": 7,
          "month": 11,
          "order": 50,
          "prop": 0.1891891891891892,
          "python_version": 3.4,
          "time": [
           2015,
           11
          ],
          "total": 37,
          "version": 3.4,
          "year": 2015
         },
         {
          "count": 0,
          "month": 11,
          "order": 51,
          "prop": 0,
          "python_version": null,
          "time": [
           2015,
           11
          ],
          "total": null,
          "version": 3.7,
          "year": 2015
         },
         {
          "count": 29,
          "month": 11,
          "order": 52,
          "prop": 0.7837837837837838,
          "python_version": 2.7,
          "time": [
           2015,
           11
          ],
          "total": 37,
          "version": 2.7,
          "year": 2015
         },
         {
          "count": 0,
          "month": 11,
          "order": 53,
          "prop": 0,
          "python_version": null,
          "time": [
           2015,
           11
          ],
          "total": null,
          "version": 3.6,
          "year": 2015
         },
         {
          "count": 1,
          "month": 11,
          "order": 54,
          "prop": 0.02702702702702703,
          "python_version": 3.5,
          "time": [
           2015,
           11
          ],
          "total": 37,
          "version": 3.5,
          "year": 2015
         },
         {
          "count": 0,
          "month": 12,
          "order": 55,
          "prop": 0,
          "python_version": null,
          "time": [
           2015,
           12
          ],
          "total": null,
          "version": 3.7,
          "year": 2015
         },
         {
          "count": 43,
          "month": 12,
          "order": 56,
          "prop": 0.7543859649122807,
          "python_version": 2.7,
          "time": [
           2015,
           12
          ],
          "total": 57,
          "version": 2.7,
          "year": 2015
         },
         {
          "count": 4,
          "month": 12,
          "order": 57,
          "prop": 0.07017543859649122,
          "python_version": 3.5,
          "time": [
           2015,
           12
          ],
          "total": 57,
          "version": 3.5,
          "year": 2015
         },
         {
          "count": 9,
          "month": 12,
          "order": 58,
          "prop": 0.15789473684210525,
          "python_version": 3.4,
          "time": [
           2015,
           12
          ],
          "total": 57,
          "version": 3.4,
          "year": 2015
         },
         {
          "count": 0,
          "month": 12,
          "order": 59,
          "prop": 0,
          "python_version": null,
          "time": [
           2015,
           12
          ],
          "total": null,
          "version": 3.6,
          "year": 2015
         },
         {
          "count": 0,
          "month": 1,
          "order": 60,
          "prop": 0,
          "python_version": null,
          "time": [
           2016,
           1
          ],
          "total": null,
          "version": 3.6,
          "year": 2016
         },
         {
          "count": 3,
          "month": 1,
          "order": 61,
          "prop": 0.05172413793103448,
          "python_version": 3.5,
          "time": [
           2016,
           1
          ],
          "total": 58,
          "version": 3.5,
          "year": 2016
         },
         {
          "count": 8,
          "month": 1,
          "order": 62,
          "prop": 0.13793103448275862,
          "python_version": 3.4,
          "time": [
           2016,
           1
          ],
          "total": 58,
          "version": 3.4,
          "year": 2016
         },
         {
          "count": 46,
          "month": 1,
          "order": 63,
          "prop": 0.7931034482758621,
          "python_version": 2.7,
          "time": [
           2016,
           1
          ],
          "total": 58,
          "version": 2.7,
          "year": 2016
         },
         {
          "count": 0,
          "month": 1,
          "order": 64,
          "prop": 0,
          "python_version": null,
          "time": [
           2016,
           1
          ],
          "total": null,
          "version": 3.7,
          "year": 2016
         },
         {
          "count": 0,
          "month": 2,
          "order": 65,
          "prop": 0,
          "python_version": null,
          "time": [
           2016,
           2
          ],
          "total": null,
          "version": 3.7,
          "year": 2016
         },
         {
          "count": 22,
          "month": 2,
          "order": 66,
          "prop": 0.5945945945945946,
          "python_version": 2.7,
          "time": [
           2016,
           2
          ],
          "total": 37,
          "version": 2.7,
          "year": 2016
         },
         {
          "count": 0,
          "month": 2,
          "order": 67,
          "prop": 0,
          "python_version": null,
          "time": [
           2016,
           2
          ],
          "total": null,
          "version": 3.6,
          "year": 2016
         },
         {
          "count": 7,
          "month": 2,
          "order": 68,
          "prop": 0.1891891891891892,
          "python_version": 3.5,
          "time": [
           2016,
           2
          ],
          "total": 37,
          "version": 3.5,
          "year": 2016
         },
         {
          "count": 7,
          "month": 2,
          "order": 69,
          "prop": 0.1891891891891892,
          "python_version": 3.4,
          "time": [
           2016,
           2
          ],
          "total": 37,
          "version": 3.4,
          "year": 2016
         },
         {
          "count": 11,
          "month": 3,
          "order": 70,
          "prop": 0.16176470588235295,
          "python_version": 3.4,
          "time": [
           2016,
           3
          ],
          "total": 68,
          "version": 3.4,
          "year": 2016
         },
         {
          "count": 0,
          "month": 3,
          "order": 71,
          "prop": 0,
          "python_version": null,
          "time": [
           2016,
           3
          ],
          "total": null,
          "version": 3.7,
          "year": 2016
         },
         {
          "count": 45,
          "month": 3,
          "order": 72,
          "prop": 0.6617647058823529,
          "python_version": 2.7,
          "time": [
           2016,
           3
          ],
          "total": 68,
          "version": 2.7,
          "year": 2016
         },
         {
          "count": 12,
          "month": 3,
          "order": 73,
          "prop": 0.17647058823529413,
          "python_version": 3.5,
          "time": [
           2016,
           3
          ],
          "total": 68,
          "version": 3.5,
          "year": 2016
         },
         {
          "count": 0,
          "month": 3,
          "order": 74,
          "prop": 0,
          "python_version": null,
          "time": [
           2016,
           3
          ],
          "total": null,
          "version": 3.6,
          "year": 2016
         },
         {
          "count": 44,
          "month": 4,
          "order": 75,
          "prop": 0.6197183098591549,
          "python_version": 2.7,
          "time": [
           2016,
           4
          ],
          "total": 71,
          "version": 2.7,
          "year": 2016
         },
         {
          "count": 10,
          "month": 4,
          "order": 76,
          "prop": 0.14084507042253522,
          "python_version": 3.4,
          "time": [
           2016,
           4
          ],
          "total": 71,
          "version": 3.4,
          "year": 2016
         },
         {
          "count": 0,
          "month": 4,
          "order": 77,
          "prop": 0,
          "python_version": null,
          "time": [
           2016,
           4
          ],
          "total": null,
          "version": 3.6,
          "year": 2016
         },
         {
          "count": 17,
          "month": 4,
          "order": 78,
          "prop": 0.23943661971830985,
          "python_version": 3.5,
          "time": [
           2016,
           4
          ],
          "total": 71,
          "version": 3.5,
          "year": 2016
         },
         {
          "count": 0,
          "month": 4,
          "order": 79,
          "prop": 0,
          "python_version": null,
          "time": [
           2016,
           4
          ],
          "total": null,
          "version": 3.7,
          "year": 2016
         },
         {
          "count": 0,
          "month": 5,
          "order": 80,
          "prop": 0,
          "python_version": null,
          "time": [
           2016,
           5
          ],
          "total": null,
          "version": 3.7,
          "year": 2016
         },
         {
          "count": 6,
          "month": 5,
          "order": 81,
          "prop": 0.06593406593406594,
          "python_version": 3.4,
          "time": [
           2016,
           5
          ],
          "total": 91,
          "version": 3.4,
          "year": 2016
         },
         {
          "count": 0,
          "month": 5,
          "order": 82,
          "prop": 0,
          "python_version": null,
          "time": [
           2016,
           5
          ],
          "total": null,
          "version": 3.6,
          "year": 2016
         },
         {
          "count": 59,
          "month": 5,
          "order": 83,
          "prop": 0.6483516483516484,
          "python_version": 2.7,
          "time": [
           2016,
           5
          ],
          "total": 91,
          "version": 2.7,
          "year": 2016
         },
         {
          "count": 25,
          "month": 5,
          "order": 84,
          "prop": 0.27472527472527475,
          "python_version": 3.5,
          "time": [
           2016,
           5
          ],
          "total": 91,
          "version": 3.5,
          "year": 2016
         },
         {
          "count": 0,
          "month": 6,
          "order": 85,
          "prop": 0,
          "python_version": null,
          "time": [
           2016,
           6
          ],
          "total": null,
          "version": 3.7,
          "year": 2016
         },
         {
          "count": 0,
          "month": 6,
          "order": 86,
          "prop": 0,
          "python_version": null,
          "time": [
           2016,
           6
          ],
          "total": null,
          "version": 3.6,
          "year": 2016
         },
         {
          "count": 65,
          "month": 6,
          "order": 87,
          "prop": 0.6565656565656566,
          "python_version": 2.7,
          "time": [
           2016,
           6
          ],
          "total": 99,
          "version": 2.7,
          "year": 2016
         },
         {
          "count": 10,
          "month": 6,
          "order": 88,
          "prop": 0.10101010101010101,
          "python_version": 3.4,
          "time": [
           2016,
           6
          ],
          "total": 99,
          "version": 3.4,
          "year": 2016
         },
         {
          "count": 24,
          "month": 6,
          "order": 89,
          "prop": 0.24242424242424243,
          "python_version": 3.5,
          "time": [
           2016,
           6
          ],
          "total": 99,
          "version": 3.5,
          "year": 2016
         },
         {
          "count": 0,
          "month": 7,
          "order": 90,
          "prop": 0,
          "python_version": null,
          "time": [
           2016,
           7
          ],
          "total": null,
          "version": 3.7,
          "year": 2016
         },
         {
          "count": 0,
          "month": 7,
          "order": 91,
          "prop": 0,
          "python_version": null,
          "time": [
           2016,
           7
          ],
          "total": null,
          "version": 3.6,
          "year": 2016
         },
         {
          "count": 24,
          "month": 7,
          "order": 92,
          "prop": 0.2857142857142857,
          "python_version": 3.5,
          "time": [
           2016,
           7
          ],
          "total": 84,
          "version": 3.5,
          "year": 2016
         },
         {
          "count": 4,
          "month": 7,
          "order": 93,
          "prop": 0.047619047619047616,
          "python_version": 3.4,
          "time": [
           2016,
           7
          ],
          "total": 84,
          "version": 3.4,
          "year": 2016
         },
         {
          "count": 56,
          "month": 7,
          "order": 94,
          "prop": 0.6666666666666666,
          "python_version": 2.7,
          "time": [
           2016,
           7
          ],
          "total": 84,
          "version": 2.7,
          "year": 2016
         },
         {
          "count": 0,
          "month": 8,
          "order": 95,
          "prop": 0,
          "python_version": null,
          "time": [
           2016,
           8
          ],
          "total": null,
          "version": 3.7,
          "year": 2016
         },
         {
          "count": 65,
          "month": 8,
          "order": 96,
          "prop": 0.6018518518518519,
          "python_version": 2.7,
          "time": [
           2016,
           8
          ],
          "total": 108,
          "version": 2.7,
          "year": 2016
         },
         {
          "count": 0,
          "month": 8,
          "order": 97,
          "prop": 0,
          "python_version": null,
          "time": [
           2016,
           8
          ],
          "total": null,
          "version": 3.6,
          "year": 2016
         },
         {
          "count": 6,
          "month": 8,
          "order": 98,
          "prop": 0.05555555555555555,
          "python_version": 3.4,
          "time": [
           2016,
           8
          ],
          "total": 108,
          "version": 3.4,
          "year": 2016
         },
         {
          "count": 36,
          "month": 8,
          "order": 99,
          "prop": 0.3333333333333333,
          "python_version": 3.5,
          "time": [
           2016,
           8
          ],
          "total": 108,
          "version": 3.5,
          "year": 2016
         },
         {
          "count": 0,
          "month": 9,
          "order": 100,
          "prop": 0,
          "python_version": null,
          "time": [
           2016,
           9
          ],
          "total": null,
          "version": 3.6,
          "year": 2016
         },
         {
          "count": 0,
          "month": 9,
          "order": 101,
          "prop": 0,
          "python_version": null,
          "time": [
           2016,
           9
          ],
          "total": null,
          "version": 3.7,
          "year": 2016
         },
         {
          "count": 81,
          "month": 9,
          "order": 102,
          "prop": 0.801980198019802,
          "python_version": 2.7,
          "time": [
           2016,
           9
          ],
          "total": 101,
          "version": 2.7,
          "year": 2016
         },
         {
          "count": 14,
          "month": 9,
          "order": 103,
          "prop": 0.13861386138613863,
          "python_version": 3.5,
          "time": [
           2016,
           9
          ],
          "total": 101,
          "version": 3.5,
          "year": 2016
         },
         {
          "count": 6,
          "month": 9,
          "order": 104,
          "prop": 0.0594059405940594,
          "python_version": 3.4,
          "time": [
           2016,
           9
          ],
          "total": 101,
          "version": 3.4,
          "year": 2016
         },
         {
          "count": 0,
          "month": 10,
          "order": 105,
          "prop": 0,
          "python_version": null,
          "time": [
           2016,
           10
          ],
          "total": null,
          "version": 3.7,
          "year": 2016
         },
         {
          "count": 77,
          "month": 10,
          "order": 106,
          "prop": 0.5877862595419847,
          "python_version": 2.7,
          "time": [
           2016,
           10
          ],
          "total": 131,
          "version": 2.7,
          "year": 2016
         },
         {
          "count": 8,
          "month": 10,
          "order": 107,
          "prop": 0.061068702290076333,
          "python_version": 3.4,
          "time": [
           2016,
           10
          ],
          "total": 131,
          "version": 3.4,
          "year": 2016
         },
         {
          "count": 46,
          "month": 10,
          "order": 108,
          "prop": 0.3511450381679389,
          "python_version": 3.5,
          "time": [
           2016,
           10
          ],
          "total": 131,
          "version": 3.5,
          "year": 2016
         },
         {
          "count": 0,
          "month": 10,
          "order": 109,
          "prop": 0,
          "python_version": null,
          "time": [
           2016,
           10
          ],
          "total": null,
          "version": 3.6,
          "year": 2016
         },
         {
          "count": 1,
          "month": 11,
          "order": 110,
          "prop": 0.007575757575757576,
          "python_version": 3.6,
          "time": [
           2016,
           11
          ],
          "total": 132,
          "version": 3.6,
          "year": 2016
         },
         {
          "count": 77,
          "month": 11,
          "order": 111,
          "prop": 0.5833333333333334,
          "python_version": 2.7,
          "time": [
           2016,
           11
          ],
          "total": 132,
          "version": 2.7,
          "year": 2016
         },
         {
          "count": 11,
          "month": 11,
          "order": 112,
          "prop": 0.08333333333333333,
          "python_version": 3.4,
          "time": [
           2016,
           11
          ],
          "total": 132,
          "version": 3.4,
          "year": 2016
         },
         {
          "count": 43,
          "month": 11,
          "order": 113,
          "prop": 0.32575757575757575,
          "python_version": 3.5,
          "time": [
           2016,
           11
          ],
          "total": 132,
          "version": 3.5,
          "year": 2016
         },
         {
          "count": 0,
          "month": 11,
          "order": 114,
          "prop": 0,
          "python_version": null,
          "time": [
           2016,
           11
          ],
          "total": null,
          "version": 3.7,
          "year": 2016
         },
         {
          "count": 119,
          "month": 12,
          "order": 115,
          "prop": 0.5979899497487438,
          "python_version": 2.7,
          "time": [
           2016,
           12
          ],
          "total": 199,
          "version": 2.7,
          "year": 2016
         },
         {
          "count": 9,
          "month": 12,
          "order": 116,
          "prop": 0.04522613065326633,
          "python_version": 3.4,
          "time": [
           2016,
           12
          ],
          "total": 199,
          "version": 3.4,
          "year": 2016
         },
         {
          "count": 71,
          "month": 12,
          "order": 117,
          "prop": 0.35678391959798994,
          "python_version": 3.5,
          "time": [
           2016,
           12
          ],
          "total": 199,
          "version": 3.5,
          "year": 2016
         },
         {
          "count": 0,
          "month": 12,
          "order": 118,
          "prop": 0,
          "python_version": null,
          "time": [
           2016,
           12
          ],
          "total": null,
          "version": 3.6,
          "year": 2016
         },
         {
          "count": 0,
          "month": 12,
          "order": 119,
          "prop": 0,
          "python_version": null,
          "time": [
           2016,
           12
          ],
          "total": null,
          "version": 3.7,
          "year": 2016
         },
         {
          "count": 0,
          "month": 1,
          "order": 120,
          "prop": 0,
          "python_version": null,
          "time": [
           2017,
           1
          ],
          "total": null,
          "version": 3.7,
          "year": 2017
         },
         {
          "count": 110,
          "month": 1,
          "order": 121,
          "prop": 0.6010928961748634,
          "python_version": 2.7,
          "time": [
           2017,
           1
          ],
          "total": 183,
          "version": 2.7,
          "year": 2017
         },
         {
          "count": 22,
          "month": 1,
          "order": 122,
          "prop": 0.12021857923497267,
          "python_version": 3.4,
          "time": [
           2017,
           1
          ],
          "total": 183,
          "version": 3.4,
          "year": 2017
         },
         {
          "count": 3,
          "month": 1,
          "order": 123,
          "prop": 0.01639344262295082,
          "python_version": 3.6,
          "time": [
           2017,
           1
          ],
          "total": 183,
          "version": 3.6,
          "year": 2017
         },
         {
          "count": 47,
          "month": 1,
          "order": 124,
          "prop": 0.2568306010928962,
          "python_version": 3.5,
          "time": [
           2017,
           1
          ],
          "total": 183,
          "version": 3.5,
          "year": 2017
         },
         {
          "count": 60,
          "month": 2,
          "order": 125,
          "prop": 0.38461538461538464,
          "python_version": 3.5,
          "time": [
           2017,
           2
          ],
          "total": 156,
          "version": 3.5,
          "year": 2017
         },
         {
          "count": 8,
          "month": 2,
          "order": 126,
          "prop": 0.05128205128205128,
          "python_version": 3.4,
          "time": [
           2017,
           2
          ],
          "total": 156,
          "version": 3.4,
          "year": 2017
         },
         {
          "count": 81,
          "month": 2,
          "order": 127,
          "prop": 0.5192307692307693,
          "python_version": 2.7,
          "time": [
           2017,
           2
          ],
          "total": 156,
          "version": 2.7,
          "year": 2017
         },
         {
          "count": 7,
          "month": 2,
          "order": 128,
          "prop": 0.04487179487179487,
          "python_version": 3.6,
          "time": [
           2017,
           2
          ],
          "total": 156,
          "version": 3.6,
          "year": 2017
         },
         {
          "count": 0,
          "month": 2,
          "order": 129,
          "prop": 0,
          "python_version": null,
          "time": [
           2017,
           2
          ],
          "total": null,
          "version": 3.7,
          "year": 2017
         },
         {
          "count": 100,
          "month": 3,
          "order": 130,
          "prop": 0.47619047619047616,
          "python_version": 2.7,
          "time": [
           2017,
           3
          ],
          "total": 210,
          "version": 2.7,
          "year": 2017
         },
         {
          "count": 13,
          "month": 3,
          "order": 131,
          "prop": 0.06190476190476191,
          "python_version": 3.4,
          "time": [
           2017,
           3
          ],
          "total": 210,
          "version": 3.4,
          "year": 2017
         },
         {
          "count": 0,
          "month": 3,
          "order": 132,
          "prop": 0,
          "python_version": null,
          "time": [
           2017,
           3
          ],
          "total": null,
          "version": 3.7,
          "year": 2017
         },
         {
          "count": 82,
          "month": 3,
          "order": 133,
          "prop": 0.3904761904761905,
          "python_version": 3.5,
          "time": [
           2017,
           3
          ],
          "total": 210,
          "version": 3.5,
          "year": 2017
         },
         {
          "count": 15,
          "month": 3,
          "order": 134,
          "prop": 0.07142857142857142,
          "python_version": 3.6,
          "time": [
           2017,
           3
          ],
          "total": 210,
          "version": 3.6,
          "year": 2017
         },
         {
          "count": 82,
          "month": 4,
          "order": 135,
          "prop": 0.354978354978355,
          "python_version": 3.5,
          "time": [
           2017,
           4
          ],
          "total": 231,
          "version": 3.5,
          "year": 2017
         },
         {
          "count": 104,
          "month": 4,
          "order": 136,
          "prop": 0.45021645021645024,
          "python_version": 2.7,
          "time": [
           2017,
           4
          ],
          "total": 231,
          "version": 2.7,
          "year": 2017
         },
         {
          "count": 9,
          "month": 4,
          "order": 137,
          "prop": 0.03896103896103896,
          "python_version": 3.4,
          "time": [
           2017,
           4
          ],
          "total": 231,
          "version": 3.4,
          "year": 2017
         },
         {
          "count": 0,
          "month": 4,
          "order": 138,
          "prop": 0,
          "python_version": null,
          "time": [
           2017,
           4
          ],
          "total": null,
          "version": 3.7,
          "year": 2017
         },
         {
          "count": 36,
          "month": 4,
          "order": 139,
          "prop": 0.15584415584415584,
          "python_version": 3.6,
          "time": [
           2017,
           4
          ],
          "total": 231,
          "version": 3.6,
          "year": 2017
         },
         {
          "count": 9,
          "month": 5,
          "order": 140,
          "prop": 0.030303030303030304,
          "python_version": 3.4,
          "time": [
           2017,
           5
          ],
          "total": 297,
          "version": 3.4,
          "year": 2017
         },
         {
          "count": 92,
          "month": 5,
          "order": 141,
          "prop": 0.30976430976430974,
          "python_version": 3.5,
          "time": [
           2017,
           5
          ],
          "total": 297,
          "version": 3.5,
          "year": 2017
         },
         {
          "count": 0,
          "month": 5,
          "order": 142,
          "prop": 0,
          "python_version": null,
          "time": [
           2017,
           5
          ],
          "total": null,
          "version": 3.7,
          "year": 2017
         },
         {
          "count": 39,
          "month": 5,
          "order": 143,
          "prop": 0.13131313131313133,
          "python_version": 3.6,
          "time": [
           2017,
           5
          ],
          "total": 297,
          "version": 3.6,
          "year": 2017
         },
         {
          "count": 157,
          "month": 5,
          "order": 144,
          "prop": 0.5286195286195287,
          "python_version": 2.7,
          "time": [
           2017,
           5
          ],
          "total": 297,
          "version": 2.7,
          "year": 2017
         },
         {
          "count": 81,
          "month": 6,
          "order": 145,
          "prop": 0.3127413127413127,
          "python_version": 3.5,
          "time": [
           2017,
           6
          ],
          "total": 259,
          "version": 3.5,
          "year": 2017
         },
         {
          "count": 58,
          "month": 6,
          "order": 146,
          "prop": 0.22393822393822393,
          "python_version": 3.6,
          "time": [
           2017,
           6
          ],
          "total": 259,
          "version": 3.6,
          "year": 2017
         },
         {
          "count": 114,
          "month": 6,
          "order": 147,
          "prop": 0.44015444015444016,
          "python_version": 2.7,
          "time": [
           2017,
           6
          ],
          "total": 259,
          "version": 2.7,
          "year": 2017
         },
         {
          "count": 0,
          "month": 6,
          "order": 148,
          "prop": 0,
          "python_version": null,
          "time": [
           2017,
           6
          ],
          "total": null,
          "version": 3.7,
          "year": 2017
         },
         {
          "count": 6,
          "month": 6,
          "order": 149,
          "prop": 0.023166023166023165,
          "python_version": 3.4,
          "time": [
           2017,
           6
          ],
          "total": 259,
          "version": 3.4,
          "year": 2017
         },
         {
          "count": 0,
          "month": 7,
          "order": 150,
          "prop": 0,
          "python_version": null,
          "time": [
           2017,
           7
          ],
          "total": null,
          "version": 3.7,
          "year": 2017
         },
         {
          "count": 6,
          "month": 7,
          "order": 151,
          "prop": 0.023076923076923078,
          "python_version": 3.4,
          "time": [
           2017,
           7
          ],
          "total": 260,
          "version": 3.4,
          "year": 2017
         },
         {
          "count": 72,
          "month": 7,
          "order": 152,
          "prop": 0.27692307692307694,
          "python_version": 3.5,
          "time": [
           2017,
           7
          ],
          "total": 260,
          "version": 3.5,
          "year": 2017
         },
         {
          "count": 91,
          "month": 7,
          "order": 153,
          "prop": 0.35,
          "python_version": 2.7,
          "time": [
           2017,
           7
          ],
          "total": 260,
          "version": 2.7,
          "year": 2017
         },
         {
          "count": 91,
          "month": 7,
          "order": 154,
          "prop": 0.35,
          "python_version": 3.6,
          "time": [
           2017,
           7
          ],
          "total": 260,
          "version": 3.6,
          "year": 2017
         },
         {
          "count": 91,
          "month": 8,
          "order": 155,
          "prop": 0.314878892733564,
          "python_version": 3.6,
          "time": [
           2017,
           8
          ],
          "total": 289,
          "version": 3.6,
          "year": 2017
         },
         {
          "count": 56,
          "month": 8,
          "order": 156,
          "prop": 0.19377162629757785,
          "python_version": 3.5,
          "time": [
           2017,
           8
          ],
          "total": 289,
          "version": 3.5,
          "year": 2017
         },
         {
          "count": 7,
          "month": 8,
          "order": 157,
          "prop": 0.02422145328719723,
          "python_version": 3.4,
          "time": [
           2017,
           8
          ],
          "total": 289,
          "version": 3.4,
          "year": 2017
         },
         {
          "count": 0,
          "month": 8,
          "order": 158,
          "prop": 0,
          "python_version": null,
          "time": [
           2017,
           8
          ],
          "total": null,
          "version": 3.7,
          "year": 2017
         },
         {
          "count": 134,
          "month": 8,
          "order": 159,
          "prop": 0.46366782006920415,
          "python_version": 2.7,
          "time": [
           2017,
           8
          ],
          "total": 289,
          "version": 2.7,
          "year": 2017
         },
         {
          "count": 0,
          "month": 9,
          "order": 160,
          "prop": 0,
          "python_version": null,
          "time": [
           2017,
           9
          ],
          "total": null,
          "version": 3.7,
          "year": 2017
         },
         {
          "count": 108,
          "month": 9,
          "order": 161,
          "prop": 0.35294117647058826,
          "python_version": 3.6,
          "time": [
           2017,
           9
          ],
          "total": 306,
          "version": 3.6,
          "year": 2017
         },
         {
          "count": 5,
          "month": 9,
          "order": 162,
          "prop": 0.016339869281045753,
          "python_version": 3.4,
          "time": [
           2017,
           9
          ],
          "total": 306,
          "version": 3.4,
          "year": 2017
         },
         {
          "count": 127,
          "month": 9,
          "order": 163,
          "prop": 0.4150326797385621,
          "python_version": 2.7,
          "time": [
           2017,
           9
          ],
          "total": 306,
          "version": 2.7,
          "year": 2017
         },
         {
          "count": 66,
          "month": 9,
          "order": 164,
          "prop": 0.21568627450980393,
          "python_version": 3.5,
          "time": [
           2017,
           9
          ],
          "total": 306,
          "version": 3.5,
          "year": 2017
         },
         {
          "count": 122,
          "month": 10,
          "order": 165,
          "prop": 0.3620178041543027,
          "python_version": 3.6,
          "time": [
           2017,
           10
          ],
          "total": 337,
          "version": 3.6,
          "year": 2017
         },
         {
          "count": 98,
          "month": 10,
          "order": 166,
          "prop": 0.29080118694362017,
          "python_version": 3.5,
          "time": [
           2017,
           10
          ],
          "total": 337,
          "version": 3.5,
          "year": 2017
         },
         {
          "count": 0,
          "month": 10,
          "order": 167,
          "prop": 0,
          "python_version": null,
          "time": [
           2017,
           10
          ],
          "total": null,
          "version": 3.7,
          "year": 2017
         },
         {
          "count": 7,
          "month": 10,
          "order": 168,
          "prop": 0.020771513353115726,
          "python_version": 3.4,
          "time": [
           2017,
           10
          ],
          "total": 337,
          "version": 3.4,
          "year": 2017
         },
         {
          "count": 110,
          "month": 10,
          "order": 169,
          "prop": 0.3264094955489614,
          "python_version": 2.7,
          "time": [
           2017,
           10
          ],
          "total": 337,
          "version": 2.7,
          "year": 2017
         },
         {
          "count": 0,
          "month": 11,
          "order": 170,
          "prop": 0,
          "python_version": null,
          "time": [
           2017,
           11
          ],
          "total": null,
          "version": 3.7,
          "year": 2017
         },
         {
          "count": 95,
          "month": 11,
          "order": 171,
          "prop": 0.2722063037249284,
          "python_version": 2.7,
          "time": [
           2017,
           11
          ],
          "total": 349,
          "version": 2.7,
          "year": 2017
         },
         {
          "count": 153,
          "month": 11,
          "order": 172,
          "prop": 0.4383954154727794,
          "python_version": 3.6,
          "time": [
           2017,
           11
          ],
          "total": 349,
          "version": 3.6,
          "year": 2017
         },
         {
          "count": 16,
          "month": 11,
          "order": 173,
          "prop": 0.045845272206303724,
          "python_version": 3.4,
          "time": [
           2017,
           11
          ],
          "total": 349,
          "version": 3.4,
          "year": 2017
         },
         {
          "count": 85,
          "month": 11,
          "order": 174,
          "prop": 0.24355300859598855,
          "python_version": 3.5,
          "time": [
           2017,
           11
          ],
          "total": 349,
          "version": 3.5,
          "year": 2017
         },
         {
          "count": 7,
          "month": 12,
          "order": 175,
          "prop": 0.016129032258064516,
          "python_version": 3.4,
          "time": [
           2017,
           12
          ],
          "total": 434,
          "version": 3.4,
          "year": 2017
         },
         {
          "count": 0,
          "month": 12,
          "order": 176,
          "prop": 0,
          "python_version": null,
          "time": [
           2017,
           12
          ],
          "total": null,
          "version": 3.7,
          "year": 2017
         },
         {
          "count": 231,
          "month": 12,
          "order": 177,
          "prop": 0.532258064516129,
          "python_version": 3.6,
          "time": [
           2017,
           12
          ],
          "total": 434,
          "version": 3.6,
          "year": 2017
         },
         {
          "count": 99,
          "month": 12,
          "order": 178,
          "prop": 0.22811059907834103,
          "python_version": 2.7,
          "time": [
           2017,
           12
          ],
          "total": 434,
          "version": 2.7,
          "year": 2017
         },
         {
          "count": 97,
          "month": 12,
          "order": 179,
          "prop": 0.22350230414746544,
          "python_version": 3.5,
          "time": [
           2017,
           12
          ],
          "total": 434,
          "version": 3.5,
          "year": 2017
         },
         {
          "count": 203,
          "month": 1,
          "order": 180,
          "prop": 0.48333333333333334,
          "python_version": 3.6,
          "time": [
           2018,
           1
          ],
          "total": 420,
          "version": 3.6,
          "year": 2018
         },
         {
          "count": 109,
          "month": 1,
          "order": 181,
          "prop": 0.25952380952380955,
          "python_version": 2.7,
          "time": [
           2018,
           1
          ],
          "total": 420,
          "version": 2.7,
          "year": 2018
         },
         {
          "count": 10,
          "month": 1,
          "order": 182,
          "prop": 0.023809523809523808,
          "python_version": 3.4,
          "time": [
           2018,
           1
          ],
          "total": 420,
          "version": 3.4,
          "year": 2018
         },
         {
          "count": 98,
          "month": 1,
          "order": 183,
          "prop": 0.23333333333333334,
          "python_version": 3.5,
          "time": [
           2018,
           1
          ],
          "total": 420,
          "version": 3.5,
          "year": 2018
         },
         {
          "count": 0,
          "month": 1,
          "order": 184,
          "prop": 0,
          "python_version": null,
          "time": [
           2018,
           1
          ],
          "total": null,
          "version": 3.7,
          "year": 2018
         },
         {
          "count": 256,
          "month": 2,
          "order": 185,
          "prop": 0.5300207039337475,
          "python_version": 3.6,
          "time": [
           2018,
           2
          ],
          "total": 483,
          "version": 3.6,
          "year": 2018
         },
         {
          "count": 7,
          "month": 2,
          "order": 186,
          "prop": 0.014492753623188406,
          "python_version": 3.4,
          "time": [
           2018,
           2
          ],
          "total": 483,
          "version": 3.4,
          "year": 2018
         },
         {
          "count": 93,
          "month": 2,
          "order": 187,
          "prop": 0.19254658385093168,
          "python_version": 3.5,
          "time": [
           2018,
           2
          ],
          "total": 483,
          "version": 3.5,
          "year": 2018
         },
         {
          "count": 127,
          "month": 2,
          "order": 188,
          "prop": 0.2629399585921325,
          "python_version": 2.7,
          "time": [
           2018,
           2
          ],
          "total": 483,
          "version": 2.7,
          "year": 2018
         },
         {
          "count": 0,
          "month": 2,
          "order": 189,
          "prop": 0,
          "python_version": null,
          "time": [
           2018,
           2
          ],
          "total": null,
          "version": 3.7,
          "year": 2018
         },
         {
          "count": 109,
          "month": 3,
          "order": 190,
          "prop": 0.22244897959183674,
          "python_version": 3.5,
          "time": [
           2018,
           3
          ],
          "total": 490,
          "version": 3.5,
          "year": 2018
         },
         {
          "count": 0,
          "month": 3,
          "order": 191,
          "prop": 0,
          "python_version": null,
          "time": [
           2018,
           3
          ],
          "total": null,
          "version": 3.7,
          "year": 2018
         },
         {
          "count": 252,
          "month": 3,
          "order": 192,
          "prop": 0.5142857142857142,
          "python_version": 3.6,
          "time": [
           2018,
           3
          ],
          "total": 490,
          "version": 3.6,
          "year": 2018
         },
         {
          "count": 124,
          "month": 3,
          "order": 193,
          "prop": 0.2530612244897959,
          "python_version": 2.7,
          "time": [
           2018,
           3
          ],
          "total": 490,
          "version": 2.7,
          "year": 2018
         },
         {
          "count": 5,
          "month": 3,
          "order": 194,
          "prop": 0.01020408163265306,
          "python_version": 3.4,
          "time": [
           2018,
           3
          ],
          "total": 490,
          "version": 3.4,
          "year": 2018
         },
         {
          "count": 0,
          "month": 4,
          "order": 195,
          "prop": 0,
          "python_version": null,
          "time": [
           2018,
           4
          ],
          "total": null,
          "version": 3.7,
          "year": 2018
         },
         {
          "count": 126,
          "month": 4,
          "order": 196,
          "prop": 0.21951219512195122,
          "python_version": 2.7,
          "time": [
           2018,
           4
          ],
          "total": 574,
          "version": 2.7,
          "year": 2018
         },
         {
          "count": 355,
          "month": 4,
          "order": 197,
          "prop": 0.6184668989547039,
          "python_version": 3.6,
          "time": [
           2018,
           4
          ],
          "total": 574,
          "version": 3.6,
          "year": 2018
         },
         {
          "count": 79,
          "month": 4,
          "order": 198,
          "prop": 0.13763066202090593,
          "python_version": 3.5,
          "time": [
           2018,
           4
          ],
          "total": 574,
          "version": 3.5,
          "year": 2018
         },
         {
          "count": 14,
          "month": 4,
          "order": 199,
          "prop": 0.024390243902439025,
          "python_version": 3.4,
          "time": [
           2018,
           4
          ],
          "total": 574,
          "version": 3.4,
          "year": 2018
         },
         {
          "count": 423,
          "month": 5,
          "order": 200,
          "prop": 0.6351351351351351,
          "python_version": 3.6,
          "time": [
           2018,
           5
          ],
          "total": 666,
          "version": 3.6,
          "year": 2018
         },
         {
          "count": 121,
          "month": 5,
          "order": 201,
          "prop": 0.1816816816816817,
          "python_version": 2.7,
          "time": [
           2018,
           5
          ],
          "total": 666,
          "version": 2.7,
          "year": 2018
         },
         {
          "count": 14,
          "month": 5,
          "order": 202,
          "prop": 0.021021021021021023,
          "python_version": 3.4,
          "time": [
           2018,
           5
          ],
          "total": 666,
          "version": 3.4,
          "year": 2018
         },
         {
          "count": 0,
          "month": 5,
          "order": 203,
          "prop": 0,
          "python_version": null,
          "time": [
           2018,
           5
          ],
          "total": null,
          "version": 3.7,
          "year": 2018
         },
         {
          "count": 108,
          "month": 5,
          "order": 204,
          "prop": 0.16216216216216217,
          "python_version": 3.5,
          "time": [
           2018,
           5
          ],
          "total": 666,
          "version": 3.5,
          "year": 2018
         },
         {
          "count": 14,
          "month": 6,
          "order": 205,
          "prop": 0.02247191011235955,
          "python_version": 3.4,
          "time": [
           2018,
           6
          ],
          "total": 623,
          "version": 3.4,
          "year": 2018
         },
         {
          "count": 408,
          "month": 6,
          "order": 206,
          "prop": 0.6548956661316212,
          "python_version": 3.6,
          "time": [
           2018,
           6
          ],
          "total": 623,
          "version": 3.6,
          "year": 2018
         },
         {
          "count": 116,
          "month": 6,
          "order": 207,
          "prop": 0.18619582664526485,
          "python_version": 2.7,
          "time": [
           2018,
           6
          ],
          "total": 623,
          "version": 2.7,
          "year": 2018
         },
         {
          "count": 85,
          "month": 6,
          "order": 208,
          "prop": 0.13643659711075443,
          "python_version": 3.5,
          "time": [
           2018,
           6
          ],
          "total": 623,
          "version": 3.5,
          "year": 2018
         },
         {
          "count": 0,
          "month": 6,
          "order": 209,
          "prop": 0,
          "python_version": null,
          "time": [
           2018,
           6
          ],
          "total": null,
          "version": 3.7,
          "year": 2018
         },
         {
          "count": 3,
          "month": 7,
          "order": 210,
          "prop": 0.004329004329004329,
          "python_version": 3.7,
          "time": [
           2018,
           7
          ],
          "total": 693,
          "version": 3.7,
          "year": 2018
         },
         {
          "count": 481,
          "month": 7,
          "order": 211,
          "prop": 0.6940836940836941,
          "python_version": 3.6,
          "time": [
           2018,
           7
          ],
          "total": 693,
          "version": 3.6,
          "year": 2018
         },
         {
          "count": 87,
          "month": 7,
          "order": 212,
          "prop": 0.12554112554112554,
          "python_version": 2.7,
          "time": [
           2018,
           7
          ],
          "total": 693,
          "version": 2.7,
          "year": 2018
         },
         {
          "count": 111,
          "month": 7,
          "order": 213,
          "prop": 0.16017316017316016,
          "python_version": 3.5,
          "time": [
           2018,
           7
          ],
          "total": 693,
          "version": 3.5,
          "year": 2018
         },
         {
          "count": 11,
          "month": 7,
          "order": 214,
          "prop": 0.015873015873015872,
          "python_version": 3.4,
          "time": [
           2018,
           7
          ],
          "total": 693,
          "version": 3.4,
          "year": 2018
         },
         {
          "count": 6,
          "month": 8,
          "order": 215,
          "prop": 0.00846262341325811,
          "python_version": 3.7,
          "time": [
           2018,
           8
          ],
          "total": 709,
          "version": 3.7,
          "year": 2018
         },
         {
          "count": 117,
          "month": 8,
          "order": 216,
          "prop": 0.16502115655853314,
          "python_version": 2.7,
          "time": [
           2018,
           8
          ],
          "total": 709,
          "version": 2.7,
          "year": 2018
         },
         {
          "count": 13,
          "month": 8,
          "order": 217,
          "prop": 0.018335684062059238,
          "python_version": 3.4,
          "time": [
           2018,
           8
          ],
          "total": 709,
          "version": 3.4,
          "year": 2018
         },
         {
          "count": 91,
          "month": 8,
          "order": 218,
          "prop": 0.12834978843441466,
          "python_version": 3.5,
          "time": [
           2018,
           8
          ],
          "total": 709,
          "version": 3.5,
          "year": 2018
         },
         {
          "count": 482,
          "month": 8,
          "order": 219,
          "prop": 0.6798307475317349,
          "python_version": 3.6,
          "time": [
           2018,
           8
          ],
          "total": 709,
          "version": 3.6,
          "year": 2018
         },
         {
          "count": 80,
          "month": 9,
          "order": 220,
          "prop": 0.12422360248447205,
          "python_version": 3.5,
          "time": [
           2018,
           9
          ],
          "total": 644,
          "version": 3.5,
          "year": 2018
         },
         {
          "count": 6,
          "month": 9,
          "order": 221,
          "prop": 0.009316770186335404,
          "python_version": 3.7,
          "time": [
           2018,
           9
          ],
          "total": 644,
          "version": 3.7,
          "year": 2018
         },
         {
          "count": 11,
          "month": 9,
          "order": 222,
          "prop": 0.017080745341614908,
          "python_version": 3.4,
          "time": [
           2018,
           9
          ],
          "total": 644,
          "version": 3.4,
          "year": 2018
         },
         {
          "count": 480,
          "month": 9,
          "order": 223,
          "prop": 0.7453416149068323,
          "python_version": 3.6,
          "time": [
           2018,
           9
          ],
          "total": 644,
          "version": 3.6,
          "year": 2018
         },
         {
          "count": 67,
          "month": 9,
          "order": 224,
          "prop": 0.10403726708074534,
          "python_version": 2.7,
          "time": [
           2018,
           9
          ],
          "total": 644,
          "version": 2.7,
          "year": 2018
         },
         {
          "count": 549,
          "month": 10,
          "order": 225,
          "prop": 0.7083870967741935,
          "python_version": 3.6,
          "time": [
           2018,
           10
          ],
          "total": 775,
          "version": 3.6,
          "year": 2018
         },
         {
          "count": 105,
          "month": 10,
          "order": 226,
          "prop": 0.13548387096774195,
          "python_version": 3.5,
          "time": [
           2018,
           10
          ],
          "total": 775,
          "version": 3.5,
          "year": 2018
         },
         {
          "count": 91,
          "month": 10,
          "order": 227,
          "prop": 0.11741935483870967,
          "python_version": 2.7,
          "time": [
           2018,
           10
          ],
          "total": 775,
          "version": 2.7,
          "year": 2018
         },
         {
          "count": 8,
          "month": 10,
          "order": 228,
          "prop": 0.01032258064516129,
          "python_version": 3.4,
          "time": [
           2018,
           10
          ],
          "total": 775,
          "version": 3.4,
          "year": 2018
         },
         {
          "count": 22,
          "month": 10,
          "order": 229,
          "prop": 0.02838709677419355,
          "python_version": 3.7,
          "time": [
           2018,
           10
          ],
          "total": 775,
          "version": 3.7,
          "year": 2018
         },
         {
          "count": 79,
          "month": 11,
          "order": 230,
          "prop": 0.09111880046136102,
          "python_version": 3.7,
          "time": [
           2018,
           11
          ],
          "total": 867,
          "version": 3.7,
          "year": 2018
         },
         {
          "count": 105,
          "month": 11,
          "order": 231,
          "prop": 0.12110726643598616,
          "python_version": 2.7,
          "time": [
           2018,
           11
          ],
          "total": 867,
          "version": 2.7,
          "year": 2018
         },
         {
          "count": 565,
          "month": 11,
          "order": 232,
          "prop": 0.6516724336793541,
          "python_version": 3.6,
          "time": [
           2018,
           11
          ],
          "total": 867,
          "version": 3.6,
          "year": 2018
         },
         {
          "count": 112,
          "month": 11,
          "order": 233,
          "prop": 0.12918108419838523,
          "python_version": 3.5,
          "time": [
           2018,
           11
          ],
          "total": 867,
          "version": 3.5,
          "year": 2018
         },
         {
          "count": 6,
          "month": 11,
          "order": 234,
          "prop": 0.006920415224913495,
          "python_version": 3.4,
          "time": [
           2018,
           11
          ],
          "total": 867,
          "version": 3.4,
          "year": 2018
         },
         {
          "count": 587,
          "month": 12,
          "order": 235,
          "prop": 0.6595505617977528,
          "python_version": 3.6,
          "time": [
           2018,
           12
          ],
          "total": 890,
          "version": 3.6,
          "year": 2018
         },
         {
          "count": 98,
          "month": 12,
          "order": 236,
          "prop": 0.1101123595505618,
          "python_version": 2.7,
          "time": [
           2018,
           12
          ],
          "total": 890,
          "version": 2.7,
          "year": 2018
         },
         {
          "count": 105,
          "month": 12,
          "order": 237,
          "prop": 0.11797752808988764,
          "python_version": 3.5,
          "time": [
           2018,
           12
          ],
          "total": 890,
          "version": 3.5,
          "year": 2018
         },
         {
          "count": 88,
          "month": 12,
          "order": 238,
          "prop": 0.09887640449438202,
          "python_version": 3.7,
          "time": [
           2018,
           12
          ],
          "total": 890,
          "version": 3.7,
          "year": 2018
         },
         {
          "count": 12,
          "month": 12,
          "order": 239,
          "prop": 0.01348314606741573,
          "python_version": 3.4,
          "time": [
           2018,
           12
          ],
          "total": 890,
          "version": 3.4,
          "year": 2018
         },
         {
          "count": 156,
          "month": 1,
          "order": 240,
          "prop": 0.1640378548895899,
          "python_version": 3.7,
          "time": [
           2019,
           1
          ],
          "total": 951,
          "version": 3.7,
          "year": 2019
         },
         {
          "count": 99,
          "month": 1,
          "order": 241,
          "prop": 0.10410094637223975,
          "python_version": 3.5,
          "time": [
           2019,
           1
          ],
          "total": 951,
          "version": 3.5,
          "year": 2019
         },
         {
          "count": 590,
          "month": 1,
          "order": 242,
          "prop": 0.6203995793901157,
          "python_version": 3.6,
          "time": [
           2019,
           1
          ],
          "total": 951,
          "version": 3.6,
          "year": 2019
         },
         {
          "count": 7,
          "month": 1,
          "order": 243,
          "prop": 0.007360672975814932,
          "python_version": 3.4,
          "time": [
           2019,
           1
          ],
          "total": 951,
          "version": 3.4,
          "year": 2019
         },
         {
          "count": 99,
          "month": 1,
          "order": 244,
          "prop": 0.10410094637223975,
          "python_version": 2.7,
          "time": [
           2019,
           1
          ],
          "total": 951,
          "version": 2.7,
          "year": 2019
         },
         {
          "count": 3,
          "month": 2,
          "order": 245,
          "prop": 0.0033519553072625698,
          "python_version": 3.4,
          "time": [
           2019,
           2
          ],
          "total": 895,
          "version": 3.4,
          "year": 2019
         },
         {
          "count": 96,
          "month": 2,
          "order": 246,
          "prop": 0.10726256983240223,
          "python_version": 2.7,
          "time": [
           2019,
           2
          ],
          "total": 895,
          "version": 2.7,
          "year": 2019
         },
         {
          "count": 136,
          "month": 2,
          "order": 247,
          "prop": 0.15195530726256984,
          "python_version": 3.7,
          "time": [
           2019,
           2
          ],
          "total": 895,
          "version": 3.7,
          "year": 2019
         },
         {
          "count": 94,
          "month": 2,
          "order": 248,
          "prop": 0.10502793296089385,
          "python_version": 3.5,
          "time": [
           2019,
           2
          ],
          "total": 895,
          "version": 3.5,
          "year": 2019
         },
         {
          "count": 565,
          "month": 2,
          "order": 249,
          "prop": 0.6312849162011173,
          "python_version": 3.6,
          "time": [
           2019,
           2
          ],
          "total": 895,
          "version": 3.6,
          "year": 2019
         },
         {
          "count": 231,
          "month": 3,
          "order": 250,
          "prop": 0.19282136894824708,
          "python_version": 3.7,
          "time": [
           2019,
           3
          ],
          "total": 1198,
          "version": 3.7,
          "year": 2019
         },
         {
          "count": 731,
          "month": 3,
          "order": 251,
          "prop": 0.6101836393989983,
          "python_version": 3.6,
          "time": [
           2019,
           3
          ],
          "total": 1198,
          "version": 3.6,
          "year": 2019
         },
         {
          "count": 118,
          "month": 3,
          "order": 252,
          "prop": 0.09849749582637729,
          "python_version": 3.5,
          "time": [
           2019,
           3
          ],
          "total": 1198,
          "version": 3.5,
          "year": 2019
         },
         {
          "count": 7,
          "month": 3,
          "order": 253,
          "prop": 0.005843071786310518,
          "python_version": 3.4,
          "time": [
           2019,
           3
          ],
          "total": 1198,
          "version": 3.4,
          "year": 2019
         },
         {
          "count": 111,
          "month": 3,
          "order": 254,
          "prop": 0.09265442404006678,
          "python_version": 2.7,
          "time": [
           2019,
           3
          ],
          "total": 1198,
          "version": 2.7,
          "year": 2019
         },
         {
          "count": 298,
          "month": 4,
          "order": 255,
          "prop": 0.22558667676003027,
          "python_version": 3.7,
          "time": [
           2019,
           4
          ],
          "total": 1321,
          "version": 3.7,
          "year": 2019
         },
         {
          "count": 112,
          "month": 4,
          "order": 256,
          "prop": 0.08478425435276306,
          "python_version": 3.5,
          "time": [
           2019,
           4
          ],
          "total": 1321,
          "version": 3.5,
          "year": 2019
         },
         {
          "count": 100,
          "month": 4,
          "order": 257,
          "prop": 0.0757002271006813,
          "python_version": 2.7,
          "time": [
           2019,
           4
          ],
          "total": 1321,
          "version": 2.7,
          "year": 2019
         },
         {
          "count": 797,
          "month": 4,
          "order": 258,
          "prop": 0.6033308099924299,
          "python_version": 3.6,
          "time": [
           2019,
           4
          ],
          "total": 1321,
          "version": 3.6,
          "year": 2019
         },
         {
          "count": 14,
          "month": 4,
          "order": 259,
          "prop": 0.010598031794095382,
          "python_version": 3.4,
          "time": [
           2019,
           4
          ],
          "total": 1321,
          "version": 3.4,
          "year": 2019
         },
         {
          "count": 172,
          "month": 5,
          "order": 260,
          "prop": 0.09907834101382489,
          "python_version": 3.5,
          "time": [
           2019,
           5
          ],
          "total": 1736,
          "version": 3.5,
          "year": 2019
         },
         {
          "count": 95,
          "month": 5,
          "order": 261,
          "prop": 0.054723502304147464,
          "python_version": 2.7,
          "time": [
           2019,
           5
          ],
          "total": 1736,
          "version": 2.7,
          "year": 2019
         },
         {
          "count": 1026,
          "month": 5,
          "order": 262,
          "prop": 0.5910138248847926,
          "python_version": 3.6,
          "time": [
           2019,
           5
          ],
          "total": 1736,
          "version": 3.6,
          "year": 2019
         },
         {
          "count": 430,
          "month": 5,
          "order": 263,
          "prop": 0.24769585253456222,
          "python_version": 3.7,
          "time": [
           2019,
           5
          ],
          "total": 1736,
          "version": 3.7,
          "year": 2019
         },
         {
          "count": 13,
          "month": 5,
          "order": 264,
          "prop": 0.007488479262672811,
          "python_version": 3.4,
          "time": [
           2019,
           5
          ],
          "total": 1736,
          "version": 3.4,
          "year": 2019
         },
         {
          "count": 10,
          "month": 6,
          "order": 265,
          "prop": 0.004889975550122249,
          "python_version": 3.4,
          "time": [
           2019,
           6
          ],
          "total": 2045,
          "version": 3.4,
          "year": 2019
         },
         {
          "count": 1104,
          "month": 6,
          "order": 266,
          "prop": 0.5398533007334964,
          "python_version": 3.6,
          "time": [
           2019,
           6
          ],
          "total": 2045,
          "version": 3.6,
          "year": 2019
         },
         {
          "count": 134,
          "month": 6,
          "order": 267,
          "prop": 0.06552567237163814,
          "python_version": 2.7,
          "time": [
           2019,
           6
          ],
          "total": 2045,
          "version": 2.7,
          "year": 2019
         },
         {
          "count": 155,
          "month": 6,
          "order": 268,
          "prop": 0.07579462102689487,
          "python_version": 3.5,
          "time": [
           2019,
           6
          ],
          "total": 2045,
          "version": 3.5,
          "year": 2019
         },
         {
          "count": 642,
          "month": 6,
          "order": 269,
          "prop": 0.3139364303178484,
          "python_version": 3.7,
          "time": [
           2019,
           6
          ],
          "total": 2045,
          "version": 3.7,
          "year": 2019
         },
         {
          "count": 17,
          "month": 7,
          "order": 270,
          "prop": 0.008886565603763722,
          "python_version": 3.4,
          "time": [
           2019,
           7
          ],
          "total": 1913,
          "version": 3.4,
          "year": 2019
         },
         {
          "count": 973,
          "month": 7,
          "order": 271,
          "prop": 0.5086251960271825,
          "python_version": 3.6,
          "time": [
           2019,
           7
          ],
          "total": 1913,
          "version": 3.6,
          "year": 2019
         },
         {
          "count": 154,
          "month": 7,
          "order": 272,
          "prop": 0.08050182958703607,
          "python_version": 3.5,
          "time": [
           2019,
           7
          ],
          "total": 1913,
          "version": 3.5,
          "year": 2019
         },
         {
          "count": 142,
          "month": 7,
          "order": 273,
          "prop": 0.07422895974908521,
          "python_version": 2.7,
          "time": [
           2019,
           7
          ],
          "total": 1913,
          "version": 2.7,
          "year": 2019
         },
         {
          "count": 627,
          "month": 7,
          "order": 274,
          "prop": 0.3277574490329326,
          "python_version": 3.7,
          "time": [
           2019,
           7
          ],
          "total": 1913,
          "version": 3.7,
          "year": 2019
         }
        ]
       },
       "encoding": {
        "color": {
         "field": "version",
         "scale": {
          "scheme": "yellowgreenblue"
         },
         "title": "Version",
         "type": "ordinal"
        },
        "x": {
         "field": "order",
         "title": "Months since January of 2015",
         "type": "quantitative"
        },
        "y": {
         "field": "prop",
         "title": "Proportion of Notebooks in Given Year",
         "type": "quantitative"
        }
       },
       "mark": {
        "strokeWidth": 3,
        "type": "line"
       },
       "title": "Python Versions over Time",
       "width": 500
      },
      "image/png": "[encoded data removed]",
      "text/plain": [
       "<VegaLite 3 object>\n",
       "\n",
       "If you see this message, it means the renderer has not been properly enabled\n",
       "for the frontend that you are using. For more information, see\n",
       "https://altair-viz.github.io/user_guide/troubleshooting.html\n"
      ]
     },
     "execution_count": 19,
     "metadata": {},
     "output_type": "execute_result"
    }
   ],
   "source": [
    "alt.Chart(monthly_counts, width = 500, title = \"Python Versions over Time\").mark_line(strokeWidth=3).encode(\n",
    "    alt.X('order', title='Months since '+first),\n",
    "    alt.Y('prop', title='Proportion of Notebooks in Given Year'),\n",
    "    alt.Color('version:O', scale=alt.Scale(scheme='yellowgreenblue'), title = 'Version')\n",
    ")"
   ]
  },
  {
   "cell_type": "markdown",
   "metadata": {},
   "source": [
    "Release dates all make sense with this visualization ([reference](https://en.wikipedia.org/wiki/History_of_Python)):\n",
    "- 2.7: July 2010\n",
    "- 3.3: September 2012\n",
    "- 3.4: March 2014\n",
    "- 3.5: September 2015\n",
    "- 3.6: December 2016\n",
    "- 3.7: June 2018"
   ]
  },
  {
   "cell_type": "markdown",
   "metadata": {},
   "source": [
    "<center> <a href = 1_Popularity.ipynb>Notebook Popularity &lt;</a> | <a href = 3_Frameworks.ipynb>&gt; ML Framework Use</a> <center>"
   ]
  }
 ],
 "metadata": {
  "kernelspec": {
   "display_name": "Python 3",
   "language": "python",
   "name": "python3"
  },
  "language_info": {
   "codemirror_mode": {
    "name": "ipython",
    "version": 3
   },
   "file_extension": ".py",
   "mimetype": "text/x-python",
   "name": "python",
   "nbconvert_exporter": "python",
   "pygments_lexer": "ipython3",
   "version": "3.7.3"
  }
 },
 "nbformat": 4,
 "nbformat_minor": 4
}
