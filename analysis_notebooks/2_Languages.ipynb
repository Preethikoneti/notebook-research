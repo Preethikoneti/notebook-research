{
 "cells": [
  {
   "cell_type": "markdown",
   "metadata": {},
   "source": [
    "[Notebook Popularity &lt;](1_Popularity.ipynb) | [&gt; Notebook Owners](3_Owners.ipynb)"
   ]
  },
  {
   "cell_type": "markdown",
   "metadata": {},
   "source": [
    "# Programming Languages in Jupyter\n",
    "\n",
    "Here, we focus only on notebooks that have a specified language to examine what programming languages people are using with Jupyter Notebooks and their growth overt time. 1.79% of notebooks do not have a specified language and are removed before analysis.\n",
    "\n",
    "## Results Summary:\n",
    "- Python is consistently the most popular programming language for Jupyter notebooks. There are over 100 times more notebooks written in Python than there are in the next most popular language, R. Julia and R are very close in popularity. Many other languages are used (e.g. Scala, Bash, C++, Ruby), but with minimal frequency. \n",
    "    - 98.3% of notebooks have a specified language. Of these, 97.62 % are written in Python, 0.80% Julia, and 0.95% R..\n",
    "- The relative popularities of languages have not changed much over time.\n",
    "- It appears that there are very few notebooks written in Python 3.3 and 3.4. However, these versions were released and used frequently from 2012 - 2015, when notebooks were most often in format 2 or 3. Further, nearly all of version 2 and 3 notebooks are missing language versions. It's likely that Python 3.3 and 3.4 were used heavily during these years but are not accounted for in our dataset due to the formats of the notebooks.\n"
   ]
  },
  {
   "cell_type": "markdown",
   "metadata": {},
   "source": [
    "--------"
   ]
  },
  {
   "cell_type": "markdown",
   "metadata": {},
   "source": [
    "# Import Packages & Load Data"
   ]
  },
  {
   "cell_type": "code",
   "execution_count": 1,
   "metadata": {},
   "outputs": [],
   "source": [
    "import pandas as pd\n",
    "import numpy as np\n",
    "import calendar\n",
    "\n",
    "import matplotlib.pyplot as plt\n",
    "import load_data\n",
    "import datetime"
   ]
  },
  {
   "cell_type": "code",
   "execution_count": 2,
   "metadata": {},
   "outputs": [
    {
     "name": "stdout",
     "output_type": "stream",
     "text": [
      "Repos loaded in 0:00:04.433827\n",
      "Notebooks loaded in 0:00:24.465798\n"
     ]
    }
   ],
   "source": [
    "repos_temp = load_data.load_repos()\n",
    "notebooks_temp = load_data.load_notebooks()\n"
   ]
  },
  {
   "cell_type": "markdown",
   "metadata": {},
   "source": [
    "--------"
   ]
  },
  {
   "cell_type": "markdown",
   "metadata": {},
   "source": [
    "# Tidy Data"
   ]
  },
  {
   "cell_type": "markdown",
   "metadata": {},
   "source": [
    "### Focus in on notebooks with a specified language\n"
   ]
  },
  {
   "cell_type": "code",
   "execution_count": 3,
   "metadata": {},
   "outputs": [],
   "source": [
    "notebooks = notebooks_temp.copy()[~notebooks_temp.lang_name.isna()].reset_index(drop=True)"
   ]
  },
  {
   "cell_type": "code",
   "execution_count": 4,
   "metadata": {},
   "outputs": [
    {
     "name": "stdout",
     "output_type": "stream",
     "text": [
      "4215016 (98.23%) of notebooks not in ipynb checkpoints have a specified language. \n",
      "The 1.77% without a language have been removed.\n"
     ]
    }
   ],
   "source": [
    "print(\"{0} ({1}%) of notebooks not in ipynb checkpoints have a specified language. \\nThe {2}% without a language have been removed.\".format(\n",
    "    len(notebooks),\n",
    "    round(100*len(notebooks)/len(notebooks_temp), 2), \n",
    "    round(100 - 100*len(notebooks)/len(notebooks_temp), 2)\n",
    "))"
   ]
  },
  {
   "cell_type": "markdown",
   "metadata": {},
   "source": [
    "### Update repos to reflect notebooks with a language"
   ]
  },
  {
   "cell_type": "code",
   "execution_count": 5,
   "metadata": {},
   "outputs": [],
   "source": [
    "repos = repos_temp.copy()[repos_temp.repo_id.isin(notebooks.repo_id)].reset_index(drop=True)"
   ]
  },
  {
   "cell_type": "markdown",
   "metadata": {},
   "source": [
    "### Delete temp dataframes to save space"
   ]
  },
  {
   "cell_type": "code",
   "execution_count": 6,
   "metadata": {},
   "outputs": [],
   "source": [
    "del repos_temp\n",
    "del notebooks_temp"
   ]
  },
  {
   "cell_type": "markdown",
   "metadata": {},
   "source": [
    "---"
   ]
  },
  {
   "cell_type": "markdown",
   "metadata": {},
   "source": [
    "# Visualizations & Statistics\n",
    "## What programming langugages are the most popular to use with Jupyter notebooks?"
   ]
  },
  {
   "cell_type": "code",
   "execution_count": 7,
   "metadata": {},
   "outputs": [
    {
     "name": "stdout",
     "output_type": "stream",
     "text": [
      "97.63% of notebooks with a specified language are written in Python, 0.794% Julia, and 0.922% R.\n"
     ]
    }
   ],
   "source": [
    "counts = notebooks.groupby('lang_name')['file'].count().sort_values(ascending=False).reset_index().rename(\n",
    "    columns = {'file':'count'}\n",
    ")\n",
    "\n",
    "print(\"{0}% of notebooks with a specified language are written in Python, {1}% Julia, and {2}% R.\".format(\n",
    "    round(100*sum(notebooks.lang_name == 'python') / len(notebooks), 3),\n",
    "    round(100*sum(notebooks.lang_name == 'julia') / len(notebooks), 3),\n",
    "    round(100*sum(notebooks.lang_name == 'r') / len(notebooks), 3)\n",
    "))"
   ]
  },
  {
   "cell_type": "code",
   "execution_count": 8,
   "metadata": {},
   "outputs": [
    {
     "data": {
      "image/png": "[encoded data removed]",
      "text/plain": [
       "<Figure size 432x288 with 1 Axes>"
      ]
     },
     "metadata": {
      "needs_background": "light"
     },
     "output_type": "display_data"
    }
   ],
   "source": [
    "plot_counts = counts[counts['count'] > 1000]\n",
    "x = plot_counts.lang_name\n",
    "x_pos = np.arange(len(x))\n",
    "height = plot_counts['count']\n",
    "plt.bar(x_pos, height, color = 'teal')\n",
    "plt.xticks(x_pos, x, rotation = 70)\n",
    "plt.xlabel('Language')\n",
    "plt.yscale('log')\n",
    "plt.ylabel('Number of Notebooks')\n",
    "\n",
    "plt.title('Language Distribution')\n",
    "\n",
    "plt.show()"
   ]
  },
  {
   "cell_type": "markdown",
   "metadata": {},
   "source": [
    "Clearly, Python is the language of choice. Python has over 100 times more notebooks than Julia or R, the next most popular languages."
   ]
  },
  {
   "cell_type": "markdown",
   "metadata": {},
   "source": [
    "## Language Use Over Time\n",
    "How have relative popularities of langages canged over time?"
   ]
  },
  {
   "cell_type": "code",
   "execution_count": 9,
   "metadata": {},
   "outputs": [],
   "source": [
    "def lang_over_time(language):\n",
    "    start = notebooks.pushed_year.min()\n",
    "    end = notebooks.pushed_year.max()\n",
    "    \n",
    "    language_over_time = notebooks[notebooks.lang_name == language]\n",
    "    language_yearly_counts = language_over_time.groupby('pushed_year')['file'].count().reset_index().rename(columns={'file':'count'})\n",
    "    to_append = {'pushed_year':[], 'count':[]}\n",
    "    for y in range(start, end):\n",
    "        if y not in language_yearly_counts['pushed_year'].values:\n",
    "            to_append['pushed_year'].append(y)\n",
    "            to_append['count'].append(0)\n",
    "    to_append_df = pd.DataFrame(to_append)\n",
    "    language_yearly_counts = pd.concat([language_yearly_counts, to_append_df], sort = False).sort_values(by='pushed_year')\n",
    "    totals = notebooks.groupby('pushed_year')['file'].count().reset_index().rename(columns={'file':'total'})\n",
    "    language_yearly_counts = language_yearly_counts.merge(totals, on = 'pushed_year')\n",
    "    language_yearly_counts['language'] = language\n",
    "    return language_yearly_counts"
   ]
  },
  {
   "cell_type": "code",
   "execution_count": 10,
   "metadata": {},
   "outputs": [
    {
     "data": {
      "image/png": "[encoded data removed]",
      "text/plain": [
       "<Figure size 432x288 with 1 Axes>"
      ]
     },
     "metadata": {
      "needs_background": "light"
     },
     "output_type": "display_data"
    }
   ],
   "source": [
    "py_counts = lang_over_time('python')\n",
    "ju_counts = lang_over_time('julia')\n",
    "r_counts = lang_over_time('r')\n",
    "\n",
    "lang_counts = pd.concat([py_counts, ju_counts, r_counts], sort = False)\n",
    "lang_counts['prop'] = lang_counts['count']/lang_counts['total']\n",
    "\n",
    "py_counts = lang_counts[lang_counts.language == 'python']\n",
    "ju_counts = lang_counts[lang_counts.language == 'julia']\n",
    "r_counts = lang_counts[lang_counts.language == 'r']\n",
    "\n",
    "plt.plot(py_counts['pushed_year'],py_counts['prop'], color = '#F9D25B', label = 'Python')\n",
    "plt.plot(ju_counts['pushed_year'],ju_counts['prop'], color = '#8A5D9F', label = 'Julia')\n",
    "plt.plot(r_counts['pushed_year'],r_counts['prop'], color = '#2A65B3', label = 'R')\n",
    "\n",
    "plt.title('Language Use Over Time')\n",
    "plt.xlabel('Year')\n",
    "plt.ylabel('Proportion of Notebooks')\n",
    "plt.legend()\n",
    "plt.show()\n"
   ]
  },
  {
   "cell_type": "markdown",
   "metadata": {},
   "source": [
    "Nearly all notebooks are written in Python, and this popularity has not fluxuated that much over time. It's difficult to see the difference between Julia and R, so lets zoom in on those."
   ]
  },
  {
   "cell_type": "code",
   "execution_count": 11,
   "metadata": {},
   "outputs": [
    {
     "data": {
      "image/png": "[encoded data removed]",
      "text/plain": [
       "<Figure size 432x288 with 1 Axes>"
      ]
     },
     "metadata": {
      "needs_background": "light"
     },
     "output_type": "display_data"
    }
   ],
   "source": [
    "plt.plot(ju_counts['pushed_year'],ju_counts['prop'], color = '#8A5D9F', label = 'Julia')\n",
    "plt.plot(r_counts['pushed_year'],r_counts['prop'], color = '#2A65B3', label = 'R')\n",
    "\n",
    "plt.title('Language Use Over Time')\n",
    "plt.xlabel('Year')\n",
    "plt.ylabel('Proportion of Notebooks')\n",
    "plt.legend()\n",
    "plt.show()"
   ]
  },
  {
   "cell_type": "markdown",
   "metadata": {},
   "source": [
    "Julia's popularity peaked in 2015 when it was used in around 1.8% of notebooks. Julia then became less popular and was surpassed by R in 2017. In 2019, they are at approximately equal popularities, each used in approximately 0.8% of notebooks"
   ]
  },
  {
   "cell_type": "markdown",
   "metadata": {},
   "source": [
    "## Python Version Use\n"
   ]
  },
  {
   "cell_type": "markdown",
   "metadata": {},
   "source": [
    "Release dates of python versions ([reference](https://en.wikipedia.org/wiki/History_of_Python)):\n",
    "- 2.7: July 2010\n",
    "- 3.3: September 2012\n",
    "- 3.4: March 2014\n",
    "- 3.5: September 2015\n",
    "- 3.6: December 2016\n",
    "- 3.7: June 2018"
   ]
  },
  {
   "cell_type": "code",
   "execution_count": 12,
   "metadata": {},
   "outputs": [
    {
     "name": "stderr",
     "output_type": "stream",
     "text": [
      "/home/ec2-user/anaconda3/lib/python3.5/site-packages/pandas/core/ops/__init__.py:1115: FutureWarning: elementwise comparison failed; returning scalar instead, but in the future will perform elementwise comparison\n",
      "  result = method(y)\n"
     ]
    },
    {
     "data": {
      "image/png": "[encoded data removed]",
      "text/plain": [
       "<Figure size 432x288 with 1 Axes>"
      ]
     },
     "metadata": {
      "needs_background": "light"
     },
     "output_type": "display_data"
    }
   ],
   "source": [
    "counts = pd.Series(notebooks.python_version[notebooks.python_version != '']).value_counts()\n",
    "counts = pd.DataFrame(counts).reset_index().rename(columns={'index':'version','python_version':'counts'})\n",
    "counts.version = counts.version.astype('float')\n",
    "counts = counts.sort_values(by='version')\n",
    "counts = counts[counts['counts'] > 50]\n",
    "\n",
    "x = counts['version']\n",
    "x_pos = np.arange(len(x))\n",
    "height = counts['counts']\n",
    "plt.bar(x_pos, height, color = 'teal')\n",
    "plt.xticks(x_pos, x)\n",
    "plt.xlabel('Python Version')\n",
    "plt.ylabel('Number of Notebooks')\n",
    "\n",
    "plt.title('Python Version Use')\n",
    "plt.show()\n"
   ]
  },
  {
   "cell_type": "markdown",
   "metadata": {},
   "source": [
    "Python 3.6 is the most common within Jupyter notebooks. Almost no notebooks were written in Python 3.3 (released September 2012) or 3.4 (March 2014)."
   ]
  },
  {
   "cell_type": "markdown",
   "metadata": {},
   "source": [
    "## Why so little 3.3 and 3.4?\n",
    "### Notebook formats over time and missing language version"
   ]
  },
  {
   "cell_type": "code",
   "execution_count": 13,
   "metadata": {},
   "outputs": [],
   "source": [
    "format_yearly_counts = notebooks.groupby(['pushed_year','nbformat'])['file'].count().reset_index().rename(\n",
    "    columns = {'file':'count'}\n",
    ")"
   ]
  },
  {
   "cell_type": "code",
   "execution_count": 14,
   "metadata": {},
   "outputs": [],
   "source": [
    "format_yearly_counts = format_yearly_counts.merge(\n",
    "    format_yearly_counts.groupby('pushed_year')['count'].sum().reset_index().rename(\n",
    "        columns = {'count':'total'}\n",
    "    ),\n",
    "    on = 'pushed_year'\n",
    ")\n",
    "format_yearly_counts['prop'] = format_yearly_counts['count']/format_yearly_counts['total']"
   ]
  },
  {
   "cell_type": "markdown",
   "metadata": {},
   "source": [
    "### Proportion of notebooks in each year that were nbformat 2"
   ]
  },
  {
   "cell_type": "code",
   "execution_count": 15,
   "metadata": {},
   "outputs": [
    {
     "data": {
      "text/html": [
       "<div>\n",
       "<style scoped>\n",
       "    .dataframe tbody tr th:only-of-type {\n",
       "        vertical-align: middle;\n",
       "    }\n",
       "\n",
       "    .dataframe tbody tr th {\n",
       "        vertical-align: top;\n",
       "    }\n",
       "\n",
       "    .dataframe thead th {\n",
       "        text-align: right;\n",
       "    }\n",
       "</style>\n",
       "<table border=\"1\" class=\"dataframe\">\n",
       "  <thead>\n",
       "    <tr style=\"text-align: right;\">\n",
       "      <th></th>\n",
       "      <th>pushed_year</th>\n",
       "      <th>nbformat</th>\n",
       "      <th>count</th>\n",
       "      <th>total</th>\n",
       "      <th>prop</th>\n",
       "    </tr>\n",
       "  </thead>\n",
       "  <tbody>\n",
       "    <tr>\n",
       "      <th>0</th>\n",
       "      <td>2011</td>\n",
       "      <td>2.0</td>\n",
       "      <td>9</td>\n",
       "      <td>9</td>\n",
       "      <td>1.000000</td>\n",
       "    </tr>\n",
       "    <tr>\n",
       "      <th>1</th>\n",
       "      <td>2012</td>\n",
       "      <td>2.0</td>\n",
       "      <td>599</td>\n",
       "      <td>1537</td>\n",
       "      <td>0.389720</td>\n",
       "    </tr>\n",
       "    <tr>\n",
       "      <th>3</th>\n",
       "      <td>2013</td>\n",
       "      <td>2.0</td>\n",
       "      <td>442</td>\n",
       "      <td>8777</td>\n",
       "      <td>0.050359</td>\n",
       "    </tr>\n",
       "    <tr>\n",
       "      <th>5</th>\n",
       "      <td>2014</td>\n",
       "      <td>2.0</td>\n",
       "      <td>348</td>\n",
       "      <td>34582</td>\n",
       "      <td>0.010063</td>\n",
       "    </tr>\n",
       "    <tr>\n",
       "      <th>8</th>\n",
       "      <td>2015</td>\n",
       "      <td>2.0</td>\n",
       "      <td>220</td>\n",
       "      <td>83198</td>\n",
       "      <td>0.002644</td>\n",
       "    </tr>\n",
       "    <tr>\n",
       "      <th>11</th>\n",
       "      <td>2016</td>\n",
       "      <td>2.0</td>\n",
       "      <td>284</td>\n",
       "      <td>235717</td>\n",
       "      <td>0.001205</td>\n",
       "    </tr>\n",
       "    <tr>\n",
       "      <th>14</th>\n",
       "      <td>2017</td>\n",
       "      <td>2.0</td>\n",
       "      <td>190</td>\n",
       "      <td>641238</td>\n",
       "      <td>0.000296</td>\n",
       "    </tr>\n",
       "    <tr>\n",
       "      <th>17</th>\n",
       "      <td>2018</td>\n",
       "      <td>2.0</td>\n",
       "      <td>529</td>\n",
       "      <td>1423780</td>\n",
       "      <td>0.000372</td>\n",
       "    </tr>\n",
       "    <tr>\n",
       "      <th>20</th>\n",
       "      <td>2019</td>\n",
       "      <td>2.0</td>\n",
       "      <td>644</td>\n",
       "      <td>1786153</td>\n",
       "      <td>0.000361</td>\n",
       "    </tr>\n",
       "  </tbody>\n",
       "</table>\n",
       "</div>"
      ],
      "text/plain": [
       "    pushed_year  nbformat  count    total      prop\n",
       "0          2011       2.0      9        9  1.000000\n",
       "1          2012       2.0    599     1537  0.389720\n",
       "3          2013       2.0    442     8777  0.050359\n",
       "5          2014       2.0    348    34582  0.010063\n",
       "8          2015       2.0    220    83198  0.002644\n",
       "11         2016       2.0    284   235717  0.001205\n",
       "14         2017       2.0    190   641238  0.000296\n",
       "17         2018       2.0    529  1423780  0.000372\n",
       "20         2019       2.0    644  1786153  0.000361"
      ]
     },
     "execution_count": 15,
     "metadata": {},
     "output_type": "execute_result"
    }
   ],
   "source": [
    "format_yearly_counts[format_yearly_counts.nbformat == 2]"
   ]
  },
  {
   "cell_type": "markdown",
   "metadata": {},
   "source": [
    "### Proportion of notebooks in each year that were nbformat 3"
   ]
  },
  {
   "cell_type": "code",
   "execution_count": 16,
   "metadata": {},
   "outputs": [
    {
     "data": {
      "text/html": [
       "<div>\n",
       "<style scoped>\n",
       "    .dataframe tbody tr th:only-of-type {\n",
       "        vertical-align: middle;\n",
       "    }\n",
       "\n",
       "    .dataframe tbody tr th {\n",
       "        vertical-align: top;\n",
       "    }\n",
       "\n",
       "    .dataframe thead th {\n",
       "        text-align: right;\n",
       "    }\n",
       "</style>\n",
       "<table border=\"1\" class=\"dataframe\">\n",
       "  <thead>\n",
       "    <tr style=\"text-align: right;\">\n",
       "      <th></th>\n",
       "      <th>pushed_year</th>\n",
       "      <th>nbformat</th>\n",
       "      <th>count</th>\n",
       "      <th>total</th>\n",
       "      <th>prop</th>\n",
       "    </tr>\n",
       "  </thead>\n",
       "  <tbody>\n",
       "    <tr>\n",
       "      <th>2</th>\n",
       "      <td>2012</td>\n",
       "      <td>3.0</td>\n",
       "      <td>938</td>\n",
       "      <td>1537</td>\n",
       "      <td>0.610280</td>\n",
       "    </tr>\n",
       "    <tr>\n",
       "      <th>4</th>\n",
       "      <td>2013</td>\n",
       "      <td>3.0</td>\n",
       "      <td>8335</td>\n",
       "      <td>8777</td>\n",
       "      <td>0.949641</td>\n",
       "    </tr>\n",
       "    <tr>\n",
       "      <th>6</th>\n",
       "      <td>2014</td>\n",
       "      <td>3.0</td>\n",
       "      <td>34213</td>\n",
       "      <td>34582</td>\n",
       "      <td>0.989330</td>\n",
       "    </tr>\n",
       "    <tr>\n",
       "      <th>9</th>\n",
       "      <td>2015</td>\n",
       "      <td>3.0</td>\n",
       "      <td>35247</td>\n",
       "      <td>83198</td>\n",
       "      <td>0.423652</td>\n",
       "    </tr>\n",
       "    <tr>\n",
       "      <th>12</th>\n",
       "      <td>2016</td>\n",
       "      <td>3.0</td>\n",
       "      <td>18579</td>\n",
       "      <td>235717</td>\n",
       "      <td>0.078819</td>\n",
       "    </tr>\n",
       "    <tr>\n",
       "      <th>15</th>\n",
       "      <td>2017</td>\n",
       "      <td>3.0</td>\n",
       "      <td>22015</td>\n",
       "      <td>641238</td>\n",
       "      <td>0.034332</td>\n",
       "    </tr>\n",
       "    <tr>\n",
       "      <th>18</th>\n",
       "      <td>2018</td>\n",
       "      <td>3.0</td>\n",
       "      <td>14163</td>\n",
       "      <td>1423780</td>\n",
       "      <td>0.009947</td>\n",
       "    </tr>\n",
       "    <tr>\n",
       "      <th>21</th>\n",
       "      <td>2019</td>\n",
       "      <td>3.0</td>\n",
       "      <td>11056</td>\n",
       "      <td>1786153</td>\n",
       "      <td>0.006190</td>\n",
       "    </tr>\n",
       "  </tbody>\n",
       "</table>\n",
       "</div>"
      ],
      "text/plain": [
       "    pushed_year  nbformat  count    total      prop\n",
       "2          2012       3.0    938     1537  0.610280\n",
       "4          2013       3.0   8335     8777  0.949641\n",
       "6          2014       3.0  34213    34582  0.989330\n",
       "9          2015       3.0  35247    83198  0.423652\n",
       "12         2016       3.0  18579   235717  0.078819\n",
       "15         2017       3.0  22015   641238  0.034332\n",
       "18         2018       3.0  14163  1423780  0.009947\n",
       "21         2019       3.0  11056  1786153  0.006190"
      ]
     },
     "execution_count": 16,
     "metadata": {},
     "output_type": "execute_result"
    }
   ],
   "source": [
    "format_yearly_counts[format_yearly_counts.nbformat == 3]"
   ]
  },
  {
   "cell_type": "code",
   "execution_count": 17,
   "metadata": {},
   "outputs": [
    {
     "name": "stdout",
     "output_type": "stream",
     "text": [
      "99.6% of nbformat 2 python notebooks have missing language version\n",
      "98.33% of nbformat 3 python notebooks have missing language version\n",
      "0.31% of nbformat 4 python notebooks have missing language version\n"
     ]
    }
   ],
   "source": [
    "print(\"{0}% of nbformat 2 python notebooks have missing language version\".format(\n",
    "    round(100*sum(notebooks[\n",
    "        np.logical_and(notebooks.nbformat == 2, notebooks.lang_name == 'python')\n",
    "    ].lang_version.isna()) / len(\n",
    "        notebooks[np.logical_and(notebooks.nbformat == 2, notebooks.lang_name == 'python')]\n",
    "    ), 2)\n",
    "))\n",
    "\n",
    "print(\"{0}% of nbformat 3 python notebooks have missing language version\".format(\n",
    "    round(100*sum(notebooks[\n",
    "        np.logical_and(notebooks.nbformat == 3, notebooks.lang_name == 'python')\n",
    "    ].lang_version.isna()) / len(\n",
    "        notebooks[np.logical_and(notebooks.nbformat == 3, notebooks.lang_name == 'python')]\n",
    "    ), 2)\n",
    "))\n",
    "\n",
    "print(\"{0}% of nbformat 4 python notebooks have missing language version\".format(\n",
    "    round(100*sum(notebooks[\n",
    "        np.logical_and(notebooks.nbformat == 4, notebooks.lang_name == 'python')\n",
    "    ].lang_version.isna()) / len(\n",
    "        notebooks[np.logical_and(notebooks.nbformat == 4, notebooks.lang_name == 'python')]\n",
    "    ), 2)\n",
    "))"
   ]
  },
  {
   "cell_type": "markdown",
   "metadata": {},
   "source": [
    "Only 0.32% of nbformat 4 notebooks have a missing language version. However, *98.2%* of nbformat 3 notebooks and *99.6%* of nbformat 2 notbooks are mising language version. Further, nbformat 2 notebooks were prominent from 2011 to 2012, and nbformat 3 notebooks from 2012 to 2015. These years overlab with the releases of Python 3.3 and 3.4, when they were new and likely used a lot.\n",
    "\n",
    "Visually inspecting some nbformat 3 notebooks, there is a place in the json where language_version *should* be, but is only actually there and found 1.7% of the time. It's highly unlikely that Python 3.3 and 3.4 are actually as unpopular as shown above."
   ]
  },
  {
   "cell_type": "markdown",
   "metadata": {},
   "source": [
    "## Version use over time\n",
    "***Keep in mind that counts are likely missing for python 3.3 and 3.4!***"
   ]
  },
  {
   "cell_type": "code",
   "execution_count": 18,
   "metadata": {},
   "outputs": [
    {
     "name": "stdout",
     "output_type": "stream",
     "text": [
      "0:00:01.641883\n"
     ]
    }
   ],
   "source": [
    "start = datetime.datetime.now()\n",
    "\n",
    "yearly_version_counts = notebooks[notebooks['lang_name']=='python'].groupby(['pushed_year', 'python_version'])['file']\\\n",
    "    .count().reset_index().rename(columns={'file':'count'})\n",
    "yearly_totals = yearly_version_counts.groupby('pushed_year')[['count']].sum().reset_index().rename(columns={'count':'total'})\n",
    "yearly_version_counts = yearly_version_counts.merge(yearly_totals, on = 'pushed_year')\n",
    "yearly_version_counts['prop'] = yearly_version_counts['count']/yearly_version_counts['total']\n",
    "\n",
    "end = datetime.datetime.now()\n",
    "print(end - start)"
   ]
  },
  {
   "cell_type": "code",
   "execution_count": 19,
   "metadata": {},
   "outputs": [
    {
     "name": "stdout",
     "output_type": "stream",
     "text": [
      "0:00:00.023200\n"
     ]
    }
   ],
   "source": [
    "start_time = datetime.datetime.now()\n",
    "\n",
    "all_counts = []\n",
    "start = yearly_version_counts.pushed_year.min()\n",
    "end = yearly_version_counts.pushed_year.max()\n",
    "\n",
    "# fill in zeros\n",
    "for version in [2.7, 3.4, 3.5, 3.6, 3.7]:\n",
    "    version_counts = yearly_version_counts.copy()[yearly_version_counts['python_version']==version]\n",
    "    to_append = {'pushed_year':[], 'count': [], 'prop':[], 'version':[]}\n",
    "    for year in range(start,end):\n",
    "        if year not in version_counts['pushed_year'].values:\n",
    "            to_append['pushed_year'].append(year)\n",
    "            to_append['count'].append(0)\n",
    "            to_append['prop'].append(0)\n",
    "            to_append['version'].append(version)\n",
    "    to_append_df = pd.DataFrame(to_append)            \n",
    "    if len(to_append_df) > 0:\n",
    "        version_counts = pd.concat(\n",
    "            [version_counts, to_append_df], sort = False\n",
    "        ).sort_values(by='pushed_year')\n",
    "    version_counts['version'] = [version]*len(version_counts)\n",
    "    all_counts.append(version_counts)\n",
    "    \n",
    "end_time = datetime.datetime.now()\n",
    "print(end_time - start_time)"
   ]
  },
  {
   "cell_type": "markdown",
   "metadata": {},
   "source": [
    "Plot Python versions over time, yearly and then monthly"
   ]
  },
  {
   "cell_type": "code",
   "execution_count": 20,
   "metadata": {},
   "outputs": [
    {
     "data": {
      "image/png": "[encoded data removed]",
      "text/plain": [
       "<Figure size 504x360 with 1 Axes>"
      ]
     },
     "metadata": {
      "needs_background": "light"
     },
     "output_type": "display_data"
    }
   ],
   "source": [
    "fig = plt.figure(figsize = (7, 5))\n",
    "for version in all_counts:\n",
    "    plt.plot(\n",
    "        version.pushed_year, version.prop, \n",
    "        label = version.version.iloc[0],\n",
    "    )\n",
    "\n",
    "plt.xlabel('Year')\n",
    "plt.ylabel('Proportion of Notebooks in Given Year')\n",
    "plt.title('Python Versions over Time')\n",
    "plt.legend(bbox_to_anchor=(1.16, 1.02))\n",
    "plt.show()"
   ]
  },
  {
   "cell_type": "markdown",
   "metadata": {},
   "source": [
    "[Notebook Popularity &lt;](1_Popularity.ipynb) | [&gt; Notebook Owners](3_Owners.ipynb)"
   ]
  }
 ],
 "metadata": {
  "anaconda-cloud": {},
  "kernelspec": {
   "display_name": "Python 3",
   "language": "python",
   "name": "python3"
  },
  "language_info": {
   "codemirror_mode": {
    "name": "ipython",
    "version": 3
   },
   "file_extension": ".py",
   "mimetype": "text/x-python",
   "name": "python",
   "nbconvert_exporter": "python",
   "pygments_lexer": "ipython3",
   "version": "3.7.3"
  }
 },
 "nbformat": 4,
 "nbformat_minor": 4
}
