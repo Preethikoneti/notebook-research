{
 "cells": [
  {
   "cell_type": "markdown",
   "metadata": {},
   "source": [
    "# What programming languages are people using currently and what is their growth?"
   ]
  },
  {
   "cell_type": "markdown",
   "metadata": {},
   "source": [
    "- Python is consistently the most popular programming language for Jupyter notebooks. There are over 100 times more notebooks written in Python than there are in the next most popular language, Julia. Julia and R are very close in popularity. Many other languages are used (e.g. scala, bash, c++, ruby), but with minimal frequency. \n",
    "\n",
    "- The relative popularities of these languages do not change over time (that is, popularity scaled for overall increase in number of notebooks does not change).\n",
    "\n",
    "- The overall growth in notebook usage (which closely matches the growth within each language) followed an exponential pattern until the last two months, when the number of notebooks has spiked.\n",
    "-------------"
   ]
  },
  {
   "cell_type": "code",
   "execution_count": 1,
   "metadata": {},
   "outputs": [],
   "source": [
    "import pandas as pd\n",
    "import numpy as np\n",
    "import matplotlib.pyplot as plt\n",
    "import matplotlib\n",
    "import statistics\n",
    "import math\n",
    "import altair as alt\n",
    "import calendar\n",
    "import statsmodels.api as sm\n",
    "import statsmodels\n"
   ]
  },
  {
   "cell_type": "code",
   "execution_count": 2,
   "metadata": {},
   "outputs": [],
   "source": [
    "import load_data\n",
    "notebooks, cells, owners, readmes, repos = load_data.load()"
   ]
  },
  {
   "cell_type": "code",
   "execution_count": 3,
   "metadata": {},
   "outputs": [],
   "source": [
    "python_versions_strings = notebooks[notebooks.lang_name == 'python'].lang_version\n",
    "str_to_version = {}\n",
    "for p in python_versions_strings.unique():\n",
    "    if p == 'nan':\n",
    "        str_to_version[p] = ''\n",
    "    else:\n",
    "        str_to_version[p] = float('.'.join(str(p).split('.')[0:2]))"
   ]
  },
  {
   "cell_type": "code",
   "execution_count": 4,
   "metadata": {},
   "outputs": [],
   "source": [
    "DATE_CHOICE = 'pushed_at' # other option: created_at"
   ]
  },
  {
   "cell_type": "code",
   "execution_count": 5,
   "metadata": {},
   "outputs": [
    {
     "data": {
      "text/html": [
       "<div>\n",
       "<style scoped>\n",
       "    .dataframe tbody tr th:only-of-type {\n",
       "        vertical-align: middle;\n",
       "    }\n",
       "\n",
       "    .dataframe tbody tr th {\n",
       "        vertical-align: top;\n",
       "    }\n",
       "\n",
       "    .dataframe thead th {\n",
       "        text-align: right;\n",
       "    }\n",
       "</style>\n",
       "<table border=\"1\" class=\"dataframe\">\n",
       "  <thead>\n",
       "    <tr style=\"text-align: right;\">\n",
       "      <th></th>\n",
       "      <th>file</th>\n",
       "      <th>lang_name</th>\n",
       "      <th>python_version</th>\n",
       "      <th>pushed_at</th>\n",
       "      <th>month</th>\n",
       "      <th>year</th>\n",
       "    </tr>\n",
       "  </thead>\n",
       "  <tbody>\n",
       "    <tr>\n",
       "      <th>0</th>\n",
       "      <td>danielcorbett..pyoz..scratchwork..notebooks..p...</td>\n",
       "      <td>python</td>\n",
       "      <td>3.5</td>\n",
       "      <td>2019-07-10 00:08:32+00:00</td>\n",
       "      <td>7</td>\n",
       "      <td>2019</td>\n",
       "    </tr>\n",
       "    <tr>\n",
       "      <th>1</th>\n",
       "      <td>douglaswinstonr..rideshare_apps_price_mining.....</td>\n",
       "      <td>python</td>\n",
       "      <td>3.7</td>\n",
       "      <td>2019-07-11 12:08:21+00:00</td>\n",
       "      <td>7</td>\n",
       "      <td>2019</td>\n",
       "    </tr>\n",
       "    <tr>\n",
       "      <th>2</th>\n",
       "      <td>Flare-k..rokkyw..khukyw_Python...ipynb_checkpo...</td>\n",
       "      <td>NaN</td>\n",
       "      <td></td>\n",
       "      <td>2019-07-03 14:23:42+00:00</td>\n",
       "      <td>7</td>\n",
       "      <td>2019</td>\n",
       "    </tr>\n",
       "    <tr>\n",
       "      <th>3</th>\n",
       "      <td>Flare-k..rokkyw..khukyw_Python..Step_02_Variab...</td>\n",
       "      <td>python</td>\n",
       "      <td>3.7</td>\n",
       "      <td>2019-07-03 14:23:42+00:00</td>\n",
       "      <td>7</td>\n",
       "      <td>2019</td>\n",
       "    </tr>\n",
       "    <tr>\n",
       "      <th>4</th>\n",
       "      <td>vishalrajak..Machine-Learning-and-AI..NLP..nlp...</td>\n",
       "      <td>python</td>\n",
       "      <td>3.7</td>\n",
       "      <td>2019-07-11 02:54:42+00:00</td>\n",
       "      <td>7</td>\n",
       "      <td>2019</td>\n",
       "    </tr>\n",
       "  </tbody>\n",
       "</table>\n",
       "</div>"
      ],
      "text/plain": [
       "                                                file lang_name python_version  \\\n",
       "0  danielcorbett..pyoz..scratchwork..notebooks..p...    python            3.5   \n",
       "1  douglaswinstonr..rideshare_apps_price_mining.....    python            3.7   \n",
       "2  Flare-k..rokkyw..khukyw_Python...ipynb_checkpo...       NaN                  \n",
       "3  Flare-k..rokkyw..khukyw_Python..Step_02_Variab...    python            3.7   \n",
       "4  vishalrajak..Machine-Learning-and-AI..NLP..nlp...    python            3.7   \n",
       "\n",
       "                  pushed_at  month  year  \n",
       "0 2019-07-10 00:08:32+00:00      7  2019  \n",
       "1 2019-07-11 12:08:21+00:00      7  2019  \n",
       "2 2019-07-03 14:23:42+00:00      7  2019  \n",
       "3 2019-07-03 14:23:42+00:00      7  2019  \n",
       "4 2019-07-11 02:54:42+00:00      7  2019  "
      ]
     },
     "execution_count": 5,
     "metadata": {},
     "output_type": "execute_result"
    }
   ],
   "source": [
    "notebooks['python_version'] = ['' if p.lang_name != 'python' else str_to_version[p.lang_version] for i, p in notebooks.iterrows()]\n",
    "over_time = notebooks.merge(repos, on = 'repo_id')[['file','lang_name','python_version',DATE_CHOICE]]\n",
    "over_time[DATE_CHOICE] = pd.to_datetime(over_time[DATE_CHOICE])\n",
    "over_time['month'] = [c.month for c in over_time[DATE_CHOICE]]\n",
    "over_time['year'] = [c.year for c in over_time[DATE_CHOICE]]\n",
    "over_time.head()"
   ]
  },
  {
   "cell_type": "markdown",
   "metadata": {},
   "source": [
    "# Language Use\n",
    "What programming langugages are the most popular to use with Jupyter notebooks?"
   ]
  },
  {
   "cell_type": "code",
   "execution_count": 6,
   "metadata": {},
   "outputs": [],
   "source": [
    "counts = notebooks.groupby('lang_name')['file'].count().sort_values(ascending=False).reset_index().rename(\n",
    "    columns = {'file':'count'}\n",
    ")"
   ]
  },
  {
   "cell_type": "code",
   "execution_count": 7,
   "metadata": {},
   "outputs": [
    {
     "name": "stdout",
     "output_type": "stream",
     "text": [
      "80.64% of notebooks have a specified language.\n",
      "Of these, 97.9% are written in python, 0.66% Julia, and 0.56% R.\n"
     ]
    }
   ],
   "source": [
    "notebooks_has_lang = notebooks[~notebooks.lang_name.isna()]\n",
    "print(\"{0}% of notebooks have a specified language.\".format(\n",
    "    round(100*len(notebooks_has_lang)/len(notebooks), 2)\n",
    "))\n",
    "\n",
    "print(\"Of these, {0}% are written in python, {1}% Julia, and {2}% R.\".format(\n",
    "    round(100*sum(notebooks_has_lang.lang_name == 'python') / len(notebooks_has_lang), 2),\n",
    "    round(100*sum(notebooks_has_lang.lang_name == 'julia') / len(notebooks_has_lang), 2),\n",
    "    round(100*sum(notebooks_has_lang.lang_name == 'r') / len(notebooks_has_lang), 2)\n",
    "))"
   ]
  },
  {
   "cell_type": "code",
   "execution_count": 8,
   "metadata": {},
   "outputs": [
    {
     "data": {
      "application/vnd.vegalite.v3+json": {
       "$schema": "https://vega.github.io/schema/vega-lite/v3.3.0.json",
       "config": {
        "mark": {
         "tooltip": null
        },
        "view": {
         "height": 300,
         "width": 400
        }
       },
       "data": {
        "name": "data-c44fe3d399cfd214da95e39d1343d592"
       },
       "datasets": {
        "data-c44fe3d399cfd214da95e39d1343d592": [
         {
          "count": 23987,
          "lang_name": "python"
         },
         {
          "count": 161,
          "lang_name": "julia"
         },
         {
          "count": 137,
          "lang_name": "r"
         },
         {
          "count": 35,
          "lang_name": "groovy"
         },
         {
          "count": 28,
          "lang_name": "scala"
         },
         {
          "count": 21,
          "lang_name": "bash"
         },
         {
          "count": 14,
          "lang_name": "scala211"
         },
         {
          "count": 14,
          "lang_name": "c++"
         },
         {
          "count": 13,
          "lang_name": "ruby"
         },
         {
          "count": 12,
          "lang_name": "matlab"
         },
         {
          "count": 10,
          "lang_name": "pyspark"
         },
         {
          "count": 9,
          "lang_name": "haskell"
         },
         {
          "count": 8,
          "lang_name": "javascript"
         },
         {
          "count": 7,
          "lang_name": "spad"
         },
         {
          "count": 6,
          "lang_name": "java"
         },
         {
          "count": 6,
          "lang_name": "octave"
         },
         {
          "count": 6,
          "lang_name": "lua"
         },
         {
          "count": 4,
          "lang_name": "fsharp"
         },
         {
          "count": 4,
          "lang_name": "sos"
         },
         {
          "count": 3,
          "lang_name": "ocaml"
         },
         {
          "count": 2,
          "lang_name": "php"
         },
         {
          "count": 2,
          "lang_name": "pyspark3"
         },
         {
          "count": 2,
          "lang_name": "scala212"
         },
         {
          "count": 1,
          "lang_name": "maxima"
         },
         {
          "count": 1,
          "lang_name": "micropython"
         },
         {
          "count": 1,
          "lang_name": "sql"
         },
         {
          "count": 1,
          "lang_name": "polymake"
         },
         {
          "count": 1,
          "lang_name": "q"
         },
         {
          "count": 1,
          "lang_name": "qsharp"
         },
         {
          "count": 1,
          "lang_name": "go"
         },
         {
          "count": 1,
          "lang_name": "scala210"
         },
         {
          "count": 1,
          "lang_name": "chatbot"
         },
         {
          "count": 1,
          "lang_name": "ssh"
         }
        ]
       },
       "encoding": {
        "x": {
         "field": "lang_name",
         "sort": {
          "field": "count",
          "op": "sum",
          "order": "descending"
         },
         "title": "Language",
         "type": "nominal"
        },
        "y": {
         "field": "count",
         "scale": {
          "type": "log"
         },
         "title": "Number of Notebooks",
         "type": "quantitative"
        }
       },
       "mark": {
        "color": "teal",
        "type": "bar"
       },
       "title": "Language Distribution"
      },
      "image/png": "[encoded data removed]",
      "text/plain": [
       "<VegaLite 3 object>\n",
       "\n",
       "If you see this message, it means the renderer has not been properly enabled\n",
       "for the frontend that you are using. For more information, see\n",
       "https://altair-viz.github.io/user_guide/troubleshooting.html\n"
      ]
     },
     "execution_count": 8,
     "metadata": {},
     "output_type": "execute_result"
    }
   ],
   "source": [
    "alt.Chart(counts, title = 'Language Distribution').mark_bar(color = 'teal').encode(\n",
    "    alt.X('lang_name', \n",
    "          sort = alt.EncodingSortField(field=\"count\", op=\"sum\",order=\"descending\"),\n",
    "          title='Language'\n",
    "    ),\n",
    "    alt.Y('count', \n",
    "          scale = alt.Scale(type='log'),\n",
    "          title='Number of Notebooks'\n",
    "    )\n",
    ")"
   ]
  },
  {
   "cell_type": "markdown",
   "metadata": {},
   "source": [
    "Clearly, Python is the language of choice. Python has nearly 100 times more notebooks than Julia or R, the next most popular languages."
   ]
  },
  {
   "cell_type": "markdown",
   "metadata": {},
   "source": [
    "# Language Use Over Time\n",
    "How have relative popularities of langages canged over time?"
   ]
  },
  {
   "cell_type": "code",
   "execution_count": 8,
   "metadata": {},
   "outputs": [],
   "source": [
    "start = over_time.year.min()\n",
    "end = over_time.year.max()"
   ]
  },
  {
   "cell_type": "code",
   "execution_count": 9,
   "metadata": {},
   "outputs": [],
   "source": [
    "def lang_over_time(language):\n",
    "    language_over_time = over_time[over_time.lang_name == language]\n",
    "    language_yearly_counts = language_over_time.groupby('year')['file'].count().reset_index().rename(columns={'file':'count'})\n",
    "    to_append = {'year':[], 'count':[]}\n",
    "    for y in range(start, end):\n",
    "        if y not in language_yearly_counts['year'].values:\n",
    "            to_append['year'].append(y)\n",
    "            to_append['count'].append(0)\n",
    "    to_append_df = pd.DataFrame(to_append)\n",
    "    language_yearly_counts = pd.concat([language_yearly_counts, to_append_df], sort = False).sort_values(by='year')\n",
    "    totals = over_time.groupby('year')['file'].count().reset_index().rename(columns={'file':'total'})\n",
    "    language_yearly_counts = language_yearly_counts.merge(totals, on = 'year')\n",
    "    language_yearly_counts['language'] = language\n",
    "    return language_yearly_counts"
   ]
  },
  {
   "cell_type": "code",
   "execution_count": 10,
   "metadata": {},
   "outputs": [
    {
     "data": {
      "application/vnd.vegalite.v3+json": {
       "$schema": "https://vega.github.io/schema/vega-lite/v3.3.0.json",
       "config": {
        "mark": {
         "tooltip": null
        },
        "view": {
         "height": 300,
         "width": 400
        }
       },
       "data": {
        "name": "data-46b96ceaa69ba118c958890bb3fbcee6"
       },
       "datasets": {
        "data-46b96ceaa69ba118c958890bb3fbcee6": [
         {
          "count": 13,
          "language": "python",
          "prop": 1,
          "total": 13,
          "year": 2012
         },
         {
          "count": 134,
          "language": "python",
          "prop": 1,
          "total": 134,
          "year": 2013
         },
         {
          "count": 744,
          "language": "python",
          "prop": 0.9763779527559056,
          "total": 762,
          "year": 2014
         },
         {
          "count": 1055,
          "language": "python",
          "prop": 0.943649373881932,
          "total": 1118,
          "year": 2015
         },
         {
          "count": 2970,
          "language": "python",
          "prop": 0.9491850431447747,
          "total": 3129,
          "year": 2016
         },
         {
          "count": 8436,
          "language": "python",
          "prop": 0.9527896995708155,
          "total": 8854,
          "year": 2017
         },
         {
          "count": 18751,
          "language": "python",
          "prop": 0.9577587087547247,
          "total": 19578,
          "year": 2018
         },
         {
          "count": 23015,
          "language": "python",
          "prop": 0.965839942926686,
          "total": 23829,
          "year": 2019
         },
         {
          "count": 0,
          "language": "julia",
          "prop": 0,
          "total": 13,
          "year": 2012
         },
         {
          "count": 0,
          "language": "julia",
          "prop": 0,
          "total": 134,
          "year": 2013
         },
         {
          "count": 0,
          "language": "julia",
          "prop": 0,
          "total": 762,
          "year": 2014
         },
         {
          "count": 18,
          "language": "julia",
          "prop": 0.016100178890876567,
          "total": 1118,
          "year": 2015
         },
         {
          "count": 27,
          "language": "julia",
          "prop": 0.00862895493767977,
          "total": 3129,
          "year": 2016
         },
         {
          "count": 78,
          "language": "julia",
          "prop": 0.008809577592048791,
          "total": 8854,
          "year": 2017
         },
         {
          "count": 119,
          "language": "julia",
          "prop": 0.006078251098171417,
          "total": 19578,
          "year": 2018
         },
         {
          "count": 119,
          "language": "julia",
          "prop": 0.0049939149775483655,
          "total": 23829,
          "year": 2019
         },
         {
          "count": 0,
          "language": "r",
          "prop": 0,
          "total": 13,
          "year": 2012
         },
         {
          "count": 0,
          "language": "r",
          "prop": 0,
          "total": 134,
          "year": 2013
         },
         {
          "count": 0,
          "language": "r",
          "prop": 0,
          "total": 762,
          "year": 2014
         },
         {
          "count": 0,
          "language": "r",
          "prop": 0,
          "total": 1118,
          "year": 2015
         },
         {
          "count": 0,
          "language": "r",
          "prop": 0,
          "total": 3129,
          "year": 2016
         },
         {
          "count": 0,
          "language": "r",
          "prop": 0,
          "total": 8854,
          "year": 2017
         },
         {
          "count": 0,
          "language": "r",
          "prop": 0,
          "total": 19578,
          "year": 2018
         }
        ]
       },
       "encoding": {
        "color": {
         "field": "language",
         "scale": {
          "domain": [
           "julia",
           "python",
           "r"
          ],
          "range": [
           "#8A5D9F",
           "#F9D25B",
           "#2A65B3"
          ]
         },
         "title": "Language",
         "type": "nominal"
        },
        "x": {
         "field": "year",
         "title": "Year",
         "type": "ordinal"
        },
        "y": {
         "field": "count",
         "title": "Number of Notebooks",
         "type": "quantitative"
        }
       },
       "mark": "line",
       "title": "Language Use Over Time",
       "width": 400
      },
      "image/png": "[encoded data removed]",
      "text/plain": [
       "<VegaLite 3 object>\n",
       "\n",
       "If you see this message, it means the renderer has not been properly enabled\n",
       "for the frontend that you are using. For more information, see\n",
       "https://altair-viz.github.io/user_guide/troubleshooting.html\n"
      ]
     },
     "execution_count": 10,
     "metadata": {},
     "output_type": "execute_result"
    }
   ],
   "source": [
    "py_counts = lang_over_time('python')\n",
    "ju_counts = lang_over_time('julia')\n",
    "r_counts = lang_over_time('r')\n",
    "\n",
    "lang_counts = pd.concat([py_counts, ju_counts, r_counts])\n",
    "lang_counts['prop'] = lang_counts['count']/lang_counts['total']\n",
    "\n",
    "alt.Chart(lang_counts, width = 400, title = 'Language Use Over Time').mark_line().encode(\n",
    "    alt.X('year:O', title = 'Year'),\n",
    "    alt.Y('count', title = 'Number of Notebooks'),\n",
    "    alt.Color('language', \n",
    "              scale = alt.Scale(domain = ['julia','python','r'], range = ['#8A5D9F','#F9D25B','#2A65B3']),\n",
    "              title = 'Language'\n",
    "    )\n",
    ")"
   ]
  },
  {
   "cell_type": "markdown",
   "metadata": {},
   "source": [
    "Python has always been the most popular language. The number of notebooks written in each language grows as the total number of notebooks written does, so let's instead look at the proportion within each year."
   ]
  },
  {
   "cell_type": "code",
   "execution_count": 11,
   "metadata": {},
   "outputs": [
    {
     "data": {
      "application/vnd.vegalite.v3+json": {
       "$schema": "https://vega.github.io/schema/vega-lite/v3.3.0.json",
       "config": {
        "mark": {
         "tooltip": null
        },
        "view": {
         "height": 300,
         "width": 400
        }
       },
       "data": {
        "name": "data-46b96ceaa69ba118c958890bb3fbcee6"
       },
       "datasets": {
        "data-46b96ceaa69ba118c958890bb3fbcee6": [
         {
          "count": 13,
          "language": "python",
          "prop": 1,
          "total": 13,
          "year": 2012
         },
         {
          "count": 134,
          "language": "python",
          "prop": 1,
          "total": 134,
          "year": 2013
         },
         {
          "count": 744,
          "language": "python",
          "prop": 0.9763779527559056,
          "total": 762,
          "year": 2014
         },
         {
          "count": 1055,
          "language": "python",
          "prop": 0.943649373881932,
          "total": 1118,
          "year": 2015
         },
         {
          "count": 2970,
          "language": "python",
          "prop": 0.9491850431447747,
          "total": 3129,
          "year": 2016
         },
         {
          "count": 8436,
          "language": "python",
          "prop": 0.9527896995708155,
          "total": 8854,
          "year": 2017
         },
         {
          "count": 18751,
          "language": "python",
          "prop": 0.9577587087547247,
          "total": 19578,
          "year": 2018
         },
         {
          "count": 23015,
          "language": "python",
          "prop": 0.965839942926686,
          "total": 23829,
          "year": 2019
         },
         {
          "count": 0,
          "language": "julia",
          "prop": 0,
          "total": 13,
          "year": 2012
         },
         {
          "count": 0,
          "language": "julia",
          "prop": 0,
          "total": 134,
          "year": 2013
         },
         {
          "count": 0,
          "language": "julia",
          "prop": 0,
          "total": 762,
          "year": 2014
         },
         {
          "count": 18,
          "language": "julia",
          "prop": 0.016100178890876567,
          "total": 1118,
          "year": 2015
         },
         {
          "count": 27,
          "language": "julia",
          "prop": 0.00862895493767977,
          "total": 3129,
          "year": 2016
         },
         {
          "count": 78,
          "language": "julia",
          "prop": 0.008809577592048791,
          "total": 8854,
          "year": 2017
         },
         {
          "count": 119,
          "language": "julia",
          "prop": 0.006078251098171417,
          "total": 19578,
          "year": 2018
         },
         {
          "count": 119,
          "language": "julia",
          "prop": 0.0049939149775483655,
          "total": 23829,
          "year": 2019
         },
         {
          "count": 0,
          "language": "r",
          "prop": 0,
          "total": 13,
          "year": 2012
         },
         {
          "count": 0,
          "language": "r",
          "prop": 0,
          "total": 134,
          "year": 2013
         },
         {
          "count": 0,
          "language": "r",
          "prop": 0,
          "total": 762,
          "year": 2014
         },
         {
          "count": 0,
          "language": "r",
          "prop": 0,
          "total": 1118,
          "year": 2015
         },
         {
          "count": 0,
          "language": "r",
          "prop": 0,
          "total": 3129,
          "year": 2016
         },
         {
          "count": 0,
          "language": "r",
          "prop": 0,
          "total": 8854,
          "year": 2017
         },
         {
          "count": 0,
          "language": "r",
          "prop": 0,
          "total": 19578,
          "year": 2018
         }
        ]
       },
       "encoding": {
        "color": {
         "field": "language",
         "scale": {
          "domain": [
           "julia",
           "python",
           "r"
          ],
          "range": [
           "#8A5D9F",
           "#F9D25B",
           "#2A65B3"
          ]
         },
         "title": "Language",
         "type": "nominal"
        },
        "x": {
         "field": "year",
         "title": "Year",
         "type": "ordinal"
        },
        "y": {
         "field": "prop",
         "title": "Proportion of Notebooks",
         "type": "quantitative"
        }
       },
       "mark": "line",
       "title": "Language Use Over Time",
       "width": 400
      },
      "image/png": "[encoded data removed]",
      "text/plain": [
       "<VegaLite 3 object>\n",
       "\n",
       "If you see this message, it means the renderer has not been properly enabled\n",
       "for the frontend that you are using. For more information, see\n",
       "https://altair-viz.github.io/user_guide/troubleshooting.html\n"
      ]
     },
     "execution_count": 11,
     "metadata": {},
     "output_type": "execute_result"
    }
   ],
   "source": [
    "alt.Chart(lang_counts, width = 400, title = 'Language Use Over Time').mark_line().encode(\n",
    "    alt.X('year:O', title = 'Year'),\n",
    "    alt.Y('prop', title = 'Proportion of Notebooks'),\n",
    "    alt.Color('language', \n",
    "              scale = alt.Scale(domain = ['julia','python','r'], range = ['#8A5D9F','#F9D25B','#2A65B3']),\n",
    "              title = 'Language'\n",
    "    )\n",
    ")"
   ]
  },
  {
   "cell_type": "markdown",
   "metadata": {},
   "source": [
    "Here we see the same thing, that nearly all notebooks are written in Python, and this popularity has not fluxuated that much over time. It's difficult to see the difference between the lines for Julia and R, so lets zoom in on those."
   ]
  },
  {
   "cell_type": "code",
   "execution_count": 12,
   "metadata": {},
   "outputs": [
    {
     "data": {
      "application/vnd.vegalite.v3+json": {
       "$schema": "https://vega.github.io/schema/vega-lite/v3.3.0.json",
       "config": {
        "mark": {
         "tooltip": null
        },
        "view": {
         "height": 300,
         "width": 400
        }
       },
       "data": {
        "name": "data-e3e93a893a2355b810e98db13ea9e42b"
       },
       "datasets": {
        "data-e3e93a893a2355b810e98db13ea9e42b": [
         {
          "count": 0,
          "language": "julia",
          "prop": 0,
          "total": 13,
          "year": 2012
         },
         {
          "count": 0,
          "language": "julia",
          "prop": 0,
          "total": 134,
          "year": 2013
         },
         {
          "count": 0,
          "language": "julia",
          "prop": 0,
          "total": 762,
          "year": 2014
         },
         {
          "count": 18,
          "language": "julia",
          "prop": 0.016100178890876567,
          "total": 1118,
          "year": 2015
         },
         {
          "count": 27,
          "language": "julia",
          "prop": 0.00862895493767977,
          "total": 3129,
          "year": 2016
         },
         {
          "count": 78,
          "language": "julia",
          "prop": 0.008809577592048791,
          "total": 8854,
          "year": 2017
         },
         {
          "count": 119,
          "language": "julia",
          "prop": 0.006078251098171417,
          "total": 19578,
          "year": 2018
         },
         {
          "count": 119,
          "language": "julia",
          "prop": 0.0049939149775483655,
          "total": 23829,
          "year": 2019
         },
         {
          "count": 0,
          "language": "r",
          "prop": 0,
          "total": 13,
          "year": 2012
         },
         {
          "count": 0,
          "language": "r",
          "prop": 0,
          "total": 134,
          "year": 2013
         },
         {
          "count": 0,
          "language": "r",
          "prop": 0,
          "total": 762,
          "year": 2014
         },
         {
          "count": 0,
          "language": "r",
          "prop": 0,
          "total": 1118,
          "year": 2015
         },
         {
          "count": 0,
          "language": "r",
          "prop": 0,
          "total": 3129,
          "year": 2016
         },
         {
          "count": 0,
          "language": "r",
          "prop": 0,
          "total": 8854,
          "year": 2017
         },
         {
          "count": 0,
          "language": "r",
          "prop": 0,
          "total": 19578,
          "year": 2018
         }
        ]
       },
       "encoding": {
        "color": {
         "field": "language",
         "scale": {
          "domain": [
           "julia",
           "r"
          ],
          "range": [
           "#8A5D9F",
           "#2A65B3"
          ]
         },
         "title": "Language",
         "type": "nominal"
        },
        "x": {
         "field": "year",
         "title": "Year",
         "type": "ordinal"
        },
        "y": {
         "field": "prop",
         "title": "Proportion of Notebooks",
         "type": "quantitative"
        }
       },
       "mark": "line",
       "title": "Language Use Over Time: Julia and R",
       "width": 400
      },
      "image/png": "[encoded data removed]",
      "text/plain": [
       "<VegaLite 3 object>\n",
       "\n",
       "If you see this message, it means the renderer has not been properly enabled\n",
       "for the frontend that you are using. For more information, see\n",
       "https://altair-viz.github.io/user_guide/troubleshooting.html\n"
      ]
     },
     "execution_count": 12,
     "metadata": {},
     "output_type": "execute_result"
    }
   ],
   "source": [
    "alt.Chart(\n",
    "    lang_counts[lang_counts['language'] != 'python'], \n",
    "    width = 400, \n",
    "    title = 'Language Use Over Time: Julia and R'\n",
    ").mark_line().encode(\n",
    "    alt.X('year:O', title = 'Year'),\n",
    "    alt.Y('prop', title = 'Proportion of Notebooks'),\n",
    "    alt.Color('language', \n",
    "              scale = alt.Scale(domain = ['julia','r'], range = ['#8A5D9F','#2A65B3']),\n",
    "              title = 'Language'\n",
    "    )\n",
    ")"
   ]
  },
  {
   "cell_type": "markdown",
   "metadata": {},
   "source": [
    "# Python Version Use\n"
   ]
  },
  {
   "cell_type": "code",
   "execution_count": 13,
   "metadata": {},
   "outputs": [
    {
     "data": {
      "application/vnd.vegalite.v3+json": {
       "$schema": "https://vega.github.io/schema/vega-lite/v3.3.0.json",
       "config": {
        "mark": {
         "tooltip": null
        },
        "view": {
         "height": 300,
         "width": 400
        }
       },
       "data": {
        "name": "data-2ae0345fe12842ca22fa23ae8fcde7ab"
       },
       "datasets": {
        "data-2ae0345fe12842ca22fa23ae8fcde7ab": [
         {
          "counts": 10719,
          "version": 2.7
         },
         {
          "counts": 33,
          "version": 3.3
         },
         {
          "counts": 1215,
          "version": 3.4
         },
         {
          "counts": 9726,
          "version": 3.5
         },
         {
          "counts": 27736,
          "version": 3.6
         },
         {
          "counts": 6629,
          "version": 3.7
         }
        ]
       },
       "encoding": {
        "x": {
         "field": "version",
         "title": "Python Version",
         "type": "ordinal"
        },
        "y": {
         "field": "counts",
         "title": "Number of Notebooks",
         "type": "quantitative"
        }
       },
       "mark": {
        "color": "teal",
        "type": "bar"
       },
       "title": "Python Version Use",
       "width": 400
      },
      "image/png": "[encoded data removed]",
      "text/plain": [
       "<VegaLite 3 object>\n",
       "\n",
       "If you see this message, it means the renderer has not been properly enabled\n",
       "for the frontend that you are using. For more information, see\n",
       "https://altair-viz.github.io/user_guide/troubleshooting.html\n"
      ]
     },
     "execution_count": 13,
     "metadata": {},
     "output_type": "execute_result"
    }
   ],
   "source": [
    "counts = pd.Series(notebooks.python_version[notebooks.python_version != '']).value_counts()\n",
    "counts = pd.DataFrame(counts).reset_index().rename(columns={'index':'version','python_version':'counts'})\n",
    "counts.version = counts.version.astype('float')\n",
    "counts = counts.sort_values(by='version')\n",
    "\n",
    "alt.Chart(counts, width = 400, title = 'Python Version Use').mark_bar(color='teal').encode(\n",
    "    alt.X('version:O', title = \"Python Version\"),\n",
    "    alt.Y('counts', title = 'Number of Notebooks')\n",
    ")"
   ]
  },
  {
   "cell_type": "markdown",
   "metadata": {},
   "source": [
    "Python 3.6 is the most common within Jupyter notebooks. Almost no notebooks were written in Python 3.3 (released September 2012) or 3.4 (March 2014)."
   ]
  },
  {
   "cell_type": "code",
   "execution_count": 14,
   "metadata": {},
   "outputs": [
    {
     "data": {
      "text/html": [
       "<div>\n",
       "<style scoped>\n",
       "    .dataframe tbody tr th:only-of-type {\n",
       "        vertical-align: middle;\n",
       "    }\n",
       "\n",
       "    .dataframe tbody tr th {\n",
       "        vertical-align: top;\n",
       "    }\n",
       "\n",
       "    .dataframe thead th {\n",
       "        text-align: right;\n",
       "    }\n",
       "</style>\n",
       "<table border=\"1\" class=\"dataframe\">\n",
       "  <thead>\n",
       "    <tr style=\"text-align: right;\">\n",
       "      <th></th>\n",
       "      <th>year</th>\n",
       "      <th>python_version</th>\n",
       "      <th>count</th>\n",
       "      <th>total</th>\n",
       "      <th>prop</th>\n",
       "    </tr>\n",
       "  </thead>\n",
       "  <tbody>\n",
       "    <tr>\n",
       "      <th>0</th>\n",
       "      <td>2014</td>\n",
       "      <td>2.7</td>\n",
       "      <td>1</td>\n",
       "      <td>1</td>\n",
       "      <td>1.000000</td>\n",
       "    </tr>\n",
       "    <tr>\n",
       "      <th>1</th>\n",
       "      <td>2015</td>\n",
       "      <td>2.7</td>\n",
       "      <td>391</td>\n",
       "      <td>530</td>\n",
       "      <td>0.737736</td>\n",
       "    </tr>\n",
       "    <tr>\n",
       "      <th>2</th>\n",
       "      <td>2015</td>\n",
       "      <td>3.3</td>\n",
       "      <td>8</td>\n",
       "      <td>530</td>\n",
       "      <td>0.015094</td>\n",
       "    </tr>\n",
       "    <tr>\n",
       "      <th>3</th>\n",
       "      <td>2015</td>\n",
       "      <td>3.4</td>\n",
       "      <td>119</td>\n",
       "      <td>530</td>\n",
       "      <td>0.224528</td>\n",
       "    </tr>\n",
       "    <tr>\n",
       "      <th>4</th>\n",
       "      <td>2015</td>\n",
       "      <td>3.5</td>\n",
       "      <td>12</td>\n",
       "      <td>530</td>\n",
       "      <td>0.022642</td>\n",
       "    </tr>\n",
       "  </tbody>\n",
       "</table>\n",
       "</div>"
      ],
      "text/plain": [
       "   year  python_version  count  total      prop\n",
       "0  2014             2.7      1      1  1.000000\n",
       "1  2015             2.7    391    530  0.737736\n",
       "2  2015             3.3      8    530  0.015094\n",
       "3  2015             3.4    119    530  0.224528\n",
       "4  2015             3.5     12    530  0.022642"
      ]
     },
     "execution_count": 14,
     "metadata": {},
     "output_type": "execute_result"
    }
   ],
   "source": [
    "yearly_version_counts = over_time[over_time['lang_name']=='python'].groupby(['year', 'python_version'])['file']\\\n",
    "    .count().reset_index().rename(columns={'file':'count'})\n",
    "yearly_totals = yearly_version_counts.groupby('year')[['count']].sum().reset_index().rename(columns={'count':'total'})\n",
    "yearly_version_counts = yearly_version_counts.merge(yearly_totals, on = 'year')\n",
    "yearly_version_counts['prop'] = yearly_version_counts['count']/yearly_version_counts['total']\n",
    "yearly_version_counts.head()"
   ]
  },
  {
   "cell_type": "code",
   "execution_count": 15,
   "metadata": {},
   "outputs": [
    {
     "name": "stderr",
     "output_type": "stream",
     "text": [
      "/Library/Frameworks/Python.framework/Versions/3.7/lib/python3.7/site-packages/ipykernel_launcher.py:17: SettingWithCopyWarning: \n",
      "A value is trying to be set on a copy of a slice from a DataFrame.\n",
      "Try using .loc[row_indexer,col_indexer] = value instead\n",
      "\n",
      "See the caveats in the documentation: http://pandas.pydata.org/pandas-docs/stable/indexing.html#indexing-view-versus-copy\n"
     ]
    }
   ],
   "source": [
    "all_counts = pd.DataFrame({'year':[], 'count':[], 'prop':[], 'version':[]})\n",
    "start = yearly_version_counts.year.min()\n",
    "end = yearly_version_counts.year.max()\n",
    "    \n",
    "for version in [2.7, 3.4, 3.5, 3.6, 3.7]:\n",
    "    version_counts = yearly_version_counts[yearly_version_counts['python_version']==version]\n",
    "    to_append = {'year':[], 'count': [], 'prop':[], 'version':[]}\n",
    "    for year in range(start,end):\n",
    "        if year not in version_counts['year'].values:\n",
    "            to_append['year'].append(year)\n",
    "            to_append['count'].append(0)\n",
    "            to_append['prop'].append(0)\n",
    "            to_append['version'].append(version)\n",
    "    to_append_df = pd.DataFrame(to_append)            \n",
    "    if len(to_append_df) > 0:\n",
    "        version_counts = pd.concat([version_counts, to_append_df], sort = False).sort_values(by='year')\n",
    "    version_counts['version'] = [version]*len(version_counts)\n",
    "    all_counts = pd.concat([all_counts, version_counts], sort = False)"
   ]
  },
  {
   "cell_type": "code",
   "execution_count": 16,
   "metadata": {},
   "outputs": [
    {
     "data": {
      "application/vnd.vegalite.v3+json": {
       "$schema": "https://vega.github.io/schema/vega-lite/v3.3.0.json",
       "config": {
        "mark": {
         "tooltip": null
        },
        "view": {
         "height": 300,
         "width": 400
        }
       },
       "data": {
        "name": "data-4e484e2f034a03395c0ddb8f761789dc"
       },
       "datasets": {
        "data-4e484e2f034a03395c0ddb8f761789dc": [
         {
          "count": 1,
          "prop": 1,
          "python_version": 2.7,
          "total": 1,
          "version": 2.7,
          "year": 2014
         },
         {
          "count": 391,
          "prop": 0.7377358490566037,
          "python_version": 2.7,
          "total": 530,
          "version": 2.7,
          "year": 2015
         },
         {
          "count": 1691,
          "prop": 0.6333333333333333,
          "python_version": 2.7,
          "total": 2670,
          "version": 2.7,
          "year": 2016
         },
         {
          "count": 3018,
          "prop": 0.377344336084021,
          "python_version": 2.7,
          "total": 7998,
          "version": 2.7,
          "year": 2017
         },
         {
          "count": 3000,
          "prop": 0.16235523325035178,
          "python_version": 2.7,
          "total": 18478,
          "version": 2.7,
          "year": 2018
         },
         {
          "count": 1798,
          "prop": 0.07923846458948482,
          "python_version": 2.7,
          "total": 22691,
          "version": 2.7,
          "year": 2019
         },
         {
          "count": 0,
          "prop": 0,
          "python_version": null,
          "total": null,
          "version": 3.4,
          "year": 2014
         },
         {
          "count": 119,
          "prop": 0.22452830188679246,
          "python_version": 3.4,
          "total": 530,
          "version": 3.4,
          "year": 2015
         },
         {
          "count": 211,
          "prop": 0.07902621722846442,
          "python_version": 3.4,
          "total": 2670,
          "version": 3.4,
          "year": 2016
         },
         {
          "count": 270,
          "prop": 0.03375843960990248,
          "python_version": 3.4,
          "total": 7998,
          "version": 3.4,
          "year": 2017
         },
         {
          "count": 370,
          "prop": 0.02002381210087672,
          "python_version": 3.4,
          "total": 18478,
          "version": 3.4,
          "year": 2018
         },
         {
          "count": 172,
          "prop": 0.00758009783614649,
          "python_version": 3.4,
          "total": 22691,
          "version": 3.4,
          "year": 2019
         },
         {
          "count": 0,
          "prop": 0,
          "python_version": null,
          "total": null,
          "version": 3.5,
          "year": 2014
         },
         {
          "count": 12,
          "prop": 0.022641509433962263,
          "python_version": 3.5,
          "total": 530,
          "version": 3.5,
          "year": 2015
         },
         {
          "count": 758,
          "prop": 0.28389513108614234,
          "python_version": 3.5,
          "total": 2670,
          "version": 3.5,
          "year": 2016
         },
         {
          "count": 2623,
          "prop": 0.3279569892473118,
          "python_version": 3.5,
          "total": 7998,
          "version": 3.5,
          "year": 2017
         },
         {
          "count": 3341,
          "prop": 0.18080961142980842,
          "python_version": 3.5,
          "total": 18478,
          "version": 3.5,
          "year": 2018
         },
         {
          "count": 2410,
          "prop": 0.10620951037856419,
          "python_version": 3.5,
          "total": 22691,
          "version": 3.5,
          "year": 2019
         },
         {
          "count": 0,
          "prop": 0,
          "python_version": null,
          "total": null,
          "version": 3.6,
          "year": 2014
         },
         {
          "count": 0,
          "prop": 0,
          "python_version": null,
          "total": null,
          "version": 3.6,
          "year": 2015
         },
         {
          "count": 3,
          "prop": 0.0011235955056179776,
          "python_version": 3.6,
          "total": 2670,
          "version": 3.6,
          "year": 2016
         },
         {
          "count": 2081,
          "prop": 0.26019004751187796,
          "python_version": 3.6,
          "total": 7998,
          "version": 3.6,
          "year": 2017
         },
         {
          "count": 11304,
          "prop": 0.6117545188873255,
          "python_version": 3.6,
          "total": 18478,
          "version": 3.6,
          "year": 2018
         },
         {
          "count": 12620,
          "prop": 0.5561676435591204,
          "python_version": 3.6,
          "total": 22691,
          "version": 3.6,
          "year": 2019
         },
         {
          "count": 0,
          "prop": 0,
          "python_version": null,
          "total": null,
          "version": 3.7,
          "year": 2014
         },
         {
          "count": 0,
          "prop": 0,
          "python_version": null,
          "total": null,
          "version": 3.7,
          "year": 2015
         },
         {
          "count": 0,
          "prop": 0,
          "python_version": null,
          "total": null,
          "version": 3.7,
          "year": 2016
         },
         {
          "count": 0,
          "prop": 0,
          "python_version": null,
          "total": null,
          "version": 3.7,
          "year": 2017
         },
         {
          "count": 458,
          "prop": 0.02478623227622037,
          "python_version": 3.7,
          "total": 18478,
          "version": 3.7,
          "year": 2018
         },
         {
          "count": 5689,
          "prop": 0.25071614296417083,
          "python_version": 3.7,
          "total": 22691,
          "version": 3.7,
          "year": 2019
         }
        ]
       },
       "encoding": {
        "color": {
         "field": "version",
         "scale": {
          "scheme": "yellowgreenblue"
         },
         "title": "Version",
         "type": "ordinal"
        },
        "x": {
         "field": "year",
         "title": "Year",
         "type": "ordinal"
        },
        "y": {
         "field": "prop",
         "title": "Proportion of Notebooks in Given Year",
         "type": "quantitative"
        }
       },
       "mark": {
        "strokeWidth": 3,
        "type": "line"
       },
       "title": "Python Versions over Time",
       "width": 500
      },
      "image/png": "[encoded data removed]",
      "text/plain": [
       "<VegaLite 3 object>\n",
       "\n",
       "If you see this message, it means the renderer has not been properly enabled\n",
       "for the frontend that you are using. For more information, see\n",
       "https://altair-viz.github.io/user_guide/troubleshooting.html\n"
      ]
     },
     "execution_count": 16,
     "metadata": {},
     "output_type": "execute_result"
    }
   ],
   "source": [
    "alt.Chart(all_counts, width = 500, title = \"Python Versions over Time\").mark_line(strokeWidth=3).encode(\n",
    "    alt.X('year:O', title='Year'),\n",
    "    alt.Y('prop', title='Proportion of Notebooks in Given Year'),\n",
    "    alt.Color('version:O', scale=alt.Scale(scheme='yellowgreenblue'), title = 'Version')\n",
    ")"
   ]
  },
  {
   "cell_type": "code",
   "execution_count": 17,
   "metadata": {},
   "outputs": [],
   "source": [
    "monthly_version_counts = over_time[over_time['lang_name']=='python'].groupby(['year', 'month', 'python_version'])['file']\\\n",
    "    .count().reset_index().rename(columns={'file':'count'})\n",
    "monthly_totals = monthly_version_counts.groupby(['year','month'])[['count']].sum().reset_index().rename(columns={'count':'total'})\n",
    "monthly_version_counts = monthly_version_counts.merge(monthly_totals, on = ['year','month'])\n",
    "monthly_version_counts['prop'] = monthly_version_counts['count']/monthly_version_counts['total']\n",
    "monthly_version_counts['time'] = [(int(r['year']), int(r['month'])) for _, r in monthly_version_counts.iterrows()]"
   ]
  },
  {
   "cell_type": "code",
   "execution_count": 18,
   "metadata": {},
   "outputs": [],
   "source": [
    "monthly_counts = pd.DataFrame({'year':[], 'month': [], 'time': [], 'count':[], 'prop':[], 'version':[]})\n",
    "start_year = yearly_version_counts.year.min()\n",
    "end_year = yearly_version_counts.year.max()\n",
    "    \n",
    "for version in [2.7, 3.4, 3.5, 3.6, 3.7]:\n",
    "    version_counts = monthly_version_counts[monthly_version_counts['python_version']==version]\n",
    "    to_append = {'year':[], 'month': [], 'count': [], 'time': [], 'prop':[], 'version':[]}\n",
    "    for year in range(start_year,end_year):\n",
    "        for month in range(1,13):\n",
    "            if (year, month) not in list(version_counts['time'].values):\n",
    "                to_append['year'].append(year)\n",
    "                to_append['month'].append(month)\n",
    "                to_append['time'].append((year, month))\n",
    "                to_append['count'].append(0)\n",
    "                to_append['prop'].append(0)\n",
    "                to_append['version'].append(version)\n",
    "    to_append_df = pd.DataFrame(to_append) \n",
    "    if len(to_append_df) > 0:\n",
    "        version_counts = pd.concat([version_counts, to_append_df], sort = False).sort_values(by='time')\n",
    "    version_counts['version'] = [version]*len(version_counts)\n",
    "    monthly_counts = pd.concat([monthly_counts, version_counts], sort = False).sort_values(by='time')"
   ]
  },
  {
   "cell_type": "code",
   "execution_count": 19,
   "metadata": {},
   "outputs": [],
   "source": [
    "monthly_counts['order'] = list(range(len(monthly_counts)))\n",
    "first = calendar.month_name[int(monthly_counts.iloc[0]['month'])] +' of '+ str(int(monthly_counts.iloc[0]['year']))"
   ]
  },
  {
   "cell_type": "code",
   "execution_count": 20,
   "metadata": {},
   "outputs": [
    {
     "data": {
      "application/vnd.vegalite.v3+json": {
       "$schema": "https://vega.github.io/schema/vega-lite/v3.3.0.json",
       "config": {
        "mark": {
         "tooltip": null
        },
        "view": {
         "height": 300,
         "width": 400
        }
       },
       "data": {
        "name": "data-e10f134582678f2ebe4a6274600b34c0"
       },
       "datasets": {
        "data-e10f134582678f2ebe4a6274600b34c0": [
         {
          "count": 0,
          "month": 1,
          "order": 0,
          "prop": 0,
          "python_version": null,
          "time": [
           2014,
           1
          ],
          "total": null,
          "version": 2.7,
          "year": 2014
         },
         {
          "count": 0,
          "month": 1,
          "order": 1,
          "prop": 0,
          "python_version": null,
          "time": [
           2014,
           1
          ],
          "total": null,
          "version": 3.4,
          "year": 2014
         },
         {
          "count": 0,
          "month": 1,
          "order": 2,
          "prop": 0,
          "python_version": null,
          "time": [
           2014,
           1
          ],
          "total": null,
          "version": 3.7,
          "year": 2014
         },
         {
          "count": 0,
          "month": 1,
          "order": 3,
          "prop": 0,
          "python_version": null,
          "time": [
           2014,
           1
          ],
          "total": null,
          "version": 3.5,
          "year": 2014
         },
         {
          "count": 0,
          "month": 1,
          "order": 4,
          "prop": 0,
          "python_version": null,
          "time": [
           2014,
           1
          ],
          "total": null,
          "version": 3.6,
          "year": 2014
         },
         {
          "count": 0,
          "month": 2,
          "order": 5,
          "prop": 0,
          "python_version": null,
          "time": [
           2014,
           2
          ],
          "total": null,
          "version": 2.7,
          "year": 2014
         },
         {
          "count": 0,
          "month": 2,
          "order": 6,
          "prop": 0,
          "python_version": null,
          "time": [
           2014,
           2
          ],
          "total": null,
          "version": 3.4,
          "year": 2014
         },
         {
          "count": 0,
          "month": 2,
          "order": 7,
          "prop": 0,
          "python_version": null,
          "time": [
           2014,
           2
          ],
          "total": null,
          "version": 3.5,
          "year": 2014
         },
         {
          "count": 0,
          "month": 2,
          "order": 8,
          "prop": 0,
          "python_version": null,
          "time": [
           2014,
           2
          ],
          "total": null,
          "version": 3.6,
          "year": 2014
         },
         {
          "count": 0,
          "month": 2,
          "order": 9,
          "prop": 0,
          "python_version": null,
          "time": [
           2014,
           2
          ],
          "total": null,
          "version": 3.7,
          "year": 2014
         },
         {
          "count": 0,
          "month": 3,
          "order": 10,
          "prop": 0,
          "python_version": null,
          "time": [
           2014,
           3
          ],
          "total": null,
          "version": 3.4,
          "year": 2014
         },
         {
          "count": 0,
          "month": 3,
          "order": 11,
          "prop": 0,
          "python_version": null,
          "time": [
           2014,
           3
          ],
          "total": null,
          "version": 3.7,
          "year": 2014
         },
         {
          "count": 0,
          "month": 3,
          "order": 12,
          "prop": 0,
          "python_version": null,
          "time": [
           2014,
           3
          ],
          "total": null,
          "version": 3.6,
          "year": 2014
         },
         {
          "count": 0,
          "month": 3,
          "order": 13,
          "prop": 0,
          "python_version": null,
          "time": [
           2014,
           3
          ],
          "total": null,
          "version": 3.5,
          "year": 2014
         },
         {
          "count": 0,
          "month": 3,
          "order": 14,
          "prop": 0,
          "python_version": null,
          "time": [
           2014,
           3
          ],
          "total": null,
          "version": 2.7,
          "year": 2014
         },
         {
          "count": 0,
          "month": 4,
          "order": 15,
          "prop": 0,
          "python_version": null,
          "time": [
           2014,
           4
          ],
          "total": null,
          "version": 3.7,
          "year": 2014
         },
         {
          "count": 0,
          "month": 4,
          "order": 16,
          "prop": 0,
          "python_version": null,
          "time": [
           2014,
           4
          ],
          "total": null,
          "version": 3.6,
          "year": 2014
         },
         {
          "count": 0,
          "month": 4,
          "order": 17,
          "prop": 0,
          "python_version": null,
          "time": [
           2014,
           4
          ],
          "total": null,
          "version": 3.4,
          "year": 2014
         },
         {
          "count": 0,
          "month": 4,
          "order": 18,
          "prop": 0,
          "python_version": null,
          "time": [
           2014,
           4
          ],
          "total": null,
          "version": 2.7,
          "year": 2014
         },
         {
          "count": 0,
          "month": 4,
          "order": 19,
          "prop": 0,
          "python_version": null,
          "time": [
           2014,
           4
          ],
          "total": null,
          "version": 3.5,
          "year": 2014
         },
         {
          "count": 0,
          "month": 5,
          "order": 20,
          "prop": 0,
          "python_version": null,
          "time": [
           2014,
           5
          ],
          "total": null,
          "version": 3.6,
          "year": 2014
         },
         {
          "count": 0,
          "month": 5,
          "order": 21,
          "prop": 0,
          "python_version": null,
          "time": [
           2014,
           5
          ],
          "total": null,
          "version": 3.4,
          "year": 2014
         },
         {
          "count": 0,
          "month": 5,
          "order": 22,
          "prop": 0,
          "python_version": null,
          "time": [
           2014,
           5
          ],
          "total": null,
          "version": 2.7,
          "year": 2014
         },
         {
          "count": 0,
          "month": 5,
          "order": 23,
          "prop": 0,
          "python_version": null,
          "time": [
           2014,
           5
          ],
          "total": null,
          "version": 3.7,
          "year": 2014
         },
         {
          "count": 0,
          "month": 5,
          "order": 24,
          "prop": 0,
          "python_version": null,
          "time": [
           2014,
           5
          ],
          "total": null,
          "version": 3.5,
          "year": 2014
         },
         {
          "count": 0,
          "month": 6,
          "order": 25,
          "prop": 0,
          "python_version": null,
          "time": [
           2014,
           6
          ],
          "total": null,
          "version": 3.7,
          "year": 2014
         },
         {
          "count": 0,
          "month": 6,
          "order": 26,
          "prop": 0,
          "python_version": null,
          "time": [
           2014,
           6
          ],
          "total": null,
          "version": 3.6,
          "year": 2014
         },
         {
          "count": 0,
          "month": 6,
          "order": 27,
          "prop": 0,
          "python_version": null,
          "time": [
           2014,
           6
          ],
          "total": null,
          "version": 3.5,
          "year": 2014
         },
         {
          "count": 0,
          "month": 6,
          "order": 28,
          "prop": 0,
          "python_version": null,
          "time": [
           2014,
           6
          ],
          "total": null,
          "version": 2.7,
          "year": 2014
         },
         {
          "count": 0,
          "month": 6,
          "order": 29,
          "prop": 0,
          "python_version": null,
          "time": [
           2014,
           6
          ],
          "total": null,
          "version": 3.4,
          "year": 2014
         },
         {
          "count": 0,
          "month": 7,
          "order": 30,
          "prop": 0,
          "python_version": null,
          "time": [
           2014,
           7
          ],
          "total": null,
          "version": 3.6,
          "year": 2014
         },
         {
          "count": 0,
          "month": 7,
          "order": 31,
          "prop": 0,
          "python_version": null,
          "time": [
           2014,
           7
          ],
          "total": null,
          "version": 3.4,
          "year": 2014
         },
         {
          "count": 0,
          "month": 7,
          "order": 32,
          "prop": 0,
          "python_version": null,
          "time": [
           2014,
           7
          ],
          "total": null,
          "version": 3.7,
          "year": 2014
         },
         {
          "count": 0,
          "month": 7,
          "order": 33,
          "prop": 0,
          "python_version": null,
          "time": [
           2014,
           7
          ],
          "total": null,
          "version": 2.7,
          "year": 2014
         },
         {
          "count": 0,
          "month": 7,
          "order": 34,
          "prop": 0,
          "python_version": null,
          "time": [
           2014,
           7
          ],
          "total": null,
          "version": 3.5,
          "year": 2014
         },
         {
          "count": 0,
          "month": 8,
          "order": 35,
          "prop": 0,
          "python_version": null,
          "time": [
           2014,
           8
          ],
          "total": null,
          "version": 3.7,
          "year": 2014
         },
         {
          "count": 0,
          "month": 8,
          "order": 36,
          "prop": 0,
          "python_version": null,
          "time": [
           2014,
           8
          ],
          "total": null,
          "version": 3.6,
          "year": 2014
         },
         {
          "count": 0,
          "month": 8,
          "order": 37,
          "prop": 0,
          "python_version": null,
          "time": [
           2014,
           8
          ],
          "total": null,
          "version": 2.7,
          "year": 2014
         },
         {
          "count": 0,
          "month": 8,
          "order": 38,
          "prop": 0,
          "python_version": null,
          "time": [
           2014,
           8
          ],
          "total": null,
          "version": 3.5,
          "year": 2014
         },
         {
          "count": 0,
          "month": 8,
          "order": 39,
          "prop": 0,
          "python_version": null,
          "time": [
           2014,
           8
          ],
          "total": null,
          "version": 3.4,
          "year": 2014
         },
         {
          "count": 0,
          "month": 9,
          "order": 40,
          "prop": 0,
          "python_version": null,
          "time": [
           2014,
           9
          ],
          "total": null,
          "version": 3.6,
          "year": 2014
         },
         {
          "count": 0,
          "month": 9,
          "order": 41,
          "prop": 0,
          "python_version": null,
          "time": [
           2014,
           9
          ],
          "total": null,
          "version": 2.7,
          "year": 2014
         },
         {
          "count": 0,
          "month": 9,
          "order": 42,
          "prop": 0,
          "python_version": null,
          "time": [
           2014,
           9
          ],
          "total": null,
          "version": 3.4,
          "year": 2014
         },
         {
          "count": 0,
          "month": 9,
          "order": 43,
          "prop": 0,
          "python_version": null,
          "time": [
           2014,
           9
          ],
          "total": null,
          "version": 3.5,
          "year": 2014
         },
         {
          "count": 0,
          "month": 9,
          "order": 44,
          "prop": 0,
          "python_version": null,
          "time": [
           2014,
           9
          ],
          "total": null,
          "version": 3.7,
          "year": 2014
         },
         {
          "count": 0,
          "month": 10,
          "order": 45,
          "prop": 0,
          "python_version": null,
          "time": [
           2014,
           10
          ],
          "total": null,
          "version": 3.5,
          "year": 2014
         },
         {
          "count": 0,
          "month": 10,
          "order": 46,
          "prop": 0,
          "python_version": null,
          "time": [
           2014,
           10
          ],
          "total": null,
          "version": 3.4,
          "year": 2014
         },
         {
          "count": 0,
          "month": 10,
          "order": 47,
          "prop": 0,
          "python_version": null,
          "time": [
           2014,
           10
          ],
          "total": null,
          "version": 2.7,
          "year": 2014
         },
         {
          "count": 0,
          "month": 10,
          "order": 48,
          "prop": 0,
          "python_version": null,
          "time": [
           2014,
           10
          ],
          "total": null,
          "version": 3.7,
          "year": 2014
         },
         {
          "count": 0,
          "month": 10,
          "order": 49,
          "prop": 0,
          "python_version": null,
          "time": [
           2014,
           10
          ],
          "total": null,
          "version": 3.6,
          "year": 2014
         },
         {
          "count": 0,
          "month": 11,
          "order": 50,
          "prop": 0,
          "python_version": null,
          "time": [
           2014,
           11
          ],
          "total": null,
          "version": 3.7,
          "year": 2014
         },
         {
          "count": 0,
          "month": 11,
          "order": 51,
          "prop": 0,
          "python_version": null,
          "time": [
           2014,
           11
          ],
          "total": null,
          "version": 3.4,
          "year": 2014
         },
         {
          "count": 0,
          "month": 11,
          "order": 52,
          "prop": 0,
          "python_version": null,
          "time": [
           2014,
           11
          ],
          "total": null,
          "version": 3.6,
          "year": 2014
         },
         {
          "count": 0,
          "month": 11,
          "order": 53,
          "prop": 0,
          "python_version": null,
          "time": [
           2014,
           11
          ],
          "total": null,
          "version": 2.7,
          "year": 2014
         },
         {
          "count": 0,
          "month": 11,
          "order": 54,
          "prop": 0,
          "python_version": null,
          "time": [
           2014,
           11
          ],
          "total": null,
          "version": 3.5,
          "year": 2014
         },
         {
          "count": 0,
          "month": 12,
          "order": 55,
          "prop": 0,
          "python_version": null,
          "time": [
           2014,
           12
          ],
          "total": null,
          "version": 3.5,
          "year": 2014
         },
         {
          "count": 0,
          "month": 12,
          "order": 56,
          "prop": 0,
          "python_version": null,
          "time": [
           2014,
           12
          ],
          "total": null,
          "version": 3.4,
          "year": 2014
         },
         {
          "count": 1,
          "month": 12,
          "order": 57,
          "prop": 1,
          "python_version": 2.7,
          "time": [
           2014,
           12
          ],
          "total": 1,
          "version": 2.7,
          "year": 2014
         },
         {
          "count": 0,
          "month": 12,
          "order": 58,
          "prop": 0,
          "python_version": null,
          "time": [
           2014,
           12
          ],
          "total": null,
          "version": 3.6,
          "year": 2014
         },
         {
          "count": 0,
          "month": 12,
          "order": 59,
          "prop": 0,
          "python_version": null,
          "time": [
           2014,
           12
          ],
          "total": null,
          "version": 3.7,
          "year": 2014
         },
         {
          "count": 0,
          "month": 1,
          "order": 60,
          "prop": 0,
          "python_version": null,
          "time": [
           2015,
           1
          ],
          "total": null,
          "version": 2.7,
          "year": 2015
         },
         {
          "count": 0,
          "month": 1,
          "order": 61,
          "prop": 0,
          "python_version": null,
          "time": [
           2015,
           1
          ],
          "total": null,
          "version": 3.4,
          "year": 2015
         },
         {
          "count": 0,
          "month": 1,
          "order": 62,
          "prop": 0,
          "python_version": null,
          "time": [
           2015,
           1
          ],
          "total": null,
          "version": 3.6,
          "year": 2015
         },
         {
          "count": 0,
          "month": 1,
          "order": 63,
          "prop": 0,
          "python_version": null,
          "time": [
           2015,
           1
          ],
          "total": null,
          "version": 3.7,
          "year": 2015
         },
         {
          "count": 0,
          "month": 1,
          "order": 64,
          "prop": 0,
          "python_version": null,
          "time": [
           2015,
           1
          ],
          "total": null,
          "version": 3.5,
          "year": 2015
         },
         {
          "count": 0,
          "month": 2,
          "order": 65,
          "prop": 0,
          "python_version": null,
          "time": [
           2015,
           2
          ],
          "total": null,
          "version": 3.7,
          "year": 2015
         },
         {
          "count": 0,
          "month": 2,
          "order": 66,
          "prop": 0,
          "python_version": null,
          "time": [
           2015,
           2
          ],
          "total": null,
          "version": 3.6,
          "year": 2015
         },
         {
          "count": 0,
          "month": 2,
          "order": 67,
          "prop": 0,
          "python_version": null,
          "time": [
           2015,
           2
          ],
          "total": null,
          "version": 3.4,
          "year": 2015
         },
         {
          "count": 0,
          "month": 2,
          "order": 68,
          "prop": 0,
          "python_version": null,
          "time": [
           2015,
           2
          ],
          "total": null,
          "version": 2.7,
          "year": 2015
         },
         {
          "count": 0,
          "month": 2,
          "order": 69,
          "prop": 0,
          "python_version": null,
          "time": [
           2015,
           2
          ],
          "total": null,
          "version": 3.5,
          "year": 2015
         },
         {
          "count": 0,
          "month": 3,
          "order": 70,
          "prop": 0,
          "python_version": null,
          "time": [
           2015,
           3
          ],
          "total": null,
          "version": 3.6,
          "year": 2015
         },
         {
          "count": 1,
          "month": 3,
          "order": 71,
          "prop": 0.07142857142857142,
          "python_version": 3.4,
          "time": [
           2015,
           3
          ],
          "total": 14,
          "version": 3.4,
          "year": 2015
         },
         {
          "count": 13,
          "month": 3,
          "order": 72,
          "prop": 0.9285714285714286,
          "python_version": 2.7,
          "time": [
           2015,
           3
          ],
          "total": 14,
          "version": 2.7,
          "year": 2015
         },
         {
          "count": 0,
          "month": 3,
          "order": 73,
          "prop": 0,
          "python_version": null,
          "time": [
           2015,
           3
          ],
          "total": null,
          "version": 3.5,
          "year": 2015
         },
         {
          "count": 0,
          "month": 3,
          "order": 74,
          "prop": 0,
          "python_version": null,
          "time": [
           2015,
           3
          ],
          "total": null,
          "version": 3.7,
          "year": 2015
         },
         {
          "count": 0,
          "month": 4,
          "order": 75,
          "prop": 0,
          "python_version": null,
          "time": [
           2015,
           4
          ],
          "total": null,
          "version": 3.5,
          "year": 2015
         },
         {
          "count": 0,
          "month": 4,
          "order": 76,
          "prop": 0,
          "python_version": null,
          "time": [
           2015,
           4
          ],
          "total": null,
          "version": 3.6,
          "year": 2015
         },
         {
          "count": 2,
          "month": 4,
          "order": 77,
          "prop": 0.18181818181818182,
          "python_version": 3.4,
          "time": [
           2015,
           4
          ],
          "total": 11,
          "version": 3.4,
          "year": 2015
         },
         {
          "count": 8,
          "month": 4,
          "order": 78,
          "prop": 0.7272727272727273,
          "python_version": 2.7,
          "time": [
           2015,
           4
          ],
          "total": 11,
          "version": 2.7,
          "year": 2015
         },
         {
          "count": 0,
          "month": 4,
          "order": 79,
          "prop": 0,
          "python_version": null,
          "time": [
           2015,
           4
          ],
          "total": null,
          "version": 3.7,
          "year": 2015
         },
         {
          "count": 0,
          "month": 5,
          "order": 80,
          "prop": 0,
          "python_version": null,
          "time": [
           2015,
           5
          ],
          "total": null,
          "version": 3.7,
          "year": 2015
         },
         {
          "count": 0,
          "month": 5,
          "order": 81,
          "prop": 0,
          "python_version": null,
          "time": [
           2015,
           5
          ],
          "total": null,
          "version": 3.5,
          "year": 2015
         },
         {
          "count": 6,
          "month": 5,
          "order": 82,
          "prop": 0.17142857142857143,
          "python_version": 3.4,
          "time": [
           2015,
           5
          ],
          "total": 35,
          "version": 3.4,
          "year": 2015
         },
         {
          "count": 29,
          "month": 5,
          "order": 83,
          "prop": 0.8285714285714286,
          "python_version": 2.7,
          "time": [
           2015,
           5
          ],
          "total": 35,
          "version": 2.7,
          "year": 2015
         },
         {
          "count": 0,
          "month": 5,
          "order": 84,
          "prop": 0,
          "python_version": null,
          "time": [
           2015,
           5
          ],
          "total": null,
          "version": 3.6,
          "year": 2015
         },
         {
          "count": 18,
          "month": 6,
          "order": 85,
          "prop": 0.3157894736842105,
          "python_version": 3.4,
          "time": [
           2015,
           6
          ],
          "total": 57,
          "version": 3.4,
          "year": 2015
         },
         {
          "count": 0,
          "month": 6,
          "order": 86,
          "prop": 0,
          "python_version": null,
          "time": [
           2015,
           6
          ],
          "total": null,
          "version": 3.7,
          "year": 2015
         },
         {
          "count": 37,
          "month": 6,
          "order": 87,
          "prop": 0.6491228070175439,
          "python_version": 2.7,
          "time": [
           2015,
           6
          ],
          "total": 57,
          "version": 2.7,
          "year": 2015
         },
         {
          "count": 0,
          "month": 6,
          "order": 88,
          "prop": 0,
          "python_version": null,
          "time": [
           2015,
           6
          ],
          "total": null,
          "version": 3.6,
          "year": 2015
         },
         {
          "count": 1,
          "month": 6,
          "order": 89,
          "prop": 0.017543859649122806,
          "python_version": 3.5,
          "time": [
           2015,
           6
          ],
          "total": 57,
          "version": 3.5,
          "year": 2015
         },
         {
          "count": 15,
          "month": 7,
          "order": 90,
          "prop": 0.3,
          "python_version": 3.4,
          "time": [
           2015,
           7
          ],
          "total": 50,
          "version": 3.4,
          "year": 2015
         },
         {
          "count": 0,
          "month": 7,
          "order": 91,
          "prop": 0,
          "python_version": null,
          "time": [
           2015,
           7
          ],
          "total": null,
          "version": 3.7,
          "year": 2015
         },
         {
          "count": 0,
          "month": 7,
          "order": 92,
          "prop": 0,
          "python_version": null,
          "time": [
           2015,
           7
          ],
          "total": null,
          "version": 3.5,
          "year": 2015
         },
         {
          "count": 0,
          "month": 7,
          "order": 93,
          "prop": 0,
          "python_version": null,
          "time": [
           2015,
           7
          ],
          "total": null,
          "version": 3.6,
          "year": 2015
         },
         {
          "count": 34,
          "month": 7,
          "order": 94,
          "prop": 0.68,
          "python_version": 2.7,
          "time": [
           2015,
           7
          ],
          "total": 50,
          "version": 2.7,
          "year": 2015
         },
         {
          "count": 0,
          "month": 8,
          "order": 95,
          "prop": 0,
          "python_version": null,
          "time": [
           2015,
           8
          ],
          "total": null,
          "version": 3.6,
          "year": 2015
         },
         {
          "count": 0,
          "month": 8,
          "order": 96,
          "prop": 0,
          "python_version": null,
          "time": [
           2015,
           8
          ],
          "total": null,
          "version": 3.5,
          "year": 2015
         },
         {
          "count": 0,
          "month": 8,
          "order": 97,
          "prop": 0,
          "python_version": null,
          "time": [
           2015,
           8
          ],
          "total": null,
          "version": 3.7,
          "year": 2015
         },
         {
          "count": 8,
          "month": 8,
          "order": 98,
          "prop": 0.15384615384615385,
          "python_version": 3.4,
          "time": [
           2015,
           8
          ],
          "total": 52,
          "version": 3.4,
          "year": 2015
         },
         {
          "count": 41,
          "month": 8,
          "order": 99,
          "prop": 0.7884615384615384,
          "python_version": 2.7,
          "time": [
           2015,
           8
          ],
          "total": 52,
          "version": 2.7,
          "year": 2015
         },
         {
          "count": 0,
          "month": 9,
          "order": 100,
          "prop": 0,
          "python_version": null,
          "time": [
           2015,
           9
          ],
          "total": null,
          "version": 3.7,
          "year": 2015
         },
         {
          "count": 15,
          "month": 9,
          "order": 101,
          "prop": 0.26785714285714285,
          "python_version": 3.4,
          "time": [
           2015,
           9
          ],
          "total": 56,
          "version": 3.4,
          "year": 2015
         },
         {
          "count": 0,
          "month": 9,
          "order": 102,
          "prop": 0,
          "python_version": null,
          "time": [
           2015,
           9
          ],
          "total": null,
          "version": 3.6,
          "year": 2015
         },
         {
          "count": 0,
          "month": 9,
          "order": 103,
          "prop": 0,
          "python_version": null,
          "time": [
           2015,
           9
          ],
          "total": null,
          "version": 3.5,
          "year": 2015
         },
         {
          "count": 41,
          "month": 9,
          "order": 104,
          "prop": 0.7321428571428571,
          "python_version": 2.7,
          "time": [
           2015,
           9
          ],
          "total": 56,
          "version": 2.7,
          "year": 2015
         },
         {
          "count": 21,
          "month": 10,
          "order": 105,
          "prop": 0.2876712328767123,
          "python_version": 3.4,
          "time": [
           2015,
           10
          ],
          "total": 73,
          "version": 3.4,
          "year": 2015
         },
         {
          "count": 51,
          "month": 10,
          "order": 106,
          "prop": 0.6986301369863014,
          "python_version": 2.7,
          "time": [
           2015,
           10
          ],
          "total": 73,
          "version": 2.7,
          "year": 2015
         },
         {
          "count": 0,
          "month": 10,
          "order": 107,
          "prop": 0,
          "python_version": null,
          "time": [
           2015,
           10
          ],
          "total": null,
          "version": 3.7,
          "year": 2015
         },
         {
          "count": 0,
          "month": 10,
          "order": 108,
          "prop": 0,
          "python_version": null,
          "time": [
           2015,
           10
          ],
          "total": null,
          "version": 3.6,
          "year": 2015
         },
         {
          "count": 1,
          "month": 10,
          "order": 109,
          "prop": 0.0136986301369863,
          "python_version": 3.5,
          "time": [
           2015,
           10
          ],
          "total": 73,
          "version": 3.5,
          "year": 2015
         },
         {
          "count": 56,
          "month": 11,
          "order": 110,
          "prop": 0.7466666666666667,
          "python_version": 2.7,
          "time": [
           2015,
           11
          ],
          "total": 75,
          "version": 2.7,
          "year": 2015
         },
         {
          "count": 14,
          "month": 11,
          "order": 111,
          "prop": 0.18666666666666668,
          "python_version": 3.4,
          "time": [
           2015,
           11
          ],
          "total": 75,
          "version": 3.4,
          "year": 2015
         },
         {
          "count": 4,
          "month": 11,
          "order": 112,
          "prop": 0.05333333333333334,
          "python_version": 3.5,
          "time": [
           2015,
           11
          ],
          "total": 75,
          "version": 3.5,
          "year": 2015
         },
         {
          "count": 0,
          "month": 11,
          "order": 113,
          "prop": 0,
          "python_version": null,
          "time": [
           2015,
           11
          ],
          "total": null,
          "version": 3.7,
          "year": 2015
         },
         {
          "count": 0,
          "month": 11,
          "order": 114,
          "prop": 0,
          "python_version": null,
          "time": [
           2015,
           11
          ],
          "total": null,
          "version": 3.6,
          "year": 2015
         },
         {
          "count": 19,
          "month": 12,
          "order": 115,
          "prop": 0.17757009345794392,
          "python_version": 3.4,
          "time": [
           2015,
           12
          ],
          "total": 107,
          "version": 3.4,
          "year": 2015
         },
         {
          "count": 81,
          "month": 12,
          "order": 116,
          "prop": 0.7570093457943925,
          "python_version": 2.7,
          "time": [
           2015,
           12
          ],
          "total": 107,
          "version": 2.7,
          "year": 2015
         },
         {
          "count": 0,
          "month": 12,
          "order": 117,
          "prop": 0,
          "python_version": null,
          "time": [
           2015,
           12
          ],
          "total": null,
          "version": 3.6,
          "year": 2015
         },
         {
          "count": 0,
          "month": 12,
          "order": 118,
          "prop": 0,
          "python_version": null,
          "time": [
           2015,
           12
          ],
          "total": null,
          "version": 3.7,
          "year": 2015
         },
         {
          "count": 6,
          "month": 12,
          "order": 119,
          "prop": 0.056074766355140186,
          "python_version": 3.5,
          "time": [
           2015,
           12
          ],
          "total": 107,
          "version": 3.5,
          "year": 2015
         },
         {
          "count": 6,
          "month": 1,
          "order": 120,
          "prop": 0.05172413793103448,
          "python_version": 3.5,
          "time": [
           2016,
           1
          ],
          "total": 116,
          "version": 3.5,
          "year": 2016
         },
         {
          "count": 85,
          "month": 1,
          "order": 121,
          "prop": 0.7327586206896551,
          "python_version": 2.7,
          "time": [
           2016,
           1
          ],
          "total": 116,
          "version": 2.7,
          "year": 2016
         },
         {
          "count": 0,
          "month": 1,
          "order": 122,
          "prop": 0,
          "python_version": null,
          "time": [
           2016,
           1
          ],
          "total": null,
          "version": 3.6,
          "year": 2016
         },
         {
          "count": 24,
          "month": 1,
          "order": 123,
          "prop": 0.20689655172413793,
          "python_version": 3.4,
          "time": [
           2016,
           1
          ],
          "total": 116,
          "version": 3.4,
          "year": 2016
         },
         {
          "count": 0,
          "month": 1,
          "order": 124,
          "prop": 0,
          "python_version": null,
          "time": [
           2016,
           1
          ],
          "total": null,
          "version": 3.7,
          "year": 2016
         },
         {
          "count": 0,
          "month": 2,
          "order": 125,
          "prop": 0,
          "python_version": null,
          "time": [
           2016,
           2
          ],
          "total": null,
          "version": 3.7,
          "year": 2016
         },
         {
          "count": 51,
          "month": 2,
          "order": 126,
          "prop": 0.6144578313253012,
          "python_version": 2.7,
          "time": [
           2016,
           2
          ],
          "total": 83,
          "version": 2.7,
          "year": 2016
         },
         {
          "count": 12,
          "month": 2,
          "order": 127,
          "prop": 0.14457831325301204,
          "python_version": 3.4,
          "time": [
           2016,
           2
          ],
          "total": 83,
          "version": 3.4,
          "year": 2016
         },
         {
          "count": 18,
          "month": 2,
          "order": 128,
          "prop": 0.21686746987951808,
          "python_version": 3.5,
          "time": [
           2016,
           2
          ],
          "total": 83,
          "version": 3.5,
          "year": 2016
         },
         {
          "count": 0,
          "month": 2,
          "order": 129,
          "prop": 0,
          "python_version": null,
          "time": [
           2016,
           2
          ],
          "total": null,
          "version": 3.6,
          "year": 2016
         },
         {
          "count": 1,
          "month": 3,
          "order": 130,
          "prop": 0.006666666666666667,
          "python_version": 3.6,
          "time": [
           2016,
           3
          ],
          "total": 150,
          "version": 3.6,
          "year": 2016
         },
         {
          "count": 103,
          "month": 3,
          "order": 131,
          "prop": 0.6866666666666666,
          "python_version": 2.7,
          "time": [
           2016,
           3
          ],
          "total": 150,
          "version": 2.7,
          "year": 2016
         },
         {
          "count": 0,
          "month": 3,
          "order": 132,
          "prop": 0,
          "python_version": null,
          "time": [
           2016,
           3
          ],
          "total": null,
          "version": 3.7,
          "year": 2016
         },
         {
          "count": 28,
          "month": 3,
          "order": 133,
          "prop": 0.18666666666666668,
          "python_version": 3.5,
          "time": [
           2016,
           3
          ],
          "total": 150,
          "version": 3.5,
          "year": 2016
         },
         {
          "count": 17,
          "month": 3,
          "order": 134,
          "prop": 0.11333333333333333,
          "python_version": 3.4,
          "time": [
           2016,
           3
          ],
          "total": 150,
          "version": 3.4,
          "year": 2016
         },
         {
          "count": 27,
          "month": 4,
          "order": 135,
          "prop": 0.140625,
          "python_version": 3.4,
          "time": [
           2016,
           4
          ],
          "total": 192,
          "version": 3.4,
          "year": 2016
         },
         {
          "count": 52,
          "month": 4,
          "order": 136,
          "prop": 0.2708333333333333,
          "python_version": 3.5,
          "time": [
           2016,
           4
          ],
          "total": 192,
          "version": 3.5,
          "year": 2016
         },
         {
          "count": 0,
          "month": 4,
          "order": 137,
          "prop": 0,
          "python_version": null,
          "time": [
           2016,
           4
          ],
          "total": null,
          "version": 3.7,
          "year": 2016
         },
         {
          "count": 1,
          "month": 4,
          "order": 138,
          "prop": 0.005208333333333333,
          "python_version": 3.6,
          "time": [
           2016,
           4
          ],
          "total": 192,
          "version": 3.6,
          "year": 2016
         },
         {
          "count": 112,
          "month": 4,
          "order": 139,
          "prop": 0.5833333333333334,
          "python_version": 2.7,
          "time": [
           2016,
           4
          ],
          "total": 192,
          "version": 2.7,
          "year": 2016
         },
         {
          "count": 21,
          "month": 5,
          "order": 140,
          "prop": 0.09292035398230089,
          "python_version": 3.4,
          "time": [
           2016,
           5
          ],
          "total": 226,
          "version": 3.4,
          "year": 2016
         },
         {
          "count": 148,
          "month": 5,
          "order": 141,
          "prop": 0.6548672566371682,
          "python_version": 2.7,
          "time": [
           2016,
           5
          ],
          "total": 226,
          "version": 2.7,
          "year": 2016
         },
         {
          "count": 55,
          "month": 5,
          "order": 142,
          "prop": 0.24336283185840707,
          "python_version": 3.5,
          "time": [
           2016,
           5
          ],
          "total": 226,
          "version": 3.5,
          "year": 2016
         },
         {
          "count": 0,
          "month": 5,
          "order": 143,
          "prop": 0,
          "python_version": null,
          "time": [
           2016,
           5
          ],
          "total": null,
          "version": 3.6,
          "year": 2016
         },
         {
          "count": 0,
          "month": 5,
          "order": 144,
          "prop": 0,
          "python_version": null,
          "time": [
           2016,
           5
          ],
          "total": null,
          "version": 3.7,
          "year": 2016
         },
         {
          "count": 0,
          "month": 6,
          "order": 145,
          "prop": 0,
          "python_version": null,
          "time": [
           2016,
           6
          ],
          "total": null,
          "version": 3.7,
          "year": 2016
         },
         {
          "count": 0,
          "month": 6,
          "order": 146,
          "prop": 0,
          "python_version": null,
          "time": [
           2016,
           6
          ],
          "total": null,
          "version": 3.6,
          "year": 2016
         },
         {
          "count": 152,
          "month": 6,
          "order": 147,
          "prop": 0.6909090909090909,
          "python_version": 2.7,
          "time": [
           2016,
           6
          ],
          "total": 220,
          "version": 2.7,
          "year": 2016
         },
         {
          "count": 22,
          "month": 6,
          "order": 148,
          "prop": 0.1,
          "python_version": 3.4,
          "time": [
           2016,
           6
          ],
          "total": 220,
          "version": 3.4,
          "year": 2016
         },
         {
          "count": 46,
          "month": 6,
          "order": 149,
          "prop": 0.20909090909090908,
          "python_version": 3.5,
          "time": [
           2016,
           6
          ],
          "total": 220,
          "version": 3.5,
          "year": 2016
         },
         {
          "count": 6,
          "month": 7,
          "order": 150,
          "prop": 0.031088082901554404,
          "python_version": 3.4,
          "time": [
           2016,
           7
          ],
          "total": 193,
          "version": 3.4,
          "year": 2016
         },
         {
          "count": 62,
          "month": 7,
          "order": 151,
          "prop": 0.32124352331606215,
          "python_version": 3.5,
          "time": [
           2016,
           7
          ],
          "total": 193,
          "version": 3.5,
          "year": 2016
         },
         {
          "count": 0,
          "month": 7,
          "order": 152,
          "prop": 0,
          "python_version": null,
          "time": [
           2016,
           7
          ],
          "total": null,
          "version": 3.6,
          "year": 2016
         },
         {
          "count": 0,
          "month": 7,
          "order": 153,
          "prop": 0,
          "python_version": null,
          "time": [
           2016,
           7
          ],
          "total": null,
          "version": 3.7,
          "year": 2016
         },
         {
          "count": 125,
          "month": 7,
          "order": 154,
          "prop": 0.6476683937823834,
          "python_version": 2.7,
          "time": [
           2016,
           7
          ],
          "total": 193,
          "version": 2.7,
          "year": 2016
         },
         {
          "count": 147,
          "month": 8,
          "order": 155,
          "prop": 0.6125,
          "python_version": 2.7,
          "time": [
           2016,
           8
          ],
          "total": 240,
          "version": 2.7,
          "year": 2016
         },
         {
          "count": 76,
          "month": 8,
          "order": 156,
          "prop": 0.31666666666666665,
          "python_version": 3.5,
          "time": [
           2016,
           8
          ],
          "total": 240,
          "version": 3.5,
          "year": 2016
         },
         {
          "count": 0,
          "month": 8,
          "order": 157,
          "prop": 0,
          "python_version": null,
          "time": [
           2016,
           8
          ],
          "total": null,
          "version": 3.7,
          "year": 2016
         },
         {
          "count": 16,
          "month": 8,
          "order": 158,
          "prop": 0.06666666666666667,
          "python_version": 3.4,
          "time": [
           2016,
           8
          ],
          "total": 240,
          "version": 3.4,
          "year": 2016
         },
         {
          "count": 0,
          "month": 8,
          "order": 159,
          "prop": 0,
          "python_version": null,
          "time": [
           2016,
           8
          ],
          "total": null,
          "version": 3.6,
          "year": 2016
         },
         {
          "count": 0,
          "month": 9,
          "order": 160,
          "prop": 0,
          "python_version": null,
          "time": [
           2016,
           9
          ],
          "total": null,
          "version": 3.6,
          "year": 2016
         },
         {
          "count": 14,
          "month": 9,
          "order": 161,
          "prop": 0.05982905982905983,
          "python_version": 3.4,
          "time": [
           2016,
           9
          ],
          "total": 234,
          "version": 3.4,
          "year": 2016
         },
         {
          "count": 166,
          "month": 9,
          "order": 162,
          "prop": 0.7094017094017094,
          "python_version": 2.7,
          "time": [
           2016,
           9
          ],
          "total": 234,
          "version": 2.7,
          "year": 2016
         },
         {
          "count": 54,
          "month": 9,
          "order": 163,
          "prop": 0.23076923076923078,
          "python_version": 3.5,
          "time": [
           2016,
           9
          ],
          "total": 234,
          "version": 3.5,
          "year": 2016
         },
         {
          "count": 0,
          "month": 9,
          "order": 164,
          "prop": 0,
          "python_version": null,
          "time": [
           2016,
           9
          ],
          "total": null,
          "version": 3.7,
          "year": 2016
         },
         {
          "count": 0,
          "month": 10,
          "order": 165,
          "prop": 0,
          "python_version": null,
          "time": [
           2016,
           10
          ],
          "total": null,
          "version": 3.7,
          "year": 2016
         },
         {
          "count": 18,
          "month": 10,
          "order": 166,
          "prop": 0.06164383561643835,
          "python_version": 3.4,
          "time": [
           2016,
           10
          ],
          "total": 292,
          "version": 3.4,
          "year": 2016
         },
         {
          "count": 101,
          "month": 10,
          "order": 167,
          "prop": 0.3458904109589041,
          "python_version": 3.5,
          "time": [
           2016,
           10
          ],
          "total": 292,
          "version": 3.5,
          "year": 2016
         },
         {
          "count": 173,
          "month": 10,
          "order": 168,
          "prop": 0.5924657534246576,
          "python_version": 2.7,
          "time": [
           2016,
           10
          ],
          "total": 292,
          "version": 2.7,
          "year": 2016
         },
         {
          "count": 0,
          "month": 10,
          "order": 169,
          "prop": 0,
          "python_version": null,
          "time": [
           2016,
           10
          ],
          "total": null,
          "version": 3.6,
          "year": 2016
         },
         {
          "count": 1,
          "month": 11,
          "order": 170,
          "prop": 0.003289473684210526,
          "python_version": 3.6,
          "time": [
           2016,
           11
          ],
          "total": 304,
          "version": 3.6,
          "year": 2016
         },
         {
          "count": 100,
          "month": 11,
          "order": 171,
          "prop": 0.32894736842105265,
          "python_version": 3.5,
          "time": [
           2016,
           11
          ],
          "total": 304,
          "version": 3.5,
          "year": 2016
         },
         {
          "count": 15,
          "month": 11,
          "order": 172,
          "prop": 0.049342105263157895,
          "python_version": 3.4,
          "time": [
           2016,
           11
          ],
          "total": 304,
          "version": 3.4,
          "year": 2016
         },
         {
          "count": 0,
          "month": 11,
          "order": 173,
          "prop": 0,
          "python_version": null,
          "time": [
           2016,
           11
          ],
          "total": null,
          "version": 3.7,
          "year": 2016
         },
         {
          "count": 188,
          "month": 11,
          "order": 174,
          "prop": 0.618421052631579,
          "python_version": 2.7,
          "time": [
           2016,
           11
          ],
          "total": 304,
          "version": 2.7,
          "year": 2016
         },
         {
          "count": 0,
          "month": 12,
          "order": 175,
          "prop": 0,
          "python_version": null,
          "time": [
           2016,
           12
          ],
          "total": null,
          "version": 3.7,
          "year": 2016
         },
         {
          "count": 241,
          "month": 12,
          "order": 176,
          "prop": 0.5738095238095238,
          "python_version": 2.7,
          "time": [
           2016,
           12
          ],
          "total": 420,
          "version": 2.7,
          "year": 2016
         },
         {
          "count": 0,
          "month": 12,
          "order": 177,
          "prop": 0,
          "python_version": null,
          "time": [
           2016,
           12
          ],
          "total": null,
          "version": 3.6,
          "year": 2016
         },
         {
          "count": 19,
          "month": 12,
          "order": 178,
          "prop": 0.04523809523809524,
          "python_version": 3.4,
          "time": [
           2016,
           12
          ],
          "total": 420,
          "version": 3.4,
          "year": 2016
         },
         {
          "count": 160,
          "month": 12,
          "order": 179,
          "prop": 0.38095238095238093,
          "python_version": 3.5,
          "time": [
           2016,
           12
          ],
          "total": 420,
          "version": 3.5,
          "year": 2016
         },
         {
          "count": 0,
          "month": 1,
          "order": 180,
          "prop": 0,
          "python_version": null,
          "time": [
           2017,
           1
          ],
          "total": null,
          "version": 3.7,
          "year": 2017
         },
         {
          "count": 31,
          "month": 1,
          "order": 181,
          "prop": 0.07524271844660194,
          "python_version": 3.4,
          "time": [
           2017,
           1
          ],
          "total": 412,
          "version": 3.4,
          "year": 2017
         },
         {
          "count": 4,
          "month": 1,
          "order": 182,
          "prop": 0.009708737864077669,
          "python_version": 3.6,
          "time": [
           2017,
           1
          ],
          "total": 412,
          "version": 3.6,
          "year": 2017
         },
         {
          "count": 146,
          "month": 1,
          "order": 183,
          "prop": 0.35436893203883496,
          "python_version": 3.5,
          "time": [
           2017,
           1
          ],
          "total": 412,
          "version": 3.5,
          "year": 2017
         },
         {
          "count": 229,
          "month": 1,
          "order": 184,
          "prop": 0.5558252427184466,
          "python_version": 2.7,
          "time": [
           2017,
           1
          ],
          "total": 412,
          "version": 2.7,
          "year": 2017
         },
         {
          "count": 197,
          "month": 2,
          "order": 185,
          "prop": 0.49747474747474746,
          "python_version": 2.7,
          "time": [
           2017,
           2
          ],
          "total": 396,
          "version": 2.7,
          "year": 2017
         },
         {
          "count": 155,
          "month": 2,
          "order": 186,
          "prop": 0.39141414141414144,
          "python_version": 3.5,
          "time": [
           2017,
           2
          ],
          "total": 396,
          "version": 3.5,
          "year": 2017
         },
         {
          "count": 18,
          "month": 2,
          "order": 187,
          "prop": 0.045454545454545456,
          "python_version": 3.4,
          "time": [
           2017,
           2
          ],
          "total": 396,
          "version": 3.4,
          "year": 2017
         },
         {
          "count": 0,
          "month": 2,
          "order": 188,
          "prop": 0,
          "python_version": null,
          "time": [
           2017,
           2
          ],
          "total": null,
          "version": 3.7,
          "year": 2017
         },
         {
          "count": 26,
          "month": 2,
          "order": 189,
          "prop": 0.06565656565656566,
          "python_version": 3.6,
          "time": [
           2017,
           2
          ],
          "total": 396,
          "version": 3.6,
          "year": 2017
         },
         {
          "count": 221,
          "month": 3,
          "order": 190,
          "prop": 0.4411177644710579,
          "python_version": 2.7,
          "time": [
           2017,
           3
          ],
          "total": 501,
          "version": 2.7,
          "year": 2017
         },
         {
          "count": 26,
          "month": 3,
          "order": 191,
          "prop": 0.05189620758483034,
          "python_version": 3.4,
          "time": [
           2017,
           3
          ],
          "total": 501,
          "version": 3.4,
          "year": 2017
         },
         {
          "count": 218,
          "month": 3,
          "order": 192,
          "prop": 0.4351297405189621,
          "python_version": 3.5,
          "time": [
           2017,
           3
          ],
          "total": 501,
          "version": 3.5,
          "year": 2017
         },
         {
          "count": 0,
          "month": 3,
          "order": 193,
          "prop": 0,
          "python_version": null,
          "time": [
           2017,
           3
          ],
          "total": null,
          "version": 3.7,
          "year": 2017
         },
         {
          "count": 36,
          "month": 3,
          "order": 194,
          "prop": 0.0718562874251497,
          "python_version": 3.6,
          "time": [
           2017,
           3
          ],
          "total": 501,
          "version": 3.6,
          "year": 2017
         },
         {
          "count": 0,
          "month": 4,
          "order": 195,
          "prop": 0,
          "python_version": null,
          "time": [
           2017,
           4
          ],
          "total": null,
          "version": 3.7,
          "year": 2017
         },
         {
          "count": 263,
          "month": 4,
          "order": 196,
          "prop": 0.4194577352472089,
          "python_version": 2.7,
          "time": [
           2017,
           4
          ],
          "total": 627,
          "version": 2.7,
          "year": 2017
         },
         {
          "count": 26,
          "month": 4,
          "order": 197,
          "prop": 0.04146730462519936,
          "python_version": 3.4,
          "time": [
           2017,
           4
          ],
          "total": 627,
          "version": 3.4,
          "year": 2017
         },
         {
          "count": 259,
          "month": 4,
          "order": 198,
          "prop": 0.4130781499202552,
          "python_version": 3.5,
          "time": [
           2017,
           4
          ],
          "total": 627,
          "version": 3.5,
          "year": 2017
         },
         {
          "count": 77,
          "month": 4,
          "order": 199,
          "prop": 0.12280701754385964,
          "python_version": 3.6,
          "time": [
           2017,
           4
          ],
          "total": 627,
          "version": 3.6,
          "year": 2017
         },
         {
          "count": 0,
          "month": 5,
          "order": 200,
          "prop": 0,
          "python_version": null,
          "time": [
           2017,
           5
          ],
          "total": null,
          "version": 3.7,
          "year": 2017
         },
         {
          "count": 85,
          "month": 5,
          "order": 201,
          "prop": 0.12408759124087591,
          "python_version": 3.6,
          "time": [
           2017,
           5
          ],
          "total": 685,
          "version": 3.6,
          "year": 2017
         },
         {
          "count": 244,
          "month": 5,
          "order": 202,
          "prop": 0.3562043795620438,
          "python_version": 3.5,
          "time": [
           2017,
           5
          ],
          "total": 685,
          "version": 3.5,
          "year": 2017
         },
         {
          "count": 16,
          "month": 5,
          "order": 203,
          "prop": 0.02335766423357664,
          "python_version": 3.4,
          "time": [
           2017,
           5
          ],
          "total": 685,
          "version": 3.4,
          "year": 2017
         },
         {
          "count": 340,
          "month": 5,
          "order": 204,
          "prop": 0.49635036496350365,
          "python_version": 2.7,
          "time": [
           2017,
           5
          ],
          "total": 685,
          "version": 2.7,
          "year": 2017
         },
         {
          "count": 0,
          "month": 6,
          "order": 205,
          "prop": 0,
          "python_version": null,
          "time": [
           2017,
           6
          ],
          "total": null,
          "version": 3.7,
          "year": 2017
         },
         {
          "count": 22,
          "month": 6,
          "order": 206,
          "prop": 0.03358778625954199,
          "python_version": 3.4,
          "time": [
           2017,
           6
          ],
          "total": 655,
          "version": 3.4,
          "year": 2017
         },
         {
          "count": 136,
          "month": 6,
          "order": 207,
          "prop": 0.20763358778625954,
          "python_version": 3.6,
          "time": [
           2017,
           6
          ],
          "total": 655,
          "version": 3.6,
          "year": 2017
         },
         {
          "count": 234,
          "month": 6,
          "order": 208,
          "prop": 0.35725190839694654,
          "python_version": 3.5,
          "time": [
           2017,
           6
          ],
          "total": 655,
          "version": 3.5,
          "year": 2017
         },
         {
          "count": 263,
          "month": 6,
          "order": 209,
          "prop": 0.4015267175572519,
          "python_version": 2.7,
          "time": [
           2017,
           6
          ],
          "total": 655,
          "version": 2.7,
          "year": 2017
         },
         {
          "count": 17,
          "month": 7,
          "order": 210,
          "prop": 0.027868852459016394,
          "python_version": 3.4,
          "time": [
           2017,
           7
          ],
          "total": 610,
          "version": 3.4,
          "year": 2017
         },
         {
          "count": 195,
          "month": 7,
          "order": 211,
          "prop": 0.319672131147541,
          "python_version": 3.6,
          "time": [
           2017,
           7
          ],
          "total": 610,
          "version": 3.6,
          "year": 2017
         },
         {
          "count": 0,
          "month": 7,
          "order": 212,
          "prop": 0,
          "python_version": null,
          "time": [
           2017,
           7
          ],
          "total": null,
          "version": 3.7,
          "year": 2017
         },
         {
          "count": 196,
          "month": 7,
          "order": 213,
          "prop": 0.32131147540983607,
          "python_version": 3.5,
          "time": [
           2017,
           7
          ],
          "total": 610,
          "version": 3.5,
          "year": 2017
         },
         {
          "count": 202,
          "month": 7,
          "order": 214,
          "prop": 0.33114754098360655,
          "python_version": 2.7,
          "time": [
           2017,
           7
          ],
          "total": 610,
          "version": 2.7,
          "year": 2017
         },
         {
          "count": 201,
          "month": 8,
          "order": 215,
          "prop": 0.29130434782608694,
          "python_version": 3.5,
          "time": [
           2017,
           8
          ],
          "total": 690,
          "version": 3.5,
          "year": 2017
         },
         {
          "count": 177,
          "month": 8,
          "order": 216,
          "prop": 0.2565217391304348,
          "python_version": 3.6,
          "time": [
           2017,
           8
          ],
          "total": 690,
          "version": 3.6,
          "year": 2017
         },
         {
          "count": 295,
          "month": 8,
          "order": 217,
          "prop": 0.427536231884058,
          "python_version": 2.7,
          "time": [
           2017,
           8
          ],
          "total": 690,
          "version": 2.7,
          "year": 2017
         },
         {
          "count": 16,
          "month": 8,
          "order": 218,
          "prop": 0.02318840579710145,
          "python_version": 3.4,
          "time": [
           2017,
           8
          ],
          "total": 690,
          "version": 3.4,
          "year": 2017
         },
         {
          "count": 0,
          "month": 8,
          "order": 219,
          "prop": 0,
          "python_version": null,
          "time": [
           2017,
           8
          ],
          "total": null,
          "version": 3.7,
          "year": 2017
         },
         {
          "count": 253,
          "month": 9,
          "order": 220,
          "prop": 0.33289473684210524,
          "python_version": 3.5,
          "time": [
           2017,
           9
          ],
          "total": 760,
          "version": 3.5,
          "year": 2017
         },
         {
          "count": 15,
          "month": 9,
          "order": 221,
          "prop": 0.019736842105263157,
          "python_version": 3.4,
          "time": [
           2017,
           9
          ],
          "total": 760,
          "version": 3.4,
          "year": 2017
         },
         {
          "count": 250,
          "month": 9,
          "order": 222,
          "prop": 0.32894736842105265,
          "python_version": 2.7,
          "time": [
           2017,
           9
          ],
          "total": 760,
          "version": 2.7,
          "year": 2017
         },
         {
          "count": 242,
          "month": 9,
          "order": 223,
          "prop": 0.31842105263157894,
          "python_version": 3.6,
          "time": [
           2017,
           9
          ],
          "total": 760,
          "version": 3.6,
          "year": 2017
         },
         {
          "count": 0,
          "month": 9,
          "order": 224,
          "prop": 0,
          "python_version": null,
          "time": [
           2017,
           9
          ],
          "total": null,
          "version": 3.7,
          "year": 2017
         },
         {
          "count": 0,
          "month": 10,
          "order": 225,
          "prop": 0,
          "python_version": null,
          "time": [
           2017,
           10
          ],
          "total": null,
          "version": 3.7,
          "year": 2017
         },
         {
          "count": 265,
          "month": 10,
          "order": 226,
          "prop": 0.3496042216358839,
          "python_version": 3.6,
          "time": [
           2017,
           10
          ],
          "total": 758,
          "version": 3.6,
          "year": 2017
         },
         {
          "count": 18,
          "month": 10,
          "order": 227,
          "prop": 0.023746701846965697,
          "python_version": 3.4,
          "time": [
           2017,
           10
          ],
          "total": 758,
          "version": 3.4,
          "year": 2017
         },
         {
          "count": 247,
          "month": 10,
          "order": 228,
          "prop": 0.3258575197889182,
          "python_version": 2.7,
          "time": [
           2017,
           10
          ],
          "total": 758,
          "version": 2.7,
          "year": 2017
         },
         {
          "count": 227,
          "month": 10,
          "order": 229,
          "prop": 0.2994722955145119,
          "python_version": 3.5,
          "time": [
           2017,
           10
          ],
          "total": 758,
          "version": 3.5,
          "year": 2017
         },
         {
          "count": 248,
          "month": 11,
          "order": 230,
          "prop": 0.28054298642533937,
          "python_version": 2.7,
          "time": [
           2017,
           11
          ],
          "total": 884,
          "version": 2.7,
          "year": 2017
         },
         {
          "count": 364,
          "month": 11,
          "order": 231,
          "prop": 0.4117647058823529,
          "python_version": 3.6,
          "time": [
           2017,
           11
          ],
          "total": 884,
          "version": 3.6,
          "year": 2017
         },
         {
          "count": 229,
          "month": 11,
          "order": 232,
          "prop": 0.25904977375565613,
          "python_version": 3.5,
          "time": [
           2017,
           11
          ],
          "total": 884,
          "version": 3.5,
          "year": 2017
         },
         {
          "count": 43,
          "month": 11,
          "order": 233,
          "prop": 0.048642533936651584,
          "python_version": 3.4,
          "time": [
           2017,
           11
          ],
          "total": 884,
          "version": 3.4,
          "year": 2017
         },
         {
          "count": 0,
          "month": 11,
          "order": 234,
          "prop": 0,
          "python_version": null,
          "time": [
           2017,
           11
          ],
          "total": null,
          "version": 3.7,
          "year": 2017
         },
         {
          "count": 261,
          "month": 12,
          "order": 235,
          "prop": 0.25588235294117645,
          "python_version": 3.5,
          "time": [
           2017,
           12
          ],
          "total": 1020,
          "version": 3.5,
          "year": 2017
         },
         {
          "count": 0,
          "month": 12,
          "order": 236,
          "prop": 0,
          "python_version": null,
          "time": [
           2017,
           12
          ],
          "total": null,
          "version": 3.7,
          "year": 2017
         },
         {
          "count": 22,
          "month": 12,
          "order": 237,
          "prop": 0.021568627450980392,
          "python_version": 3.4,
          "time": [
           2017,
           12
          ],
          "total": 1020,
          "version": 3.4,
          "year": 2017
         },
         {
          "count": 474,
          "month": 12,
          "order": 238,
          "prop": 0.4647058823529412,
          "python_version": 3.6,
          "time": [
           2017,
           12
          ],
          "total": 1020,
          "version": 3.6,
          "year": 2017
         },
         {
          "count": 263,
          "month": 12,
          "order": 239,
          "prop": 0.257843137254902,
          "python_version": 2.7,
          "time": [
           2017,
           12
          ],
          "total": 1020,
          "version": 2.7,
          "year": 2017
         },
         {
          "count": 24,
          "month": 1,
          "order": 240,
          "prop": 0.025423728813559324,
          "python_version": 3.4,
          "time": [
           2018,
           1
          ],
          "total": 944,
          "version": 3.4,
          "year": 2018
         },
         {
          "count": 0,
          "month": 1,
          "order": 241,
          "prop": 0,
          "python_version": null,
          "time": [
           2018,
           1
          ],
          "total": null,
          "version": 3.7,
          "year": 2018
         },
         {
          "count": 253,
          "month": 1,
          "order": 242,
          "prop": 0.2680084745762712,
          "python_version": 2.7,
          "time": [
           2018,
           1
          ],
          "total": 944,
          "version": 2.7,
          "year": 2018
         },
         {
          "count": 424,
          "month": 1,
          "order": 243,
          "prop": 0.4491525423728814,
          "python_version": 3.6,
          "time": [
           2018,
           1
          ],
          "total": 944,
          "version": 3.6,
          "year": 2018
         },
         {
          "count": 241,
          "month": 1,
          "order": 244,
          "prop": 0.2552966101694915,
          "python_version": 3.5,
          "time": [
           2018,
           1
          ],
          "total": 944,
          "version": 3.5,
          "year": 2018
         },
         {
          "count": 252,
          "month": 2,
          "order": 245,
          "prop": 0.23751178133836004,
          "python_version": 3.5,
          "time": [
           2018,
           2
          ],
          "total": 1061,
          "version": 3.5,
          "year": 2018
         },
         {
          "count": 19,
          "month": 2,
          "order": 246,
          "prop": 0.017907634307257305,
          "python_version": 3.4,
          "time": [
           2018,
           2
          ],
          "total": 1061,
          "version": 3.4,
          "year": 2018
         },
         {
          "count": 506,
          "month": 2,
          "order": 247,
          "prop": 0.47690857681432614,
          "python_version": 3.6,
          "time": [
           2018,
           2
          ],
          "total": 1061,
          "version": 3.6,
          "year": 2018
         },
         {
          "count": 0,
          "month": 2,
          "order": 248,
          "prop": 0,
          "python_version": null,
          "time": [
           2018,
           2
          ],
          "total": null,
          "version": 3.7,
          "year": 2018
         },
         {
          "count": 284,
          "month": 2,
          "order": 249,
          "prop": 0.26767200754005654,
          "python_version": 2.7,
          "time": [
           2018,
           2
          ],
          "total": 1061,
          "version": 2.7,
          "year": 2018
         },
         {
          "count": 47,
          "month": 3,
          "order": 250,
          "prop": 0.039662447257383965,
          "python_version": 3.4,
          "time": [
           2018,
           3
          ],
          "total": 1185,
          "version": 3.4,
          "year": 2018
         },
         {
          "count": 555,
          "month": 3,
          "order": 251,
          "prop": 0.46835443037974683,
          "python_version": 3.6,
          "time": [
           2018,
           3
          ],
          "total": 1185,
          "version": 3.6,
          "year": 2018
         },
         {
          "count": 301,
          "month": 3,
          "order": 252,
          "prop": 0.2540084388185654,
          "python_version": 3.5,
          "time": [
           2018,
           3
          ],
          "total": 1185,
          "version": 3.5,
          "year": 2018
         },
         {
          "count": 280,
          "month": 3,
          "order": 253,
          "prop": 0.23628691983122363,
          "python_version": 2.7,
          "time": [
           2018,
           3
          ],
          "total": 1185,
          "version": 2.7,
          "year": 2018
         },
         {
          "count": 0,
          "month": 3,
          "order": 254,
          "prop": 0,
          "python_version": null,
          "time": [
           2018,
           3
          ],
          "total": null,
          "version": 3.7,
          "year": 2018
         },
         {
          "count": 0,
          "month": 4,
          "order": 255,
          "prop": 0,
          "python_version": null,
          "time": [
           2018,
           4
          ],
          "total": null,
          "version": 3.7,
          "year": 2018
         },
         {
          "count": 256,
          "month": 4,
          "order": 256,
          "prop": 0.1966205837173579,
          "python_version": 2.7,
          "time": [
           2018,
           4
          ],
          "total": 1302,
          "version": 2.7,
          "year": 2018
         },
         {
          "count": 242,
          "month": 4,
          "order": 257,
          "prop": 0.1858678955453149,
          "python_version": 3.5,
          "time": [
           2018,
           4
          ],
          "total": 1302,
          "version": 3.5,
          "year": 2018
         },
         {
          "count": 27,
          "month": 4,
          "order": 258,
          "prop": 0.020737327188940093,
          "python_version": 3.4,
          "time": [
           2018,
           4
          ],
          "total": 1302,
          "version": 3.4,
          "year": 2018
         },
         {
          "count": 777,
          "month": 4,
          "order": 259,
          "prop": 0.5967741935483871,
          "python_version": 3.6,
          "time": [
           2018,
           4
          ],
          "total": 1302,
          "version": 3.6,
          "year": 2018
         },
         {
          "count": 0,
          "month": 5,
          "order": 260,
          "prop": 0,
          "python_version": null,
          "time": [
           2018,
           5
          ],
          "total": null,
          "version": 3.7,
          "year": 2018
         },
         {
          "count": 33,
          "month": 5,
          "order": 261,
          "prop": 0.021681997371879105,
          "python_version": 3.4,
          "time": [
           2018,
           5
          ],
          "total": 1522,
          "version": 3.4,
          "year": 2018
         },
         {
          "count": 273,
          "month": 5,
          "order": 262,
          "prop": 0.17936925098554535,
          "python_version": 2.7,
          "time": [
           2018,
           5
          ],
          "total": 1522,
          "version": 2.7,
          "year": 2018
         },
         {
          "count": 931,
          "month": 5,
          "order": 263,
          "prop": 0.6116951379763469,
          "python_version": 3.6,
          "time": [
           2018,
           5
          ],
          "total": 1522,
          "version": 3.6,
          "year": 2018
         },
         {
          "count": 285,
          "month": 5,
          "order": 264,
          "prop": 0.18725361366622864,
          "python_version": 3.5,
          "time": [
           2018,
           5
          ],
          "total": 1522,
          "version": 3.5,
          "year": 2018
         },
         {
          "count": 38,
          "month": 6,
          "order": 265,
          "prop": 0.024869109947643978,
          "python_version": 3.4,
          "time": [
           2018,
           6
          ],
          "total": 1528,
          "version": 3.4,
          "year": 2018
         },
         {
          "count": 0,
          "month": 6,
          "order": 266,
          "prop": 0,
          "python_version": null,
          "time": [
           2018,
           6
          ],
          "total": null,
          "version": 3.7,
          "year": 2018
         },
         {
          "count": 294,
          "month": 6,
          "order": 267,
          "prop": 0.19240837696335078,
          "python_version": 2.7,
          "time": [
           2018,
           6
          ],
          "total": 1528,
          "version": 2.7,
          "year": 2018
         },
         {
          "count": 274,
          "month": 6,
          "order": 268,
          "prop": 0.1793193717277487,
          "python_version": 3.5,
          "time": [
           2018,
           6
          ],
          "total": 1528,
          "version": 3.5,
          "year": 2018
         },
         {
          "count": 922,
          "month": 6,
          "order": 269,
          "prop": 0.6034031413612565,
          "python_version": 3.6,
          "time": [
           2018,
           6
          ],
          "total": 1528,
          "version": 3.6,
          "year": 2018
         },
         {
          "count": 53,
          "month": 7,
          "order": 270,
          "prop": 0.03287841191066997,
          "python_version": 3.4,
          "time": [
           2018,
           7
          ],
          "total": 1612,
          "version": 3.4,
          "year": 2018
         },
         {
          "count": 328,
          "month": 7,
          "order": 271,
          "prop": 0.20347394540942929,
          "python_version": 3.5,
          "time": [
           2018,
           7
          ],
          "total": 1612,
          "version": 3.5,
          "year": 2018
         },
         {
          "count": 1007,
          "month": 7,
          "order": 272,
          "prop": 0.6246898263027295,
          "python_version": 3.6,
          "time": [
           2018,
           7
          ],
          "total": 1612,
          "version": 3.6,
          "year": 2018
         },
         {
          "count": 4,
          "month": 7,
          "order": 273,
          "prop": 0.0024813895781637717,
          "python_version": 3.7,
          "time": [
           2018,
           7
          ],
          "total": 1612,
          "version": 3.7,
          "year": 2018
         },
         {
          "count": 220,
          "month": 7,
          "order": 274,
          "prop": 0.13647642679900746,
          "python_version": 2.7,
          "time": [
           2018,
           7
          ],
          "total": 1612,
          "version": 2.7,
          "year": 2018
         },
         {
          "count": 1045,
          "month": 8,
          "order": 275,
          "prop": 0.6391437308868502,
          "python_version": 3.6,
          "time": [
           2018,
           8
          ],
          "total": 1635,
          "version": 3.6,
          "year": 2018
         },
         {
          "count": 281,
          "month": 8,
          "order": 276,
          "prop": 0.17186544342507645,
          "python_version": 2.7,
          "time": [
           2018,
           8
          ],
          "total": 1635,
          "version": 2.7,
          "year": 2018
         },
         {
          "count": 35,
          "month": 8,
          "order": 277,
          "prop": 0.021406727828746176,
          "python_version": 3.4,
          "time": [
           2018,
           8
          ],
          "total": 1635,
          "version": 3.4,
          "year": 2018
         },
         {
          "count": 11,
          "month": 8,
          "order": 278,
          "prop": 0.00672782874617737,
          "python_version": 3.7,
          "time": [
           2018,
           8
          ],
          "total": 1635,
          "version": 3.7,
          "year": 2018
         },
         {
          "count": 263,
          "month": 8,
          "order": 279,
          "prop": 0.16085626911314985,
          "python_version": 3.5,
          "time": [
           2018,
           8
          ],
          "total": 1635,
          "version": 3.5,
          "year": 2018
         },
         {
          "count": 1125,
          "month": 9,
          "order": 280,
          "prop": 0.721616420782553,
          "python_version": 3.6,
          "time": [
           2018,
           9
          ],
          "total": 1559,
          "version": 3.6,
          "year": 2018
         },
         {
          "count": 24,
          "month": 9,
          "order": 281,
          "prop": 0.015394483643361129,
          "python_version": 3.4,
          "time": [
           2018,
           9
          ],
          "total": 1559,
          "version": 3.4,
          "year": 2018
         },
         {
          "count": 232,
          "month": 9,
          "order": 282,
          "prop": 0.14881334188582424,
          "python_version": 3.5,
          "time": [
           2018,
           9
          ],
          "total": 1559,
          "version": 3.5,
          "year": 2018
         },
         {
          "count": 168,
          "month": 9,
          "order": 283,
          "prop": 0.1077613855035279,
          "python_version": 2.7,
          "time": [
           2018,
           9
          ],
          "total": 1559,
          "version": 2.7,
          "year": 2018
         },
         {
          "count": 10,
          "month": 9,
          "order": 284,
          "prop": 0.006414368184733804,
          "python_version": 3.7,
          "time": [
           2018,
           9
          ],
          "total": 1559,
          "version": 3.7,
          "year": 2018
         },
         {
          "count": 21,
          "month": 10,
          "order": 285,
          "prop": 0.011235955056179775,
          "python_version": 3.4,
          "time": [
           2018,
           10
          ],
          "total": 1869,
          "version": 3.4,
          "year": 2018
         },
         {
          "count": 308,
          "month": 10,
          "order": 286,
          "prop": 0.1647940074906367,
          "python_version": 3.5,
          "time": [
           2018,
           10
          ],
          "total": 1869,
          "version": 3.5,
          "year": 2018
         },
         {
          "count": 1248,
          "month": 10,
          "order": 287,
          "prop": 0.6677367576243981,
          "python_version": 3.6,
          "time": [
           2018,
           10
          ],
          "total": 1869,
          "version": 3.6,
          "year": 2018
         },
         {
          "count": 67,
          "month": 10,
          "order": 288,
          "prop": 0.03584804708400214,
          "python_version": 3.7,
          "time": [
           2018,
           10
          ],
          "total": 1869,
          "version": 3.7,
          "year": 2018
         },
         {
          "count": 224,
          "month": 10,
          "order": 289,
          "prop": 0.1198501872659176,
          "python_version": 2.7,
          "time": [
           2018,
           10
          ],
          "total": 1869,
          "version": 2.7,
          "year": 2018
         },
         {
          "count": 1333,
          "month": 11,
          "order": 290,
          "prop": 0.648661800486618,
          "python_version": 3.6,
          "time": [
           2018,
           11
          ],
          "total": 2055,
          "version": 3.6,
          "year": 2018
         },
         {
          "count": 21,
          "month": 11,
          "order": 291,
          "prop": 0.010218978102189781,
          "python_version": 3.4,
          "time": [
           2018,
           11
          ],
          "total": 2055,
          "version": 3.4,
          "year": 2018
         },
         {
          "count": 304,
          "month": 11,
          "order": 292,
          "prop": 0.14793187347931874,
          "python_version": 3.5,
          "time": [
           2018,
           11
          ],
          "total": 2055,
          "version": 3.5,
          "year": 2018
         },
         {
          "count": 241,
          "month": 11,
          "order": 293,
          "prop": 0.11727493917274939,
          "python_version": 2.7,
          "time": [
           2018,
           11
          ],
          "total": 2055,
          "version": 2.7,
          "year": 2018
         },
         {
          "count": 156,
          "month": 11,
          "order": 294,
          "prop": 0.07591240875912408,
          "python_version": 3.7,
          "time": [
           2018,
           11
          ],
          "total": 2055,
          "version": 3.7,
          "year": 2018
         },
         {
          "count": 210,
          "month": 12,
          "order": 295,
          "prop": 0.09519492293744333,
          "python_version": 3.7,
          "time": [
           2018,
           12
          ],
          "total": 2206,
          "version": 3.7,
          "year": 2018
         },
         {
          "count": 28,
          "month": 12,
          "order": 296,
          "prop": 0.012692656391659111,
          "python_version": 3.4,
          "time": [
           2018,
           12
          ],
          "total": 2206,
          "version": 3.4,
          "year": 2018
         },
         {
          "count": 1431,
          "month": 12,
          "order": 297,
          "prop": 0.6486854034451496,
          "python_version": 3.6,
          "time": [
           2018,
           12
          ],
          "total": 2206,
          "version": 3.6,
          "year": 2018
         },
         {
          "count": 226,
          "month": 12,
          "order": 298,
          "prop": 0.10244786944696282,
          "python_version": 2.7,
          "time": [
           2018,
           12
          ],
          "total": 2206,
          "version": 2.7,
          "year": 2018
         },
         {
          "count": 311,
          "month": 12,
          "order": 299,
          "prop": 0.14097914777878512,
          "python_version": 3.5,
          "time": [
           2018,
           12
          ],
          "total": 2206,
          "version": 3.5,
          "year": 2018
         },
         {
          "count": 21,
          "month": 1,
          "order": 300,
          "prop": 0.009929078014184398,
          "python_version": 3.4,
          "time": [
           2019,
           1
          ],
          "total": 2115,
          "version": 3.4,
          "year": 2019
         },
         {
          "count": 226,
          "month": 1,
          "order": 301,
          "prop": 0.10685579196217494,
          "python_version": 2.7,
          "time": [
           2019,
           1
          ],
          "total": 2115,
          "version": 2.7,
          "year": 2019
         },
         {
          "count": 259,
          "month": 1,
          "order": 302,
          "prop": 0.12245862884160756,
          "python_version": 3.5,
          "time": [
           2019,
           1
          ],
          "total": 2115,
          "version": 3.5,
          "year": 2019
         },
         {
          "count": 1315,
          "month": 1,
          "order": 303,
          "prop": 0.6217494089834515,
          "python_version": 3.6,
          "time": [
           2019,
           1
          ],
          "total": 2115,
          "version": 3.6,
          "year": 2019
         },
         {
          "count": 293,
          "month": 1,
          "order": 304,
          "prop": 0.13853427895981088,
          "python_version": 3.7,
          "time": [
           2019,
           1
          ],
          "total": 2115,
          "version": 3.7,
          "year": 2019
         },
         {
          "count": 210,
          "month": 2,
          "order": 305,
          "prop": 0.1062753036437247,
          "python_version": 2.7,
          "time": [
           2019,
           2
          ],
          "total": 1976,
          "version": 2.7,
          "year": 2019
         },
         {
          "count": 19,
          "month": 2,
          "order": 306,
          "prop": 0.009615384615384616,
          "python_version": 3.4,
          "time": [
           2019,
           2
          ],
          "total": 1976,
          "version": 3.4,
          "year": 2019
         },
         {
          "count": 266,
          "month": 2,
          "order": 307,
          "prop": 0.1346153846153846,
          "python_version": 3.5,
          "time": [
           2019,
           2
          ],
          "total": 1976,
          "version": 3.5,
          "year": 2019
         },
         {
          "count": 1196,
          "month": 2,
          "order": 308,
          "prop": 0.6052631578947368,
          "python_version": 3.6,
          "time": [
           2019,
           2
          ],
          "total": 1976,
          "version": 3.6,
          "year": 2019
         },
         {
          "count": 284,
          "month": 2,
          "order": 309,
          "prop": 0.1437246963562753,
          "python_version": 3.7,
          "time": [
           2019,
           2
          ],
          "total": 1976,
          "version": 3.7,
          "year": 2019
         },
         {
          "count": 483,
          "month": 3,
          "order": 310,
          "prop": 0.18378995433789955,
          "python_version": 3.7,
          "time": [
           2019,
           3
          ],
          "total": 2628,
          "version": 3.7,
          "year": 2019
         },
         {
          "count": 334,
          "month": 3,
          "order": 311,
          "prop": 0.12709284627092846,
          "python_version": 3.5,
          "time": [
           2019,
           3
          ],
          "total": 2628,
          "version": 3.5,
          "year": 2019
         },
         {
          "count": 1552,
          "month": 3,
          "order": 312,
          "prop": 0.5905631659056316,
          "python_version": 3.6,
          "time": [
           2019,
           3
          ],
          "total": 2628,
          "version": 3.6,
          "year": 2019
         },
         {
          "count": 240,
          "month": 3,
          "order": 313,
          "prop": 0.091324200913242,
          "python_version": 2.7,
          "time": [
           2019,
           3
          ],
          "total": 2628,
          "version": 2.7,
          "year": 2019
         },
         {
          "count": 19,
          "month": 3,
          "order": 314,
          "prop": 0.007229832572298325,
          "python_version": 3.4,
          "time": [
           2019,
           3
          ],
          "total": 2628,
          "version": 3.4,
          "year": 2019
         },
         {
          "count": 219,
          "month": 4,
          "order": 315,
          "prop": 0.07451514120449132,
          "python_version": 2.7,
          "time": [
           2019,
           4
          ],
          "total": 2939,
          "version": 2.7,
          "year": 2019
         },
         {
          "count": 1724,
          "month": 4,
          "order": 316,
          "prop": 0.586594079618918,
          "python_version": 3.6,
          "time": [
           2019,
           4
          ],
          "total": 2939,
          "version": 3.6,
          "year": 2019
         },
         {
          "count": 298,
          "month": 4,
          "order": 317,
          "prop": 0.1013950323239197,
          "python_version": 3.5,
          "time": [
           2019,
           4
          ],
          "total": 2939,
          "version": 3.5,
          "year": 2019
         },
         {
          "count": 668,
          "month": 4,
          "order": 318,
          "prop": 0.22728819326301464,
          "python_version": 3.7,
          "time": [
           2019,
           4
          ],
          "total": 2939,
          "version": 3.7,
          "year": 2019
         },
         {
          "count": 30,
          "month": 4,
          "order": 319,
          "prop": 0.010207553589656346,
          "python_version": 3.4,
          "time": [
           2019,
           4
          ],
          "total": 2939,
          "version": 3.4,
          "year": 2019
         },
         {
          "count": 265,
          "month": 5,
          "order": 320,
          "prop": 0.06917253980683895,
          "python_version": 2.7,
          "time": [
           2019,
           5
          ],
          "total": 3831,
          "version": 2.7,
          "year": 2019
         },
         {
          "count": 406,
          "month": 5,
          "order": 321,
          "prop": 0.10597755155311929,
          "python_version": 3.5,
          "time": [
           2019,
           5
          ],
          "total": 3831,
          "version": 3.5,
          "year": 2019
         },
         {
          "count": 17,
          "month": 5,
          "order": 322,
          "prop": 0.004437483685721744,
          "python_version": 3.4,
          "time": [
           2019,
           5
          ],
          "total": 3831,
          "version": 3.4,
          "year": 2019
         },
         {
          "count": 995,
          "month": 5,
          "order": 323,
          "prop": 0.25972330984077263,
          "python_version": 3.7,
          "time": [
           2019,
           5
          ],
          "total": 3831,
          "version": 3.7,
          "year": 2019
         },
         {
          "count": 2148,
          "month": 5,
          "order": 324,
          "prop": 0.5606891151135474,
          "python_version": 3.6,
          "time": [
           2019,
           5
          ],
          "total": 3831,
          "version": 3.6,
          "year": 2019
         },
         {
          "count": 2335,
          "month": 6,
          "order": 325,
          "prop": 0.5123985077902129,
          "python_version": 3.6,
          "time": [
           2019,
           6
          ],
          "total": 4557,
          "version": 3.6,
          "year": 2019
         },
         {
          "count": 447,
          "month": 6,
          "order": 326,
          "prop": 0.09809084924292298,
          "python_version": 3.5,
          "time": [
           2019,
           6
          ],
          "total": 4557,
          "version": 3.5,
          "year": 2019
         },
         {
          "count": 313,
          "month": 6,
          "order": 327,
          "prop": 0.06868553873162168,
          "python_version": 2.7,
          "time": [
           2019,
           6
          ],
          "total": 4557,
          "version": 2.7,
          "year": 2019
         },
         {
          "count": 32,
          "month": 6,
          "order": 328,
          "prop": 0.007022163704191354,
          "python_version": 3.4,
          "time": [
           2019,
           6
          ],
          "total": 4557,
          "version": 3.4,
          "year": 2019
         },
         {
          "count": 1430,
          "month": 6,
          "order": 329,
          "prop": 0.3138029405310511,
          "python_version": 3.7,
          "time": [
           2019,
           6
          ],
          "total": 4557,
          "version": 3.7,
          "year": 2019
         },
         {
          "count": 2350,
          "month": 7,
          "order": 330,
          "prop": 0.5059203444564048,
          "python_version": 3.6,
          "time": [
           2019,
           7
          ],
          "total": 4645,
          "version": 3.6,
          "year": 2019
         },
         {
          "count": 325,
          "month": 7,
          "order": 331,
          "prop": 0.06996770721205597,
          "python_version": 2.7,
          "time": [
           2019,
           7
          ],
          "total": 4645,
          "version": 2.7,
          "year": 2019
         },
         {
          "count": 34,
          "month": 7,
          "order": 332,
          "prop": 0.0073196986006458555,
          "python_version": 3.4,
          "time": [
           2019,
           7
          ],
          "total": 4645,
          "version": 3.4,
          "year": 2019
         },
         {
          "count": 400,
          "month": 7,
          "order": 333,
          "prop": 0.0861141011840689,
          "python_version": 3.5,
          "time": [
           2019,
           7
          ],
          "total": 4645,
          "version": 3.5,
          "year": 2019
         },
         {
          "count": 1536,
          "month": 7,
          "order": 334,
          "prop": 0.33067814854682454,
          "python_version": 3.7,
          "time": [
           2019,
           7
          ],
          "total": 4645,
          "version": 3.7,
          "year": 2019
         }
        ]
       },
       "encoding": {
        "color": {
         "field": "version",
         "scale": {
          "scheme": "yellowgreenblue"
         },
         "title": "Version",
         "type": "ordinal"
        },
        "x": {
         "field": "order",
         "title": "Months since January of 2014",
         "type": "quantitative"
        },
        "y": {
         "field": "prop",
         "title": "Proportion of Notebooks in Given Year",
         "type": "quantitative"
        }
       },
       "mark": {
        "strokeWidth": 3,
        "type": "line"
       },
       "title": "Python Versions over Time",
       "width": 500
      },
      "image/png": "[encoded data removed]",
      "text/plain": [
       "<VegaLite 3 object>\n",
       "\n",
       "If you see this message, it means the renderer has not been properly enabled\n",
       "for the frontend that you are using. For more information, see\n",
       "https://altair-viz.github.io/user_guide/troubleshooting.html\n"
      ]
     },
     "execution_count": 20,
     "metadata": {},
     "output_type": "execute_result"
    }
   ],
   "source": [
    "alt.Chart(monthly_counts, width = 500, title = \"Python Versions over Time\").mark_line(strokeWidth=3).encode(\n",
    "    alt.X('order', title='Months since '+first),\n",
    "    alt.Y('prop', title='Proportion of Notebooks in Given Year'),\n",
    "    alt.Color('version:O', scale=alt.Scale(scheme='yellowgreenblue'), title = 'Version')\n",
    ")"
   ]
  },
  {
   "cell_type": "markdown",
   "metadata": {},
   "source": [
    "Release dates all make sense with this visualization ([reference](https://en.wikipedia.org/wiki/History_of_Python)):\n",
    "- 2.7: July 2010\n",
    "- 3.3: September 2012\n",
    "- 3.4: March 2014\n",
    "- 3.5: September 2015\n",
    "- 3.6: December 2016\n",
    "- 3.7: June 2018"
   ]
  },
  {
   "cell_type": "markdown",
   "metadata": {},
   "source": [
    "<center> <a href = 1_Popularity.ipynb>Notebook Popularity &lt;</a> | <a href = 3_Frameworks.ipynb>&gt; ML Framework Use</a> <center>"
   ]
  }
 ],
 "metadata": {
  "kernelspec": {
   "display_name": "Python 3",
   "language": "python",
   "name": "python3"
  },
  "language_info": {
   "codemirror_mode": {
    "name": "ipython",
    "version": 3
   },
   "file_extension": ".py",
   "mimetype": "text/x-python",
   "name": "python",
   "nbconvert_exporter": "python",
   "pygments_lexer": "ipython3",
   "version": "3.7.3"
  }
 },
 "nbformat": 4,
 "nbformat_minor": 4
}
