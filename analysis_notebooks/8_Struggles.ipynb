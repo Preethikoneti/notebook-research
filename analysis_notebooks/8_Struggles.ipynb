{
 "cells": [
  {
   "cell_type": "markdown",
   "metadata": {},
   "source": [
    "# What are users struggling the most with?\n",
    "\n",
    "- Only 0.88% of cells have errors.\n",
    "- 14.92% of notebooks have at least one error.\n",
    "- Errors are less frequent in notebooks using machine learning frameworks. We are 95% confident that the average number of errors in notebooks using one of the three machine learning frameworks is between 0.09 and 0.05 lower than the average number of errors in notebooks not using machine learning.\n",
    "----------"
   ]
  },
  {
   "cell_type": "code",
   "execution_count": 1,
   "metadata": {},
   "outputs": [],
   "source": [
    "import pandas as pd\n",
    "import numpy as np\n",
    "import altair as alt\n",
    "import scipy.stats as st\n",
    "import math\n",
    "import matplotlib.pyplot as plt"
   ]
  },
  {
   "cell_type": "code",
   "execution_count": 2,
   "metadata": {},
   "outputs": [],
   "source": [
    "import load_data\n",
    "notebooks, cells, owners, readmes, repos = load_data.load()\n",
    "notebooks = notebooks[notebooks.lang_name == 'python']\n",
    "cells = cells[cells.file.isin(notebooks.file)]\n",
    "repos = repos[repos.repo_id.isin(notebooks.repo_id)]\n",
    "owner = owners[owners.owner_id.isin(repos.owner_id)]\n",
    "readmes = readmes[readmes.readme_id.isin(repos.readme_id)]"
   ]
  },
  {
   "cell_type": "markdown",
   "metadata": {},
   "source": [
    "# Looking at Errors"
   ]
  },
  {
   "cell_type": "code",
   "execution_count": 3,
   "metadata": {},
   "outputs": [
    {
     "name": "stdout",
     "output_type": "stream",
     "text": [
      "Only 0.88% of cells have errors.\n"
     ]
    }
   ],
   "source": [
    "percent_error = 100 * sum(cells.num_error > 0) / len(cells)\n",
    "print(\"Only {0}% of cells have errors.\".format(round(percent_error, 2)))"
   ]
  },
  {
   "cell_type": "code",
   "execution_count": 4,
   "metadata": {},
   "outputs": [
    {
     "name": "stdout",
     "output_type": "stream",
     "text": [
      "14.92% of notebooks have at least one error.\n",
      "\n",
      "15106 notebooks have no errors.\n",
      "2649 notebooks have at least one error.\n",
      "76 notebooks have at least five errors.\n"
     ]
    }
   ],
   "source": [
    "file_errors = cells.groupby('file')['num_error'].sum().reset_index()\n",
    "percent_nb_error = 100 * sum(file_errors.num_error > 0) / len(file_errors)\n",
    "none = sum(file_errors.num_error == 0)\n",
    "at_least_1 = sum(file_errors.num_error > 0)\n",
    "at_least_5 = sum(file_errors.num_error >= 5)\n",
    "\n",
    "print(\"{0}% of notebooks have at least one error.\".format(round(percent_nb_error, 2)))\n",
    "print(\"\\n{0} notebooks have no errors.\".format(round(none, 2)))\n",
    "print(\"{0} notebooks have at least one error.\".format(round(at_least_1, 2)))\n",
    "print(\"{0} notebooks have at least five errors.\".format(round(at_least_5, 2)))"
   ]
  },
  {
   "cell_type": "code",
   "execution_count": 5,
   "metadata": {},
   "outputs": [],
   "source": [
    "error_cells = cells[cells.num_error > 0]\n",
    "all_errors = ','.join([','.join([e for e in error]) for error in error_cells.error_names]).split(',')\n",
    "error_counts = pd.Series(all_errors).value_counts().reset_index().rename(columns = {'index':'error', 0:'count'})"
   ]
  },
  {
   "cell_type": "code",
   "execution_count": 6,
   "metadata": {},
   "outputs": [
    {
     "data": {
      "application/vnd.vegalite.v3+json": {
       "$schema": "https://vega.github.io/schema/vega-lite/v3.3.0.json",
       "config": {
        "mark": {
         "tooltip": null
        },
        "view": {
         "height": 300,
         "width": 400
        }
       },
       "data": {
        "name": "data-2b4be7a738e692d5ac4dec9fba4f68f2"
       },
       "datasets": {
        "data-2b4be7a738e692d5ac4dec9fba4f68f2": [
         {
          "count": 778,
          "error": "NameError"
         },
         {
          "count": 717,
          "error": "TypeError"
         },
         {
          "count": 428,
          "error": "SyntaxError"
         },
         {
          "count": 389,
          "error": "ValueError"
         },
         {
          "count": 326,
          "error": "KeyboardInterrupt"
         },
         {
          "count": 234,
          "error": "AttributeError"
         },
         {
          "count": 139,
          "error": "KeyError"
         },
         {
          "count": 129,
          "error": "IndexError"
         },
         {
          "count": 108,
          "error": "AssertionError"
         },
         {
          "count": 96,
          "error": "FileNotFoundError"
         },
         {
          "count": 94,
          "error": "ImportError"
         },
         {
          "count": 87,
          "error": "ModuleNotFoundError"
         },
         {
          "count": 57,
          "error": "IOError"
         },
         {
          "count": 57,
          "error": "RuntimeError"
         },
         {
          "count": 52,
          "error": "IndentationError"
         },
         {
          "count": 37,
          "error": "ZeroDivisionError"
         },
         {
          "count": 35,
          "error": "StopIteration"
         },
         {
          "count": 26,
          "error": "SystemExit"
         },
         {
          "count": 20,
          "error": "OSError"
         },
         {
          "count": 19,
          "error": "MemoryError"
         },
         {
          "count": 13,
          "error": "UnboundLocalError"
         },
         {
          "count": 12,
          "error": "OperationalError"
         },
         {
          "count": 12,
          "error": "UnicodeDecodeError"
         },
         {
          "count": 12,
          "error": "NotImplementedError"
         },
         {
          "count": 11,
          "error": "error"
         },
         {
          "count": 11,
          "error": "Exception"
         },
         {
          "count": 10,
          "error": "ConnectionError"
         },
         {
          "count": 9,
          "error": "InvalidArgumentError"
         },
         {
          "count": 8,
          "error": "URLError"
         },
         {
          "count": 8,
          "error": "Py4JJavaError"
         },
         {
          "count": 7,
          "error": "NoSuchWindowException"
         },
         {
          "count": 6,
          "error": "HTTPError"
         }
        ]
       },
       "encoding": {
        "x": {
         "field": "error",
         "sort": {
          "field": "count",
          "op": "sum",
          "order": "descending"
         },
         "type": "nominal"
        },
        "y": {
         "field": "count",
         "type": "quantitative"
        }
       },
       "mark": {
        "color": "teal",
        "type": "bar"
       }
      },
      "image/png": "[encoded data removed]",
      "text/plain": [
       "<VegaLite 3 object>\n",
       "\n",
       "If you see this message, it means the renderer has not been properly enabled\n",
       "for the frontend that you are using. For more information, see\n",
       "https://altair-viz.github.io/user_guide/troubleshooting.html\n"
      ]
     },
     "execution_count": 6,
     "metadata": {},
     "output_type": "execute_result"
    }
   ],
   "source": [
    "alt.Chart(error_counts[error_counts['count'] > 5]).mark_bar(color = 'teal').encode(\n",
    "    alt.X('error', sort = alt.EncodingSortField(field=\"count\", op=\"sum\",order=\"descending\")),\n",
    "    alt.Y('count')\n",
    ")"
   ]
  },
  {
   "cell_type": "markdown",
   "metadata": {},
   "source": [
    "# Are errors more or less likely to occur in notebooks using machine learning frameworks?"
   ]
  },
  {
   "cell_type": "code",
   "execution_count": 7,
   "metadata": {},
   "outputs": [],
   "source": [
    "cells['sklearn'] = [sum([e[0].startswith('sklearn') for e in errors]) > 1 for errors in cells['imports']]\n",
    "cells['tensorflow'] = [sum([e[0].startswith('tensorflow') for e in errors]) > 1 for errors in cells['imports']]\n",
    "cells['keras'] = [sum([e[0].startswith('keras') for e in errors]) > 1 for errors in cells['imports']]"
   ]
  },
  {
   "cell_type": "code",
   "execution_count": 8,
   "metadata": {},
   "outputs": [],
   "source": [
    "def at_least1(list_of_bool):\n",
    "    return sum(list_of_bool) > 0\n",
    "\n",
    "cells = cells.drop(['sklearn','tensorflow','keras'], axis = 1).merge(cells.groupby('file')[\n",
    "    ['sklearn','tensorflow','keras']\n",
    "].aggregate(at_least1).reset_index(), on = 'file')"
   ]
  },
  {
   "cell_type": "markdown",
   "metadata": {},
   "source": [
    "$H_0$: $µ_{ml}$ = $µ_{not ml}$\n",
    "\n",
    "$H_0$: $µ_{ml}$ ≠ $µ_{not ml}$\n",
    "\n",
    "Where $µ_{ml}$ is the average number of errors in a notebook using at least one of the tree machine learning frameworks, $µ_{not ml}$ is the average number of errors in a notebook *not* using any of the tree machine learning frameworks."
   ]
  },
  {
   "cell_type": "code",
   "execution_count": 9,
   "metadata": {},
   "outputs": [],
   "source": [
    "file_errors_ml = cells.groupby('file')[\n",
    "    ['sklearn','tensorflow','keras']\n",
    "].aggregate(at_least1).reset_index().merge(file_errors, on = 'file')\n",
    "\n",
    "ml_files = file_errors_ml[\n",
    "    np.logical_or(file_errors_ml['keras'], np.logical_or(file_errors_ml['sklearn'], file_errors_ml['tensorflow']))\n",
    "]\n",
    "\n",
    "non_ml_files = file_errors_ml[\n",
    "    ~np.logical_or(file_errors_ml['keras'], np.logical_or(file_errors_ml['sklearn'], file_errors_ml['tensorflow']))\n",
    "]"
   ]
  },
  {
   "cell_type": "code",
   "execution_count": 10,
   "metadata": {},
   "outputs": [
    {
     "data": {
      "image/png": "[encoded data removed]",
      "text/plain": [
       "<Figure size 720x360 with 2 Axes>"
      ]
     },
     "metadata": {
      "needs_background": "light"
     },
     "output_type": "display_data"
    }
   ],
   "source": [
    "fig = plt.figure(figsize = (10,5))\n",
    "\n",
    "plt.subplot(1,2,1)\n",
    "plt.title('Notebooks Using Machine Learning')\n",
    "plt.yscale('log')\n",
    "plt.ylim(1, 15000)\n",
    "plt.xlim(0, 15)\n",
    "plt.hist(ml_files.num_error, bins = range(15), color = 'teal')\n",
    "\n",
    "plt.subplot(1,2,2)\n",
    "plt.title('Notebooks Not Using Machine Learning')\n",
    "plt.yscale('log')\n",
    "plt.ylim(1, 15000)\n",
    "plt.xlim(0, 15)\n",
    "plt.hist(non_ml_files.num_error, bins = range(15), color = 'teal')\n",
    "\n",
    "plt.show()"
   ]
  },
  {
   "cell_type": "markdown",
   "metadata": {},
   "source": [
    "Both groups of notebooks number of errors concentrated at 0, which makes sense seeing as only 14.92% of notebooks have errors. There are many more notebooks not using machine learning than there are using maching learning frameworks. Both distributions are skewed right. The number of errors for notebooks not using machine learning go far higher than that for notebooks using machine learning."
   ]
  },
  {
   "cell_type": "code",
   "execution_count": 11,
   "metadata": {},
   "outputs": [
    {
     "name": "stdout",
     "output_type": "stream",
     "text": [
      "T-statistic: -7.05\n",
      "P-value: 0.0\n"
     ]
    }
   ],
   "source": [
    "n_ml = len(ml_files)\n",
    "xbar_ml = pd.Series(ml_files.num_error).mean()\n",
    "s2_ml = pd.Series(ml_files.num_error).var()\n",
    "\n",
    "n_notml = len(non_ml_files)\n",
    "xbar_notml = pd.Series(non_ml_files.num_error).mean()\n",
    "s2_notml = pd.Series(non_ml_files.num_error).var()\n",
    "\n",
    "df = n_ml + n_notml - 2\n",
    "\n",
    "t = (xbar_ml - xbar_notml) / math.sqrt(s2_ml/n_ml + s2_notml/n_notml)\n",
    "p_value = 2*st.t.cdf(t, df)\n",
    "\n",
    "print(\"T-statistic:\", round(t,2))\n",
    "print(\"P-value:\", round(p_value,2))"
   ]
  },
  {
   "cell_type": "markdown",
   "metadata": {},
   "source": [
    "At any reasonable significance level, the p-value of 0.0 provides very strong evidence to reject the null hypothesis and conclude that the mean number of errors is different between notebooks using at least one of the three main machine learning frameworks (tensorflow, keras, sklearn) and notebooks using none."
   ]
  },
  {
   "cell_type": "code",
   "execution_count": 13,
   "metadata": {},
   "outputs": [
    {
     "name": "stdout",
     "output_type": "stream",
     "text": [
      "We are 95% confident that the average number of errors in notebooks using one of the three machine learning frameworks is between 0.05 and 0.09 lower than the average number of errors in notebooks not using machine learning.\n"
     ]
    }
   ],
   "source": [
    "lower = (xbar_ml - xbar_notml) -  st.t.ppf(0.975, df) * math.sqrt(s2_ml/n_ml + s2_notml/n_notml)\n",
    "upper = (xbar_ml - xbar_notml) + st.t.ppf(0.975, df) * math.sqrt(s2_ml/n_ml + s2_notml/n_notml)\n",
    "print(\"\"\"We are 95% confident that the average number of errors in notebooks using one of the \\\n",
    "three machine learning frameworks is between {0} and {1} lower than the average number of errors \\\n",
    "in notebooks not using machine learning.\"\"\".format(\n",
    "    round(-1*upper, 2),\n",
    "    round(-1*lower, 2)\n",
    "))"
   ]
  },
  {
   "cell_type": "markdown",
   "metadata": {},
   "source": [
    "Errors are less likely in notebooks using machine learning frameworks. This may be because the owners of these notebooks are more experienced than users who do not use machine learning. It's also possible that notebooks using machine learning frameworks are written as presentation quality, while other notebooks could be more for personal exploration."
   ]
  },
  {
   "cell_type": "markdown",
   "metadata": {},
   "source": [
    "<center> <a href = 7_Time.ipynb>Time Spent &lt;</a> | <a href = 9_APIs.ipynb>&gt; API Design</a> <center>"
   ]
  }
 ],
 "metadata": {
  "kernelspec": {
   "display_name": "Python 3",
   "language": "python",
   "name": "python3"
  },
  "language_info": {
   "codemirror_mode": {
    "name": "ipython",
    "version": 3
   },
   "file_extension": ".py",
   "mimetype": "text/x-python",
   "name": "python",
   "nbconvert_exporter": "python",
   "pygments_lexer": "ipython3",
   "version": "3.7.3"
  }
 },
 "nbformat": 4,
 "nbformat_minor": 4
}
