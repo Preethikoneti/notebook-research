{
 "cells": [
  {
   "cell_type": "markdown",
   "metadata": {},
   "source": [
    "[Notebook Owners &lt;](3_Owners.ipynb) | [&gt; Collaboration](5_Collaboration.ipynb)"
   ]
  },
  {
   "cell_type": "markdown",
   "metadata": {},
   "source": [
    "# How are notebooks organized?\n",
    "\n",
    "To look into variables, functions, and imports, I used python abstract syntax tree. Only 86.25% of Python 3 notebooks were able to be fully parsed by the ast package. The remaining could have failed due to a syntax error in the users code or because of a parsing problem with strings being held in json files.\n",
    "\n",
    "## Results Summary:\n",
    "- The median number of cells per notebook is 19.0 (average 28.71)\n",
    "- 3.97% of notebooks have no code. Among notebooks with code, there is an average of 145.7 lines of code per notebook. The median is 86 lines. The most is 462,118 lines.\n",
    "- 22.77% of notebooks have no markdown text. Among notebooks with markdown, the average is 550.87 words of text. The median is 194. The notebook with the most markdown has 200,404 words of markdown.\n",
    "- Markdown is more likely to occur at the very beginning of a notebook (53% of cells in the first 5% of a given notebook) than it is to occur towards the end (26% of cells in the last 5% of a given notebook).\n",
    "- Execution order:\n",
    "    - 25% of notebooks have cells run out of order.\n",
    "    - 84% of notebooks have at least one displayed result.\n",
    "    - 29% of notebooks with at least one displayed result have cells run out of order.\n",
    "    - 27.19% of notebooks with at least one displayed result have cells run out of order.\n",
    "- Variables\n",
    "    - 2.72% of notebooks that could be parsed had variables used before they were defined.\n",
    "    - Of these, there are an average of 1.51 variables used before they were defined.\n",
    "    - Within notebooks that could be parsed, there are on average 6.38 variables defined that are never used.\n",
    "- Functions\n",
    "    - 5.54% of notebooks that could be parsed had functions used before they were defined.\n",
    "    - Of these, there are an average of 2.01 functions used before they were defined.\n",
    "    - Within notebooks that could be parsed, there are on average 1.6 functions defined that are never used.\n",
    "    - **Among notebooks that have at least one user defined function**\n",
    "        - 12.53% of notebooks that could be parsed and have at least one user defined function had functions used before they were defined.\n",
    "- Imports\n",
    "    - 1.21% of notebooks that could be parsed had packages used before they were imported.\n",
    "    - Of these, there are an average of 1.28 packages used before they were imported.\n",
    "    - Within notebooks that could be parsed, there are on average 3.99 packages imported that are never used.\n",
    "    - **Among notebooks that have at least one import**\n",
    "        -  1.57% of notebooks that could be parsed and had at least one import had packages used before they were imported.\n",
    "- Output\n",
    "    - 84.03% of notebooks have at least one output.\n",
    "    - 68.34% of notebooks have at least one stream output.\n",
    "    - 44.73% of notebooks have at least one display output.\n",
    "    - 59.26% of notebooks have at least one execution output.\n",
    "- Repo Descriptions\n",
    "    - 54.13% of repositories have descriptions\n",
    "    - The most commonly used words in readmes and repo descriptions are: data, learning, project, python, using, machine, analysis, code, repository, and deep.\n",
    "\n",
    "---"
   ]
  },
  {
   "cell_type": "markdown",
   "metadata": {},
   "source": [
    "# Import Packages and Load Data"
   ]
  },
  {
   "cell_type": "code",
   "execution_count": 1,
   "metadata": {
    "collapsed": true,
    "jupyter": {
     "outputs_hidden": true
    }
   },
   "outputs": [],
   "source": [
    "import load_data\n",
    "import datetime\n",
    "import pandas as pd\n",
    "import numpy as np\n",
    "import math\n",
    "import pickle\n",
    "from io import BytesIO, StringIO\n",
    "import matplotlib.pyplot as plt\n",
    "import ast\n",
    "import scipy\n",
    "import re\n",
    "from collections import deque\n",
    "import nltk\n",
    "from nltk.corpus import stopwords\n",
    "stop = set(stopwords.words('english'))\n"
   ]
  },
  {
   "cell_type": "markdown",
   "metadata": {},
   "source": [
    "Load dataframes"
   ]
  },
  {
   "cell_type": "code",
   "execution_count": 2,
   "metadata": {},
   "outputs": [
    {
     "name": "stdout",
     "output_type": "stream",
     "text": [
      "Notebooks loaded in 0:00:30.149199\n",
      "Repos loaded in 0:00:04.110168\n"
     ]
    }
   ],
   "source": [
    "notebooks = load_data.load_notebooks()\n",
    "repos = load_data.load_repos()"
   ]
  },
  {
   "cell_type": "markdown",
   "metadata": {},
   "source": [
    "Load aggregated dataframes. Code used to create cell types, cell order, cell stats, output, and statuses is in [aggregate.py](aggregate.py)."
   ]
  },
  {
   "cell_type": "code",
   "execution_count": 3,
   "metadata": {},
   "outputs": [
    {
     "name": "stdout",
     "output_type": "stream",
     "text": [
      "Cell types loaded in 0:00:01.890610\n",
      "Cell order loaded in 0:00:43.181705\n",
      "Cell stats loaded in 0:00:01.896449\n",
      "Statuses loaded in 0:00:02.040861\n",
      "Outputs loaded in 0:00:05.719131\n"
     ]
    }
   ],
   "source": [
    "cell_types_df = load_data.load_cell_types()\n",
    "cell_order_df = load_data.load_cell_order()\n",
    "cell_stats_df = load_data.load_cell_stats()\n",
    "statuses_df = load_data.load_statuses()\n",
    "output_df = load_data.load_output()"
   ]
  },
  {
   "cell_type": "code",
   "execution_count": 4,
   "metadata": {},
   "outputs": [
    {
     "name": "stdout",
     "output_type": "stream",
     "text": [
      "86.25% of Python 3 notebooks were able to be parsed with the Python Abstract Syntax Tree\n"
     ]
    }
   ],
   "source": [
    "notebooks_py3 = notebooks[(notebooks.lang_name == 'python')&([str(n).startswith('3') for n in notebooks.lang_version])]\n",
    "notebooks_py3 = notebooks_py3.merge(statuses_df[['file','syntax']], on = 'file')\n",
    "print(\"{0}% of Python 3 notebooks were able to be parsed with the Python Abstract Syntax Tree\".format(\n",
    "    round(100*sum(notebooks_py3.syntax)/len(notebooks_py3), 2)\n",
    "))"
   ]
  },
  {
   "cell_type": "markdown",
   "metadata": {},
   "source": [
    "---"
   ]
  },
  {
   "cell_type": "markdown",
   "metadata": {},
   "source": [
    "# Manipulate Data"
   ]
  },
  {
   "cell_type": "markdown",
   "metadata": {},
   "source": [
    "### Cells, lines of code, and words of markdown per notebook"
   ]
  },
  {
   "cell_type": "code",
   "execution_count": 5,
   "metadata": {},
   "outputs": [
    {
     "name": "stdout",
     "output_type": "stream",
     "text": [
      "0:00:16.138132\n"
     ]
    }
   ],
   "source": [
    "# 15 seconds\n",
    "# Look at notebooks with at least one non-empty cell\n",
    "start = datetime.datetime.now()\n",
    "\n",
    "nbs_w_cells = set(cell_stats_df[np.logical_or(\n",
    "            cell_stats_df.lines_of_code != 0,\n",
    "            cell_stats_df.num_words != 0\n",
    "        )].file.unique())\n",
    "\n",
    "cell_stats_w_cells_df = cell_stats_df[cell_stats_df.file.isin(nbs_w_cells)]\n",
    "\n",
    "notebooks = notebooks[notebooks.file.isin(nbs_w_cells)]\n",
    "\n",
    "end = datetime.datetime.now()\n",
    "print(end - start)"
   ]
  },
  {
   "cell_type": "markdown",
   "metadata": {},
   "source": [
    "### Markdown to Code distribution throughout the notebook"
   ]
  },
  {
   "cell_type": "code",
   "execution_count": 6,
   "metadata": {},
   "outputs": [],
   "source": [
    "def get_distribution(round_dec = 1):\n",
    "\n",
    "    def get_type(t):\n",
    "        if t in ['markdown','heading',\n",
    "                 'markdownn','moarkdown'\n",
    "        ]:\n",
    "            return 'markdown'\n",
    "        elif t == 'interactivecode' or str(t).startswith('code'):\n",
    "            return 'code'\n",
    "        else:\n",
    "            return None\n",
    "    \n",
    "    distribution = {\n",
    "        'type': [],\n",
    "        'place': [],\n",
    "        'count': []\n",
    "    }\n",
    "    \n",
    "    count = 0\n",
    "    for order in cell_order_df.cell_type:\n",
    "        if len(order) > 1:\n",
    "            for i in range(len(order)):\n",
    "                cell_type = get_type(order[i])\n",
    "                if cell_type != None:\n",
    "                    placement = round(i / (len(order)-1),round_dec)\n",
    "                    distribution['type'].append(cell_type)\n",
    "                    distribution['place'].append(placement)\n",
    "                    distribution['count'].append(count)\n",
    "                    count += 1\n",
    "           \n",
    "    return pd.DataFrame(distribution)"
   ]
  },
  {
   "cell_type": "markdown",
   "metadata": {},
   "source": [
    "#### Distribution with quantile rounded to the 10s place"
   ]
  },
  {
   "cell_type": "code",
   "execution_count": 7,
   "metadata": {},
   "outputs": [
    {
     "name": "stdout",
     "output_type": "stream",
     "text": [
      "0:05:09.617156\n"
     ]
    }
   ],
   "source": [
    "# about 6 minutes\n",
    "start = datetime.datetime.now()\n",
    "\n",
    "distribution = get_distribution()\n",
    "distribution_counts = distribution.groupby(\n",
    "    ['place','type']\n",
    ")['count'].sum().reset_index()\n",
    "distribution_total = distribution_counts.groupby(\n",
    "        'place'\n",
    "    )['count'].sum().reset_index().rename(\n",
    "        columns={'count':'total'}\n",
    ")\n",
    "distribution_df = distribution_counts.merge(distribution_total, on = 'place')\n",
    "distribution_df['prop'] = distribution_df['count'] / distribution_df['total']\n",
    "\n",
    "end = datetime.datetime.now()\n",
    "print(end - start)"
   ]
  },
  {
   "cell_type": "markdown",
   "metadata": {},
   "source": [
    "---"
   ]
  },
  {
   "cell_type": "markdown",
   "metadata": {},
   "source": [
    "# Visualizations & Statistics"
   ]
  },
  {
   "cell_type": "markdown",
   "metadata": {},
   "source": [
    "## Cells, lines of code, and words of markdown per notebook"
   ]
  },
  {
   "cell_type": "code",
   "execution_count": 8,
   "metadata": {},
   "outputs": [
    {
     "name": "stdout",
     "output_type": "stream",
     "text": [
      "The median number of cells per notebook is 19.0. The average number of cells per notebooks is 28.71.\n"
     ]
    }
   ],
   "source": [
    "med = cell_stats_df.num_cells.median()\n",
    "mean = cell_stats_df.num_cells.mean()\n",
    "\n",
    "print(\"The median number of cells per notebook is {0}. The average number of cells per notebooks is {1}.\".format(\n",
    "    med, round(mean,2)\n",
    "))"
   ]
  },
  {
   "cell_type": "code",
   "execution_count": 9,
   "metadata": {},
   "outputs": [
    {
     "name": "stdout",
     "output_type": "stream",
     "text": [
      "3.97% of notebooks have no code. Among notebooks with code, there is an average of 145.67 lines of code per notebook. The median is 86 lines. The most is 462,118 lines.\n"
     ]
    }
   ],
   "source": [
    "prop_0 = sum(cell_stats_df.lines_of_code == 0)/len(cell_stats_df)\n",
    "med = cell_stats_df[cell_stats_df.lines_of_code > 0].lines_of_code.median()\n",
    "mean = cell_stats_df[cell_stats_df.lines_of_code > 0].lines_of_code.mean()\n",
    "mx = cell_stats_df.lines_of_code.max()\n",
    "\n",
    "print(\"{0}% of notebooks have no code. Among notebooks with code, there is an average of {1} lines of code per notebook. The median is {2} lines. The most is {3:,} lines.\".format(\n",
    "    round(100*prop_0, 2),  round(mean, 2), int(med), int(mx)\n",
    "))"
   ]
  },
  {
   "cell_type": "code",
   "execution_count": 10,
   "metadata": {},
   "outputs": [
    {
     "data": {
      "image/png": "[encoded data removed]",
      "text/plain": [
       "<Figure size 720x288 with 3 Axes>"
      ]
     },
     "metadata": {
      "needs_background": "light"
     },
     "output_type": "display_data"
    }
   ],
   "source": [
    "fig = plt.figure(figsize = (10, 4))\n",
    "plt.subplot(1,3,1)\n",
    "plt.hist(cell_stats_df['num_cells'], density = True, bins = 15, color = 'teal')\n",
    "plt.xlabel('Number of Cells')\n",
    "plt.ylabel('Proportion of Notebooks')\n",
    "plt.yscale('log')\n",
    "plt.ylim(10**-10, 0.5)\n",
    "plt.title('Cells per Notebook')\n",
    "\n",
    "plt.subplot(1,3,2)\n",
    "plt.hist(cell_stats_df[cell_stats_df.lines_of_code>0].lines_of_code/1000, density = True, bins = 100, color = 'teal')\n",
    "plt.title('Lines of Code per Notebook')\n",
    "plt.xlabel('Lines of Code (thousands)')\n",
    "plt.xlim(0, 40)\n",
    "plt.yscale('log')\n",
    "plt.ylim(10**-10, 0.5)\n",
    "\n",
    "plt.subplot(1,3,3)\n",
    "plt.hist(cell_stats_df[cell_stats_df.num_words>0].num_words/1000, density = True, bins = 20, color = 'teal')\n",
    "plt.title('Text Words per Notebook (thousands)')\n",
    "plt.xlabel('Number of Text Words')\n",
    "plt.xlim(0, 100)\n",
    "plt.yscale('log')\n",
    "plt.ylim(10**-10, 0.5)\n",
    "\n",
    "plt.tight_layout()\n",
    "plt.show()"
   ]
  },
  {
   "cell_type": "code",
   "execution_count": 11,
   "metadata": {},
   "outputs": [
    {
     "name": "stdout",
     "output_type": "stream",
     "text": [
      "27.77% of notebooks have no markdown text. Among notebooks with markdown, the average is 550.87 words of text. The median is 194. The notebook with the most markdown has 200,404 words of markdown and can be found at https://github.com/jordanplanders/Thinkful/blob/367bcd6908fd3a96f4ec039f95a82f917e36e54e/Bootcamp/Unit%206/big-data-student-resources/Twitter%20streaming%20challenge.ipynb.\n"
     ]
    }
   ],
   "source": [
    "num_0 = sum(cell_stats_df.num_words == 0)/len(cell_stats_df)\n",
    "med = cell_stats_df[cell_stats_df.num_words > 0].num_words.median()\n",
    "mean = cell_stats_df[cell_stats_df.num_words > 0].num_words.mean()\n",
    "mx = cell_stats_df.num_words.max()\n",
    "\n",
    "print(\"{0}% of notebooks have no markdown text. Among notebooks with markdown, the average is {1} words of text. The median is {2}. The notebook with the most markdown has {3:,} words of markdown and can be found at {4}.\".format(\n",
    "    round(100*num_0, 2), round(mean, 2), int(med), int(mx),\n",
    "    notebooks[notebooks.file == cell_stats_df[cell_stats_df.num_words == mx].file.values[0]].html_url.values[0]\n",
    "))"
   ]
  },
  {
   "cell_type": "markdown",
   "metadata": {},
   "source": [
    "## Distribution of code vs markdown cells across the notebook"
   ]
  },
  {
   "cell_type": "code",
   "execution_count": 12,
   "metadata": {},
   "outputs": [
    {
     "name": "stdout",
     "output_type": "stream",
     "text": [
      "71.75% of notebooks have at least one non-empty markdown cell.\n",
      "97.88% of notebooks have at least one non-empty code cell.\n",
      "0.03% of notebooks have no cells or all empty cells.\n"
     ]
    }
   ],
   "source": [
    "prop_have_markdown = sum(['markdown' in c for c in cell_order_df.cell_type])/len(cell_order_df)\n",
    "prop_have_code = sum(['code' in c for c in cell_order_df.cell_type])/len(cell_order_df)\n",
    "prop_have_none = sum(['markdown' not in c and 'code' not in c for c in cell_order_df.cell_type])/len(cell_order_df)\n",
    "\n",
    "print(\"{0}% of notebooks have at least one non-empty markdown cell.\".format(round(100*prop_have_markdown, 2)))\n",
    "print(\"{0}% of notebooks have at least one non-empty code cell.\".format(round(100*prop_have_code, 2)))\n",
    "print(\"{0}% of notebooks have no cells or all empty cells.\".format(round(100*prop_have_none, 2)))\n"
   ]
  },
  {
   "cell_type": "code",
   "execution_count": 13,
   "metadata": {},
   "outputs": [
    {
     "data": {
      "image/png": "[encoded data removed]",
      "text/plain": [
       "<Figure size 432x288 with 1 Axes>"
      ]
     },
     "metadata": {
      "needs_background": "light"
     },
     "output_type": "display_data"
    }
   ],
   "source": [
    "distribution_df_code = distribution_df[distribution_df.type == 'code']\n",
    "plt.fill_between(\n",
    "    distribution_df_code.place,\n",
    "    0,\n",
    "    distribution_df_code.prop,\n",
    "    color='lightblue'\n",
    ")\n",
    "plt.fill_between(\n",
    "    distribution_df_code.place,\n",
    "    distribution_df_code.prop,\n",
    "    1,\n",
    "    color='slategrey'\n",
    ")\n",
    "\n",
    "plt.text(0.4, 0.82, 'Markdown', color = 'white', fontsize = 12)\n",
    "plt.text(0.44, 0.35, 'Code', fontsize = 12)\n",
    "plt.ylim(0, 1)\n",
    "plt.xlim(0, 1)\n",
    "plt.xlabel('Location in Notebook')\n",
    "plt.ylabel('Proportion of Cells')\n",
    "plt.title('Notebook Organization')\n",
    "plt.show()"
   ]
  },
  {
   "cell_type": "code",
   "execution_count": 14,
   "metadata": {},
   "outputs": [
    {
     "name": "stdout",
     "output_type": "stream",
     "text": [
      "Markdown is more likely to occur at the very beginning of a notebook (53.12% of cells in the first 5% of a given notebook) than it is to occur towards the end (25.82% of cells in the last 5% of a given notebook).\n"
     ]
    }
   ],
   "source": [
    "print(\"Markdown is more likely to occur at the very beginning of a notebook ({0}% of cells in the first 5% of a given notebook) than it is to occur towards the end ({1}% of cells in the last 5% of a given notebook).\".format(\n",
    "    round(100 - 100*distribution_df_code.prop[0], 2), \n",
    "    round(100 - 100*distribution_df_code.prop.iloc[-1], 2)\n",
    "))"
   ]
  },
  {
   "cell_type": "markdown",
   "metadata": {},
   "source": [
    "## Execution order"
   ]
  },
  {
   "cell_type": "code",
   "execution_count": 15,
   "metadata": {},
   "outputs": [
    {
     "name": "stdout",
     "output_type": "stream",
     "text": [
      "25.04% of all notebooks have cells run out of order.\n",
      "\n",
      "84.03% of notebooks have at least one displayed output.\n",
      "29.49% of notebooks with at least one displayed output have cells run out of order.\n"
     ]
    }
   ],
   "source": [
    "counts = pd.Series(cell_order_df.in_order).value_counts()\n",
    "prop_out_order = counts[False] / (counts[False] + counts[True])\n",
    "print(\"{0}% of all notebooks have cells run out of order.\".format(round(100*prop_out_order, 2)))\n",
    "\n",
    "output_df['num_display'] = (output_df.num_execute_result + \n",
    "                            output_df.num_display_data + \n",
    "                            output_df.num_stream)\n",
    "\n",
    "prop_has_display = sum(output_df['num_display'] > 0) / len(output_df)\n",
    "print(\"\\n{0}% of notebooks have at least one displayed output.\".format(round(100*prop_has_display, 2)))\n",
    "\n",
    "cell_order_df_has_display = cell_order_df[cell_order_df.file.isin(\n",
    "    output_df[output_df['num_display'] > 0].file\n",
    ")]\n",
    "counts_has_display = pd.Series(cell_order_df_has_display.in_order).value_counts()\n",
    "prop_out_order_has_display = counts_has_display[False] / (counts_has_display[False] + counts_has_display[True])\n",
    "print(\"{0}% of notebooks with at least one displayed output have cells run out of order.\".format(\n",
    "    round(100*prop_out_order_has_display, 2)\n",
    "))"
   ]
  },
  {
   "cell_type": "markdown",
   "metadata": {},
   "source": [
    "## *Definition* Order"
   ]
  },
  {
   "cell_type": "code",
   "execution_count": 16,
   "metadata": {},
   "outputs": [
    {
     "name": "stdout",
     "output_type": "stream",
     "text": [
      "86.25% of Python 3 notebooks had code that was able to be parsed with the python abstract syntax tree (ast) package.\n"
     ]
    }
   ],
   "source": [
    "statuses_good_df = statuses_df[statuses_df.syntax]\n",
    "print('{0}% of Python 3 notebooks had code that was able to be parsed with the python abstract syntax tree (ast) package.'.format(\n",
    "    round(100*len(statuses_good_df)/len(statuses_df),2)\n",
    "))"
   ]
  },
  {
   "cell_type": "code",
   "execution_count": 17,
   "metadata": {},
   "outputs": [
    {
     "name": "stdout",
     "output_type": "stream",
     "text": [
      "Variables\n",
      "2.72% of notebooks that could be parsed had variables used before they were defined.\n",
      "Of these, there are an average of 1.51 variables used before they were defined.\n",
      "Within notebooks that could be parsed, there are on average 6.38 variables defined that are never used.\n",
      "\n",
      "Functions\n",
      "5.54% of notebooks that could be parsed had functions used before they were defined.\n",
      "Of these, there are an average of 2.01 functions used before they were defined.\n",
      "Within notebooks that could be parsed, there are on average 1.6 functions defined that are never used.\n",
      "\n",
      "Imports\n",
      "1.21% of notebooks that could be parsed had packages used before they were imported.\n",
      "Of these, there are an average of 1.28 packages used before they were imported.\n",
      "Within notebooks that could be parsed, there are on average 3.99 packages imported that are never used.\n",
      "\n",
      "8.8% of notebooks that could be parsed had at least one of these issues.\n"
     ]
    }
   ],
   "source": [
    "print('Variables')\n",
    "print('{0}% of notebooks that could be parsed had variables used before they were defined.'.format(\n",
    "    round(100*sum(statuses_good_df['variable'] > 0) / len(statuses_df), 2)\n",
    "))\n",
    "print('Of these, there are an average of {0} variables used before they were defined.'.format(\n",
    "    round(statuses_good_df[statuses_good_df['variable'] > 0]['variable'].mean(), 2)\n",
    "))\n",
    "print('Within notebooks that could be parsed, there are on average {0} variables defined that are never used.'.format(\n",
    "    round(statuses_good_df['variables_not_used'].mean(), 2)\n",
    "))\n",
    "\n",
    "print('\\nFunctions')\n",
    "print('{0}% of notebooks that could be parsed had functions used before they were defined.'.format(\n",
    "    round(100*sum(statuses_good_df['function'] > 0) / len(statuses_df),2)\n",
    "))\n",
    "print('Of these, there are an average of {0} functions used before they were defined.'.format(\n",
    "    round(statuses_good_df[statuses_good_df['function'] > 0]['function'].mean(), 2)\n",
    "))\n",
    "print('Within notebooks that could be parsed, there are on average {0} functions defined that are never used.'.format(\n",
    "    round(statuses_good_df['functions_not_used'].mean(), 2)\n",
    "))\n",
    "\n",
    "print('\\nImports')\n",
    "print('{0}% of notebooks that could be parsed had packages used before they were imported.'.format(\n",
    "    round(100*sum(statuses_good_df['import'] > 0) / len(statuses_df),2)\n",
    "))\n",
    "print('Of these, there are an average of {0} packages used before they were imported.'.format(\n",
    "    round(statuses_good_df[statuses_good_df['import'] > 0]['import'].mean(), 2)\n",
    "))\n",
    "print('Within notebooks that could be parsed, there are on average {0} packages imported that are never used.'.format(\n",
    "    round(statuses_good_df['imports_not_used'].mean(), 2)\n",
    "))\n",
    "\n",
    "print('\\n{0}% of notebooks that could be parsed had at least one of these issues.'.format(\n",
    "    round(100*sum(np.logical_or(\n",
    "                    np.logical_or(\n",
    "                        statuses_good_df['import'] > 0,\n",
    "                        statuses_good_df['function'] > 0\n",
    "                    ),\n",
    "                    statuses_good_df['variable'] > 0\n",
    "            )) / len(statuses_df), \n",
    "    2\n",
    ")))"
   ]
  },
  {
   "cell_type": "markdown",
   "metadata": {},
   "source": [
    "Look at function definition order within notebooks with at least one user defined function"
   ]
  },
  {
   "cell_type": "code",
   "execution_count": 18,
   "metadata": {},
   "outputs": [],
   "source": [
    "f = open('analysis_data/function_defs.df', 'rb')\n",
    "function_defs_df = pickle.load(f)\n",
    "f.close()"
   ]
  },
  {
   "cell_type": "code",
   "execution_count": 19,
   "metadata": {},
   "outputs": [
    {
     "data": {
      "text/html": [
       "<div>\n",
       "<style scoped>\n",
       "    .dataframe tbody tr th:only-of-type {\n",
       "        vertical-align: middle;\n",
       "    }\n",
       "\n",
       "    .dataframe tbody tr th {\n",
       "        vertical-align: top;\n",
       "    }\n",
       "\n",
       "    .dataframe thead th {\n",
       "        text-align: right;\n",
       "    }\n",
       "</style>\n",
       "<table border=\"1\" class=\"dataframe\">\n",
       "  <thead>\n",
       "    <tr style=\"text-align: right;\">\n",
       "      <th></th>\n",
       "      <th>file</th>\n",
       "      <th>function</th>\n",
       "      <th>parameters</th>\n",
       "    </tr>\n",
       "  </thead>\n",
       "  <tbody>\n",
       "    <tr>\n",
       "      <th>0</th>\n",
       "      <td>0-c00l..Applied-Data-Science..Applied Plotttin...</td>\n",
       "      <td>onclick</td>\n",
       "      <td>1</td>\n",
       "    </tr>\n",
       "    <tr>\n",
       "      <th>1</th>\n",
       "      <td>0-c00l..Applied-Data-Science..Intro to DS..Ass...</td>\n",
       "      <td>answer_one</td>\n",
       "      <td>0</td>\n",
       "    </tr>\n",
       "    <tr>\n",
       "      <th>2</th>\n",
       "      <td>0-c00l..Applied-Data-Science..Intro to DS..Ass...</td>\n",
       "      <td>answer_two</td>\n",
       "      <td>0</td>\n",
       "    </tr>\n",
       "    <tr>\n",
       "      <th>3</th>\n",
       "      <td>0-c00l..Applied-Data-Science..Intro to DS..Ass...</td>\n",
       "      <td>answer_three</td>\n",
       "      <td>0</td>\n",
       "    </tr>\n",
       "    <tr>\n",
       "      <th>4</th>\n",
       "      <td>0-c00l..Applied-Data-Science..Intro to DS..Ass...</td>\n",
       "      <td>answer_four</td>\n",
       "      <td>0</td>\n",
       "    </tr>\n",
       "  </tbody>\n",
       "</table>\n",
       "</div>"
      ],
      "text/plain": [
       "                                                file      function  parameters\n",
       "0  0-c00l..Applied-Data-Science..Applied Plotttin...       onclick           1\n",
       "1  0-c00l..Applied-Data-Science..Intro to DS..Ass...    answer_one           0\n",
       "2  0-c00l..Applied-Data-Science..Intro to DS..Ass...    answer_two           0\n",
       "3  0-c00l..Applied-Data-Science..Intro to DS..Ass...  answer_three           0\n",
       "4  0-c00l..Applied-Data-Science..Intro to DS..Ass...   answer_four           0"
      ]
     },
     "execution_count": 19,
     "metadata": {},
     "output_type": "execute_result"
    }
   ],
   "source": [
    "function_defs_df.head()"
   ]
  },
  {
   "cell_type": "code",
   "execution_count": 20,
   "metadata": {},
   "outputs": [
    {
     "name": "stdout",
     "output_type": "stream",
     "text": [
      "12.53% of notebooks that could be parsed and have at least one user defined function had functions used before they were defined.\n",
      "Of these, there are an average of 1.99 functions used before they were defined.\n",
      "Within notebooks that could be parsed and have at lest one user defined function , there are on average 3.16 functions defined that are never used.\n"
     ]
    }
   ],
   "source": [
    "statuses_good_w_func_df = statuses_good_df[statuses_good_df.file.isin(function_defs_df.file)]\n",
    "print('{0}% of notebooks that could be parsed and have at least one user defined function had functions used before they were defined.'.format(\n",
    "    round(100*sum(statuses_good_w_func_df['function'] > 0) / len(statuses_good_w_func_df),2)\n",
    "))\n",
    "print('Of these, there are an average of {0} functions used before they were defined.'.format(\n",
    "    round(statuses_good_w_func_df[statuses_good_w_func_df['function'] > 0]['function'].mean(), 2)\n",
    "))\n",
    "print('Within notebooks that could be parsed and have at lest one user defined function , there are on average {0} functions defined that are never used.'.format(\n",
    "    round(statuses_good_w_func_df['functions_not_used'].mean(), 2)\n",
    "))"
   ]
  },
  {
   "cell_type": "markdown",
   "metadata": {},
   "source": [
    "Look at import use order within notebooks with at least one import"
   ]
  },
  {
   "cell_type": "code",
   "execution_count": 21,
   "metadata": {},
   "outputs": [
    {
     "name": "stdout",
     "output_type": "stream",
     "text": [
      "0:00:54.439687\n"
     ]
    }
   ],
   "source": [
    "start = datetime.datetime.now()\n",
    "\n",
    "f = open('analysis_data/nb_imports.df','rb')\n",
    "nb_imports_df = pickle.load(f)\n",
    "f.close()\n",
    "\n",
    "end = datetime.datetime.now()\n",
    "print(end - start)"
   ]
  },
  {
   "cell_type": "code",
   "execution_count": 22,
   "metadata": {},
   "outputs": [
    {
     "name": "stdout",
     "output_type": "stream",
     "text": [
      "1.57% of notebooks that could be parsed and had at least one import had packages used before they were imported.\n",
      "Of these, there are an average of 1.28 packages used before they were imported.\n",
      "Within notebooks that could be parsed and had at least one import, there are on average 4.46 packages imported that are never used.\n"
     ]
    }
   ],
   "source": [
    "nb_imports_w_import_df = nb_imports_df[[len(im) > 0 for im in nb_imports_df.imports]]\n",
    "statuses_good_w_import_df = statuses_good_df[statuses_good_df.file.isin(nb_imports_w_import_df.file)]\n",
    "\n",
    "print('{0}% of notebooks that could be parsed and had at least one import had packages used before they were imported.'.format(\n",
    "    round(100*sum(statuses_good_w_import_df['import'] > 0) / len(statuses_good_w_import_df),2)\n",
    "))\n",
    "print('Of these, there are an average of {0} packages used before they were imported.'.format(\n",
    "    round(statuses_good_w_import_df[statuses_good_w_import_df['import'] > 0]['import'].mean(), 2)\n",
    "))\n",
    "print('Within notebooks that could be parsed and had at least one import, there are on average {0} packages imported that are never used.'.format(\n",
    "    round(statuses_good_w_import_df['imports_not_used'].mean(), 2)\n",
    "))"
   ]
  },
  {
   "cell_type": "markdown",
   "metadata": {},
   "source": [
    "## Output"
   ]
  },
  {
   "cell_type": "code",
   "execution_count": 23,
   "metadata": {},
   "outputs": [
    {
     "name": "stdout",
     "output_type": "stream",
     "text": [
      "84.03% of notebooks have at least one output.\n",
      "\n",
      "Breakdown:\n",
      "68.34% of notebooks have at least one stream output.\n",
      "44.73% of notebooks have at least one display output.\n",
      "59.26% of notebooks have at least one execution output.\n"
     ]
    }
   ],
   "source": [
    "prop_at_least_one = sum(\n",
    "    np.logical_or(\n",
    "        np.logical_or(\n",
    "            output_df.num_execute_result > 0, \n",
    "            output_df.num_display_data > 0\n",
    "        ), \n",
    "        output_df.num_stream > 0\n",
    "    )\n",
    ")/len(output_df)\n",
    "print(\"{0}% of notebooks have at least one output.\".format(round(100*prop_at_least_one, 2)))\n",
    "print(\"\\nBreakdown:\")\n",
    "\n",
    "prop_stream = sum(output_df.num_stream > 0)/len(output_df)\n",
    "print(\"{0}% of notebooks have at least one stream output.\".format(round(100*prop_stream, 2)))\n",
    "\n",
    "prop_display = sum(output_df.num_display_data > 0)/len(output_df)\n",
    "print(\"{0}% of notebooks have at least one display output.\".format(round(100*prop_display, 2)))\n",
    "\n",
    "prop_execute = sum(output_df.num_execute_result > 0)/len(output_df)\n",
    "print(\"{0}% of notebooks have at least one execution output.\".format(round(100*prop_execute, 2)))"
   ]
  },
  {
   "cell_type": "markdown",
   "metadata": {},
   "source": [
    "## Repo Descriptions"
   ]
  },
  {
   "cell_type": "code",
   "execution_count": 24,
   "metadata": {},
   "outputs": [
    {
     "name": "stdout",
     "output_type": "stream",
     "text": [
      "54.13% of repositories have descriptions.\n"
     ]
    }
   ],
   "source": [
    "prop_has_desc = sum(~repos.repo_description.isna())/len(repos)\n",
    "\n",
    "print(\"{0}% of repositories have descriptions.\".format(\n",
    "    round(100*prop_has_desc, 2)\n",
    "))"
   ]
  },
  {
   "cell_type": "code",
   "execution_count": 25,
   "metadata": {},
   "outputs": [],
   "source": [
    "repos['processed_content'] = [\n",
    "    re.sub('[^a-zA-Z]',' ',str(c)).replace('\\\\n',' ').replace('#','').replace('`','').lower().split()\n",
    "    for c in repos.repo_description.fillna('')\n",
    "]\n",
    "repo_words = [w for w in \n",
    "         load_data.flatten(repos.processed_content)\n",
    "    if (w.lower() not in stop and\n",
    "        len(w) > 1 and \n",
    "        not (w.startswith('x') and len(w) < 4))]"
   ]
  },
  {
   "cell_type": "code",
   "execution_count": 26,
   "metadata": {},
   "outputs": [
    {
     "name": "stdout",
     "output_type": "stream",
     "text": [
      "The most commonly used words in readmes and repo descriptions are: data, learning, project, python, using, machine, analysis, code, repository, and deep.\n"
     ]
    }
   ],
   "source": [
    "print(\"The most commonly used words in readmes and repo descriptions are: {0}.\".format(\n",
    "    ', '.join(pd.Series(repo_words).value_counts().index[:9]) \n",
    "        + ', and ' \n",
    "        + pd.Series(repo_words).value_counts().index[10]\n",
    "))"
   ]
  },
  {
   "cell_type": "markdown",
   "metadata": {},
   "source": [
    "[Notebook Owners &lt;](3_Owners.ipynb) | [&gt; Collaboration](5_Collaboration.ipynb)"
   ]
  }
 ],
 "metadata": {
  "anaconda-cloud": {},
  "kernelspec": {
   "display_name": "Python 3",
   "language": "python",
   "name": "python3"
  },
  "language_info": {
   "codemirror_mode": {
    "name": "ipython",
    "version": 3
   },
   "file_extension": ".py",
   "mimetype": "text/x-python",
   "name": "python",
   "nbconvert_exporter": "python",
   "pygments_lexer": "ipython3",
   "version": "3.7.3"
  }
 },
 "nbformat": 4,
 "nbformat_minor": 4
}
